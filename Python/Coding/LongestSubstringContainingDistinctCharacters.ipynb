{
  "nbformat": 4,
  "nbformat_minor": 0,
  "metadata": {
    "colab": {
      "name": "LongestSubstringContainingDistinctCharacters.ipynb",
      "provenance": [],
      "collapsed_sections": []
    },
    "kernelspec": {
      "name": "python3",
      "display_name": "Python 3"
    },
    "language_info": {
      "name": "python"
    }
  },
  "cells": [
    {
      "cell_type": "markdown",
      "source": [
        "**Find the longest substring of a string containing distinct characters**\n",
        "\n",
        "1. Input:  findlongestsubstring\n",
        "Output: The longest substring with all distinct characters is dlongest or ubstring\n",
        " \n",
        " \n",
        "2. Input:  longestsubstr\n",
        " \n",
        "Output: The longest substring with all distinct characters is longest\n",
        " \n",
        " \n",
        "3. Input:  abbcdafeegh\n",
        " \n",
        "Output: The longest substring with all distinct characters is bcdafe\n",
        " \n",
        " \n",
        "4. Input:  aaaaaa\n",
        " \n",
        "Output: The longest substring with all distinct characters is a"
      ],
      "metadata": {
        "id": "h4n2tW74DRze"
      }
    },
    {
      "cell_type": "markdown",
      "source": [
        "**Approach** - \n",
        "1. **Loop - Two loops**\n",
        "  \n",
        "  *  start index of window - i in range(len(input))\n",
        "  *  end index of the window - increasing size of window - j in range(i,len(input))    \n",
        "  *  Initially both can start from 0\n",
        "\n",
        "2. **Inside loop** -\n",
        "  *  store length of window.\n",
        "  * add all string in set, check length of set.\n",
        "  * compare with current largest length then store in variable for storing longest substring."
      ],
      "metadata": {
        "id": "g83mSCwVEKm3"
      }
    },
    {
      "cell_type": "code",
      "execution_count": 19,
      "metadata": {
        "id": "-Ezd-pHWDNG9"
      },
      "outputs": [],
      "source": [
        "def findLongestSubstringWithDistinctCharacters(inputStr):\n",
        "  inputLen = len(inputStr)\n",
        "  output = ''\n",
        "  for i in range(inputLen):\n",
        "    for j in range(i,inputLen+1):\n",
        "      tempSet = set()\n",
        "      subStr = inputStr[i:j]\n",
        "      lenSubStr = len(subStr)\n",
        "      set(map(lambda c: tempSet.add(c), subStr))\n",
        "      lenSet = len(tempSet)#aces = map(( lambda x: 'a' + x), inputStr)\n",
        "      if (lenSubStr == lenSet) & (len(output)<lenSubStr):\n",
        "        output = subStr\n",
        "      print(output)"
      ]
    },
    {
      "cell_type": "code",
      "source": [
        "findLongestSubstringWithDistinctCharacters('findlongestsubstring')"
      ],
      "metadata": {
        "id": "fIz4ZvCNP_hD"
      },
      "execution_count": null,
      "outputs": []
    },
    {
      "cell_type": "code",
      "source": [
        "findLongestSubstringWithDistinctCharacters('longestsubstr')"
      ],
      "metadata": {
        "id": "tGGFy_sRWBLz"
      },
      "execution_count": null,
      "outputs": []
    },
    {
      "cell_type": "code",
      "source": [
        "findLongestSubstringWithDistinctCharacters('abbcdafeegh')"
      ],
      "metadata": {
        "id": "BGOR3FmPWCTq"
      },
      "execution_count": null,
      "outputs": []
    },
    {
      "cell_type": "code",
      "source": [
        "findLongestSubstringWithDistinctCharacters('aaaaaa')"
      ],
      "metadata": {
        "id": "OdECTJEgWD36"
      },
      "execution_count": null,
      "outputs": []
    }
  ]
}