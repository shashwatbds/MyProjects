{
  "cells": [
    {
      "cell_type": "markdown",
      "metadata": {
        "id": "k6DCHSGDNQrs"
      },
      "source": [
        "## Tic Tac Toe Game\n",
        "The aim of this exercise is to build a Tic Tac Toe game with fake graphics. We can draw game boards that look like this:\n",
        "--- --- --- \n",
        "|o  |  |  | \n",
        "--- --- --- \n",
        "|   |x |. | \n",
        "--- --- --- \n",
        "|.  |. |. | \n",
        "--- --- ---\n",
        "The game should be able to perform the tasks below\n",
        "1. Draw the Tic Tac Toe game board\n",
        "2. Checking whether a game board has a winner 3. Handle a player move from user input"
      ]
    },
    {
      "cell_type": "code",
      "execution_count": null,
      "metadata": {
        "colab": {
          "background_save": true
        },
        "id": "Zq2E4RkNNdtS"
      },
      "outputs": [],
      "source": [
        "t3Board = {'7': ' ' , '8': ' ' , '9': ' ' ,\n",
        "            '4': ' ' , '5': ' ' , '6': ' ' ,\n",
        "            '1': ' ' , '2': ' ' , '3': ' ' }"
      ]
    },
    {
      "cell_type": "code",
      "execution_count": null,
      "metadata": {
        "id": "BUNd_w_6OkcH"
      },
      "outputs": [],
      "source": [
        "def printBoard(t3Board):\n",
        "    print(t3Board['7'] + '|' + t3Board['8'] + '|' + t3Board['9'])\n",
        "    print('-+-+-')\n",
        "    print(t3Board['4'] + '|' + t3Board['5'] + '|' + t3Board['6'])\n",
        "    print('-+-+-')\n",
        "    print(t3Board['1'] + '|' + t3Board['2'] + '|' + t3Board['3'])"
      ]
    },
    {
      "cell_type": "code",
      "execution_count": null,
      "metadata": {
        "colab": {
          "base_uri": "https://localhost:8080/"
        },
        "id": "JSOAU556OthZ",
        "outputId": "32aa0adc-3770-4263-e5ae-fcc4f7712239"
      },
      "outputs": [
        {
          "name": "stdout",
          "output_type": "stream",
          "text": [
            " | | \n",
            "-+-+-\n",
            " | | \n",
            "-+-+-\n",
            " | | \n"
          ]
        }
      ],
      "source": [
        "printBoard(t3Board)"
      ]
    },
    {
      "cell_type": "code",
      "execution_count": null,
      "metadata": {
        "id": "jO6-GeHoRI8Z"
      },
      "outputs": [],
      "source": [
        "board_keys = []\n",
        "\n",
        "for key in t3Board:\n",
        "    board_keys.append(key)"
      ]
    },
    {
      "cell_type": "code",
      "execution_count": null,
      "metadata": {
        "colab": {
          "base_uri": "https://localhost:8080/"
        },
        "id": "ABsbQ0oYPUmv",
        "outputId": "1fb8b1f3-ba10-4e86-cc49-1ed62f865f4a"
      },
      "outputs": [
        {
          "name": "stdout",
          "output_type": "stream",
          "text": [
            "X| |O\n",
            "-+-+-\n",
            "X| | \n",
            "-+-+-\n",
            "X| |O\n",
            "It's your turn,X.Move to which place?\n"
          ]
        }
      ],
      "source": [
        "def play():\n",
        "\n",
        "    turn = 'X'\n",
        "    count = 0\n",
        "\n",
        "\n",
        "    for i in range(10):\n",
        "        printBoard(t3Board)\n",
        "        print(\"It's your turn,\" + turn + \".Move to which place?\")\n",
        "\n",
        "        move = input()        \n",
        "\n",
        "        if t3Board[move] == ' ':\n",
        "            t3Board[move] = turn\n",
        "            count += 1\n",
        "        else:\n",
        "            print(\"That place is already filled.\\nMove to which place?\")\n",
        "            continue\n",
        "\n",
        "        # Now we will check if player X or O has won,for every move after 5 moves. \n",
        "        if count >= 5:\n",
        "            if t3Board['7'] == t3Board['8'] == t3Board['9'] != ' ': # across the top\n",
        "                printBoard(t3Board)\n",
        "                print(\"\\nGame Over.\\n\")                \n",
        "                print(\" **** \" +turn + \" won. ****\")                \n",
        "                break\n",
        "            elif t3Board['4'] == t3Board['5'] == t3Board['6'] != ' ': # across the middle\n",
        "                printBoard(t3Board)\n",
        "                print(\"\\nGame Over.\\n\")                \n",
        "                print(\" **** \" +turn + \" won. ****\")\n",
        "                break\n",
        "            elif t3Board['1'] == t3Board['2'] == t3Board['3'] != ' ': # across the bottom\n",
        "                printBoard(t3Board)\n",
        "                print(\"\\nGame Over.\\n\")                \n",
        "                print(\" **** \" +turn + \" won. ****\")\n",
        "                break\n",
        "            elif t3Board['1'] == t3Board['4'] == t3Board['7'] != ' ': # down the left side\n",
        "                printBoard(t3Board)\n",
        "                print(\"\\nGame Over.\\n\")                \n",
        "                print(\" **** \" +turn + \" won. ****\")\n",
        "                break\n",
        "            elif t3Board['2'] == t3Board['5'] == t3Board['8'] != ' ': # down the middle\n",
        "                printBoard(t3Board)\n",
        "                print(\"\\nGame Over.\\n\")                \n",
        "                print(\" **** \" +turn + \" won. ****\")\n",
        "                break\n",
        "            elif t3Board['3'] == t3Board['6'] == t3Board['9'] != ' ': # down the right side\n",
        "                printBoard(t3Board)\n",
        "                print(\"\\nGame Over.\\n\")                \n",
        "                print(\" **** \" +turn + \" won. ****\")\n",
        "                break \n",
        "            elif t3Board['7'] == t3Board['5'] == t3Board['3'] != ' ': # diagonal\n",
        "                printBoard(t3Board)\n",
        "                print(\"\\nGame Over.\\n\")                \n",
        "                print(\" **** \" +turn + \" won. ****\")\n",
        "                break\n",
        "            elif t3Board['1'] == t3Board['5'] == t3Board['9'] != ' ': # diagonal\n",
        "                printBoard(t3Board)\n",
        "                print(\"\\nGame Over.\\n\")                \n",
        "                print(\" **** \" +turn + \" won. ****\")\n",
        "                break \n",
        "\n",
        "        # If neither X nor O wins and the board is full, we'll declare the result as 'tie'.\n",
        "        if count == 9:\n",
        "            print(\"\\nGame Over.\\n\")                \n",
        "            print(\"It's a Tie!!\")\n",
        "\n",
        "        # Now we have to change the player after every move.\n",
        "        if turn =='X':\n",
        "            turn = 'O'\n",
        "        else:\n",
        "            turn = 'X'        \n",
        "    \n",
        "    # Now we will ask if player wants to restart the game or not.\n",
        "    restart = input(\"Do want to play Again?(y/n)\")\n",
        "    if restart == \"y\" or restart == \"Y\":  \n",
        "        for key in board_keys:\n",
        "            t3Board[key] = \" \"\n",
        "\n",
        "        play()\n",
        "\n",
        "if __name__ == \"__main__\":\n",
        "    play()"
      ]
    }
  ],
  "metadata": {
    "colab": {
      "collapsed_sections": [],
      "name": "TicTakToe.ipynb",
      "provenance": []
    },
    "kernelspec": {
      "display_name": "Python 3",
      "name": "python3"
    },
    "language_info": {
      "name": "python"
    }
  },
  "nbformat": 4,
  "nbformat_minor": 0
}