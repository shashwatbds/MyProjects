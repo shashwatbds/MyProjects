{
  "nbformat": 4,
  "nbformat_minor": 0,
  "metadata": {
    "colab": {
      "name": "MakeLongestSequenceOf1s.ipynb",
      "provenance": [],
      "collapsed_sections": []
    },
    "kernelspec": {
      "name": "python3",
      "display_name": "Python 3"
    },
    "language_info": {
      "name": "python"
    }
  },
  "cells": [
    {
      "cell_type": "markdown",
      "source": [
        "**Find the maximum sequence of continuous 1’s formed by replacing at-most `k` zeroes by ones**\n",
        "\n",
        "Input: A[] = { 1, 1, 0, 1, 1, 0, 1, 1, 1, 1, 0, 0 }\n",
        " \n",
        " \n",
        "1. For k = 0,\n",
        "The length of the longest sequence is 4 (from index 6 to 9)\n",
        " \n",
        "2. For k = 1,\n",
        "The length of the longest sequence is 7 (from index 3 to 9)\n",
        " \n",
        "3. For k = 2,\n",
        "The length of the longest sequence is 10 (from index 0 to 9)\n",
        " \n",
        "4. For k = 3,\n",
        "The length of the longest sequence is 11 (from index 0 to 10)"
      ],
      "metadata": {
        "id": "hKGsFvofXuoh"
      }
    },
    {
      "cell_type": "markdown",
      "source": [
        "**Approach**\n",
        "1. find largest sequence of 1s with k missing 1s"
      ],
      "metadata": {
        "id": "2Xgq0Cxga1xR"
      }
    },
    {
      "cell_type": "code",
      "execution_count": 16,
      "metadata": {
        "id": "aElcJ8JdXo0P"
      },
      "outputs": [],
      "source": [
        "def buildLargestSequenceOf1s(inputArr, k):\n",
        "  left = 0\n",
        "  count = 0\n",
        "  window = 0\n",
        "\n",
        "  leftIndex = 0\n",
        "\n",
        "  for right in range(len(inputArr)):\n",
        "    if inputArr[right] == 0:\n",
        "      count +=1\n",
        "\n",
        "    while count > k:\n",
        "      if inputArr[left] == 0:\n",
        "        count = count-1\n",
        "\n",
        "      left +=1\n",
        "\n",
        "    if right - left +1 > window:\n",
        "      window = right - left +1\n",
        "      leftIndex = left\n",
        "\n",
        "  if window ==0:\n",
        "    return\n",
        " \n",
        "  # print the maximum sequence of continuous 1's\n",
        "  print(\"The longest sequence has length\", window, \"from index\",\n",
        "      leftIndex, \"to\", (leftIndex + window - 1))\n"
      ]
    },
    {
      "cell_type": "code",
      "source": [
        "inputArr = [1, 1, 0, 1, 1, 0, 1, 1, 1, 1, 0, 0 ]"
      ],
      "metadata": {
        "id": "Nk6LXpTMin9a"
      },
      "execution_count": 17,
      "outputs": []
    },
    {
      "cell_type": "code",
      "source": [
        "buildLargestSequenceOf1s(inputArr,0)"
      ],
      "metadata": {
        "colab": {
          "base_uri": "https://localhost:8080/"
        },
        "id": "VsP_ZS3Yiy5Z",
        "outputId": "627813b8-4024-493a-bafd-1872f4a702d4"
      },
      "execution_count": 22,
      "outputs": [
        {
          "output_type": "stream",
          "name": "stdout",
          "text": [
            "The longest sequence has length 4 from index 6 to 9\n"
          ]
        }
      ]
    },
    {
      "cell_type": "code",
      "source": [
        "buildLargestSequenceOf1s(inputArr,1)"
      ],
      "metadata": {
        "colab": {
          "base_uri": "https://localhost:8080/"
        },
        "id": "HDAKJzx2pvnc",
        "outputId": "d07f2c82-8ffd-4d8a-92a8-29b3a412d1bc"
      },
      "execution_count": 19,
      "outputs": [
        {
          "output_type": "stream",
          "name": "stdout",
          "text": [
            "The longest sequence has length 7 from index 3 to 9\n"
          ]
        }
      ]
    },
    {
      "cell_type": "code",
      "source": [
        "buildLargestSequenceOf1s(inputArr,2)"
      ],
      "metadata": {
        "colab": {
          "base_uri": "https://localhost:8080/"
        },
        "id": "882pAswbpwar",
        "outputId": "472c22d4-d79d-446b-a3d4-5af7c10418ec"
      },
      "execution_count": 20,
      "outputs": [
        {
          "output_type": "stream",
          "name": "stdout",
          "text": [
            "The longest sequence has length 10 from index 0 to 9\n"
          ]
        }
      ]
    },
    {
      "cell_type": "code",
      "source": [
        "buildLargestSequenceOf1s(inputArr,3)"
      ],
      "metadata": {
        "colab": {
          "base_uri": "https://localhost:8080/"
        },
        "id": "O09OyDzNpz4z",
        "outputId": "29bb2f49-518a-4140-91a0-3daf8378a577"
      },
      "execution_count": 21,
      "outputs": [
        {
          "output_type": "stream",
          "name": "stdout",
          "text": [
            "The longest sequence has length 11 from index 0 to 10\n"
          ]
        }
      ]
    }
  ]
}