{
  "nbformat": 4,
  "nbformat_minor": 0,
  "metadata": {
    "colab": {
      "name": "CowsAndBulls.ipynb",
      "provenance": [],
      "collapsed_sections": []
    },
    "kernelspec": {
      "name": "python3",
      "display_name": "Python 3"
    },
    "language_info": {
      "name": "python"
    }
  },
  "cells": [
    {
      "cell_type": "markdown",
      "source": [
        "## Cows And Bulls\n",
        "Create a program that will play the “cows and bulls” game with the user. The game works like this:\n",
        "\n",
        "\n",
        "\n",
        "*   Randomly generate a 4-digit number. \n",
        "*   Ask the user to guess a 4-digit number. \n",
        "*   For every digit that the user guessed correctly in the correct place, they have a “cow”. \n",
        "*   For every digit the user guessed correctly in the wrong place is a “bull”.\n",
        "*   Every time the user makes a guess, tell them how many “cows” and “bulls” they have.\n",
        "*   Once the user guesses the correct number, the game is over.\n",
        "*   Keep track of the number of guesses the user makes throughout thegame and tell the user at the end.\n"
      ],
      "metadata": {
        "id": "kLznjIDY817L"
      }
    },
    {
      "cell_type": "code",
      "source": [
        "import random\n",
        "\n",
        "def count_digits(number):\n",
        "  count = 0 \n",
        "  while(number>0):\n",
        "    count = count + 1\n",
        "    number=number//10\n",
        "  return count\n",
        "  \n",
        "def main():\n",
        "  number = random.randint(1000,9999)\n",
        "  digit_count = count_digits(number)\n",
        "  print(number)\n",
        "  str_number = str(number)\n",
        "  cow = 0\n",
        "  bull = 0\n",
        "  for i in str_number:\n",
        "    user_guess = int(input(\"Guess the digit\"))\n",
        "    if(user_guess == int(i)):\n",
        "      cow = cow+1\n",
        "    else:\n",
        "      bull = bull +1\n",
        "  print(\"Number of cows are {} and the number of bulls are {}\".format(cow,bull))\n",
        "if __name__ == \"__main__\":\n",
        "    main()"
      ],
      "metadata": {
        "id": "s08LxIGv9MPm",
        "colab": {
          "base_uri": "https://localhost:8080/"
        },
        "outputId": "6d7cb026-3895-4e44-d052-7255627d0ab0"
      },
      "execution_count": 3,
      "outputs": [
        {
          "output_type": "stream",
          "name": "stdout",
          "text": [
            "8818\n",
            "Guess the digit4\n",
            "Guess the digit5\n",
            "Guess the digit1\n",
            "Guess the digit2\n",
            "Number of cows are 1 and the number of bulls are 3\n"
          ]
        }
      ]
    }
  ]
}