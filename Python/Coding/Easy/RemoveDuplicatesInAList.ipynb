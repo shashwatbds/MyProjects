{
  "nbformat": 4,
  "nbformat_minor": 0,
  "metadata": {
    "colab": {
      "name": "RemoveDuplicatesInAList.ipynb",
      "provenance": []
    },
    "kernelspec": {
      "name": "python3",
      "display_name": "Python 3"
    },
    "language_info": {
      "name": "python"
    }
  },
  "cells": [
    {
      "cell_type": "markdown",
      "source": [
        "## Remove Duplicates in a List:\n",
        "Write  a  program  (function!)  that  takes  a  list  and  returns  a  new  list  that  contains  all  the elements of the first list minus all the duplicates.\n",
        "\n",
        "Extras:\n",
        "Write two different functions to do this -\n",
        "\n",
        "1) Using a loop and constructing a list, \n",
        "\n",
        "2) Using sets."
      ],
      "metadata": {
        "id": "_6iKJPEd43yV"
      }
    },
    {
      "cell_type": "code",
      "source": [
        "def removeDuplicatesUsingLoops(input_list):\n",
        "  new_list = list()\n",
        "  for item in input_list:\n",
        "    if item not in new_list:\n",
        "      new_list.append(item)\n",
        "  return new_list\n",
        "\n",
        "input_list = [1,2,3,4,3,54,6,3,5,1,54,6,7,8,10,11,22,2]\n",
        "print(input_list)\n",
        "print(removeDuplicatesUsingLoops(input_list))\n"
      ],
      "metadata": {
        "colab": {
          "base_uri": "https://localhost:8080/"
        },
        "id": "fjRcFFse449s",
        "outputId": "f1150f79-76ae-4b5a-c5be-80b85df46b18"
      },
      "execution_count": 2,
      "outputs": [
        {
          "output_type": "stream",
          "name": "stdout",
          "text": [
            "[1, 2, 3, 4, 3, 54, 6, 3, 5, 1, 54, 6, 7, 8, 10, 11, 22, 2]\n",
            "[1, 2, 3, 4, 54, 6, 5, 7, 8, 10, 11, 22]\n"
          ]
        }
      ]
    },
    {
      "cell_type": "code",
      "source": [
        "def removeDuplicatesUsingSet(input_list):\n",
        "  new_list = set(input_list)\n",
        "  return list(new_list)\n",
        "\n",
        "input_list = [1,2,3,4,3,54,6,3,5,1,54,6,7,8,10,11,22,2]\n",
        "print(input_list)\n",
        "print(removeDuplicatesUsingLoops(input_list))"
      ],
      "metadata": {
        "colab": {
          "base_uri": "https://localhost:8080/"
        },
        "id": "z5MY-KIm8Ur9",
        "outputId": "f2ff82fd-f819-43ff-ec08-7cb383973a42"
      },
      "execution_count": 3,
      "outputs": [
        {
          "output_type": "stream",
          "name": "stdout",
          "text": [
            "[1, 2, 3, 4, 3, 54, 6, 3, 5, 1, 54, 6, 7, 8, 10, 11, 22, 2]\n",
            "[1, 2, 3, 4, 54, 6, 5, 7, 8, 10, 11, 22]\n"
          ]
        }
      ]
    }
  ]
}