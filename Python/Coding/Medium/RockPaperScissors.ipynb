{
  "nbformat": 4,
  "nbformat_minor": 0,
  "metadata": {
    "colab": {
      "name": "RockPaperScissors.ipynb",
      "provenance": [],
      "collapsed_sections": []
    },
    "kernelspec": {
      "name": "python3",
      "display_name": "Python 3"
    },
    "language_info": {
      "name": "python"
    }
  },
  "cells": [
    {
      "cell_type": "markdown",
      "source": [
        "## Rock-Paper-Scissors game\n",
        "Make a Rock-Paper-Scissors game. Allow the player to play against the computer or another human player. Ask for player to play (using input), compare them, print out a message of congratulations to the winner, and ask if the players want to start a new game).\n",
        "\n",
        "Remember the rules:\n",
        "1. Rock beats scissors \n",
        "\n",
        "2. Scissors beats paper \n",
        "\n",
        "3. Paper beats rock"
      ],
      "metadata": {
        "id": "T-c_pJRgpe5L"
      }
    },
    {
      "cell_type": "code",
      "source": [
        "import random\n",
        "\n",
        "def takeUserInput():\n",
        "  user_input = int(input(\"Rock(1), Paper(2) or Scissors(3) ? \"))\n",
        "  while(user_input < 4):\n",
        "    play(user_input)\n",
        "    user_input = int(input(\"Rock(1), Paper(2) or Scissors(3) ? \"))\n",
        "\n",
        "\n",
        "def play(user_input):\n",
        "  bot_choice = random.randint(1, 3)\n",
        "  print(\"Your Choice is {} and Computer Choice {}\".format(user_input, bot_choice))\n",
        "  if (user_input == 1 and bot_choice == 2) or (user_input == 2 and bot_choice== 3) or (user_input == 3 and bot_choice == 1):\n",
        "    print(\"You lose\")\n",
        "  elif (user_input == 1 and bot_choice == 3) or (user_input == 2 and bot_choice == 1) or ( user_input == 3 and bot_choice == 2):\n",
        "    print(\"You win\")\n",
        "  elif (user_input == bot_choice):\n",
        "    print(\"It's a Tie\")\n",
        "\n",
        "\n",
        "def main():\n",
        "  print(\"Code for Rock = 1, Paper = 2, Scissors = 3 or Exit = 4\")\n",
        "  takeUserInput()\n",
        "\n",
        "if __name__ == \"__main__\":\n",
        "    main()\n"
      ],
      "metadata": {
        "colab": {
          "base_uri": "https://localhost:8080/"
        },
        "id": "NRYRk22kpjD4",
        "outputId": "c5478b3d-d502-4a7c-a78f-ec743ee10089"
      },
      "execution_count": 22,
      "outputs": [
        {
          "name": "stdout",
          "output_type": "stream",
          "text": [
            "Code for Rock = 1, Paper = 2, Scissors = 3 or Exit = 4\n",
            "Rock(1), Paper(2) or Scissors(3) ? 2\n",
            "Your Choice is 2 and Computer Choice 3\n",
            "You lose\n",
            "Rock(1), Paper(2) or Scissors(3) ? 3\n",
            "Your Choice is 3 and Computer Choice 3\n",
            "It's a Tie\n",
            "Rock(1), Paper(2) or Scissors(3) ? 1\n",
            "Your Choice is 1 and Computer Choice 3\n",
            "You win\n",
            "Rock(1), Paper(2) or Scissors(3) ? 2\n",
            "Your Choice is 2 and Computer Choice 3\n",
            "You lose\n",
            "Rock(1), Paper(2) or Scissors(3) ? 3\n",
            "Your Choice is 3 and Computer Choice 1\n",
            "You lose\n",
            "Rock(1), Paper(2) or Scissors(3) ? 4\n"
          ]
        }
      ]
    }
  ]
}