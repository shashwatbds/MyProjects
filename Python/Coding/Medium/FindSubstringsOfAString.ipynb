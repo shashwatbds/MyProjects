{
  "nbformat": 4,
  "nbformat_minor": 0,
  "metadata": {
    "colab": {
      "name": "FindSubstringsOfAString.ipynb",
      "provenance": []
    },
    "kernelspec": {
      "name": "python3",
      "display_name": "Python 3"
    },
    "language_info": {
      "name": "python"
    }
  },
  "cells": [
    {
      "cell_type": "markdown",
      "source": [
        "**Find all substrings of a string that are a permutation of another string**\n",
        "\n",
        "1. Input 1 - 'XYYZXZYZXXYZ'\n",
        "2. Input 2 - 'XYZ'\n",
        "\n",
        "Output - \n",
        "1. Anagram 'YZX' present at index 2\n",
        "2. Anagram 'XZY' present at index 4\n",
        "3. Anagram 'YZX' present at index 6\n",
        "4. Anagram 'XYZ' present at index 9"
      ],
      "metadata": {
        "id": "VcOSM5A6-tp1"
      }
    },
    {
      "cell_type": "markdown",
      "source": [
        "Approach - \n",
        "Sliding Window Size - 3\n",
        "Start from index 0 or input 1 and move it one by one.\n",
        "loop size - range(len(input1)-3)\n",
        "track dict of index and string present. \n",
        "How to match ?\n",
        "sort both window contents and input 2 and check if they are equal, if they are then add to dict."
      ],
      "metadata": {
        "id": "08aXBDgD_Ezt"
      }
    },
    {
      "cell_type": "code",
      "execution_count": 19,
      "metadata": {
        "id": "TJ4-Y1zn-n_F"
      },
      "outputs": [],
      "source": [
        "def findSubstringIndexes(sourceString, searchString):\n",
        "  searchSorted = ''.join(sorted(searchString))\n",
        "  outputDict = dict() \n",
        "  for i in range(len(sourceString)-2):\n",
        "    windowContent =''.join(sorted(sourceString[i:i+3]))\n",
        "    if windowContent == searchSorted:\n",
        "      outputDict[i] =sourceString[i:i+3]\n",
        "  return outputDict"
      ]
    },
    {
      "cell_type": "code",
      "source": [
        "print(findSubstringIndexes('XYYZXZYZXXYZ','XYZ'))"
      ],
      "metadata": {
        "colab": {
          "base_uri": "https://localhost:8080/"
        },
        "id": "z3jfsK1nAxjx",
        "outputId": "d7307e5a-482a-4615-9841-c3ffef94883f"
      },
      "execution_count": 20,
      "outputs": [
        {
          "output_type": "stream",
          "name": "stdout",
          "text": [
            "{2: 'YZX', 4: 'XZY', 6: 'YZX', 9: 'XYZ'}\n"
          ]
        }
      ]
    }
  ]
}