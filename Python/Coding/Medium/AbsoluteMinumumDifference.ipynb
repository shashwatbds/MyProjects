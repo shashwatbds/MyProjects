{
  "nbformat": 4,
  "nbformat_minor": 0,
  "metadata": {
    "colab": {
      "name": "AbsoluteMinumumDifference.ipynb",
      "provenance": []
    },
    "kernelspec": {
      "name": "python3",
      "display_name": "Python 3"
    },
    "language_info": {
      "name": "python"
    }
  },
  "cells": [
    {
      "cell_type": "markdown",
      "source": [
        "Find absolute minimum difference between two numbers from an given array of integers. Print number with the difference in ascending order.\n",
        "\n",
        "Input Array: [6,2,4,10]\n",
        "\n",
        "output: 2 4\n",
        "        4 6"
      ],
      "metadata": {
        "id": "2h0nQPguzjdk"
      }
    },
    {
      "cell_type": "markdown",
      "source": [
        "Hint: Sort the Array, add elements in Set then find difference."
      ],
      "metadata": {
        "id": "9DT8UY5d3tjy"
      }
    },
    {
      "cell_type": "code",
      "execution_count": 1,
      "metadata": {
        "id": "g7iI45Xkzf-w"
      },
      "outputs": [],
      "source": [
        "def findAbsoluteDifference(inputArr):\n",
        "  lower = []\n",
        "  upper = []\n",
        "  #sortedInputArr = sorted(inputArr)\n",
        "  inputArr = sorted(inputArr)\n",
        "\n",
        "  #minimumDiff = inputArr[len(sortedInputArr)-1] - sortedInputArr[0] \n",
        "  minimumDiff = inputArr[len(inputArr)-1] - inputArr[0]\n",
        "  #print(f'Input Array {inputArr}')\n",
        "  for i in range(len(inputArr)):\n",
        "    #print(f'Minimum Difference {minimumDiff}')\n",
        "    for j in range(i+1,len(inputArr)):\n",
        "      diff = abs(inputArr[j] - inputArr[i])\n",
        "      #print(f'Diff for i={i} and j={j} is {diff}')\n",
        "      if diff < minimumDiff:\n",
        "        #print(f'Diff {diff} is less than prev min diff {minimumDiff}')\n",
        "        minimumDiff=diff\n",
        "        lower.clear()\n",
        "        upper.clear()\n",
        "        lower.append(inputArr[i])\n",
        "        upper.append(inputArr[j])\n",
        "      elif diff==minimumDiff:\n",
        "        #print(f'Diff {diff} is same as prev min diff {minimumDiff}')\n",
        "        lower.append(inputArr[i])\n",
        "        upper.append(inputArr[j])\n",
        "  print(f'minimum diff is {minimumDiff}, lower index is {lower} and upper index is {upper}')\n",
        "  printResult(lower,upper,minimumDiff,inputArr)\n"
      ]
    },
    {
      "cell_type": "code",
      "source": [
        "def printResult(lower, upper, minDiff, inputArr):\n",
        "  for i in range(len(lower)):\n",
        "    print(f'{lower[i]} {upper[i]}')\n",
        "    print('\\n')"
      ],
      "metadata": {
        "id": "ZsAAd5KZZFby"
      },
      "execution_count": 2,
      "outputs": []
    },
    {
      "cell_type": "code",
      "source": [
        "inputArr=[6,2,4,10]\n",
        "findAbsoluteDifference(inputArr)"
      ],
      "metadata": {
        "id": "Pm3u4wVRZGRj",
        "outputId": "82c83c76-7c6d-4696-8e0f-447666fb3a4a",
        "colab": {
          "base_uri": "https://localhost:8080/"
        }
      },
      "execution_count": 3,
      "outputs": [
        {
          "output_type": "stream",
          "name": "stdout",
          "text": [
            "minimum diff is 2, lower index is [2, 4] and upper index is [4, 6]\n",
            "2 4\n",
            "\n",
            "\n",
            "4 6\n",
            "\n",
            "\n"
          ]
        }
      ]
    }
  ]
}