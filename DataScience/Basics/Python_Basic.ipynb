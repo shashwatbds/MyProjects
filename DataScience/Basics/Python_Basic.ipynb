{
  "nbformat": 4,
  "nbformat_minor": 0,
  "metadata": {
    "colab": {
      "name": "Python Basic.ipynb",
      "provenance": [],
      "collapsed_sections": []
    },
    "kernelspec": {
      "name": "python3",
      "display_name": "Python 3"
    },
    "language_info": {
      "name": "python"
    }
  },
  "cells": [
    {
      "cell_type": "code",
      "metadata": {
        "id": "kkNo6yoKHxpT"
      },
      "source": [
        "collection = (list(range(0,100)))"
      ],
      "execution_count": 225,
      "outputs": []
    },
    {
      "cell_type": "code",
      "metadata": {
        "colab": {
          "base_uri": "https://localhost:8080/"
        },
        "id": "gLnoIRhi6U_V",
        "outputId": "5dbad670-22c6-4c17-9be1-e7434ffb3749"
      },
      "source": [
        "my_list1 = list((1, 2, 3))\n",
        "print(my_list1)\n"
      ],
      "execution_count": 226,
      "outputs": [
        {
          "output_type": "stream",
          "name": "stdout",
          "text": [
            "[1, 2, 3]\n"
          ]
        }
      ]
    },
    {
      "cell_type": "code",
      "metadata": {
        "colab": {
          "base_uri": "https://localhost:8080/"
        },
        "id": "1UXpai456da6",
        "outputId": "277ce5c8-ea62-44e4-f56b-3627657c518b"
      },
      "source": [
        "my_list2 = [1, 2, 3]\n",
        "print(my_list2)"
      ],
      "execution_count": 227,
      "outputs": [
        {
          "output_type": "stream",
          "name": "stdout",
          "text": [
            "[1, 2, 3]\n"
          ]
        }
      ]
    },
    {
      "cell_type": "code",
      "metadata": {
        "colab": {
          "base_uri": "https://localhost:8080/"
        },
        "id": "sKHXaMPMQeO_",
        "outputId": "197f9742-1307-4066-8935-14ff7d4ad6c9"
      },
      "source": [
        "my_list2.append(4)\n",
        "print(my_list2)"
      ],
      "execution_count": 228,
      "outputs": [
        {
          "output_type": "stream",
          "name": "stdout",
          "text": [
            "[1, 2, 3, 4]\n"
          ]
        }
      ]
    },
    {
      "cell_type": "code",
      "metadata": {
        "colab": {
          "base_uri": "https://localhost:8080/"
        },
        "id": "XEQAYVF6SGw0",
        "outputId": "252aecac-95bc-4115-b969-e843b6af5dc4"
      },
      "source": [
        "my_list2.insert(2,5)\n",
        "print(my_list2)"
      ],
      "execution_count": 229,
      "outputs": [
        {
          "output_type": "stream",
          "name": "stdout",
          "text": [
            "[1, 2, 5, 3, 4]\n"
          ]
        }
      ]
    },
    {
      "cell_type": "code",
      "metadata": {
        "colab": {
          "base_uri": "https://localhost:8080/"
        },
        "id": "sx9R9EhF9Nr6",
        "outputId": "2773f94b-386e-4fda-dec4-0c9d25c36f7f"
      },
      "source": [
        "print(my_list2)\n",
        "my_list2[1:] = [9,8]\n",
        "print(my_list2)"
      ],
      "execution_count": 230,
      "outputs": [
        {
          "output_type": "stream",
          "name": "stdout",
          "text": [
            "[1, 2, 5, 3, 4]\n",
            "[1, 9, 8]\n"
          ]
        }
      ]
    },
    {
      "cell_type": "code",
      "metadata": {
        "colab": {
          "base_uri": "https://localhost:8080/"
        },
        "id": "Y4eqbv4XUFHC",
        "outputId": "b072d494-9b85-4f4d-f255-973983889707"
      },
      "source": [
        "my_list1.extend(my_list2)\n",
        "print(my_list1)\n",
        "my_list1[1:3] = [20,30,40]\n",
        "print(my_list1)\n"
      ],
      "execution_count": 231,
      "outputs": [
        {
          "output_type": "stream",
          "name": "stdout",
          "text": [
            "[1, 2, 3, 1, 9, 8]\n",
            "[1, 20, 30, 40, 1, 9, 8]\n"
          ]
        }
      ]
    },
    {
      "cell_type": "code",
      "metadata": {
        "colab": {
          "base_uri": "https://localhost:8080/"
        },
        "id": "3h1SBFQAUtMw",
        "outputId": "ad236d30-71fe-4c02-eb0d-084fe26eeb0c"
      },
      "source": [
        "my_list1.sort()\n",
        "print(my_list1)\n",
        "my_list1.reverse()\n",
        "print(my_list1)\n",
        "print(max(my_list1))\n",
        "print(sum(my_list1))\n",
        "print(all(my_list1))"
      ],
      "execution_count": 232,
      "outputs": [
        {
          "output_type": "stream",
          "name": "stdout",
          "text": [
            "[1, 1, 8, 9, 20, 30, 40]\n",
            "[40, 30, 20, 9, 8, 1, 1]\n",
            "40\n",
            "109\n",
            "True\n"
          ]
        }
      ]
    },
    {
      "cell_type": "code",
      "metadata": {
        "colab": {
          "base_uri": "https://localhost:8080/"
        },
        "id": "p1WHLmVnKyyH",
        "outputId": "b0621355-e018-4581-c07f-9e3e9637a4bd"
      },
      "source": [
        "print(my_list1[0])\n",
        "print(my_list1[-3])\n",
        "print(my_list1[len(my_list1)-1])"
      ],
      "execution_count": 233,
      "outputs": [
        {
          "output_type": "stream",
          "name": "stdout",
          "text": [
            "40\n",
            "8\n",
            "1\n"
          ]
        }
      ]
    },
    {
      "cell_type": "code",
      "metadata": {
        "colab": {
          "base_uri": "https://localhost:8080/"
        },
        "id": "oMCw_R106kHz",
        "outputId": "0450b5c1-7345-44b2-fa99-4b06e6b912c8"
      },
      "source": [
        "my_list3 = [1.0, 'Jessa', 3]\n",
        "print(my_list3)\n",
        "# Output [1.0, 'Jessa', 3]\n",
        "\n",
        "# empty list using list()\n",
        "my_list4 = list()\n",
        "print(my_list4)\n",
        "# Output []\n",
        "\n",
        "# empty list using []\n",
        "my_list5 = []\n",
        "print(my_list4)"
      ],
      "execution_count": 234,
      "outputs": [
        {
          "output_type": "stream",
          "name": "stdout",
          "text": [
            "[1.0, 'Jessa', 3]\n",
            "[]\n",
            "[]\n"
          ]
        }
      ]
    },
    {
      "cell_type": "code",
      "metadata": {
        "colab": {
          "base_uri": "https://localhost:8080/"
        },
        "id": "36KrtFQMt4NB",
        "outputId": "92939ad9-d51d-4224-e8a5-ff775a434de5"
      },
      "source": [
        "print(collection)"
      ],
      "execution_count": 235,
      "outputs": [
        {
          "output_type": "stream",
          "name": "stdout",
          "text": [
            "[0, 1, 2, 3, 4, 5, 6, 7, 8, 9, 10, 11, 12, 13, 14, 15, 16, 17, 18, 19, 20, 21, 22, 23, 24, 25, 26, 27, 28, 29, 30, 31, 32, 33, 34, 35, 36, 37, 38, 39, 40, 41, 42, 43, 44, 45, 46, 47, 48, 49, 50, 51, 52, 53, 54, 55, 56, 57, 58, 59, 60, 61, 62, 63, 64, 65, 66, 67, 68, 69, 70, 71, 72, 73, 74, 75, 76, 77, 78, 79, 80, 81, 82, 83, 84, 85, 86, 87, 88, 89, 90, 91, 92, 93, 94, 95, 96, 97, 98, 99]\n"
          ]
        }
      ]
    },
    {
      "cell_type": "code",
      "metadata": {
        "id": "BREtEuszwi38"
      },
      "source": [
        "evenNumbers = (list(range(0,100,2)))"
      ],
      "execution_count": 236,
      "outputs": []
    },
    {
      "cell_type": "code",
      "metadata": {
        "colab": {
          "base_uri": "https://localhost:8080/"
        },
        "id": "Tm7UHQGnVXQP",
        "outputId": "b87d510f-35dd-44c7-d762-099c881c3aa7"
      },
      "source": [
        "my_list6= list([1,2,3,4,3])\n",
        "print(my_list6)"
      ],
      "execution_count": 237,
      "outputs": [
        {
          "output_type": "stream",
          "name": "stdout",
          "text": [
            "[1, 2, 3, 4, 3]\n"
          ]
        }
      ]
    },
    {
      "cell_type": "code",
      "metadata": {
        "colab": {
          "base_uri": "https://localhost:8080/"
        },
        "id": "mCsRENi4Xn3Y",
        "outputId": "e89424a4-7c90-4972-dbcc-58eac7135003"
      },
      "source": [
        "my_list6.remove(3)\n",
        "print(my_list6)\n"
      ],
      "execution_count": 238,
      "outputs": [
        {
          "output_type": "stream",
          "name": "stdout",
          "text": [
            "[1, 2, 4, 3]\n"
          ]
        }
      ]
    },
    {
      "cell_type": "code",
      "metadata": {
        "colab": {
          "base_uri": "https://localhost:8080/"
        },
        "id": "M-WLvVsMX_tx",
        "outputId": "09daa05c-1e52-486f-c889-11fe7f0f9b1a"
      },
      "source": [
        "my_list6.pop(0)\n",
        "print(my_list6)"
      ],
      "execution_count": 239,
      "outputs": [
        {
          "output_type": "stream",
          "name": "stdout",
          "text": [
            "[2, 4, 3]\n"
          ]
        }
      ]
    },
    {
      "cell_type": "code",
      "metadata": {
        "id": "jmJjzBVdYFD6"
      },
      "source": [
        "#my_list6.clear()\n",
        "#print(my_list6)"
      ],
      "execution_count": 240,
      "outputs": []
    },
    {
      "cell_type": "code",
      "metadata": {
        "id": "zsHvOjIuYJqf"
      },
      "source": [
        "#del my_list6\n"
      ],
      "execution_count": 241,
      "outputs": []
    },
    {
      "cell_type": "code",
      "metadata": {
        "id": "YuJR4EsXaME1",
        "colab": {
          "base_uri": "https://localhost:8080/"
        },
        "outputId": "41d1b1db-433e-43e4-d045-54a75d00ed92"
      },
      "source": [
        "my_list6.count(1)\n",
        "my_list6.index(3)"
      ],
      "execution_count": 242,
      "outputs": [
        {
          "output_type": "execute_result",
          "data": {
            "text/plain": [
              "2"
            ]
          },
          "metadata": {},
          "execution_count": 242
        }
      ]
    },
    {
      "cell_type": "code",
      "metadata": {
        "id": "u5ph6EeGgGFK",
        "colab": {
          "base_uri": "https://localhost:8080/"
        },
        "outputId": "cbc0cae5-3b82-47c2-ea25-9bf7c08e5f9a"
      },
      "source": [
        "my_list7 = [5,9,2,4,7,10]\n",
        "output_list = [number*2 for number in my_list7 if number%2==0]\n",
        "print(output_list)\n"
      ],
      "execution_count": 243,
      "outputs": [
        {
          "output_type": "stream",
          "name": "stdout",
          "text": [
            "[4, 8, 20]\n"
          ]
        }
      ]
    },
    {
      "cell_type": "code",
      "metadata": {
        "id": "RSh2Nvxzwp4U",
        "colab": {
          "base_uri": "https://localhost:8080/"
        },
        "outputId": "f51dbb53-66a4-4d89-bd4b-7abb63990f8b"
      },
      "source": [
        "print(evenNumbers)"
      ],
      "execution_count": 244,
      "outputs": [
        {
          "output_type": "stream",
          "name": "stdout",
          "text": [
            "[0, 2, 4, 6, 8, 10, 12, 14, 16, 18, 20, 22, 24, 26, 28, 30, 32, 34, 36, 38, 40, 42, 44, 46, 48, 50, 52, 54, 56, 58, 60, 62, 64, 66, 68, 70, 72, 74, 76, 78, 80, 82, 84, 86, 88, 90, 92, 94, 96, 98]\n"
          ]
        }
      ]
    },
    {
      "cell_type": "code",
      "metadata": {
        "colab": {
          "base_uri": "https://localhost:8080/"
        },
        "id": "eKlaoIfXOsZs",
        "outputId": "bb3d1a41-b409-4cc8-9e09-eb3cb8ef9fac"
      },
      "source": [
        "evenNumbers[29]"
      ],
      "execution_count": 245,
      "outputs": [
        {
          "output_type": "execute_result",
          "data": {
            "text/plain": [
              "58"
            ]
          },
          "metadata": {},
          "execution_count": 245
        }
      ]
    },
    {
      "cell_type": "code",
      "metadata": {
        "colab": {
          "base_uri": "https://localhost:8080/"
        },
        "id": "KBPpsBNmxH4-",
        "outputId": "d018e092-04f9-4aae-da19-718059e999d0"
      },
      "source": [
        "evenNumbers[0:30:4]"
      ],
      "execution_count": 246,
      "outputs": [
        {
          "output_type": "execute_result",
          "data": {
            "text/plain": [
              "[0, 8, 16, 24, 32, 40, 48, 56]"
            ]
          },
          "metadata": {},
          "execution_count": 246
        }
      ]
    },
    {
      "cell_type": "code",
      "metadata": {
        "colab": {
          "base_uri": "https://localhost:8080/"
        },
        "id": "K2J1bZ5dxkIo",
        "outputId": "e9f08cc2-501c-4826-e0a1-f534df2b2f26"
      },
      "source": [
        "for i in evenNumbers[5:10:2]:\n",
        "  print(i)"
      ],
      "execution_count": 247,
      "outputs": [
        {
          "output_type": "stream",
          "name": "stdout",
          "text": [
            "10\n",
            "14\n",
            "18\n"
          ]
        }
      ]
    },
    {
      "cell_type": "code",
      "metadata": {
        "id": "ENATbOi2x6Hz",
        "colab": {
          "base_uri": "https://localhost:8080/"
        },
        "outputId": "dc5a8ca7-bafd-42d4-cdad-0ca3447b6313"
      },
      "source": [
        "evenNumbers[50:0:-1]"
      ],
      "execution_count": 248,
      "outputs": [
        {
          "output_type": "execute_result",
          "data": {
            "text/plain": [
              "[98,\n",
              " 96,\n",
              " 94,\n",
              " 92,\n",
              " 90,\n",
              " 88,\n",
              " 86,\n",
              " 84,\n",
              " 82,\n",
              " 80,\n",
              " 78,\n",
              " 76,\n",
              " 74,\n",
              " 72,\n",
              " 70,\n",
              " 68,\n",
              " 66,\n",
              " 64,\n",
              " 62,\n",
              " 60,\n",
              " 58,\n",
              " 56,\n",
              " 54,\n",
              " 52,\n",
              " 50,\n",
              " 48,\n",
              " 46,\n",
              " 44,\n",
              " 42,\n",
              " 40,\n",
              " 38,\n",
              " 36,\n",
              " 34,\n",
              " 32,\n",
              " 30,\n",
              " 28,\n",
              " 26,\n",
              " 24,\n",
              " 22,\n",
              " 20,\n",
              " 18,\n",
              " 16,\n",
              " 14,\n",
              " 12,\n",
              " 10,\n",
              " 8,\n",
              " 6,\n",
              " 4,\n",
              " 2]"
            ]
          },
          "metadata": {},
          "execution_count": 248
        }
      ]
    },
    {
      "cell_type": "code",
      "metadata": {
        "id": "IrgNomloyeEn"
      },
      "source": [
        ""
      ],
      "execution_count": 248,
      "outputs": []
    },
    {
      "cell_type": "code",
      "metadata": {
        "id": "_9pkcGVKuCy9"
      },
      "source": [
        "del collection[10:20]"
      ],
      "execution_count": 249,
      "outputs": []
    },
    {
      "cell_type": "code",
      "metadata": {
        "id": "gCM1tnQRuOtU",
        "colab": {
          "base_uri": "https://localhost:8080/"
        },
        "outputId": "14c69438-fb92-416f-a55e-9736af8a9a7f"
      },
      "source": [
        "for i in collection:\n",
        "  print(i)"
      ],
      "execution_count": 250,
      "outputs": [
        {
          "output_type": "stream",
          "name": "stdout",
          "text": [
            "0\n",
            "1\n",
            "2\n",
            "3\n",
            "4\n",
            "5\n",
            "6\n",
            "7\n",
            "8\n",
            "9\n",
            "20\n",
            "21\n",
            "22\n",
            "23\n",
            "24\n",
            "25\n",
            "26\n",
            "27\n",
            "28\n",
            "29\n",
            "30\n",
            "31\n",
            "32\n",
            "33\n",
            "34\n",
            "35\n",
            "36\n",
            "37\n",
            "38\n",
            "39\n",
            "40\n",
            "41\n",
            "42\n",
            "43\n",
            "44\n",
            "45\n",
            "46\n",
            "47\n",
            "48\n",
            "49\n",
            "50\n",
            "51\n",
            "52\n",
            "53\n",
            "54\n",
            "55\n",
            "56\n",
            "57\n",
            "58\n",
            "59\n",
            "60\n",
            "61\n",
            "62\n",
            "63\n",
            "64\n",
            "65\n",
            "66\n",
            "67\n",
            "68\n",
            "69\n",
            "70\n",
            "71\n",
            "72\n",
            "73\n",
            "74\n",
            "75\n",
            "76\n",
            "77\n",
            "78\n",
            "79\n",
            "80\n",
            "81\n",
            "82\n",
            "83\n",
            "84\n",
            "85\n",
            "86\n",
            "87\n",
            "88\n",
            "89\n",
            "90\n",
            "91\n",
            "92\n",
            "93\n",
            "94\n",
            "95\n",
            "96\n",
            "97\n",
            "98\n",
            "99\n"
          ]
        }
      ]
    },
    {
      "cell_type": "code",
      "metadata": {
        "id": "lSzi__z6PBF3",
        "colab": {
          "base_uri": "https://localhost:8080/"
        },
        "outputId": "2f32456f-d2a5-4c01-fcd7-6164238f3a47"
      },
      "source": [
        "for index in range(0,len(collection)):\n",
        "  print(collection[index])"
      ],
      "execution_count": 251,
      "outputs": [
        {
          "output_type": "stream",
          "name": "stdout",
          "text": [
            "0\n",
            "1\n",
            "2\n",
            "3\n",
            "4\n",
            "5\n",
            "6\n",
            "7\n",
            "8\n",
            "9\n",
            "20\n",
            "21\n",
            "22\n",
            "23\n",
            "24\n",
            "25\n",
            "26\n",
            "27\n",
            "28\n",
            "29\n",
            "30\n",
            "31\n",
            "32\n",
            "33\n",
            "34\n",
            "35\n",
            "36\n",
            "37\n",
            "38\n",
            "39\n",
            "40\n",
            "41\n",
            "42\n",
            "43\n",
            "44\n",
            "45\n",
            "46\n",
            "47\n",
            "48\n",
            "49\n",
            "50\n",
            "51\n",
            "52\n",
            "53\n",
            "54\n",
            "55\n",
            "56\n",
            "57\n",
            "58\n",
            "59\n",
            "60\n",
            "61\n",
            "62\n",
            "63\n",
            "64\n",
            "65\n",
            "66\n",
            "67\n",
            "68\n",
            "69\n",
            "70\n",
            "71\n",
            "72\n",
            "73\n",
            "74\n",
            "75\n",
            "76\n",
            "77\n",
            "78\n",
            "79\n",
            "80\n",
            "81\n",
            "82\n",
            "83\n",
            "84\n",
            "85\n",
            "86\n",
            "87\n",
            "88\n",
            "89\n",
            "90\n",
            "91\n",
            "92\n",
            "93\n",
            "94\n",
            "95\n",
            "96\n",
            "97\n",
            "98\n",
            "99\n"
          ]
        }
      ]
    },
    {
      "cell_type": "code",
      "metadata": {
        "id": "wgbMC2y6u4Ac"
      },
      "source": [
        "dic = {\"1\":\"one\",\"2\":\"Two\",\"3\":\"Three\",\"4\":\"Four\"}"
      ],
      "execution_count": 252,
      "outputs": []
    },
    {
      "cell_type": "code",
      "metadata": {
        "colab": {
          "base_uri": "https://localhost:8080/"
        },
        "id": "KmYv0AfIvNzQ",
        "outputId": "3c8e5c3a-f5af-4f98-a70e-5a83a04b60fd"
      },
      "source": [
        "print(dic)"
      ],
      "execution_count": 253,
      "outputs": [
        {
          "output_type": "stream",
          "name": "stdout",
          "text": [
            "{'1': 'one', '2': 'Two', '3': 'Three', '4': 'Four'}\n"
          ]
        }
      ]
    },
    {
      "cell_type": "code",
      "metadata": {
        "colab": {
          "base_uri": "https://localhost:8080/"
        },
        "id": "koRXhZRnvRYe",
        "outputId": "ced30193-c7d9-4fe2-8c24-64fc783fdd29"
      },
      "source": [
        "print(dic.keys())"
      ],
      "execution_count": 254,
      "outputs": [
        {
          "output_type": "stream",
          "name": "stdout",
          "text": [
            "dict_keys(['1', '2', '3', '4'])\n"
          ]
        }
      ]
    },
    {
      "cell_type": "code",
      "metadata": {
        "colab": {
          "base_uri": "https://localhost:8080/"
        },
        "id": "WfLgayJLvWMU",
        "outputId": "22ea85c8-d5fc-4a56-f830-21709199fb4a"
      },
      "source": [
        "dic.values()"
      ],
      "execution_count": 255,
      "outputs": [
        {
          "output_type": "execute_result",
          "data": {
            "text/plain": [
              "dict_values(['one', 'Two', 'Three', 'Four'])"
            ]
          },
          "metadata": {},
          "execution_count": 255
        }
      ]
    },
    {
      "cell_type": "code",
      "metadata": {
        "id": "ld93GxW6jK3v",
        "colab": {
          "base_uri": "https://localhost:8080/"
        },
        "outputId": "7872018b-fc15-46c8-d933-3a6f06dcbd32"
      },
      "source": [
        "for i in range(100):\n",
        "  print(i)"
      ],
      "execution_count": 256,
      "outputs": [
        {
          "output_type": "stream",
          "name": "stdout",
          "text": [
            "0\n",
            "1\n",
            "2\n",
            "3\n",
            "4\n",
            "5\n",
            "6\n",
            "7\n",
            "8\n",
            "9\n",
            "10\n",
            "11\n",
            "12\n",
            "13\n",
            "14\n",
            "15\n",
            "16\n",
            "17\n",
            "18\n",
            "19\n",
            "20\n",
            "21\n",
            "22\n",
            "23\n",
            "24\n",
            "25\n",
            "26\n",
            "27\n",
            "28\n",
            "29\n",
            "30\n",
            "31\n",
            "32\n",
            "33\n",
            "34\n",
            "35\n",
            "36\n",
            "37\n",
            "38\n",
            "39\n",
            "40\n",
            "41\n",
            "42\n",
            "43\n",
            "44\n",
            "45\n",
            "46\n",
            "47\n",
            "48\n",
            "49\n",
            "50\n",
            "51\n",
            "52\n",
            "53\n",
            "54\n",
            "55\n",
            "56\n",
            "57\n",
            "58\n",
            "59\n",
            "60\n",
            "61\n",
            "62\n",
            "63\n",
            "64\n",
            "65\n",
            "66\n",
            "67\n",
            "68\n",
            "69\n",
            "70\n",
            "71\n",
            "72\n",
            "73\n",
            "74\n",
            "75\n",
            "76\n",
            "77\n",
            "78\n",
            "79\n",
            "80\n",
            "81\n",
            "82\n",
            "83\n",
            "84\n",
            "85\n",
            "86\n",
            "87\n",
            "88\n",
            "89\n",
            "90\n",
            "91\n",
            "92\n",
            "93\n",
            "94\n",
            "95\n",
            "96\n",
            "97\n",
            "98\n",
            "99\n"
          ]
        }
      ]
    },
    {
      "cell_type": "code",
      "metadata": {
        "id": "4nLQEZ9Djdf7",
        "colab": {
          "base_uri": "https://localhost:8080/"
        },
        "outputId": "807610ce-3ab7-4c2d-bd57-4b865919ff97"
      },
      "source": [
        "for i in range(0,30,3):\n",
        "  print(i)"
      ],
      "execution_count": 257,
      "outputs": [
        {
          "output_type": "stream",
          "name": "stdout",
          "text": [
            "0\n",
            "3\n",
            "6\n",
            "9\n",
            "12\n",
            "15\n",
            "18\n",
            "21\n",
            "24\n",
            "27\n"
          ]
        }
      ]
    },
    {
      "cell_type": "code",
      "metadata": {
        "id": "FS0dl5gSkMH4",
        "colab": {
          "base_uri": "https://localhost:8080/"
        },
        "outputId": "d3047109-74a8-43c3-fb19-d4f80cac036d"
      },
      "source": [
        "for i in range(20):\n",
        "  print(i)"
      ],
      "execution_count": 258,
      "outputs": [
        {
          "output_type": "stream",
          "name": "stdout",
          "text": [
            "0\n",
            "1\n",
            "2\n",
            "3\n",
            "4\n",
            "5\n",
            "6\n",
            "7\n",
            "8\n",
            "9\n",
            "10\n",
            "11\n",
            "12\n",
            "13\n",
            "14\n",
            "15\n",
            "16\n",
            "17\n",
            "18\n",
            "19\n"
          ]
        }
      ]
    },
    {
      "cell_type": "code",
      "metadata": {
        "id": "AUyq3wXHkWoh"
      },
      "source": [
        ""
      ],
      "execution_count": 258,
      "outputs": []
    },
    {
      "cell_type": "code",
      "metadata": {
        "id": "aPLNwHKBkXEG",
        "colab": {
          "base_uri": "https://localhost:8080/"
        },
        "outputId": "ed83cd55-bb88-4284-b319-088265e4210d"
      },
      "source": [
        "for i in range(0,len(collection),5):\n",
        "  print(i)\n"
      ],
      "execution_count": 259,
      "outputs": [
        {
          "output_type": "stream",
          "name": "stdout",
          "text": [
            "0\n",
            "5\n",
            "10\n",
            "15\n",
            "20\n",
            "25\n",
            "30\n",
            "35\n",
            "40\n",
            "45\n",
            "50\n",
            "55\n",
            "60\n",
            "65\n",
            "70\n",
            "75\n",
            "80\n",
            "85\n"
          ]
        }
      ]
    },
    {
      "cell_type": "code",
      "metadata": {
        "id": "TcTlFSBhoN3z",
        "colab": {
          "base_uri": "https://localhost:8080/"
        },
        "outputId": "2a503414-887a-43ab-effe-77f4eb90192c"
      },
      "source": [
        "for num in range(4):\n",
        "    for i in range(num):\n",
        "        print(num, end=\" \")\n",
        "    print() "
      ],
      "execution_count": 260,
      "outputs": [
        {
          "output_type": "stream",
          "name": "stdout",
          "text": [
            "\n",
            "1 \n",
            "2 2 \n",
            "3 3 3 \n"
          ]
        }
      ]
    },
    {
      "cell_type": "code",
      "metadata": {
        "colab": {
          "base_uri": "https://localhost:8080/"
        },
        "id": "jDIc2_aUxD-C",
        "outputId": "e333e069-859b-40b5-a973-5bab4d41f353"
      },
      "source": [
        "for i in range(10,0,-1):\n",
        "  print(i, end= ' ')"
      ],
      "execution_count": 261,
      "outputs": [
        {
          "output_type": "stream",
          "name": "stdout",
          "text": [
            "10 9 8 7 6 5 4 3 2 1 "
          ]
        }
      ]
    },
    {
      "cell_type": "code",
      "metadata": {
        "colab": {
          "base_uri": "https://localhost:8080/"
        },
        "id": "f2N5iOOyLGcC",
        "outputId": "0070ee68-f4d3-478e-9118-75eafe692edd"
      },
      "source": [
        "dict={}\n",
        "lst1=['Bratislava', 'Best kebab pizza Petržalka', 6.0, '55 - 65 min.', '4.4', 55, 65, 60.0]\n",
        "lst2=['Bratislava', 'Best kebab pizza Petržalka', 6.0, '55 - 65 min.', '4.4', 55, 65, 60.0]\n",
        "\n",
        "key='Bratislava'\n",
        "if key in dict.keys():\n",
        "  dic[key].append(lst1)\n",
        "else:\n",
        "  dict[key] = [lst2]\n",
        "\n",
        "dict[key].append(lst1)\n",
        "print(dict)"
      ],
      "execution_count": 262,
      "outputs": [
        {
          "output_type": "stream",
          "name": "stdout",
          "text": [
            "{'Bratislava': [['Bratislava', 'Best kebab pizza Petržalka', 6.0, '55 - 65 min.', '4.4', 55, 65, 60.0], ['Bratislava', 'Best kebab pizza Petržalka', 6.0, '55 - 65 min.', '4.4', 55, 65, 60.0]]}\n"
          ]
        }
      ]
    },
    {
      "cell_type": "code",
      "metadata": {
        "colab": {
          "base_uri": "https://localhost:8080/"
        },
        "id": "cP3v0z0-Un-U",
        "outputId": "26521704-6455-4dfd-ddfc-57e4e711a1b8"
      },
      "source": [
        "price='23.0 '\n",
        "print(float(price))"
      ],
      "execution_count": 263,
      "outputs": [
        {
          "output_type": "stream",
          "name": "stdout",
          "text": [
            "23.0\n"
          ]
        }
      ]
    },
    {
      "cell_type": "code",
      "metadata": {
        "colab": {
          "base_uri": "https://localhost:8080/"
        },
        "id": "kKBm6mjpfZLZ",
        "outputId": "8c2272a8-bfc1-417f-aca8-ed1a219165b2"
      },
      "source": [
        "lst = [1,2,'3.0',5]\n",
        "if lst[2]>'2.0':\n",
        "  print(\"Yay\")"
      ],
      "execution_count": 264,
      "outputs": [
        {
          "output_type": "stream",
          "name": "stdout",
          "text": [
            "Yay\n"
          ]
        }
      ]
    },
    {
      "cell_type": "code",
      "metadata": {
        "colab": {
          "base_uri": "https://localhost:8080/"
        },
        "id": "8RuUDWvoxbL8",
        "outputId": "5c94fb3a-b04d-461c-8040-e7f5c7261226"
      },
      "source": [
        "for i in reversed(range(0,10)):\n",
        "  print(i)"
      ],
      "execution_count": 265,
      "outputs": [
        {
          "output_type": "stream",
          "name": "stdout",
          "text": [
            "9\n",
            "8\n",
            "7\n",
            "6\n",
            "5\n",
            "4\n",
            "3\n",
            "2\n",
            "1\n",
            "0\n"
          ]
        }
      ]
    },
    {
      "cell_type": "code",
      "metadata": {
        "colab": {
          "base_uri": "https://localhost:8080/"
        },
        "id": "lFAmt4JM0fQf",
        "outputId": "736845c2-72c0-4322-b39b-6891efe8382c"
      },
      "source": [
        "list1 = [10, 20, 30, 40, 50]\n",
        "# start = list's size\n",
        "# stop = -1\n",
        "# step = -1\n",
        "\n",
        "# reverse a list\n",
        "for i in range(len(list1) - 1, -1, -1):\n",
        "    print(list1[i], end=\" \")\n",
        "\n",
        "print(list1)"
      ],
      "execution_count": 266,
      "outputs": [
        {
          "output_type": "stream",
          "name": "stdout",
          "text": [
            "50 40 30 20 10 [10, 20, 30, 40, 50]\n"
          ]
        }
      ]
    },
    {
      "cell_type": "code",
      "metadata": {
        "colab": {
          "base_uri": "https://localhost:8080/"
        },
        "id": "iXTH0jZI21ur",
        "outputId": "2ae1d129-3c77-4e04-f83b-60ed2deddc8f"
      },
      "source": [
        "from itertools import chain\n",
        "\n",
        "# Concatenate ranges\n",
        "new_range = chain(range(5), range(5, 10))\n",
        "for num in new_range:\n",
        "    print(num, end=' ')\n",
        "# Output 0 1 2 3 4 5 6 7 "
      ],
      "execution_count": 267,
      "outputs": [
        {
          "output_type": "stream",
          "name": "stdout",
          "text": [
            "0 1 2 3 4 5 6 7 8 9 "
          ]
        }
      ]
    },
    {
      "cell_type": "code",
      "metadata": {
        "id": "k2E_BQX231a1"
      },
      "source": [
        "my_list1 = list((1, 2, 3))"
      ],
      "execution_count": 268,
      "outputs": []
    },
    {
      "cell_type": "code",
      "metadata": {
        "colab": {
          "base_uri": "https://localhost:8080/"
        },
        "id": "ETTXFd26vrLl",
        "outputId": "cf96c0a9-28cd-46cf-8a9b-d81114174282"
      },
      "source": [
        "dic.items()"
      ],
      "execution_count": 269,
      "outputs": [
        {
          "output_type": "execute_result",
          "data": {
            "text/plain": [
              "dict_items([('1', 'one'), ('2', 'Two'), ('3', 'Three'), ('4', 'Four')])"
            ]
          },
          "metadata": {},
          "execution_count": 269
        }
      ]
    },
    {
      "cell_type": "code",
      "metadata": {
        "colab": {
          "base_uri": "https://localhost:8080/"
        },
        "id": "Gmq-_ZpDvvnV",
        "outputId": "120ba91e-a050-4147-ffe0-09ec5fac400a"
      },
      "source": [
        "for k in dic.keys():\n",
        "  print(dic[k])"
      ],
      "execution_count": 270,
      "outputs": [
        {
          "output_type": "stream",
          "name": "stdout",
          "text": [
            "one\n",
            "Two\n",
            "Three\n",
            "Four\n"
          ]
        }
      ]
    },
    {
      "cell_type": "code",
      "metadata": {
        "colab": {
          "base_uri": "https://localhost:8080/"
        },
        "id": "-x0PdSsnwCHq",
        "outputId": "256ce84a-8665-417f-f92d-d02c654d2b23"
      },
      "source": [
        "for k,v in dic.items():\n",
        "  print('Key: {} - Value: {}'.format(k,v))\n"
      ],
      "execution_count": 271,
      "outputs": [
        {
          "output_type": "stream",
          "name": "stdout",
          "text": [
            "Key: 1 - Value: one\n",
            "Key: 2 - Value: Two\n",
            "Key: 3 - Value: Three\n",
            "Key: 4 - Value: Four\n"
          ]
        }
      ]
    },
    {
      "cell_type": "code",
      "metadata": {
        "colab": {
          "base_uri": "https://localhost:8080/"
        },
        "id": "vSurx-5soKQ0",
        "outputId": "3256c094-56c0-4871-ca9f-8438944d9846"
      },
      "source": [
        "s1 = set((1,2,3))\n",
        "print(s1)"
      ],
      "execution_count": 272,
      "outputs": [
        {
          "output_type": "stream",
          "name": "stdout",
          "text": [
            "{1, 2, 3}\n"
          ]
        }
      ]
    },
    {
      "cell_type": "code",
      "metadata": {
        "colab": {
          "base_uri": "https://localhost:8080/"
        },
        "id": "1knVLPzaOqBQ",
        "outputId": "42d104db-1e31-4871-ac84-a848264eeca1"
      },
      "source": [
        "s2 = {4,5,6}\n",
        "print(s2)"
      ],
      "execution_count": 273,
      "outputs": [
        {
          "output_type": "stream",
          "name": "stdout",
          "text": [
            "{4, 5, 6}\n"
          ]
        }
      ]
    },
    {
      "cell_type": "code",
      "metadata": {
        "colab": {
          "base_uri": "https://localhost:8080/"
        },
        "id": "866juOZrPDXP",
        "outputId": "a4ec1f72-31e3-4e07-d310-eeabe83b3d43"
      },
      "source": [
        "number_list = [i for i in range(7,20)]\n",
        "print(number_list)\n",
        "s3 = set(number_list)\n",
        "print(type(s3))\n",
        "print(s3)"
      ],
      "execution_count": 274,
      "outputs": [
        {
          "output_type": "stream",
          "name": "stdout",
          "text": [
            "[7, 8, 9, 10, 11, 12, 13, 14, 15, 16, 17, 18, 19]\n",
            "<class 'set'>\n",
            "{7, 8, 9, 10, 11, 12, 13, 14, 15, 16, 17, 18, 19}\n"
          ]
        }
      ]
    },
    {
      "cell_type": "code",
      "metadata": {
        "id": "z9dpPemEQxuX",
        "colab": {
          "base_uri": "https://localhost:8080/"
        },
        "outputId": "d159b39c-87fb-40e0-8512-7c3e7c861bf8"
      },
      "source": [
        "s4 = {'a',\"Shashwat\",1}\n",
        "print(s4)\n",
        "# s5 = {'a',2,[3]}"
      ],
      "execution_count": 275,
      "outputs": [
        {
          "output_type": "stream",
          "name": "stdout",
          "text": [
            "{1, 'a', 'Shashwat'}\n"
          ]
        }
      ]
    },
    {
      "cell_type": "code",
      "metadata": {
        "colab": {
          "base_uri": "https://localhost:8080/"
        },
        "id": "mpFe-m8IRAgM",
        "outputId": "cb0a0147-a641-4876-c1f7-0212622f856e"
      },
      "source": [
        "for item in s3:\n",
        "  print(item, end = ' ')"
      ],
      "execution_count": 276,
      "outputs": [
        {
          "output_type": "stream",
          "name": "stdout",
          "text": [
            "7 8 9 10 11 12 13 14 15 16 17 18 19 "
          ]
        }
      ]
    },
    {
      "cell_type": "code",
      "metadata": {
        "colab": {
          "base_uri": "https://localhost:8080/"
        },
        "id": "sDGwewOdUgOP",
        "outputId": "411fd06d-ab31-4c0b-8ac2-487d93627849"
      },
      "source": [
        "if 9 in s3:\n",
        "  print(9)\n",
        "if 3 in s1:\n",
        "  print(3)\n",
        "if 3 not in s3:\n",
        "  print('Not present')"
      ],
      "execution_count": 277,
      "outputs": [
        {
          "output_type": "stream",
          "name": "stdout",
          "text": [
            "9\n",
            "3\n",
            "Not present\n"
          ]
        }
      ]
    },
    {
      "cell_type": "code",
      "metadata": {
        "colab": {
          "base_uri": "https://localhost:8080/"
        },
        "id": "kME9TtohXT4f",
        "outputId": "51ab17fb-81de-4d8b-a90b-6fe9d847cac7"
      },
      "source": [
        "print(s3)\n",
        "s3.add(6)\n",
        "print(s3)"
      ],
      "execution_count": 278,
      "outputs": [
        {
          "output_type": "stream",
          "name": "stdout",
          "text": [
            "{7, 8, 9, 10, 11, 12, 13, 14, 15, 16, 17, 18, 19}\n",
            "{6, 7, 8, 9, 10, 11, 12, 13, 14, 15, 16, 17, 18, 19}\n"
          ]
        }
      ]
    },
    {
      "cell_type": "code",
      "metadata": {
        "colab": {
          "base_uri": "https://localhost:8080/"
        },
        "id": "egxKbmCMXk1C",
        "outputId": "874a3f89-7b86-4e4d-dbe7-7523eb0ea775"
      },
      "source": [
        "s3.update((1,2,3))\n",
        "print(s3)"
      ],
      "execution_count": 279,
      "outputs": [
        {
          "output_type": "stream",
          "name": "stdout",
          "text": [
            "{1, 2, 3, 6, 7, 8, 9, 10, 11, 12, 13, 14, 15, 16, 17, 18, 19}\n"
          ]
        }
      ]
    },
    {
      "cell_type": "code",
      "metadata": {
        "colab": {
          "base_uri": "https://localhost:8080/"
        },
        "id": "8racapuTXVI_",
        "outputId": "d1234d04-a2a9-417f-e3b3-93e9a7246727"
      },
      "source": [
        "print(s1.union(s2))\n",
        "print(s1)\n",
        "print(s2)"
      ],
      "execution_count": 280,
      "outputs": [
        {
          "output_type": "stream",
          "name": "stdout",
          "text": [
            "{1, 2, 3, 4, 5, 6}\n",
            "{1, 2, 3}\n",
            "{4, 5, 6}\n"
          ]
        }
      ]
    },
    {
      "cell_type": "code",
      "metadata": {
        "colab": {
          "base_uri": "https://localhost:8080/"
        },
        "id": "mp34B4ZYXrcZ",
        "outputId": "7b976b3e-d3cb-4911-b406-67c32f0ee574"
      },
      "source": [
        "print(s2.intersection(s3))\n",
        "print(s2.difference(s3))\n",
        "print(s2.symmetric_difference(s3))\n",
        "print(s1.issubset(s3))\n",
        "print(s3.issuperset(s1))\n",
        "print(s1.isdisjoint(s2))\n",
        "print(s3.isdisjoint(s1))"
      ],
      "execution_count": 281,
      "outputs": [
        {
          "output_type": "stream",
          "name": "stdout",
          "text": [
            "{6}\n",
            "{4, 5}\n",
            "{1, 2, 3, 4, 5, 7, 8, 9, 10, 11, 12, 13, 14, 15, 16, 17, 18, 19}\n",
            "True\n",
            "True\n",
            "True\n",
            "False\n"
          ]
        }
      ]
    },
    {
      "cell_type": "code",
      "metadata": {
        "colab": {
          "base_uri": "https://localhost:8080/"
        },
        "id": "XYuJ6LqbZXwV",
        "outputId": "b1953854-329b-4f27-9b95-3f65b7b3dda3"
      },
      "source": [
        "color_set = {'violet', 'indigo', 'blue', 'green', 'yellow'}\n",
        "remaining_colors = {'indigo', 'orange', 'red'}\n",
        "unique_items2 = color_set.symmetric_difference(remaining_colors)\n",
        "print(unique_items2)\n"
      ],
      "execution_count": 282,
      "outputs": [
        {
          "output_type": "stream",
          "name": "stdout",
          "text": [
            "{'violet', 'orange', 'green', 'yellow', 'blue', 'red'}\n"
          ]
        }
      ]
    },
    {
      "cell_type": "code",
      "metadata": {
        "colab": {
          "base_uri": "https://localhost:8080/"
        },
        "id": "EF1RjZnobweY",
        "outputId": "4063a68d-3feb-41de-fa11-fc98c1964a64"
      },
      "source": [
        "s5 = {20,32,1,29,45,76,44}\n",
        "\n",
        "set1 = {20, 4, 6, 10, 8, 15}\n",
        "sorted_list = sorted(s5)\n",
        "print(sorted_list)\n",
        "sorted_set = set(sorted_list)\n",
        "print(sorted_set)\n"
      ],
      "execution_count": 283,
      "outputs": [
        {
          "output_type": "stream",
          "name": "stdout",
          "text": [
            "[1, 20, 29, 32, 44, 45, 76]\n",
            "{32, 1, 44, 45, 76, 20, 29}\n"
          ]
        }
      ]
    },
    {
      "cell_type": "code",
      "metadata": {
        "colab": {
          "base_uri": "https://localhost:8080/"
        },
        "id": "ZSFTSyRDd8WC",
        "outputId": "a1257b34-34f3-400b-98fe-0c429f98aa89"
      },
      "source": [
        "print(max(s3))\n",
        "print(min(s3))"
      ],
      "execution_count": 284,
      "outputs": [
        {
          "output_type": "stream",
          "name": "stdout",
          "text": [
            "19\n",
            "1\n"
          ]
        }
      ]
    },
    {
      "cell_type": "code",
      "metadata": {
        "id": "-OjyW3SPeMQ8"
      },
      "source": [
        "s7 = frozenset(s2)\n",
        "#s7.add(1)"
      ],
      "execution_count": 285,
      "outputs": []
    },
    {
      "cell_type": "code",
      "metadata": {
        "colab": {
          "base_uri": "https://localhost:8080/"
        },
        "id": "-3eI50wDhOa-",
        "outputId": "909114bb-6f96-4bcf-8d88-51399daab8a2"
      },
      "source": [
        " s8 = {item*2 for item in range(1,10) if item%2==0}\n",
        " print(s8)"
      ],
      "execution_count": 286,
      "outputs": [
        {
          "output_type": "stream",
          "name": "stdout",
          "text": [
            "{8, 16, 4, 12}\n"
          ]
        }
      ]
    },
    {
      "cell_type": "code",
      "metadata": {
        "colab": {
          "base_uri": "https://localhost:8080/"
        },
        "id": "nl0QrT73nkWx",
        "outputId": "0ff04cbb-c283-40e5-95db-1462b7815090"
      },
      "source": [
        "# create a dictionary using {}\n",
        "person = {\"name\": \"Jessa\", \"country\": \"USA\", \"telephone\": 1178}\n",
        "print(person)\n",
        "# output {'name': 'Jessa', 'country': 'USA', 'telephone': 1178}\n",
        "\n",
        "# create a dictionary using dict()\n",
        "# person = dict({\"name\": \"Jessa\", \"country\": \"USA\", \"telephone\": 1178})\n",
        "# print(person)\n",
        "# output {'name': 'Jessa', 'country': 'USA', 'telephone': 1178}\n",
        "\n",
        "# create a dictionary from sequence having each item as a pair\n",
        "# person = dict([(\"name\", \"Mark\"), (\"country\", \"USA\"), (\"telephone\", 1178)])\n",
        "print(person)\n",
        "\n",
        "# create dictionary with mixed keys keys\n",
        "# first key is string and second is an integer\n",
        "sample_dict = {\"name\": \"Jessa\", 10: \"Mobile\"}\n",
        "print(sample_dict)\n",
        "# output {'name': 'Jessa', 10: 'Mobile'}\n",
        "\n",
        "# create dictionary with value as a list\n",
        "person = {\"name\": \"Jessa\", \"telephones\": [1178, 2563, 4569]}\n",
        "print(person)\n",
        "# output {'name': 'Jessa', 'telephones': [1178, 2563, 4569]}"
      ],
      "execution_count": 287,
      "outputs": [
        {
          "output_type": "stream",
          "name": "stdout",
          "text": [
            "{'name': 'Jessa', 'country': 'USA', 'telephone': 1178}\n",
            "{'name': 'Jessa', 'country': 'USA', 'telephone': 1178}\n",
            "{'name': 'Jessa', 10: 'Mobile'}\n",
            "{'name': 'Jessa', 'telephones': [1178, 2563, 4569]}\n"
          ]
        }
      ]
    },
    {
      "cell_type": "code",
      "metadata": {
        "colab": {
          "base_uri": "https://localhost:8080/"
        },
        "id": "EPdFC6nnoDXa",
        "outputId": "8d806f77-f762-46fb-8e0f-b59e7e058224"
      },
      "source": [
        "print(person['name'])\n",
        "print(person.get('telephones'))\n",
        "print(person.keys())\n",
        "print(person.values())\n",
        "print(person.items())"
      ],
      "execution_count": 288,
      "outputs": [
        {
          "output_type": "stream",
          "name": "stdout",
          "text": [
            "Jessa\n",
            "[1178, 2563, 4569]\n",
            "dict_keys(['name', 'telephones'])\n",
            "dict_values(['Jessa', [1178, 2563, 4569]])\n",
            "dict_items([('name', 'Jessa'), ('telephones', [1178, 2563, 4569])])\n"
          ]
        }
      ]
    },
    {
      "cell_type": "code",
      "metadata": {
        "colab": {
          "base_uri": "https://localhost:8080/"
        },
        "id": "AI6ktC8foaDi",
        "outputId": "0b59787a-980c-4fbc-f6cc-f14c10ecb752"
      },
      "source": [
        "for k,v in person.items():\n",
        "  print('Key: {} and Value: {}'.format(k,v))"
      ],
      "execution_count": 289,
      "outputs": [
        {
          "output_type": "stream",
          "name": "stdout",
          "text": [
            "Key: name and Value: Jessa\n",
            "Key: telephones and Value: [1178, 2563, 4569]\n"
          ]
        }
      ]
    },
    {
      "cell_type": "code",
      "metadata": {
        "colab": {
          "base_uri": "https://localhost:8080/"
        },
        "id": "L9YvuaRe2ysy",
        "outputId": "8b033971-d452-413d-e168-9a7a970e3902"
      },
      "source": [
        "person.update({'weight':90,\"mobile\":9873252129})\n",
        "person[\"height\"] = 175\n",
        "person.setdefault(\"state\",\"Haryana\")\n",
        "person.setdefault(\"country\",\"India\")\n",
        "person.setdefault(\"zip\")\n",
        "\n",
        "print(person)"
      ],
      "execution_count": 290,
      "outputs": [
        {
          "output_type": "stream",
          "name": "stdout",
          "text": [
            "{'name': 'Jessa', 'telephones': [1178, 2563, 4569], 'weight': 90, 'mobile': 9873252129, 'height': 175, 'state': 'Haryana', 'country': 'India', 'zip': None}\n"
          ]
        }
      ]
    },
    {
      "cell_type": "code",
      "metadata": {
        "colab": {
          "base_uri": "https://localhost:8080/"
        },
        "id": "muLRcwZX5ABh",
        "outputId": "015f84d1-60c7-4153-ddc3-df9d0371e37b"
      },
      "source": [
        "print(person.popitem())\n",
        "print(person.pop('state'))\n",
        "print(person)"
      ],
      "execution_count": 291,
      "outputs": [
        {
          "output_type": "stream",
          "name": "stdout",
          "text": [
            "('zip', None)\n",
            "Haryana\n",
            "{'name': 'Jessa', 'telephones': [1178, 2563, 4569], 'weight': 90, 'mobile': 9873252129, 'height': 175, 'country': 'India'}\n"
          ]
        }
      ]
    },
    {
      "cell_type": "code",
      "metadata": {
        "colab": {
          "base_uri": "https://localhost:8080/"
        },
        "id": "EZqfbcYe6G4G",
        "outputId": "aa41fef3-2204-4a6a-c533-6b6e7b776c72"
      },
      "source": [
        "dict1 = {'Jessa': 70, 'Arul': 80, 'Emma': 55}\n",
        "dict2 = {'Kelly': 68, 'Harry': 50, 'Olivia': 66}\n",
        "\n",
        "# copy second dictionary into first dictionary\n",
        "dict1.update(dict2)\n",
        "# printing the updated dictionary\n",
        "print(dict1)"
      ],
      "execution_count": 292,
      "outputs": [
        {
          "output_type": "stream",
          "name": "stdout",
          "text": [
            "{'Jessa': 70, 'Arul': 80, 'Emma': 55, 'Kelly': 68, 'Harry': 50, 'Olivia': 66}\n"
          ]
        }
      ]
    },
    {
      "cell_type": "code",
      "metadata": {
        "colab": {
          "base_uri": "https://localhost:8080/"
        },
        "id": "dVK6aLWY6QDb",
        "outputId": "016ee721-ca31-45db-9635-d9f83ff2956b"
      },
      "source": [
        "student_dict1 = {'Aadya': 1, 'Arul': 2, }\n",
        "student_dict2 = {'Harry': 5, 'Olivia': 6}\n",
        "student_dict3 = {'Nancy': 7, 'Perry': 9}\n",
        "\n",
        "# join three dictionaries \n",
        "student_dict = {**student_dict1, **student_dict2, **student_dict3}\n",
        "# printing the final Merged dictionary\n",
        "print(student_dict)"
      ],
      "execution_count": 293,
      "outputs": [
        {
          "output_type": "stream",
          "name": "stdout",
          "text": [
            "{'Aadya': 1, 'Arul': 2, 'Harry': 5, 'Olivia': 6, 'Nancy': 7, 'Perry': 9}\n"
          ]
        }
      ]
    },
    {
      "cell_type": "code",
      "metadata": {
        "colab": {
          "base_uri": "https://localhost:8080/"
        },
        "id": "83s0lvgv6YlD",
        "outputId": "ed11ee68-831d-44c2-b3e7-d78aacf1bada"
      },
      "source": [
        "dict1 = {'Jessa': 70, 'Arul': 80, 'Emma': 55}\n",
        "dict2 = {'Kelly': 68, 'Harry': 50, 'Emma': 66}\n",
        "\n",
        "# join two dictionaries with some common items\n",
        "dict1.update(dict2)\n",
        "# printing the updated dictionary\n",
        "print(dict1['Emma'])"
      ],
      "execution_count": 294,
      "outputs": [
        {
          "output_type": "stream",
          "name": "stdout",
          "text": [
            "66\n"
          ]
        }
      ]
    },
    {
      "cell_type": "code",
      "metadata": {
        "colab": {
          "base_uri": "https://localhost:8080/"
        },
        "id": "R8dch8zW6skU",
        "outputId": "538b8436-c18a-47b4-8693-ef97998d3de1"
      },
      "source": [
        "dict1 = {'c': 45, 'b': 95, 'a': 35}\n",
        "\n",
        "# sorting dictionary by keys\n",
        "print(sorted(dict1.items()))\n",
        "# Output [('a', 35), ('b', 95), ('c', 45)]\n",
        "\n",
        "# sort dict eys\n",
        "print(sorted(dict1))\n",
        "# output ['a', 'b', 'c']\n",
        "\n",
        "# sort dictionary values\n",
        "print(sorted(dict1.values()))"
      ],
      "execution_count": 295,
      "outputs": [
        {
          "output_type": "stream",
          "name": "stdout",
          "text": [
            "[('a', 35), ('b', 95), ('c', 45)]\n",
            "['a', 'b', 'c']\n",
            "[35, 45, 95]\n"
          ]
        }
      ]
    },
    {
      "cell_type": "code",
      "metadata": {
        "colab": {
          "base_uri": "https://localhost:8080/"
        },
        "id": "K3p2I0QXkuXg",
        "outputId": "de843de2-70c1-4619-ac01-fc33de1f8387"
      },
      "source": [
        "tuple1 = (1,2,3,(4,5,6),[7,8,9])\n",
        "tuple2 = (1,2,3,(4,5,6))\n",
        "print(tuple1)\n",
        "# dic = {tuple1,\"value\"}\n",
        "# print(dic)"
      ],
      "execution_count": 296,
      "outputs": [
        {
          "output_type": "stream",
          "name": "stdout",
          "text": [
            "(1, 2, 3, (4, 5, 6), [7, 8, 9])\n"
          ]
        }
      ]
    },
    {
      "cell_type": "code",
      "metadata": {
        "colab": {
          "base_uri": "https://localhost:8080/"
        },
        "id": "CNU0jl8-lq5x",
        "outputId": "1fc78336-51c9-4932-fe3d-4ec7e51d28f6"
      },
      "source": [
        "set11 = {20, 4, 6, 10, 8, 15}\n",
        "set1 = frozenset(set11)\n",
        "\n",
        "dic1 = {set1,\"value\"}\n",
        "print(dic1)\n",
        "\n"
      ],
      "execution_count": 297,
      "outputs": [
        {
          "output_type": "stream",
          "name": "stdout",
          "text": [
            "{'value', frozenset({4, 20, 6, 8, 10, 15})}\n"
          ]
        }
      ]
    },
    {
      "cell_type": "code",
      "metadata": {
        "colab": {
          "base_uri": "https://localhost:8080/"
        },
        "id": "1tTtJ4X_7Jc_",
        "outputId": "eedb9a43-aab9-42d1-c95f-160f9a4ed820"
      },
      "source": [
        "for i in range(10):\n",
        "  print(i)\n",
        "\n",
        "if i in range(10,30):\n",
        "  print(i)\n",
        "else:\n",
        "  print(\"Hi\")"
      ],
      "execution_count": 305,
      "outputs": [
        {
          "output_type": "stream",
          "name": "stdout",
          "text": [
            "0\n",
            "1\n",
            "2\n",
            "3\n",
            "4\n",
            "5\n",
            "6\n",
            "7\n",
            "8\n",
            "9\n",
            "Hi\n"
          ]
        }
      ]
    },
    {
      "cell_type": "code",
      "metadata": {
        "colab": {
          "base_uri": "https://localhost:8080/"
        },
        "id": "Dw0QjYia72y7",
        "outputId": "c4ddd929-e7f7-4f77-aea9-f0470f431fc5"
      },
      "source": [
        "count=0\n",
        "for count in range(20):\n",
        "  if count%2==1:\n",
        "    print(\"Odd\")\n",
        "    count+=count\n",
        "  elif count%2==0:\n",
        "    print(\"Even\")\n",
        "    count+=count"
      ],
      "execution_count": 299,
      "outputs": [
        {
          "output_type": "stream",
          "name": "stdout",
          "text": [
            "Even\n",
            "Odd\n",
            "Even\n",
            "Odd\n",
            "Even\n",
            "Odd\n",
            "Even\n",
            "Odd\n",
            "Even\n",
            "Odd\n",
            "Even\n",
            "Odd\n",
            "Even\n",
            "Odd\n",
            "Even\n",
            "Odd\n",
            "Even\n",
            "Odd\n",
            "Even\n",
            "Odd\n"
          ]
        }
      ]
    },
    {
      "cell_type": "code",
      "metadata": {
        "colab": {
          "base_uri": "https://localhost:8080/"
        },
        "id": "CfDBy-uS2VRc",
        "outputId": "6fa69490-ca7f-453a-bc18-cd46e34910ed"
      },
      "source": [
        "for i in range(2,10):\n",
        "  for j in range (2,i):\n",
        "    if i%j==0:\n",
        "      print(\"{} not a prime Number\".format(i))\n",
        "      break\n",
        "  else:\n",
        "      print(\"{} is prime\".format(i))"
      ],
      "execution_count": 300,
      "outputs": [
        {
          "output_type": "stream",
          "name": "stdout",
          "text": [
            "2 is prime\n",
            "3 is prime\n",
            "4 not a prime Number\n",
            "5 is prime\n",
            "6 not a prime Number\n",
            "7 is prime\n",
            "8 not a prime Number\n",
            "9 not a prime Number\n"
          ]
        }
      ]
    },
    {
      "cell_type": "code",
      "metadata": {
        "colab": {
          "base_uri": "https://localhost:8080/"
        },
        "id": "GbQx68OT4Jgg",
        "outputId": "24938d47-a698-4d16-c48d-89e1fa2ebe0d"
      },
      "source": [
        "#lambda\n",
        "\n",
        "#Adding\n",
        "add = lambda x,y: x+y\n",
        "print(add(5,6))\n",
        "\n",
        "# list sorting\n",
        "a = [(1, 2), (4, 1), (9, 10), (13, -3)]\n",
        "a.sort(key=lambda x: x[0])\n",
        "print(a)\n",
        "a.sort(key=lambda x: x[1])\n",
        "print(a)\n",
        "\n"
      ],
      "execution_count": 301,
      "outputs": [
        {
          "output_type": "stream",
          "name": "stdout",
          "text": [
            "11\n",
            "[(1, 2), (4, 1), (9, 10), (13, -3)]\n",
            "[(13, -3), (4, 1), (1, 2), (9, 10)]\n"
          ]
        }
      ]
    },
    {
      "cell_type": "code",
      "metadata": {
        "colab": {
          "base_uri": "https://localhost:8080/"
        },
        "id": "2HM_L4i_Kzku",
        "outputId": "52d6b1ab-1fff-4a1d-c841-d869bb0778cb"
      },
      "source": [
        "for num in range(0,20,3):\n",
        "  #print(num)\n",
        "  if num != 0 and num%10==0:\n",
        "    print(num)\n",
        "else:\n",
        "  print(\"No multiples of 10\")\n",
        "  "
      ],
      "execution_count": 302,
      "outputs": [
        {
          "output_type": "stream",
          "name": "stdout",
          "text": [
            "No multiples of 10\n"
          ]
        }
      ]
    },
    {
      "cell_type": "code",
      "metadata": {
        "colab": {
          "base_uri": "https://localhost:8080/"
        },
        "id": "yitlMOoeMgJp",
        "outputId": "9018d9fb-9f17-4b0b-9df3-fa81c570be04"
      },
      "source": [
        "num=input(\"Enter number: \")\n",
        "while num == -1:\n",
        "  print(num)"
      ],
      "execution_count": 303,
      "outputs": [
        {
          "name": "stdout",
          "output_type": "stream",
          "text": [
            "Enter number: 20\n"
          ]
        }
      ]
    },
    {
      "cell_type": "code",
      "metadata": {
        "colab": {
          "base_uri": "https://localhost:8080/"
        },
        "id": "zGnre-FY0Ceo",
        "outputId": "44e355b9-8c5c-4a5f-d283-ea4e738559b4"
      },
      "source": [
        "num = -1\n",
        "print(num)\n",
        "if num == -1:\n",
        "  print(\"Negative\")"
      ],
      "execution_count": 304,
      "outputs": [
        {
          "output_type": "stream",
          "name": "stdout",
          "text": [
            "-1\n",
            "Negative\n"
          ]
        }
      ]
    }
  ]
}