{
  "nbformat": 4,
  "nbformat_minor": 0,
  "metadata": {
    "colab": {
      "name": "SalariesDataset.ipynb",
      "provenance": [],
      "collapsed_sections": []
    },
    "kernelspec": {
      "name": "python3",
      "display_name": "Python 3"
    },
    "language_info": {
      "name": "python"
    }
  },
  "cells": [
    {
      "cell_type": "markdown",
      "source": [
        "## Numpy and Pandas        \n",
        "a) From given data set (Salaries.csv) print first and last five rows \n",
        "\n",
        "b) Find the highest paid person\n",
        "\n",
        "c) Find the average salary\n",
        "\n",
        "d) Plot the salaries for male and female"
      ],
      "metadata": {
        "id": "EtAs9hojF72l"
      }
    },
    {
      "cell_type": "code",
      "source": [
        "import numpy as np\n",
        "import pandas as pd\n",
        "\n",
        "import matplotlib.pyplot as plt\n",
        "import seaborn as sns\n",
        "\n",
        "%matplotlib inline"
      ],
      "metadata": {
        "id": "jiSJ1irVGUuH"
      },
      "execution_count": 7,
      "outputs": []
    },
    {
      "cell_type": "code",
      "source": [
        "df = pd.read_csv(\"https://raw.githubusercontent.com/shashwatbds/MyProjects/main/DataScience/Dataset/Salaries.csv\")"
      ],
      "metadata": {
        "id": "I8AvL4FdGChg"
      },
      "execution_count": 4,
      "outputs": []
    },
    {
      "cell_type": "code",
      "source": [
        "# Print first and last five rows\n",
        "print(\"#############First 5 rows#############\")\n",
        "print(df.head())\n",
        "print(\"#############Last 5 rows#############\")\n",
        "print(df.tail())"
      ],
      "metadata": {
        "colab": {
          "base_uri": "https://localhost:8080/"
        },
        "id": "ZbgyglL9GSI8",
        "outputId": "e2d8ee68-4601-4ca2-b8ed-e443ba335248"
      },
      "execution_count": 6,
      "outputs": [
        {
          "output_type": "stream",
          "name": "stdout",
          "text": [
            "#############First 5 rows#############\n",
            "   rank discipline  phd  service   sex  salary\n",
            "0  Prof          B   56       49  Male  186960\n",
            "1  Prof          A   12        6  Male   93000\n",
            "2  Prof          A   23       20  Male  110515\n",
            "3  Prof          A   40       31  Male  131205\n",
            "4  Prof          B   20       18  Male  104800\n",
            "#############Last 5 rows#############\n",
            "         rank discipline  phd  service     sex  salary\n",
            "73       Prof          B   18       10  Female  105450\n",
            "74  AssocProf          B   19        6  Female  104542\n",
            "75       Prof          B   17       17  Female  124312\n",
            "76       Prof          A   28       14  Female  109954\n",
            "77       Prof          A   23       15  Female  109646\n"
          ]
        }
      ]
    },
    {
      "cell_type": "code",
      "source": [
        "# Highest paid person\n",
        "print(df[df.salary == df.salary.max()])"
      ],
      "metadata": {
        "colab": {
          "base_uri": "https://localhost:8080/"
        },
        "id": "Xl274YBiGvHc",
        "outputId": "e2e80283-6ce0-4589-8da0-b48a95544268"
      },
      "execution_count": 15,
      "outputs": [
        {
          "output_type": "stream",
          "name": "stdout",
          "text": [
            "   rank discipline  phd  service   sex  salary\n",
            "0  Prof          B   56       49  Male  186960\n"
          ]
        }
      ]
    },
    {
      "cell_type": "code",
      "source": [
        "# Find the average salary\n",
        "print(df.salary.mean())"
      ],
      "metadata": {
        "colab": {
          "base_uri": "https://localhost:8080/"
        },
        "id": "PI8r0XUvG6dK",
        "outputId": "71e23d00-d6c8-49bc-a406-33c438881a4c"
      },
      "execution_count": 16,
      "outputs": [
        {
          "output_type": "stream",
          "name": "stdout",
          "text": [
            "108023.78205128205\n"
          ]
        }
      ]
    },
    {
      "cell_type": "code",
      "source": [
        "# Plot the salaries for male and female\n",
        "ax = sns.violinplot(x=\"sex\", y=\"salary\", data=df)"
      ],
      "metadata": {
        "colab": {
          "base_uri": "https://localhost:8080/",
          "height": 279
        },
        "id": "kbvZ9HPAG7Hp",
        "outputId": "1cce3f64-43c3-433e-b932-647e147be7fa"
      },
      "execution_count": 17,
      "outputs": [
        {
          "output_type": "display_data",
          "data": {
            "image/png": "[encoded data removed]",
            "text/plain": [
              "<Figure size 432x288 with 1 Axes>"
            ]
          },
          "metadata": {
            "needs_background": "light"
          }
        }
      ]
    }
  ]
}