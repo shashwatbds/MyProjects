{
  "nbformat": 4,
  "nbformat_minor": 0,
  "metadata": {
    "colab": {
      "name": "PandasInitial.ipynb",
      "provenance": []
    },
    "kernelspec": {
      "name": "python3",
      "display_name": "Python 3"
    },
    "language_info": {
      "name": "python"
    }
  },
  "cells": [
    {
      "cell_type": "code",
      "metadata": {
        "id": "nlnhQzc5wo3o"
      },
      "source": [
        "import pandas as pd\n",
        "from pandas import DataFrame, Series\n",
        "import numpy as np"
      ],
      "execution_count": 37,
      "outputs": []
    },
    {
      "cell_type": "code",
      "metadata": {
        "colab": {
          "base_uri": "https://localhost:8080/"
        },
        "id": "nT92DPMYwzYV",
        "outputId": "8603f129-6ed4-47ff-aacf-a048b198095e"
      },
      "source": [
        "seriesfromlist1= pd.Series([\"Monday\",\"Tuesday\",\"Wednesday\",\"Thursday\",\"Friday\",\"Saturday\",\"Sunday\"],index=[[1,2,3,4,5,6,7]])\n",
        "print(seriesfromlist1)\n",
        "seriesfromlist2= pd.Series([\"Monday\",\"Tuesday\",\"Wednesday\",\"Thursday\",\"Friday\",\"Saturday\",\"Sunday\"],index=[[\"M\",\"T\",\"W\",\"T\",\"F\",\"S\",\"S\"]])\n",
        "print(seriesfromlist2)\n",
        "seriesfromlist3= pd.Series([\"Monday\",\"Tuesday\",\"Wednesday\",\"Thursday\",\"Friday\",\"Saturday\",\"Sunday\"],index=list('MTWTFSS'))\n",
        "print(seriesfromlist3)"
      ],
      "execution_count": 38,
      "outputs": [
        {
          "output_type": "stream",
          "name": "stdout",
          "text": [
            "1       Monday\n",
            "2      Tuesday\n",
            "3    Wednesday\n",
            "4     Thursday\n",
            "5       Friday\n",
            "6     Saturday\n",
            "7       Sunday\n",
            "dtype: object\n",
            "M       Monday\n",
            "T      Tuesday\n",
            "W    Wednesday\n",
            "T     Thursday\n",
            "F       Friday\n",
            "S     Saturday\n",
            "S       Sunday\n",
            "dtype: object\n",
            "M       Monday\n",
            "T      Tuesday\n",
            "W    Wednesday\n",
            "T     Thursday\n",
            "F       Friday\n",
            "S     Saturday\n",
            "S       Sunday\n",
            "dtype: object\n"
          ]
        }
      ]
    },
    {
      "cell_type": "code",
      "metadata": {
        "colab": {
          "base_uri": "https://localhost:8080/"
        },
        "id": "sG9yUvRJw1lU",
        "outputId": "f582733d-739d-49d4-c2b1-77045af3ee48"
      },
      "source": [
        "days = {1:\"Monday\", 2:\"Tuesday\", 3:\"Wednesday\", 4:\"Thursday\", 5:\"Friday\", 6:\"Satuday\", 7:\"Sunday\"}\n",
        "seriesfromdictionary = pd.Series(days)\n",
        "print(seriesfromdictionary)\n",
        "seriesfromdictionary1 = pd.Series(days, index=[1,2,3,4,5])\n",
        "seriesfromdictionary2 = pd.Series(days, index=[1,2,3,4,5,1])\n",
        "print(seriesfromdictionary1)\n",
        "print(seriesfromdictionary2)"
      ],
      "execution_count": 39,
      "outputs": [
        {
          "output_type": "stream",
          "name": "stdout",
          "text": [
            "1       Monday\n",
            "2      Tuesday\n",
            "3    Wednesday\n",
            "4     Thursday\n",
            "5       Friday\n",
            "6      Satuday\n",
            "7       Sunday\n",
            "dtype: object\n",
            "1       Monday\n",
            "2      Tuesday\n",
            "3    Wednesday\n",
            "4     Thursday\n",
            "5       Friday\n",
            "dtype: object\n",
            "1       Monday\n",
            "2      Tuesday\n",
            "3    Wednesday\n",
            "4     Thursday\n",
            "5       Friday\n",
            "1       Monday\n",
            "dtype: object\n"
          ]
        }
      ]
    },
    {
      "cell_type": "code",
      "metadata": {
        "colab": {
          "base_uri": "https://localhost:8080/"
        },
        "id": "VZSI02vgw4YE",
        "outputId": "5a6c7a1a-2c46-4626-d70d-3d3b002b4030"
      },
      "source": [
        "seriesfromdictionary[1] #on index 1\n",
        "seriesfromdictionary[1:5] #from index 1 to 5\n",
        "seriesfromdictionary[-2:] #last two elements\n",
        "seriesfromlist1[1]"
      ],
      "execution_count": 40,
      "outputs": [
        {
          "output_type": "execute_result",
          "data": {
            "text/plain": [
              "1    Monday\n",
              "dtype: object"
            ]
          },
          "metadata": {},
          "execution_count": 40
        }
      ]
    },
    {
      "cell_type": "code",
      "metadata": {
        "colab": {
          "base_uri": "https://localhost:8080/"
        },
        "id": "ShHv7FOLw6eU",
        "outputId": "bb2652d9-fbeb-42d4-8460-d9e604f25670"
      },
      "source": [
        "print(seriesfromlist1.values)\n",
        "print(seriesfromlist2.value_counts)\n",
        "print(seriesfromdictionary.size)\n",
        "print(seriesfromdictionary.items)\n",
        "print(seriesfromdictionary.index)\n",
        "print(seriesfromdictionary1.index)\n",
        "print(seriesfromdictionary.is_unique)\n",
        "print(seriesfromdictionary2.is_unique)\n",
        "print(seriesfromdictionary2.nunique())\n",
        "\n",
        "print(seriesfromdictionary1.dtype)\n",
        "print(seriesfromdictionary1.shape)\n",
        "print(seriesfromdictionary1.ndim)"
      ],
      "execution_count": 41,
      "outputs": [
        {
          "output_type": "stream",
          "name": "stdout",
          "text": [
            "['Monday' 'Tuesday' 'Wednesday' 'Thursday' 'Friday' 'Saturday' 'Sunday']\n",
            "<bound method IndexOpsMixin.value_counts of M       Monday\n",
            "T      Tuesday\n",
            "W    Wednesday\n",
            "T     Thursday\n",
            "F       Friday\n",
            "S     Saturday\n",
            "S       Sunday\n",
            "dtype: object>\n",
            "7\n",
            "<bound method Series.items of 1       Monday\n",
            "2      Tuesday\n",
            "3    Wednesday\n",
            "4     Thursday\n",
            "5       Friday\n",
            "6      Satuday\n",
            "7       Sunday\n",
            "dtype: object>\n",
            "Int64Index([1, 2, 3, 4, 5, 6, 7], dtype='int64')\n",
            "Int64Index([1, 2, 3, 4, 5], dtype='int64')\n",
            "True\n",
            "False\n",
            "5\n",
            "object\n",
            "(5,)\n",
            "1\n"
          ]
        }
      ]
    },
    {
      "cell_type": "code",
      "metadata": {
        "colab": {
          "base_uri": "https://localhost:8080/"
        },
        "id": "91v2sQdsxBs5",
        "outputId": "5a47b462-8e1e-4826-abb0-a66c3668cbe9"
      },
      "source": [
        "print(seriesfromdictionary)\n",
        "print(seriesfromdictionary.head())\n",
        "print(seriesfromdictionary.head(2))\n",
        "print(seriesfromdictionary.tail(2))"
      ],
      "execution_count": 42,
      "outputs": [
        {
          "output_type": "stream",
          "name": "stdout",
          "text": [
            "1       Monday\n",
            "2      Tuesday\n",
            "3    Wednesday\n",
            "4     Thursday\n",
            "5       Friday\n",
            "6      Satuday\n",
            "7       Sunday\n",
            "dtype: object\n",
            "1       Monday\n",
            "2      Tuesday\n",
            "3    Wednesday\n",
            "4     Thursday\n",
            "5       Friday\n",
            "dtype: object\n",
            "1     Monday\n",
            "2    Tuesday\n",
            "dtype: object\n",
            "6    Satuday\n",
            "7     Sunday\n",
            "dtype: object\n"
          ]
        }
      ]
    },
    {
      "cell_type": "code",
      "metadata": {
        "colab": {
          "base_uri": "https://localhost:8080/"
        },
        "id": "ASYX-QVMxFNu",
        "outputId": "8b6a01cc-e647-4029-c2fa-98ed60a43d2f"
      },
      "source": [
        "prices = [10, 5, 3, 2.5, 8, 11]\n",
        "s = pd.Series(prices)\n",
        "print(s.mean())\n",
        "\n",
        "prices.sort()\n",
        "print(prices)\n",
        "print(s.median())\n",
        "\n",
        "print(s.product())\n",
        "\n",
        "print(s.sort_values(ascending=False))\n",
        "print(s)\n",
        "s.sort_values(inplace=True)\n",
        "print(s)\n"
      ],
      "execution_count": 43,
      "outputs": [
        {
          "output_type": "stream",
          "name": "stdout",
          "text": [
            "6.583333333333333\n",
            "[2.5, 3, 5, 8, 10, 11]\n",
            "6.5\n",
            "33000.0\n",
            "5    11.0\n",
            "0    10.0\n",
            "4     8.0\n",
            "1     5.0\n",
            "2     3.0\n",
            "3     2.5\n",
            "dtype: float64\n",
            "0    10.0\n",
            "1     5.0\n",
            "2     3.0\n",
            "3     2.5\n",
            "4     8.0\n",
            "5    11.0\n",
            "dtype: float64\n",
            "3     2.5\n",
            "2     3.0\n",
            "1     5.0\n",
            "4     8.0\n",
            "0    10.0\n",
            "5    11.0\n",
            "dtype: float64\n"
          ]
        }
      ]
    },
    {
      "cell_type": "code",
      "metadata": {
        "colab": {
          "base_uri": "https://localhost:8080/"
        },
        "id": "2AdyBOlMxIHh",
        "outputId": "8e7fb2cd-366d-4a5a-88d4-9e20084ed617"
      },
      "source": [
        "print(s.le(6))\n",
        "print(list(s))\n",
        "print(dict(s))"
      ],
      "execution_count": 44,
      "outputs": [
        {
          "output_type": "stream",
          "name": "stdout",
          "text": [
            "3     True\n",
            "2     True\n",
            "1     True\n",
            "4    False\n",
            "0    False\n",
            "5    False\n",
            "dtype: bool\n",
            "[2.5, 3.0, 5.0, 8.0, 10.0, 11.0]\n",
            "{3: 2.5, 2: 3.0, 1: 5.0, 4: 8.0, 0: 10.0, 5: 11.0}\n"
          ]
        }
      ]
    },
    {
      "cell_type": "code",
      "metadata": {
        "colab": {
          "base_uri": "https://localhost:8080/",
          "height": 204
        },
        "id": "Al69RfE1xMcT",
        "outputId": "cc17fab2-ed2a-4b3d-b355-1e5e22976aa3"
      },
      "source": [
        "data = [1,2,3]\n",
        "#df from a list\n",
        "dfl = pd.DataFrame(data, columns=[\"Number\"])\n",
        "dfl\n",
        "\n",
        "#df from n dimension list\n",
        "ndlist = [[1,\"Shashwat\"],[2,\"Vished\"],[3,\"Arjun\"]]\n",
        "dfndl= pd.DataFrame(ndlist, columns=[\"Roll Number\",\"Name\"])\n",
        "dfndl\n",
        "\n",
        "df1 = DataFrame(np.arange(1,26).reshape(-1,5),index=list(\"ABCDE\"), columns=list(\"VWXYZ\"))\n",
        "df1\n",
        "\n",
        "df2 = DataFrame({\"Company\":list(\"ABCDE\"), \"Price\":list(np.random.randint(1,101,5))})\n",
        "df2"
      ],
      "execution_count": 45,
      "outputs": [
        {
          "output_type": "execute_result",
          "data": {
            "text/html": [
              "<div>\n",
              "<style scoped>\n",
              "    .dataframe tbody tr th:only-of-type {\n",
              "        vertical-align: middle;\n",
              "    }\n",
              "\n",
              "    .dataframe tbody tr th {\n",
              "        vertical-align: top;\n",
              "    }\n",
              "\n",
              "    .dataframe thead th {\n",
              "        text-align: right;\n",
              "    }\n",
              "</style>\n",
              "<table border=\"1\" class=\"dataframe\">\n",
              "  <thead>\n",
              "    <tr style=\"text-align: right;\">\n",
              "      <th></th>\n",
              "      <th>Company</th>\n",
              "      <th>Price</th>\n",
              "    </tr>\n",
              "  </thead>\n",
              "  <tbody>\n",
              "    <tr>\n",
              "      <th>0</th>\n",
              "      <td>A</td>\n",
              "      <td>54</td>\n",
              "    </tr>\n",
              "    <tr>\n",
              "      <th>1</th>\n",
              "      <td>B</td>\n",
              "      <td>39</td>\n",
              "    </tr>\n",
              "    <tr>\n",
              "      <th>2</th>\n",
              "      <td>C</td>\n",
              "      <td>69</td>\n",
              "    </tr>\n",
              "    <tr>\n",
              "      <th>3</th>\n",
              "      <td>D</td>\n",
              "      <td>25</td>\n",
              "    </tr>\n",
              "    <tr>\n",
              "      <th>4</th>\n",
              "      <td>E</td>\n",
              "      <td>8</td>\n",
              "    </tr>\n",
              "  </tbody>\n",
              "</table>\n",
              "</div>"
            ],
            "text/plain": [
              "  Company  Price\n",
              "0       A     54\n",
              "1       B     39\n",
              "2       C     69\n",
              "3       D     25\n",
              "4       E      8"
            ]
          },
          "metadata": {},
          "execution_count": 45
        }
      ]
    },
    {
      "cell_type": "code",
      "metadata": {
        "colab": {
          "base_uri": "https://localhost:8080/"
        },
        "id": "E2v8Xi7yxZwF",
        "outputId": "61514563-102c-4399-bc56-12c085d959d7"
      },
      "source": [
        "print(dfndl['Name'])\n",
        "print(dfndl['Name'][1])\n"
      ],
      "execution_count": 46,
      "outputs": [
        {
          "output_type": "stream",
          "name": "stdout",
          "text": [
            "0    Shashwat\n",
            "1      Vished\n",
            "2       Arjun\n",
            "Name: Name, dtype: object\n",
            "Vished\n"
          ]
        }
      ]
    },
    {
      "cell_type": "code",
      "metadata": {
        "colab": {
          "base_uri": "https://localhost:8080/",
          "height": 204
        },
        "id": "HBa8GjyAxel2",
        "outputId": "02a1adcb-5cd7-433e-f0c8-ce0c33228368"
      },
      "source": [
        "df = DataFrame(np.arange(1,26).reshape(-1,5))\n",
        "df"
      ],
      "execution_count": 47,
      "outputs": [
        {
          "output_type": "execute_result",
          "data": {
            "text/html": [
              "<div>\n",
              "<style scoped>\n",
              "    .dataframe tbody tr th:only-of-type {\n",
              "        vertical-align: middle;\n",
              "    }\n",
              "\n",
              "    .dataframe tbody tr th {\n",
              "        vertical-align: top;\n",
              "    }\n",
              "\n",
              "    .dataframe thead th {\n",
              "        text-align: right;\n",
              "    }\n",
              "</style>\n",
              "<table border=\"1\" class=\"dataframe\">\n",
              "  <thead>\n",
              "    <tr style=\"text-align: right;\">\n",
              "      <th></th>\n",
              "      <th>0</th>\n",
              "      <th>1</th>\n",
              "      <th>2</th>\n",
              "      <th>3</th>\n",
              "      <th>4</th>\n",
              "    </tr>\n",
              "  </thead>\n",
              "  <tbody>\n",
              "    <tr>\n",
              "      <th>0</th>\n",
              "      <td>1</td>\n",
              "      <td>2</td>\n",
              "      <td>3</td>\n",
              "      <td>4</td>\n",
              "      <td>5</td>\n",
              "    </tr>\n",
              "    <tr>\n",
              "      <th>1</th>\n",
              "      <td>6</td>\n",
              "      <td>7</td>\n",
              "      <td>8</td>\n",
              "      <td>9</td>\n",
              "      <td>10</td>\n",
              "    </tr>\n",
              "    <tr>\n",
              "      <th>2</th>\n",
              "      <td>11</td>\n",
              "      <td>12</td>\n",
              "      <td>13</td>\n",
              "      <td>14</td>\n",
              "      <td>15</td>\n",
              "    </tr>\n",
              "    <tr>\n",
              "      <th>3</th>\n",
              "      <td>16</td>\n",
              "      <td>17</td>\n",
              "      <td>18</td>\n",
              "      <td>19</td>\n",
              "      <td>20</td>\n",
              "    </tr>\n",
              "    <tr>\n",
              "      <th>4</th>\n",
              "      <td>21</td>\n",
              "      <td>22</td>\n",
              "      <td>23</td>\n",
              "      <td>24</td>\n",
              "      <td>25</td>\n",
              "    </tr>\n",
              "  </tbody>\n",
              "</table>\n",
              "</div>"
            ],
            "text/plain": [
              "    0   1   2   3   4\n",
              "0   1   2   3   4   5\n",
              "1   6   7   8   9  10\n",
              "2  11  12  13  14  15\n",
              "3  16  17  18  19  20\n",
              "4  21  22  23  24  25"
            ]
          },
          "metadata": {},
          "execution_count": 47
        }
      ]
    },
    {
      "cell_type": "code",
      "metadata": {
        "colab": {
          "base_uri": "https://localhost:8080/"
        },
        "id": "6waff9Afxh5d",
        "outputId": "ccc3d396-c85b-439f-8ade-abd8f3ec5049"
      },
      "source": [
        "print(df.columns)\n",
        "print(df.values)"
      ],
      "execution_count": 48,
      "outputs": [
        {
          "output_type": "stream",
          "name": "stdout",
          "text": [
            "RangeIndex(start=0, stop=5, step=1)\n",
            "[[ 1  2  3  4  5]\n",
            " [ 6  7  8  9 10]\n",
            " [11 12 13 14 15]\n",
            " [16 17 18 19 20]\n",
            " [21 22 23 24 25]]\n"
          ]
        }
      ]
    },
    {
      "cell_type": "code",
      "metadata": {
        "colab": {
          "base_uri": "https://localhost:8080/"
        },
        "id": "yNlgjzXVxh70",
        "outputId": "99702551-e10e-4f19-a1d9-d1d05a60ad17"
      },
      "source": [
        "print(df1[['V','X']]) # reference from rows\n",
        "print(df1[1:4]) #reference from columns, index non-inclusive"
      ],
      "execution_count": 49,
      "outputs": [
        {
          "output_type": "stream",
          "name": "stdout",
          "text": [
            "    V   X\n",
            "A   1   3\n",
            "B   6   8\n",
            "C  11  13\n",
            "D  16  18\n",
            "E  21  23\n",
            "    V   W   X   Y   Z\n",
            "B   6   7   8   9  10\n",
            "C  11  12  13  14  15\n",
            "D  16  17  18  19  20\n"
          ]
        }
      ]
    },
    {
      "cell_type": "code",
      "metadata": {
        "colab": {
          "base_uri": "https://localhost:8080/"
        },
        "id": "yFG0pCgixro0",
        "outputId": "1ba2b504-1e48-4ad7-ae9e-fc7df3aa13be"
      },
      "source": [
        "print(df1['V'])\n",
        "print(df1[df1['V'] < 12])"
      ],
      "execution_count": 50,
      "outputs": [
        {
          "output_type": "stream",
          "name": "stdout",
          "text": [
            "A     1\n",
            "B     6\n",
            "C    11\n",
            "D    16\n",
            "E    21\n",
            "Name: V, dtype: int64\n",
            "    V   W   X   Y   Z\n",
            "A   1   2   3   4   5\n",
            "B   6   7   8   9  10\n",
            "C  11  12  13  14  15\n"
          ]
        }
      ]
    },
    {
      "cell_type": "code",
      "metadata": {
        "colab": {
          "base_uri": "https://localhost:8080/",
          "height": 204
        },
        "id": "XBBCGA7sxuLq",
        "outputId": "45d04c33-768e-4ff6-bf78-ae4df287fc4a"
      },
      "source": [
        "df2 = DataFrame({\"Company\":list(\"ABCDE\"), \"Price\":list(np.random.randint(1,101,5))})\n",
        "df2\n",
        "\n",
        "df2['DP'] = df2[\"Price\"]*.90\n",
        "df2\n",
        "\n",
        "df2[\"City\"] = \"Mumbai\"\n",
        "df2\n",
        "\n",
        "df2 = df2[df2[\"City\"]==\"Mumbai\"]\n",
        "df2"
      ],
      "execution_count": 51,
      "outputs": [
        {
          "output_type": "execute_result",
          "data": {
            "text/html": [
              "<div>\n",
              "<style scoped>\n",
              "    .dataframe tbody tr th:only-of-type {\n",
              "        vertical-align: middle;\n",
              "    }\n",
              "\n",
              "    .dataframe tbody tr th {\n",
              "        vertical-align: top;\n",
              "    }\n",
              "\n",
              "    .dataframe thead th {\n",
              "        text-align: right;\n",
              "    }\n",
              "</style>\n",
              "<table border=\"1\" class=\"dataframe\">\n",
              "  <thead>\n",
              "    <tr style=\"text-align: right;\">\n",
              "      <th></th>\n",
              "      <th>Company</th>\n",
              "      <th>Price</th>\n",
              "      <th>DP</th>\n",
              "      <th>City</th>\n",
              "    </tr>\n",
              "  </thead>\n",
              "  <tbody>\n",
              "    <tr>\n",
              "      <th>0</th>\n",
              "      <td>A</td>\n",
              "      <td>64</td>\n",
              "      <td>57.6</td>\n",
              "      <td>Mumbai</td>\n",
              "    </tr>\n",
              "    <tr>\n",
              "      <th>1</th>\n",
              "      <td>B</td>\n",
              "      <td>11</td>\n",
              "      <td>9.9</td>\n",
              "      <td>Mumbai</td>\n",
              "    </tr>\n",
              "    <tr>\n",
              "      <th>2</th>\n",
              "      <td>C</td>\n",
              "      <td>34</td>\n",
              "      <td>30.6</td>\n",
              "      <td>Mumbai</td>\n",
              "    </tr>\n",
              "    <tr>\n",
              "      <th>3</th>\n",
              "      <td>D</td>\n",
              "      <td>72</td>\n",
              "      <td>64.8</td>\n",
              "      <td>Mumbai</td>\n",
              "    </tr>\n",
              "    <tr>\n",
              "      <th>4</th>\n",
              "      <td>E</td>\n",
              "      <td>24</td>\n",
              "      <td>21.6</td>\n",
              "      <td>Mumbai</td>\n",
              "    </tr>\n",
              "  </tbody>\n",
              "</table>\n",
              "</div>"
            ],
            "text/plain": [
              "  Company  Price    DP    City\n",
              "0       A     64  57.6  Mumbai\n",
              "1       B     11   9.9  Mumbai\n",
              "2       C     34  30.6  Mumbai\n",
              "3       D     72  64.8  Mumbai\n",
              "4       E     24  21.6  Mumbai"
            ]
          },
          "metadata": {},
          "execution_count": 51
        }
      ]
    },
    {
      "cell_type": "code",
      "metadata": {
        "colab": {
          "base_uri": "https://localhost:8080/",
          "height": 111
        },
        "id": "jpfmDwQ0xwpo",
        "outputId": "30bb6cbf-44fe-468a-88ee-f7115343e155"
      },
      "source": [
        "df2[\"City\"] =list(\"MSFDM\")\n",
        "df2\n",
        "\n",
        "df2[df2[\"City\"] == 'M']\n",
        "\n",
        "df2[(df2[\"City\"] == 'M') & (df2[\"Price\"] > 1)]"
      ],
      "execution_count": 52,
      "outputs": [
        {
          "output_type": "execute_result",
          "data": {
            "text/html": [
              "<div>\n",
              "<style scoped>\n",
              "    .dataframe tbody tr th:only-of-type {\n",
              "        vertical-align: middle;\n",
              "    }\n",
              "\n",
              "    .dataframe tbody tr th {\n",
              "        vertical-align: top;\n",
              "    }\n",
              "\n",
              "    .dataframe thead th {\n",
              "        text-align: right;\n",
              "    }\n",
              "</style>\n",
              "<table border=\"1\" class=\"dataframe\">\n",
              "  <thead>\n",
              "    <tr style=\"text-align: right;\">\n",
              "      <th></th>\n",
              "      <th>Company</th>\n",
              "      <th>Price</th>\n",
              "      <th>DP</th>\n",
              "      <th>City</th>\n",
              "    </tr>\n",
              "  </thead>\n",
              "  <tbody>\n",
              "    <tr>\n",
              "      <th>0</th>\n",
              "      <td>A</td>\n",
              "      <td>64</td>\n",
              "      <td>57.6</td>\n",
              "      <td>M</td>\n",
              "    </tr>\n",
              "    <tr>\n",
              "      <th>4</th>\n",
              "      <td>E</td>\n",
              "      <td>24</td>\n",
              "      <td>21.6</td>\n",
              "      <td>M</td>\n",
              "    </tr>\n",
              "  </tbody>\n",
              "</table>\n",
              "</div>"
            ],
            "text/plain": [
              "  Company  Price    DP City\n",
              "0       A     64  57.6    M\n",
              "4       E     24  21.6    M"
            ]
          },
          "metadata": {},
          "execution_count": 52
        }
      ]
    },
    {
      "cell_type": "code",
      "metadata": {
        "colab": {
          "base_uri": "https://localhost:8080/",
          "height": 204
        },
        "id": "IQz_TiIgx0or",
        "outputId": "68632b0e-b635-49f8-baf8-c5747ebc0469"
      },
      "source": [
        "#delete column\n",
        "del df2[\"DP\"] \n",
        "df2"
      ],
      "execution_count": 53,
      "outputs": [
        {
          "output_type": "execute_result",
          "data": {
            "text/html": [
              "<div>\n",
              "<style scoped>\n",
              "    .dataframe tbody tr th:only-of-type {\n",
              "        vertical-align: middle;\n",
              "    }\n",
              "\n",
              "    .dataframe tbody tr th {\n",
              "        vertical-align: top;\n",
              "    }\n",
              "\n",
              "    .dataframe thead th {\n",
              "        text-align: right;\n",
              "    }\n",
              "</style>\n",
              "<table border=\"1\" class=\"dataframe\">\n",
              "  <thead>\n",
              "    <tr style=\"text-align: right;\">\n",
              "      <th></th>\n",
              "      <th>Company</th>\n",
              "      <th>Price</th>\n",
              "      <th>City</th>\n",
              "    </tr>\n",
              "  </thead>\n",
              "  <tbody>\n",
              "    <tr>\n",
              "      <th>0</th>\n",
              "      <td>A</td>\n",
              "      <td>64</td>\n",
              "      <td>M</td>\n",
              "    </tr>\n",
              "    <tr>\n",
              "      <th>1</th>\n",
              "      <td>B</td>\n",
              "      <td>11</td>\n",
              "      <td>S</td>\n",
              "    </tr>\n",
              "    <tr>\n",
              "      <th>2</th>\n",
              "      <td>C</td>\n",
              "      <td>34</td>\n",
              "      <td>F</td>\n",
              "    </tr>\n",
              "    <tr>\n",
              "      <th>3</th>\n",
              "      <td>D</td>\n",
              "      <td>72</td>\n",
              "      <td>D</td>\n",
              "    </tr>\n",
              "    <tr>\n",
              "      <th>4</th>\n",
              "      <td>E</td>\n",
              "      <td>24</td>\n",
              "      <td>M</td>\n",
              "    </tr>\n",
              "  </tbody>\n",
              "</table>\n",
              "</div>"
            ],
            "text/plain": [
              "  Company  Price City\n",
              "0       A     64    M\n",
              "1       B     11    S\n",
              "2       C     34    F\n",
              "3       D     72    D\n",
              "4       E     24    M"
            ]
          },
          "metadata": {},
          "execution_count": 53
        }
      ]
    },
    {
      "cell_type": "code",
      "metadata": {
        "colab": {
          "base_uri": "https://localhost:8080/",
          "height": 173
        },
        "id": "i5vzKNr9x4Fp",
        "outputId": "6f89c66d-b043-4ab5-d7ac-00d947946ab9"
      },
      "source": [
        "df2.drop(\"City\", axis=1)\n",
        "df2.drop(1, axis=0)\n",
        "\n",
        "df2.drop(4, axis=0, inplace=True)\n",
        "df2"
      ],
      "execution_count": 54,
      "outputs": [
        {
          "output_type": "execute_result",
          "data": {
            "text/html": [
              "<div>\n",
              "<style scoped>\n",
              "    .dataframe tbody tr th:only-of-type {\n",
              "        vertical-align: middle;\n",
              "    }\n",
              "\n",
              "    .dataframe tbody tr th {\n",
              "        vertical-align: top;\n",
              "    }\n",
              "\n",
              "    .dataframe thead th {\n",
              "        text-align: right;\n",
              "    }\n",
              "</style>\n",
              "<table border=\"1\" class=\"dataframe\">\n",
              "  <thead>\n",
              "    <tr style=\"text-align: right;\">\n",
              "      <th></th>\n",
              "      <th>Company</th>\n",
              "      <th>Price</th>\n",
              "      <th>City</th>\n",
              "    </tr>\n",
              "  </thead>\n",
              "  <tbody>\n",
              "    <tr>\n",
              "      <th>0</th>\n",
              "      <td>A</td>\n",
              "      <td>64</td>\n",
              "      <td>M</td>\n",
              "    </tr>\n",
              "    <tr>\n",
              "      <th>1</th>\n",
              "      <td>B</td>\n",
              "      <td>11</td>\n",
              "      <td>S</td>\n",
              "    </tr>\n",
              "    <tr>\n",
              "      <th>2</th>\n",
              "      <td>C</td>\n",
              "      <td>34</td>\n",
              "      <td>F</td>\n",
              "    </tr>\n",
              "    <tr>\n",
              "      <th>3</th>\n",
              "      <td>D</td>\n",
              "      <td>72</td>\n",
              "      <td>D</td>\n",
              "    </tr>\n",
              "  </tbody>\n",
              "</table>\n",
              "</div>"
            ],
            "text/plain": [
              "  Company  Price City\n",
              "0       A     64    M\n",
              "1       B     11    S\n",
              "2       C     34    F\n",
              "3       D     72    D"
            ]
          },
          "metadata": {},
          "execution_count": 54
        }
      ]
    },
    {
      "cell_type": "code",
      "metadata": {
        "colab": {
          "base_uri": "https://localhost:8080/",
          "height": 37
        },
        "id": "2nCJHhhax5_2",
        "outputId": "6daeac79-cc8d-499f-b310-be5f111084ff"
      },
      "source": [
        "df2.iloc[0,0]"
      ],
      "execution_count": 55,
      "outputs": [
        {
          "output_type": "execute_result",
          "data": {
            "application/vnd.google.colaboratory.intrinsic+json": {
              "type": "string"
            },
            "text/plain": [
              "'A'"
            ]
          },
          "metadata": {},
          "execution_count": 55
        }
      ]
    },
    {
      "cell_type": "code",
      "metadata": {
        "colab": {
          "base_uri": "https://localhost:8080/",
          "height": 142
        },
        "id": "o3qEuZQqx-9S",
        "outputId": "87409657-61e2-4a65-b2d5-e625fe056d5f"
      },
      "source": [
        "df2.iloc[0:3]"
      ],
      "execution_count": 56,
      "outputs": [
        {
          "output_type": "execute_result",
          "data": {
            "text/html": [
              "<div>\n",
              "<style scoped>\n",
              "    .dataframe tbody tr th:only-of-type {\n",
              "        vertical-align: middle;\n",
              "    }\n",
              "\n",
              "    .dataframe tbody tr th {\n",
              "        vertical-align: top;\n",
              "    }\n",
              "\n",
              "    .dataframe thead th {\n",
              "        text-align: right;\n",
              "    }\n",
              "</style>\n",
              "<table border=\"1\" class=\"dataframe\">\n",
              "  <thead>\n",
              "    <tr style=\"text-align: right;\">\n",
              "      <th></th>\n",
              "      <th>Company</th>\n",
              "      <th>Price</th>\n",
              "      <th>City</th>\n",
              "    </tr>\n",
              "  </thead>\n",
              "  <tbody>\n",
              "    <tr>\n",
              "      <th>0</th>\n",
              "      <td>A</td>\n",
              "      <td>64</td>\n",
              "      <td>M</td>\n",
              "    </tr>\n",
              "    <tr>\n",
              "      <th>1</th>\n",
              "      <td>B</td>\n",
              "      <td>11</td>\n",
              "      <td>S</td>\n",
              "    </tr>\n",
              "    <tr>\n",
              "      <th>2</th>\n",
              "      <td>C</td>\n",
              "      <td>34</td>\n",
              "      <td>F</td>\n",
              "    </tr>\n",
              "  </tbody>\n",
              "</table>\n",
              "</div>"
            ],
            "text/plain": [
              "  Company  Price City\n",
              "0       A     64    M\n",
              "1       B     11    S\n",
              "2       C     34    F"
            ]
          },
          "metadata": {},
          "execution_count": 56
        }
      ]
    },
    {
      "cell_type": "code",
      "metadata": {
        "colab": {
          "base_uri": "https://localhost:8080/",
          "height": 111
        },
        "id": "aTBw6WcDyCfv",
        "outputId": "b91a6df2-aa5e-4101-f227-5b7cdc6523de"
      },
      "source": [
        "df2.iloc[::2]"
      ],
      "execution_count": 57,
      "outputs": [
        {
          "output_type": "execute_result",
          "data": {
            "text/html": [
              "<div>\n",
              "<style scoped>\n",
              "    .dataframe tbody tr th:only-of-type {\n",
              "        vertical-align: middle;\n",
              "    }\n",
              "\n",
              "    .dataframe tbody tr th {\n",
              "        vertical-align: top;\n",
              "    }\n",
              "\n",
              "    .dataframe thead th {\n",
              "        text-align: right;\n",
              "    }\n",
              "</style>\n",
              "<table border=\"1\" class=\"dataframe\">\n",
              "  <thead>\n",
              "    <tr style=\"text-align: right;\">\n",
              "      <th></th>\n",
              "      <th>Company</th>\n",
              "      <th>Price</th>\n",
              "      <th>City</th>\n",
              "    </tr>\n",
              "  </thead>\n",
              "  <tbody>\n",
              "    <tr>\n",
              "      <th>0</th>\n",
              "      <td>A</td>\n",
              "      <td>64</td>\n",
              "      <td>M</td>\n",
              "    </tr>\n",
              "    <tr>\n",
              "      <th>2</th>\n",
              "      <td>C</td>\n",
              "      <td>34</td>\n",
              "      <td>F</td>\n",
              "    </tr>\n",
              "  </tbody>\n",
              "</table>\n",
              "</div>"
            ],
            "text/plain": [
              "  Company  Price City\n",
              "0       A     64    M\n",
              "2       C     34    F"
            ]
          },
          "metadata": {},
          "execution_count": 57
        }
      ]
    },
    {
      "cell_type": "code",
      "metadata": {
        "id": "q8XHqAOP02x0"
      },
      "source": [
        "df3 = df2.copy()"
      ],
      "execution_count": 58,
      "outputs": []
    },
    {
      "cell_type": "code",
      "metadata": {
        "colab": {
          "base_uri": "https://localhost:8080/"
        },
        "id": "fAxDADBfyh0A",
        "outputId": "230ae2d1-30fc-41d3-8f90-c6575668b253"
      },
      "source": [
        "df3.iloc[0,1]"
      ],
      "execution_count": 59,
      "outputs": [
        {
          "output_type": "execute_result",
          "data": {
            "text/plain": [
              "64"
            ]
          },
          "metadata": {},
          "execution_count": 59
        }
      ]
    },
    {
      "cell_type": "code",
      "metadata": {
        "colab": {
          "base_uri": "https://localhost:8080/",
          "height": 142
        },
        "id": "nXpMOhMvyjhN",
        "outputId": "eee3efdd-c651-40a3-8770-1c8a3b034843"
      },
      "source": [
        "df3.iloc[0:3]"
      ],
      "execution_count": 60,
      "outputs": [
        {
          "output_type": "execute_result",
          "data": {
            "text/html": [
              "<div>\n",
              "<style scoped>\n",
              "    .dataframe tbody tr th:only-of-type {\n",
              "        vertical-align: middle;\n",
              "    }\n",
              "\n",
              "    .dataframe tbody tr th {\n",
              "        vertical-align: top;\n",
              "    }\n",
              "\n",
              "    .dataframe thead th {\n",
              "        text-align: right;\n",
              "    }\n",
              "</style>\n",
              "<table border=\"1\" class=\"dataframe\">\n",
              "  <thead>\n",
              "    <tr style=\"text-align: right;\">\n",
              "      <th></th>\n",
              "      <th>Company</th>\n",
              "      <th>Price</th>\n",
              "      <th>City</th>\n",
              "    </tr>\n",
              "  </thead>\n",
              "  <tbody>\n",
              "    <tr>\n",
              "      <th>0</th>\n",
              "      <td>A</td>\n",
              "      <td>64</td>\n",
              "      <td>M</td>\n",
              "    </tr>\n",
              "    <tr>\n",
              "      <th>1</th>\n",
              "      <td>B</td>\n",
              "      <td>11</td>\n",
              "      <td>S</td>\n",
              "    </tr>\n",
              "    <tr>\n",
              "      <th>2</th>\n",
              "      <td>C</td>\n",
              "      <td>34</td>\n",
              "      <td>F</td>\n",
              "    </tr>\n",
              "  </tbody>\n",
              "</table>\n",
              "</div>"
            ],
            "text/plain": [
              "  Company  Price City\n",
              "0       A     64    M\n",
              "1       B     11    S\n",
              "2       C     34    F"
            ]
          },
          "metadata": {},
          "execution_count": 60
        }
      ]
    },
    {
      "cell_type": "code",
      "metadata": {
        "colab": {
          "base_uri": "https://localhost:8080/"
        },
        "id": "8rK2ea5LyFA0",
        "outputId": "cc5dd23e-284c-4515-89e5-a65d480b56a5"
      },
      "source": [
        "df2.loc[:,'City']"
      ],
      "execution_count": 61,
      "outputs": [
        {
          "output_type": "execute_result",
          "data": {
            "text/plain": [
              "0    M\n",
              "1    S\n",
              "2    F\n",
              "3    D\n",
              "Name: City, dtype: object"
            ]
          },
          "metadata": {},
          "execution_count": 61
        }
      ]
    },
    {
      "cell_type": "code",
      "metadata": {
        "colab": {
          "base_uri": "https://localhost:8080/"
        },
        "id": "3Jzi_xiOyISM",
        "outputId": "1dbd3bba-a043-46b8-8b43-60d2c1269ebb"
      },
      "source": [
        "df2.loc[3,'Price']"
      ],
      "execution_count": 62,
      "outputs": [
        {
          "output_type": "execute_result",
          "data": {
            "text/plain": [
              "72"
            ]
          },
          "metadata": {},
          "execution_count": 62
        }
      ]
    },
    {
      "cell_type": "code",
      "metadata": {
        "colab": {
          "base_uri": "https://localhost:8080/",
          "height": 142
        },
        "id": "x_7LyNokyes4",
        "outputId": "a44efef3-c782-4c46-f6ca-e786c01d9b30"
      },
      "source": [
        "df3[0:3]"
      ],
      "execution_count": 63,
      "outputs": [
        {
          "output_type": "execute_result",
          "data": {
            "text/html": [
              "<div>\n",
              "<style scoped>\n",
              "    .dataframe tbody tr th:only-of-type {\n",
              "        vertical-align: middle;\n",
              "    }\n",
              "\n",
              "    .dataframe tbody tr th {\n",
              "        vertical-align: top;\n",
              "    }\n",
              "\n",
              "    .dataframe thead th {\n",
              "        text-align: right;\n",
              "    }\n",
              "</style>\n",
              "<table border=\"1\" class=\"dataframe\">\n",
              "  <thead>\n",
              "    <tr style=\"text-align: right;\">\n",
              "      <th></th>\n",
              "      <th>Company</th>\n",
              "      <th>Price</th>\n",
              "      <th>City</th>\n",
              "    </tr>\n",
              "  </thead>\n",
              "  <tbody>\n",
              "    <tr>\n",
              "      <th>0</th>\n",
              "      <td>A</td>\n",
              "      <td>64</td>\n",
              "      <td>M</td>\n",
              "    </tr>\n",
              "    <tr>\n",
              "      <th>1</th>\n",
              "      <td>B</td>\n",
              "      <td>11</td>\n",
              "      <td>S</td>\n",
              "    </tr>\n",
              "    <tr>\n",
              "      <th>2</th>\n",
              "      <td>C</td>\n",
              "      <td>34</td>\n",
              "      <td>F</td>\n",
              "    </tr>\n",
              "  </tbody>\n",
              "</table>\n",
              "</div>"
            ],
            "text/plain": [
              "  Company  Price City\n",
              "0       A     64    M\n",
              "1       B     11    S\n",
              "2       C     34    F"
            ]
          },
          "metadata": {},
          "execution_count": 63
        }
      ]
    },
    {
      "cell_type": "code",
      "metadata": {
        "colab": {
          "base_uri": "https://localhost:8080/"
        },
        "id": "5R_3RPonyLL3",
        "outputId": "4ba31e88-17cd-4efd-d0d6-87edb8dfc661"
      },
      "source": [
        "print(df2)\n",
        "df2.iloc[3,1]"
      ],
      "execution_count": 64,
      "outputs": [
        {
          "output_type": "stream",
          "name": "stdout",
          "text": [
            "  Company  Price City\n",
            "0       A     64    M\n",
            "1       B     11    S\n",
            "2       C     34    F\n",
            "3       D     72    D\n"
          ]
        },
        {
          "output_type": "execute_result",
          "data": {
            "text/plain": [
              "72"
            ]
          },
          "metadata": {},
          "execution_count": 64
        }
      ]
    },
    {
      "cell_type": "code",
      "metadata": {
        "colab": {
          "base_uri": "https://localhost:8080/",
          "height": 173
        },
        "id": "aryuyP8fytbO",
        "outputId": "98a809c7-68c2-4c5f-ae5b-fafa65b7b846"
      },
      "source": [
        "df3.iloc[1:3, 1] = 75\n",
        "df3"
      ],
      "execution_count": 65,
      "outputs": [
        {
          "output_type": "execute_result",
          "data": {
            "text/html": [
              "<div>\n",
              "<style scoped>\n",
              "    .dataframe tbody tr th:only-of-type {\n",
              "        vertical-align: middle;\n",
              "    }\n",
              "\n",
              "    .dataframe tbody tr th {\n",
              "        vertical-align: top;\n",
              "    }\n",
              "\n",
              "    .dataframe thead th {\n",
              "        text-align: right;\n",
              "    }\n",
              "</style>\n",
              "<table border=\"1\" class=\"dataframe\">\n",
              "  <thead>\n",
              "    <tr style=\"text-align: right;\">\n",
              "      <th></th>\n",
              "      <th>Company</th>\n",
              "      <th>Price</th>\n",
              "      <th>City</th>\n",
              "    </tr>\n",
              "  </thead>\n",
              "  <tbody>\n",
              "    <tr>\n",
              "      <th>0</th>\n",
              "      <td>A</td>\n",
              "      <td>64</td>\n",
              "      <td>M</td>\n",
              "    </tr>\n",
              "    <tr>\n",
              "      <th>1</th>\n",
              "      <td>B</td>\n",
              "      <td>75</td>\n",
              "      <td>S</td>\n",
              "    </tr>\n",
              "    <tr>\n",
              "      <th>2</th>\n",
              "      <td>C</td>\n",
              "      <td>75</td>\n",
              "      <td>F</td>\n",
              "    </tr>\n",
              "    <tr>\n",
              "      <th>3</th>\n",
              "      <td>D</td>\n",
              "      <td>72</td>\n",
              "      <td>D</td>\n",
              "    </tr>\n",
              "  </tbody>\n",
              "</table>\n",
              "</div>"
            ],
            "text/plain": [
              "  Company  Price City\n",
              "0       A     64    M\n",
              "1       B     75    S\n",
              "2       C     75    F\n",
              "3       D     72    D"
            ]
          },
          "metadata": {},
          "execution_count": 65
        }
      ]
    },
    {
      "cell_type": "code",
      "metadata": {
        "colab": {
          "base_uri": "https://localhost:8080/",
          "height": 173
        },
        "id": "viHEnIyaywtu",
        "outputId": "282b2883-3c02-4de0-bcd4-7f05de94feb7"
      },
      "source": [
        "df3.iloc[1:3, 0] = 'Z'\n",
        "df3"
      ],
      "execution_count": 66,
      "outputs": [
        {
          "output_type": "execute_result",
          "data": {
            "text/html": [
              "<div>\n",
              "<style scoped>\n",
              "    .dataframe tbody tr th:only-of-type {\n",
              "        vertical-align: middle;\n",
              "    }\n",
              "\n",
              "    .dataframe tbody tr th {\n",
              "        vertical-align: top;\n",
              "    }\n",
              "\n",
              "    .dataframe thead th {\n",
              "        text-align: right;\n",
              "    }\n",
              "</style>\n",
              "<table border=\"1\" class=\"dataframe\">\n",
              "  <thead>\n",
              "    <tr style=\"text-align: right;\">\n",
              "      <th></th>\n",
              "      <th>Company</th>\n",
              "      <th>Price</th>\n",
              "      <th>City</th>\n",
              "    </tr>\n",
              "  </thead>\n",
              "  <tbody>\n",
              "    <tr>\n",
              "      <th>0</th>\n",
              "      <td>A</td>\n",
              "      <td>64</td>\n",
              "      <td>M</td>\n",
              "    </tr>\n",
              "    <tr>\n",
              "      <th>1</th>\n",
              "      <td>Z</td>\n",
              "      <td>75</td>\n",
              "      <td>S</td>\n",
              "    </tr>\n",
              "    <tr>\n",
              "      <th>2</th>\n",
              "      <td>Z</td>\n",
              "      <td>75</td>\n",
              "      <td>F</td>\n",
              "    </tr>\n",
              "    <tr>\n",
              "      <th>3</th>\n",
              "      <td>D</td>\n",
              "      <td>72</td>\n",
              "      <td>D</td>\n",
              "    </tr>\n",
              "  </tbody>\n",
              "</table>\n",
              "</div>"
            ],
            "text/plain": [
              "  Company  Price City\n",
              "0       A     64    M\n",
              "1       Z     75    S\n",
              "2       Z     75    F\n",
              "3       D     72    D"
            ]
          },
          "metadata": {},
          "execution_count": 66
        }
      ]
    },
    {
      "cell_type": "code",
      "metadata": {
        "colab": {
          "base_uri": "https://localhost:8080/",
          "height": 173
        },
        "id": "zsap_ru2yOby",
        "outputId": "eaac10cd-9099-44a6-e3d8-e427a75d00dc"
      },
      "source": [
        "df2.rename({\"City\":\"Town\"},axis=1, inplace=True)\n",
        "df2"
      ],
      "execution_count": 67,
      "outputs": [
        {
          "output_type": "execute_result",
          "data": {
            "text/html": [
              "<div>\n",
              "<style scoped>\n",
              "    .dataframe tbody tr th:only-of-type {\n",
              "        vertical-align: middle;\n",
              "    }\n",
              "\n",
              "    .dataframe tbody tr th {\n",
              "        vertical-align: top;\n",
              "    }\n",
              "\n",
              "    .dataframe thead th {\n",
              "        text-align: right;\n",
              "    }\n",
              "</style>\n",
              "<table border=\"1\" class=\"dataframe\">\n",
              "  <thead>\n",
              "    <tr style=\"text-align: right;\">\n",
              "      <th></th>\n",
              "      <th>Company</th>\n",
              "      <th>Price</th>\n",
              "      <th>Town</th>\n",
              "    </tr>\n",
              "  </thead>\n",
              "  <tbody>\n",
              "    <tr>\n",
              "      <th>0</th>\n",
              "      <td>A</td>\n",
              "      <td>64</td>\n",
              "      <td>M</td>\n",
              "    </tr>\n",
              "    <tr>\n",
              "      <th>1</th>\n",
              "      <td>B</td>\n",
              "      <td>11</td>\n",
              "      <td>S</td>\n",
              "    </tr>\n",
              "    <tr>\n",
              "      <th>2</th>\n",
              "      <td>C</td>\n",
              "      <td>34</td>\n",
              "      <td>F</td>\n",
              "    </tr>\n",
              "    <tr>\n",
              "      <th>3</th>\n",
              "      <td>D</td>\n",
              "      <td>72</td>\n",
              "      <td>D</td>\n",
              "    </tr>\n",
              "  </tbody>\n",
              "</table>\n",
              "</div>"
            ],
            "text/plain": [
              "  Company  Price Town\n",
              "0       A     64    M\n",
              "1       B     11    S\n",
              "2       C     34    F\n",
              "3       D     72    D"
            ]
          },
          "metadata": {},
          "execution_count": 67
        }
      ]
    },
    {
      "cell_type": "code",
      "metadata": {
        "colab": {
          "base_uri": "https://localhost:8080/",
          "height": 173
        },
        "id": "4lPpjZIzyQWc",
        "outputId": "f9fac858-1abf-4de5-9b81-a35769084439"
      },
      "source": [
        "df2.rename({0:\"A\"}, axis=0, inplace=True)\n",
        "df2"
      ],
      "execution_count": 68,
      "outputs": [
        {
          "output_type": "execute_result",
          "data": {
            "text/html": [
              "<div>\n",
              "<style scoped>\n",
              "    .dataframe tbody tr th:only-of-type {\n",
              "        vertical-align: middle;\n",
              "    }\n",
              "\n",
              "    .dataframe tbody tr th {\n",
              "        vertical-align: top;\n",
              "    }\n",
              "\n",
              "    .dataframe thead th {\n",
              "        text-align: right;\n",
              "    }\n",
              "</style>\n",
              "<table border=\"1\" class=\"dataframe\">\n",
              "  <thead>\n",
              "    <tr style=\"text-align: right;\">\n",
              "      <th></th>\n",
              "      <th>Company</th>\n",
              "      <th>Price</th>\n",
              "      <th>Town</th>\n",
              "    </tr>\n",
              "  </thead>\n",
              "  <tbody>\n",
              "    <tr>\n",
              "      <th>A</th>\n",
              "      <td>A</td>\n",
              "      <td>64</td>\n",
              "      <td>M</td>\n",
              "    </tr>\n",
              "    <tr>\n",
              "      <th>1</th>\n",
              "      <td>B</td>\n",
              "      <td>11</td>\n",
              "      <td>S</td>\n",
              "    </tr>\n",
              "    <tr>\n",
              "      <th>2</th>\n",
              "      <td>C</td>\n",
              "      <td>34</td>\n",
              "      <td>F</td>\n",
              "    </tr>\n",
              "    <tr>\n",
              "      <th>3</th>\n",
              "      <td>D</td>\n",
              "      <td>72</td>\n",
              "      <td>D</td>\n",
              "    </tr>\n",
              "  </tbody>\n",
              "</table>\n",
              "</div>"
            ],
            "text/plain": [
              "  Company  Price Town\n",
              "A       A     64    M\n",
              "1       B     11    S\n",
              "2       C     34    F\n",
              "3       D     72    D"
            ]
          },
          "metadata": {},
          "execution_count": 68
        }
      ]
    },
    {
      "cell_type": "code",
      "metadata": {
        "colab": {
          "base_uri": "https://localhost:8080/",
          "height": 173
        },
        "id": "UdFGLI_IySaJ",
        "outputId": "b6769dc8-e92f-4fdb-b41a-e59dd543be84"
      },
      "source": [
        "df2.replace(['M','D'],[\"Mumbai\",\"Delhi\"], inplace=True)\n",
        "df2"
      ],
      "execution_count": 69,
      "outputs": [
        {
          "output_type": "execute_result",
          "data": {
            "text/html": [
              "<div>\n",
              "<style scoped>\n",
              "    .dataframe tbody tr th:only-of-type {\n",
              "        vertical-align: middle;\n",
              "    }\n",
              "\n",
              "    .dataframe tbody tr th {\n",
              "        vertical-align: top;\n",
              "    }\n",
              "\n",
              "    .dataframe thead th {\n",
              "        text-align: right;\n",
              "    }\n",
              "</style>\n",
              "<table border=\"1\" class=\"dataframe\">\n",
              "  <thead>\n",
              "    <tr style=\"text-align: right;\">\n",
              "      <th></th>\n",
              "      <th>Company</th>\n",
              "      <th>Price</th>\n",
              "      <th>Town</th>\n",
              "    </tr>\n",
              "  </thead>\n",
              "  <tbody>\n",
              "    <tr>\n",
              "      <th>A</th>\n",
              "      <td>A</td>\n",
              "      <td>64</td>\n",
              "      <td>Mumbai</td>\n",
              "    </tr>\n",
              "    <tr>\n",
              "      <th>1</th>\n",
              "      <td>B</td>\n",
              "      <td>11</td>\n",
              "      <td>S</td>\n",
              "    </tr>\n",
              "    <tr>\n",
              "      <th>2</th>\n",
              "      <td>C</td>\n",
              "      <td>34</td>\n",
              "      <td>F</td>\n",
              "    </tr>\n",
              "    <tr>\n",
              "      <th>3</th>\n",
              "      <td>Delhi</td>\n",
              "      <td>72</td>\n",
              "      <td>Delhi</td>\n",
              "    </tr>\n",
              "  </tbody>\n",
              "</table>\n",
              "</div>"
            ],
            "text/plain": [
              "  Company  Price    Town\n",
              "A       A     64  Mumbai\n",
              "1       B     11       S\n",
              "2       C     34       F\n",
              "3   Delhi     72   Delhi"
            ]
          },
          "metadata": {},
          "execution_count": 69
        }
      ]
    },
    {
      "cell_type": "code",
      "metadata": {
        "colab": {
          "base_uri": "https://localhost:8080/",
          "height": 359
        },
        "id": "th2l8BU4yWh9",
        "outputId": "dfb2e91d-7bdc-4073-e1ed-f7bfc621caa2"
      },
      "source": [
        "df3 = DataFrame({'Name':list('ABCDEFGHIJ'), 'Score 1': np.random.randint(1,101,10)})\n",
        "df3"
      ],
      "execution_count": 70,
      "outputs": [
        {
          "output_type": "execute_result",
          "data": {
            "text/html": [
              "<div>\n",
              "<style scoped>\n",
              "    .dataframe tbody tr th:only-of-type {\n",
              "        vertical-align: middle;\n",
              "    }\n",
              "\n",
              "    .dataframe tbody tr th {\n",
              "        vertical-align: top;\n",
              "    }\n",
              "\n",
              "    .dataframe thead th {\n",
              "        text-align: right;\n",
              "    }\n",
              "</style>\n",
              "<table border=\"1\" class=\"dataframe\">\n",
              "  <thead>\n",
              "    <tr style=\"text-align: right;\">\n",
              "      <th></th>\n",
              "      <th>Name</th>\n",
              "      <th>Score 1</th>\n",
              "    </tr>\n",
              "  </thead>\n",
              "  <tbody>\n",
              "    <tr>\n",
              "      <th>0</th>\n",
              "      <td>A</td>\n",
              "      <td>68</td>\n",
              "    </tr>\n",
              "    <tr>\n",
              "      <th>1</th>\n",
              "      <td>B</td>\n",
              "      <td>84</td>\n",
              "    </tr>\n",
              "    <tr>\n",
              "      <th>2</th>\n",
              "      <td>C</td>\n",
              "      <td>20</td>\n",
              "    </tr>\n",
              "    <tr>\n",
              "      <th>3</th>\n",
              "      <td>D</td>\n",
              "      <td>68</td>\n",
              "    </tr>\n",
              "    <tr>\n",
              "      <th>4</th>\n",
              "      <td>E</td>\n",
              "      <td>76</td>\n",
              "    </tr>\n",
              "    <tr>\n",
              "      <th>5</th>\n",
              "      <td>F</td>\n",
              "      <td>10</td>\n",
              "    </tr>\n",
              "    <tr>\n",
              "      <th>6</th>\n",
              "      <td>G</td>\n",
              "      <td>56</td>\n",
              "    </tr>\n",
              "    <tr>\n",
              "      <th>7</th>\n",
              "      <td>H</td>\n",
              "      <td>41</td>\n",
              "    </tr>\n",
              "    <tr>\n",
              "      <th>8</th>\n",
              "      <td>I</td>\n",
              "      <td>80</td>\n",
              "    </tr>\n",
              "    <tr>\n",
              "      <th>9</th>\n",
              "      <td>J</td>\n",
              "      <td>56</td>\n",
              "    </tr>\n",
              "  </tbody>\n",
              "</table>\n",
              "</div>"
            ],
            "text/plain": [
              "  Name  Score 1\n",
              "0    A       68\n",
              "1    B       84\n",
              "2    C       20\n",
              "3    D       68\n",
              "4    E       76\n",
              "5    F       10\n",
              "6    G       56\n",
              "7    H       41\n",
              "8    I       80\n",
              "9    J       56"
            ]
          },
          "metadata": {},
          "execution_count": 70
        }
      ]
    },
    {
      "cell_type": "code",
      "metadata": {
        "colab": {
          "base_uri": "https://localhost:8080/",
          "height": 359
        },
        "id": "gKIB2poMyZSd",
        "outputId": "58764d4a-6f76-4654-9d1f-4ed4fd0e34c1"
      },
      "source": [
        "df3.sort_values(by='Score 1', ascending=False)"
      ],
      "execution_count": 71,
      "outputs": [
        {
          "output_type": "execute_result",
          "data": {
            "text/html": [
              "<div>\n",
              "<style scoped>\n",
              "    .dataframe tbody tr th:only-of-type {\n",
              "        vertical-align: middle;\n",
              "    }\n",
              "\n",
              "    .dataframe tbody tr th {\n",
              "        vertical-align: top;\n",
              "    }\n",
              "\n",
              "    .dataframe thead th {\n",
              "        text-align: right;\n",
              "    }\n",
              "</style>\n",
              "<table border=\"1\" class=\"dataframe\">\n",
              "  <thead>\n",
              "    <tr style=\"text-align: right;\">\n",
              "      <th></th>\n",
              "      <th>Name</th>\n",
              "      <th>Score 1</th>\n",
              "    </tr>\n",
              "  </thead>\n",
              "  <tbody>\n",
              "    <tr>\n",
              "      <th>1</th>\n",
              "      <td>B</td>\n",
              "      <td>84</td>\n",
              "    </tr>\n",
              "    <tr>\n",
              "      <th>8</th>\n",
              "      <td>I</td>\n",
              "      <td>80</td>\n",
              "    </tr>\n",
              "    <tr>\n",
              "      <th>4</th>\n",
              "      <td>E</td>\n",
              "      <td>76</td>\n",
              "    </tr>\n",
              "    <tr>\n",
              "      <th>0</th>\n",
              "      <td>A</td>\n",
              "      <td>68</td>\n",
              "    </tr>\n",
              "    <tr>\n",
              "      <th>3</th>\n",
              "      <td>D</td>\n",
              "      <td>68</td>\n",
              "    </tr>\n",
              "    <tr>\n",
              "      <th>6</th>\n",
              "      <td>G</td>\n",
              "      <td>56</td>\n",
              "    </tr>\n",
              "    <tr>\n",
              "      <th>9</th>\n",
              "      <td>J</td>\n",
              "      <td>56</td>\n",
              "    </tr>\n",
              "    <tr>\n",
              "      <th>7</th>\n",
              "      <td>H</td>\n",
              "      <td>41</td>\n",
              "    </tr>\n",
              "    <tr>\n",
              "      <th>2</th>\n",
              "      <td>C</td>\n",
              "      <td>20</td>\n",
              "    </tr>\n",
              "    <tr>\n",
              "      <th>5</th>\n",
              "      <td>F</td>\n",
              "      <td>10</td>\n",
              "    </tr>\n",
              "  </tbody>\n",
              "</table>\n",
              "</div>"
            ],
            "text/plain": [
              "  Name  Score 1\n",
              "1    B       84\n",
              "8    I       80\n",
              "4    E       76\n",
              "0    A       68\n",
              "3    D       68\n",
              "6    G       56\n",
              "9    J       56\n",
              "7    H       41\n",
              "2    C       20\n",
              "5    F       10"
            ]
          },
          "metadata": {},
          "execution_count": 71
        }
      ]
    },
    {
      "cell_type": "code",
      "metadata": {
        "id": "_ttLVnylybtO"
      },
      "source": [
        "df3.sort_values(by='Score 1', ascending=False, inplace=True)"
      ],
      "execution_count": 72,
      "outputs": []
    },
    {
      "cell_type": "code",
      "metadata": {
        "colab": {
          "base_uri": "https://localhost:8080/",
          "height": 359
        },
        "id": "o73jmgC3ynau",
        "outputId": "00a508ce-a21c-40ad-b1cd-1520b26fd2f0"
      },
      "source": [
        "df3.sort_values(by=\"Score 1\",ascending=False, inplace=True)\n",
        "df3"
      ],
      "execution_count": 73,
      "outputs": [
        {
          "output_type": "execute_result",
          "data": {
            "text/html": [
              "<div>\n",
              "<style scoped>\n",
              "    .dataframe tbody tr th:only-of-type {\n",
              "        vertical-align: middle;\n",
              "    }\n",
              "\n",
              "    .dataframe tbody tr th {\n",
              "        vertical-align: top;\n",
              "    }\n",
              "\n",
              "    .dataframe thead th {\n",
              "        text-align: right;\n",
              "    }\n",
              "</style>\n",
              "<table border=\"1\" class=\"dataframe\">\n",
              "  <thead>\n",
              "    <tr style=\"text-align: right;\">\n",
              "      <th></th>\n",
              "      <th>Name</th>\n",
              "      <th>Score 1</th>\n",
              "    </tr>\n",
              "  </thead>\n",
              "  <tbody>\n",
              "    <tr>\n",
              "      <th>1</th>\n",
              "      <td>B</td>\n",
              "      <td>84</td>\n",
              "    </tr>\n",
              "    <tr>\n",
              "      <th>8</th>\n",
              "      <td>I</td>\n",
              "      <td>80</td>\n",
              "    </tr>\n",
              "    <tr>\n",
              "      <th>4</th>\n",
              "      <td>E</td>\n",
              "      <td>76</td>\n",
              "    </tr>\n",
              "    <tr>\n",
              "      <th>0</th>\n",
              "      <td>A</td>\n",
              "      <td>68</td>\n",
              "    </tr>\n",
              "    <tr>\n",
              "      <th>3</th>\n",
              "      <td>D</td>\n",
              "      <td>68</td>\n",
              "    </tr>\n",
              "    <tr>\n",
              "      <th>6</th>\n",
              "      <td>G</td>\n",
              "      <td>56</td>\n",
              "    </tr>\n",
              "    <tr>\n",
              "      <th>9</th>\n",
              "      <td>J</td>\n",
              "      <td>56</td>\n",
              "    </tr>\n",
              "    <tr>\n",
              "      <th>7</th>\n",
              "      <td>H</td>\n",
              "      <td>41</td>\n",
              "    </tr>\n",
              "    <tr>\n",
              "      <th>2</th>\n",
              "      <td>C</td>\n",
              "      <td>20</td>\n",
              "    </tr>\n",
              "    <tr>\n",
              "      <th>5</th>\n",
              "      <td>F</td>\n",
              "      <td>10</td>\n",
              "    </tr>\n",
              "  </tbody>\n",
              "</table>\n",
              "</div>"
            ],
            "text/plain": [
              "  Name  Score 1\n",
              "1    B       84\n",
              "8    I       80\n",
              "4    E       76\n",
              "0    A       68\n",
              "3    D       68\n",
              "6    G       56\n",
              "9    J       56\n",
              "7    H       41\n",
              "2    C       20\n",
              "5    F       10"
            ]
          },
          "metadata": {},
          "execution_count": 73
        }
      ]
    },
    {
      "cell_type": "code",
      "metadata": {
        "colab": {
          "base_uri": "https://localhost:8080/",
          "height": 359
        },
        "id": "qVXHdBDnyq4y",
        "outputId": "68330057-3bdd-4060-bdd1-5a8f78522c7a"
      },
      "source": [
        "df3.sort_index(inplace=True)\n",
        "df3"
      ],
      "execution_count": 74,
      "outputs": [
        {
          "output_type": "execute_result",
          "data": {
            "text/html": [
              "<div>\n",
              "<style scoped>\n",
              "    .dataframe tbody tr th:only-of-type {\n",
              "        vertical-align: middle;\n",
              "    }\n",
              "\n",
              "    .dataframe tbody tr th {\n",
              "        vertical-align: top;\n",
              "    }\n",
              "\n",
              "    .dataframe thead th {\n",
              "        text-align: right;\n",
              "    }\n",
              "</style>\n",
              "<table border=\"1\" class=\"dataframe\">\n",
              "  <thead>\n",
              "    <tr style=\"text-align: right;\">\n",
              "      <th></th>\n",
              "      <th>Name</th>\n",
              "      <th>Score 1</th>\n",
              "    </tr>\n",
              "  </thead>\n",
              "  <tbody>\n",
              "    <tr>\n",
              "      <th>0</th>\n",
              "      <td>A</td>\n",
              "      <td>68</td>\n",
              "    </tr>\n",
              "    <tr>\n",
              "      <th>1</th>\n",
              "      <td>B</td>\n",
              "      <td>84</td>\n",
              "    </tr>\n",
              "    <tr>\n",
              "      <th>2</th>\n",
              "      <td>C</td>\n",
              "      <td>20</td>\n",
              "    </tr>\n",
              "    <tr>\n",
              "      <th>3</th>\n",
              "      <td>D</td>\n",
              "      <td>68</td>\n",
              "    </tr>\n",
              "    <tr>\n",
              "      <th>4</th>\n",
              "      <td>E</td>\n",
              "      <td>76</td>\n",
              "    </tr>\n",
              "    <tr>\n",
              "      <th>5</th>\n",
              "      <td>F</td>\n",
              "      <td>10</td>\n",
              "    </tr>\n",
              "    <tr>\n",
              "      <th>6</th>\n",
              "      <td>G</td>\n",
              "      <td>56</td>\n",
              "    </tr>\n",
              "    <tr>\n",
              "      <th>7</th>\n",
              "      <td>H</td>\n",
              "      <td>41</td>\n",
              "    </tr>\n",
              "    <tr>\n",
              "      <th>8</th>\n",
              "      <td>I</td>\n",
              "      <td>80</td>\n",
              "    </tr>\n",
              "    <tr>\n",
              "      <th>9</th>\n",
              "      <td>J</td>\n",
              "      <td>56</td>\n",
              "    </tr>\n",
              "  </tbody>\n",
              "</table>\n",
              "</div>"
            ],
            "text/plain": [
              "  Name  Score 1\n",
              "0    A       68\n",
              "1    B       84\n",
              "2    C       20\n",
              "3    D       68\n",
              "4    E       76\n",
              "5    F       10\n",
              "6    G       56\n",
              "7    H       41\n",
              "8    I       80\n",
              "9    J       56"
            ]
          },
          "metadata": {},
          "execution_count": 74
        }
      ]
    },
    {
      "cell_type": "code",
      "metadata": {
        "colab": {
          "base_uri": "https://localhost:8080/",
          "height": 359
        },
        "id": "fipsFe7Yy02N",
        "outputId": "552032cd-17de-494c-9197-c819998ecb40"
      },
      "source": [
        "df3[\"Rank\"] = df3[\"Score 1\"].rank()\n",
        "df3"
      ],
      "execution_count": 75,
      "outputs": [
        {
          "output_type": "execute_result",
          "data": {
            "text/html": [
              "<div>\n",
              "<style scoped>\n",
              "    .dataframe tbody tr th:only-of-type {\n",
              "        vertical-align: middle;\n",
              "    }\n",
              "\n",
              "    .dataframe tbody tr th {\n",
              "        vertical-align: top;\n",
              "    }\n",
              "\n",
              "    .dataframe thead th {\n",
              "        text-align: right;\n",
              "    }\n",
              "</style>\n",
              "<table border=\"1\" class=\"dataframe\">\n",
              "  <thead>\n",
              "    <tr style=\"text-align: right;\">\n",
              "      <th></th>\n",
              "      <th>Name</th>\n",
              "      <th>Score 1</th>\n",
              "      <th>Rank</th>\n",
              "    </tr>\n",
              "  </thead>\n",
              "  <tbody>\n",
              "    <tr>\n",
              "      <th>0</th>\n",
              "      <td>A</td>\n",
              "      <td>68</td>\n",
              "      <td>6.5</td>\n",
              "    </tr>\n",
              "    <tr>\n",
              "      <th>1</th>\n",
              "      <td>B</td>\n",
              "      <td>84</td>\n",
              "      <td>10.0</td>\n",
              "    </tr>\n",
              "    <tr>\n",
              "      <th>2</th>\n",
              "      <td>C</td>\n",
              "      <td>20</td>\n",
              "      <td>2.0</td>\n",
              "    </tr>\n",
              "    <tr>\n",
              "      <th>3</th>\n",
              "      <td>D</td>\n",
              "      <td>68</td>\n",
              "      <td>6.5</td>\n",
              "    </tr>\n",
              "    <tr>\n",
              "      <th>4</th>\n",
              "      <td>E</td>\n",
              "      <td>76</td>\n",
              "      <td>8.0</td>\n",
              "    </tr>\n",
              "    <tr>\n",
              "      <th>5</th>\n",
              "      <td>F</td>\n",
              "      <td>10</td>\n",
              "      <td>1.0</td>\n",
              "    </tr>\n",
              "    <tr>\n",
              "      <th>6</th>\n",
              "      <td>G</td>\n",
              "      <td>56</td>\n",
              "      <td>4.5</td>\n",
              "    </tr>\n",
              "    <tr>\n",
              "      <th>7</th>\n",
              "      <td>H</td>\n",
              "      <td>41</td>\n",
              "      <td>3.0</td>\n",
              "    </tr>\n",
              "    <tr>\n",
              "      <th>8</th>\n",
              "      <td>I</td>\n",
              "      <td>80</td>\n",
              "      <td>9.0</td>\n",
              "    </tr>\n",
              "    <tr>\n",
              "      <th>9</th>\n",
              "      <td>J</td>\n",
              "      <td>56</td>\n",
              "      <td>4.5</td>\n",
              "    </tr>\n",
              "  </tbody>\n",
              "</table>\n",
              "</div>"
            ],
            "text/plain": [
              "  Name  Score 1  Rank\n",
              "0    A       68   6.5\n",
              "1    B       84  10.0\n",
              "2    C       20   2.0\n",
              "3    D       68   6.5\n",
              "4    E       76   8.0\n",
              "5    F       10   1.0\n",
              "6    G       56   4.5\n",
              "7    H       41   3.0\n",
              "8    I       80   9.0\n",
              "9    J       56   4.5"
            ]
          },
          "metadata": {},
          "execution_count": 75
        }
      ]
    },
    {
      "cell_type": "code",
      "metadata": {
        "colab": {
          "base_uri": "https://localhost:8080/",
          "height": 359
        },
        "id": "qcl2_p56y4rn",
        "outputId": "b0ed2129-3ed9-4c67-ea1b-731cd0b20397"
      },
      "source": [
        "df3[\"Rank Min\"] = df3[\"Score 1\"].rank(method='min')\n",
        "df3"
      ],
      "execution_count": 76,
      "outputs": [
        {
          "output_type": "execute_result",
          "data": {
            "text/html": [
              "<div>\n",
              "<style scoped>\n",
              "    .dataframe tbody tr th:only-of-type {\n",
              "        vertical-align: middle;\n",
              "    }\n",
              "\n",
              "    .dataframe tbody tr th {\n",
              "        vertical-align: top;\n",
              "    }\n",
              "\n",
              "    .dataframe thead th {\n",
              "        text-align: right;\n",
              "    }\n",
              "</style>\n",
              "<table border=\"1\" class=\"dataframe\">\n",
              "  <thead>\n",
              "    <tr style=\"text-align: right;\">\n",
              "      <th></th>\n",
              "      <th>Name</th>\n",
              "      <th>Score 1</th>\n",
              "      <th>Rank</th>\n",
              "      <th>Rank Min</th>\n",
              "    </tr>\n",
              "  </thead>\n",
              "  <tbody>\n",
              "    <tr>\n",
              "      <th>0</th>\n",
              "      <td>A</td>\n",
              "      <td>68</td>\n",
              "      <td>6.5</td>\n",
              "      <td>6.0</td>\n",
              "    </tr>\n",
              "    <tr>\n",
              "      <th>1</th>\n",
              "      <td>B</td>\n",
              "      <td>84</td>\n",
              "      <td>10.0</td>\n",
              "      <td>10.0</td>\n",
              "    </tr>\n",
              "    <tr>\n",
              "      <th>2</th>\n",
              "      <td>C</td>\n",
              "      <td>20</td>\n",
              "      <td>2.0</td>\n",
              "      <td>2.0</td>\n",
              "    </tr>\n",
              "    <tr>\n",
              "      <th>3</th>\n",
              "      <td>D</td>\n",
              "      <td>68</td>\n",
              "      <td>6.5</td>\n",
              "      <td>6.0</td>\n",
              "    </tr>\n",
              "    <tr>\n",
              "      <th>4</th>\n",
              "      <td>E</td>\n",
              "      <td>76</td>\n",
              "      <td>8.0</td>\n",
              "      <td>8.0</td>\n",
              "    </tr>\n",
              "    <tr>\n",
              "      <th>5</th>\n",
              "      <td>F</td>\n",
              "      <td>10</td>\n",
              "      <td>1.0</td>\n",
              "      <td>1.0</td>\n",
              "    </tr>\n",
              "    <tr>\n",
              "      <th>6</th>\n",
              "      <td>G</td>\n",
              "      <td>56</td>\n",
              "      <td>4.5</td>\n",
              "      <td>4.0</td>\n",
              "    </tr>\n",
              "    <tr>\n",
              "      <th>7</th>\n",
              "      <td>H</td>\n",
              "      <td>41</td>\n",
              "      <td>3.0</td>\n",
              "      <td>3.0</td>\n",
              "    </tr>\n",
              "    <tr>\n",
              "      <th>8</th>\n",
              "      <td>I</td>\n",
              "      <td>80</td>\n",
              "      <td>9.0</td>\n",
              "      <td>9.0</td>\n",
              "    </tr>\n",
              "    <tr>\n",
              "      <th>9</th>\n",
              "      <td>J</td>\n",
              "      <td>56</td>\n",
              "      <td>4.5</td>\n",
              "      <td>4.0</td>\n",
              "    </tr>\n",
              "  </tbody>\n",
              "</table>\n",
              "</div>"
            ],
            "text/plain": [
              "  Name  Score 1  Rank  Rank Min\n",
              "0    A       68   6.5       6.0\n",
              "1    B       84  10.0      10.0\n",
              "2    C       20   2.0       2.0\n",
              "3    D       68   6.5       6.0\n",
              "4    E       76   8.0       8.0\n",
              "5    F       10   1.0       1.0\n",
              "6    G       56   4.5       4.0\n",
              "7    H       41   3.0       3.0\n",
              "8    I       80   9.0       9.0\n",
              "9    J       56   4.5       4.0"
            ]
          },
          "metadata": {},
          "execution_count": 76
        }
      ]
    },
    {
      "cell_type": "code",
      "metadata": {
        "colab": {
          "base_uri": "https://localhost:8080/",
          "height": 359
        },
        "id": "f6H0cDtOy_RJ",
        "outputId": "90c79cfc-95d7-4587-851a-cd0d2a91e058"
      },
      "source": [
        "\n",
        "df3['Rank Dense'] = df3['Score 1'].rank(method='dense')\n",
        "df3"
      ],
      "execution_count": 77,
      "outputs": [
        {
          "output_type": "execute_result",
          "data": {
            "text/html": [
              "<div>\n",
              "<style scoped>\n",
              "    .dataframe tbody tr th:only-of-type {\n",
              "        vertical-align: middle;\n",
              "    }\n",
              "\n",
              "    .dataframe tbody tr th {\n",
              "        vertical-align: top;\n",
              "    }\n",
              "\n",
              "    .dataframe thead th {\n",
              "        text-align: right;\n",
              "    }\n",
              "</style>\n",
              "<table border=\"1\" class=\"dataframe\">\n",
              "  <thead>\n",
              "    <tr style=\"text-align: right;\">\n",
              "      <th></th>\n",
              "      <th>Name</th>\n",
              "      <th>Score 1</th>\n",
              "      <th>Rank</th>\n",
              "      <th>Rank Min</th>\n",
              "      <th>Rank Dense</th>\n",
              "    </tr>\n",
              "  </thead>\n",
              "  <tbody>\n",
              "    <tr>\n",
              "      <th>0</th>\n",
              "      <td>A</td>\n",
              "      <td>68</td>\n",
              "      <td>6.5</td>\n",
              "      <td>6.0</td>\n",
              "      <td>5.0</td>\n",
              "    </tr>\n",
              "    <tr>\n",
              "      <th>1</th>\n",
              "      <td>B</td>\n",
              "      <td>84</td>\n",
              "      <td>10.0</td>\n",
              "      <td>10.0</td>\n",
              "      <td>8.0</td>\n",
              "    </tr>\n",
              "    <tr>\n",
              "      <th>2</th>\n",
              "      <td>C</td>\n",
              "      <td>20</td>\n",
              "      <td>2.0</td>\n",
              "      <td>2.0</td>\n",
              "      <td>2.0</td>\n",
              "    </tr>\n",
              "    <tr>\n",
              "      <th>3</th>\n",
              "      <td>D</td>\n",
              "      <td>68</td>\n",
              "      <td>6.5</td>\n",
              "      <td>6.0</td>\n",
              "      <td>5.0</td>\n",
              "    </tr>\n",
              "    <tr>\n",
              "      <th>4</th>\n",
              "      <td>E</td>\n",
              "      <td>76</td>\n",
              "      <td>8.0</td>\n",
              "      <td>8.0</td>\n",
              "      <td>6.0</td>\n",
              "    </tr>\n",
              "    <tr>\n",
              "      <th>5</th>\n",
              "      <td>F</td>\n",
              "      <td>10</td>\n",
              "      <td>1.0</td>\n",
              "      <td>1.0</td>\n",
              "      <td>1.0</td>\n",
              "    </tr>\n",
              "    <tr>\n",
              "      <th>6</th>\n",
              "      <td>G</td>\n",
              "      <td>56</td>\n",
              "      <td>4.5</td>\n",
              "      <td>4.0</td>\n",
              "      <td>4.0</td>\n",
              "    </tr>\n",
              "    <tr>\n",
              "      <th>7</th>\n",
              "      <td>H</td>\n",
              "      <td>41</td>\n",
              "      <td>3.0</td>\n",
              "      <td>3.0</td>\n",
              "      <td>3.0</td>\n",
              "    </tr>\n",
              "    <tr>\n",
              "      <th>8</th>\n",
              "      <td>I</td>\n",
              "      <td>80</td>\n",
              "      <td>9.0</td>\n",
              "      <td>9.0</td>\n",
              "      <td>7.0</td>\n",
              "    </tr>\n",
              "    <tr>\n",
              "      <th>9</th>\n",
              "      <td>J</td>\n",
              "      <td>56</td>\n",
              "      <td>4.5</td>\n",
              "      <td>4.0</td>\n",
              "      <td>4.0</td>\n",
              "    </tr>\n",
              "  </tbody>\n",
              "</table>\n",
              "</div>"
            ],
            "text/plain": [
              "  Name  Score 1  Rank  Rank Min  Rank Dense\n",
              "0    A       68   6.5       6.0         5.0\n",
              "1    B       84  10.0      10.0         8.0\n",
              "2    C       20   2.0       2.0         2.0\n",
              "3    D       68   6.5       6.0         5.0\n",
              "4    E       76   8.0       8.0         6.0\n",
              "5    F       10   1.0       1.0         1.0\n",
              "6    G       56   4.5       4.0         4.0\n",
              "7    H       41   3.0       3.0         3.0\n",
              "8    I       80   9.0       9.0         7.0\n",
              "9    J       56   4.5       4.0         4.0"
            ]
          },
          "metadata": {},
          "execution_count": 77
        }
      ]
    },
    {
      "cell_type": "code",
      "metadata": {
        "colab": {
          "base_uri": "https://localhost:8080/",
          "height": 173
        },
        "id": "-NLHXHeLzDgr",
        "outputId": "c6207ed6-7c93-4df7-dfc3-fe9d900f0212"
      },
      "source": [
        "df4 = DataFrame({'A': [1, np.nan, np.nan, np.nan],\n",
        "                 'B': [2,4,7, np.nan],\n",
        "                'C':[3,5,np.nan,np.nan]})\n",
        "df4"
      ],
      "execution_count": 78,
      "outputs": [
        {
          "output_type": "execute_result",
          "data": {
            "text/html": [
              "<div>\n",
              "<style scoped>\n",
              "    .dataframe tbody tr th:only-of-type {\n",
              "        vertical-align: middle;\n",
              "    }\n",
              "\n",
              "    .dataframe tbody tr th {\n",
              "        vertical-align: top;\n",
              "    }\n",
              "\n",
              "    .dataframe thead th {\n",
              "        text-align: right;\n",
              "    }\n",
              "</style>\n",
              "<table border=\"1\" class=\"dataframe\">\n",
              "  <thead>\n",
              "    <tr style=\"text-align: right;\">\n",
              "      <th></th>\n",
              "      <th>A</th>\n",
              "      <th>B</th>\n",
              "      <th>C</th>\n",
              "    </tr>\n",
              "  </thead>\n",
              "  <tbody>\n",
              "    <tr>\n",
              "      <th>0</th>\n",
              "      <td>1.0</td>\n",
              "      <td>2.0</td>\n",
              "      <td>3.0</td>\n",
              "    </tr>\n",
              "    <tr>\n",
              "      <th>1</th>\n",
              "      <td>NaN</td>\n",
              "      <td>4.0</td>\n",
              "      <td>5.0</td>\n",
              "    </tr>\n",
              "    <tr>\n",
              "      <th>2</th>\n",
              "      <td>NaN</td>\n",
              "      <td>7.0</td>\n",
              "      <td>NaN</td>\n",
              "    </tr>\n",
              "    <tr>\n",
              "      <th>3</th>\n",
              "      <td>NaN</td>\n",
              "      <td>NaN</td>\n",
              "      <td>NaN</td>\n",
              "    </tr>\n",
              "  </tbody>\n",
              "</table>\n",
              "</div>"
            ],
            "text/plain": [
              "     A    B    C\n",
              "0  1.0  2.0  3.0\n",
              "1  NaN  4.0  5.0\n",
              "2  NaN  7.0  NaN\n",
              "3  NaN  NaN  NaN"
            ]
          },
          "metadata": {},
          "execution_count": 78
        }
      ]
    },
    {
      "cell_type": "code",
      "metadata": {
        "colab": {
          "base_uri": "https://localhost:8080/",
          "height": 173
        },
        "id": "j0SZSKekzGG9",
        "outputId": "17a1005b-616c-4a64-fb52-c49c9823c26b"
      },
      "source": [
        "df4 = DataFrame([[1,2,3],[np.nan,4,5], [np.nan,7,np.nan],[np.nan,np.nan,np.nan]], columns=list('ABC'))\n",
        "df4"
      ],
      "execution_count": 79,
      "outputs": [
        {
          "output_type": "execute_result",
          "data": {
            "text/html": [
              "<div>\n",
              "<style scoped>\n",
              "    .dataframe tbody tr th:only-of-type {\n",
              "        vertical-align: middle;\n",
              "    }\n",
              "\n",
              "    .dataframe tbody tr th {\n",
              "        vertical-align: top;\n",
              "    }\n",
              "\n",
              "    .dataframe thead th {\n",
              "        text-align: right;\n",
              "    }\n",
              "</style>\n",
              "<table border=\"1\" class=\"dataframe\">\n",
              "  <thead>\n",
              "    <tr style=\"text-align: right;\">\n",
              "      <th></th>\n",
              "      <th>A</th>\n",
              "      <th>B</th>\n",
              "      <th>C</th>\n",
              "    </tr>\n",
              "  </thead>\n",
              "  <tbody>\n",
              "    <tr>\n",
              "      <th>0</th>\n",
              "      <td>1.0</td>\n",
              "      <td>2.0</td>\n",
              "      <td>3.0</td>\n",
              "    </tr>\n",
              "    <tr>\n",
              "      <th>1</th>\n",
              "      <td>NaN</td>\n",
              "      <td>4.0</td>\n",
              "      <td>5.0</td>\n",
              "    </tr>\n",
              "    <tr>\n",
              "      <th>2</th>\n",
              "      <td>NaN</td>\n",
              "      <td>7.0</td>\n",
              "      <td>NaN</td>\n",
              "    </tr>\n",
              "    <tr>\n",
              "      <th>3</th>\n",
              "      <td>NaN</td>\n",
              "      <td>NaN</td>\n",
              "      <td>NaN</td>\n",
              "    </tr>\n",
              "  </tbody>\n",
              "</table>\n",
              "</div>"
            ],
            "text/plain": [
              "     A    B    C\n",
              "0  1.0  2.0  3.0\n",
              "1  NaN  4.0  5.0\n",
              "2  NaN  7.0  NaN\n",
              "3  NaN  NaN  NaN"
            ]
          },
          "metadata": {},
          "execution_count": 79
        }
      ]
    },
    {
      "cell_type": "code",
      "metadata": {
        "colab": {
          "base_uri": "https://localhost:8080/"
        },
        "id": "aiBMzc_UzI2o",
        "outputId": "95d6983c-62bd-4ec5-f487-f877d1196675"
      },
      "source": [
        "df4['A'].isnull()"
      ],
      "execution_count": 80,
      "outputs": [
        {
          "output_type": "execute_result",
          "data": {
            "text/plain": [
              "0    False\n",
              "1     True\n",
              "2     True\n",
              "3     True\n",
              "Name: A, dtype: bool"
            ]
          },
          "metadata": {},
          "execution_count": 80
        }
      ]
    },
    {
      "cell_type": "code",
      "metadata": {
        "colab": {
          "base_uri": "https://localhost:8080/"
        },
        "id": "ob6N1aTwzJbB",
        "outputId": "680fc255-74a5-494b-d39f-7cdd4baa41ab"
      },
      "source": [
        "df4['A'].notnull()"
      ],
      "execution_count": 81,
      "outputs": [
        {
          "output_type": "execute_result",
          "data": {
            "text/plain": [
              "0     True\n",
              "1    False\n",
              "2    False\n",
              "3    False\n",
              "Name: A, dtype: bool"
            ]
          },
          "metadata": {},
          "execution_count": 81
        }
      ]
    },
    {
      "cell_type": "code",
      "metadata": {
        "colab": {
          "base_uri": "https://localhost:8080/"
        },
        "id": "x6-wbZhmzLQZ",
        "outputId": "61cdec8c-d0b5-402d-f0f9-1bb66ab94914"
      },
      "source": [
        "df4['A'].notnull().sum()"
      ],
      "execution_count": 82,
      "outputs": [
        {
          "output_type": "execute_result",
          "data": {
            "text/plain": [
              "1"
            ]
          },
          "metadata": {},
          "execution_count": 82
        }
      ]
    },
    {
      "cell_type": "code",
      "metadata": {
        "colab": {
          "base_uri": "https://localhost:8080/",
          "height": 80
        },
        "id": "zSBWRSk7zNBo",
        "outputId": "9353b337-cacc-4cac-e6ea-f57c2b59ed6b"
      },
      "source": [
        "df4.dropna()"
      ],
      "execution_count": 83,
      "outputs": [
        {
          "output_type": "execute_result",
          "data": {
            "text/html": [
              "<div>\n",
              "<style scoped>\n",
              "    .dataframe tbody tr th:only-of-type {\n",
              "        vertical-align: middle;\n",
              "    }\n",
              "\n",
              "    .dataframe tbody tr th {\n",
              "        vertical-align: top;\n",
              "    }\n",
              "\n",
              "    .dataframe thead th {\n",
              "        text-align: right;\n",
              "    }\n",
              "</style>\n",
              "<table border=\"1\" class=\"dataframe\">\n",
              "  <thead>\n",
              "    <tr style=\"text-align: right;\">\n",
              "      <th></th>\n",
              "      <th>A</th>\n",
              "      <th>B</th>\n",
              "      <th>C</th>\n",
              "    </tr>\n",
              "  </thead>\n",
              "  <tbody>\n",
              "    <tr>\n",
              "      <th>0</th>\n",
              "      <td>1.0</td>\n",
              "      <td>2.0</td>\n",
              "      <td>3.0</td>\n",
              "    </tr>\n",
              "  </tbody>\n",
              "</table>\n",
              "</div>"
            ],
            "text/plain": [
              "     A    B    C\n",
              "0  1.0  2.0  3.0"
            ]
          },
          "metadata": {},
          "execution_count": 83
        }
      ]
    },
    {
      "cell_type": "code",
      "metadata": {
        "colab": {
          "base_uri": "https://localhost:8080/",
          "height": 142
        },
        "id": "GIH622jLzTt7",
        "outputId": "94421888-9783-4982-a4ca-24f9e24c5c29"
      },
      "source": [
        "df4.dropna(how=\"all\")"
      ],
      "execution_count": 84,
      "outputs": [
        {
          "output_type": "execute_result",
          "data": {
            "text/html": [
              "<div>\n",
              "<style scoped>\n",
              "    .dataframe tbody tr th:only-of-type {\n",
              "        vertical-align: middle;\n",
              "    }\n",
              "\n",
              "    .dataframe tbody tr th {\n",
              "        vertical-align: top;\n",
              "    }\n",
              "\n",
              "    .dataframe thead th {\n",
              "        text-align: right;\n",
              "    }\n",
              "</style>\n",
              "<table border=\"1\" class=\"dataframe\">\n",
              "  <thead>\n",
              "    <tr style=\"text-align: right;\">\n",
              "      <th></th>\n",
              "      <th>A</th>\n",
              "      <th>B</th>\n",
              "      <th>C</th>\n",
              "    </tr>\n",
              "  </thead>\n",
              "  <tbody>\n",
              "    <tr>\n",
              "      <th>0</th>\n",
              "      <td>1.0</td>\n",
              "      <td>2.0</td>\n",
              "      <td>3.0</td>\n",
              "    </tr>\n",
              "    <tr>\n",
              "      <th>1</th>\n",
              "      <td>NaN</td>\n",
              "      <td>4.0</td>\n",
              "      <td>5.0</td>\n",
              "    </tr>\n",
              "    <tr>\n",
              "      <th>2</th>\n",
              "      <td>NaN</td>\n",
              "      <td>7.0</td>\n",
              "      <td>NaN</td>\n",
              "    </tr>\n",
              "  </tbody>\n",
              "</table>\n",
              "</div>"
            ],
            "text/plain": [
              "     A    B    C\n",
              "0  1.0  2.0  3.0\n",
              "1  NaN  4.0  5.0\n",
              "2  NaN  7.0  NaN"
            ]
          },
          "metadata": {},
          "execution_count": 84
        }
      ]
    },
    {
      "cell_type": "code",
      "metadata": {
        "colab": {
          "base_uri": "https://localhost:8080/",
          "height": 111
        },
        "id": "O--QiRkmzW26",
        "outputId": "d7def201-4e52-4ade-b2b6-8b11608c5fa1"
      },
      "source": [
        "df4.dropna(thresh=2)"
      ],
      "execution_count": 85,
      "outputs": [
        {
          "output_type": "execute_result",
          "data": {
            "text/html": [
              "<div>\n",
              "<style scoped>\n",
              "    .dataframe tbody tr th:only-of-type {\n",
              "        vertical-align: middle;\n",
              "    }\n",
              "\n",
              "    .dataframe tbody tr th {\n",
              "        vertical-align: top;\n",
              "    }\n",
              "\n",
              "    .dataframe thead th {\n",
              "        text-align: right;\n",
              "    }\n",
              "</style>\n",
              "<table border=\"1\" class=\"dataframe\">\n",
              "  <thead>\n",
              "    <tr style=\"text-align: right;\">\n",
              "      <th></th>\n",
              "      <th>A</th>\n",
              "      <th>B</th>\n",
              "      <th>C</th>\n",
              "    </tr>\n",
              "  </thead>\n",
              "  <tbody>\n",
              "    <tr>\n",
              "      <th>0</th>\n",
              "      <td>1.0</td>\n",
              "      <td>2.0</td>\n",
              "      <td>3.0</td>\n",
              "    </tr>\n",
              "    <tr>\n",
              "      <th>1</th>\n",
              "      <td>NaN</td>\n",
              "      <td>4.0</td>\n",
              "      <td>5.0</td>\n",
              "    </tr>\n",
              "  </tbody>\n",
              "</table>\n",
              "</div>"
            ],
            "text/plain": [
              "     A    B    C\n",
              "0  1.0  2.0  3.0\n",
              "1  NaN  4.0  5.0"
            ]
          },
          "metadata": {},
          "execution_count": 85
        }
      ]
    },
    {
      "cell_type": "code",
      "metadata": {
        "colab": {
          "base_uri": "https://localhost:8080/",
          "height": 142
        },
        "id": "HkqrJZTAzYxO",
        "outputId": "d87166cd-1921-4e25-b4f4-181c0ef08df3"
      },
      "source": [
        "df4.T"
      ],
      "execution_count": 86,
      "outputs": [
        {
          "output_type": "execute_result",
          "data": {
            "text/html": [
              "<div>\n",
              "<style scoped>\n",
              "    .dataframe tbody tr th:only-of-type {\n",
              "        vertical-align: middle;\n",
              "    }\n",
              "\n",
              "    .dataframe tbody tr th {\n",
              "        vertical-align: top;\n",
              "    }\n",
              "\n",
              "    .dataframe thead th {\n",
              "        text-align: right;\n",
              "    }\n",
              "</style>\n",
              "<table border=\"1\" class=\"dataframe\">\n",
              "  <thead>\n",
              "    <tr style=\"text-align: right;\">\n",
              "      <th></th>\n",
              "      <th>0</th>\n",
              "      <th>1</th>\n",
              "      <th>2</th>\n",
              "      <th>3</th>\n",
              "    </tr>\n",
              "  </thead>\n",
              "  <tbody>\n",
              "    <tr>\n",
              "      <th>A</th>\n",
              "      <td>1.0</td>\n",
              "      <td>NaN</td>\n",
              "      <td>NaN</td>\n",
              "      <td>NaN</td>\n",
              "    </tr>\n",
              "    <tr>\n",
              "      <th>B</th>\n",
              "      <td>2.0</td>\n",
              "      <td>4.0</td>\n",
              "      <td>7.0</td>\n",
              "      <td>NaN</td>\n",
              "    </tr>\n",
              "    <tr>\n",
              "      <th>C</th>\n",
              "      <td>3.0</td>\n",
              "      <td>5.0</td>\n",
              "      <td>NaN</td>\n",
              "      <td>NaN</td>\n",
              "    </tr>\n",
              "  </tbody>\n",
              "</table>\n",
              "</div>"
            ],
            "text/plain": [
              "     0    1    2   3\n",
              "A  1.0  NaN  NaN NaN\n",
              "B  2.0  4.0  7.0 NaN\n",
              "C  3.0  5.0  NaN NaN"
            ]
          },
          "metadata": {},
          "execution_count": 86
        }
      ]
    },
    {
      "cell_type": "code",
      "metadata": {
        "colab": {
          "base_uri": "https://localhost:8080/",
          "height": 173
        },
        "id": "rs3FLFI6zbXL",
        "outputId": "0b0b2eb9-a3dc-4061-cb5a-9ee87d27027d"
      },
      "source": [
        "df4.fillna(0, inplace=True)\n",
        "df4"
      ],
      "execution_count": 87,
      "outputs": [
        {
          "output_type": "execute_result",
          "data": {
            "text/html": [
              "<div>\n",
              "<style scoped>\n",
              "    .dataframe tbody tr th:only-of-type {\n",
              "        vertical-align: middle;\n",
              "    }\n",
              "\n",
              "    .dataframe tbody tr th {\n",
              "        vertical-align: top;\n",
              "    }\n",
              "\n",
              "    .dataframe thead th {\n",
              "        text-align: right;\n",
              "    }\n",
              "</style>\n",
              "<table border=\"1\" class=\"dataframe\">\n",
              "  <thead>\n",
              "    <tr style=\"text-align: right;\">\n",
              "      <th></th>\n",
              "      <th>A</th>\n",
              "      <th>B</th>\n",
              "      <th>C</th>\n",
              "    </tr>\n",
              "  </thead>\n",
              "  <tbody>\n",
              "    <tr>\n",
              "      <th>0</th>\n",
              "      <td>1.0</td>\n",
              "      <td>2.0</td>\n",
              "      <td>3.0</td>\n",
              "    </tr>\n",
              "    <tr>\n",
              "      <th>1</th>\n",
              "      <td>0.0</td>\n",
              "      <td>4.0</td>\n",
              "      <td>5.0</td>\n",
              "    </tr>\n",
              "    <tr>\n",
              "      <th>2</th>\n",
              "      <td>0.0</td>\n",
              "      <td>7.0</td>\n",
              "      <td>0.0</td>\n",
              "    </tr>\n",
              "    <tr>\n",
              "      <th>3</th>\n",
              "      <td>0.0</td>\n",
              "      <td>0.0</td>\n",
              "      <td>0.0</td>\n",
              "    </tr>\n",
              "  </tbody>\n",
              "</table>\n",
              "</div>"
            ],
            "text/plain": [
              "     A    B    C\n",
              "0  1.0  2.0  3.0\n",
              "1  0.0  4.0  5.0\n",
              "2  0.0  7.0  0.0\n",
              "3  0.0  0.0  0.0"
            ]
          },
          "metadata": {},
          "execution_count": 87
        }
      ]
    },
    {
      "cell_type": "code",
      "metadata": {
        "colab": {
          "base_uri": "https://localhost:8080/"
        },
        "id": "sehwqRNmzews",
        "outputId": "7153a72f-07a7-468b-b938-4603d4dd92e1"
      },
      "source": [
        "print(df4.mean())\n",
        "print(df4['C'].mean())"
      ],
      "execution_count": 88,
      "outputs": [
        {
          "output_type": "stream",
          "name": "stdout",
          "text": [
            "A    0.25\n",
            "B    3.25\n",
            "C    2.00\n",
            "dtype: float64\n",
            "2.0\n"
          ]
        }
      ]
    },
    {
      "cell_type": "code",
      "metadata": {
        "colab": {
          "base_uri": "https://localhost:8080/",
          "height": 204
        },
        "id": "pvcDMeXhzgZ5",
        "outputId": "94f52940-9d0d-46f9-a1f1-899c201b75a4"
      },
      "source": [
        "df5 = DataFrame({'Key 1': list('AAABB'), 'Key 2': [2,2,3,3,3]})\n",
        "df5"
      ],
      "execution_count": 89,
      "outputs": [
        {
          "output_type": "execute_result",
          "data": {
            "text/html": [
              "<div>\n",
              "<style scoped>\n",
              "    .dataframe tbody tr th:only-of-type {\n",
              "        vertical-align: middle;\n",
              "    }\n",
              "\n",
              "    .dataframe tbody tr th {\n",
              "        vertical-align: top;\n",
              "    }\n",
              "\n",
              "    .dataframe thead th {\n",
              "        text-align: right;\n",
              "    }\n",
              "</style>\n",
              "<table border=\"1\" class=\"dataframe\">\n",
              "  <thead>\n",
              "    <tr style=\"text-align: right;\">\n",
              "      <th></th>\n",
              "      <th>Key 1</th>\n",
              "      <th>Key 2</th>\n",
              "    </tr>\n",
              "  </thead>\n",
              "  <tbody>\n",
              "    <tr>\n",
              "      <th>0</th>\n",
              "      <td>A</td>\n",
              "      <td>2</td>\n",
              "    </tr>\n",
              "    <tr>\n",
              "      <th>1</th>\n",
              "      <td>A</td>\n",
              "      <td>2</td>\n",
              "    </tr>\n",
              "    <tr>\n",
              "      <th>2</th>\n",
              "      <td>A</td>\n",
              "      <td>3</td>\n",
              "    </tr>\n",
              "    <tr>\n",
              "      <th>3</th>\n",
              "      <td>B</td>\n",
              "      <td>3</td>\n",
              "    </tr>\n",
              "    <tr>\n",
              "      <th>4</th>\n",
              "      <td>B</td>\n",
              "      <td>3</td>\n",
              "    </tr>\n",
              "  </tbody>\n",
              "</table>\n",
              "</div>"
            ],
            "text/plain": [
              "  Key 1  Key 2\n",
              "0     A      2\n",
              "1     A      2\n",
              "2     A      3\n",
              "3     B      3\n",
              "4     B      3"
            ]
          },
          "metadata": {},
          "execution_count": 89
        }
      ]
    },
    {
      "cell_type": "code",
      "metadata": {
        "colab": {
          "base_uri": "https://localhost:8080/"
        },
        "id": "IZOgcdLUzi2x",
        "outputId": "e443bab2-e21c-422b-a89c-84ebe442165b"
      },
      "source": [
        "df5.duplicated()"
      ],
      "execution_count": 90,
      "outputs": [
        {
          "output_type": "execute_result",
          "data": {
            "text/plain": [
              "0    False\n",
              "1     True\n",
              "2    False\n",
              "3    False\n",
              "4     True\n",
              "dtype: bool"
            ]
          },
          "metadata": {},
          "execution_count": 90
        }
      ]
    },
    {
      "cell_type": "code",
      "metadata": {
        "colab": {
          "base_uri": "https://localhost:8080/"
        },
        "id": "IIRUXDuuzkhM",
        "outputId": "c097230b-e523-45ab-abcb-f20923b80c7a"
      },
      "source": [
        "df5.duplicated(keep='last')"
      ],
      "execution_count": 91,
      "outputs": [
        {
          "output_type": "execute_result",
          "data": {
            "text/plain": [
              "0     True\n",
              "1    False\n",
              "2    False\n",
              "3     True\n",
              "4    False\n",
              "dtype: bool"
            ]
          },
          "metadata": {},
          "execution_count": 91
        }
      ]
    },
    {
      "cell_type": "code",
      "metadata": {
        "colab": {
          "base_uri": "https://localhost:8080/"
        },
        "id": "QI7uUl7bzmTG",
        "outputId": "3a4758d2-a16e-46e5-9211-75e87106611b"
      },
      "source": [
        "df5[\"Key 1\"].duplicated()"
      ],
      "execution_count": 92,
      "outputs": [
        {
          "output_type": "execute_result",
          "data": {
            "text/plain": [
              "0    False\n",
              "1     True\n",
              "2     True\n",
              "3    False\n",
              "4     True\n",
              "Name: Key 1, dtype: bool"
            ]
          },
          "metadata": {},
          "execution_count": 92
        }
      ]
    },
    {
      "cell_type": "code",
      "metadata": {
        "colab": {
          "base_uri": "https://localhost:8080/",
          "height": 142
        },
        "id": "2jEo83IKzpoR",
        "outputId": "b279db70-a1f6-4d29-b3d7-9774d576e41c"
      },
      "source": [
        "df5.drop_duplicates()"
      ],
      "execution_count": 93,
      "outputs": [
        {
          "output_type": "execute_result",
          "data": {
            "text/html": [
              "<div>\n",
              "<style scoped>\n",
              "    .dataframe tbody tr th:only-of-type {\n",
              "        vertical-align: middle;\n",
              "    }\n",
              "\n",
              "    .dataframe tbody tr th {\n",
              "        vertical-align: top;\n",
              "    }\n",
              "\n",
              "    .dataframe thead th {\n",
              "        text-align: right;\n",
              "    }\n",
              "</style>\n",
              "<table border=\"1\" class=\"dataframe\">\n",
              "  <thead>\n",
              "    <tr style=\"text-align: right;\">\n",
              "      <th></th>\n",
              "      <th>Key 1</th>\n",
              "      <th>Key 2</th>\n",
              "    </tr>\n",
              "  </thead>\n",
              "  <tbody>\n",
              "    <tr>\n",
              "      <th>0</th>\n",
              "      <td>A</td>\n",
              "      <td>2</td>\n",
              "    </tr>\n",
              "    <tr>\n",
              "      <th>2</th>\n",
              "      <td>A</td>\n",
              "      <td>3</td>\n",
              "    </tr>\n",
              "    <tr>\n",
              "      <th>3</th>\n",
              "      <td>B</td>\n",
              "      <td>3</td>\n",
              "    </tr>\n",
              "  </tbody>\n",
              "</table>\n",
              "</div>"
            ],
            "text/plain": [
              "  Key 1  Key 2\n",
              "0     A      2\n",
              "2     A      3\n",
              "3     B      3"
            ]
          },
          "metadata": {},
          "execution_count": 93
        }
      ]
    },
    {
      "cell_type": "code",
      "metadata": {
        "colab": {
          "base_uri": "https://localhost:8080/",
          "height": 421
        },
        "id": "no93Om_czsUA",
        "outputId": "82805c80-15e3-4b0c-ca56-1c94a62ad3ac"
      },
      "source": [
        "df7 = DataFrame({'Variable': list('AAABBBCCCDDD'),\n",
        "                 'Value': [1,2,3]*4,\n",
        "                 'Data': np.random.randn(12)})\n",
        "df7"
      ],
      "execution_count": 94,
      "outputs": [
        {
          "output_type": "execute_result",
          "data": {
            "text/html": [
              "<div>\n",
              "<style scoped>\n",
              "    .dataframe tbody tr th:only-of-type {\n",
              "        vertical-align: middle;\n",
              "    }\n",
              "\n",
              "    .dataframe tbody tr th {\n",
              "        vertical-align: top;\n",
              "    }\n",
              "\n",
              "    .dataframe thead th {\n",
              "        text-align: right;\n",
              "    }\n",
              "</style>\n",
              "<table border=\"1\" class=\"dataframe\">\n",
              "  <thead>\n",
              "    <tr style=\"text-align: right;\">\n",
              "      <th></th>\n",
              "      <th>Variable</th>\n",
              "      <th>Value</th>\n",
              "      <th>Data</th>\n",
              "    </tr>\n",
              "  </thead>\n",
              "  <tbody>\n",
              "    <tr>\n",
              "      <th>0</th>\n",
              "      <td>A</td>\n",
              "      <td>1</td>\n",
              "      <td>0.601022</td>\n",
              "    </tr>\n",
              "    <tr>\n",
              "      <th>1</th>\n",
              "      <td>A</td>\n",
              "      <td>2</td>\n",
              "      <td>0.632726</td>\n",
              "    </tr>\n",
              "    <tr>\n",
              "      <th>2</th>\n",
              "      <td>A</td>\n",
              "      <td>3</td>\n",
              "      <td>0.268386</td>\n",
              "    </tr>\n",
              "    <tr>\n",
              "      <th>3</th>\n",
              "      <td>B</td>\n",
              "      <td>1</td>\n",
              "      <td>-0.581174</td>\n",
              "    </tr>\n",
              "    <tr>\n",
              "      <th>4</th>\n",
              "      <td>B</td>\n",
              "      <td>2</td>\n",
              "      <td>0.607474</td>\n",
              "    </tr>\n",
              "    <tr>\n",
              "      <th>5</th>\n",
              "      <td>B</td>\n",
              "      <td>3</td>\n",
              "      <td>-1.008110</td>\n",
              "    </tr>\n",
              "    <tr>\n",
              "      <th>6</th>\n",
              "      <td>C</td>\n",
              "      <td>1</td>\n",
              "      <td>-1.484106</td>\n",
              "    </tr>\n",
              "    <tr>\n",
              "      <th>7</th>\n",
              "      <td>C</td>\n",
              "      <td>2</td>\n",
              "      <td>0.038219</td>\n",
              "    </tr>\n",
              "    <tr>\n",
              "      <th>8</th>\n",
              "      <td>C</td>\n",
              "      <td>3</td>\n",
              "      <td>0.465464</td>\n",
              "    </tr>\n",
              "    <tr>\n",
              "      <th>9</th>\n",
              "      <td>D</td>\n",
              "      <td>1</td>\n",
              "      <td>2.153584</td>\n",
              "    </tr>\n",
              "    <tr>\n",
              "      <th>10</th>\n",
              "      <td>D</td>\n",
              "      <td>2</td>\n",
              "      <td>-0.991161</td>\n",
              "    </tr>\n",
              "    <tr>\n",
              "      <th>11</th>\n",
              "      <td>D</td>\n",
              "      <td>3</td>\n",
              "      <td>0.655702</td>\n",
              "    </tr>\n",
              "  </tbody>\n",
              "</table>\n",
              "</div>"
            ],
            "text/plain": [
              "   Variable  Value      Data\n",
              "0         A      1  0.601022\n",
              "1         A      2  0.632726\n",
              "2         A      3  0.268386\n",
              "3         B      1 -0.581174\n",
              "4         B      2  0.607474\n",
              "5         B      3 -1.008110\n",
              "6         C      1 -1.484106\n",
              "7         C      2  0.038219\n",
              "8         C      3  0.465464\n",
              "9         D      1  2.153584\n",
              "10        D      2 -0.991161\n",
              "11        D      3  0.655702"
            ]
          },
          "metadata": {},
          "execution_count": 94
        }
      ]
    },
    {
      "cell_type": "code",
      "metadata": {
        "colab": {
          "base_uri": "https://localhost:8080/",
          "height": 204
        },
        "id": "B7vclZUVzufx",
        "outputId": "3b02f94d-486e-49d8-cf6b-d0ef8e11e365"
      },
      "source": [
        "df7.pivot('Variable', 'Value', 'Data')"
      ],
      "execution_count": 95,
      "outputs": [
        {
          "output_type": "execute_result",
          "data": {
            "text/html": [
              "<div>\n",
              "<style scoped>\n",
              "    .dataframe tbody tr th:only-of-type {\n",
              "        vertical-align: middle;\n",
              "    }\n",
              "\n",
              "    .dataframe tbody tr th {\n",
              "        vertical-align: top;\n",
              "    }\n",
              "\n",
              "    .dataframe thead th {\n",
              "        text-align: right;\n",
              "    }\n",
              "</style>\n",
              "<table border=\"1\" class=\"dataframe\">\n",
              "  <thead>\n",
              "    <tr style=\"text-align: right;\">\n",
              "      <th>Value</th>\n",
              "      <th>1</th>\n",
              "      <th>2</th>\n",
              "      <th>3</th>\n",
              "    </tr>\n",
              "    <tr>\n",
              "      <th>Variable</th>\n",
              "      <th></th>\n",
              "      <th></th>\n",
              "      <th></th>\n",
              "    </tr>\n",
              "  </thead>\n",
              "  <tbody>\n",
              "    <tr>\n",
              "      <th>A</th>\n",
              "      <td>0.601022</td>\n",
              "      <td>0.632726</td>\n",
              "      <td>0.268386</td>\n",
              "    </tr>\n",
              "    <tr>\n",
              "      <th>B</th>\n",
              "      <td>-0.581174</td>\n",
              "      <td>0.607474</td>\n",
              "      <td>-1.008110</td>\n",
              "    </tr>\n",
              "    <tr>\n",
              "      <th>C</th>\n",
              "      <td>-1.484106</td>\n",
              "      <td>0.038219</td>\n",
              "      <td>0.465464</td>\n",
              "    </tr>\n",
              "    <tr>\n",
              "      <th>D</th>\n",
              "      <td>2.153584</td>\n",
              "      <td>-0.991161</td>\n",
              "      <td>0.655702</td>\n",
              "    </tr>\n",
              "  </tbody>\n",
              "</table>\n",
              "</div>"
            ],
            "text/plain": [
              "Value            1         2         3\n",
              "Variable                              \n",
              "A         0.601022  0.632726  0.268386\n",
              "B        -0.581174  0.607474 -1.008110\n",
              "C        -1.484106  0.038219  0.465464\n",
              "D         2.153584 -0.991161  0.655702"
            ]
          },
          "metadata": {},
          "execution_count": 95
        }
      ]
    },
    {
      "cell_type": "code",
      "metadata": {
        "colab": {
          "base_uri": "https://localhost:8080/"
        },
        "id": "Kbc4OnGrzw2E",
        "outputId": "b6b57101-8a65-4711-bb64-609785448e75"
      },
      "source": [
        "df7.shape"
      ],
      "execution_count": 96,
      "outputs": [
        {
          "output_type": "execute_result",
          "data": {
            "text/plain": [
              "(12, 3)"
            ]
          },
          "metadata": {},
          "execution_count": 96
        }
      ]
    },
    {
      "cell_type": "code",
      "metadata": {
        "colab": {
          "base_uri": "https://localhost:8080/"
        },
        "id": "yefopq1bz0gI",
        "outputId": "ef7a61de-6ed7-4f60-b314-4256dd109287"
      },
      "source": [
        "import urllib.request as request\n",
        "\n",
        "weburl = request.urlopen(\"http://www.google.com\")\n",
        "print(\"Result code: \" + str(weburl.getcode()))\n",
        "\n",
        "data = weburl.read()\n",
        "print(type(data))\n",
        "print(data)"
      ],
      "execution_count": 97,
      "outputs": [
        {
          "output_type": "stream",
          "name": "stdout",
          "text": [
            "Result code: 200\n",
            "<class 'bytes'>\n",
            "b'<!doctype html><html itemscope=\"\" itemtype=\"http://schema.org/WebPage\" lang=\"en\"><head><meta content=\"Search the world\\'s information, including webpages, images, videos and more. Google has many special features to help you find exactly what you\\'re looking for.\" name=\"description\"><meta content=\"noodp\" name=\"robots\"><meta content=\"text/html; charset=UTF-8\" http-equiv=\"Content-Type\"><meta content=\"/logos/doodles/2021/seasonal-holidays-2021-6753651837109324-law.gif\" itemprop=\"image\"><meta content=\"Seasonal Holidays 2021\" property=\"twitter:title\"><meta content=\"Seasonal Holidays 2021 #GoogleDoodle\" property=\"twitter:description\"><meta content=\"Seasonal Holidays 2021 #GoogleDoodle\" property=\"og:description\"><meta content=\"summary_large_image\" property=\"twitter:card\"><meta content=\"@GoogleDoodles\" property=\"twitter:site\"><meta content=\"https://www.google.com/logos/doodles/2021/seasonal-holidays-2021-6753651837109324-2xa.gif\" property=\"twitter:image\"><meta content=\"https://www.google.com/logos/doodles/2021/seasonal-holidays-2021-6753651837109324-2xa.gif\" property=\"og:image\"><meta content=\"1000\" property=\"og:image:width\"><meta content=\"400\" property=\"og:image:height\"><meta content=\"https://www.google.com/logos/doodles/2021/seasonal-holidays-2021-6753651837109324-2xa.gif\" property=\"og:url\"><meta content=\"video.other\" property=\"og:type\"><title>Google</title><script nonce=\"rkisCJugjt7kiLZwXXgUNg==\">(function(){window.google={kEI:\\'NoqjYbbyOqOqqtsPg9ihsAM\\',kEXPI:\\'0,18168,184203,1100165,56873,6059,206,4804,2316,383,246,5,1354,4013,923,314,1122516,1197724,668,328875,51223,16115,28684,17572,1325,3533,1362,9291,3028,17580,4020,978,13228,2676,1171,4192,6430,1142,6290,14390,919,5081,1593,1279,2212,530,149,1103,840,1983,213,4101,109,3405,606,2023,1733,43,522,14669,3227,2845,7,5599,6755,5096,8102,6294,1372,552,908,2,941,6397,8927,432,3,1590,1,5444,149,11323,2652,4,1528,2304,7039,74,1983,2626,15626,1714,3050,2658,7357,30,11413,2215,2305,675,1457,15351,1435,5821,2536,4094,3138,6,908,3,3541,1,14711,1814,282,38,874,5992,14678,742,35,1,2987,2,9220,619,4,41,4,4134,1244,4,683,442,342,255,55,4,2811,123,1557,744,5852,9454,1009,1160,6700,2380,2719,3708,2,10460,4126,1,8,5545,2172,4568,2578,3132,546,4035,1,2,2,2595,85,1,2779,1000,3,8128,4791,436,5673,516,5453,1097,1676,71,4676,2,2454,285,1257,37,833,1769,3,2,146,2204,340,222,261,1256,4,98,495,83,32,3,424,668,52,65,974,189,4,7,37,32,297,40,31,111,2,2,1,332,2658,303,2480,781,588,34,3781,140,218,186,148,113,601,723,536,401,179,2,572,391,79,5,506,558,4,216,2,116,659,37,2792,3,11,2,3,1,189,807,446,516,133,254,1205,374,114,1267,227,2,1257,1726,249,2734,593,5526762,101,345,449,1802567,4193852,212,46,2800439,882,444,1,2,80,1,1796,1,9,2553,1,748,141,795,563,1,4265,1,1,2,1331,4142,2609,155,17,13,72,139,4,2,20,2,169,13,19,46,5,39,96,548,29,2,2,1,2,1,2,2,7,4,1,2,2,2,2,2,2,353,513,186,1,1,158,3,2,2,2,2,2,4,2,3,3,269,551,988,31,31,2,6,15,4,20,7,21,5,1,2,3,23953036,4041351,338,3,2414,1491,9,114,1320,160,1356,7194\\',kBL:\\'9wkH\\'};google.sn=\\'webhp\\';google.kHL=\\'en\\';})();(function(){\\nvar f=this||self;var h,k=[];function l(a){for(var b;a&&(!a.getAttribute||!(b=a.getAttribute(\"eid\")));)a=a.parentNode;return b||h}function m(a){for(var b=null;a&&(!a.getAttribute||!(b=a.getAttribute(\"leid\")));)a=a.parentNode;return b}\\nfunction n(a,b,c,d,g){var e=\"\";c||-1!==b.search(\"&ei=\")||(e=\"&ei=\"+l(d),-1===b.search(\"&lei=\")&&(d=m(d))&&(e+=\"&lei=\"+d));d=\"\";!c&&f._cshid&&-1===b.search(\"&cshid=\")&&\"slh\"!==a&&(d=\"&cshid=\"+f._cshid);c=c||\"/\"+(g||\"gen_204\")+\"?atyp=i&ct=\"+a+\"&cad=\"+b+e+\"&zx=\"+Date.now()+d;/^http:/i.test(c)&&\"https:\"===window.location.protocol&&(google.ml&&google.ml(Error(\"a\"),!1,{src:c,glmm:1}),c=\"\");return c};h=google.kEI;google.getEI=l;google.getLEI=m;google.ml=function(){return null};google.log=function(a,b,c,d,g){if(c=n(a,b,c,d,g)){a=new Image;var e=k.length;k[e]=a;a.onerror=a.onload=a.onabort=function(){delete k[e]};a.src=c}};google.logUrl=n;}).call(this);(function(){\\ngoogle.y={};google.sy=[];google.x=function(a,b){if(a)var c=a.id;else{do c=Math.random();while(google.y[c])}google.y[c]=[a,b];return!1};google.sx=function(a){google.sy.push(a)};google.lm=[];google.plm=function(a){google.lm.push.apply(google.lm,a)};google.lq=[];google.load=function(a,b,c){google.lq.push([[a],b,c])};google.loadAll=function(a,b){google.lq.push([a,b])};google.bx=!1;google.lx=function(){};}).call(this);google.f={};(function(){\\ndocument.documentElement.addEventListener(\"submit\",function(b){var a;if(a=b.target){var c=a.getAttribute(\"data-submitfalse\");a=\"1\"===c||\"q\"===c&&!a.elements.q.value?!0:!1}else a=!1;a&&(b.preventDefault(),b.stopPropagation())},!0);document.documentElement.addEventListener(\"click\",function(b){var a;a:{for(a=b.target;a&&a!==document.documentElement;a=a.parentElement)if(\"A\"===a.tagName){a=\"1\"===a.getAttribute(\"data-nohref\");break a}a=!1}a&&b.preventDefault()},!0);}).call(this);</script><style>#gbar,#guser{font-size:13px;padding-top:1px !important;}#gbar{height:22px}#guser{padding-bottom:7px !important;text-align:right}.gbh,.gbd{border-top:1px solid #c9d7f1;font-size:1px}.gbh{height:0;position:absolute;top:24px;width:100%}@media all{.gb1{height:22px;margin-right:.5em;vertical-align:top}#gbar{float:left}}a.gb1,a.gb4{text-decoration:underline !important}a.gb1,a.gb4{color:#00c !important}.gbi .gb4{color:#dd8e27 !important}.gbf .gb4{color:#900 !important}\\n</style><style>body,td,a,p,.h{font-family:arial,sans-serif}body{margin:0;overflow-y:scroll}#gog{padding:3px 8px 0}td{line-height:.8em}.gac_m td{line-height:17px}form{margin-bottom:20px}.h{color:#1558d6}em{font-weight:bold;font-style:normal}.lst{height:25px;width:496px}.gsfi,.lst{font:18px arial,sans-serif}.gsfs{font:17px arial,sans-serif}.ds{display:inline-box;display:inline-block;margin:3px 0 4px;margin-left:4px}input{font-family:inherit}body{background:#fff;color:#000}a{color:#4b11a8;text-decoration:none}a:hover,a:active{text-decoration:underline}.fl a{color:#1558d6}a:visited{color:#4b11a8}.sblc{padding-top:5px}.sblc a{display:block;margin:2px 0;margin-left:13px;font-size:11px}.lsbb{background:#f8f9fa;border:solid 1px;border-color:#dadce0 #70757a #70757a #dadce0;height:30px}.lsbb{display:block}#WqQANb a{display:inline-block;margin:0 12px}.lsb{background:url(/images/nav_logo229.png) 0 -261px repeat-x;border:none;color:#000;cursor:pointer;height:30px;margin:0;outline:0;font:15px arial,sans-serif;vertical-align:top}.lsb:active{background:#dadce0}.lst:focus{outline:none}</style><script nonce=\"rkisCJugjt7kiLZwXXgUNg==\">(function(){window.google.erd={sp:\\'hp\\',jsr:0,bv:1481,de:true};\\nvar f=this||self;var g,h,k=null!==(g=f.mei)&&void 0!==g?g:1,l=null!==(h=f.sdo)&&void 0!==h?h:!0,p=0,q,r=google.erd,u=r.jsr;google.ml=function(a,b,d,m,c){c=void 0===c?2:c;b&&(q=a&&a.message);if(google.dl)return google.dl(a,c,d),null;if(0>u){window.console&&console.error(a,d);if(-2===u)throw a;b=!1}else b=!a||!a.message||\"Error loading script\"===a.message||p>=k&&!m?!1:!0;if(!b)return null;p++;d=d||{};var e=c;c=encodeURIComponent;b=\"/gen_204?atyp=i&ei=\"+c(google.kEI);google.kEXPI&&(b+=\"&jexpid=\"+c(google.kEXPI));b+=\"&srcpg=\"+c(google.sn)+\"&jsr=\"+c(r.jsr)+\"&bver=\"+c(r.bv)+(\"&jsel=\"+e);e=a.lineNumber;void 0!==e&&(b+=\"&line=\"+\\ne);var n=a.fileName;n&&(b+=\"&script=\"+c(n),e&&n===window.location.href&&(e=document.documentElement.outerHTML.split(\"\\\\n\")[e],b+=\"&cad=\"+c(e?e.substring(0,300):\"No script found.\")));for(var t in d)b+=\"&\",b+=c(t),b+=\"=\",b+=c(d[t]);b=b+\"&emsg=\"+c(a.name+\": \"+a.message);b=b+\"&jsst=\"+c(a.stack||\"N/A\");12288<=b.length&&(b=b.substr(0,12288));a=b;m||google.log(0,\"\",a);return a};window.onerror=function(a,b,d,m,c){q!==a&&(a=c instanceof Error?c:Error(a),void 0===d||\"lineNumber\"in a||(a.lineNumber=d),void 0===b||\"fileName\"in a||(a.fileName=b),google.ml(a,!1,void 0,!1,\"SyntaxError\"===a.name||\"SyntaxError\"===a.message.substring(0,11)?2:0));q=null;l&&p>=k&&(window.onerror=null)};})();</script></head><body bgcolor=\"#fff\"><script nonce=\"rkisCJugjt7kiLZwXXgUNg==\">(function(){var src=\\'/images/nav_logo229.png\\';var iesg=false;document.body.onload = function(){window.n && window.n();if (document.images){new Image().src=src;}\\nif (!iesg){document.f&&document.f.q.focus();document.gbqf&&document.gbqf.q.focus();}\\n}\\n})();</script><div id=\"mngb\"><div id=gbar><nobr><b class=gb1>Search</b> <a class=gb1 href=\"http://www.google.com/imghp?hl=en&tab=wi\">Images</a> <a class=gb1 href=\"http://maps.google.com/maps?hl=en&tab=wl\">Maps</a> <a class=gb1 href=\"https://play.google.com/?hl=en&tab=w8\">Play</a> <a class=gb1 href=\"http://www.youtube.com/?gl=US&tab=w1\">YouTube</a> <a class=gb1 href=\"https://news.google.com/?tab=wn\">News</a> <a class=gb1 href=\"https://mail.google.com/mail/?tab=wm\">Gmail</a> <a class=gb1 href=\"https://drive.google.com/?tab=wo\">Drive</a> <a class=gb1 style=\"text-decoration:none\" href=\"https://www.google.com/intl/en/about/products?tab=wh\"><u>More</u> &raquo;</a></nobr></div><div id=guser width=100%><nobr><span id=gbn class=gbi></span><span id=gbf class=gbf></span><span id=gbe></span><a href=\"http://www.google.com/history/optout?hl=en\" class=gb4>Web History</a> | <a  href=\"/preferences?hl=en\" class=gb4>Settings</a> | <a target=_top id=gb_70 href=\"https://accounts.google.com/ServiceLogin?hl=en&passive=true&continue=http://www.google.com/&ec=GAZAAQ\" class=gb4>Sign in</a></nobr></div><div class=gbh style=left:0></div><div class=gbh style=right:0></div></div><center><br clear=\"all\" id=\"lgpd\"><div id=\"lga\"><a href=\"/search?ie=UTF-8&amp;q=seasonal+holidays&amp;oi=ddle&amp;ct=199210428&amp;hl=en&amp;sa=X&amp;ved=0ahUKEwi25fTdmrv0AhUjlWoFHQNsCDYQPQgD\"><img alt=\"Seasonal Holidays 2021\" border=\"0\" height=\"200\" src=\"/logos/doodles/2021/seasonal-holidays-2021-6753651837109324-law.gif\" title=\"Seasonal Holidays 2021\" width=\"500\" id=\"hplogo\"><br></a><br></div><form action=\"/search\" name=\"f\"><table cellpadding=\"0\" cellspacing=\"0\"><tr valign=\"top\"><td width=\"25%\">&nbsp;</td><td align=\"center\" nowrap=\"\"><input name=\"ie\" value=\"ISO-8859-1\" type=\"hidden\"><input value=\"en\" name=\"hl\" type=\"hidden\"><input name=\"source\" type=\"hidden\" value=\"hp\"><input name=\"biw\" type=\"hidden\"><input name=\"bih\" type=\"hidden\"><div class=\"ds\" style=\"height:32px;margin:4px 0\"><input class=\"lst\" style=\"margin:0;padding:5px 8px 0 6px;vertical-align:top;color:#000\" autocomplete=\"off\" value=\"\" title=\"Google Search\" maxlength=\"2048\" name=\"q\" size=\"57\"></div><br style=\"line-height:0\"><span class=\"ds\"><span class=\"lsbb\"><input class=\"lsb\" value=\"Google Search\" name=\"btnG\" type=\"submit\"></span></span><span class=\"ds\"><span class=\"lsbb\"><input class=\"lsb\" id=\"tsuid1\" value=\"I\\'m Feeling Lucky\" name=\"btnI\" type=\"submit\"><script nonce=\"rkisCJugjt7kiLZwXXgUNg==\">(function(){var id=\\'tsuid1\\';document.getElementById(id).onclick = function(){if (this.form.q.value){this.checked = 1;if (this.form.iflsig)this.form.iflsig.disabled = false;}\\nelse top.location=\\'/doodles/\\';};})();</script><input value=\"ALs-wAMAAAAAYaOYRpjXPsfLlMISw7BY8U738Eub3WFz\" name=\"iflsig\" type=\"hidden\"></span></span></td><td class=\"fl sblc\" align=\"left\" nowrap=\"\" width=\"25%\"><a href=\"/advanced_search?hl=en&amp;authuser=0\">Advanced search</a></td></tr></table><input id=\"gbv\" name=\"gbv\" type=\"hidden\" value=\"1\"><script nonce=\"rkisCJugjt7kiLZwXXgUNg==\">(function(){\\nvar a,b=\"1\";if(document&&document.getElementById)if(\"undefined\"!=typeof XMLHttpRequest)b=\"2\";else if(\"undefined\"!=typeof ActiveXObject){var c,d,e=[\"MSXML2.XMLHTTP.6.0\",\"MSXML2.XMLHTTP.3.0\",\"MSXML2.XMLHTTP\",\"Microsoft.XMLHTTP\"];for(c=0;d=e[c++];)try{new ActiveXObject(d),b=\"2\"}catch(h){}}a=b;if(\"2\"==a&&-1==location.search.indexOf(\"&gbv=2\")){var f=google.gbvu,g=document.getElementById(\"gbv\");g&&(g.value=a);f&&window.setTimeout(function(){location.href=f},0)};}).call(this);</script></form><div id=\"gac_scont\"></div><div style=\"font-size:83%;min-height:3.5em\"><br></div><span id=\"footer\"><div style=\"font-size:10pt\"><div style=\"margin:19px auto;text-align:center\" id=\"WqQANb\"><a href=\"/intl/en/ads/\">Advertising\\xa0Programs</a><a href=\"/services/\">Business Solutions</a><a href=\"/intl/en/about.html\">About Google</a></div></div><p style=\"font-size:8pt;color:#70757a\">&copy; 2021 - <a href=\"/intl/en/policies/privacy/\">Privacy</a> - <a href=\"/intl/en/policies/terms/\">Terms</a></p></span></center><script nonce=\"rkisCJugjt7kiLZwXXgUNg==\">(function(){window.google.cdo={height:757,width:1440};(function(){\\nvar a=window.innerWidth,b=window.innerHeight;if(!a||!b){var c=window.document,d=\"CSS1Compat\"==c.compatMode?c.documentElement:c.body;a=d.clientWidth;b=d.clientHeight}a&&b&&(a!=google.cdo.width||b!=google.cdo.height)&&google.log(\"\",\"\",\"/client_204?&atyp=i&biw=\"+a+\"&bih=\"+b+\"&ei=\"+google.kEI);}).call(this);})();</script> <script nonce=\"rkisCJugjt7kiLZwXXgUNg==\">(function(){google.xjs={ck:\\'\\',cs:\\'\\',excm:[]};})();</script>  <script nonce=\"rkisCJugjt7kiLZwXXgUNg==\">(function(){var u=\\'/xjs/_/js/k\\\\x3dxjs.hp.en_US.3ntOeCNlr-8.O/am\\\\x3dACcAlg/d\\\\x3d1/ed\\\\x3d1/esmo\\\\x3d1/rs\\\\x3dACT90oF51IPZUVJlHhGDkLi7pzGRMs5Ykw/m\\\\x3dsb_he,d\\';\\nvar e=this||self,f=function(a){return a};var g;var l=function(a,b){this.g=b===h?a:\"\"};l.prototype.toString=function(){return this.g+\"\"};var h={};\\nfunction m(){var a=u;google.lx=function(){n(a);google.lx=function(){}};google.bx||google.lx()}\\nfunction n(a){google.timers&&google.timers.load&&google.tick&&google.tick(\"load\",\"xjsls\");var b=document;var c=\"SCRIPT\";\"application/xhtml+xml\"===b.contentType&&(c=c.toLowerCase());c=b.createElement(c);if(void 0===g){b=null;var k=e.trustedTypes;if(k&&k.createPolicy){try{b=k.createPolicy(\"goog#html\",{createHTML:f,createScript:f,createScriptURL:f})}catch(p){e.console&&e.console.error(p.message)}g=b}else g=b}a=(b=g)?b.createScriptURL(a):a;a=new l(a,h);c.src=a instanceof l&&a.constructor===l?a.g:\"type_error:TrustedResourceUrl\";var d;a=(c.ownerDocument&&c.ownerDocument.defaultView||window).document;(d=(b=null===(d=a.querySelector)||void 0===d?void 0:d.call(a,\"script[nonce]\"))?b.nonce||b.getAttribute(\"nonce\")||\"\":\"\")&&c.setAttribute(\"nonce\",d);document.body.appendChild(c);google.psa=!0};google.xjsu=u;setTimeout(function(){m()},0);})();function _DumpException(e){throw e;}\\nfunction _F_installCss(c){}\\n(function(){google.jl={attn:false,blt:\\'none\\',chnk:0,dw:false,dwu:true,emtn:0,end:0,ine:false,lls:\\'default\\',pdt:0,rep:0,snet:true,strt:0,ubm:false,uwp:true};})();(function(){var pmc=\\'{\\\\x22d\\\\x22:{},\\\\x22sb_he\\\\x22:{\\\\x22agen\\\\x22:true,\\\\x22cgen\\\\x22:true,\\\\x22client\\\\x22:\\\\x22heirloom-hp\\\\x22,\\\\x22dh\\\\x22:true,\\\\x22dhqt\\\\x22:true,\\\\x22ds\\\\x22:\\\\x22\\\\x22,\\\\x22ffql\\\\x22:\\\\x22en\\\\x22,\\\\x22fl\\\\x22:true,\\\\x22host\\\\x22:\\\\x22google.com\\\\x22,\\\\x22isbh\\\\x22:28,\\\\x22jsonp\\\\x22:true,\\\\x22msgs\\\\x22:{\\\\x22cibl\\\\x22:\\\\x22Clear Search\\\\x22,\\\\x22dym\\\\x22:\\\\x22Did you mean:\\\\x22,\\\\x22lcky\\\\x22:\\\\x22I\\\\\\\\u0026#39;m Feeling Lucky\\\\x22,\\\\x22lml\\\\x22:\\\\x22Learn more\\\\x22,\\\\x22oskt\\\\x22:\\\\x22Input tools\\\\x22,\\\\x22psrc\\\\x22:\\\\x22This search was removed from your \\\\\\\\u003Ca href\\\\x3d\\\\\\\\\\\\x22/history\\\\\\\\\\\\x22\\\\\\\\u003EWeb History\\\\\\\\u003C/a\\\\\\\\u003E\\\\x22,\\\\x22psrl\\\\x22:\\\\x22Remove\\\\x22,\\\\x22sbit\\\\x22:\\\\x22Search by image\\\\x22,\\\\x22srch\\\\x22:\\\\x22Google Search\\\\x22},\\\\x22ovr\\\\x22:{},\\\\x22pq\\\\x22:\\\\x22\\\\x22,\\\\x22refpd\\\\x22:true,\\\\x22rfs\\\\x22:[],\\\\x22sbas\\\\x22:\\\\x220 3px 8px 0 rgba(0,0,0,0.2),0 0 0 1px rgba(0,0,0,0.08)\\\\x22,\\\\x22sbpl\\\\x22:16,\\\\x22sbpr\\\\x22:16,\\\\x22scd\\\\x22:10,\\\\x22stok\\\\x22:\\\\x22LI9BoX0QfxtRKG1K5wdZTkr0LhE\\\\x22,\\\\x22uhde\\\\x22:false}}\\';google.pmc=JSON.parse(pmc);})();</script>        </body></html>'\n"
          ]
        }
      ]
    },
    {
      "cell_type": "code",
      "metadata": {
        "colab": {
          "base_uri": "https://localhost:8080/"
        },
        "id": "M5guBB27z35C",
        "outputId": "23cf1f20-0dcb-4bbd-d72b-f6ed5a823b39"
      },
      "source": [
        "import json \n",
        "weburl = request.urlopen(\"http://earthquake.usgs.gov/earthquakes/feed/v1.0/summary/2.5_day.geojson\")\n",
        "print(\"Result code: \" + str(weburl.getcode()))\n",
        "\n",
        "data = weburl.read()\n",
        "print(data)\n",
        "\n",
        "thejson = json.loads(data)\n",
        "print(thejson)\n",
        "\n",
        "if \"title\" in thejson[\"metadata\"]:\n",
        "  print(thejson[\"metadata\"][\"title\"])\n",
        "\n",
        "\n",
        "count = thejson[\"metadata\"][\"count\"]\n",
        "print(count)\n",
        "\n",
        "print(\"----------------------------------------\")\n",
        "for i in thejson[\"features\"]:\n",
        "  print(i[\"properties\"][\"place\"])\n",
        "\n",
        "\n",
        "print(\"----------------------------------------\")\n",
        "\n",
        "for i in thejson[\"features\"]:\n",
        "  if i[\"properties\"][\"mag\"] > 2.5:\n",
        "    print(i[\"properties\"][\"place\"])"
      ],
      "execution_count": 98,
      "outputs": [
        {
          "output_type": "stream",
          "name": "stdout",
          "text": [
            "Result code: 200\n",
            "b'{\"type\":\"FeatureCollection\",\"metadata\":{\"generated\":1638107695000,\"url\":\"https://earthquake.usgs.gov/earthquakes/feed/v1.0/summary/2.5_day.geojson\",\"title\":\"USGS Magnitude 2.5+ Earthquakes, Past Day\",\"status\":200,\"api\":\"1.10.3\",\"count\":56},\"features\":[{\"type\":\"Feature\",\"properties\":{\"mag\":2.9,\"place\":\"56 km S of Whites City, New Mexico\",\"time\":1638106472986,\"updated\":1638107388835,\"tz\":null,\"url\":\"https://earthquake.usgs.gov/earthquakes/eventpage/tx2021xhuk\",\"detail\":\"https://earthquake.usgs.gov/earthquakes/feed/v1.0/detail/tx2021xhuk.geojson\",\"felt\":null,\"cdi\":null,\"mmi\":null,\"alert\":null,\"status\":\"reviewed\",\"tsunami\":0,\"sig\":129,\"net\":\"tx\",\"code\":\"2021xhuk\",\"ids\":\",us7000fxr3,tx2021xhuk,\",\"sources\":\",us,tx,\",\"types\":\",origin,phase-data,\",\"nst\":14,\"dmin\":0.1027023015,\"rms\":0.3,\"gap\":60,\"magType\":\"ml\",\"type\":\"earthquake\",\"title\":\"M 2.9 - 56 km S of Whites City, New Mexico\"},\"geometry\":{\"type\":\"Point\",\"coordinates\":[-104.3803075,31.66774561,7.391259766]},\"id\":\"tx2021xhuk\"},\\n{\"type\":\"Feature\",\"properties\":{\"mag\":3.07,\"place\":\"20 km ESE of Kanarraville, Utah\",\"time\":1638098146840,\"updated\":1638102190180,\"tz\":null,\"url\":\"https://earthquake.usgs.gov/earthquakes/eventpage/uu60470092\",\"detail\":\"https://earthquake.usgs.gov/earthquakes/feed/v1.0/detail/uu60470092.geojson\",\"felt\":2,\"cdi\":3.1,\"mmi\":3.298,\"alert\":null,\"status\":\"reviewed\",\"tsunami\":0,\"sig\":146,\"net\":\"uu\",\"code\":\"60470092\",\"ids\":\",uu60470092,us7000fxq5,\",\"sources\":\",uu,us,\",\"types\":\",dyfi,origin,phase-data,shakemap,\",\"nst\":21,\"dmin\":0.1427,\"rms\":0.13,\"gap\":115,\"magType\":\"ml\",\"type\":\"earthquake\",\"title\":\"M 3.1 - 20 km ESE of Kanarraville, Utah\"},\"geometry\":{\"type\":\"Point\",\"coordinates\":[-112.9816667,37.4415,6.12]},\"id\":\"uu60470092\"},\\n{\"type\":\"Feature\",\"properties\":{\"mag\":2.5,\"place\":\"4 km S of P\\xc4\\x81hala, Hawaii\",\"time\":1638097168060,\"updated\":1638098250040,\"tz\":null,\"url\":\"https://earthquake.usgs.gov/earthquakes/eventpage/hv72814852\",\"detail\":\"https://earthquake.usgs.gov/earthquakes/feed/v1.0/detail/hv72814852.geojson\",\"felt\":null,\"cdi\":null,\"mmi\":null,\"alert\":null,\"status\":\"automatic\",\"tsunami\":0,\"sig\":96,\"net\":\"hv\",\"code\":\"72814852\",\"ids\":\",us7000fxq3,hv72814852,\",\"sources\":\",us,hv,\",\"types\":\",origin,phase-data,\",\"nst\":48,\"dmin\":null,\"rms\":0.150000006,\"gap\":156,\"magType\":\"ml\",\"type\":\"earthquake\",\"title\":\"M 2.5 - 4 km S of P\\xc4\\x81hala, Hawaii\"},\"geometry\":{\"type\":\"Point\",\"coordinates\":[-155.470993041992,19.162166595459,31.5300006866455]},\"id\":\"hv72814852\"},\\n{\"type\":\"Feature\",\"properties\":{\"mag\":7.5,\"place\":\"42 km NNW of Barranca, Peru\",\"time\":1638096733239,\"updated\":1638107494512,\"tz\":null,\"url\":\"https://earthquake.usgs.gov/earthquakes/eventpage/us7000fxq2\",\"detail\":\"https://earthquake.usgs.gov/earthquakes/feed/v1.0/detail/us7000fxq2.geojson\",\"felt\":202,\"cdi\":8.6,\"mmi\":7.856,\"alert\":\"yellow\",\"status\":\"reviewed\",\"tsunami\":1,\"sig\":1039,\"net\":\"us\",\"code\":\"7000fxq2\",\"ids\":\",pt21332000,at00r3a3j1,us7000fxq2,\",\"sources\":\",pt,at,us,\",\"types\":\",dyfi,general-text,ground-failure,impact-link,losspager,moment-tensor,origin,phase-data,shakemap,\",\"nst\":null,\"dmin\":4.962,\"rms\":0.61,\"gap\":42,\"magType\":\"mww\",\"type\":\"earthquake\",\"title\":\"M 7.5 - 42 km NNW of Barranca, Peru\"},\"geometry\":{\"type\":\"Point\",\"coordinates\":[-76.8461,-4.4898,112.48]},\"id\":\"us7000fxq2\"},\\n{\"type\":\"Feature\",\"properties\":{\"mag\":4.5,\"place\":\"24 km ENE of Riosucio, Colombia\",\"time\":1638092535656,\"updated\":1638098631369,\"tz\":null,\"url\":\"https://earthquake.usgs.gov/earthquakes/eventpage/us7000fxps\",\"detail\":\"https://earthquake.usgs.gov/earthquakes/feed/v1.0/detail/us7000fxps.geojson\",\"felt\":4,\"cdi\":2.6,\"mmi\":null,\"alert\":null,\"status\":\"reviewed\",\"tsunami\":0,\"sig\":313,\"net\":\"us\",\"code\":\"7000fxps\",\"ids\":\",us7000fxps,\",\"sources\":\",us,\",\"types\":\",dyfi,origin,phase-data,\",\"nst\":null,\"dmin\":1.924,\"rms\":0.71,\"gap\":94,\"magType\":\"mb\",\"type\":\"earthquake\",\"title\":\"M 4.5 - 24 km ENE of Riosucio, Colombia\"},\"geometry\":{\"type\":\"Point\",\"coordinates\":[-76.9227,7.5372,23.41]},\"id\":\"us7000fxps\"},\\n{\"type\":\"Feature\",\"properties\":{\"mag\":4,\"place\":\"Near the coast of Valparaiso, Chile\",\"time\":1638092237623,\"updated\":1638107531742,\"tz\":null,\"url\":\"https://earthquake.usgs.gov/earthquakes/eventpage/us7000fxpj\",\"detail\":\"https://earthquake.usgs.gov/earthquakes/feed/v1.0/detail/us7000fxpj.geojson\",\"felt\":1,\"cdi\":3.8,\"mmi\":null,\"alert\":null,\"status\":\"reviewed\",\"tsunami\":0,\"sig\":247,\"net\":\"us\",\"code\":\"7000fxpj\",\"ids\":\",us7000fxpj,\",\"sources\":\",us,\",\"types\":\",dyfi,moment-tensor,origin,phase-data,\",\"nst\":null,\"dmin\":0.683,\"rms\":0.79,\"gap\":134,\"magType\":\"mwr\",\"type\":\"earthquake\",\"title\":\"M 4.0 - Near the coast of Valparaiso, Chile\"},\"geometry\":{\"type\":\"Point\",\"coordinates\":[-71.9198,-32.3775,22.65]},\"id\":\"us7000fxpj\"},\\n{\"type\":\"Feature\",\"properties\":{\"mag\":4.2,\"place\":\"259 km E of Levuka, Fiji\",\"time\":1638090371207,\"updated\":1638095735040,\"tz\":null,\"url\":\"https://earthquake.usgs.gov/earthquakes/eventpage/us7000fxpm\",\"detail\":\"https://earthquake.usgs.gov/earthquakes/feed/v1.0/detail/us7000fxpm.geojson\",\"felt\":null,\"cdi\":null,\"mmi\":null,\"alert\":null,\"status\":\"reviewed\",\"tsunami\":0,\"sig\":271,\"net\":\"us\",\"code\":\"7000fxpm\",\"ids\":\",us7000fxpm,\",\"sources\":\",us,\",\"types\":\",origin,phase-data,\",\"nst\":null,\"dmin\":3.576,\"rms\":0.68,\"gap\":115,\"magType\":\"mb\",\"type\":\"earthquake\",\"title\":\"M 4.2 - 259 km E of Levuka, Fiji\"},\"geometry\":{\"type\":\"Point\",\"coordinates\":[-178.2631,-18.4679,496.63]},\"id\":\"us7000fxpm\"},\\n{\"type\":\"Feature\",\"properties\":{\"mag\":2.9,\"place\":\"56 km S of Whites City, New Mexico\",\"time\":1638089935226,\"updated\":1638090724160,\"tz\":null,\"url\":\"https://earthquake.usgs.gov/earthquakes/eventpage/tx2021xhlh\",\"detail\":\"https://earthquake.usgs.gov/earthquakes/feed/v1.0/detail/tx2021xhlh.geojson\",\"felt\":null,\"cdi\":null,\"mmi\":null,\"alert\":null,\"status\":\"reviewed\",\"tsunami\":0,\"sig\":129,\"net\":\"tx\",\"code\":\"2021xhlh\",\"ids\":\",us7000fxpa,tx2021xhlh,\",\"sources\":\",us,tx,\",\"types\":\",origin,phase-data,\",\"nst\":14,\"dmin\":0.09352561145,\"rms\":0.2,\"gap\":60,\"magType\":\"ml\",\"type\":\"earthquake\",\"title\":\"M 2.9 - 56 km S of Whites City, New Mexico\"},\"geometry\":{\"type\":\"Point\",\"coordinates\":[-104.3910727,31.66767676,7.596923828000001]},\"id\":\"tx2021xhlh\"},\\n{\"type\":\"Feature\",\"properties\":{\"mag\":2.71,\"place\":\"8km NNE of Hayfork, CA\",\"time\":1638089773400,\"updated\":1638094332563,\"tz\":null,\"url\":\"https://earthquake.usgs.gov/earthquakes/eventpage/nc73659055\",\"detail\":\"https://earthquake.usgs.gov/earthquakes/feed/v1.0/detail/nc73659055.geojson\",\"felt\":null,\"cdi\":null,\"mmi\":null,\"alert\":null,\"status\":\"automatic\",\"tsunami\":0,\"sig\":113,\"net\":\"nc\",\"code\":\"73659055\",\"ids\":\",nc73659055,\",\"sources\":\",nc,\",\"types\":\",nearby-cities,origin,phase-data,scitech-link,\",\"nst\":6,\"dmin\":0.06572,\"rms\":0.04,\"gap\":102,\"magType\":\"md\",\"type\":\"earthquake\",\"title\":\"M 2.7 - 8km NNE of Hayfork, CA\"},\"geometry\":{\"type\":\"Point\",\"coordinates\":[-123.1504974,40.6204987,30.09]},\"id\":\"nc73659055\"},\\n{\"type\":\"Feature\",\"properties\":{\"mag\":2.63,\"place\":\"6 km SSW of Tallaboa, Puerto Rico\",\"time\":1638088023010,\"updated\":1638088826521,\"tz\":null,\"url\":\"https://earthquake.usgs.gov/earthquakes/eventpage/pr2021332012\",\"detail\":\"https://earthquake.usgs.gov/earthquakes/feed/v1.0/detail/pr2021332012.geojson\",\"felt\":null,\"cdi\":null,\"mmi\":null,\"alert\":null,\"status\":\"reviewed\",\"tsunami\":0,\"sig\":106,\"net\":\"pr\",\"code\":\"2021332012\",\"ids\":\",pr2021332012,\",\"sources\":\",pr,\",\"types\":\",origin,phase-data,\",\"nst\":17,\"dmin\":0.1395,\"rms\":0.11,\"gap\":170,\"magType\":\"md\",\"type\":\"earthquake\",\"title\":\"M 2.6 - 6 km SSW of Tallaboa, Puerto Rico\"},\"geometry\":{\"type\":\"Point\",\"coordinates\":[-66.743,17.945,18]},\"id\":\"pr2021332012\"},\\n{\"type\":\"Feature\",\"properties\":{\"mag\":2.7,\"place\":\"Colorado\",\"time\":1638087134466,\"updated\":1638088270040,\"tz\":null,\"url\":\"https://earthquake.usgs.gov/earthquakes/eventpage/us7000fxnu\",\"detail\":\"https://earthquake.usgs.gov/earthquakes/feed/v1.0/detail/us7000fxnu.geojson\",\"felt\":null,\"cdi\":null,\"mmi\":null,\"alert\":null,\"status\":\"reviewed\",\"tsunami\":0,\"sig\":112,\"net\":\"us\",\"code\":\"7000fxnu\",\"ids\":\",us7000fxnu,\",\"sources\":\",us,\",\"types\":\",origin,phase-data,\",\"nst\":null,\"dmin\":0.241,\"rms\":0.41,\"gap\":70,\"magType\":\"ml\",\"type\":\"earthquake\",\"title\":\"M 2.7 - Colorado\"},\"geometry\":{\"type\":\"Point\",\"coordinates\":[-104.3336,37.373,8]},\"id\":\"us7000fxnu\"},\\n{\"type\":\"Feature\",\"properties\":{\"mag\":2.9,\"place\":\"8 km SE of Miches, Dominican Republic\",\"time\":1638085818405,\"updated\":1638088242040,\"tz\":null,\"url\":\"https://earthquake.usgs.gov/earthquakes/eventpage/us7000fxnq\",\"detail\":\"https://earthquake.usgs.gov/earthquakes/feed/v1.0/detail/us7000fxnq.geojson\",\"felt\":null,\"cdi\":null,\"mmi\":null,\"alert\":null,\"status\":\"reviewed\",\"tsunami\":0,\"sig\":129,\"net\":\"us\",\"code\":\"7000fxnq\",\"ids\":\",us7000fxnq,\",\"sources\":\",us,\",\"types\":\",origin,phase-data,\",\"nst\":null,\"dmin\":0.711,\"rms\":0.45,\"gap\":176,\"magType\":\"ml\",\"type\":\"earthquake\",\"title\":\"M 2.9 - 8 km SE of Miches, Dominican Republic\"},\"geometry\":{\"type\":\"Point\",\"coordinates\":[-68.9991,18.9199,8.05]},\"id\":\"us7000fxnq\"},\\n{\"type\":\"Feature\",\"properties\":{\"mag\":2.74,\"place\":\"4 km ENE of La Parguera, Puerto Rico\",\"time\":1638085420650,\"updated\":1638086446729,\"tz\":null,\"url\":\"https://earthquake.usgs.gov/earthquakes/eventpage/pr2021332010\",\"detail\":\"https://earthquake.usgs.gov/earthquakes/feed/v1.0/detail/pr2021332010.geojson\",\"felt\":null,\"cdi\":null,\"mmi\":null,\"alert\":null,\"status\":\"reviewed\",\"tsunami\":0,\"sig\":116,\"net\":\"pr\",\"code\":\"2021332010\",\"ids\":\",pr2021332010,\",\"sources\":\",pr,\",\"types\":\",origin,phase-data,\",\"nst\":16,\"dmin\":0.0423,\"rms\":0.17,\"gap\":147,\"magType\":\"md\",\"type\":\"earthquake\",\"title\":\"M 2.7 - 4 km ENE of La Parguera, Puerto Rico\"},\"geometry\":{\"type\":\"Point\",\"coordinates\":[-67.0045,17.9841,10]},\"id\":\"pr2021332010\"},\\n{\"type\":\"Feature\",\"properties\":{\"mag\":4.1,\"place\":\"Fiji region\",\"time\":1638083815827,\"updated\":1638087663040,\"tz\":null,\"url\":\"https://earthquake.usgs.gov/earthquakes/eventpage/us7000fxnl\",\"detail\":\"https://earthquake.usgs.gov/earthquakes/feed/v1.0/detail/us7000fxnl.geojson\",\"felt\":null,\"cdi\":null,\"mmi\":null,\"alert\":null,\"status\":\"reviewed\",\"tsunami\":0,\"sig\":259,\"net\":\"us\",\"code\":\"7000fxnl\",\"ids\":\",us7000fxnl,\",\"sources\":\",us,\",\"types\":\",origin,phase-data,\",\"nst\":null,\"dmin\":4.394,\"rms\":0.34,\"gap\":171,\"magType\":\"mb\",\"type\":\"earthquake\",\"title\":\"M 4.1 - Fiji region\"},\"geometry\":{\"type\":\"Point\",\"coordinates\":[-178.2569,-20.4295,568.76]},\"id\":\"us7000fxnl\"},\\n{\"type\":\"Feature\",\"properties\":{\"mag\":3,\"place\":\"182 km W of Ferndale, California\",\"time\":1638082639349,\"updated\":1638083871040,\"tz\":null,\"url\":\"https://earthquake.usgs.gov/earthquakes/eventpage/us7000fxnb\",\"detail\":\"https://earthquake.usgs.gov/earthquakes/feed/v1.0/detail/us7000fxnb.geojson\",\"felt\":null,\"cdi\":null,\"mmi\":null,\"alert\":null,\"status\":\"reviewed\",\"tsunami\":0,\"sig\":138,\"net\":\"us\",\"code\":\"7000fxnb\",\"ids\":\",us7000fxnb,\",\"sources\":\",us,\",\"types\":\",origin,phase-data,\",\"nst\":null,\"dmin\":1.743,\"rms\":0.68,\"gap\":258,\"magType\":\"ml\",\"type\":\"earthquake\",\"title\":\"M 3.0 - 182 km W of Ferndale, California\"},\"geometry\":{\"type\":\"Point\",\"coordinates\":[-126.4046,40.4233,10]},\"id\":\"us7000fxnb\"},\\n{\"type\":\"Feature\",\"properties\":{\"mag\":5.1,\"place\":\"28 km W of Callao, Peru\",\"time\":1638081150995,\"updated\":1638106841524,\"tz\":null,\"url\":\"https://earthquake.usgs.gov/earthquakes/eventpage/us7000fxna\",\"detail\":\"https://earthquake.usgs.gov/earthquakes/feed/v1.0/detail/us7000fxna.geojson\",\"felt\":68,\"cdi\":4.6,\"mmi\":null,\"alert\":null,\"status\":\"reviewed\",\"tsunami\":0,\"sig\":431,\"net\":\"us\",\"code\":\"7000fxna\",\"ids\":\",us7000fxna,\",\"sources\":\",us,\",\"types\":\",dyfi,origin,phase-data,\",\"nst\":null,\"dmin\":0.523,\"rms\":0.94,\"gap\":85,\"magType\":\"mb\",\"type\":\"earthquake\",\"title\":\"M 5.1 - 28 km W of Callao, Peru\"},\"geometry\":{\"type\":\"Point\",\"coordinates\":[-77.3749,-12.0305,64.45]},\"id\":\"us7000fxna\"},\\n{\"type\":\"Feature\",\"properties\":{\"mag\":2.9,\"place\":\"12 km W of Venetie, Alaska\",\"time\":1638081036161,\"updated\":1638084826040,\"tz\":null,\"url\":\"https://earthquake.usgs.gov/earthquakes/eventpage/ak021f966bs2\",\"detail\":\"https://earthquake.usgs.gov/earthquakes/feed/v1.0/detail/ak021f966bs2.geojson\",\"felt\":null,\"cdi\":null,\"mmi\":null,\"alert\":null,\"status\":\"automatic\",\"tsunami\":0,\"sig\":129,\"net\":\"ak\",\"code\":\"021f966bs2\",\"ids\":\",us7000fxn9,ak021f966bs2,\",\"sources\":\",us,ak,\",\"types\":\",origin,phase-data,\",\"nst\":null,\"dmin\":null,\"rms\":0.74,\"gap\":null,\"magType\":\"ml\",\"type\":\"earthquake\",\"title\":\"M 2.9 - 12 km W of Venetie, Alaska\"},\"geometry\":{\"type\":\"Point\",\"coordinates\":[-146.7062,67.0253,4.5]},\"id\":\"ak021f966bs2\"},\\n{\"type\":\"Feature\",\"properties\":{\"mag\":3.2,\"place\":\"western Texas\",\"time\":1638079150556,\"updated\":1638087053726,\"tz\":null,\"url\":\"https://earthquake.usgs.gov/earthquakes/eventpage/tx2021xhfj\",\"detail\":\"https://earthquake.usgs.gov/earthquakes/feed/v1.0/detail/tx2021xhfj.geojson\",\"felt\":4,\"cdi\":4.1,\"mmi\":null,\"alert\":null,\"status\":\"reviewed\",\"tsunami\":0,\"sig\":159,\"net\":\"tx\",\"code\":\"2021xhfj\",\"ids\":\",tx2021xhfj,us7000fxmy,\",\"sources\":\",tx,us,\",\"types\":\",dyfi,origin,phase-data,\",\"nst\":17,\"dmin\":0.1108347508,\"rms\":0.2,\"gap\":53,\"magType\":\"ml\",\"type\":\"earthquake\",\"title\":\"M 3.2 - western Texas\"},\"geometry\":{\"type\":\"Point\",\"coordinates\":[-104.2436354,31.67497601,7.288427734]},\"id\":\"tx2021xhfj\"},\\n{\"type\":\"Feature\",\"properties\":{\"mag\":2.8,\"place\":\"20 km WSW of Venetie, Alaska\",\"time\":1638078715308,\"updated\":1638079382086,\"tz\":null,\"url\":\"https://earthquake.usgs.gov/earthquakes/eventpage/ak021f95pfpr\",\"detail\":\"https://earthquake.usgs.gov/earthquakes/feed/v1.0/detail/ak021f95pfpr.geojson\",\"felt\":null,\"cdi\":null,\"mmi\":null,\"alert\":null,\"status\":\"automatic\",\"tsunami\":0,\"sig\":121,\"net\":\"ak\",\"code\":\"021f95pfpr\",\"ids\":\",ak021f95pfpr,\",\"sources\":\",ak,\",\"types\":\",origin,\",\"nst\":null,\"dmin\":null,\"rms\":0.77,\"gap\":null,\"magType\":\"ml\",\"type\":\"earthquake\",\"title\":\"M 2.8 - 20 km WSW of Venetie, Alaska\"},\"geometry\":{\"type\":\"Point\",\"coordinates\":[-146.8561,66.9407,73.9]},\"id\":\"ak021f95pfpr\"},\\n{\"type\":\"Feature\",\"properties\":{\"mag\":2.58,\"place\":\"12km N of Tecate, B.C., MX\",\"time\":1638078308330,\"updated\":1638105250390,\"tz\":null,\"url\":\"https://earthquake.usgs.gov/earthquakes/eventpage/ci39872567\",\"detail\":\"https://earthquake.usgs.gov/earthquakes/feed/v1.0/detail/ci39872567.geojson\",\"felt\":1,\"cdi\":3.1,\"mmi\":null,\"alert\":null,\"status\":\"automatic\",\"tsunami\":0,\"sig\":103,\"net\":\"ci\",\"code\":\"39872567\",\"ids\":\",ci39872567,\",\"sources\":\",ci,\",\"types\":\",dyfi,nearby-cities,origin,phase-data,scitech-link,\",\"nst\":5,\"dmin\":0.27,\"rms\":0.13,\"gap\":165,\"magType\":\"ml\",\"type\":\"earthquake\",\"title\":\"M 2.6 - 12km N of Tecate, B.C., MX\"},\"geometry\":{\"type\":\"Point\",\"coordinates\":[-116.6483333,32.6775,1.63]},\"id\":\"ci39872567\"},\\n{\"type\":\"Feature\",\"properties\":{\"mag\":2.55,\"place\":\"16km SSW of Progreso, B.C., MX\",\"time\":1638078290390,\"updated\":1638104809718,\"tz\":null,\"url\":\"https://earthquake.usgs.gov/earthquakes/eventpage/ci39872559\",\"detail\":\"https://earthquake.usgs.gov/earthquakes/feed/v1.0/detail/ci39872559.geojson\",\"felt\":1,\"cdi\":2,\"mmi\":null,\"alert\":null,\"status\":\"automatic\",\"tsunami\":0,\"sig\":100,\"net\":\"ci\",\"code\":\"39872559\",\"ids\":\",ci39872559,\",\"sources\":\",ci,\",\"types\":\",dyfi,nearby-cities,origin,phase-data,scitech-link,\",\"nst\":6,\"dmin\":0.2144,\"rms\":0.36,\"gap\":244,\"magType\":\"ml\",\"type\":\"earthquake\",\"title\":\"M 2.6 - 16km SSW of Progreso, B.C., MX\"},\"geometry\":{\"type\":\"Point\",\"coordinates\":[-115.6431667,32.4461667,16.14]},\"id\":\"ci39872559\"},\\n{\"type\":\"Feature\",\"properties\":{\"mag\":3.2,\"place\":\"59 km ENE of San Vicente, Mexico\",\"time\":1638078260388,\"updated\":1638086622289,\"tz\":null,\"url\":\"https://earthquake.usgs.gov/earthquakes/eventpage/us7000fxmt\",\"detail\":\"https://earthquake.usgs.gov/earthquakes/feed/v1.0/detail/us7000fxmt.geojson\",\"felt\":3,\"cdi\":3.1,\"mmi\":4.227,\"alert\":null,\"status\":\"reviewed\",\"tsunami\":0,\"sig\":158,\"net\":\"us\",\"code\":\"7000fxmt\",\"ids\":\",us7000fxmt,ci39872551,\",\"sources\":\",us,ci,\",\"types\":\",dyfi,origin,phase-data,scitech-link,shakemap,\",\"nst\":null,\"dmin\":0.15,\"rms\":0.67,\"gap\":110,\"magType\":\"ml\",\"type\":\"earthquake\",\"title\":\"M 3.2 - 59 km ENE of San Vicente, Mexico\"},\"geometry\":{\"type\":\"Point\",\"coordinates\":[-115.6439,31.4828,18.66]},\"id\":\"us7000fxmt\"},\\n{\"type\":\"Feature\",\"properties\":{\"mag\":2.69,\"place\":\"1 km ESE of P\\xc4\\x81hala, Hawaii\",\"time\":1638069176800,\"updated\":1638072229803,\"tz\":null,\"url\":\"https://earthquake.usgs.gov/earthquakes/eventpage/hv72814362\",\"detail\":\"https://earthquake.usgs.gov/earthquakes/feed/v1.0/detail/hv72814362.geojson\",\"felt\":1,\"cdi\":2.5,\"mmi\":null,\"alert\":null,\"status\":\"automatic\",\"tsunami\":0,\"sig\":112,\"net\":\"hv\",\"code\":\"72814362\",\"ids\":\",hv72814362,us7000fxm4,\",\"sources\":\",hv,us,\",\"types\":\",dyfi,origin,phase-data,\",\"nst\":51,\"dmin\":null,\"rms\":0.109999999,\"gap\":102,\"magType\":\"ml\",\"type\":\"earthquake\",\"title\":\"M 2.7 - 1 km ESE of P\\xc4\\x81hala, Hawaii\"},\"geometry\":{\"type\":\"Point\",\"coordinates\":[-155.46516418457,19.1981658935547,36.0299987792969]},\"id\":\"hv72814362\"},\\n{\"type\":\"Feature\",\"properties\":{\"mag\":3.25,\"place\":\"4 km E of La Parguera, Puerto Rico\",\"time\":1638069006580,\"updated\":1638077689482,\"tz\":null,\"url\":\"https://earthquake.usgs.gov/earthquakes/eventpage/pr2021332005\",\"detail\":\"https://earthquake.usgs.gov/earthquakes/feed/v1.0/detail/pr2021332005.geojson\",\"felt\":3,\"cdi\":4.1,\"mmi\":null,\"alert\":null,\"status\":\"reviewed\",\"tsunami\":0,\"sig\":164,\"net\":\"pr\",\"code\":\"2021332005\",\"ids\":\",us7000fxm3,pr2021332005,\",\"sources\":\",us,pr,\",\"types\":\",dyfi,origin,phase-data,\",\"nst\":27,\"dmin\":0.0417,\"rms\":0.11,\"gap\":168,\"magType\":\"md\",\"type\":\"earthquake\",\"title\":\"M 3.3 - 4 km E of La Parguera, Puerto Rico\"},\"geometry\":{\"type\":\"Point\",\"coordinates\":[-67.0026,17.9713,9]},\"id\":\"pr2021332005\"},\\n{\"type\":\"Feature\",\"properties\":{\"mag\":3.46,\"place\":\"4 km E of La Parguera, Puerto Rico\",\"time\":1638068238080,\"updated\":1638106632955,\"tz\":null,\"url\":\"https://earthquake.usgs.gov/earthquakes/eventpage/pr2021332003\",\"detail\":\"https://earthquake.usgs.gov/earthquakes/feed/v1.0/detail/pr2021332003.geojson\",\"felt\":15,\"cdi\":4.8,\"mmi\":3.074,\"alert\":null,\"status\":\"reviewed\",\"tsunami\":0,\"sig\":191,\"net\":\"pr\",\"code\":\"2021332003\",\"ids\":\",us7000fxm1,pr2021332003,\",\"sources\":\",us,pr,\",\"types\":\",dyfi,origin,phase-data,shakemap,\",\"nst\":28,\"dmin\":0.0423,\"rms\":0.09,\"gap\":178,\"magType\":\"md\",\"type\":\"earthquake\",\"title\":\"M 3.5 - 4 km E of La Parguera, Puerto Rico\"},\"geometry\":{\"type\":\"Point\",\"coordinates\":[-67.0021,17.9728,9]},\"id\":\"pr2021332003\"},\\n{\"type\":\"Feature\",\"properties\":{\"mag\":4.4,\"place\":\"42 km WNW of Leni, Italy\",\"time\":1638067954632,\"updated\":1638073543238,\"tz\":null,\"url\":\"https://earthquake.usgs.gov/earthquakes/eventpage/us7000fxly\",\"detail\":\"https://earthquake.usgs.gov/earthquakes/feed/v1.0/detail/us7000fxly.geojson\",\"felt\":4,\"cdi\":4.1,\"mmi\":null,\"alert\":null,\"status\":\"reviewed\",\"tsunami\":0,\"sig\":299,\"net\":\"us\",\"code\":\"7000fxly\",\"ids\":\",us7000fxly,\",\"sources\":\",us,\",\"types\":\",dyfi,origin,phase-data,\",\"nst\":null,\"dmin\":1.273,\"rms\":0.78,\"gap\":69,\"magType\":\"mb\",\"type\":\"earthquake\",\"title\":\"M 4.4 - 42 km WNW of Leni, Italy\"},\"geometry\":{\"type\":\"Point\",\"coordinates\":[14.3583,38.6717,10]},\"id\":\"us7000fxly\"},\\n{\"type\":\"Feature\",\"properties\":{\"mag\":3.33,\"place\":\"4 km E of La Parguera, Puerto Rico\",\"time\":1638067584520,\"updated\":1638106954976,\"tz\":null,\"url\":\"https://earthquake.usgs.gov/earthquakes/eventpage/pr2021332004\",\"detail\":\"https://earthquake.usgs.gov/earthquakes/feed/v1.0/detail/pr2021332004.geojson\",\"felt\":5,\"cdi\":3.6,\"mmi\":2.872,\"alert\":null,\"status\":\"reviewed\",\"tsunami\":0,\"sig\":172,\"net\":\"pr\",\"code\":\"2021332004\",\"ids\":\",us7000fxlx,pr2021332004,\",\"sources\":\",us,pr,\",\"types\":\",dyfi,origin,phase-data,shakemap,\",\"nst\":27,\"dmin\":0.0424,\"rms\":0.11,\"gap\":170,\"magType\":\"md\",\"type\":\"earthquake\",\"title\":\"M 3.3 - 4 km E of La Parguera, Puerto Rico\"},\"geometry\":{\"type\":\"Point\",\"coordinates\":[-67.0018,17.9701,9]},\"id\":\"pr2021332004\"},\\n{\"type\":\"Feature\",\"properties\":{\"mag\":3.04,\"place\":\"37 km N of Culebra, Puerto Rico\",\"time\":1638065596540,\"updated\":1638080656538,\"tz\":null,\"url\":\"https://earthquake.usgs.gov/earthquakes/eventpage/pr2021332002\",\"detail\":\"https://earthquake.usgs.gov/earthquakes/feed/v1.0/detail/pr2021332002.geojson\",\"felt\":null,\"cdi\":null,\"mmi\":null,\"alert\":null,\"status\":\"reviewed\",\"tsunami\":0,\"sig\":142,\"net\":\"pr\",\"code\":\"2021332002\",\"ids\":\",pr2021332002,\",\"sources\":\",pr,\",\"types\":\",origin,phase-data,\",\"nst\":14,\"dmin\":0.3365,\"rms\":0.36,\"gap\":275,\"magType\":\"md\",\"type\":\"earthquake\",\"title\":\"M 3.0 - 37 km N of Culebra, Puerto Rico\"},\"geometry\":{\"type\":\"Point\",\"coordinates\":[-65.316,18.6423,67]},\"id\":\"pr2021332002\"},\\n{\"type\":\"Feature\",\"properties\":{\"mag\":2.8,\"place\":\"4 km SW of Venetie, Alaska\",\"time\":1638064434738,\"updated\":1638066786040,\"tz\":null,\"url\":\"https://earthquake.usgs.gov/earthquakes/eventpage/ak021f93c4rf\",\"detail\":\"https://earthquake.usgs.gov/earthquakes/feed/v1.0/detail/ak021f93c4rf.geojson\",\"felt\":null,\"cdi\":null,\"mmi\":null,\"alert\":null,\"status\":\"reviewed\",\"tsunami\":0,\"sig\":121,\"net\":\"ak\",\"code\":\"021f93c4rf\",\"ids\":\",us7000fxlm,ak021f93c4rf,\",\"sources\":\",us,ak,\",\"types\":\",origin,phase-data,\",\"nst\":null,\"dmin\":null,\"rms\":0.51,\"gap\":null,\"magType\":\"ml\",\"type\":\"earthquake\",\"title\":\"M 2.8 - 4 km SW of Venetie, Alaska\"},\"geometry\":{\"type\":\"Point\",\"coordinates\":[-146.4942,66.9855,13]},\"id\":\"ak021f93c4rf\"},\\n{\"type\":\"Feature\",\"properties\":{\"mag\":4.3,\"place\":\"northern Alaska\",\"time\":1638063850267,\"updated\":1638072103213,\"tz\":null,\"url\":\"https://earthquake.usgs.gov/earthquakes/eventpage/ak021f93a45y\",\"detail\":\"https://earthquake.usgs.gov/earthquakes/feed/v1.0/detail/ak021f93a45y.geojson\",\"felt\":2,\"cdi\":4.1,\"mmi\":4.693,\"alert\":\"green\",\"status\":\"reviewed\",\"tsunami\":0,\"sig\":285,\"net\":\"ak\",\"code\":\"021f93a45y\",\"ids\":\",ak021f93a45y,us7000fxli,\",\"sources\":\",ak,us,\",\"types\":\",dyfi,losspager,origin,phase-data,shakemap,\",\"nst\":null,\"dmin\":null,\"rms\":0.94,\"gap\":null,\"magType\":\"ml\",\"type\":\"earthquake\",\"title\":\"M 4.3 - northern Alaska\"},\"geometry\":{\"type\":\"Point\",\"coordinates\":[-146.5953,66.9559,6.9]},\"id\":\"ak021f93a45y\"},\\n{\"type\":\"Feature\",\"properties\":{\"mag\":3.7,\"place\":\"6 km SSW of Venetie, Alaska\",\"time\":1638063587483,\"updated\":1638066089040,\"tz\":null,\"url\":\"https://earthquake.usgs.gov/earthquakes/eventpage/ak021f939474\",\"detail\":\"https://earthquake.usgs.gov/earthquakes/feed/v1.0/detail/ak021f939474.geojson\",\"felt\":null,\"cdi\":null,\"mmi\":3.706,\"alert\":null,\"status\":\"reviewed\",\"tsunami\":0,\"sig\":211,\"net\":\"ak\",\"code\":\"021f939474\",\"ids\":\",us7000fxlg,ak021f939474,\",\"sources\":\",us,ak,\",\"types\":\",origin,phase-data,shakemap,\",\"nst\":null,\"dmin\":null,\"rms\":0.87,\"gap\":null,\"magType\":\"ml\",\"type\":\"earthquake\",\"title\":\"M 3.7 - 6 km SSW of Venetie, Alaska\"},\"geometry\":{\"type\":\"Point\",\"coordinates\":[-146.4799,66.9631,12.1]},\"id\":\"ak021f939474\"},\\n{\"type\":\"Feature\",\"properties\":{\"mag\":4.7,\"place\":\"50 km SW of Q\\xc4\\x81\\xe2\\x80\\x99en, Iran\",\"time\":1638063488507,\"updated\":1638064737040,\"tz\":null,\"url\":\"https://earthquake.usgs.gov/earthquakes/eventpage/us7000fxlh\",\"detail\":\"https://earthquake.usgs.gov/earthquakes/feed/v1.0/detail/us7000fxlh.geojson\",\"felt\":null,\"cdi\":null,\"mmi\":null,\"alert\":null,\"status\":\"reviewed\",\"tsunami\":0,\"sig\":340,\"net\":\"us\",\"code\":\"7000fxlh\",\"ids\":\",us7000fxlh,\",\"sources\":\",us,\",\"types\":\",origin,phase-data,\",\"nst\":null,\"dmin\":8.616,\"rms\":0.74,\"gap\":72,\"magType\":\"mb\",\"type\":\"earthquake\",\"title\":\"M 4.7 - 50 km SW of Q\\xc4\\x81\\xe2\\x80\\x99en, Iran\"},\"geometry\":{\"type\":\"Point\",\"coordinates\":[58.7505,33.4477,10]},\"id\":\"us7000fxlh\"},\\n{\"type\":\"Feature\",\"properties\":{\"mag\":4.6,\"place\":\"67 km ESE of Margherita, India\",\"time\":1638063171113,\"updated\":1638066462040,\"tz\":null,\"url\":\"https://earthquake.usgs.gov/earthquakes/eventpage/us7000fxlf\",\"detail\":\"https://earthquake.usgs.gov/earthquakes/feed/v1.0/detail/us7000fxlf.geojson\",\"felt\":null,\"cdi\":null,\"mmi\":null,\"alert\":null,\"status\":\"reviewed\",\"tsunami\":0,\"sig\":326,\"net\":\"us\",\"code\":\"7000fxlf\",\"ids\":\",us7000fxlf,\",\"sources\":\",us,\",\"types\":\",origin,phase-data,\",\"nst\":null,\"dmin\":6.324,\"rms\":1.27,\"gap\":72,\"magType\":\"mb\",\"type\":\"earthquake\",\"title\":\"M 4.6 - 67 km ESE of Margherita, India\"},\"geometry\":{\"type\":\"Point\",\"coordinates\":[96.3158,27.0868,10]},\"id\":\"us7000fxlf\"},\\n{\"type\":\"Feature\",\"properties\":{\"mag\":2.79,\"place\":\"15 km SSE of Gu\\xc3\\xa1nica, Puerto Rico\",\"time\":1638062968050,\"updated\":1638064231820,\"tz\":null,\"url\":\"https://earthquake.usgs.gov/earthquakes/eventpage/pr2021332001\",\"detail\":\"https://earthquake.usgs.gov/earthquakes/feed/v1.0/detail/pr2021332001.geojson\",\"felt\":null,\"cdi\":null,\"mmi\":null,\"alert\":null,\"status\":\"reviewed\",\"tsunami\":0,\"sig\":120,\"net\":\"pr\",\"code\":\"2021332001\",\"ids\":\",pr2021332001,\",\"sources\":\",pr,\",\"types\":\",origin,phase-data,\",\"nst\":11,\"dmin\":0.1356,\"rms\":0.1,\"gap\":256,\"magType\":\"md\",\"type\":\"earthquake\",\"title\":\"M 2.8 - 15 km SSE of Gu\\xc3\\xa1nica, Puerto Rico\"},\"geometry\":{\"type\":\"Point\",\"coordinates\":[-66.857,17.8413,11]},\"id\":\"pr2021332001\"},\\n{\"type\":\"Feature\",\"properties\":{\"mag\":2.74,\"place\":\"15 km SSE of Gu\\xc3\\xa1nica, Puerto Rico\",\"time\":1638060880940,\"updated\":1638062507579,\"tz\":null,\"url\":\"https://earthquake.usgs.gov/earthquakes/eventpage/pr2021332000\",\"detail\":\"https://earthquake.usgs.gov/earthquakes/feed/v1.0/detail/pr2021332000.geojson\",\"felt\":null,\"cdi\":null,\"mmi\":null,\"alert\":null,\"status\":\"reviewed\",\"tsunami\":0,\"sig\":116,\"net\":\"pr\",\"code\":\"2021332000\",\"ids\":\",pr2021332000,\",\"sources\":\",pr,\",\"types\":\",origin,phase-data,\",\"nst\":15,\"dmin\":0.1379,\"rms\":0.14,\"gap\":224,\"magType\":\"md\",\"type\":\"earthquake\",\"title\":\"M 2.7 - 15 km SSE of Gu\\xc3\\xa1nica, Puerto Rico\"},\"geometry\":{\"type\":\"Point\",\"coordinates\":[-66.8563,17.8391,13]},\"id\":\"pr2021332000\"},\\n{\"type\":\"Feature\",\"properties\":{\"mag\":4.1,\"place\":\"45 km WSW of Carahue, Chile\",\"time\":1638059857679,\"updated\":1638067019040,\"tz\":null,\"url\":\"https://earthquake.usgs.gov/earthquakes/eventpage/us7000fxl3\",\"detail\":\"https://earthquake.usgs.gov/earthquakes/feed/v1.0/detail/us7000fxl3.geojson\",\"felt\":null,\"cdi\":null,\"mmi\":null,\"alert\":null,\"status\":\"reviewed\",\"tsunami\":0,\"sig\":259,\"net\":\"us\",\"code\":\"7000fxl3\",\"ids\":\",us7000fxl3,\",\"sources\":\",us,\",\"types\":\",origin,phase-data,\",\"nst\":null,\"dmin\":1.052,\"rms\":0.64,\"gap\":143,\"magType\":\"mb\",\"type\":\"earthquake\",\"title\":\"M 4.1 - 45 km WSW of Carahue, Chile\"},\"geometry\":{\"type\":\"Point\",\"coordinates\":[-73.6557,-38.8416,31.26]},\"id\":\"us7000fxl3\"},\\n{\"type\":\"Feature\",\"properties\":{\"mag\":3,\"place\":\"90 km NNE of Adak, Alaska\",\"time\":1638057085158,\"updated\":1638059422906,\"tz\":null,\"url\":\"https://earthquake.usgs.gov/earthquakes/eventpage/ak021f7svttn\",\"detail\":\"https://earthquake.usgs.gov/earthquakes/feed/v1.0/detail/ak021f7svttn.geojson\",\"felt\":null,\"cdi\":null,\"mmi\":null,\"alert\":null,\"status\":\"reviewed\",\"tsunami\":0,\"sig\":138,\"net\":\"ak\",\"code\":\"021f7svttn\",\"ids\":\",ak021f7svttn,\",\"sources\":\",ak,\",\"types\":\",origin,phase-data,\",\"nst\":null,\"dmin\":null,\"rms\":0.57,\"gap\":null,\"magType\":\"ml\",\"type\":\"earthquake\",\"title\":\"M 3.0 - 90 km NNE of Adak, Alaska\"},\"geometry\":{\"type\":\"Point\",\"coordinates\":[-176.0142,52.5962,179.8]},\"id\":\"ak021f7svttn\"},\\n{\"type\":\"Feature\",\"properties\":{\"mag\":2.54,\"place\":\"10 km SW of Gu\\xc3\\xa1nica, Puerto Rico\",\"time\":1638055813160,\"updated\":1638057148459,\"tz\":null,\"url\":\"https://earthquake.usgs.gov/earthquakes/eventpage/pr2021331007\",\"detail\":\"https://earthquake.usgs.gov/earthquakes/feed/v1.0/detail/pr2021331007.geojson\",\"felt\":null,\"cdi\":null,\"mmi\":null,\"alert\":null,\"status\":\"reviewed\",\"tsunami\":0,\"sig\":99,\"net\":\"pr\",\"code\":\"2021331007\",\"ids\":\",pr2021331007,\",\"sources\":\",pr,\",\"types\":\",origin,phase-data,\",\"nst\":13,\"dmin\":0.1009,\"rms\":0.15,\"gap\":242,\"magType\":\"md\",\"type\":\"earthquake\",\"title\":\"M 2.5 - 10 km SW of Gu\\xc3\\xa1nica, Puerto Rico\"},\"geometry\":{\"type\":\"Point\",\"coordinates\":[-66.9705,17.9005,12]},\"id\":\"pr2021331007\"},\\n{\"type\":\"Feature\",\"properties\":{\"mag\":4.6,\"place\":\"133 km W of Haveluloto, Tonga\",\"time\":1638054039199,\"updated\":1638067361040,\"tz\":null,\"url\":\"https://earthquake.usgs.gov/earthquakes/eventpage/us7000fxki\",\"detail\":\"https://earthquake.usgs.gov/earthquakes/feed/v1.0/detail/us7000fxki.geojson\",\"felt\":null,\"cdi\":null,\"mmi\":null,\"alert\":null,\"status\":\"reviewed\",\"tsunami\":0,\"sig\":326,\"net\":\"us\",\"code\":\"7000fxki\",\"ids\":\",us7000fxki,\",\"sources\":\",us,\",\"types\":\",origin,phase-data,\",\"nst\":null,\"dmin\":6.206,\"rms\":0.91,\"gap\":120,\"magType\":\"mb\",\"type\":\"earthquake\",\"title\":\"M 4.6 - 133 km W of Haveluloto, Tonga\"},\"geometry\":{\"type\":\"Point\",\"coordinates\":[-176.492,-21.2335,190.38]},\"id\":\"us7000fxki\"},\\n{\"type\":\"Feature\",\"properties\":{\"mag\":4.9,\"place\":\"north of Svalbard\",\"time\":1638053344043,\"updated\":1638054458040,\"tz\":null,\"url\":\"https://earthquake.usgs.gov/earthquakes/eventpage/us7000fxkf\",\"detail\":\"https://earthquake.usgs.gov/earthquakes/feed/v1.0/detail/us7000fxkf.geojson\",\"felt\":null,\"cdi\":null,\"mmi\":null,\"alert\":null,\"status\":\"reviewed\",\"tsunami\":0,\"sig\":369,\"net\":\"us\",\"code\":\"7000fxkf\",\"ids\":\",us7000fxkf,\",\"sources\":\",us,\",\"types\":\",origin,phase-data,\",\"nst\":null,\"dmin\":6.57,\"rms\":0.85,\"gap\":57,\"magType\":\"mb\",\"type\":\"earthquake\",\"title\":\"M 4.9 - north of Svalbard\"},\"geometry\":{\"type\":\"Point\",\"coordinates\":[13.2037,85.4413,10]},\"id\":\"us7000fxkf\"},\\n{\"type\":\"Feature\",\"properties\":{\"mag\":4.8,\"place\":\"89 km NNW of Vallenar, Chile\",\"time\":1638053088469,\"updated\":1638057674289,\"tz\":null,\"url\":\"https://earthquake.usgs.gov/earthquakes/eventpage/us7000fxkd\",\"detail\":\"https://earthquake.usgs.gov/earthquakes/feed/v1.0/detail/us7000fxkd.geojson\",\"felt\":6,\"cdi\":3.1,\"mmi\":null,\"alert\":null,\"status\":\"reviewed\",\"tsunami\":0,\"sig\":356,\"net\":\"us\",\"code\":\"7000fxkd\",\"ids\":\",us7000fxkd,\",\"sources\":\",us,\",\"types\":\",dyfi,moment-tensor,origin,phase-data,\",\"nst\":null,\"dmin\":0.373,\"rms\":1.12,\"gap\":95,\"magType\":\"mwr\",\"type\":\"earthquake\",\"title\":\"M 4.8 - 89 km NNW of Vallenar, Chile\"},\"geometry\":{\"type\":\"Point\",\"coordinates\":[-71.1125,-27.8309,41.85]},\"id\":\"us7000fxkd\"},\\n{\"type\":\"Feature\",\"properties\":{\"mag\":2.51999998,\"place\":\"2 km SSE of P\\xc4\\x81hala, Hawaii\",\"time\":1638047274260,\"updated\":1638047605210,\"tz\":null,\"url\":\"https://earthquake.usgs.gov/earthquakes/eventpage/hv72814027\",\"detail\":\"https://earthquake.usgs.gov/earthquakes/feed/v1.0/detail/hv72814027.geojson\",\"felt\":null,\"cdi\":null,\"mmi\":null,\"alert\":null,\"status\":\"automatic\",\"tsunami\":0,\"sig\":98,\"net\":\"hv\",\"code\":\"72814027\",\"ids\":\",hv72814027,\",\"sources\":\",hv,\",\"types\":\",origin,phase-data,\",\"nst\":46,\"dmin\":null,\"rms\":0.109999999,\"gap\":148,\"magType\":\"md\",\"type\":\"earthquake\",\"title\":\"M 2.5 - 2 km SSE of P\\xc4\\x81hala, Hawaii\"},\"geometry\":{\"type\":\"Point\",\"coordinates\":[-155.465835571289,19.183500289917,36.8800010681152]},\"id\":\"hv72814027\"},\\n{\"type\":\"Feature\",\"properties\":{\"mag\":4.1,\"place\":\"57 km SE of Longav\\xc3\\xad, Chile\",\"time\":1638045605703,\"updated\":1638059098040,\"tz\":null,\"url\":\"https://earthquake.usgs.gov/earthquakes/eventpage/us7000fxjw\",\"detail\":\"https://earthquake.usgs.gov/earthquakes/feed/v1.0/detail/us7000fxjw.geojson\",\"felt\":null,\"cdi\":null,\"mmi\":null,\"alert\":null,\"status\":\"reviewed\",\"tsunami\":0,\"sig\":259,\"net\":\"us\",\"code\":\"7000fxjw\",\"ids\":\",us7000fxjw,\",\"sources\":\",us,\",\"types\":\",origin,phase-data,\",\"nst\":null,\"dmin\":0.338,\"rms\":0.78,\"gap\":103,\"magType\":\"mb\",\"type\":\"earthquake\",\"title\":\"M 4.1 - 57 km SE of Longav\\xc3\\xad, Chile\"},\"geometry\":{\"type\":\"Point\",\"coordinates\":[-71.2306,-36.3264,131.33]},\"id\":\"us7000fxjw\"},\\n{\"type\":\"Feature\",\"properties\":{\"mag\":5.3,\"place\":\"60 km S of Popondetta, Papua New Guinea\",\"time\":1638045399554,\"updated\":1638072584782,\"tz\":null,\"url\":\"https://earthquake.usgs.gov/earthquakes/eventpage/us7000fxjx\",\"detail\":\"https://earthquake.usgs.gov/earthquakes/feed/v1.0/detail/us7000fxjx.geojson\",\"felt\":9,\"cdi\":5.3,\"mmi\":null,\"alert\":null,\"status\":\"reviewed\",\"tsunami\":0,\"sig\":437,\"net\":\"us\",\"code\":\"7000fxjx\",\"ids\":\",us7000fxjx,\",\"sources\":\",us,\",\"types\":\",dyfi,origin,phase-data,\",\"nst\":null,\"dmin\":6.448,\"rms\":1.06,\"gap\":18,\"magType\":\"mb\",\"type\":\"earthquake\",\"title\":\"M 5.3 - 60 km S of Popondetta, Papua New Guinea\"},\"geometry\":{\"type\":\"Point\",\"coordinates\":[148.1673,-9.3079,10]},\"id\":\"us7000fxjx\"},\\n{\"type\":\"Feature\",\"properties\":{\"mag\":4.3,\"place\":\"41 km SW of Santiago del Estero, Argentina\",\"time\":1638042022970,\"updated\":1638057470040,\"tz\":null,\"url\":\"https://earthquake.usgs.gov/earthquakes/eventpage/us7000fxjk\",\"detail\":\"https://earthquake.usgs.gov/earthquakes/feed/v1.0/detail/us7000fxjk.geojson\",\"felt\":null,\"cdi\":null,\"mmi\":null,\"alert\":null,\"status\":\"reviewed\",\"tsunami\":0,\"sig\":284,\"net\":\"us\",\"code\":\"7000fxjk\",\"ids\":\",us7000fxjk,\",\"sources\":\",us,\",\"types\":\",origin,phase-data,\",\"nst\":null,\"dmin\":4.3,\"rms\":0.51,\"gap\":55,\"magType\":\"mb\",\"type\":\"earthquake\",\"title\":\"M 4.3 - 41 km SW of Santiago del Estero, Argentina\"},\"geometry\":{\"type\":\"Point\",\"coordinates\":[-64.5012,-28.1024,10]},\"id\":\"us7000fxjk\"},\\n{\"type\":\"Feature\",\"properties\":{\"mag\":4.4,\"place\":\"38 km WSW of Carahue, Chile\",\"time\":1638041516679,\"updated\":1638056279040,\"tz\":null,\"url\":\"https://earthquake.usgs.gov/earthquakes/eventpage/us7000fxjr\",\"detail\":\"https://earthquake.usgs.gov/earthquakes/feed/v1.0/detail/us7000fxjr.geojson\",\"felt\":null,\"cdi\":null,\"mmi\":null,\"alert\":null,\"status\":\"reviewed\",\"tsunami\":0,\"sig\":298,\"net\":\"us\",\"code\":\"7000fxjr\",\"ids\":\",us7000fxjr,\",\"sources\":\",us,\",\"types\":\",moment-tensor,origin,phase-data,\",\"nst\":null,\"dmin\":1.016,\"rms\":0.82,\"gap\":139,\"magType\":\"mwr\",\"type\":\"earthquake\",\"title\":\"M 4.4 - 38 km WSW of Carahue, Chile\"},\"geometry\":{\"type\":\"Point\",\"coordinates\":[-73.5544,-38.8677,20.43]},\"id\":\"us7000fxjr\"},\\n{\"type\":\"Feature\",\"properties\":{\"mag\":4.6,\"place\":\"38 km WSW of Carahue, Chile\",\"time\":1638041339319,\"updated\":1638057618828,\"tz\":null,\"url\":\"https://earthquake.usgs.gov/earthquakes/eventpage/us7000fxji\",\"detail\":\"https://earthquake.usgs.gov/earthquakes/feed/v1.0/detail/us7000fxji.geojson\",\"felt\":3,\"cdi\":4.1,\"mmi\":null,\"alert\":null,\"status\":\"reviewed\",\"tsunami\":0,\"sig\":327,\"net\":\"us\",\"code\":\"7000fxji\",\"ids\":\",us7000fxji,\",\"sources\":\",us,\",\"types\":\",dyfi,moment-tensor,origin,phase-data,\",\"nst\":null,\"dmin\":1.063,\"rms\":0.58,\"gap\":139,\"magType\":\"mwr\",\"type\":\"earthquake\",\"title\":\"M 4.6 - 38 km WSW of Carahue, Chile\"},\"geometry\":{\"type\":\"Point\",\"coordinates\":[-73.5757,-38.8213,27.37]},\"id\":\"us7000fxji\"},\\n{\"type\":\"Feature\",\"properties\":{\"mag\":5.4,\"place\":\"91 km SSE of Panguna, Papua New Guinea\",\"time\":1638038889058,\"updated\":1638071613183,\"tz\":null,\"url\":\"https://earthquake.usgs.gov/earthquakes/eventpage/us7000fxj5\",\"detail\":\"https://earthquake.usgs.gov/earthquakes/feed/v1.0/detail/us7000fxj5.geojson\",\"felt\":3,\"cdi\":4.6,\"mmi\":4.72,\"alert\":\"green\",\"status\":\"reviewed\",\"tsunami\":0,\"sig\":450,\"net\":\"us\",\"code\":\"7000fxj5\",\"ids\":\",us7000fxj5,\",\"sources\":\",us,\",\"types\":\",dyfi,losspager,origin,phase-data,shakemap,\",\"nst\":null,\"dmin\":4.654,\"rms\":0.81,\"gap\":41,\"magType\":\"mb\",\"type\":\"earthquake\",\"title\":\"M 5.4 - 91 km SSE of Panguna, Papua New Guinea\"},\"geometry\":{\"type\":\"Point\",\"coordinates\":[155.918,-7.0235,67.86]},\"id\":\"us7000fxj5\"},\\n{\"type\":\"Feature\",\"properties\":{\"mag\":4.6,\"place\":\"1 km N of Lata, Solomon Islands\",\"time\":1638038568989,\"updated\":1638043382040,\"tz\":null,\"url\":\"https://earthquake.usgs.gov/earthquakes/eventpage/us7000fxjb\",\"detail\":\"https://earthquake.usgs.gov/earthquakes/feed/v1.0/detail/us7000fxjb.geojson\",\"felt\":null,\"cdi\":null,\"mmi\":null,\"alert\":null,\"status\":\"reviewed\",\"tsunami\":0,\"sig\":326,\"net\":\"us\",\"code\":\"7000fxjb\",\"ids\":\",us7000fxjb,\",\"sources\":\",us,\",\"types\":\",origin,phase-data,\",\"nst\":null,\"dmin\":4.904,\"rms\":0.53,\"gap\":101,\"magType\":\"mb\",\"type\":\"earthquake\",\"title\":\"M 4.6 - 1 km N of Lata, Solomon Islands\"},\"geometry\":{\"type\":\"Point\",\"coordinates\":[165.7956,-10.7097,35]},\"id\":\"us7000fxjb\"},\\n{\"type\":\"Feature\",\"properties\":{\"mag\":4.6,\"place\":\"209 km SSW of Severo-Kuril\\xe2\\x80\\x99sk, Russia\",\"time\":1638037457312,\"updated\":1638042529040,\"tz\":null,\"url\":\"https://earthquake.usgs.gov/earthquakes/eventpage/us7000fxj6\",\"detail\":\"https://earthquake.usgs.gov/earthquakes/feed/v1.0/detail/us7000fxj6.geojson\",\"felt\":null,\"cdi\":null,\"mmi\":null,\"alert\":null,\"status\":\"reviewed\",\"tsunami\":0,\"sig\":326,\"net\":\"us\",\"code\":\"7000fxj6\",\"ids\":\",us7000fxj6,\",\"sources\":\",us,\",\"types\":\",origin,phase-data,\",\"nst\":null,\"dmin\":4.503,\"rms\":0.64,\"gap\":131,\"magType\":\"mb\",\"type\":\"earthquake\",\"title\":\"M 4.6 - 209 km SSW of Severo-Kuril\\xe2\\x80\\x99sk, Russia\"},\"geometry\":{\"type\":\"Point\",\"coordinates\":[155.3874,48.8539,47.86]},\"id\":\"us7000fxj6\"},\\n{\"type\":\"Feature\",\"properties\":{\"mag\":3,\"place\":\"120 km WNW of Haines Junction, Canada\",\"time\":1638034560736,\"updated\":1638036195965,\"tz\":null,\"url\":\"https://earthquake.usgs.gov/earthquakes/eventpage/ak021f7p7yjm\",\"detail\":\"https://earthquake.usgs.gov/earthquakes/feed/v1.0/detail/ak021f7p7yjm.geojson\",\"felt\":null,\"cdi\":null,\"mmi\":null,\"alert\":null,\"status\":\"reviewed\",\"tsunami\":0,\"sig\":138,\"net\":\"ak\",\"code\":\"021f7p7yjm\",\"ids\":\",ak021f7p7yjm,\",\"sources\":\",ak,\",\"types\":\",origin,phase-data,\",\"nst\":null,\"dmin\":null,\"rms\":0.99,\"gap\":null,\"magType\":\"ml\",\"type\":\"earthquake\",\"title\":\"M 3.0 - 120 km WNW of Haines Junction, Canada\"},\"geometry\":{\"type\":\"Point\",\"coordinates\":[-139.4787,61.2491,3.7]},\"id\":\"ak021f7p7yjm\"},\\n{\"type\":\"Feature\",\"properties\":{\"mag\":3.02,\"place\":\"3 km ESE of Maria Antonia, Puerto Rico\",\"time\":1638032803990,\"updated\":1638034758597,\"tz\":null,\"url\":\"https://earthquake.usgs.gov/earthquakes/eventpage/pr2021331006\",\"detail\":\"https://earthquake.usgs.gov/earthquakes/feed/v1.0/detail/pr2021331006.geojson\",\"felt\":null,\"cdi\":null,\"mmi\":null,\"alert\":null,\"status\":\"reviewed\",\"tsunami\":0,\"sig\":140,\"net\":\"pr\",\"code\":\"2021331006\",\"ids\":\",pr2021331006,\",\"sources\":\",pr,\",\"types\":\",origin,phase-data,\",\"nst\":20,\"dmin\":0.0261,\"rms\":0.19,\"gap\":166,\"magType\":\"md\",\"type\":\"earthquake\",\"title\":\"M 3.0 - 3 km ESE of Maria Antonia, Puerto Rico\"},\"geometry\":{\"type\":\"Point\",\"coordinates\":[-66.8535,17.9705,17]},\"id\":\"pr2021331006\"},\\n{\"type\":\"Feature\",\"properties\":{\"mag\":3.27,\"place\":\"32 km NNE of Punta Cana, Dominican Republic\",\"time\":1638032608990,\"updated\":1638033703477,\"tz\":null,\"url\":\"https://earthquake.usgs.gov/earthquakes/eventpage/pr2021331005\",\"detail\":\"https://earthquake.usgs.gov/earthquakes/feed/v1.0/detail/pr2021331005.geojson\",\"felt\":null,\"cdi\":null,\"mmi\":null,\"alert\":null,\"status\":\"reviewed\",\"tsunami\":0,\"sig\":165,\"net\":\"pr\",\"code\":\"2021331005\",\"ids\":\",pr2021331005,\",\"sources\":\",pr,\",\"types\":\",origin,phase-data,\",\"nst\":7,\"dmin\":1.4325,\"rms\":0.49,\"gap\":198,\"magType\":\"md\",\"type\":\"earthquake\",\"title\":\"M 3.3 - 32 km NNE of Punta Cana, Dominican Republic\"},\"geometry\":{\"type\":\"Point\",\"coordinates\":[-68.2695,18.8471,101]},\"id\":\"pr2021331005\"},\\n{\"type\":\"Feature\",\"properties\":{\"mag\":2.62,\"place\":\"4 km SW of P\\xc4\\x81hala, Hawaii\",\"time\":1638028871430,\"updated\":1638033726040,\"tz\":null,\"url\":\"https://earthquake.usgs.gov/earthquakes/eventpage/hv72813692\",\"detail\":\"https://earthquake.usgs.gov/earthquakes/feed/v1.0/detail/hv72813692.geojson\",\"felt\":2,\"cdi\":2.7,\"mmi\":null,\"alert\":null,\"status\":\"automatic\",\"tsunami\":0,\"sig\":106,\"net\":\"hv\",\"code\":\"72813692\",\"ids\":\",hv72813692,us7000fxi7,\",\"sources\":\",hv,us,\",\"types\":\",dyfi,origin,phase-data,\",\"nst\":51,\"dmin\":null,\"rms\":0.129999995,\"gap\":94,\"magType\":\"ml\",\"type\":\"earthquake\",\"title\":\"M 2.6 - 4 km SW of P\\xc4\\x81hala, Hawaii\"},\"geometry\":{\"type\":\"Point\",\"coordinates\":[-155.507995605469,19.1731662750244,35.9799995422363]},\"id\":\"hv72813692\"},\\n{\"type\":\"Feature\",\"properties\":{\"mag\":3.2,\"place\":\"3 km SSE of El Indio, Texas\",\"time\":1638027334011,\"updated\":1638030456040,\"tz\":null,\"url\":\"https://earthquake.usgs.gov/earthquakes/eventpage/tx2021xgcw\",\"detail\":\"https://earthquake.usgs.gov/earthquakes/feed/v1.0/detail/tx2021xgcw.geojson\",\"felt\":null,\"cdi\":null,\"mmi\":null,\"alert\":null,\"status\":\"reviewed\",\"tsunami\":0,\"sig\":158,\"net\":\"tx\",\"code\":\"2021xgcw\",\"ids\":\",us7000fxi4,tx2021xgcw,\",\"sources\":\",us,tx,\",\"types\":\",origin,phase-data,\",\"nst\":10,\"dmin\":0.01762167804,\"rms\":0.3,\"gap\":81,\"magType\":\"ml\",\"type\":\"earthquake\",\"title\":\"M 3.2 - 3 km SSE of El Indio, Texas\"},\"geometry\":{\"type\":\"Point\",\"coordinates\":[-100.2976792,28.48480225,4.13285319]},\"id\":\"tx2021xgcw\"},\\n{\"type\":\"Feature\",\"properties\":{\"mag\":2.57,\"place\":\"9km ESE of Big Bear City, CA\",\"time\":1638022350150,\"updated\":1638045978292,\"tz\":null,\"url\":\"https://earthquake.usgs.gov/earthquakes/eventpage/ci39871631\",\"detail\":\"https://earthquake.usgs.gov/earthquakes/feed/v1.0/detail/ci39871631.geojson\",\"felt\":4,\"cdi\":3.1,\"mmi\":null,\"alert\":null,\"status\":\"automatic\",\"tsunami\":0,\"sig\":103,\"net\":\"ci\",\"code\":\"39871631\",\"ids\":\",ci39871631,us7000fxhr,\",\"sources\":\",ci,us,\",\"types\":\",dyfi,focal-mechanism,nearby-cities,origin,phase-data,scitech-link,\",\"nst\":84,\"dmin\":0.1341,\"rms\":0.15,\"gap\":39,\"magType\":\"ml\",\"type\":\"earthquake\",\"title\":\"M 2.6 - 9km ESE of Big Bear City, CA\"},\"geometry\":{\"type\":\"Point\",\"coordinates\":[-116.75,34.23,8.21]},\"id\":\"ci39871631\"}],\"bbox\":[-178.2631,-38.8677,1.63,165.7956,85.4413,568.76]}'\n",
            "{'type': 'FeatureCollection', 'metadata': {'generated': 1638107695000, 'url': 'https://earthquake.usgs.gov/earthquakes/feed/v1.0/summary/2.5_day.geojson', 'title': 'USGS Magnitude 2.5+ Earthquakes, Past Day', 'status': 200, 'api': '1.10.3', 'count': 56}, 'features': [{'type': 'Feature', 'properties': {'mag': 2.9, 'place': '56 km S of Whites City, New Mexico', 'time': 1638106472986, 'updated': 1638107388835, 'tz': None, 'url': 'https://earthquake.usgs.gov/earthquakes/eventpage/tx2021xhuk', 'detail': 'https://earthquake.usgs.gov/earthquakes/feed/v1.0/detail/tx2021xhuk.geojson', 'felt': None, 'cdi': None, 'mmi': None, 'alert': None, 'status': 'reviewed', 'tsunami': 0, 'sig': 129, 'net': 'tx', 'code': '2021xhuk', 'ids': ',us7000fxr3,tx2021xhuk,', 'sources': ',us,tx,', 'types': ',origin,phase-data,', 'nst': 14, 'dmin': 0.1027023015, 'rms': 0.3, 'gap': 60, 'magType': 'ml', 'type': 'earthquake', 'title': 'M 2.9 - 56 km S of Whites City, New Mexico'}, 'geometry': {'type': 'Point', 'coordinates': [-104.3803075, 31.66774561, 7.391259766]}, 'id': 'tx2021xhuk'}, {'type': 'Feature', 'properties': {'mag': 3.07, 'place': '20 km ESE of Kanarraville, Utah', 'time': 1638098146840, 'updated': 1638102190180, 'tz': None, 'url': 'https://earthquake.usgs.gov/earthquakes/eventpage/uu60470092', 'detail': 'https://earthquake.usgs.gov/earthquakes/feed/v1.0/detail/uu60470092.geojson', 'felt': 2, 'cdi': 3.1, 'mmi': 3.298, 'alert': None, 'status': 'reviewed', 'tsunami': 0, 'sig': 146, 'net': 'uu', 'code': '60470092', 'ids': ',uu60470092,us7000fxq5,', 'sources': ',uu,us,', 'types': ',dyfi,origin,phase-data,shakemap,', 'nst': 21, 'dmin': 0.1427, 'rms': 0.13, 'gap': 115, 'magType': 'ml', 'type': 'earthquake', 'title': 'M 3.1 - 20 km ESE of Kanarraville, Utah'}, 'geometry': {'type': 'Point', 'coordinates': [-112.9816667, 37.4415, 6.12]}, 'id': 'uu60470092'}, {'type': 'Feature', 'properties': {'mag': 2.5, 'place': '4 km S of Pāhala, Hawaii', 'time': 1638097168060, 'updated': 1638098250040, 'tz': None, 'url': 'https://earthquake.usgs.gov/earthquakes/eventpage/hv72814852', 'detail': 'https://earthquake.usgs.gov/earthquakes/feed/v1.0/detail/hv72814852.geojson', 'felt': None, 'cdi': None, 'mmi': None, 'alert': None, 'status': 'automatic', 'tsunami': 0, 'sig': 96, 'net': 'hv', 'code': '72814852', 'ids': ',us7000fxq3,hv72814852,', 'sources': ',us,hv,', 'types': ',origin,phase-data,', 'nst': 48, 'dmin': None, 'rms': 0.150000006, 'gap': 156, 'magType': 'ml', 'type': 'earthquake', 'title': 'M 2.5 - 4 km S of Pāhala, Hawaii'}, 'geometry': {'type': 'Point', 'coordinates': [-155.470993041992, 19.162166595459, 31.5300006866455]}, 'id': 'hv72814852'}, {'type': 'Feature', 'properties': {'mag': 7.5, 'place': '42 km NNW of Barranca, Peru', 'time': 1638096733239, 'updated': 1638107494512, 'tz': None, 'url': 'https://earthquake.usgs.gov/earthquakes/eventpage/us7000fxq2', 'detail': 'https://earthquake.usgs.gov/earthquakes/feed/v1.0/detail/us7000fxq2.geojson', 'felt': 202, 'cdi': 8.6, 'mmi': 7.856, 'alert': 'yellow', 'status': 'reviewed', 'tsunami': 1, 'sig': 1039, 'net': 'us', 'code': '7000fxq2', 'ids': ',pt21332000,at00r3a3j1,us7000fxq2,', 'sources': ',pt,at,us,', 'types': ',dyfi,general-text,ground-failure,impact-link,losspager,moment-tensor,origin,phase-data,shakemap,', 'nst': None, 'dmin': 4.962, 'rms': 0.61, 'gap': 42, 'magType': 'mww', 'type': 'earthquake', 'title': 'M 7.5 - 42 km NNW of Barranca, Peru'}, 'geometry': {'type': 'Point', 'coordinates': [-76.8461, -4.4898, 112.48]}, 'id': 'us7000fxq2'}, {'type': 'Feature', 'properties': {'mag': 4.5, 'place': '24 km ENE of Riosucio, Colombia', 'time': 1638092535656, 'updated': 1638098631369, 'tz': None, 'url': 'https://earthquake.usgs.gov/earthquakes/eventpage/us7000fxps', 'detail': 'https://earthquake.usgs.gov/earthquakes/feed/v1.0/detail/us7000fxps.geojson', 'felt': 4, 'cdi': 2.6, 'mmi': None, 'alert': None, 'status': 'reviewed', 'tsunami': 0, 'sig': 313, 'net': 'us', 'code': '7000fxps', 'ids': ',us7000fxps,', 'sources': ',us,', 'types': ',dyfi,origin,phase-data,', 'nst': None, 'dmin': 1.924, 'rms': 0.71, 'gap': 94, 'magType': 'mb', 'type': 'earthquake', 'title': 'M 4.5 - 24 km ENE of Riosucio, Colombia'}, 'geometry': {'type': 'Point', 'coordinates': [-76.9227, 7.5372, 23.41]}, 'id': 'us7000fxps'}, {'type': 'Feature', 'properties': {'mag': 4, 'place': 'Near the coast of Valparaiso, Chile', 'time': 1638092237623, 'updated': 1638107531742, 'tz': None, 'url': 'https://earthquake.usgs.gov/earthquakes/eventpage/us7000fxpj', 'detail': 'https://earthquake.usgs.gov/earthquakes/feed/v1.0/detail/us7000fxpj.geojson', 'felt': 1, 'cdi': 3.8, 'mmi': None, 'alert': None, 'status': 'reviewed', 'tsunami': 0, 'sig': 247, 'net': 'us', 'code': '7000fxpj', 'ids': ',us7000fxpj,', 'sources': ',us,', 'types': ',dyfi,moment-tensor,origin,phase-data,', 'nst': None, 'dmin': 0.683, 'rms': 0.79, 'gap': 134, 'magType': 'mwr', 'type': 'earthquake', 'title': 'M 4.0 - Near the coast of Valparaiso, Chile'}, 'geometry': {'type': 'Point', 'coordinates': [-71.9198, -32.3775, 22.65]}, 'id': 'us7000fxpj'}, {'type': 'Feature', 'properties': {'mag': 4.2, 'place': '259 km E of Levuka, Fiji', 'time': 1638090371207, 'updated': 1638095735040, 'tz': None, 'url': 'https://earthquake.usgs.gov/earthquakes/eventpage/us7000fxpm', 'detail': 'https://earthquake.usgs.gov/earthquakes/feed/v1.0/detail/us7000fxpm.geojson', 'felt': None, 'cdi': None, 'mmi': None, 'alert': None, 'status': 'reviewed', 'tsunami': 0, 'sig': 271, 'net': 'us', 'code': '7000fxpm', 'ids': ',us7000fxpm,', 'sources': ',us,', 'types': ',origin,phase-data,', 'nst': None, 'dmin': 3.576, 'rms': 0.68, 'gap': 115, 'magType': 'mb', 'type': 'earthquake', 'title': 'M 4.2 - 259 km E of Levuka, Fiji'}, 'geometry': {'type': 'Point', 'coordinates': [-178.2631, -18.4679, 496.63]}, 'id': 'us7000fxpm'}, {'type': 'Feature', 'properties': {'mag': 2.9, 'place': '56 km S of Whites City, New Mexico', 'time': 1638089935226, 'updated': 1638090724160, 'tz': None, 'url': 'https://earthquake.usgs.gov/earthquakes/eventpage/tx2021xhlh', 'detail': 'https://earthquake.usgs.gov/earthquakes/feed/v1.0/detail/tx2021xhlh.geojson', 'felt': None, 'cdi': None, 'mmi': None, 'alert': None, 'status': 'reviewed', 'tsunami': 0, 'sig': 129, 'net': 'tx', 'code': '2021xhlh', 'ids': ',us7000fxpa,tx2021xhlh,', 'sources': ',us,tx,', 'types': ',origin,phase-data,', 'nst': 14, 'dmin': 0.09352561145, 'rms': 0.2, 'gap': 60, 'magType': 'ml', 'type': 'earthquake', 'title': 'M 2.9 - 56 km S of Whites City, New Mexico'}, 'geometry': {'type': 'Point', 'coordinates': [-104.3910727, 31.66767676, 7.596923828000001]}, 'id': 'tx2021xhlh'}, {'type': 'Feature', 'properties': {'mag': 2.71, 'place': '8km NNE of Hayfork, CA', 'time': 1638089773400, 'updated': 1638094332563, 'tz': None, 'url': 'https://earthquake.usgs.gov/earthquakes/eventpage/nc73659055', 'detail': 'https://earthquake.usgs.gov/earthquakes/feed/v1.0/detail/nc73659055.geojson', 'felt': None, 'cdi': None, 'mmi': None, 'alert': None, 'status': 'automatic', 'tsunami': 0, 'sig': 113, 'net': 'nc', 'code': '73659055', 'ids': ',nc73659055,', 'sources': ',nc,', 'types': ',nearby-cities,origin,phase-data,scitech-link,', 'nst': 6, 'dmin': 0.06572, 'rms': 0.04, 'gap': 102, 'magType': 'md', 'type': 'earthquake', 'title': 'M 2.7 - 8km NNE of Hayfork, CA'}, 'geometry': {'type': 'Point', 'coordinates': [-123.1504974, 40.6204987, 30.09]}, 'id': 'nc73659055'}, {'type': 'Feature', 'properties': {'mag': 2.63, 'place': '6 km SSW of Tallaboa, Puerto Rico', 'time': 1638088023010, 'updated': 1638088826521, 'tz': None, 'url': 'https://earthquake.usgs.gov/earthquakes/eventpage/pr2021332012', 'detail': 'https://earthquake.usgs.gov/earthquakes/feed/v1.0/detail/pr2021332012.geojson', 'felt': None, 'cdi': None, 'mmi': None, 'alert': None, 'status': 'reviewed', 'tsunami': 0, 'sig': 106, 'net': 'pr', 'code': '2021332012', 'ids': ',pr2021332012,', 'sources': ',pr,', 'types': ',origin,phase-data,', 'nst': 17, 'dmin': 0.1395, 'rms': 0.11, 'gap': 170, 'magType': 'md', 'type': 'earthquake', 'title': 'M 2.6 - 6 km SSW of Tallaboa, Puerto Rico'}, 'geometry': {'type': 'Point', 'coordinates': [-66.743, 17.945, 18]}, 'id': 'pr2021332012'}, {'type': 'Feature', 'properties': {'mag': 2.7, 'place': 'Colorado', 'time': 1638087134466, 'updated': 1638088270040, 'tz': None, 'url': 'https://earthquake.usgs.gov/earthquakes/eventpage/us7000fxnu', 'detail': 'https://earthquake.usgs.gov/earthquakes/feed/v1.0/detail/us7000fxnu.geojson', 'felt': None, 'cdi': None, 'mmi': None, 'alert': None, 'status': 'reviewed', 'tsunami': 0, 'sig': 112, 'net': 'us', 'code': '7000fxnu', 'ids': ',us7000fxnu,', 'sources': ',us,', 'types': ',origin,phase-data,', 'nst': None, 'dmin': 0.241, 'rms': 0.41, 'gap': 70, 'magType': 'ml', 'type': 'earthquake', 'title': 'M 2.7 - Colorado'}, 'geometry': {'type': 'Point', 'coordinates': [-104.3336, 37.373, 8]}, 'id': 'us7000fxnu'}, {'type': 'Feature', 'properties': {'mag': 2.9, 'place': '8 km SE of Miches, Dominican Republic', 'time': 1638085818405, 'updated': 1638088242040, 'tz': None, 'url': 'https://earthquake.usgs.gov/earthquakes/eventpage/us7000fxnq', 'detail': 'https://earthquake.usgs.gov/earthquakes/feed/v1.0/detail/us7000fxnq.geojson', 'felt': None, 'cdi': None, 'mmi': None, 'alert': None, 'status': 'reviewed', 'tsunami': 0, 'sig': 129, 'net': 'us', 'code': '7000fxnq', 'ids': ',us7000fxnq,', 'sources': ',us,', 'types': ',origin,phase-data,', 'nst': None, 'dmin': 0.711, 'rms': 0.45, 'gap': 176, 'magType': 'ml', 'type': 'earthquake', 'title': 'M 2.9 - 8 km SE of Miches, Dominican Republic'}, 'geometry': {'type': 'Point', 'coordinates': [-68.9991, 18.9199, 8.05]}, 'id': 'us7000fxnq'}, {'type': 'Feature', 'properties': {'mag': 2.74, 'place': '4 km ENE of La Parguera, Puerto Rico', 'time': 1638085420650, 'updated': 1638086446729, 'tz': None, 'url': 'https://earthquake.usgs.gov/earthquakes/eventpage/pr2021332010', 'detail': 'https://earthquake.usgs.gov/earthquakes/feed/v1.0/detail/pr2021332010.geojson', 'felt': None, 'cdi': None, 'mmi': None, 'alert': None, 'status': 'reviewed', 'tsunami': 0, 'sig': 116, 'net': 'pr', 'code': '2021332010', 'ids': ',pr2021332010,', 'sources': ',pr,', 'types': ',origin,phase-data,', 'nst': 16, 'dmin': 0.0423, 'rms': 0.17, 'gap': 147, 'magType': 'md', 'type': 'earthquake', 'title': 'M 2.7 - 4 km ENE of La Parguera, Puerto Rico'}, 'geometry': {'type': 'Point', 'coordinates': [-67.0045, 17.9841, 10]}, 'id': 'pr2021332010'}, {'type': 'Feature', 'properties': {'mag': 4.1, 'place': 'Fiji region', 'time': 1638083815827, 'updated': 1638087663040, 'tz': None, 'url': 'https://earthquake.usgs.gov/earthquakes/eventpage/us7000fxnl', 'detail': 'https://earthquake.usgs.gov/earthquakes/feed/v1.0/detail/us7000fxnl.geojson', 'felt': None, 'cdi': None, 'mmi': None, 'alert': None, 'status': 'reviewed', 'tsunami': 0, 'sig': 259, 'net': 'us', 'code': '7000fxnl', 'ids': ',us7000fxnl,', 'sources': ',us,', 'types': ',origin,phase-data,', 'nst': None, 'dmin': 4.394, 'rms': 0.34, 'gap': 171, 'magType': 'mb', 'type': 'earthquake', 'title': 'M 4.1 - Fiji region'}, 'geometry': {'type': 'Point', 'coordinates': [-178.2569, -20.4295, 568.76]}, 'id': 'us7000fxnl'}, {'type': 'Feature', 'properties': {'mag': 3, 'place': '182 km W of Ferndale, California', 'time': 1638082639349, 'updated': 1638083871040, 'tz': None, 'url': 'https://earthquake.usgs.gov/earthquakes/eventpage/us7000fxnb', 'detail': 'https://earthquake.usgs.gov/earthquakes/feed/v1.0/detail/us7000fxnb.geojson', 'felt': None, 'cdi': None, 'mmi': None, 'alert': None, 'status': 'reviewed', 'tsunami': 0, 'sig': 138, 'net': 'us', 'code': '7000fxnb', 'ids': ',us7000fxnb,', 'sources': ',us,', 'types': ',origin,phase-data,', 'nst': None, 'dmin': 1.743, 'rms': 0.68, 'gap': 258, 'magType': 'ml', 'type': 'earthquake', 'title': 'M 3.0 - 182 km W of Ferndale, California'}, 'geometry': {'type': 'Point', 'coordinates': [-126.4046, 40.4233, 10]}, 'id': 'us7000fxnb'}, {'type': 'Feature', 'properties': {'mag': 5.1, 'place': '28 km W of Callao, Peru', 'time': 1638081150995, 'updated': 1638106841524, 'tz': None, 'url': 'https://earthquake.usgs.gov/earthquakes/eventpage/us7000fxna', 'detail': 'https://earthquake.usgs.gov/earthquakes/feed/v1.0/detail/us7000fxna.geojson', 'felt': 68, 'cdi': 4.6, 'mmi': None, 'alert': None, 'status': 'reviewed', 'tsunami': 0, 'sig': 431, 'net': 'us', 'code': '7000fxna', 'ids': ',us7000fxna,', 'sources': ',us,', 'types': ',dyfi,origin,phase-data,', 'nst': None, 'dmin': 0.523, 'rms': 0.94, 'gap': 85, 'magType': 'mb', 'type': 'earthquake', 'title': 'M 5.1 - 28 km W of Callao, Peru'}, 'geometry': {'type': 'Point', 'coordinates': [-77.3749, -12.0305, 64.45]}, 'id': 'us7000fxna'}, {'type': 'Feature', 'properties': {'mag': 2.9, 'place': '12 km W of Venetie, Alaska', 'time': 1638081036161, 'updated': 1638084826040, 'tz': None, 'url': 'https://earthquake.usgs.gov/earthquakes/eventpage/ak021f966bs2', 'detail': 'https://earthquake.usgs.gov/earthquakes/feed/v1.0/detail/ak021f966bs2.geojson', 'felt': None, 'cdi': None, 'mmi': None, 'alert': None, 'status': 'automatic', 'tsunami': 0, 'sig': 129, 'net': 'ak', 'code': '021f966bs2', 'ids': ',us7000fxn9,ak021f966bs2,', 'sources': ',us,ak,', 'types': ',origin,phase-data,', 'nst': None, 'dmin': None, 'rms': 0.74, 'gap': None, 'magType': 'ml', 'type': 'earthquake', 'title': 'M 2.9 - 12 km W of Venetie, Alaska'}, 'geometry': {'type': 'Point', 'coordinates': [-146.7062, 67.0253, 4.5]}, 'id': 'ak021f966bs2'}, {'type': 'Feature', 'properties': {'mag': 3.2, 'place': 'western Texas', 'time': 1638079150556, 'updated': 1638087053726, 'tz': None, 'url': 'https://earthquake.usgs.gov/earthquakes/eventpage/tx2021xhfj', 'detail': 'https://earthquake.usgs.gov/earthquakes/feed/v1.0/detail/tx2021xhfj.geojson', 'felt': 4, 'cdi': 4.1, 'mmi': None, 'alert': None, 'status': 'reviewed', 'tsunami': 0, 'sig': 159, 'net': 'tx', 'code': '2021xhfj', 'ids': ',tx2021xhfj,us7000fxmy,', 'sources': ',tx,us,', 'types': ',dyfi,origin,phase-data,', 'nst': 17, 'dmin': 0.1108347508, 'rms': 0.2, 'gap': 53, 'magType': 'ml', 'type': 'earthquake', 'title': 'M 3.2 - western Texas'}, 'geometry': {'type': 'Point', 'coordinates': [-104.2436354, 31.67497601, 7.288427734]}, 'id': 'tx2021xhfj'}, {'type': 'Feature', 'properties': {'mag': 2.8, 'place': '20 km WSW of Venetie, Alaska', 'time': 1638078715308, 'updated': 1638079382086, 'tz': None, 'url': 'https://earthquake.usgs.gov/earthquakes/eventpage/ak021f95pfpr', 'detail': 'https://earthquake.usgs.gov/earthquakes/feed/v1.0/detail/ak021f95pfpr.geojson', 'felt': None, 'cdi': None, 'mmi': None, 'alert': None, 'status': 'automatic', 'tsunami': 0, 'sig': 121, 'net': 'ak', 'code': '021f95pfpr', 'ids': ',ak021f95pfpr,', 'sources': ',ak,', 'types': ',origin,', 'nst': None, 'dmin': None, 'rms': 0.77, 'gap': None, 'magType': 'ml', 'type': 'earthquake', 'title': 'M 2.8 - 20 km WSW of Venetie, Alaska'}, 'geometry': {'type': 'Point', 'coordinates': [-146.8561, 66.9407, 73.9]}, 'id': 'ak021f95pfpr'}, {'type': 'Feature', 'properties': {'mag': 2.58, 'place': '12km N of Tecate, B.C., MX', 'time': 1638078308330, 'updated': 1638105250390, 'tz': None, 'url': 'https://earthquake.usgs.gov/earthquakes/eventpage/ci39872567', 'detail': 'https://earthquake.usgs.gov/earthquakes/feed/v1.0/detail/ci39872567.geojson', 'felt': 1, 'cdi': 3.1, 'mmi': None, 'alert': None, 'status': 'automatic', 'tsunami': 0, 'sig': 103, 'net': 'ci', 'code': '39872567', 'ids': ',ci39872567,', 'sources': ',ci,', 'types': ',dyfi,nearby-cities,origin,phase-data,scitech-link,', 'nst': 5, 'dmin': 0.27, 'rms': 0.13, 'gap': 165, 'magType': 'ml', 'type': 'earthquake', 'title': 'M 2.6 - 12km N of Tecate, B.C., MX'}, 'geometry': {'type': 'Point', 'coordinates': [-116.6483333, 32.6775, 1.63]}, 'id': 'ci39872567'}, {'type': 'Feature', 'properties': {'mag': 2.55, 'place': '16km SSW of Progreso, B.C., MX', 'time': 1638078290390, 'updated': 1638104809718, 'tz': None, 'url': 'https://earthquake.usgs.gov/earthquakes/eventpage/ci39872559', 'detail': 'https://earthquake.usgs.gov/earthquakes/feed/v1.0/detail/ci39872559.geojson', 'felt': 1, 'cdi': 2, 'mmi': None, 'alert': None, 'status': 'automatic', 'tsunami': 0, 'sig': 100, 'net': 'ci', 'code': '39872559', 'ids': ',ci39872559,', 'sources': ',ci,', 'types': ',dyfi,nearby-cities,origin,phase-data,scitech-link,', 'nst': 6, 'dmin': 0.2144, 'rms': 0.36, 'gap': 244, 'magType': 'ml', 'type': 'earthquake', 'title': 'M 2.6 - 16km SSW of Progreso, B.C., MX'}, 'geometry': {'type': 'Point', 'coordinates': [-115.6431667, 32.4461667, 16.14]}, 'id': 'ci39872559'}, {'type': 'Feature', 'properties': {'mag': 3.2, 'place': '59 km ENE of San Vicente, Mexico', 'time': 1638078260388, 'updated': 1638086622289, 'tz': None, 'url': 'https://earthquake.usgs.gov/earthquakes/eventpage/us7000fxmt', 'detail': 'https://earthquake.usgs.gov/earthquakes/feed/v1.0/detail/us7000fxmt.geojson', 'felt': 3, 'cdi': 3.1, 'mmi': 4.227, 'alert': None, 'status': 'reviewed', 'tsunami': 0, 'sig': 158, 'net': 'us', 'code': '7000fxmt', 'ids': ',us7000fxmt,ci39872551,', 'sources': ',us,ci,', 'types': ',dyfi,origin,phase-data,scitech-link,shakemap,', 'nst': None, 'dmin': 0.15, 'rms': 0.67, 'gap': 110, 'magType': 'ml', 'type': 'earthquake', 'title': 'M 3.2 - 59 km ENE of San Vicente, Mexico'}, 'geometry': {'type': 'Point', 'coordinates': [-115.6439, 31.4828, 18.66]}, 'id': 'us7000fxmt'}, {'type': 'Feature', 'properties': {'mag': 2.69, 'place': '1 km ESE of Pāhala, Hawaii', 'time': 1638069176800, 'updated': 1638072229803, 'tz': None, 'url': 'https://earthquake.usgs.gov/earthquakes/eventpage/hv72814362', 'detail': 'https://earthquake.usgs.gov/earthquakes/feed/v1.0/detail/hv72814362.geojson', 'felt': 1, 'cdi': 2.5, 'mmi': None, 'alert': None, 'status': 'automatic', 'tsunami': 0, 'sig': 112, 'net': 'hv', 'code': '72814362', 'ids': ',hv72814362,us7000fxm4,', 'sources': ',hv,us,', 'types': ',dyfi,origin,phase-data,', 'nst': 51, 'dmin': None, 'rms': 0.109999999, 'gap': 102, 'magType': 'ml', 'type': 'earthquake', 'title': 'M 2.7 - 1 km ESE of Pāhala, Hawaii'}, 'geometry': {'type': 'Point', 'coordinates': [-155.46516418457, 19.1981658935547, 36.0299987792969]}, 'id': 'hv72814362'}, {'type': 'Feature', 'properties': {'mag': 3.25, 'place': '4 km E of La Parguera, Puerto Rico', 'time': 1638069006580, 'updated': 1638077689482, 'tz': None, 'url': 'https://earthquake.usgs.gov/earthquakes/eventpage/pr2021332005', 'detail': 'https://earthquake.usgs.gov/earthquakes/feed/v1.0/detail/pr2021332005.geojson', 'felt': 3, 'cdi': 4.1, 'mmi': None, 'alert': None, 'status': 'reviewed', 'tsunami': 0, 'sig': 164, 'net': 'pr', 'code': '2021332005', 'ids': ',us7000fxm3,pr2021332005,', 'sources': ',us,pr,', 'types': ',dyfi,origin,phase-data,', 'nst': 27, 'dmin': 0.0417, 'rms': 0.11, 'gap': 168, 'magType': 'md', 'type': 'earthquake', 'title': 'M 3.3 - 4 km E of La Parguera, Puerto Rico'}, 'geometry': {'type': 'Point', 'coordinates': [-67.0026, 17.9713, 9]}, 'id': 'pr2021332005'}, {'type': 'Feature', 'properties': {'mag': 3.46, 'place': '4 km E of La Parguera, Puerto Rico', 'time': 1638068238080, 'updated': 1638106632955, 'tz': None, 'url': 'https://earthquake.usgs.gov/earthquakes/eventpage/pr2021332003', 'detail': 'https://earthquake.usgs.gov/earthquakes/feed/v1.0/detail/pr2021332003.geojson', 'felt': 15, 'cdi': 4.8, 'mmi': 3.074, 'alert': None, 'status': 'reviewed', 'tsunami': 0, 'sig': 191, 'net': 'pr', 'code': '2021332003', 'ids': ',us7000fxm1,pr2021332003,', 'sources': ',us,pr,', 'types': ',dyfi,origin,phase-data,shakemap,', 'nst': 28, 'dmin': 0.0423, 'rms': 0.09, 'gap': 178, 'magType': 'md', 'type': 'earthquake', 'title': 'M 3.5 - 4 km E of La Parguera, Puerto Rico'}, 'geometry': {'type': 'Point', 'coordinates': [-67.0021, 17.9728, 9]}, 'id': 'pr2021332003'}, {'type': 'Feature', 'properties': {'mag': 4.4, 'place': '42 km WNW of Leni, Italy', 'time': 1638067954632, 'updated': 1638073543238, 'tz': None, 'url': 'https://earthquake.usgs.gov/earthquakes/eventpage/us7000fxly', 'detail': 'https://earthquake.usgs.gov/earthquakes/feed/v1.0/detail/us7000fxly.geojson', 'felt': 4, 'cdi': 4.1, 'mmi': None, 'alert': None, 'status': 'reviewed', 'tsunami': 0, 'sig': 299, 'net': 'us', 'code': '7000fxly', 'ids': ',us7000fxly,', 'sources': ',us,', 'types': ',dyfi,origin,phase-data,', 'nst': None, 'dmin': 1.273, 'rms': 0.78, 'gap': 69, 'magType': 'mb', 'type': 'earthquake', 'title': 'M 4.4 - 42 km WNW of Leni, Italy'}, 'geometry': {'type': 'Point', 'coordinates': [14.3583, 38.6717, 10]}, 'id': 'us7000fxly'}, {'type': 'Feature', 'properties': {'mag': 3.33, 'place': '4 km E of La Parguera, Puerto Rico', 'time': 1638067584520, 'updated': 1638106954976, 'tz': None, 'url': 'https://earthquake.usgs.gov/earthquakes/eventpage/pr2021332004', 'detail': 'https://earthquake.usgs.gov/earthquakes/feed/v1.0/detail/pr2021332004.geojson', 'felt': 5, 'cdi': 3.6, 'mmi': 2.872, 'alert': None, 'status': 'reviewed', 'tsunami': 0, 'sig': 172, 'net': 'pr', 'code': '2021332004', 'ids': ',us7000fxlx,pr2021332004,', 'sources': ',us,pr,', 'types': ',dyfi,origin,phase-data,shakemap,', 'nst': 27, 'dmin': 0.0424, 'rms': 0.11, 'gap': 170, 'magType': 'md', 'type': 'earthquake', 'title': 'M 3.3 - 4 km E of La Parguera, Puerto Rico'}, 'geometry': {'type': 'Point', 'coordinates': [-67.0018, 17.9701, 9]}, 'id': 'pr2021332004'}, {'type': 'Feature', 'properties': {'mag': 3.04, 'place': '37 km N of Culebra, Puerto Rico', 'time': 1638065596540, 'updated': 1638080656538, 'tz': None, 'url': 'https://earthquake.usgs.gov/earthquakes/eventpage/pr2021332002', 'detail': 'https://earthquake.usgs.gov/earthquakes/feed/v1.0/detail/pr2021332002.geojson', 'felt': None, 'cdi': None, 'mmi': None, 'alert': None, 'status': 'reviewed', 'tsunami': 0, 'sig': 142, 'net': 'pr', 'code': '2021332002', 'ids': ',pr2021332002,', 'sources': ',pr,', 'types': ',origin,phase-data,', 'nst': 14, 'dmin': 0.3365, 'rms': 0.36, 'gap': 275, 'magType': 'md', 'type': 'earthquake', 'title': 'M 3.0 - 37 km N of Culebra, Puerto Rico'}, 'geometry': {'type': 'Point', 'coordinates': [-65.316, 18.6423, 67]}, 'id': 'pr2021332002'}, {'type': 'Feature', 'properties': {'mag': 2.8, 'place': '4 km SW of Venetie, Alaska', 'time': 1638064434738, 'updated': 1638066786040, 'tz': None, 'url': 'https://earthquake.usgs.gov/earthquakes/eventpage/ak021f93c4rf', 'detail': 'https://earthquake.usgs.gov/earthquakes/feed/v1.0/detail/ak021f93c4rf.geojson', 'felt': None, 'cdi': None, 'mmi': None, 'alert': None, 'status': 'reviewed', 'tsunami': 0, 'sig': 121, 'net': 'ak', 'code': '021f93c4rf', 'ids': ',us7000fxlm,ak021f93c4rf,', 'sources': ',us,ak,', 'types': ',origin,phase-data,', 'nst': None, 'dmin': None, 'rms': 0.51, 'gap': None, 'magType': 'ml', 'type': 'earthquake', 'title': 'M 2.8 - 4 km SW of Venetie, Alaska'}, 'geometry': {'type': 'Point', 'coordinates': [-146.4942, 66.9855, 13]}, 'id': 'ak021f93c4rf'}, {'type': 'Feature', 'properties': {'mag': 4.3, 'place': 'northern Alaska', 'time': 1638063850267, 'updated': 1638072103213, 'tz': None, 'url': 'https://earthquake.usgs.gov/earthquakes/eventpage/ak021f93a45y', 'detail': 'https://earthquake.usgs.gov/earthquakes/feed/v1.0/detail/ak021f93a45y.geojson', 'felt': 2, 'cdi': 4.1, 'mmi': 4.693, 'alert': 'green', 'status': 'reviewed', 'tsunami': 0, 'sig': 285, 'net': 'ak', 'code': '021f93a45y', 'ids': ',ak021f93a45y,us7000fxli,', 'sources': ',ak,us,', 'types': ',dyfi,losspager,origin,phase-data,shakemap,', 'nst': None, 'dmin': None, 'rms': 0.94, 'gap': None, 'magType': 'ml', 'type': 'earthquake', 'title': 'M 4.3 - northern Alaska'}, 'geometry': {'type': 'Point', 'coordinates': [-146.5953, 66.9559, 6.9]}, 'id': 'ak021f93a45y'}, {'type': 'Feature', 'properties': {'mag': 3.7, 'place': '6 km SSW of Venetie, Alaska', 'time': 1638063587483, 'updated': 1638066089040, 'tz': None, 'url': 'https://earthquake.usgs.gov/earthquakes/eventpage/ak021f939474', 'detail': 'https://earthquake.usgs.gov/earthquakes/feed/v1.0/detail/ak021f939474.geojson', 'felt': None, 'cdi': None, 'mmi': 3.706, 'alert': None, 'status': 'reviewed', 'tsunami': 0, 'sig': 211, 'net': 'ak', 'code': '021f939474', 'ids': ',us7000fxlg,ak021f939474,', 'sources': ',us,ak,', 'types': ',origin,phase-data,shakemap,', 'nst': None, 'dmin': None, 'rms': 0.87, 'gap': None, 'magType': 'ml', 'type': 'earthquake', 'title': 'M 3.7 - 6 km SSW of Venetie, Alaska'}, 'geometry': {'type': 'Point', 'coordinates': [-146.4799, 66.9631, 12.1]}, 'id': 'ak021f939474'}, {'type': 'Feature', 'properties': {'mag': 4.7, 'place': '50 km SW of Qā’en, Iran', 'time': 1638063488507, 'updated': 1638064737040, 'tz': None, 'url': 'https://earthquake.usgs.gov/earthquakes/eventpage/us7000fxlh', 'detail': 'https://earthquake.usgs.gov/earthquakes/feed/v1.0/detail/us7000fxlh.geojson', 'felt': None, 'cdi': None, 'mmi': None, 'alert': None, 'status': 'reviewed', 'tsunami': 0, 'sig': 340, 'net': 'us', 'code': '7000fxlh', 'ids': ',us7000fxlh,', 'sources': ',us,', 'types': ',origin,phase-data,', 'nst': None, 'dmin': 8.616, 'rms': 0.74, 'gap': 72, 'magType': 'mb', 'type': 'earthquake', 'title': 'M 4.7 - 50 km SW of Qā’en, Iran'}, 'geometry': {'type': 'Point', 'coordinates': [58.7505, 33.4477, 10]}, 'id': 'us7000fxlh'}, {'type': 'Feature', 'properties': {'mag': 4.6, 'place': '67 km ESE of Margherita, India', 'time': 1638063171113, 'updated': 1638066462040, 'tz': None, 'url': 'https://earthquake.usgs.gov/earthquakes/eventpage/us7000fxlf', 'detail': 'https://earthquake.usgs.gov/earthquakes/feed/v1.0/detail/us7000fxlf.geojson', 'felt': None, 'cdi': None, 'mmi': None, 'alert': None, 'status': 'reviewed', 'tsunami': 0, 'sig': 326, 'net': 'us', 'code': '7000fxlf', 'ids': ',us7000fxlf,', 'sources': ',us,', 'types': ',origin,phase-data,', 'nst': None, 'dmin': 6.324, 'rms': 1.27, 'gap': 72, 'magType': 'mb', 'type': 'earthquake', 'title': 'M 4.6 - 67 km ESE of Margherita, India'}, 'geometry': {'type': 'Point', 'coordinates': [96.3158, 27.0868, 10]}, 'id': 'us7000fxlf'}, {'type': 'Feature', 'properties': {'mag': 2.79, 'place': '15 km SSE of Guánica, Puerto Rico', 'time': 1638062968050, 'updated': 1638064231820, 'tz': None, 'url': 'https://earthquake.usgs.gov/earthquakes/eventpage/pr2021332001', 'detail': 'https://earthquake.usgs.gov/earthquakes/feed/v1.0/detail/pr2021332001.geojson', 'felt': None, 'cdi': None, 'mmi': None, 'alert': None, 'status': 'reviewed', 'tsunami': 0, 'sig': 120, 'net': 'pr', 'code': '2021332001', 'ids': ',pr2021332001,', 'sources': ',pr,', 'types': ',origin,phase-data,', 'nst': 11, 'dmin': 0.1356, 'rms': 0.1, 'gap': 256, 'magType': 'md', 'type': 'earthquake', 'title': 'M 2.8 - 15 km SSE of Guánica, Puerto Rico'}, 'geometry': {'type': 'Point', 'coordinates': [-66.857, 17.8413, 11]}, 'id': 'pr2021332001'}, {'type': 'Feature', 'properties': {'mag': 2.74, 'place': '15 km SSE of Guánica, Puerto Rico', 'time': 1638060880940, 'updated': 1638062507579, 'tz': None, 'url': 'https://earthquake.usgs.gov/earthquakes/eventpage/pr2021332000', 'detail': 'https://earthquake.usgs.gov/earthquakes/feed/v1.0/detail/pr2021332000.geojson', 'felt': None, 'cdi': None, 'mmi': None, 'alert': None, 'status': 'reviewed', 'tsunami': 0, 'sig': 116, 'net': 'pr', 'code': '2021332000', 'ids': ',pr2021332000,', 'sources': ',pr,', 'types': ',origin,phase-data,', 'nst': 15, 'dmin': 0.1379, 'rms': 0.14, 'gap': 224, 'magType': 'md', 'type': 'earthquake', 'title': 'M 2.7 - 15 km SSE of Guánica, Puerto Rico'}, 'geometry': {'type': 'Point', 'coordinates': [-66.8563, 17.8391, 13]}, 'id': 'pr2021332000'}, {'type': 'Feature', 'properties': {'mag': 4.1, 'place': '45 km WSW of Carahue, Chile', 'time': 1638059857679, 'updated': 1638067019040, 'tz': None, 'url': 'https://earthquake.usgs.gov/earthquakes/eventpage/us7000fxl3', 'detail': 'https://earthquake.usgs.gov/earthquakes/feed/v1.0/detail/us7000fxl3.geojson', 'felt': None, 'cdi': None, 'mmi': None, 'alert': None, 'status': 'reviewed', 'tsunami': 0, 'sig': 259, 'net': 'us', 'code': '7000fxl3', 'ids': ',us7000fxl3,', 'sources': ',us,', 'types': ',origin,phase-data,', 'nst': None, 'dmin': 1.052, 'rms': 0.64, 'gap': 143, 'magType': 'mb', 'type': 'earthquake', 'title': 'M 4.1 - 45 km WSW of Carahue, Chile'}, 'geometry': {'type': 'Point', 'coordinates': [-73.6557, -38.8416, 31.26]}, 'id': 'us7000fxl3'}, {'type': 'Feature', 'properties': {'mag': 3, 'place': '90 km NNE of Adak, Alaska', 'time': 1638057085158, 'updated': 1638059422906, 'tz': None, 'url': 'https://earthquake.usgs.gov/earthquakes/eventpage/ak021f7svttn', 'detail': 'https://earthquake.usgs.gov/earthquakes/feed/v1.0/detail/ak021f7svttn.geojson', 'felt': None, 'cdi': None, 'mmi': None, 'alert': None, 'status': 'reviewed', 'tsunami': 0, 'sig': 138, 'net': 'ak', 'code': '021f7svttn', 'ids': ',ak021f7svttn,', 'sources': ',ak,', 'types': ',origin,phase-data,', 'nst': None, 'dmin': None, 'rms': 0.57, 'gap': None, 'magType': 'ml', 'type': 'earthquake', 'title': 'M 3.0 - 90 km NNE of Adak, Alaska'}, 'geometry': {'type': 'Point', 'coordinates': [-176.0142, 52.5962, 179.8]}, 'id': 'ak021f7svttn'}, {'type': 'Feature', 'properties': {'mag': 2.54, 'place': '10 km SW of Guánica, Puerto Rico', 'time': 1638055813160, 'updated': 1638057148459, 'tz': None, 'url': 'https://earthquake.usgs.gov/earthquakes/eventpage/pr2021331007', 'detail': 'https://earthquake.usgs.gov/earthquakes/feed/v1.0/detail/pr2021331007.geojson', 'felt': None, 'cdi': None, 'mmi': None, 'alert': None, 'status': 'reviewed', 'tsunami': 0, 'sig': 99, 'net': 'pr', 'code': '2021331007', 'ids': ',pr2021331007,', 'sources': ',pr,', 'types': ',origin,phase-data,', 'nst': 13, 'dmin': 0.1009, 'rms': 0.15, 'gap': 242, 'magType': 'md', 'type': 'earthquake', 'title': 'M 2.5 - 10 km SW of Guánica, Puerto Rico'}, 'geometry': {'type': 'Point', 'coordinates': [-66.9705, 17.9005, 12]}, 'id': 'pr2021331007'}, {'type': 'Feature', 'properties': {'mag': 4.6, 'place': '133 km W of Haveluloto, Tonga', 'time': 1638054039199, 'updated': 1638067361040, 'tz': None, 'url': 'https://earthquake.usgs.gov/earthquakes/eventpage/us7000fxki', 'detail': 'https://earthquake.usgs.gov/earthquakes/feed/v1.0/detail/us7000fxki.geojson', 'felt': None, 'cdi': None, 'mmi': None, 'alert': None, 'status': 'reviewed', 'tsunami': 0, 'sig': 326, 'net': 'us', 'code': '7000fxki', 'ids': ',us7000fxki,', 'sources': ',us,', 'types': ',origin,phase-data,', 'nst': None, 'dmin': 6.206, 'rms': 0.91, 'gap': 120, 'magType': 'mb', 'type': 'earthquake', 'title': 'M 4.6 - 133 km W of Haveluloto, Tonga'}, 'geometry': {'type': 'Point', 'coordinates': [-176.492, -21.2335, 190.38]}, 'id': 'us7000fxki'}, {'type': 'Feature', 'properties': {'mag': 4.9, 'place': 'north of Svalbard', 'time': 1638053344043, 'updated': 1638054458040, 'tz': None, 'url': 'https://earthquake.usgs.gov/earthquakes/eventpage/us7000fxkf', 'detail': 'https://earthquake.usgs.gov/earthquakes/feed/v1.0/detail/us7000fxkf.geojson', 'felt': None, 'cdi': None, 'mmi': None, 'alert': None, 'status': 'reviewed', 'tsunami': 0, 'sig': 369, 'net': 'us', 'code': '7000fxkf', 'ids': ',us7000fxkf,', 'sources': ',us,', 'types': ',origin,phase-data,', 'nst': None, 'dmin': 6.57, 'rms': 0.85, 'gap': 57, 'magType': 'mb', 'type': 'earthquake', 'title': 'M 4.9 - north of Svalbard'}, 'geometry': {'type': 'Point', 'coordinates': [13.2037, 85.4413, 10]}, 'id': 'us7000fxkf'}, {'type': 'Feature', 'properties': {'mag': 4.8, 'place': '89 km NNW of Vallenar, Chile', 'time': 1638053088469, 'updated': 1638057674289, 'tz': None, 'url': 'https://earthquake.usgs.gov/earthquakes/eventpage/us7000fxkd', 'detail': 'https://earthquake.usgs.gov/earthquakes/feed/v1.0/detail/us7000fxkd.geojson', 'felt': 6, 'cdi': 3.1, 'mmi': None, 'alert': None, 'status': 'reviewed', 'tsunami': 0, 'sig': 356, 'net': 'us', 'code': '7000fxkd', 'ids': ',us7000fxkd,', 'sources': ',us,', 'types': ',dyfi,moment-tensor,origin,phase-data,', 'nst': None, 'dmin': 0.373, 'rms': 1.12, 'gap': 95, 'magType': 'mwr', 'type': 'earthquake', 'title': 'M 4.8 - 89 km NNW of Vallenar, Chile'}, 'geometry': {'type': 'Point', 'coordinates': [-71.1125, -27.8309, 41.85]}, 'id': 'us7000fxkd'}, {'type': 'Feature', 'properties': {'mag': 2.51999998, 'place': '2 km SSE of Pāhala, Hawaii', 'time': 1638047274260, 'updated': 1638047605210, 'tz': None, 'url': 'https://earthquake.usgs.gov/earthquakes/eventpage/hv72814027', 'detail': 'https://earthquake.usgs.gov/earthquakes/feed/v1.0/detail/hv72814027.geojson', 'felt': None, 'cdi': None, 'mmi': None, 'alert': None, 'status': 'automatic', 'tsunami': 0, 'sig': 98, 'net': 'hv', 'code': '72814027', 'ids': ',hv72814027,', 'sources': ',hv,', 'types': ',origin,phase-data,', 'nst': 46, 'dmin': None, 'rms': 0.109999999, 'gap': 148, 'magType': 'md', 'type': 'earthquake', 'title': 'M 2.5 - 2 km SSE of Pāhala, Hawaii'}, 'geometry': {'type': 'Point', 'coordinates': [-155.465835571289, 19.183500289917, 36.8800010681152]}, 'id': 'hv72814027'}, {'type': 'Feature', 'properties': {'mag': 4.1, 'place': '57 km SE of Longaví, Chile', 'time': 1638045605703, 'updated': 1638059098040, 'tz': None, 'url': 'https://earthquake.usgs.gov/earthquakes/eventpage/us7000fxjw', 'detail': 'https://earthquake.usgs.gov/earthquakes/feed/v1.0/detail/us7000fxjw.geojson', 'felt': None, 'cdi': None, 'mmi': None, 'alert': None, 'status': 'reviewed', 'tsunami': 0, 'sig': 259, 'net': 'us', 'code': '7000fxjw', 'ids': ',us7000fxjw,', 'sources': ',us,', 'types': ',origin,phase-data,', 'nst': None, 'dmin': 0.338, 'rms': 0.78, 'gap': 103, 'magType': 'mb', 'type': 'earthquake', 'title': 'M 4.1 - 57 km SE of Longaví, Chile'}, 'geometry': {'type': 'Point', 'coordinates': [-71.2306, -36.3264, 131.33]}, 'id': 'us7000fxjw'}, {'type': 'Feature', 'properties': {'mag': 5.3, 'place': '60 km S of Popondetta, Papua New Guinea', 'time': 1638045399554, 'updated': 1638072584782, 'tz': None, 'url': 'https://earthquake.usgs.gov/earthquakes/eventpage/us7000fxjx', 'detail': 'https://earthquake.usgs.gov/earthquakes/feed/v1.0/detail/us7000fxjx.geojson', 'felt': 9, 'cdi': 5.3, 'mmi': None, 'alert': None, 'status': 'reviewed', 'tsunami': 0, 'sig': 437, 'net': 'us', 'code': '7000fxjx', 'ids': ',us7000fxjx,', 'sources': ',us,', 'types': ',dyfi,origin,phase-data,', 'nst': None, 'dmin': 6.448, 'rms': 1.06, 'gap': 18, 'magType': 'mb', 'type': 'earthquake', 'title': 'M 5.3 - 60 km S of Popondetta, Papua New Guinea'}, 'geometry': {'type': 'Point', 'coordinates': [148.1673, -9.3079, 10]}, 'id': 'us7000fxjx'}, {'type': 'Feature', 'properties': {'mag': 4.3, 'place': '41 km SW of Santiago del Estero, Argentina', 'time': 1638042022970, 'updated': 1638057470040, 'tz': None, 'url': 'https://earthquake.usgs.gov/earthquakes/eventpage/us7000fxjk', 'detail': 'https://earthquake.usgs.gov/earthquakes/feed/v1.0/detail/us7000fxjk.geojson', 'felt': None, 'cdi': None, 'mmi': None, 'alert': None, 'status': 'reviewed', 'tsunami': 0, 'sig': 284, 'net': 'us', 'code': '7000fxjk', 'ids': ',us7000fxjk,', 'sources': ',us,', 'types': ',origin,phase-data,', 'nst': None, 'dmin': 4.3, 'rms': 0.51, 'gap': 55, 'magType': 'mb', 'type': 'earthquake', 'title': 'M 4.3 - 41 km SW of Santiago del Estero, Argentina'}, 'geometry': {'type': 'Point', 'coordinates': [-64.5012, -28.1024, 10]}, 'id': 'us7000fxjk'}, {'type': 'Feature', 'properties': {'mag': 4.4, 'place': '38 km WSW of Carahue, Chile', 'time': 1638041516679, 'updated': 1638056279040, 'tz': None, 'url': 'https://earthquake.usgs.gov/earthquakes/eventpage/us7000fxjr', 'detail': 'https://earthquake.usgs.gov/earthquakes/feed/v1.0/detail/us7000fxjr.geojson', 'felt': None, 'cdi': None, 'mmi': None, 'alert': None, 'status': 'reviewed', 'tsunami': 0, 'sig': 298, 'net': 'us', 'code': '7000fxjr', 'ids': ',us7000fxjr,', 'sources': ',us,', 'types': ',moment-tensor,origin,phase-data,', 'nst': None, 'dmin': 1.016, 'rms': 0.82, 'gap': 139, 'magType': 'mwr', 'type': 'earthquake', 'title': 'M 4.4 - 38 km WSW of Carahue, Chile'}, 'geometry': {'type': 'Point', 'coordinates': [-73.5544, -38.8677, 20.43]}, 'id': 'us7000fxjr'}, {'type': 'Feature', 'properties': {'mag': 4.6, 'place': '38 km WSW of Carahue, Chile', 'time': 1638041339319, 'updated': 1638057618828, 'tz': None, 'url': 'https://earthquake.usgs.gov/earthquakes/eventpage/us7000fxji', 'detail': 'https://earthquake.usgs.gov/earthquakes/feed/v1.0/detail/us7000fxji.geojson', 'felt': 3, 'cdi': 4.1, 'mmi': None, 'alert': None, 'status': 'reviewed', 'tsunami': 0, 'sig': 327, 'net': 'us', 'code': '7000fxji', 'ids': ',us7000fxji,', 'sources': ',us,', 'types': ',dyfi,moment-tensor,origin,phase-data,', 'nst': None, 'dmin': 1.063, 'rms': 0.58, 'gap': 139, 'magType': 'mwr', 'type': 'earthquake', 'title': 'M 4.6 - 38 km WSW of Carahue, Chile'}, 'geometry': {'type': 'Point', 'coordinates': [-73.5757, -38.8213, 27.37]}, 'id': 'us7000fxji'}, {'type': 'Feature', 'properties': {'mag': 5.4, 'place': '91 km SSE of Panguna, Papua New Guinea', 'time': 1638038889058, 'updated': 1638071613183, 'tz': None, 'url': 'https://earthquake.usgs.gov/earthquakes/eventpage/us7000fxj5', 'detail': 'https://earthquake.usgs.gov/earthquakes/feed/v1.0/detail/us7000fxj5.geojson', 'felt': 3, 'cdi': 4.6, 'mmi': 4.72, 'alert': 'green', 'status': 'reviewed', 'tsunami': 0, 'sig': 450, 'net': 'us', 'code': '7000fxj5', 'ids': ',us7000fxj5,', 'sources': ',us,', 'types': ',dyfi,losspager,origin,phase-data,shakemap,', 'nst': None, 'dmin': 4.654, 'rms': 0.81, 'gap': 41, 'magType': 'mb', 'type': 'earthquake', 'title': 'M 5.4 - 91 km SSE of Panguna, Papua New Guinea'}, 'geometry': {'type': 'Point', 'coordinates': [155.918, -7.0235, 67.86]}, 'id': 'us7000fxj5'}, {'type': 'Feature', 'properties': {'mag': 4.6, 'place': '1 km N of Lata, Solomon Islands', 'time': 1638038568989, 'updated': 1638043382040, 'tz': None, 'url': 'https://earthquake.usgs.gov/earthquakes/eventpage/us7000fxjb', 'detail': 'https://earthquake.usgs.gov/earthquakes/feed/v1.0/detail/us7000fxjb.geojson', 'felt': None, 'cdi': None, 'mmi': None, 'alert': None, 'status': 'reviewed', 'tsunami': 0, 'sig': 326, 'net': 'us', 'code': '7000fxjb', 'ids': ',us7000fxjb,', 'sources': ',us,', 'types': ',origin,phase-data,', 'nst': None, 'dmin': 4.904, 'rms': 0.53, 'gap': 101, 'magType': 'mb', 'type': 'earthquake', 'title': 'M 4.6 - 1 km N of Lata, Solomon Islands'}, 'geometry': {'type': 'Point', 'coordinates': [165.7956, -10.7097, 35]}, 'id': 'us7000fxjb'}, {'type': 'Feature', 'properties': {'mag': 4.6, 'place': '209 km SSW of Severo-Kuril’sk, Russia', 'time': 1638037457312, 'updated': 1638042529040, 'tz': None, 'url': 'https://earthquake.usgs.gov/earthquakes/eventpage/us7000fxj6', 'detail': 'https://earthquake.usgs.gov/earthquakes/feed/v1.0/detail/us7000fxj6.geojson', 'felt': None, 'cdi': None, 'mmi': None, 'alert': None, 'status': 'reviewed', 'tsunami': 0, 'sig': 326, 'net': 'us', 'code': '7000fxj6', 'ids': ',us7000fxj6,', 'sources': ',us,', 'types': ',origin,phase-data,', 'nst': None, 'dmin': 4.503, 'rms': 0.64, 'gap': 131, 'magType': 'mb', 'type': 'earthquake', 'title': 'M 4.6 - 209 km SSW of Severo-Kuril’sk, Russia'}, 'geometry': {'type': 'Point', 'coordinates': [155.3874, 48.8539, 47.86]}, 'id': 'us7000fxj6'}, {'type': 'Feature', 'properties': {'mag': 3, 'place': '120 km WNW of Haines Junction, Canada', 'time': 1638034560736, 'updated': 1638036195965, 'tz': None, 'url': 'https://earthquake.usgs.gov/earthquakes/eventpage/ak021f7p7yjm', 'detail': 'https://earthquake.usgs.gov/earthquakes/feed/v1.0/detail/ak021f7p7yjm.geojson', 'felt': None, 'cdi': None, 'mmi': None, 'alert': None, 'status': 'reviewed', 'tsunami': 0, 'sig': 138, 'net': 'ak', 'code': '021f7p7yjm', 'ids': ',ak021f7p7yjm,', 'sources': ',ak,', 'types': ',origin,phase-data,', 'nst': None, 'dmin': None, 'rms': 0.99, 'gap': None, 'magType': 'ml', 'type': 'earthquake', 'title': 'M 3.0 - 120 km WNW of Haines Junction, Canada'}, 'geometry': {'type': 'Point', 'coordinates': [-139.4787, 61.2491, 3.7]}, 'id': 'ak021f7p7yjm'}, {'type': 'Feature', 'properties': {'mag': 3.02, 'place': '3 km ESE of Maria Antonia, Puerto Rico', 'time': 1638032803990, 'updated': 1638034758597, 'tz': None, 'url': 'https://earthquake.usgs.gov/earthquakes/eventpage/pr2021331006', 'detail': 'https://earthquake.usgs.gov/earthquakes/feed/v1.0/detail/pr2021331006.geojson', 'felt': None, 'cdi': None, 'mmi': None, 'alert': None, 'status': 'reviewed', 'tsunami': 0, 'sig': 140, 'net': 'pr', 'code': '2021331006', 'ids': ',pr2021331006,', 'sources': ',pr,', 'types': ',origin,phase-data,', 'nst': 20, 'dmin': 0.0261, 'rms': 0.19, 'gap': 166, 'magType': 'md', 'type': 'earthquake', 'title': 'M 3.0 - 3 km ESE of Maria Antonia, Puerto Rico'}, 'geometry': {'type': 'Point', 'coordinates': [-66.8535, 17.9705, 17]}, 'id': 'pr2021331006'}, {'type': 'Feature', 'properties': {'mag': 3.27, 'place': '32 km NNE of Punta Cana, Dominican Republic', 'time': 1638032608990, 'updated': 1638033703477, 'tz': None, 'url': 'https://earthquake.usgs.gov/earthquakes/eventpage/pr2021331005', 'detail': 'https://earthquake.usgs.gov/earthquakes/feed/v1.0/detail/pr2021331005.geojson', 'felt': None, 'cdi': None, 'mmi': None, 'alert': None, 'status': 'reviewed', 'tsunami': 0, 'sig': 165, 'net': 'pr', 'code': '2021331005', 'ids': ',pr2021331005,', 'sources': ',pr,', 'types': ',origin,phase-data,', 'nst': 7, 'dmin': 1.4325, 'rms': 0.49, 'gap': 198, 'magType': 'md', 'type': 'earthquake', 'title': 'M 3.3 - 32 km NNE of Punta Cana, Dominican Republic'}, 'geometry': {'type': 'Point', 'coordinates': [-68.2695, 18.8471, 101]}, 'id': 'pr2021331005'}, {'type': 'Feature', 'properties': {'mag': 2.62, 'place': '4 km SW of Pāhala, Hawaii', 'time': 1638028871430, 'updated': 1638033726040, 'tz': None, 'url': 'https://earthquake.usgs.gov/earthquakes/eventpage/hv72813692', 'detail': 'https://earthquake.usgs.gov/earthquakes/feed/v1.0/detail/hv72813692.geojson', 'felt': 2, 'cdi': 2.7, 'mmi': None, 'alert': None, 'status': 'automatic', 'tsunami': 0, 'sig': 106, 'net': 'hv', 'code': '72813692', 'ids': ',hv72813692,us7000fxi7,', 'sources': ',hv,us,', 'types': ',dyfi,origin,phase-data,', 'nst': 51, 'dmin': None, 'rms': 0.129999995, 'gap': 94, 'magType': 'ml', 'type': 'earthquake', 'title': 'M 2.6 - 4 km SW of Pāhala, Hawaii'}, 'geometry': {'type': 'Point', 'coordinates': [-155.507995605469, 19.1731662750244, 35.9799995422363]}, 'id': 'hv72813692'}, {'type': 'Feature', 'properties': {'mag': 3.2, 'place': '3 km SSE of El Indio, Texas', 'time': 1638027334011, 'updated': 1638030456040, 'tz': None, 'url': 'https://earthquake.usgs.gov/earthquakes/eventpage/tx2021xgcw', 'detail': 'https://earthquake.usgs.gov/earthquakes/feed/v1.0/detail/tx2021xgcw.geojson', 'felt': None, 'cdi': None, 'mmi': None, 'alert': None, 'status': 'reviewed', 'tsunami': 0, 'sig': 158, 'net': 'tx', 'code': '2021xgcw', 'ids': ',us7000fxi4,tx2021xgcw,', 'sources': ',us,tx,', 'types': ',origin,phase-data,', 'nst': 10, 'dmin': 0.01762167804, 'rms': 0.3, 'gap': 81, 'magType': 'ml', 'type': 'earthquake', 'title': 'M 3.2 - 3 km SSE of El Indio, Texas'}, 'geometry': {'type': 'Point', 'coordinates': [-100.2976792, 28.48480225, 4.13285319]}, 'id': 'tx2021xgcw'}, {'type': 'Feature', 'properties': {'mag': 2.57, 'place': '9km ESE of Big Bear City, CA', 'time': 1638022350150, 'updated': 1638045978292, 'tz': None, 'url': 'https://earthquake.usgs.gov/earthquakes/eventpage/ci39871631', 'detail': 'https://earthquake.usgs.gov/earthquakes/feed/v1.0/detail/ci39871631.geojson', 'felt': 4, 'cdi': 3.1, 'mmi': None, 'alert': None, 'status': 'automatic', 'tsunami': 0, 'sig': 103, 'net': 'ci', 'code': '39871631', 'ids': ',ci39871631,us7000fxhr,', 'sources': ',ci,us,', 'types': ',dyfi,focal-mechanism,nearby-cities,origin,phase-data,scitech-link,', 'nst': 84, 'dmin': 0.1341, 'rms': 0.15, 'gap': 39, 'magType': 'ml', 'type': 'earthquake', 'title': 'M 2.6 - 9km ESE of Big Bear City, CA'}, 'geometry': {'type': 'Point', 'coordinates': [-116.75, 34.23, 8.21]}, 'id': 'ci39871631'}], 'bbox': [-178.2631, -38.8677, 1.63, 165.7956, 85.4413, 568.76]}\n",
            "USGS Magnitude 2.5+ Earthquakes, Past Day\n",
            "56\n",
            "----------------------------------------\n",
            "56 km S of Whites City, New Mexico\n",
            "20 km ESE of Kanarraville, Utah\n",
            "4 km S of Pāhala, Hawaii\n",
            "42 km NNW of Barranca, Peru\n",
            "24 km ENE of Riosucio, Colombia\n",
            "Near the coast of Valparaiso, Chile\n",
            "259 km E of Levuka, Fiji\n",
            "56 km S of Whites City, New Mexico\n",
            "8km NNE of Hayfork, CA\n",
            "6 km SSW of Tallaboa, Puerto Rico\n",
            "Colorado\n",
            "8 km SE of Miches, Dominican Republic\n",
            "4 km ENE of La Parguera, Puerto Rico\n",
            "Fiji region\n",
            "182 km W of Ferndale, California\n",
            "28 km W of Callao, Peru\n",
            "12 km W of Venetie, Alaska\n",
            "western Texas\n",
            "20 km WSW of Venetie, Alaska\n",
            "12km N of Tecate, B.C., MX\n",
            "16km SSW of Progreso, B.C., MX\n",
            "59 km ENE of San Vicente, Mexico\n",
            "1 km ESE of Pāhala, Hawaii\n",
            "4 km E of La Parguera, Puerto Rico\n",
            "4 km E of La Parguera, Puerto Rico\n",
            "42 km WNW of Leni, Italy\n",
            "4 km E of La Parguera, Puerto Rico\n",
            "37 km N of Culebra, Puerto Rico\n",
            "4 km SW of Venetie, Alaska\n",
            "northern Alaska\n",
            "6 km SSW of Venetie, Alaska\n",
            "50 km SW of Qā’en, Iran\n",
            "67 km ESE of Margherita, India\n",
            "15 km SSE of Guánica, Puerto Rico\n",
            "15 km SSE of Guánica, Puerto Rico\n",
            "45 km WSW of Carahue, Chile\n",
            "90 km NNE of Adak, Alaska\n",
            "10 km SW of Guánica, Puerto Rico\n",
            "133 km W of Haveluloto, Tonga\n",
            "north of Svalbard\n",
            "89 km NNW of Vallenar, Chile\n",
            "2 km SSE of Pāhala, Hawaii\n",
            "57 km SE of Longaví, Chile\n",
            "60 km S of Popondetta, Papua New Guinea\n",
            "41 km SW of Santiago del Estero, Argentina\n",
            "38 km WSW of Carahue, Chile\n",
            "38 km WSW of Carahue, Chile\n",
            "91 km SSE of Panguna, Papua New Guinea\n",
            "1 km N of Lata, Solomon Islands\n",
            "209 km SSW of Severo-Kuril’sk, Russia\n",
            "120 km WNW of Haines Junction, Canada\n",
            "3 km ESE of Maria Antonia, Puerto Rico\n",
            "32 km NNE of Punta Cana, Dominican Republic\n",
            "4 km SW of Pāhala, Hawaii\n",
            "3 km SSE of El Indio, Texas\n",
            "9km ESE of Big Bear City, CA\n",
            "----------------------------------------\n",
            "56 km S of Whites City, New Mexico\n",
            "20 km ESE of Kanarraville, Utah\n",
            "42 km NNW of Barranca, Peru\n",
            "24 km ENE of Riosucio, Colombia\n",
            "Near the coast of Valparaiso, Chile\n",
            "259 km E of Levuka, Fiji\n",
            "56 km S of Whites City, New Mexico\n",
            "8km NNE of Hayfork, CA\n",
            "6 km SSW of Tallaboa, Puerto Rico\n",
            "Colorado\n",
            "8 km SE of Miches, Dominican Republic\n",
            "4 km ENE of La Parguera, Puerto Rico\n",
            "Fiji region\n",
            "182 km W of Ferndale, California\n",
            "28 km W of Callao, Peru\n",
            "12 km W of Venetie, Alaska\n",
            "western Texas\n",
            "20 km WSW of Venetie, Alaska\n",
            "12km N of Tecate, B.C., MX\n",
            "16km SSW of Progreso, B.C., MX\n",
            "59 km ENE of San Vicente, Mexico\n",
            "1 km ESE of Pāhala, Hawaii\n",
            "4 km E of La Parguera, Puerto Rico\n",
            "4 km E of La Parguera, Puerto Rico\n",
            "42 km WNW of Leni, Italy\n",
            "4 km E of La Parguera, Puerto Rico\n",
            "37 km N of Culebra, Puerto Rico\n",
            "4 km SW of Venetie, Alaska\n",
            "northern Alaska\n",
            "6 km SSW of Venetie, Alaska\n",
            "50 km SW of Qā’en, Iran\n",
            "67 km ESE of Margherita, India\n",
            "15 km SSE of Guánica, Puerto Rico\n",
            "15 km SSE of Guánica, Puerto Rico\n",
            "45 km WSW of Carahue, Chile\n",
            "90 km NNE of Adak, Alaska\n",
            "10 km SW of Guánica, Puerto Rico\n",
            "133 km W of Haveluloto, Tonga\n",
            "north of Svalbard\n",
            "89 km NNW of Vallenar, Chile\n",
            "2 km SSE of Pāhala, Hawaii\n",
            "57 km SE of Longaví, Chile\n",
            "60 km S of Popondetta, Papua New Guinea\n",
            "41 km SW of Santiago del Estero, Argentina\n",
            "38 km WSW of Carahue, Chile\n",
            "38 km WSW of Carahue, Chile\n",
            "91 km SSE of Panguna, Papua New Guinea\n",
            "1 km N of Lata, Solomon Islands\n",
            "209 km SSW of Severo-Kuril’sk, Russia\n",
            "120 km WNW of Haines Junction, Canada\n",
            "3 km ESE of Maria Antonia, Puerto Rico\n",
            "32 km NNE of Punta Cana, Dominican Republic\n",
            "4 km SW of Pāhala, Hawaii\n",
            "3 km SSE of El Indio, Texas\n",
            "9km ESE of Big Bear City, CA\n"
          ]
        }
      ]
    }
  ]
}