{
  "nbformat": 4,
  "nbformat_minor": 0,
  "metadata": {
    "colab": {
      "name": "NumpyInitial.ipynb",
      "provenance": []
    },
    "kernelspec": {
      "name": "python3",
      "display_name": "Python 3"
    },
    "language_info": {
      "name": "python"
    }
  },
  "cells": [
    {
      "cell_type": "code",
      "metadata": {
        "id": "gH-OWmlRvPJU"
      },
      "source": [
        "import numpy as np\n"
      ],
      "execution_count": 35,
      "outputs": []
    },
    {
      "cell_type": "code",
      "metadata": {
        "colab": {
          "base_uri": "https://localhost:8080/"
        },
        "id": "UwQcvczkwAqc",
        "outputId": "101bcf8b-feff-471c-ceb0-c846d1e6fcfa"
      },
      "source": [
        "CURVE_CENTER=80\n",
        "grades = np.array([72, 35, 64, 88, 51, 90, 74, 12])\n",
        "\n",
        "def curve(grades):\n",
        "  avg = grades.mean();\n",
        "  print(avg)\n",
        "  change = CURVE_CENTER - avg\n",
        "  new_grades = grades + change\n",
        "  return np.clip(new_grades, grades, 100)\n",
        "\n",
        "curve(grades)"
      ],
      "execution_count": 36,
      "outputs": [
        {
          "output_type": "stream",
          "name": "stdout",
          "text": [
            "60.75\n"
          ]
        },
        {
          "output_type": "execute_result",
          "data": {
            "text/plain": [
              "array([ 91.25,  54.25,  83.25, 100.  ,  70.25, 100.  ,  93.25,  31.25])"
            ]
          },
          "metadata": {},
          "execution_count": 36
        }
      ]
    },
    {
      "cell_type": "code",
      "metadata": {
        "colab": {
          "base_uri": "https://localhost:8080/"
        },
        "id": "i3Cpkxagvd7P",
        "outputId": "433a47e2-9fe7-4fb9-9999-c43e9fe42f55"
      },
      "source": [
        "temperatures = np.array([29.3, 42.1, 18.8, 16.1, 38.0, 12.5, 12.6, 49.9, 38.6, 31.3, 9.2, 22.2]).reshape(2, 2, 3)# 2 rows, 2 columns and 3 elements each per item in matrix\n",
        "temperatures.shape\n",
        "temperatures"
      ],
      "execution_count": 37,
      "outputs": [
        {
          "output_type": "execute_result",
          "data": {
            "text/plain": [
              "array([[[29.3, 42.1, 18.8],\n",
              "        [16.1, 38. , 12.5]],\n",
              "\n",
              "       [[12.6, 49.9, 38.6],\n",
              "        [31.3,  9.2, 22.2]]])"
            ]
          },
          "metadata": {},
          "execution_count": 37
        }
      ]
    },
    {
      "cell_type": "code",
      "metadata": {
        "colab": {
          "base_uri": "https://localhost:8080/"
        },
        "id": "5EJWavf8vlRa",
        "outputId": "4976312c-c339-4ea3-e89a-64f52f60d608"
      },
      "source": [
        "np.swapaxes(temperatures, 1, 2) # Transpose of the matrix"
      ],
      "execution_count": 38,
      "outputs": [
        {
          "output_type": "execute_result",
          "data": {
            "text/plain": [
              "array([[[29.3, 16.1],\n",
              "        [42.1, 38. ],\n",
              "        [18.8, 12.5]],\n",
              "\n",
              "       [[12.6, 31.3],\n",
              "        [49.9,  9.2],\n",
              "        [38.6, 22.2]]])"
            ]
          },
          "metadata": {},
          "execution_count": 38
        }
      ]
    },
    {
      "cell_type": "code",
      "metadata": {
        "colab": {
          "base_uri": "https://localhost:8080/"
        },
        "id": "GO5FX7K6vn2t",
        "outputId": "1db7c8d6-a211-4a05-e918-1e23d94ab198"
      },
      "source": [
        " table = np.array([ [5, 3, 7, 1],\n",
        "                    [2, 6, 7 ,9],\n",
        "                    [1, 1, 1, 1],\n",
        "                    [4, 3, 2, 0],])\n",
        " print(table.max())\n",
        " print(table.max(axis=0))\n",
        " print(table.max(axis=1))"
      ],
      "execution_count": 39,
      "outputs": [
        {
          "output_type": "stream",
          "name": "stdout",
          "text": [
            "9\n",
            "[5 6 7 9]\n",
            "[7 9 1 4]\n"
          ]
        }
      ]
    },
    {
      "cell_type": "code",
      "metadata": {
        "colab": {
          "base_uri": "https://localhost:8080/"
        },
        "id": "ifT5UEKEvsTh",
        "outputId": "83f24cbf-d0f5-4a8f-e62f-0e6926508012"
      },
      "source": [
        "A = np.arange(32).reshape(4, 1, 8)\n",
        "print(\"A ={}\".format(A))\n",
        "B = np.arange(48).reshape(1, 6, 8)\n",
        "print(\"B = {}\".format(B))\n",
        "print(\"A+B {}\".format(A+B))"
      ],
      "execution_count": 40,
      "outputs": [
        {
          "output_type": "stream",
          "name": "stdout",
          "text": [
            "A =[[[ 0  1  2  3  4  5  6  7]]\n",
            "\n",
            " [[ 8  9 10 11 12 13 14 15]]\n",
            "\n",
            " [[16 17 18 19 20 21 22 23]]\n",
            "\n",
            " [[24 25 26 27 28 29 30 31]]]\n",
            "B = [[[ 0  1  2  3  4  5  6  7]\n",
            "  [ 8  9 10 11 12 13 14 15]\n",
            "  [16 17 18 19 20 21 22 23]\n",
            "  [24 25 26 27 28 29 30 31]\n",
            "  [32 33 34 35 36 37 38 39]\n",
            "  [40 41 42 43 44 45 46 47]]]\n",
            "A+B [[[ 0  2  4  6  8 10 12 14]\n",
            "  [ 8 10 12 14 16 18 20 22]\n",
            "  [16 18 20 22 24 26 28 30]\n",
            "  [24 26 28 30 32 34 36 38]\n",
            "  [32 34 36 38 40 42 44 46]\n",
            "  [40 42 44 46 48 50 52 54]]\n",
            "\n",
            " [[ 8 10 12 14 16 18 20 22]\n",
            "  [16 18 20 22 24 26 28 30]\n",
            "  [24 26 28 30 32 34 36 38]\n",
            "  [32 34 36 38 40 42 44 46]\n",
            "  [40 42 44 46 48 50 52 54]\n",
            "  [48 50 52 54 56 58 60 62]]\n",
            "\n",
            " [[16 18 20 22 24 26 28 30]\n",
            "  [24 26 28 30 32 34 36 38]\n",
            "  [32 34 36 38 40 42 44 46]\n",
            "  [40 42 44 46 48 50 52 54]\n",
            "  [48 50 52 54 56 58 60 62]\n",
            "  [56 58 60 62 64 66 68 70]]\n",
            "\n",
            " [[24 26 28 30 32 34 36 38]\n",
            "  [32 34 36 38 40 42 44 46]\n",
            "  [40 42 44 46 48 50 52 54]\n",
            "  [48 50 52 54 56 58 60 62]\n",
            "  [56 58 60 62 64 66 68 70]\n",
            "  [64 66 68 70 72 74 76 78]]]\n"
          ]
        }
      ]
    },
    {
      "cell_type": "code",
      "metadata": {
        "colab": {
          "base_uri": "https://localhost:8080/"
        },
        "id": "ZireLyFWvvYO",
        "outputId": "971cece6-6d82-48b9-bc4e-82ac3d88b00e"
      },
      "source": [
        "np.arange(32).reshape(4,1,8)"
      ],
      "execution_count": 41,
      "outputs": [
        {
          "output_type": "execute_result",
          "data": {
            "text/plain": [
              "array([[[ 0,  1,  2,  3,  4,  5,  6,  7]],\n",
              "\n",
              "       [[ 8,  9, 10, 11, 12, 13, 14, 15]],\n",
              "\n",
              "       [[16, 17, 18, 19, 20, 21, 22, 23]],\n",
              "\n",
              "       [[24, 25, 26, 27, 28, 29, 30, 31]]])"
            ]
          },
          "metadata": {},
          "execution_count": 41
        }
      ]
    },
    {
      "cell_type": "code",
      "metadata": {
        "colab": {
          "base_uri": "https://localhost:8080/"
        },
        "id": "MSHQi_KNvyyr",
        "outputId": "166305ec-1c5a-441a-935e-1e0ffa849156"
      },
      "source": [
        "A = np.arange(8).reshape(1, 4, 2)\n",
        "print(\"A ={}\".format(A))\n",
        "print(A[0,1])\n",
        "B = np.arange(8).reshape(4, 1, 2)\n",
        "print(\"B = {}\".format(B))\n",
        "C = A+B\n",
        "print(\"A+B {}\".format(C))\n",
        "print(C.shape)"
      ],
      "execution_count": 42,
      "outputs": [
        {
          "output_type": "stream",
          "name": "stdout",
          "text": [
            "A =[[[0 1]\n",
            "  [2 3]\n",
            "  [4 5]\n",
            "  [6 7]]]\n",
            "[2 3]\n",
            "B = [[[0 1]]\n",
            "\n",
            " [[2 3]]\n",
            "\n",
            " [[4 5]]\n",
            "\n",
            " [[6 7]]]\n",
            "A+B [[[ 0  2]\n",
            "  [ 2  4]\n",
            "  [ 4  6]\n",
            "  [ 6  8]]\n",
            "\n",
            " [[ 2  4]\n",
            "  [ 4  6]\n",
            "  [ 6  8]\n",
            "  [ 8 10]]\n",
            "\n",
            " [[ 4  6]\n",
            "  [ 6  8]\n",
            "  [ 8 10]\n",
            "  [10 12]]\n",
            "\n",
            " [[ 6  8]\n",
            "  [ 8 10]\n",
            "  [10 12]\n",
            "  [12 14]]]\n",
            "(4, 4, 2)\n"
          ]
        }
      ]
    },
    {
      "cell_type": "code",
      "metadata": {
        "colab": {
          "base_uri": "https://localhost:8080/"
        },
        "id": "Bgch5aBYv6U9",
        "outputId": "5b198335-f410-4a8e-c0d6-77f2fe02c066"
      },
      "source": [
        "import numpy as np\n",
        "square=np.arange(100).reshape(5,2,10)\n",
        "print(square)\n",
        "print(square[1,1])"
      ],
      "execution_count": 43,
      "outputs": [
        {
          "output_type": "stream",
          "name": "stdout",
          "text": [
            "[[[ 0  1  2  3  4  5  6  7  8  9]\n",
            "  [10 11 12 13 14 15 16 17 18 19]]\n",
            "\n",
            " [[20 21 22 23 24 25 26 27 28 29]\n",
            "  [30 31 32 33 34 35 36 37 38 39]]\n",
            "\n",
            " [[40 41 42 43 44 45 46 47 48 49]\n",
            "  [50 51 52 53 54 55 56 57 58 59]]\n",
            "\n",
            " [[60 61 62 63 64 65 66 67 68 69]\n",
            "  [70 71 72 73 74 75 76 77 78 79]]\n",
            "\n",
            " [[80 81 82 83 84 85 86 87 88 89]\n",
            "  [90 91 92 93 94 95 96 97 98 99]]]\n",
            "[30 31 32 33 34 35 36 37 38 39]\n"
          ]
        }
      ]
    },
    {
      "cell_type": "code",
      "metadata": {
        "colab": {
          "base_uri": "https://localhost:8080/"
        },
        "id": "yDipsEahv-si",
        "outputId": "fda6fbbd-2ca3-4e36-c730-de15a3d40242"
      },
      "source": [
        " sq = np.arange(100).reshape(10,10)\n",
        " print(sq)\n",
        " print(sq[3,5])"
      ],
      "execution_count": 44,
      "outputs": [
        {
          "output_type": "stream",
          "name": "stdout",
          "text": [
            "[[ 0  1  2  3  4  5  6  7  8  9]\n",
            " [10 11 12 13 14 15 16 17 18 19]\n",
            " [20 21 22 23 24 25 26 27 28 29]\n",
            " [30 31 32 33 34 35 36 37 38 39]\n",
            " [40 41 42 43 44 45 46 47 48 49]\n",
            " [50 51 52 53 54 55 56 57 58 59]\n",
            " [60 61 62 63 64 65 66 67 68 69]\n",
            " [70 71 72 73 74 75 76 77 78 79]\n",
            " [80 81 82 83 84 85 86 87 88 89]\n",
            " [90 91 92 93 94 95 96 97 98 99]]\n",
            "35\n"
          ]
        }
      ]
    },
    {
      "cell_type": "code",
      "metadata": {
        "colab": {
          "base_uri": "https://localhost:8080/"
        },
        "id": "SiTtfE0TwIMa",
        "outputId": "27e0817f-8976-43b6-ca9e-df23fcd32ab0"
      },
      "source": [
        "a1 = np.arange(1,13)\n",
        "print(a1)\n",
        "a2 = a1.reshape(3,4)\n",
        "print(a2)\n",
        "a3 = a2.reshape(-1,4)\n",
        "print(a3)\n",
        "a4 = a3.reshape(3,-1)\n",
        "print(a4)\n",
        "print(type(a4))\n",
        "\n",
        "a5 = a1.reshape(3,-1, order='F')\n",
        "print(a5)\n",
        "#a1.reshape(3,-1).revel()\n",
        "#print(a1)"
      ],
      "execution_count": 45,
      "outputs": [
        {
          "output_type": "stream",
          "name": "stdout",
          "text": [
            "[ 1  2  3  4  5  6  7  8  9 10 11 12]\n",
            "[[ 1  2  3  4]\n",
            " [ 5  6  7  8]\n",
            " [ 9 10 11 12]]\n",
            "[[ 1  2  3  4]\n",
            " [ 5  6  7  8]\n",
            " [ 9 10 11 12]]\n",
            "[[ 1  2  3  4]\n",
            " [ 5  6  7  8]\n",
            " [ 9 10 11 12]]\n",
            "<class 'numpy.ndarray'>\n",
            "[[ 1  4  7 10]\n",
            " [ 2  5  8 11]\n",
            " [ 3  6  9 12]]\n"
          ]
        }
      ]
    },
    {
      "cell_type": "code",
      "metadata": {
        "colab": {
          "base_uri": "https://localhost:8080/"
        },
        "id": "IHihvYCiwLY6",
        "outputId": "e20dd1e2-32ea-4e06-eabe-52f25ae952d6"
      },
      "source": [
        "arr = np.arange(100).reshape(-1,10)\n",
        "print(arr)\n",
        "print(arr[0,2])\n",
        "print(arr[0:2])\n",
        "print(arr[0:2,1])\n",
        "print(arr.transpose())"
      ],
      "execution_count": 46,
      "outputs": [
        {
          "output_type": "stream",
          "name": "stdout",
          "text": [
            "[[ 0  1  2  3  4  5  6  7  8  9]\n",
            " [10 11 12 13 14 15 16 17 18 19]\n",
            " [20 21 22 23 24 25 26 27 28 29]\n",
            " [30 31 32 33 34 35 36 37 38 39]\n",
            " [40 41 42 43 44 45 46 47 48 49]\n",
            " [50 51 52 53 54 55 56 57 58 59]\n",
            " [60 61 62 63 64 65 66 67 68 69]\n",
            " [70 71 72 73 74 75 76 77 78 79]\n",
            " [80 81 82 83 84 85 86 87 88 89]\n",
            " [90 91 92 93 94 95 96 97 98 99]]\n",
            "2\n",
            "[[ 0  1  2  3  4  5  6  7  8  9]\n",
            " [10 11 12 13 14 15 16 17 18 19]]\n",
            "[ 1 11]\n",
            "[[ 0 10 20 30 40 50 60 70 80 90]\n",
            " [ 1 11 21 31 41 51 61 71 81 91]\n",
            " [ 2 12 22 32 42 52 62 72 82 92]\n",
            " [ 3 13 23 33 43 53 63 73 83 93]\n",
            " [ 4 14 24 34 44 54 64 74 84 94]\n",
            " [ 5 15 25 35 45 55 65 75 85 95]\n",
            " [ 6 16 26 36 46 56 66 76 86 96]\n",
            " [ 7 17 27 37 47 57 67 77 87 97]\n",
            " [ 8 18 28 38 48 58 68 78 88 98]\n",
            " [ 9 19 29 39 49 59 69 79 89 99]]\n"
          ]
        }
      ]
    },
    {
      "cell_type": "code",
      "metadata": {
        "colab": {
          "base_uri": "https://localhost:8080/"
        },
        "id": "xNqMifbDwOX5",
        "outputId": "2333a557-3fba-4835-d986-b5f5bd87cc27"
      },
      "source": [
        "arr = np.arange(100).reshape(-1,10)\n",
        "print(arr)\n",
        "print(arr[3:5,0:10])\n",
        "\n",
        "arr.flatten()"
      ],
      "execution_count": 47,
      "outputs": [
        {
          "output_type": "stream",
          "name": "stdout",
          "text": [
            "[[ 0  1  2  3  4  5  6  7  8  9]\n",
            " [10 11 12 13 14 15 16 17 18 19]\n",
            " [20 21 22 23 24 25 26 27 28 29]\n",
            " [30 31 32 33 34 35 36 37 38 39]\n",
            " [40 41 42 43 44 45 46 47 48 49]\n",
            " [50 51 52 53 54 55 56 57 58 59]\n",
            " [60 61 62 63 64 65 66 67 68 69]\n",
            " [70 71 72 73 74 75 76 77 78 79]\n",
            " [80 81 82 83 84 85 86 87 88 89]\n",
            " [90 91 92 93 94 95 96 97 98 99]]\n",
            "[[30 31 32 33 34 35 36 37 38 39]\n",
            " [40 41 42 43 44 45 46 47 48 49]]\n"
          ]
        },
        {
          "output_type": "execute_result",
          "data": {
            "text/plain": [
              "array([ 0,  1,  2,  3,  4,  5,  6,  7,  8,  9, 10, 11, 12, 13, 14, 15, 16,\n",
              "       17, 18, 19, 20, 21, 22, 23, 24, 25, 26, 27, 28, 29, 30, 31, 32, 33,\n",
              "       34, 35, 36, 37, 38, 39, 40, 41, 42, 43, 44, 45, 46, 47, 48, 49, 50,\n",
              "       51, 52, 53, 54, 55, 56, 57, 58, 59, 60, 61, 62, 63, 64, 65, 66, 67,\n",
              "       68, 69, 70, 71, 72, 73, 74, 75, 76, 77, 78, 79, 80, 81, 82, 83, 84,\n",
              "       85, 86, 87, 88, 89, 90, 91, 92, 93, 94, 95, 96, 97, 98, 99])"
            ]
          },
          "metadata": {},
          "execution_count": 47
        }
      ]
    },
    {
      "cell_type": "code",
      "metadata": {
        "colab": {
          "base_uri": "https://localhost:8080/"
        },
        "id": "0wdD_xh7wYka",
        "outputId": "5f373b40-8365-4c3d-caee-12cb1d81ae6e"
      },
      "source": [
        "np.where([[True,False],[True,False]], [[1,2],[4,6]], [[11,12],[14,16]])"
      ],
      "execution_count": 48,
      "outputs": [
        {
          "output_type": "execute_result",
          "data": {
            "text/plain": [
              "array([[ 1, 12],\n",
              "       [ 4, 16]])"
            ]
          },
          "metadata": {},
          "execution_count": 48
        }
      ]
    },
    {
      "cell_type": "code",
      "metadata": {
        "colab": {
          "base_uri": "https://localhost:8080/"
        },
        "id": "yIP19aE2wRsU",
        "outputId": "8bb5fa97-b04d-48a6-8328-461a0999c05f"
      },
      "source": [
        "arr[3:7,4:8]"
      ],
      "execution_count": 49,
      "outputs": [
        {
          "output_type": "execute_result",
          "data": {
            "text/plain": [
              "array([[34, 35, 36, 37],\n",
              "       [44, 45, 46, 47],\n",
              "       [54, 55, 56, 57],\n",
              "       [64, 65, 66, 67]])"
            ]
          },
          "metadata": {},
          "execution_count": 49
        }
      ]
    },
    {
      "cell_type": "code",
      "metadata": {
        "colab": {
          "base_uri": "https://localhost:8080/"
        },
        "id": "VGfQTRU7weYR",
        "outputId": "fa6a37ce-ba75-411e-d3d1-48c1220ff3c6"
      },
      "source": [
        "arr1= np.arange(10).reshape(-1,2)\n",
        "print(arr1)\n",
        "arr2= np.where(arr1>4)\n",
        "print(arr2)\n",
        "arr3= np.where(arr1%4==0)\n",
        "print(arr3)"
      ],
      "execution_count": 50,
      "outputs": [
        {
          "output_type": "stream",
          "name": "stdout",
          "text": [
            "[[0 1]\n",
            " [2 3]\n",
            " [4 5]\n",
            " [6 7]\n",
            " [8 9]]\n",
            "(array([2, 3, 3, 4, 4]), array([1, 0, 1, 0, 1]))\n",
            "(array([0, 2, 4]), array([0, 0, 0]))\n"
          ]
        }
      ]
    },
    {
      "cell_type": "code",
      "metadata": {
        "colab": {
          "base_uri": "https://localhost:8080/"
        },
        "id": "i6ePupeSwhLQ",
        "outputId": "f03aa1a5-ca7a-4e95-8d83-d572c0e604d2"
      },
      "source": [
        "print(arr2)\n",
        "arr4 = np.where((arr1>4) & (arr1<8))\n",
        "print(arr4) \n",
        "arr5 = np.where(np.logical_and(arr1<4,arr1>8))\n",
        "print(arr5) "
      ],
      "execution_count": 51,
      "outputs": [
        {
          "output_type": "stream",
          "name": "stdout",
          "text": [
            "(array([2, 3, 3, 4, 4]), array([1, 0, 1, 0, 1]))\n",
            "(array([2, 3, 3]), array([1, 0, 1]))\n",
            "(array([], dtype=int64), array([], dtype=int64))\n"
          ]
        }
      ]
    },
    {
      "cell_type": "code",
      "metadata": {
        "id": "UYTHQjgdwjo7",
        "outputId": "2e30f505-37bf-4806-e9bc-54bb8978625c",
        "colab": {
          "base_uri": "https://localhost:8080/"
        }
      },
      "source": [
        "print(arr1.mean())\n",
        "np.where(arr1>arr1.mean())"
      ],
      "execution_count": 52,
      "outputs": [
        {
          "output_type": "stream",
          "name": "stdout",
          "text": [
            "4.5\n"
          ]
        },
        {
          "output_type": "execute_result",
          "data": {
            "text/plain": [
              "(array([2, 3, 3, 4, 4]), array([1, 0, 1, 0, 1]))"
            ]
          },
          "metadata": {},
          "execution_count": 52
        }
      ]
    }
  ]
}