{
  "nbformat": 4,
  "nbformat_minor": 0,
  "metadata": {
    "colab": {
      "name": "SV-EDAwithPandasAdvanced-Latest.ipynb",
      "provenance": [],
      "collapsed_sections": [],
      "toc_visible": true
    },
    "kernelspec": {
      "name": "python3",
      "display_name": "Python 3"
    },
    "language_info": {
      "name": "python"
    }
  },
  "cells": [
    {
      "cell_type": "markdown",
      "metadata": {
        "id": "srpRwHrW2ZGs"
      },
      "source": [
        "# Exploratory Data Analysis with Pandas Advanced\n",
        "#####################################################################################\n",
        "\n",
        "This Jupyter Notebook is designed for the CI7340 Applied Data Programming\n",
        " Module for the MSc. Data Science degree programm at Kingston University.\n",
        "\n",
        "Parts of this module is borrowed from the official [Pandas](https://pandas.pydata.org/) website.\n",
        "\n",
        "Copyright@ *Nabajeet Barman*, Kingston University, London, UK\n",
        "\n",
        "#####################################################################################\n",
        "\n",
        "## Topics Covered:\n",
        "\n",
        ">* Renaming Columns\n",
        ">* Getting data in/out\n",
        ">* Descriptive Statistics\n",
        ">* Handling Missing Data\n",
        ">* Reshaping and Pivot Tables\n",
        ">* Merge, Concatenate and Groupby\n",
        "\n",
        "A Cheatsheet summarizing the important aspects can be found [here](https://pandas.pydata.org/Pandas_Cheat_Sheet.pdf)"
      ]
    },
    {
      "cell_type": "markdown",
      "metadata": {
        "id": "PuDaw-SD3WfX"
      },
      "source": [
        "Let us first import the required libraries and redefine the Employee Records dataframe used in previous lecture"
      ]
    },
    {
      "cell_type": "code",
      "metadata": {
        "id": "6yQ-FXKM3Wsf"
      },
      "source": [
        "import numpy as np\n",
        "import pandas as pd"
      ],
      "execution_count": null,
      "outputs": []
    },
    {
      "cell_type": "code",
      "metadata": {
        "id": "__umz2_fq9Ma",
        "colab": {
          "base_uri": "https://localhost:8080/",
          "height": 387
        },
        "outputId": "96b81e89-5b0e-4beb-9a6a-be3f479f4dae"
      },
      "source": [
        "# declare the employee_records dataframe\n",
        "# the column names here are intentional as we will use commands to modify them later!!!\n",
        "employee_records = pd.DataFrame({\n",
        "        'EmployeeName': ['Sam', 'Max', 'Tony', 'Sarah', 'Tania', 'David', 'Mark','Alice', 'Charles', 'Bob', 'Anna'],\n",
        "        'EmployeeDept': ['Research','HR','Marketing','Sales', 'Finance', 'IT', 'HR', 'Marketing', 'IT', 'Finance','Sales'],\n",
        "        'EmployeeId' : [10001, 10002, 10003, 10004, 10005, 10006, 10007, 10008, 10009, 10010, 10011],\n",
        "        'Salary'     : [45034.88, 65343.45, 53423.27, 76422.34, 58753.00, 34323.44, 66544.60, 34354.66, 55234.96, 39078.60, 44567.88]\n",
        "    })\n",
        "employee_records"
      ],
      "execution_count": null,
      "outputs": [
        {
          "output_type": "execute_result",
          "data": {
            "text/html": [
              "<div>\n",
              "<style scoped>\n",
              "    .dataframe tbody tr th:only-of-type {\n",
              "        vertical-align: middle;\n",
              "    }\n",
              "\n",
              "    .dataframe tbody tr th {\n",
              "        vertical-align: top;\n",
              "    }\n",
              "\n",
              "    .dataframe thead th {\n",
              "        text-align: right;\n",
              "    }\n",
              "</style>\n",
              "<table border=\"1\" class=\"dataframe\">\n",
              "  <thead>\n",
              "    <tr style=\"text-align: right;\">\n",
              "      <th></th>\n",
              "      <th>EmployeeName</th>\n",
              "      <th>EmployeeDept</th>\n",
              "      <th>EmployeeId</th>\n",
              "      <th>Salary</th>\n",
              "    </tr>\n",
              "  </thead>\n",
              "  <tbody>\n",
              "    <tr>\n",
              "      <th>0</th>\n",
              "      <td>Sam</td>\n",
              "      <td>Research</td>\n",
              "      <td>10001</td>\n",
              "      <td>45034.88</td>\n",
              "    </tr>\n",
              "    <tr>\n",
              "      <th>1</th>\n",
              "      <td>Max</td>\n",
              "      <td>HR</td>\n",
              "      <td>10002</td>\n",
              "      <td>65343.45</td>\n",
              "    </tr>\n",
              "    <tr>\n",
              "      <th>2</th>\n",
              "      <td>Tony</td>\n",
              "      <td>Marketing</td>\n",
              "      <td>10003</td>\n",
              "      <td>53423.27</td>\n",
              "    </tr>\n",
              "    <tr>\n",
              "      <th>3</th>\n",
              "      <td>Sarah</td>\n",
              "      <td>Sales</td>\n",
              "      <td>10004</td>\n",
              "      <td>76422.34</td>\n",
              "    </tr>\n",
              "    <tr>\n",
              "      <th>4</th>\n",
              "      <td>Tania</td>\n",
              "      <td>Finance</td>\n",
              "      <td>10005</td>\n",
              "      <td>58753.00</td>\n",
              "    </tr>\n",
              "    <tr>\n",
              "      <th>5</th>\n",
              "      <td>David</td>\n",
              "      <td>IT</td>\n",
              "      <td>10006</td>\n",
              "      <td>34323.44</td>\n",
              "    </tr>\n",
              "    <tr>\n",
              "      <th>6</th>\n",
              "      <td>Mark</td>\n",
              "      <td>HR</td>\n",
              "      <td>10007</td>\n",
              "      <td>66544.60</td>\n",
              "    </tr>\n",
              "    <tr>\n",
              "      <th>7</th>\n",
              "      <td>Alice</td>\n",
              "      <td>Marketing</td>\n",
              "      <td>10008</td>\n",
              "      <td>34354.66</td>\n",
              "    </tr>\n",
              "    <tr>\n",
              "      <th>8</th>\n",
              "      <td>Charles</td>\n",
              "      <td>IT</td>\n",
              "      <td>10009</td>\n",
              "      <td>55234.96</td>\n",
              "    </tr>\n",
              "    <tr>\n",
              "      <th>9</th>\n",
              "      <td>Bob</td>\n",
              "      <td>Finance</td>\n",
              "      <td>10010</td>\n",
              "      <td>39078.60</td>\n",
              "    </tr>\n",
              "    <tr>\n",
              "      <th>10</th>\n",
              "      <td>Anna</td>\n",
              "      <td>Sales</td>\n",
              "      <td>10011</td>\n",
              "      <td>44567.88</td>\n",
              "    </tr>\n",
              "  </tbody>\n",
              "</table>\n",
              "</div>"
            ],
            "text/plain": [
              "   EmployeeName EmployeeDept  EmployeeId    Salary\n",
              "0           Sam     Research       10001  45034.88\n",
              "1           Max           HR       10002  65343.45\n",
              "2          Tony    Marketing       10003  53423.27\n",
              "3         Sarah        Sales       10004  76422.34\n",
              "4         Tania      Finance       10005  58753.00\n",
              "5         David           IT       10006  34323.44\n",
              "6          Mark           HR       10007  66544.60\n",
              "7         Alice    Marketing       10008  34354.66\n",
              "8       Charles           IT       10009  55234.96\n",
              "9           Bob      Finance       10010  39078.60\n",
              "10         Anna        Sales       10011  44567.88"
            ]
          },
          "metadata": {},
          "execution_count": 2
        }
      ]
    },
    {
      "cell_type": "markdown",
      "metadata": {
        "id": "eErjKDHp9jNB"
      },
      "source": [
        "# Renaming Columns"
      ]
    },
    {
      "cell_type": "code",
      "metadata": {
        "colab": {
          "base_uri": "https://localhost:8080/",
          "height": 387
        },
        "id": "KL4mk5rf9pFE",
        "outputId": "1aebd22a-6628-459d-f1f6-ade5bbc9b978"
      },
      "source": [
        "df = employee_records.copy()\n",
        "df.rename(str.lower, axis='columns')"
      ],
      "execution_count": null,
      "outputs": [
        {
          "output_type": "execute_result",
          "data": {
            "text/html": [
              "<div>\n",
              "<style scoped>\n",
              "    .dataframe tbody tr th:only-of-type {\n",
              "        vertical-align: middle;\n",
              "    }\n",
              "\n",
              "    .dataframe tbody tr th {\n",
              "        vertical-align: top;\n",
              "    }\n",
              "\n",
              "    .dataframe thead th {\n",
              "        text-align: right;\n",
              "    }\n",
              "</style>\n",
              "<table border=\"1\" class=\"dataframe\">\n",
              "  <thead>\n",
              "    <tr style=\"text-align: right;\">\n",
              "      <th></th>\n",
              "      <th>employeename</th>\n",
              "      <th>employeedept</th>\n",
              "      <th>employeeid</th>\n",
              "      <th>salary</th>\n",
              "    </tr>\n",
              "  </thead>\n",
              "  <tbody>\n",
              "    <tr>\n",
              "      <th>0</th>\n",
              "      <td>Sam</td>\n",
              "      <td>Research</td>\n",
              "      <td>10001</td>\n",
              "      <td>45034.88</td>\n",
              "    </tr>\n",
              "    <tr>\n",
              "      <th>1</th>\n",
              "      <td>Max</td>\n",
              "      <td>HR</td>\n",
              "      <td>10002</td>\n",
              "      <td>65343.45</td>\n",
              "    </tr>\n",
              "    <tr>\n",
              "      <th>2</th>\n",
              "      <td>Tony</td>\n",
              "      <td>Marketing</td>\n",
              "      <td>10003</td>\n",
              "      <td>53423.27</td>\n",
              "    </tr>\n",
              "    <tr>\n",
              "      <th>3</th>\n",
              "      <td>Sarah</td>\n",
              "      <td>Sales</td>\n",
              "      <td>10004</td>\n",
              "      <td>76422.34</td>\n",
              "    </tr>\n",
              "    <tr>\n",
              "      <th>4</th>\n",
              "      <td>Tania</td>\n",
              "      <td>Finance</td>\n",
              "      <td>10005</td>\n",
              "      <td>58753.00</td>\n",
              "    </tr>\n",
              "    <tr>\n",
              "      <th>5</th>\n",
              "      <td>David</td>\n",
              "      <td>IT</td>\n",
              "      <td>10006</td>\n",
              "      <td>34323.44</td>\n",
              "    </tr>\n",
              "    <tr>\n",
              "      <th>6</th>\n",
              "      <td>Mark</td>\n",
              "      <td>HR</td>\n",
              "      <td>10007</td>\n",
              "      <td>66544.60</td>\n",
              "    </tr>\n",
              "    <tr>\n",
              "      <th>7</th>\n",
              "      <td>Alice</td>\n",
              "      <td>Marketing</td>\n",
              "      <td>10008</td>\n",
              "      <td>34354.66</td>\n",
              "    </tr>\n",
              "    <tr>\n",
              "      <th>8</th>\n",
              "      <td>Charles</td>\n",
              "      <td>IT</td>\n",
              "      <td>10009</td>\n",
              "      <td>55234.96</td>\n",
              "    </tr>\n",
              "    <tr>\n",
              "      <th>9</th>\n",
              "      <td>Bob</td>\n",
              "      <td>Finance</td>\n",
              "      <td>10010</td>\n",
              "      <td>39078.60</td>\n",
              "    </tr>\n",
              "    <tr>\n",
              "      <th>10</th>\n",
              "      <td>Anna</td>\n",
              "      <td>Sales</td>\n",
              "      <td>10011</td>\n",
              "      <td>44567.88</td>\n",
              "    </tr>\n",
              "  </tbody>\n",
              "</table>\n",
              "</div>"
            ],
            "text/plain": [
              "   employeename employeedept  employeeid    salary\n",
              "0           Sam     Research       10001  45034.88\n",
              "1           Max           HR       10002  65343.45\n",
              "2          Tony    Marketing       10003  53423.27\n",
              "3         Sarah        Sales       10004  76422.34\n",
              "4         Tania      Finance       10005  58753.00\n",
              "5         David           IT       10006  34323.44\n",
              "6          Mark           HR       10007  66544.60\n",
              "7         Alice    Marketing       10008  34354.66\n",
              "8       Charles           IT       10009  55234.96\n",
              "9           Bob      Finance       10010  39078.60\n",
              "10         Anna        Sales       10011  44567.88"
            ]
          },
          "metadata": {},
          "execution_count": 5
        }
      ]
    },
    {
      "cell_type": "code",
      "metadata": {
        "colab": {
          "base_uri": "https://localhost:8080/"
        },
        "id": "HcHVFxsY-PbE",
        "outputId": "03306aee-9f66-44e6-d666-0cef12cd8d68"
      },
      "source": [
        "df['EmployeeDept'].rename('employee_dept',inplace=True)"
      ],
      "execution_count": null,
      "outputs": [
        {
          "output_type": "execute_result",
          "data": {
            "text/plain": [
              "0      Research\n",
              "1            HR\n",
              "2     Marketing\n",
              "3         Sales\n",
              "4       Finance\n",
              "5            IT\n",
              "6            HR\n",
              "7     Marketing\n",
              "8            IT\n",
              "9       Finance\n",
              "10        Sales\n",
              "Name: employee_dept, dtype: object"
            ]
          },
          "metadata": {},
          "execution_count": 11
        }
      ]
    },
    {
      "cell_type": "code",
      "metadata": {
        "colab": {
          "base_uri": "https://localhost:8080/",
          "height": 387
        },
        "id": "l2TuynGn-s8E",
        "outputId": "da1b5ba2-6ccf-49b3-9554-842934fcaf58"
      },
      "source": [
        "df"
      ],
      "execution_count": null,
      "outputs": [
        {
          "output_type": "execute_result",
          "data": {
            "text/html": [
              "<div>\n",
              "<style scoped>\n",
              "    .dataframe tbody tr th:only-of-type {\n",
              "        vertical-align: middle;\n",
              "    }\n",
              "\n",
              "    .dataframe tbody tr th {\n",
              "        vertical-align: top;\n",
              "    }\n",
              "\n",
              "    .dataframe thead th {\n",
              "        text-align: right;\n",
              "    }\n",
              "</style>\n",
              "<table border=\"1\" class=\"dataframe\">\n",
              "  <thead>\n",
              "    <tr style=\"text-align: right;\">\n",
              "      <th></th>\n",
              "      <th>EmployeeName</th>\n",
              "      <th>EmployeeDept</th>\n",
              "      <th>EmployeeId</th>\n",
              "      <th>Salary</th>\n",
              "    </tr>\n",
              "  </thead>\n",
              "  <tbody>\n",
              "    <tr>\n",
              "      <th>0</th>\n",
              "      <td>Sam</td>\n",
              "      <td>Research</td>\n",
              "      <td>10001</td>\n",
              "      <td>45034.88</td>\n",
              "    </tr>\n",
              "    <tr>\n",
              "      <th>1</th>\n",
              "      <td>Max</td>\n",
              "      <td>HR</td>\n",
              "      <td>10002</td>\n",
              "      <td>65343.45</td>\n",
              "    </tr>\n",
              "    <tr>\n",
              "      <th>2</th>\n",
              "      <td>Tony</td>\n",
              "      <td>Marketing</td>\n",
              "      <td>10003</td>\n",
              "      <td>53423.27</td>\n",
              "    </tr>\n",
              "    <tr>\n",
              "      <th>3</th>\n",
              "      <td>Sarah</td>\n",
              "      <td>Sales</td>\n",
              "      <td>10004</td>\n",
              "      <td>76422.34</td>\n",
              "    </tr>\n",
              "    <tr>\n",
              "      <th>4</th>\n",
              "      <td>Tania</td>\n",
              "      <td>Finance</td>\n",
              "      <td>10005</td>\n",
              "      <td>58753.00</td>\n",
              "    </tr>\n",
              "    <tr>\n",
              "      <th>5</th>\n",
              "      <td>David</td>\n",
              "      <td>IT</td>\n",
              "      <td>10006</td>\n",
              "      <td>34323.44</td>\n",
              "    </tr>\n",
              "    <tr>\n",
              "      <th>6</th>\n",
              "      <td>Mark</td>\n",
              "      <td>HR</td>\n",
              "      <td>10007</td>\n",
              "      <td>66544.60</td>\n",
              "    </tr>\n",
              "    <tr>\n",
              "      <th>7</th>\n",
              "      <td>Alice</td>\n",
              "      <td>Marketing</td>\n",
              "      <td>10008</td>\n",
              "      <td>34354.66</td>\n",
              "    </tr>\n",
              "    <tr>\n",
              "      <th>8</th>\n",
              "      <td>Charles</td>\n",
              "      <td>IT</td>\n",
              "      <td>10009</td>\n",
              "      <td>55234.96</td>\n",
              "    </tr>\n",
              "    <tr>\n",
              "      <th>9</th>\n",
              "      <td>Bob</td>\n",
              "      <td>Finance</td>\n",
              "      <td>10010</td>\n",
              "      <td>39078.60</td>\n",
              "    </tr>\n",
              "    <tr>\n",
              "      <th>10</th>\n",
              "      <td>Anna</td>\n",
              "      <td>Sales</td>\n",
              "      <td>10011</td>\n",
              "      <td>44567.88</td>\n",
              "    </tr>\n",
              "  </tbody>\n",
              "</table>\n",
              "</div>"
            ],
            "text/plain": [
              "   EmployeeName EmployeeDept  EmployeeId    Salary\n",
              "0           Sam     Research       10001  45034.88\n",
              "1           Max           HR       10002  65343.45\n",
              "2          Tony    Marketing       10003  53423.27\n",
              "3         Sarah        Sales       10004  76422.34\n",
              "4         Tania      Finance       10005  58753.00\n",
              "5         David           IT       10006  34323.44\n",
              "6          Mark           HR       10007  66544.60\n",
              "7         Alice    Marketing       10008  34354.66\n",
              "8       Charles           IT       10009  55234.96\n",
              "9           Bob      Finance       10010  39078.60\n",
              "10         Anna        Sales       10011  44567.88"
            ]
          },
          "metadata": {},
          "execution_count": 13
        }
      ]
    },
    {
      "cell_type": "code",
      "metadata": {
        "id": "MkmLQdDi-3_n"
      },
      "source": [
        "df.rename(columns={\"EmployeeName\":\"employee_name\",\"EmployeeDept\":\"employee_dept\",\"EmployeeId\":\"employee_id\",\"Salary\":\"salary\"},inplace=True)"
      ],
      "execution_count": null,
      "outputs": []
    },
    {
      "cell_type": "code",
      "metadata": {
        "colab": {
          "base_uri": "https://localhost:8080/",
          "height": 387
        },
        "id": "LLJoPW0SAH_T",
        "outputId": "20ccc54e-b086-4a4d-c1a1-ba2cb2464468"
      },
      "source": [
        "df"
      ],
      "execution_count": null,
      "outputs": [
        {
          "output_type": "execute_result",
          "data": {
            "text/html": [
              "<div>\n",
              "<style scoped>\n",
              "    .dataframe tbody tr th:only-of-type {\n",
              "        vertical-align: middle;\n",
              "    }\n",
              "\n",
              "    .dataframe tbody tr th {\n",
              "        vertical-align: top;\n",
              "    }\n",
              "\n",
              "    .dataframe thead th {\n",
              "        text-align: right;\n",
              "    }\n",
              "</style>\n",
              "<table border=\"1\" class=\"dataframe\">\n",
              "  <thead>\n",
              "    <tr style=\"text-align: right;\">\n",
              "      <th></th>\n",
              "      <th>employee_name</th>\n",
              "      <th>employee_dept</th>\n",
              "      <th>employee_id</th>\n",
              "      <th>salary</th>\n",
              "    </tr>\n",
              "  </thead>\n",
              "  <tbody>\n",
              "    <tr>\n",
              "      <th>0</th>\n",
              "      <td>Sam</td>\n",
              "      <td>Research</td>\n",
              "      <td>10001</td>\n",
              "      <td>45034.88</td>\n",
              "    </tr>\n",
              "    <tr>\n",
              "      <th>1</th>\n",
              "      <td>Max</td>\n",
              "      <td>HR</td>\n",
              "      <td>10002</td>\n",
              "      <td>65343.45</td>\n",
              "    </tr>\n",
              "    <tr>\n",
              "      <th>2</th>\n",
              "      <td>Tony</td>\n",
              "      <td>Marketing</td>\n",
              "      <td>10003</td>\n",
              "      <td>53423.27</td>\n",
              "    </tr>\n",
              "    <tr>\n",
              "      <th>3</th>\n",
              "      <td>Sarah</td>\n",
              "      <td>Sales</td>\n",
              "      <td>10004</td>\n",
              "      <td>76422.34</td>\n",
              "    </tr>\n",
              "    <tr>\n",
              "      <th>4</th>\n",
              "      <td>Tania</td>\n",
              "      <td>Finance</td>\n",
              "      <td>10005</td>\n",
              "      <td>58753.00</td>\n",
              "    </tr>\n",
              "    <tr>\n",
              "      <th>5</th>\n",
              "      <td>David</td>\n",
              "      <td>IT</td>\n",
              "      <td>10006</td>\n",
              "      <td>34323.44</td>\n",
              "    </tr>\n",
              "    <tr>\n",
              "      <th>6</th>\n",
              "      <td>Mark</td>\n",
              "      <td>HR</td>\n",
              "      <td>10007</td>\n",
              "      <td>66544.60</td>\n",
              "    </tr>\n",
              "    <tr>\n",
              "      <th>7</th>\n",
              "      <td>Alice</td>\n",
              "      <td>Marketing</td>\n",
              "      <td>10008</td>\n",
              "      <td>34354.66</td>\n",
              "    </tr>\n",
              "    <tr>\n",
              "      <th>8</th>\n",
              "      <td>Charles</td>\n",
              "      <td>IT</td>\n",
              "      <td>10009</td>\n",
              "      <td>55234.96</td>\n",
              "    </tr>\n",
              "    <tr>\n",
              "      <th>9</th>\n",
              "      <td>Bob</td>\n",
              "      <td>Finance</td>\n",
              "      <td>10010</td>\n",
              "      <td>39078.60</td>\n",
              "    </tr>\n",
              "    <tr>\n",
              "      <th>10</th>\n",
              "      <td>Anna</td>\n",
              "      <td>Sales</td>\n",
              "      <td>10011</td>\n",
              "      <td>44567.88</td>\n",
              "    </tr>\n",
              "  </tbody>\n",
              "</table>\n",
              "</div>"
            ],
            "text/plain": [
              "   employee_name employee_dept  employee_id    salary\n",
              "0            Sam      Research        10001  45034.88\n",
              "1            Max            HR        10002  65343.45\n",
              "2           Tony     Marketing        10003  53423.27\n",
              "3          Sarah         Sales        10004  76422.34\n",
              "4          Tania       Finance        10005  58753.00\n",
              "5          David            IT        10006  34323.44\n",
              "6           Mark            HR        10007  66544.60\n",
              "7          Alice     Marketing        10008  34354.66\n",
              "8        Charles            IT        10009  55234.96\n",
              "9            Bob       Finance        10010  39078.60\n",
              "10          Anna         Sales        10011  44567.88"
            ]
          },
          "metadata": {},
          "execution_count": 17
        }
      ]
    },
    {
      "cell_type": "code",
      "metadata": {
        "colab": {
          "base_uri": "https://localhost:8080/"
        },
        "id": "rAaJ4XR1AJzn",
        "outputId": "38953179-c03d-41cc-dbdd-e4a36c6d834c"
      },
      "source": [
        "# rows, columns\n",
        "df.shape"
      ],
      "execution_count": null,
      "outputs": [
        {
          "output_type": "execute_result",
          "data": {
            "text/plain": [
              "(11, 4)"
            ]
          },
          "metadata": {},
          "execution_count": 18
        }
      ]
    },
    {
      "cell_type": "markdown",
      "metadata": {
        "id": "1L-lgczqBsMh"
      },
      "source": [
        "Our dataset consists of 11 rows and four columns"
      ]
    },
    {
      "cell_type": "code",
      "metadata": {
        "colab": {
          "base_uri": "https://localhost:8080/"
        },
        "id": "02h8owrBA_OI",
        "outputId": "bef71282-94bd-4254-c26a-53a0b72cb3e4"
      },
      "source": [
        "# information about the dataframe\n",
        "df.info()"
      ],
      "execution_count": null,
      "outputs": [
        {
          "output_type": "stream",
          "name": "stdout",
          "text": [
            "<class 'pandas.core.frame.DataFrame'>\n",
            "RangeIndex: 11 entries, 0 to 10\n",
            "Data columns (total 4 columns):\n",
            " #   Column         Non-Null Count  Dtype  \n",
            "---  ------         --------------  -----  \n",
            " 0   employee_name  11 non-null     object \n",
            " 1   employee_dept  11 non-null     object \n",
            " 2   employee_id    11 non-null     int64  \n",
            " 3   salary         11 non-null     float64\n",
            "dtypes: float64(1), int64(1), object(2)\n",
            "memory usage: 480.0+ bytes\n"
          ]
        }
      ]
    },
    {
      "cell_type": "code",
      "metadata": {
        "colab": {
          "base_uri": "https://localhost:8080/"
        },
        "id": "taEHCOVCBFT4",
        "outputId": "23af668e-1b92-47fc-da78-9f7916531f34"
      },
      "source": [
        "# number of non NA values\n",
        "df.count()"
      ],
      "execution_count": null,
      "outputs": [
        {
          "output_type": "execute_result",
          "data": {
            "text/plain": [
              "employee_name    11\n",
              "employee_dept    11\n",
              "employee_id      11\n",
              "salary           11\n",
              "dtype: int64"
            ]
          },
          "metadata": {},
          "execution_count": 24
        }
      ]
    },
    {
      "cell_type": "code",
      "metadata": {
        "colab": {
          "base_uri": "https://localhost:8080/",
          "height": 387
        },
        "id": "j8WmF8w_B5a2",
        "outputId": "8303eb27-d88f-4ad8-c212-b3d869e34833"
      },
      "source": [
        "# assigning ranks to entries\n",
        "df.rank()\n",
        "# Qn: Where can you use this information?"
      ],
      "execution_count": null,
      "outputs": [
        {
          "output_type": "execute_result",
          "data": {
            "text/html": [
              "<div>\n",
              "<style scoped>\n",
              "    .dataframe tbody tr th:only-of-type {\n",
              "        vertical-align: middle;\n",
              "    }\n",
              "\n",
              "    .dataframe tbody tr th {\n",
              "        vertical-align: top;\n",
              "    }\n",
              "\n",
              "    .dataframe thead th {\n",
              "        text-align: right;\n",
              "    }\n",
              "</style>\n",
              "<table border=\"1\" class=\"dataframe\">\n",
              "  <thead>\n",
              "    <tr style=\"text-align: right;\">\n",
              "      <th></th>\n",
              "      <th>employee_name</th>\n",
              "      <th>employee_dept</th>\n",
              "      <th>employee_id</th>\n",
              "      <th>salary</th>\n",
              "    </tr>\n",
              "  </thead>\n",
              "  <tbody>\n",
              "    <tr>\n",
              "      <th>0</th>\n",
              "      <td>8.0</td>\n",
              "      <td>9.0</td>\n",
              "      <td>1.0</td>\n",
              "      <td>5.0</td>\n",
              "    </tr>\n",
              "    <tr>\n",
              "      <th>1</th>\n",
              "      <td>7.0</td>\n",
              "      <td>3.5</td>\n",
              "      <td>2.0</td>\n",
              "      <td>9.0</td>\n",
              "    </tr>\n",
              "    <tr>\n",
              "      <th>2</th>\n",
              "      <td>11.0</td>\n",
              "      <td>7.5</td>\n",
              "      <td>3.0</td>\n",
              "      <td>6.0</td>\n",
              "    </tr>\n",
              "    <tr>\n",
              "      <th>3</th>\n",
              "      <td>9.0</td>\n",
              "      <td>10.5</td>\n",
              "      <td>4.0</td>\n",
              "      <td>11.0</td>\n",
              "    </tr>\n",
              "    <tr>\n",
              "      <th>4</th>\n",
              "      <td>10.0</td>\n",
              "      <td>1.5</td>\n",
              "      <td>5.0</td>\n",
              "      <td>8.0</td>\n",
              "    </tr>\n",
              "    <tr>\n",
              "      <th>5</th>\n",
              "      <td>5.0</td>\n",
              "      <td>5.5</td>\n",
              "      <td>6.0</td>\n",
              "      <td>1.0</td>\n",
              "    </tr>\n",
              "    <tr>\n",
              "      <th>6</th>\n",
              "      <td>6.0</td>\n",
              "      <td>3.5</td>\n",
              "      <td>7.0</td>\n",
              "      <td>10.0</td>\n",
              "    </tr>\n",
              "    <tr>\n",
              "      <th>7</th>\n",
              "      <td>1.0</td>\n",
              "      <td>7.5</td>\n",
              "      <td>8.0</td>\n",
              "      <td>2.0</td>\n",
              "    </tr>\n",
              "    <tr>\n",
              "      <th>8</th>\n",
              "      <td>4.0</td>\n",
              "      <td>5.5</td>\n",
              "      <td>9.0</td>\n",
              "      <td>7.0</td>\n",
              "    </tr>\n",
              "    <tr>\n",
              "      <th>9</th>\n",
              "      <td>3.0</td>\n",
              "      <td>1.5</td>\n",
              "      <td>10.0</td>\n",
              "      <td>3.0</td>\n",
              "    </tr>\n",
              "    <tr>\n",
              "      <th>10</th>\n",
              "      <td>2.0</td>\n",
              "      <td>10.5</td>\n",
              "      <td>11.0</td>\n",
              "      <td>4.0</td>\n",
              "    </tr>\n",
              "  </tbody>\n",
              "</table>\n",
              "</div>"
            ],
            "text/plain": [
              "    employee_name  employee_dept  employee_id  salary\n",
              "0             8.0            9.0          1.0     5.0\n",
              "1             7.0            3.5          2.0     9.0\n",
              "2            11.0            7.5          3.0     6.0\n",
              "3             9.0           10.5          4.0    11.0\n",
              "4            10.0            1.5          5.0     8.0\n",
              "5             5.0            5.5          6.0     1.0\n",
              "6             6.0            3.5          7.0    10.0\n",
              "7             1.0            7.5          8.0     2.0\n",
              "8             4.0            5.5          9.0     7.0\n",
              "9             3.0            1.5         10.0     3.0\n",
              "10            2.0           10.5         11.0     4.0"
            ]
          },
          "metadata": {},
          "execution_count": 26
        }
      ]
    },
    {
      "cell_type": "code",
      "metadata": {
        "colab": {
          "base_uri": "https://localhost:8080/",
          "height": 387
        },
        "id": "w5JQons0ChK1",
        "outputId": "46ef1294-7db8-4697-b25f-a3592293e7a5"
      },
      "source": [
        "df"
      ],
      "execution_count": null,
      "outputs": [
        {
          "output_type": "execute_result",
          "data": {
            "text/html": [
              "<div>\n",
              "<style scoped>\n",
              "    .dataframe tbody tr th:only-of-type {\n",
              "        vertical-align: middle;\n",
              "    }\n",
              "\n",
              "    .dataframe tbody tr th {\n",
              "        vertical-align: top;\n",
              "    }\n",
              "\n",
              "    .dataframe thead th {\n",
              "        text-align: right;\n",
              "    }\n",
              "</style>\n",
              "<table border=\"1\" class=\"dataframe\">\n",
              "  <thead>\n",
              "    <tr style=\"text-align: right;\">\n",
              "      <th></th>\n",
              "      <th>employee_name</th>\n",
              "      <th>employee_dept</th>\n",
              "      <th>employee_id</th>\n",
              "      <th>salary</th>\n",
              "    </tr>\n",
              "  </thead>\n",
              "  <tbody>\n",
              "    <tr>\n",
              "      <th>0</th>\n",
              "      <td>Sam</td>\n",
              "      <td>Research</td>\n",
              "      <td>10001</td>\n",
              "      <td>45034.88</td>\n",
              "    </tr>\n",
              "    <tr>\n",
              "      <th>1</th>\n",
              "      <td>Max</td>\n",
              "      <td>HR</td>\n",
              "      <td>10002</td>\n",
              "      <td>65343.45</td>\n",
              "    </tr>\n",
              "    <tr>\n",
              "      <th>2</th>\n",
              "      <td>Tony</td>\n",
              "      <td>Marketing</td>\n",
              "      <td>10003</td>\n",
              "      <td>53423.27</td>\n",
              "    </tr>\n",
              "    <tr>\n",
              "      <th>3</th>\n",
              "      <td>Sarah</td>\n",
              "      <td>Sales</td>\n",
              "      <td>10004</td>\n",
              "      <td>76422.34</td>\n",
              "    </tr>\n",
              "    <tr>\n",
              "      <th>4</th>\n",
              "      <td>Tania</td>\n",
              "      <td>Finance</td>\n",
              "      <td>10005</td>\n",
              "      <td>58753.00</td>\n",
              "    </tr>\n",
              "    <tr>\n",
              "      <th>5</th>\n",
              "      <td>David</td>\n",
              "      <td>IT</td>\n",
              "      <td>10006</td>\n",
              "      <td>34323.44</td>\n",
              "    </tr>\n",
              "    <tr>\n",
              "      <th>6</th>\n",
              "      <td>Mark</td>\n",
              "      <td>HR</td>\n",
              "      <td>10007</td>\n",
              "      <td>66544.60</td>\n",
              "    </tr>\n",
              "    <tr>\n",
              "      <th>7</th>\n",
              "      <td>Alice</td>\n",
              "      <td>Marketing</td>\n",
              "      <td>10008</td>\n",
              "      <td>34354.66</td>\n",
              "    </tr>\n",
              "    <tr>\n",
              "      <th>8</th>\n",
              "      <td>Charles</td>\n",
              "      <td>IT</td>\n",
              "      <td>10009</td>\n",
              "      <td>55234.96</td>\n",
              "    </tr>\n",
              "    <tr>\n",
              "      <th>9</th>\n",
              "      <td>Bob</td>\n",
              "      <td>Finance</td>\n",
              "      <td>10010</td>\n",
              "      <td>39078.60</td>\n",
              "    </tr>\n",
              "    <tr>\n",
              "      <th>10</th>\n",
              "      <td>Anna</td>\n",
              "      <td>Sales</td>\n",
              "      <td>10011</td>\n",
              "      <td>44567.88</td>\n",
              "    </tr>\n",
              "  </tbody>\n",
              "</table>\n",
              "</div>"
            ],
            "text/plain": [
              "   employee_name employee_dept  employee_id    salary\n",
              "0            Sam      Research        10001  45034.88\n",
              "1            Max            HR        10002  65343.45\n",
              "2           Tony     Marketing        10003  53423.27\n",
              "3          Sarah         Sales        10004  76422.34\n",
              "4          Tania       Finance        10005  58753.00\n",
              "5          David            IT        10006  34323.44\n",
              "6           Mark            HR        10007  66544.60\n",
              "7          Alice     Marketing        10008  34354.66\n",
              "8        Charles            IT        10009  55234.96\n",
              "9            Bob       Finance        10010  39078.60\n",
              "10          Anna         Sales        10011  44567.88"
            ]
          },
          "metadata": {},
          "execution_count": 27
        }
      ]
    },
    {
      "cell_type": "markdown",
      "metadata": {
        "id": "Ypwc6YbUDjWq"
      },
      "source": [
        "# Rearraniging columns\n",
        "\n",
        "## Using columns names"
      ]
    },
    {
      "cell_type": "code",
      "metadata": {
        "colab": {
          "base_uri": "https://localhost:8080/",
          "height": 387
        },
        "id": "UNw62oOnDZQ-",
        "outputId": "1c63b03f-374a-4ff8-a32b-22efc45b55e2"
      },
      "source": [
        "# mention column names explicitly\n",
        "df1 = df[[\"employee_id\",\"employee_name\",\"employee_dept\",\"salary\"]]\n",
        "df1\n",
        "# TODO - try this with inplace for the original DF"
      ],
      "execution_count": null,
      "outputs": [
        {
          "output_type": "execute_result",
          "data": {
            "text/html": [
              "<div>\n",
              "<style scoped>\n",
              "    .dataframe tbody tr th:only-of-type {\n",
              "        vertical-align: middle;\n",
              "    }\n",
              "\n",
              "    .dataframe tbody tr th {\n",
              "        vertical-align: top;\n",
              "    }\n",
              "\n",
              "    .dataframe thead th {\n",
              "        text-align: right;\n",
              "    }\n",
              "</style>\n",
              "<table border=\"1\" class=\"dataframe\">\n",
              "  <thead>\n",
              "    <tr style=\"text-align: right;\">\n",
              "      <th></th>\n",
              "      <th>employee_id</th>\n",
              "      <th>employee_name</th>\n",
              "      <th>employee_dept</th>\n",
              "      <th>salary</th>\n",
              "    </tr>\n",
              "  </thead>\n",
              "  <tbody>\n",
              "    <tr>\n",
              "      <th>0</th>\n",
              "      <td>10001</td>\n",
              "      <td>Sam</td>\n",
              "      <td>Research</td>\n",
              "      <td>45034.88</td>\n",
              "    </tr>\n",
              "    <tr>\n",
              "      <th>1</th>\n",
              "      <td>10002</td>\n",
              "      <td>Max</td>\n",
              "      <td>HR</td>\n",
              "      <td>65343.45</td>\n",
              "    </tr>\n",
              "    <tr>\n",
              "      <th>2</th>\n",
              "      <td>10003</td>\n",
              "      <td>Tony</td>\n",
              "      <td>Marketing</td>\n",
              "      <td>53423.27</td>\n",
              "    </tr>\n",
              "    <tr>\n",
              "      <th>3</th>\n",
              "      <td>10004</td>\n",
              "      <td>Sarah</td>\n",
              "      <td>Sales</td>\n",
              "      <td>76422.34</td>\n",
              "    </tr>\n",
              "    <tr>\n",
              "      <th>4</th>\n",
              "      <td>10005</td>\n",
              "      <td>Tania</td>\n",
              "      <td>Finance</td>\n",
              "      <td>58753.00</td>\n",
              "    </tr>\n",
              "    <tr>\n",
              "      <th>5</th>\n",
              "      <td>10006</td>\n",
              "      <td>David</td>\n",
              "      <td>IT</td>\n",
              "      <td>34323.44</td>\n",
              "    </tr>\n",
              "    <tr>\n",
              "      <th>6</th>\n",
              "      <td>10007</td>\n",
              "      <td>Mark</td>\n",
              "      <td>HR</td>\n",
              "      <td>66544.60</td>\n",
              "    </tr>\n",
              "    <tr>\n",
              "      <th>7</th>\n",
              "      <td>10008</td>\n",
              "      <td>Alice</td>\n",
              "      <td>Marketing</td>\n",
              "      <td>34354.66</td>\n",
              "    </tr>\n",
              "    <tr>\n",
              "      <th>8</th>\n",
              "      <td>10009</td>\n",
              "      <td>Charles</td>\n",
              "      <td>IT</td>\n",
              "      <td>55234.96</td>\n",
              "    </tr>\n",
              "    <tr>\n",
              "      <th>9</th>\n",
              "      <td>10010</td>\n",
              "      <td>Bob</td>\n",
              "      <td>Finance</td>\n",
              "      <td>39078.60</td>\n",
              "    </tr>\n",
              "    <tr>\n",
              "      <th>10</th>\n",
              "      <td>10011</td>\n",
              "      <td>Anna</td>\n",
              "      <td>Sales</td>\n",
              "      <td>44567.88</td>\n",
              "    </tr>\n",
              "  </tbody>\n",
              "</table>\n",
              "</div>"
            ],
            "text/plain": [
              "    employee_id employee_name employee_dept    salary\n",
              "0         10001           Sam      Research  45034.88\n",
              "1         10002           Max            HR  65343.45\n",
              "2         10003          Tony     Marketing  53423.27\n",
              "3         10004         Sarah         Sales  76422.34\n",
              "4         10005         Tania       Finance  58753.00\n",
              "5         10006         David            IT  34323.44\n",
              "6         10007          Mark            HR  66544.60\n",
              "7         10008         Alice     Marketing  34354.66\n",
              "8         10009       Charles            IT  55234.96\n",
              "9         10010           Bob       Finance  39078.60\n",
              "10        10011          Anna         Sales  44567.88"
            ]
          },
          "metadata": {},
          "execution_count": 29
        }
      ]
    },
    {
      "cell_type": "code",
      "metadata": {
        "colab": {
          "base_uri": "https://localhost:8080/",
          "height": 387
        },
        "id": "oOjQ_eXBC6gI",
        "outputId": "ab7795a5-6688-44c0-f646-acb385f89820"
      },
      "source": [
        "column_names = [\"employee_id\",\"employee_name\",\"employee_dept\",\"salary\"]\n",
        "df2 = df.reindex(columns=column_names)\n",
        "df2"
      ],
      "execution_count": null,
      "outputs": [
        {
          "output_type": "execute_result",
          "data": {
            "text/html": [
              "<div>\n",
              "<style scoped>\n",
              "    .dataframe tbody tr th:only-of-type {\n",
              "        vertical-align: middle;\n",
              "    }\n",
              "\n",
              "    .dataframe tbody tr th {\n",
              "        vertical-align: top;\n",
              "    }\n",
              "\n",
              "    .dataframe thead th {\n",
              "        text-align: right;\n",
              "    }\n",
              "</style>\n",
              "<table border=\"1\" class=\"dataframe\">\n",
              "  <thead>\n",
              "    <tr style=\"text-align: right;\">\n",
              "      <th></th>\n",
              "      <th>employee_id</th>\n",
              "      <th>employee_name</th>\n",
              "      <th>employee_dept</th>\n",
              "      <th>salary</th>\n",
              "    </tr>\n",
              "  </thead>\n",
              "  <tbody>\n",
              "    <tr>\n",
              "      <th>0</th>\n",
              "      <td>10001</td>\n",
              "      <td>Sam</td>\n",
              "      <td>Research</td>\n",
              "      <td>45034.88</td>\n",
              "    </tr>\n",
              "    <tr>\n",
              "      <th>1</th>\n",
              "      <td>10002</td>\n",
              "      <td>Max</td>\n",
              "      <td>HR</td>\n",
              "      <td>65343.45</td>\n",
              "    </tr>\n",
              "    <tr>\n",
              "      <th>2</th>\n",
              "      <td>10003</td>\n",
              "      <td>Tony</td>\n",
              "      <td>Marketing</td>\n",
              "      <td>53423.27</td>\n",
              "    </tr>\n",
              "    <tr>\n",
              "      <th>3</th>\n",
              "      <td>10004</td>\n",
              "      <td>Sarah</td>\n",
              "      <td>Sales</td>\n",
              "      <td>76422.34</td>\n",
              "    </tr>\n",
              "    <tr>\n",
              "      <th>4</th>\n",
              "      <td>10005</td>\n",
              "      <td>Tania</td>\n",
              "      <td>Finance</td>\n",
              "      <td>58753.00</td>\n",
              "    </tr>\n",
              "    <tr>\n",
              "      <th>5</th>\n",
              "      <td>10006</td>\n",
              "      <td>David</td>\n",
              "      <td>IT</td>\n",
              "      <td>34323.44</td>\n",
              "    </tr>\n",
              "    <tr>\n",
              "      <th>6</th>\n",
              "      <td>10007</td>\n",
              "      <td>Mark</td>\n",
              "      <td>HR</td>\n",
              "      <td>66544.60</td>\n",
              "    </tr>\n",
              "    <tr>\n",
              "      <th>7</th>\n",
              "      <td>10008</td>\n",
              "      <td>Alice</td>\n",
              "      <td>Marketing</td>\n",
              "      <td>34354.66</td>\n",
              "    </tr>\n",
              "    <tr>\n",
              "      <th>8</th>\n",
              "      <td>10009</td>\n",
              "      <td>Charles</td>\n",
              "      <td>IT</td>\n",
              "      <td>55234.96</td>\n",
              "    </tr>\n",
              "    <tr>\n",
              "      <th>9</th>\n",
              "      <td>10010</td>\n",
              "      <td>Bob</td>\n",
              "      <td>Finance</td>\n",
              "      <td>39078.60</td>\n",
              "    </tr>\n",
              "    <tr>\n",
              "      <th>10</th>\n",
              "      <td>10011</td>\n",
              "      <td>Anna</td>\n",
              "      <td>Sales</td>\n",
              "      <td>44567.88</td>\n",
              "    </tr>\n",
              "  </tbody>\n",
              "</table>\n",
              "</div>"
            ],
            "text/plain": [
              "    employee_id employee_name employee_dept    salary\n",
              "0         10001           Sam      Research  45034.88\n",
              "1         10002           Max            HR  65343.45\n",
              "2         10003          Tony     Marketing  53423.27\n",
              "3         10004         Sarah         Sales  76422.34\n",
              "4         10005         Tania       Finance  58753.00\n",
              "5         10006         David            IT  34323.44\n",
              "6         10007          Mark            HR  66544.60\n",
              "7         10008         Alice     Marketing  34354.66\n",
              "8         10009       Charles            IT  55234.96\n",
              "9         10010           Bob       Finance  39078.60\n",
              "10        10011          Anna         Sales  44567.88"
            ]
          },
          "metadata": {},
          "execution_count": 30
        }
      ]
    },
    {
      "cell_type": "markdown",
      "metadata": {
        "id": "8RhXL8nGGfrM"
      },
      "source": [
        "## Using a list of column names"
      ]
    },
    {
      "cell_type": "code",
      "metadata": {
        "colab": {
          "base_uri": "https://localhost:8080/"
        },
        "id": "ikqlGqWaFn4q",
        "outputId": "09662b4b-85fd-4dcb-80d3-3826527d8a03"
      },
      "source": [
        "cols = df.columns.tolist()\n",
        "cols"
      ],
      "execution_count": null,
      "outputs": [
        {
          "output_type": "execute_result",
          "data": {
            "text/plain": [
              "['employee_name', 'employee_dept', 'employee_id', 'salary']"
            ]
          },
          "metadata": {},
          "execution_count": 38
        }
      ]
    },
    {
      "cell_type": "code",
      "metadata": {
        "colab": {
          "base_uri": "https://localhost:8080/"
        },
        "id": "sDtJvyIlGlw5",
        "outputId": "e1314994-b9ca-4655-dfe3-e74cde8d8883"
      },
      "source": [
        "cols = cols[-1:] + cols[1:-1] + cols[0:1]\n",
        "cols"
      ],
      "execution_count": null,
      "outputs": [
        {
          "output_type": "execute_result",
          "data": {
            "text/plain": [
              "['salary', 'employee_dept', 'employee_id', 'employee_name']"
            ]
          },
          "metadata": {},
          "execution_count": 39
        }
      ]
    },
    {
      "cell_type": "code",
      "metadata": {
        "colab": {
          "base_uri": "https://localhost:8080/",
          "height": 387
        },
        "id": "yB8wkLdkGu33",
        "outputId": "9c99bb66-8423-4996-dc4b-ddde97235823"
      },
      "source": [
        "df3 = df.reindex(columns=cols)\n",
        "df3"
      ],
      "execution_count": null,
      "outputs": [
        {
          "output_type": "execute_result",
          "data": {
            "text/html": [
              "<div>\n",
              "<style scoped>\n",
              "    .dataframe tbody tr th:only-of-type {\n",
              "        vertical-align: middle;\n",
              "    }\n",
              "\n",
              "    .dataframe tbody tr th {\n",
              "        vertical-align: top;\n",
              "    }\n",
              "\n",
              "    .dataframe thead th {\n",
              "        text-align: right;\n",
              "    }\n",
              "</style>\n",
              "<table border=\"1\" class=\"dataframe\">\n",
              "  <thead>\n",
              "    <tr style=\"text-align: right;\">\n",
              "      <th></th>\n",
              "      <th>salary</th>\n",
              "      <th>employee_dept</th>\n",
              "      <th>employee_id</th>\n",
              "      <th>employee_name</th>\n",
              "    </tr>\n",
              "  </thead>\n",
              "  <tbody>\n",
              "    <tr>\n",
              "      <th>0</th>\n",
              "      <td>45034.88</td>\n",
              "      <td>Research</td>\n",
              "      <td>10001</td>\n",
              "      <td>Sam</td>\n",
              "    </tr>\n",
              "    <tr>\n",
              "      <th>1</th>\n",
              "      <td>65343.45</td>\n",
              "      <td>HR</td>\n",
              "      <td>10002</td>\n",
              "      <td>Max</td>\n",
              "    </tr>\n",
              "    <tr>\n",
              "      <th>2</th>\n",
              "      <td>53423.27</td>\n",
              "      <td>Marketing</td>\n",
              "      <td>10003</td>\n",
              "      <td>Tony</td>\n",
              "    </tr>\n",
              "    <tr>\n",
              "      <th>3</th>\n",
              "      <td>76422.34</td>\n",
              "      <td>Sales</td>\n",
              "      <td>10004</td>\n",
              "      <td>Sarah</td>\n",
              "    </tr>\n",
              "    <tr>\n",
              "      <th>4</th>\n",
              "      <td>58753.00</td>\n",
              "      <td>Finance</td>\n",
              "      <td>10005</td>\n",
              "      <td>Tania</td>\n",
              "    </tr>\n",
              "    <tr>\n",
              "      <th>5</th>\n",
              "      <td>34323.44</td>\n",
              "      <td>IT</td>\n",
              "      <td>10006</td>\n",
              "      <td>David</td>\n",
              "    </tr>\n",
              "    <tr>\n",
              "      <th>6</th>\n",
              "      <td>66544.60</td>\n",
              "      <td>HR</td>\n",
              "      <td>10007</td>\n",
              "      <td>Mark</td>\n",
              "    </tr>\n",
              "    <tr>\n",
              "      <th>7</th>\n",
              "      <td>34354.66</td>\n",
              "      <td>Marketing</td>\n",
              "      <td>10008</td>\n",
              "      <td>Alice</td>\n",
              "    </tr>\n",
              "    <tr>\n",
              "      <th>8</th>\n",
              "      <td>55234.96</td>\n",
              "      <td>IT</td>\n",
              "      <td>10009</td>\n",
              "      <td>Charles</td>\n",
              "    </tr>\n",
              "    <tr>\n",
              "      <th>9</th>\n",
              "      <td>39078.60</td>\n",
              "      <td>Finance</td>\n",
              "      <td>10010</td>\n",
              "      <td>Bob</td>\n",
              "    </tr>\n",
              "    <tr>\n",
              "      <th>10</th>\n",
              "      <td>44567.88</td>\n",
              "      <td>Sales</td>\n",
              "      <td>10011</td>\n",
              "      <td>Anna</td>\n",
              "    </tr>\n",
              "  </tbody>\n",
              "</table>\n",
              "</div>"
            ],
            "text/plain": [
              "      salary employee_dept  employee_id employee_name\n",
              "0   45034.88      Research        10001           Sam\n",
              "1   65343.45            HR        10002           Max\n",
              "2   53423.27     Marketing        10003          Tony\n",
              "3   76422.34         Sales        10004         Sarah\n",
              "4   58753.00       Finance        10005         Tania\n",
              "5   34323.44            IT        10006         David\n",
              "6   66544.60            HR        10007          Mark\n",
              "7   34354.66     Marketing        10008         Alice\n",
              "8   55234.96            IT        10009       Charles\n",
              "9   39078.60       Finance        10010           Bob\n",
              "10  44567.88         Sales        10011          Anna"
            ]
          },
          "metadata": {},
          "execution_count": 40
        }
      ]
    },
    {
      "cell_type": "markdown",
      "metadata": {
        "id": "sDZNNiHUIYSk"
      },
      "source": [
        "## Getting data in and out\n",
        "\n",
        "* Reading/writing from/to a .csv file\n",
        "* Reading/writing from/to an Excel file"
      ]
    },
    {
      "cell_type": "markdown",
      "metadata": {
        "id": "GqiChhdiIoex"
      },
      "source": [
        "## Reading/writing from/to a .csv file\n",
        "\n",
        "\n",
        "\n"
      ]
    },
    {
      "cell_type": "code",
      "metadata": {
        "colab": {
          "base_uri": "https://localhost:8080/",
          "height": 387
        },
        "id": "w29NP2DUIOUV",
        "outputId": "550d8bee-3068-4676-d64b-a7b490e7db91"
      },
      "source": [
        "employee_records"
      ],
      "execution_count": null,
      "outputs": [
        {
          "output_type": "execute_result",
          "data": {
            "text/html": [
              "<div>\n",
              "<style scoped>\n",
              "    .dataframe tbody tr th:only-of-type {\n",
              "        vertical-align: middle;\n",
              "    }\n",
              "\n",
              "    .dataframe tbody tr th {\n",
              "        vertical-align: top;\n",
              "    }\n",
              "\n",
              "    .dataframe thead th {\n",
              "        text-align: right;\n",
              "    }\n",
              "</style>\n",
              "<table border=\"1\" class=\"dataframe\">\n",
              "  <thead>\n",
              "    <tr style=\"text-align: right;\">\n",
              "      <th></th>\n",
              "      <th>EmployeeName</th>\n",
              "      <th>EmployeeDept</th>\n",
              "      <th>EmployeeId</th>\n",
              "      <th>Salary</th>\n",
              "    </tr>\n",
              "  </thead>\n",
              "  <tbody>\n",
              "    <tr>\n",
              "      <th>0</th>\n",
              "      <td>Sam</td>\n",
              "      <td>Research</td>\n",
              "      <td>10001</td>\n",
              "      <td>45034.88</td>\n",
              "    </tr>\n",
              "    <tr>\n",
              "      <th>1</th>\n",
              "      <td>Max</td>\n",
              "      <td>HR</td>\n",
              "      <td>10002</td>\n",
              "      <td>65343.45</td>\n",
              "    </tr>\n",
              "    <tr>\n",
              "      <th>2</th>\n",
              "      <td>Tony</td>\n",
              "      <td>Marketing</td>\n",
              "      <td>10003</td>\n",
              "      <td>53423.27</td>\n",
              "    </tr>\n",
              "    <tr>\n",
              "      <th>3</th>\n",
              "      <td>Sarah</td>\n",
              "      <td>Sales</td>\n",
              "      <td>10004</td>\n",
              "      <td>76422.34</td>\n",
              "    </tr>\n",
              "    <tr>\n",
              "      <th>4</th>\n",
              "      <td>Tania</td>\n",
              "      <td>Finance</td>\n",
              "      <td>10005</td>\n",
              "      <td>58753.00</td>\n",
              "    </tr>\n",
              "    <tr>\n",
              "      <th>5</th>\n",
              "      <td>David</td>\n",
              "      <td>IT</td>\n",
              "      <td>10006</td>\n",
              "      <td>34323.44</td>\n",
              "    </tr>\n",
              "    <tr>\n",
              "      <th>6</th>\n",
              "      <td>Mark</td>\n",
              "      <td>HR</td>\n",
              "      <td>10007</td>\n",
              "      <td>66544.60</td>\n",
              "    </tr>\n",
              "    <tr>\n",
              "      <th>7</th>\n",
              "      <td>Alice</td>\n",
              "      <td>Marketing</td>\n",
              "      <td>10008</td>\n",
              "      <td>34354.66</td>\n",
              "    </tr>\n",
              "    <tr>\n",
              "      <th>8</th>\n",
              "      <td>Charles</td>\n",
              "      <td>IT</td>\n",
              "      <td>10009</td>\n",
              "      <td>55234.96</td>\n",
              "    </tr>\n",
              "    <tr>\n",
              "      <th>9</th>\n",
              "      <td>Bob</td>\n",
              "      <td>Finance</td>\n",
              "      <td>10010</td>\n",
              "      <td>39078.60</td>\n",
              "    </tr>\n",
              "    <tr>\n",
              "      <th>10</th>\n",
              "      <td>Anna</td>\n",
              "      <td>Sales</td>\n",
              "      <td>10011</td>\n",
              "      <td>44567.88</td>\n",
              "    </tr>\n",
              "  </tbody>\n",
              "</table>\n",
              "</div>"
            ],
            "text/plain": [
              "   EmployeeName EmployeeDept  EmployeeId    Salary\n",
              "0           Sam     Research       10001  45034.88\n",
              "1           Max           HR       10002  65343.45\n",
              "2          Tony    Marketing       10003  53423.27\n",
              "3         Sarah        Sales       10004  76422.34\n",
              "4         Tania      Finance       10005  58753.00\n",
              "5         David           IT       10006  34323.44\n",
              "6          Mark           HR       10007  66544.60\n",
              "7         Alice    Marketing       10008  34354.66\n",
              "8       Charles           IT       10009  55234.96\n",
              "9           Bob      Finance       10010  39078.60\n",
              "10         Anna        Sales       10011  44567.88"
            ]
          },
          "metadata": {},
          "execution_count": 41
        }
      ]
    },
    {
      "cell_type": "code",
      "metadata": {
        "id": "PvIGBilEIwN5"
      },
      "source": [
        "# write df to a csv file\n",
        "employee_records.to_csv('sample.csv')"
      ],
      "execution_count": null,
      "outputs": []
    },
    {
      "cell_type": "code",
      "metadata": {
        "colab": {
          "base_uri": "https://localhost:8080/"
        },
        "id": "96XGH0WhI3tY",
        "outputId": "6b0906b8-8db4-4f2f-ec11-b661f36a4dc4"
      },
      "source": [
        "# bash command for listing files in the pwd/cwd ls = list\n",
        "#!ls"
      ],
      "execution_count": null,
      "outputs": [
        {
          "output_type": "stream",
          "name": "stdout",
          "text": [
            "sample.csv  sample_data\n"
          ]
        }
      ]
    },
    {
      "cell_type": "code",
      "metadata": {
        "colab": {
          "base_uri": "https://localhost:8080/"
        },
        "id": "CObKzo1zJNn5",
        "outputId": "1aa4f31c-b64c-4754-c224-78c725e83e79"
      },
      "source": [
        "!cat sample.csv | head -5"
      ],
      "execution_count": null,
      "outputs": [
        {
          "output_type": "stream",
          "name": "stdout",
          "text": [
            ",EmployeeName,EmployeeDept,EmployeeId,Salary\n",
            "0,Sam,Research,10001,45034.88\n",
            "1,Max,HR,10002,65343.45\n",
            "2,Tony,Marketing,10003,53423.27\n",
            "3,Sarah,Sales,10004,76422.34\n"
          ]
        }
      ]
    },
    {
      "cell_type": "code",
      "metadata": {
        "colab": {
          "base_uri": "https://localhost:8080/",
          "height": 387
        },
        "id": "JmRaXMvPJg54",
        "outputId": "116b647f-c332-4140-879b-8bcda9cb3ed7"
      },
      "source": [
        "sample_df = pd.read_csv('sample.csv')\n",
        "sample_df"
      ],
      "execution_count": null,
      "outputs": [
        {
          "output_type": "execute_result",
          "data": {
            "text/html": [
              "<div>\n",
              "<style scoped>\n",
              "    .dataframe tbody tr th:only-of-type {\n",
              "        vertical-align: middle;\n",
              "    }\n",
              "\n",
              "    .dataframe tbody tr th {\n",
              "        vertical-align: top;\n",
              "    }\n",
              "\n",
              "    .dataframe thead th {\n",
              "        text-align: right;\n",
              "    }\n",
              "</style>\n",
              "<table border=\"1\" class=\"dataframe\">\n",
              "  <thead>\n",
              "    <tr style=\"text-align: right;\">\n",
              "      <th></th>\n",
              "      <th>Unnamed: 0</th>\n",
              "      <th>EmployeeName</th>\n",
              "      <th>EmployeeDept</th>\n",
              "      <th>EmployeeId</th>\n",
              "      <th>Salary</th>\n",
              "    </tr>\n",
              "  </thead>\n",
              "  <tbody>\n",
              "    <tr>\n",
              "      <th>0</th>\n",
              "      <td>0</td>\n",
              "      <td>Sam</td>\n",
              "      <td>Research</td>\n",
              "      <td>10001</td>\n",
              "      <td>45034.88</td>\n",
              "    </tr>\n",
              "    <tr>\n",
              "      <th>1</th>\n",
              "      <td>1</td>\n",
              "      <td>Max</td>\n",
              "      <td>HR</td>\n",
              "      <td>10002</td>\n",
              "      <td>65343.45</td>\n",
              "    </tr>\n",
              "    <tr>\n",
              "      <th>2</th>\n",
              "      <td>2</td>\n",
              "      <td>Tony</td>\n",
              "      <td>Marketing</td>\n",
              "      <td>10003</td>\n",
              "      <td>53423.27</td>\n",
              "    </tr>\n",
              "    <tr>\n",
              "      <th>3</th>\n",
              "      <td>3</td>\n",
              "      <td>Sarah</td>\n",
              "      <td>Sales</td>\n",
              "      <td>10004</td>\n",
              "      <td>76422.34</td>\n",
              "    </tr>\n",
              "    <tr>\n",
              "      <th>4</th>\n",
              "      <td>4</td>\n",
              "      <td>Tania</td>\n",
              "      <td>Finance</td>\n",
              "      <td>10005</td>\n",
              "      <td>58753.00</td>\n",
              "    </tr>\n",
              "    <tr>\n",
              "      <th>5</th>\n",
              "      <td>5</td>\n",
              "      <td>David</td>\n",
              "      <td>IT</td>\n",
              "      <td>10006</td>\n",
              "      <td>34323.44</td>\n",
              "    </tr>\n",
              "    <tr>\n",
              "      <th>6</th>\n",
              "      <td>6</td>\n",
              "      <td>Mark</td>\n",
              "      <td>HR</td>\n",
              "      <td>10007</td>\n",
              "      <td>66544.60</td>\n",
              "    </tr>\n",
              "    <tr>\n",
              "      <th>7</th>\n",
              "      <td>7</td>\n",
              "      <td>Alice</td>\n",
              "      <td>Marketing</td>\n",
              "      <td>10008</td>\n",
              "      <td>34354.66</td>\n",
              "    </tr>\n",
              "    <tr>\n",
              "      <th>8</th>\n",
              "      <td>8</td>\n",
              "      <td>Charles</td>\n",
              "      <td>IT</td>\n",
              "      <td>10009</td>\n",
              "      <td>55234.96</td>\n",
              "    </tr>\n",
              "    <tr>\n",
              "      <th>9</th>\n",
              "      <td>9</td>\n",
              "      <td>Bob</td>\n",
              "      <td>Finance</td>\n",
              "      <td>10010</td>\n",
              "      <td>39078.60</td>\n",
              "    </tr>\n",
              "    <tr>\n",
              "      <th>10</th>\n",
              "      <td>10</td>\n",
              "      <td>Anna</td>\n",
              "      <td>Sales</td>\n",
              "      <td>10011</td>\n",
              "      <td>44567.88</td>\n",
              "    </tr>\n",
              "  </tbody>\n",
              "</table>\n",
              "</div>"
            ],
            "text/plain": [
              "    Unnamed: 0 EmployeeName EmployeeDept  EmployeeId    Salary\n",
              "0            0          Sam     Research       10001  45034.88\n",
              "1            1          Max           HR       10002  65343.45\n",
              "2            2         Tony    Marketing       10003  53423.27\n",
              "3            3        Sarah        Sales       10004  76422.34\n",
              "4            4        Tania      Finance       10005  58753.00\n",
              "5            5        David           IT       10006  34323.44\n",
              "6            6         Mark           HR       10007  66544.60\n",
              "7            7        Alice    Marketing       10008  34354.66\n",
              "8            8      Charles           IT       10009  55234.96\n",
              "9            9          Bob      Finance       10010  39078.60\n",
              "10          10         Anna        Sales       10011  44567.88"
            ]
          },
          "metadata": {},
          "execution_count": 47
        }
      ]
    },
    {
      "cell_type": "code",
      "metadata": {
        "colab": {
          "base_uri": "https://localhost:8080/",
          "height": 387
        },
        "id": "qntg9qVeLpPs",
        "outputId": "6dbc68cf-b618-4833-f697-dcc80f6fbe5a"
      },
      "source": [
        "sample_df = pd.read_csv('sample.csv',index_col=0)\n",
        "sample_df"
      ],
      "execution_count": null,
      "outputs": [
        {
          "output_type": "execute_result",
          "data": {
            "text/html": [
              "<div>\n",
              "<style scoped>\n",
              "    .dataframe tbody tr th:only-of-type {\n",
              "        vertical-align: middle;\n",
              "    }\n",
              "\n",
              "    .dataframe tbody tr th {\n",
              "        vertical-align: top;\n",
              "    }\n",
              "\n",
              "    .dataframe thead th {\n",
              "        text-align: right;\n",
              "    }\n",
              "</style>\n",
              "<table border=\"1\" class=\"dataframe\">\n",
              "  <thead>\n",
              "    <tr style=\"text-align: right;\">\n",
              "      <th></th>\n",
              "      <th>EmployeeName</th>\n",
              "      <th>EmployeeDept</th>\n",
              "      <th>EmployeeId</th>\n",
              "      <th>Salary</th>\n",
              "    </tr>\n",
              "  </thead>\n",
              "  <tbody>\n",
              "    <tr>\n",
              "      <th>0</th>\n",
              "      <td>Sam</td>\n",
              "      <td>Research</td>\n",
              "      <td>10001</td>\n",
              "      <td>45034.88</td>\n",
              "    </tr>\n",
              "    <tr>\n",
              "      <th>1</th>\n",
              "      <td>Max</td>\n",
              "      <td>HR</td>\n",
              "      <td>10002</td>\n",
              "      <td>65343.45</td>\n",
              "    </tr>\n",
              "    <tr>\n",
              "      <th>2</th>\n",
              "      <td>Tony</td>\n",
              "      <td>Marketing</td>\n",
              "      <td>10003</td>\n",
              "      <td>53423.27</td>\n",
              "    </tr>\n",
              "    <tr>\n",
              "      <th>3</th>\n",
              "      <td>Sarah</td>\n",
              "      <td>Sales</td>\n",
              "      <td>10004</td>\n",
              "      <td>76422.34</td>\n",
              "    </tr>\n",
              "    <tr>\n",
              "      <th>4</th>\n",
              "      <td>Tania</td>\n",
              "      <td>Finance</td>\n",
              "      <td>10005</td>\n",
              "      <td>58753.00</td>\n",
              "    </tr>\n",
              "    <tr>\n",
              "      <th>5</th>\n",
              "      <td>David</td>\n",
              "      <td>IT</td>\n",
              "      <td>10006</td>\n",
              "      <td>34323.44</td>\n",
              "    </tr>\n",
              "    <tr>\n",
              "      <th>6</th>\n",
              "      <td>Mark</td>\n",
              "      <td>HR</td>\n",
              "      <td>10007</td>\n",
              "      <td>66544.60</td>\n",
              "    </tr>\n",
              "    <tr>\n",
              "      <th>7</th>\n",
              "      <td>Alice</td>\n",
              "      <td>Marketing</td>\n",
              "      <td>10008</td>\n",
              "      <td>34354.66</td>\n",
              "    </tr>\n",
              "    <tr>\n",
              "      <th>8</th>\n",
              "      <td>Charles</td>\n",
              "      <td>IT</td>\n",
              "      <td>10009</td>\n",
              "      <td>55234.96</td>\n",
              "    </tr>\n",
              "    <tr>\n",
              "      <th>9</th>\n",
              "      <td>Bob</td>\n",
              "      <td>Finance</td>\n",
              "      <td>10010</td>\n",
              "      <td>39078.60</td>\n",
              "    </tr>\n",
              "    <tr>\n",
              "      <th>10</th>\n",
              "      <td>Anna</td>\n",
              "      <td>Sales</td>\n",
              "      <td>10011</td>\n",
              "      <td>44567.88</td>\n",
              "    </tr>\n",
              "  </tbody>\n",
              "</table>\n",
              "</div>"
            ],
            "text/plain": [
              "   EmployeeName EmployeeDept  EmployeeId    Salary\n",
              "0           Sam     Research       10001  45034.88\n",
              "1           Max           HR       10002  65343.45\n",
              "2          Tony    Marketing       10003  53423.27\n",
              "3         Sarah        Sales       10004  76422.34\n",
              "4         Tania      Finance       10005  58753.00\n",
              "5         David           IT       10006  34323.44\n",
              "6          Mark           HR       10007  66544.60\n",
              "7         Alice    Marketing       10008  34354.66\n",
              "8       Charles           IT       10009  55234.96\n",
              "9           Bob      Finance       10010  39078.60\n",
              "10         Anna        Sales       10011  44567.88"
            ]
          },
          "metadata": {},
          "execution_count": 52
        }
      ]
    },
    {
      "cell_type": "code",
      "metadata": {
        "id": "phIWJtAQKXPK"
      },
      "source": [
        "employee_records.to_csv('sample_without_index.csv',index=False)"
      ],
      "execution_count": null,
      "outputs": []
    },
    {
      "cell_type": "code",
      "metadata": {
        "colab": {
          "base_uri": "https://localhost:8080/"
        },
        "id": "wdB_QKojKq3J",
        "outputId": "6300713b-4a3f-413c-d728-fba5a4d73c97"
      },
      "source": [
        "!ls"
      ],
      "execution_count": null,
      "outputs": [
        {
          "output_type": "stream",
          "name": "stdout",
          "text": [
            "sample.csv  sample_data  sample_without_index.csv\n"
          ]
        }
      ]
    },
    {
      "cell_type": "code",
      "metadata": {
        "colab": {
          "base_uri": "https://localhost:8080/"
        },
        "id": "RygwECLkKsN7",
        "outputId": "ec8c09f0-c291-4014-ac65-d5d6ae590856"
      },
      "source": [
        "!cat sample_without_index.csv | head -5"
      ],
      "execution_count": null,
      "outputs": [
        {
          "output_type": "stream",
          "name": "stdout",
          "text": [
            "EmployeeName,EmployeeDept,EmployeeId,Salary\n",
            "Sam,Research,10001,45034.88\n",
            "Max,HR,10002,65343.45\n",
            "Tony,Marketing,10003,53423.27\n",
            "Sarah,Sales,10004,76422.34\n"
          ]
        }
      ]
    },
    {
      "cell_type": "code",
      "metadata": {
        "colab": {
          "base_uri": "https://localhost:8080/",
          "height": 387
        },
        "id": "eECK1H5IK6aV",
        "outputId": "ea0c39f7-a07a-4336-904d-7601ef3acefa"
      },
      "source": [
        "sample_df_without_index = pd.read_csv('sample_without_index.csv')\n",
        "sample_df_without_index"
      ],
      "execution_count": null,
      "outputs": [
        {
          "output_type": "execute_result",
          "data": {
            "text/html": [
              "<div>\n",
              "<style scoped>\n",
              "    .dataframe tbody tr th:only-of-type {\n",
              "        vertical-align: middle;\n",
              "    }\n",
              "\n",
              "    .dataframe tbody tr th {\n",
              "        vertical-align: top;\n",
              "    }\n",
              "\n",
              "    .dataframe thead th {\n",
              "        text-align: right;\n",
              "    }\n",
              "</style>\n",
              "<table border=\"1\" class=\"dataframe\">\n",
              "  <thead>\n",
              "    <tr style=\"text-align: right;\">\n",
              "      <th></th>\n",
              "      <th>EmployeeName</th>\n",
              "      <th>EmployeeDept</th>\n",
              "      <th>EmployeeId</th>\n",
              "      <th>Salary</th>\n",
              "    </tr>\n",
              "  </thead>\n",
              "  <tbody>\n",
              "    <tr>\n",
              "      <th>0</th>\n",
              "      <td>Sam</td>\n",
              "      <td>Research</td>\n",
              "      <td>10001</td>\n",
              "      <td>45034.88</td>\n",
              "    </tr>\n",
              "    <tr>\n",
              "      <th>1</th>\n",
              "      <td>Max</td>\n",
              "      <td>HR</td>\n",
              "      <td>10002</td>\n",
              "      <td>65343.45</td>\n",
              "    </tr>\n",
              "    <tr>\n",
              "      <th>2</th>\n",
              "      <td>Tony</td>\n",
              "      <td>Marketing</td>\n",
              "      <td>10003</td>\n",
              "      <td>53423.27</td>\n",
              "    </tr>\n",
              "    <tr>\n",
              "      <th>3</th>\n",
              "      <td>Sarah</td>\n",
              "      <td>Sales</td>\n",
              "      <td>10004</td>\n",
              "      <td>76422.34</td>\n",
              "    </tr>\n",
              "    <tr>\n",
              "      <th>4</th>\n",
              "      <td>Tania</td>\n",
              "      <td>Finance</td>\n",
              "      <td>10005</td>\n",
              "      <td>58753.00</td>\n",
              "    </tr>\n",
              "    <tr>\n",
              "      <th>5</th>\n",
              "      <td>David</td>\n",
              "      <td>IT</td>\n",
              "      <td>10006</td>\n",
              "      <td>34323.44</td>\n",
              "    </tr>\n",
              "    <tr>\n",
              "      <th>6</th>\n",
              "      <td>Mark</td>\n",
              "      <td>HR</td>\n",
              "      <td>10007</td>\n",
              "      <td>66544.60</td>\n",
              "    </tr>\n",
              "    <tr>\n",
              "      <th>7</th>\n",
              "      <td>Alice</td>\n",
              "      <td>Marketing</td>\n",
              "      <td>10008</td>\n",
              "      <td>34354.66</td>\n",
              "    </tr>\n",
              "    <tr>\n",
              "      <th>8</th>\n",
              "      <td>Charles</td>\n",
              "      <td>IT</td>\n",
              "      <td>10009</td>\n",
              "      <td>55234.96</td>\n",
              "    </tr>\n",
              "    <tr>\n",
              "      <th>9</th>\n",
              "      <td>Bob</td>\n",
              "      <td>Finance</td>\n",
              "      <td>10010</td>\n",
              "      <td>39078.60</td>\n",
              "    </tr>\n",
              "    <tr>\n",
              "      <th>10</th>\n",
              "      <td>Anna</td>\n",
              "      <td>Sales</td>\n",
              "      <td>10011</td>\n",
              "      <td>44567.88</td>\n",
              "    </tr>\n",
              "  </tbody>\n",
              "</table>\n",
              "</div>"
            ],
            "text/plain": [
              "   EmployeeName EmployeeDept  EmployeeId    Salary\n",
              "0           Sam     Research       10001  45034.88\n",
              "1           Max           HR       10002  65343.45\n",
              "2          Tony    Marketing       10003  53423.27\n",
              "3         Sarah        Sales       10004  76422.34\n",
              "4         Tania      Finance       10005  58753.00\n",
              "5         David           IT       10006  34323.44\n",
              "6          Mark           HR       10007  66544.60\n",
              "7         Alice    Marketing       10008  34354.66\n",
              "8       Charles           IT       10009  55234.96\n",
              "9           Bob      Finance       10010  39078.60\n",
              "10         Anna        Sales       10011  44567.88"
            ]
          },
          "metadata": {},
          "execution_count": 51
        }
      ]
    },
    {
      "cell_type": "markdown",
      "metadata": {
        "id": "4FezGp_mMOUg"
      },
      "source": [
        "## Reading/writing from/to a Excel file\n"
      ]
    },
    {
      "cell_type": "code",
      "metadata": {
        "id": "NldtF1zELLVJ"
      },
      "source": [
        "employee_records.to_excel('sample_excel.xlsx', sheet_name=\"My_EmployeeRecords\")"
      ],
      "execution_count": null,
      "outputs": []
    },
    {
      "cell_type": "code",
      "metadata": {
        "colab": {
          "base_uri": "https://localhost:8080/"
        },
        "id": "7W9-VKb_MfcE",
        "outputId": "f065955d-79ad-410a-c172-09fc904eabfa"
      },
      "source": [
        "!ls"
      ],
      "execution_count": null,
      "outputs": [
        {
          "output_type": "stream",
          "name": "stdout",
          "text": [
            "sample.csv  sample_data  sample_excel.xlsx  sample_without_index.csv\n"
          ]
        }
      ]
    },
    {
      "cell_type": "code",
      "metadata": {
        "colab": {
          "base_uri": "https://localhost:8080/",
          "height": 387
        },
        "id": "aR9IN5GuMgF4",
        "outputId": "54c2956d-34e6-4b0a-b094-b253c443deb8"
      },
      "source": [
        "df_excel = pd.read_excel('sample_excel.xlsx')\n",
        "df_excel"
      ],
      "execution_count": null,
      "outputs": [
        {
          "output_type": "execute_result",
          "data": {
            "text/html": [
              "<div>\n",
              "<style scoped>\n",
              "    .dataframe tbody tr th:only-of-type {\n",
              "        vertical-align: middle;\n",
              "    }\n",
              "\n",
              "    .dataframe tbody tr th {\n",
              "        vertical-align: top;\n",
              "    }\n",
              "\n",
              "    .dataframe thead th {\n",
              "        text-align: right;\n",
              "    }\n",
              "</style>\n",
              "<table border=\"1\" class=\"dataframe\">\n",
              "  <thead>\n",
              "    <tr style=\"text-align: right;\">\n",
              "      <th></th>\n",
              "      <th>Unnamed: 0</th>\n",
              "      <th>EmployeeName</th>\n",
              "      <th>EmployeeDept</th>\n",
              "      <th>EmployeeId</th>\n",
              "      <th>Salary</th>\n",
              "    </tr>\n",
              "  </thead>\n",
              "  <tbody>\n",
              "    <tr>\n",
              "      <th>0</th>\n",
              "      <td>0</td>\n",
              "      <td>Sam</td>\n",
              "      <td>Research</td>\n",
              "      <td>10001</td>\n",
              "      <td>45034.88</td>\n",
              "    </tr>\n",
              "    <tr>\n",
              "      <th>1</th>\n",
              "      <td>1</td>\n",
              "      <td>Max</td>\n",
              "      <td>HR</td>\n",
              "      <td>10002</td>\n",
              "      <td>65343.45</td>\n",
              "    </tr>\n",
              "    <tr>\n",
              "      <th>2</th>\n",
              "      <td>2</td>\n",
              "      <td>Tony</td>\n",
              "      <td>Marketing</td>\n",
              "      <td>10003</td>\n",
              "      <td>53423.27</td>\n",
              "    </tr>\n",
              "    <tr>\n",
              "      <th>3</th>\n",
              "      <td>3</td>\n",
              "      <td>Sarah</td>\n",
              "      <td>Sales</td>\n",
              "      <td>10004</td>\n",
              "      <td>76422.34</td>\n",
              "    </tr>\n",
              "    <tr>\n",
              "      <th>4</th>\n",
              "      <td>4</td>\n",
              "      <td>Tania</td>\n",
              "      <td>Finance</td>\n",
              "      <td>10005</td>\n",
              "      <td>58753.00</td>\n",
              "    </tr>\n",
              "    <tr>\n",
              "      <th>5</th>\n",
              "      <td>5</td>\n",
              "      <td>David</td>\n",
              "      <td>IT</td>\n",
              "      <td>10006</td>\n",
              "      <td>34323.44</td>\n",
              "    </tr>\n",
              "    <tr>\n",
              "      <th>6</th>\n",
              "      <td>6</td>\n",
              "      <td>Mark</td>\n",
              "      <td>HR</td>\n",
              "      <td>10007</td>\n",
              "      <td>66544.60</td>\n",
              "    </tr>\n",
              "    <tr>\n",
              "      <th>7</th>\n",
              "      <td>7</td>\n",
              "      <td>Alice</td>\n",
              "      <td>Marketing</td>\n",
              "      <td>10008</td>\n",
              "      <td>34354.66</td>\n",
              "    </tr>\n",
              "    <tr>\n",
              "      <th>8</th>\n",
              "      <td>8</td>\n",
              "      <td>Charles</td>\n",
              "      <td>IT</td>\n",
              "      <td>10009</td>\n",
              "      <td>55234.96</td>\n",
              "    </tr>\n",
              "    <tr>\n",
              "      <th>9</th>\n",
              "      <td>9</td>\n",
              "      <td>Bob</td>\n",
              "      <td>Finance</td>\n",
              "      <td>10010</td>\n",
              "      <td>39078.60</td>\n",
              "    </tr>\n",
              "    <tr>\n",
              "      <th>10</th>\n",
              "      <td>10</td>\n",
              "      <td>Anna</td>\n",
              "      <td>Sales</td>\n",
              "      <td>10011</td>\n",
              "      <td>44567.88</td>\n",
              "    </tr>\n",
              "  </tbody>\n",
              "</table>\n",
              "</div>"
            ],
            "text/plain": [
              "    Unnamed: 0 EmployeeName EmployeeDept  EmployeeId    Salary\n",
              "0            0          Sam     Research       10001  45034.88\n",
              "1            1          Max           HR       10002  65343.45\n",
              "2            2         Tony    Marketing       10003  53423.27\n",
              "3            3        Sarah        Sales       10004  76422.34\n",
              "4            4        Tania      Finance       10005  58753.00\n",
              "5            5        David           IT       10006  34323.44\n",
              "6            6         Mark           HR       10007  66544.60\n",
              "7            7        Alice    Marketing       10008  34354.66\n",
              "8            8      Charles           IT       10009  55234.96\n",
              "9            9          Bob      Finance       10010  39078.60\n",
              "10          10         Anna        Sales       10011  44567.88"
            ]
          },
          "metadata": {},
          "execution_count": 56
        }
      ]
    },
    {
      "cell_type": "markdown",
      "metadata": {
        "id": "znSBz-psJ1VU"
      },
      "source": [
        "# New section"
      ]
    },
    {
      "cell_type": "markdown",
      "metadata": {
        "id": "9xGQh5oxNYYN"
      },
      "source": [
        ""
      ]
    },
    {
      "cell_type": "markdown",
      "metadata": {
        "id": "gjatHe5rqpjC"
      },
      "source": [
        "## Reading from a .txt file"
      ]
    },
    {
      "cell_type": "markdown",
      "metadata": {
        "id": "uj27DVLC7dLw"
      },
      "source": [
        "[From Matplotlib DIY assignment](https://colab.research.google.com/drive/11DokhBkrlQ6bmJr3tfe_MwpvFbepKx8u#scrollTo=dOxFBUX-CD90)\n",
        "\n",
        "You are provided with the a dataset which is a subset of a large study about the gaming habits of over 200 participants consisting of students from Technical University of Berlin, Germany. Age (age_vals), gender (gender_vals), Gaming Expertise (gaming_expertise) and type of screen they usually use while playing games (screen_vals).\n",
        "\n",
        "Download the data from [here](https://drive.google.com/file/d/13fkPL7c9CQGSVr-cLIqiw3r3_qinDg2W/view?usp=sharing)\n"
      ]
    },
    {
      "cell_type": "code",
      "metadata": {
        "id": "8TZBhxpIMpuI"
      },
      "source": [
        "df_tub = pd.read_csv('data_tub.txt')\n",
        "df_tub"
      ],
      "execution_count": null,
      "outputs": []
    },
    {
      "cell_type": "code",
      "metadata": {
        "id": "XDvE3Bg0Nu_Z"
      },
      "source": [
        "# we will use the delimiter to read it properly\n",
        "df = pd.read_csv('data_tub.txt',delimiter=';')\n",
        "df.head()"
      ],
      "execution_count": null,
      "outputs": []
    },
    {
      "cell_type": "code",
      "metadata": {
        "id": "cN2hGNrzOAfp"
      },
      "source": [
        "df = pd.read_csv('data_tub.txt',delimiter=';',names=[\"age\", \"gender\", \"gaming_expertise\", \"screen_type\"])\n",
        "df.head()"
      ],
      "execution_count": null,
      "outputs": []
    },
    {
      "cell_type": "code",
      "metadata": {
        "id": "n_bP3cq4OJJI"
      },
      "source": [
        "df.to_csv('data_tub_rewritten.txt',index=False,sep='\\t') # tab separated"
      ],
      "execution_count": null,
      "outputs": []
    },
    {
      "cell_type": "markdown",
      "metadata": {
        "id": "yMT5ku0deLYa"
      },
      "source": [
        "# Descriptive Statistics\n",
        "\n",
        "![Descriptive Stats ](https://drive.google.com/uc?export=view&id=1eyBbDVq_PNL_6wmFLdI6NGWNpF7SSENO)\n",
        "\n",
        "For more information, please refer [here](https://pandas.pydata.org/pandas-docs/stable/user_guide/basics.html#descriptive-statistics)\n",
        "\n",
        "\n",
        "Most of these are aggregations (hence producing a lower-dimensional result) like `sum(), mean(), and quantile()`, but some of them, like `cumsum() and cumprod()`, produce an object of the same size. Generally speaking, these methods take an axis argument, just like `ndarray.{sum, std, …}`, but the axis can be specified by name or integer:\n",
        "\n",
        ">* Series: no axis argument needed\n",
        ">* DataFrame: “index” (axis=0, default), “columns” (axis=1)"
      ]
    },
    {
      "cell_type": "code",
      "metadata": {
        "colab": {
          "base_uri": "https://localhost:8080/",
          "height": 172
        },
        "id": "UWWT7yaDVWDA",
        "outputId": "20f775a5-57d8-4762-acbf-f70a2844be61"
      },
      "source": [
        "df = pd.DataFrame({\n",
        "  'one': pd.Series(np.random.randn(3), index=['a', 'b', 'c']),\n",
        "  'two': pd.Series(np.random.randn(4), index=['a', 'b', 'c', 'd']),\n",
        "  'three': pd.Series(np.random.randn(3), index=['b', 'c', 'd'])})\n",
        "df"
      ],
      "execution_count": null,
      "outputs": [
        {
          "output_type": "execute_result",
          "data": {
            "text/html": [
              "<div>\n",
              "<style scoped>\n",
              "    .dataframe tbody tr th:only-of-type {\n",
              "        vertical-align: middle;\n",
              "    }\n",
              "\n",
              "    .dataframe tbody tr th {\n",
              "        vertical-align: top;\n",
              "    }\n",
              "\n",
              "    .dataframe thead th {\n",
              "        text-align: right;\n",
              "    }\n",
              "</style>\n",
              "<table border=\"1\" class=\"dataframe\">\n",
              "  <thead>\n",
              "    <tr style=\"text-align: right;\">\n",
              "      <th></th>\n",
              "      <th>one</th>\n",
              "      <th>two</th>\n",
              "      <th>three</th>\n",
              "    </tr>\n",
              "  </thead>\n",
              "  <tbody>\n",
              "    <tr>\n",
              "      <th>a</th>\n",
              "      <td>-0.644804</td>\n",
              "      <td>0.608582</td>\n",
              "      <td>NaN</td>\n",
              "    </tr>\n",
              "    <tr>\n",
              "      <th>b</th>\n",
              "      <td>0.352068</td>\n",
              "      <td>0.914420</td>\n",
              "      <td>-1.765565</td>\n",
              "    </tr>\n",
              "    <tr>\n",
              "      <th>c</th>\n",
              "      <td>0.799377</td>\n",
              "      <td>0.576662</td>\n",
              "      <td>-0.316179</td>\n",
              "    </tr>\n",
              "    <tr>\n",
              "      <th>d</th>\n",
              "      <td>NaN</td>\n",
              "      <td>-0.242452</td>\n",
              "      <td>0.075116</td>\n",
              "    </tr>\n",
              "  </tbody>\n",
              "</table>\n",
              "</div>"
            ],
            "text/plain": [
              "        one       two     three\n",
              "a -0.644804  0.608582       NaN\n",
              "b  0.352068  0.914420 -1.765565\n",
              "c  0.799377  0.576662 -0.316179\n",
              "d       NaN -0.242452  0.075116"
            ]
          },
          "metadata": {},
          "execution_count": 64
        }
      ]
    },
    {
      "cell_type": "code",
      "metadata": {
        "colab": {
          "base_uri": "https://localhost:8080/"
        },
        "id": "grzNcATZVW_a",
        "outputId": "89a2109c-e76a-4267-a4a8-8a779a39ba29"
      },
      "source": [
        "df.mean()"
      ],
      "execution_count": null,
      "outputs": [
        {
          "output_type": "execute_result",
          "data": {
            "text/plain": [
              "one      0.168880\n",
              "two      0.464303\n",
              "three   -0.668876\n",
              "dtype: float64"
            ]
          },
          "metadata": {},
          "execution_count": 65
        }
      ]
    },
    {
      "cell_type": "code",
      "metadata": {
        "colab": {
          "base_uri": "https://localhost:8080/"
        },
        "id": "7veKE3pgXR15",
        "outputId": "e6cccf9b-e026-4d69-8b9f-548d34c30ffb"
      },
      "source": [
        "df.mean(0)"
      ],
      "execution_count": null,
      "outputs": [
        {
          "output_type": "execute_result",
          "data": {
            "text/plain": [
              "one      0.168880\n",
              "two      0.464303\n",
              "three   -0.668876\n",
              "dtype: float64"
            ]
          },
          "metadata": {},
          "execution_count": 66
        }
      ]
    },
    {
      "cell_type": "code",
      "metadata": {
        "colab": {
          "base_uri": "https://localhost:8080/"
        },
        "id": "Xlw3gDUmXcTK",
        "outputId": "e41c0402-3e08-4bb3-e6c5-33e5a68ff54b"
      },
      "source": [
        "df.mean(1)"
      ],
      "execution_count": null,
      "outputs": [
        {
          "output_type": "execute_result",
          "data": {
            "text/plain": [
              "a   -0.018111\n",
              "b   -0.166359\n",
              "c    0.353287\n",
              "d   -0.083668\n",
              "dtype: float64"
            ]
          },
          "metadata": {},
          "execution_count": 67
        }
      ]
    },
    {
      "cell_type": "code",
      "metadata": {
        "colab": {
          "base_uri": "https://localhost:8080/"
        },
        "id": "ACfqVuthXeDp",
        "outputId": "d8962a79-97d7-481c-ef5b-3f9bbca24d3c"
      },
      "source": [
        "df.mean(skipna=False)"
      ],
      "execution_count": null,
      "outputs": [
        {
          "output_type": "execute_result",
          "data": {
            "text/plain": [
              "one           NaN\n",
              "two      0.464303\n",
              "three         NaN\n",
              "dtype: float64"
            ]
          },
          "metadata": {},
          "execution_count": 68
        }
      ]
    },
    {
      "cell_type": "code",
      "metadata": {
        "colab": {
          "base_uri": "https://localhost:8080/",
          "height": 172
        },
        "id": "IcSUDvJNX7xb",
        "outputId": "1cdbf8c1-d325-43b8-c5f4-462aae55b2dd"
      },
      "source": [
        "df"
      ],
      "execution_count": null,
      "outputs": [
        {
          "output_type": "execute_result",
          "data": {
            "text/html": [
              "<div>\n",
              "<style scoped>\n",
              "    .dataframe tbody tr th:only-of-type {\n",
              "        vertical-align: middle;\n",
              "    }\n",
              "\n",
              "    .dataframe tbody tr th {\n",
              "        vertical-align: top;\n",
              "    }\n",
              "\n",
              "    .dataframe thead th {\n",
              "        text-align: right;\n",
              "    }\n",
              "</style>\n",
              "<table border=\"1\" class=\"dataframe\">\n",
              "  <thead>\n",
              "    <tr style=\"text-align: right;\">\n",
              "      <th></th>\n",
              "      <th>one</th>\n",
              "      <th>two</th>\n",
              "      <th>three</th>\n",
              "    </tr>\n",
              "  </thead>\n",
              "  <tbody>\n",
              "    <tr>\n",
              "      <th>a</th>\n",
              "      <td>-0.644804</td>\n",
              "      <td>0.608582</td>\n",
              "      <td>NaN</td>\n",
              "    </tr>\n",
              "    <tr>\n",
              "      <th>b</th>\n",
              "      <td>0.352068</td>\n",
              "      <td>0.914420</td>\n",
              "      <td>-1.765565</td>\n",
              "    </tr>\n",
              "    <tr>\n",
              "      <th>c</th>\n",
              "      <td>0.799377</td>\n",
              "      <td>0.576662</td>\n",
              "      <td>-0.316179</td>\n",
              "    </tr>\n",
              "    <tr>\n",
              "      <th>d</th>\n",
              "      <td>NaN</td>\n",
              "      <td>-0.242452</td>\n",
              "      <td>0.075116</td>\n",
              "    </tr>\n",
              "  </tbody>\n",
              "</table>\n",
              "</div>"
            ],
            "text/plain": [
              "        one       two     three\n",
              "a -0.644804  0.608582       NaN\n",
              "b  0.352068  0.914420 -1.765565\n",
              "c  0.799377  0.576662 -0.316179\n",
              "d       NaN -0.242452  0.075116"
            ]
          },
          "metadata": {},
          "execution_count": 69
        }
      ]
    },
    {
      "cell_type": "code",
      "metadata": {
        "colab": {
          "base_uri": "https://localhost:8080/"
        },
        "id": "a0jGCuc4X8wa",
        "outputId": "7ac1a35d-c53f-47b9-80b5-6a1a837b0ff9"
      },
      "source": [
        "df.mean(1,skipna=False)"
      ],
      "execution_count": null,
      "outputs": [
        {
          "output_type": "execute_result",
          "data": {
            "text/plain": [
              "a         NaN\n",
              "b   -0.166359\n",
              "c    0.353287\n",
              "d         NaN\n",
              "dtype: float64"
            ]
          },
          "metadata": {},
          "execution_count": 70
        }
      ]
    },
    {
      "cell_type": "code",
      "metadata": {
        "colab": {
          "base_uri": "https://localhost:8080/"
        },
        "id": "hmYcUJNwYGlK",
        "outputId": "a156a0c3-29c7-4378-ff4a-ec39f05d1f2c"
      },
      "source": [
        "df.sum()"
      ],
      "execution_count": null,
      "outputs": [
        {
          "output_type": "execute_result",
          "data": {
            "text/plain": [
              "one      0.506641\n",
              "two      1.857212\n",
              "three   -2.006628\n",
              "dtype: float64"
            ]
          },
          "metadata": {},
          "execution_count": 71
        }
      ]
    },
    {
      "cell_type": "code",
      "metadata": {
        "colab": {
          "base_uri": "https://localhost:8080/"
        },
        "id": "iy4lwPfzYODb",
        "outputId": "1e5c161d-149a-4acd-ad57-778b78cd5c36"
      },
      "source": [
        "df.sum(skipna=False)"
      ],
      "execution_count": null,
      "outputs": [
        {
          "output_type": "execute_result",
          "data": {
            "text/plain": [
              "one           NaN\n",
              "two      1.857212\n",
              "three         NaN\n",
              "dtype: float64"
            ]
          },
          "metadata": {},
          "execution_count": 72
        }
      ]
    },
    {
      "cell_type": "markdown",
      "metadata": {
        "id": "xWMJYGghYtsO"
      },
      "source": [
        "### Using numpy"
      ]
    },
    {
      "cell_type": "code",
      "metadata": {
        "colab": {
          "base_uri": "https://localhost:8080/"
        },
        "id": "IGi-m0wWYR9Z",
        "outputId": "e3c0b858-780a-456d-bd6e-721ad28f2d65"
      },
      "source": [
        "np.mean(df)"
      ],
      "execution_count": null,
      "outputs": [
        {
          "output_type": "execute_result",
          "data": {
            "text/plain": [
              "one      0.168880\n",
              "two      0.464303\n",
              "three   -0.668876\n",
              "dtype: float64"
            ]
          },
          "metadata": {},
          "execution_count": 73
        }
      ]
    },
    {
      "cell_type": "code",
      "metadata": {
        "colab": {
          "base_uri": "https://localhost:8080/"
        },
        "id": "WeQJhoULYgMJ",
        "outputId": "3c9ed063-2f5b-4040-c095-c0e864f76ae0"
      },
      "source": [
        "np.mean(df['one'])"
      ],
      "execution_count": null,
      "outputs": [
        {
          "output_type": "execute_result",
          "data": {
            "text/plain": [
              "0.16888030648838834"
            ]
          },
          "metadata": {},
          "execution_count": 74
        }
      ]
    },
    {
      "cell_type": "code",
      "metadata": {
        "colab": {
          "base_uri": "https://localhost:8080/"
        },
        "id": "qpgDyLFfYnuq",
        "outputId": "2879ad01-cd86-442e-deed-e1b1aa263032"
      },
      "source": [
        "# saving the output to numpy array\n",
        "np.mean(df['one'].to_numpy())\n",
        "# TODO: Why nan?"
      ],
      "execution_count": null,
      "outputs": [
        {
          "output_type": "execute_result",
          "data": {
            "text/plain": [
              "nan"
            ]
          },
          "metadata": {},
          "execution_count": 76
        }
      ]
    },
    {
      "cell_type": "code",
      "metadata": {
        "colab": {
          "base_uri": "https://localhost:8080/"
        },
        "id": "rvt3DMltY3cK",
        "outputId": "29ec7c25-58e9-438c-ee82-d88a2214f85e"
      },
      "source": [
        "np.mean(df['two'].to_numpy())"
      ],
      "execution_count": null,
      "outputs": [
        {
          "output_type": "execute_result",
          "data": {
            "text/plain": [
              "0.46430307373592017"
            ]
          },
          "metadata": {},
          "execution_count": 77
        }
      ]
    },
    {
      "cell_type": "markdown",
      "metadata": {
        "id": "bOMpfrNJZ-Yi"
      },
      "source": [
        "## describe function"
      ]
    },
    {
      "cell_type": "code",
      "metadata": {
        "colab": {
          "base_uri": "https://localhost:8080/",
          "height": 172
        },
        "id": "sIpMTAbOZRrK",
        "outputId": "bcb8087f-7040-46d3-cfa6-71efd6a27946"
      },
      "source": [
        "df = pd.DataFrame({'a':['Yes','Yes','No','No'],'b':range(4)})\n",
        "df"
      ],
      "execution_count": null,
      "outputs": [
        {
          "output_type": "execute_result",
          "data": {
            "text/html": [
              "<div>\n",
              "<style scoped>\n",
              "    .dataframe tbody tr th:only-of-type {\n",
              "        vertical-align: middle;\n",
              "    }\n",
              "\n",
              "    .dataframe tbody tr th {\n",
              "        vertical-align: top;\n",
              "    }\n",
              "\n",
              "    .dataframe thead th {\n",
              "        text-align: right;\n",
              "    }\n",
              "</style>\n",
              "<table border=\"1\" class=\"dataframe\">\n",
              "  <thead>\n",
              "    <tr style=\"text-align: right;\">\n",
              "      <th></th>\n",
              "      <th>a</th>\n",
              "      <th>b</th>\n",
              "    </tr>\n",
              "  </thead>\n",
              "  <tbody>\n",
              "    <tr>\n",
              "      <th>0</th>\n",
              "      <td>Yes</td>\n",
              "      <td>0</td>\n",
              "    </tr>\n",
              "    <tr>\n",
              "      <th>1</th>\n",
              "      <td>Yes</td>\n",
              "      <td>1</td>\n",
              "    </tr>\n",
              "    <tr>\n",
              "      <th>2</th>\n",
              "      <td>No</td>\n",
              "      <td>2</td>\n",
              "    </tr>\n",
              "    <tr>\n",
              "      <th>3</th>\n",
              "      <td>No</td>\n",
              "      <td>3</td>\n",
              "    </tr>\n",
              "  </tbody>\n",
              "</table>\n",
              "</div>"
            ],
            "text/plain": [
              "     a  b\n",
              "0  Yes  0\n",
              "1  Yes  1\n",
              "2   No  2\n",
              "3   No  3"
            ]
          },
          "metadata": {},
          "execution_count": 78
        }
      ]
    },
    {
      "cell_type": "code",
      "metadata": {
        "colab": {
          "base_uri": "https://localhost:8080/",
          "height": 294
        },
        "id": "ADWIT0PkaMP8",
        "outputId": "fd882893-a708-42c5-d761-675ef535a1dc"
      },
      "source": [
        "df.describe()"
      ],
      "execution_count": null,
      "outputs": [
        {
          "output_type": "execute_result",
          "data": {
            "text/html": [
              "<div>\n",
              "<style scoped>\n",
              "    .dataframe tbody tr th:only-of-type {\n",
              "        vertical-align: middle;\n",
              "    }\n",
              "\n",
              "    .dataframe tbody tr th {\n",
              "        vertical-align: top;\n",
              "    }\n",
              "\n",
              "    .dataframe thead th {\n",
              "        text-align: right;\n",
              "    }\n",
              "</style>\n",
              "<table border=\"1\" class=\"dataframe\">\n",
              "  <thead>\n",
              "    <tr style=\"text-align: right;\">\n",
              "      <th></th>\n",
              "      <th>b</th>\n",
              "    </tr>\n",
              "  </thead>\n",
              "  <tbody>\n",
              "    <tr>\n",
              "      <th>count</th>\n",
              "      <td>4.000000</td>\n",
              "    </tr>\n",
              "    <tr>\n",
              "      <th>mean</th>\n",
              "      <td>1.500000</td>\n",
              "    </tr>\n",
              "    <tr>\n",
              "      <th>std</th>\n",
              "      <td>1.290994</td>\n",
              "    </tr>\n",
              "    <tr>\n",
              "      <th>min</th>\n",
              "      <td>0.000000</td>\n",
              "    </tr>\n",
              "    <tr>\n",
              "      <th>25%</th>\n",
              "      <td>0.750000</td>\n",
              "    </tr>\n",
              "    <tr>\n",
              "      <th>50%</th>\n",
              "      <td>1.500000</td>\n",
              "    </tr>\n",
              "    <tr>\n",
              "      <th>75%</th>\n",
              "      <td>2.250000</td>\n",
              "    </tr>\n",
              "    <tr>\n",
              "      <th>max</th>\n",
              "      <td>3.000000</td>\n",
              "    </tr>\n",
              "  </tbody>\n",
              "</table>\n",
              "</div>"
            ],
            "text/plain": [
              "              b\n",
              "count  4.000000\n",
              "mean   1.500000\n",
              "std    1.290994\n",
              "min    0.000000\n",
              "25%    0.750000\n",
              "50%    1.500000\n",
              "75%    2.250000\n",
              "max    3.000000"
            ]
          },
          "metadata": {},
          "execution_count": 79
        }
      ]
    },
    {
      "cell_type": "code",
      "metadata": {
        "colab": {
          "base_uri": "https://localhost:8080/"
        },
        "id": "SAeKs3AVafDZ",
        "outputId": "b4b19987-cf03-4b07-d8e0-2218edf602df"
      },
      "source": [
        "df.dtypes"
      ],
      "execution_count": null,
      "outputs": [
        {
          "output_type": "execute_result",
          "data": {
            "text/plain": [
              "a    object\n",
              "b     int64\n",
              "dtype: object"
            ]
          },
          "metadata": {},
          "execution_count": 80
        }
      ]
    },
    {
      "cell_type": "code",
      "metadata": {
        "colab": {
          "base_uri": "https://localhost:8080/",
          "height": 387
        },
        "id": "1RAtdFgqathq",
        "outputId": "1ca36ad3-842d-460a-b525-286dbf3b5098"
      },
      "source": [
        "df.describe(include=['object','int64'])"
      ],
      "execution_count": null,
      "outputs": [
        {
          "output_type": "execute_result",
          "data": {
            "text/html": [
              "<div>\n",
              "<style scoped>\n",
              "    .dataframe tbody tr th:only-of-type {\n",
              "        vertical-align: middle;\n",
              "    }\n",
              "\n",
              "    .dataframe tbody tr th {\n",
              "        vertical-align: top;\n",
              "    }\n",
              "\n",
              "    .dataframe thead th {\n",
              "        text-align: right;\n",
              "    }\n",
              "</style>\n",
              "<table border=\"1\" class=\"dataframe\">\n",
              "  <thead>\n",
              "    <tr style=\"text-align: right;\">\n",
              "      <th></th>\n",
              "      <th>a</th>\n",
              "      <th>b</th>\n",
              "    </tr>\n",
              "  </thead>\n",
              "  <tbody>\n",
              "    <tr>\n",
              "      <th>count</th>\n",
              "      <td>4</td>\n",
              "      <td>4.000000</td>\n",
              "    </tr>\n",
              "    <tr>\n",
              "      <th>unique</th>\n",
              "      <td>2</td>\n",
              "      <td>NaN</td>\n",
              "    </tr>\n",
              "    <tr>\n",
              "      <th>top</th>\n",
              "      <td>Yes</td>\n",
              "      <td>NaN</td>\n",
              "    </tr>\n",
              "    <tr>\n",
              "      <th>freq</th>\n",
              "      <td>2</td>\n",
              "      <td>NaN</td>\n",
              "    </tr>\n",
              "    <tr>\n",
              "      <th>mean</th>\n",
              "      <td>NaN</td>\n",
              "      <td>1.500000</td>\n",
              "    </tr>\n",
              "    <tr>\n",
              "      <th>std</th>\n",
              "      <td>NaN</td>\n",
              "      <td>1.290994</td>\n",
              "    </tr>\n",
              "    <tr>\n",
              "      <th>min</th>\n",
              "      <td>NaN</td>\n",
              "      <td>0.000000</td>\n",
              "    </tr>\n",
              "    <tr>\n",
              "      <th>25%</th>\n",
              "      <td>NaN</td>\n",
              "      <td>0.750000</td>\n",
              "    </tr>\n",
              "    <tr>\n",
              "      <th>50%</th>\n",
              "      <td>NaN</td>\n",
              "      <td>1.500000</td>\n",
              "    </tr>\n",
              "    <tr>\n",
              "      <th>75%</th>\n",
              "      <td>NaN</td>\n",
              "      <td>2.250000</td>\n",
              "    </tr>\n",
              "    <tr>\n",
              "      <th>max</th>\n",
              "      <td>NaN</td>\n",
              "      <td>3.000000</td>\n",
              "    </tr>\n",
              "  </tbody>\n",
              "</table>\n",
              "</div>"
            ],
            "text/plain": [
              "          a         b\n",
              "count     4  4.000000\n",
              "unique    2       NaN\n",
              "top     Yes       NaN\n",
              "freq      2       NaN\n",
              "mean    NaN  1.500000\n",
              "std     NaN  1.290994\n",
              "min     NaN  0.000000\n",
              "25%     NaN  0.750000\n",
              "50%     NaN  1.500000\n",
              "75%     NaN  2.250000\n",
              "max     NaN  3.000000"
            ]
          },
          "metadata": {},
          "execution_count": 82
        }
      ]
    },
    {
      "cell_type": "code",
      "metadata": {
        "colab": {
          "base_uri": "https://localhost:8080/",
          "height": 387
        },
        "id": "YT0TBUo-a3VJ",
        "outputId": "dedaa32d-a936-4b83-bae2-2c9248906b4c"
      },
      "source": [
        "df.describe(include='all')"
      ],
      "execution_count": null,
      "outputs": [
        {
          "output_type": "execute_result",
          "data": {
            "text/html": [
              "<div>\n",
              "<style scoped>\n",
              "    .dataframe tbody tr th:only-of-type {\n",
              "        vertical-align: middle;\n",
              "    }\n",
              "\n",
              "    .dataframe tbody tr th {\n",
              "        vertical-align: top;\n",
              "    }\n",
              "\n",
              "    .dataframe thead th {\n",
              "        text-align: right;\n",
              "    }\n",
              "</style>\n",
              "<table border=\"1\" class=\"dataframe\">\n",
              "  <thead>\n",
              "    <tr style=\"text-align: right;\">\n",
              "      <th></th>\n",
              "      <th>a</th>\n",
              "      <th>b</th>\n",
              "    </tr>\n",
              "  </thead>\n",
              "  <tbody>\n",
              "    <tr>\n",
              "      <th>count</th>\n",
              "      <td>4</td>\n",
              "      <td>4.000000</td>\n",
              "    </tr>\n",
              "    <tr>\n",
              "      <th>unique</th>\n",
              "      <td>2</td>\n",
              "      <td>NaN</td>\n",
              "    </tr>\n",
              "    <tr>\n",
              "      <th>top</th>\n",
              "      <td>Yes</td>\n",
              "      <td>NaN</td>\n",
              "    </tr>\n",
              "    <tr>\n",
              "      <th>freq</th>\n",
              "      <td>2</td>\n",
              "      <td>NaN</td>\n",
              "    </tr>\n",
              "    <tr>\n",
              "      <th>mean</th>\n",
              "      <td>NaN</td>\n",
              "      <td>1.500000</td>\n",
              "    </tr>\n",
              "    <tr>\n",
              "      <th>std</th>\n",
              "      <td>NaN</td>\n",
              "      <td>1.290994</td>\n",
              "    </tr>\n",
              "    <tr>\n",
              "      <th>min</th>\n",
              "      <td>NaN</td>\n",
              "      <td>0.000000</td>\n",
              "    </tr>\n",
              "    <tr>\n",
              "      <th>25%</th>\n",
              "      <td>NaN</td>\n",
              "      <td>0.750000</td>\n",
              "    </tr>\n",
              "    <tr>\n",
              "      <th>50%</th>\n",
              "      <td>NaN</td>\n",
              "      <td>1.500000</td>\n",
              "    </tr>\n",
              "    <tr>\n",
              "      <th>75%</th>\n",
              "      <td>NaN</td>\n",
              "      <td>2.250000</td>\n",
              "    </tr>\n",
              "    <tr>\n",
              "      <th>max</th>\n",
              "      <td>NaN</td>\n",
              "      <td>3.000000</td>\n",
              "    </tr>\n",
              "  </tbody>\n",
              "</table>\n",
              "</div>"
            ],
            "text/plain": [
              "          a         b\n",
              "count     4  4.000000\n",
              "unique    2       NaN\n",
              "top     Yes       NaN\n",
              "freq      2       NaN\n",
              "mean    NaN  1.500000\n",
              "std     NaN  1.290994\n",
              "min     NaN  0.000000\n",
              "25%     NaN  0.750000\n",
              "50%     NaN  1.500000\n",
              "75%     NaN  2.250000\n",
              "max     NaN  3.000000"
            ]
          },
          "metadata": {},
          "execution_count": 83
        }
      ]
    },
    {
      "cell_type": "markdown",
      "metadata": {
        "id": "FmxMBYSybqoi"
      },
      "source": [
        "### Index of min and max"
      ]
    },
    {
      "cell_type": "code",
      "metadata": {
        "colab": {
          "base_uri": "https://localhost:8080/",
          "height": 202
        },
        "id": "tT1mxjqgbw21",
        "outputId": "39e28e62-bfa4-4384-e22a-6873c7aba67a"
      },
      "source": [
        "df = pd.DataFrame(np.random.randn(5, 3), columns=['A', 'B', 'C'])\n",
        "df"
      ],
      "execution_count": null,
      "outputs": [
        {
          "output_type": "execute_result",
          "data": {
            "text/html": [
              "<div>\n",
              "<style scoped>\n",
              "    .dataframe tbody tr th:only-of-type {\n",
              "        vertical-align: middle;\n",
              "    }\n",
              "\n",
              "    .dataframe tbody tr th {\n",
              "        vertical-align: top;\n",
              "    }\n",
              "\n",
              "    .dataframe thead th {\n",
              "        text-align: right;\n",
              "    }\n",
              "</style>\n",
              "<table border=\"1\" class=\"dataframe\">\n",
              "  <thead>\n",
              "    <tr style=\"text-align: right;\">\n",
              "      <th></th>\n",
              "      <th>A</th>\n",
              "      <th>B</th>\n",
              "      <th>C</th>\n",
              "    </tr>\n",
              "  </thead>\n",
              "  <tbody>\n",
              "    <tr>\n",
              "      <th>0</th>\n",
              "      <td>1.386288</td>\n",
              "      <td>0.255980</td>\n",
              "      <td>-1.213172</td>\n",
              "    </tr>\n",
              "    <tr>\n",
              "      <th>1</th>\n",
              "      <td>2.706388</td>\n",
              "      <td>-1.424325</td>\n",
              "      <td>0.686690</td>\n",
              "    </tr>\n",
              "    <tr>\n",
              "      <th>2</th>\n",
              "      <td>0.021572</td>\n",
              "      <td>0.808615</td>\n",
              "      <td>0.267555</td>\n",
              "    </tr>\n",
              "    <tr>\n",
              "      <th>3</th>\n",
              "      <td>0.198408</td>\n",
              "      <td>0.379626</td>\n",
              "      <td>1.262623</td>\n",
              "    </tr>\n",
              "    <tr>\n",
              "      <th>4</th>\n",
              "      <td>-0.716454</td>\n",
              "      <td>-0.661946</td>\n",
              "      <td>0.200897</td>\n",
              "    </tr>\n",
              "  </tbody>\n",
              "</table>\n",
              "</div>"
            ],
            "text/plain": [
              "          A         B         C\n",
              "0  1.386288  0.255980 -1.213172\n",
              "1  2.706388 -1.424325  0.686690\n",
              "2  0.021572  0.808615  0.267555\n",
              "3  0.198408  0.379626  1.262623\n",
              "4 -0.716454 -0.661946  0.200897"
            ]
          },
          "metadata": {},
          "execution_count": 84
        }
      ]
    },
    {
      "cell_type": "code",
      "metadata": {
        "colab": {
          "base_uri": "https://localhost:8080/"
        },
        "id": "GteYX34ub1au",
        "outputId": "2d7185f5-6603-40a3-f6d8-05f73fe9a7ed"
      },
      "source": [
        "# minimum index value\n",
        "df.idxmin()"
      ],
      "execution_count": null,
      "outputs": [
        {
          "output_type": "execute_result",
          "data": {
            "text/plain": [
              "A    4\n",
              "B    1\n",
              "C    0\n",
              "dtype: int64"
            ]
          },
          "metadata": {},
          "execution_count": 85
        }
      ]
    },
    {
      "cell_type": "code",
      "metadata": {
        "colab": {
          "base_uri": "https://localhost:8080/"
        },
        "id": "8IrKViYccOix",
        "outputId": "179ea5ae-5bba-4fc2-bcfc-bdbe70e8112d"
      },
      "source": [
        "# maximum index value\n",
        "df.idxmax()"
      ],
      "execution_count": null,
      "outputs": [
        {
          "output_type": "execute_result",
          "data": {
            "text/plain": [
              "A    1\n",
              "B    2\n",
              "C    3\n",
              "dtype: int64"
            ]
          },
          "metadata": {},
          "execution_count": 86
        }
      ]
    },
    {
      "cell_type": "code",
      "metadata": {
        "colab": {
          "base_uri": "https://localhost:8080/"
        },
        "id": "ZBW_8RhwdWN6",
        "outputId": "b4d16223-5318-498b-f000-fd15d18e079a"
      },
      "source": [
        "# minimum index value\n",
        "df.idxmin(1)"
      ],
      "execution_count": null,
      "outputs": [
        {
          "output_type": "execute_result",
          "data": {
            "text/plain": [
              "0    C\n",
              "1    B\n",
              "2    A\n",
              "3    A\n",
              "4    A\n",
              "dtype: object"
            ]
          },
          "metadata": {},
          "execution_count": 87
        }
      ]
    },
    {
      "cell_type": "code",
      "metadata": {
        "colab": {
          "base_uri": "https://localhost:8080/",
          "height": 202
        },
        "id": "nrK8yZsadXm5",
        "outputId": "c5f40016-ab34-4079-e109-2ed8724716d8"
      },
      "source": [
        "df"
      ],
      "execution_count": null,
      "outputs": [
        {
          "output_type": "execute_result",
          "data": {
            "text/html": [
              "<div>\n",
              "<style scoped>\n",
              "    .dataframe tbody tr th:only-of-type {\n",
              "        vertical-align: middle;\n",
              "    }\n",
              "\n",
              "    .dataframe tbody tr th {\n",
              "        vertical-align: top;\n",
              "    }\n",
              "\n",
              "    .dataframe thead th {\n",
              "        text-align: right;\n",
              "    }\n",
              "</style>\n",
              "<table border=\"1\" class=\"dataframe\">\n",
              "  <thead>\n",
              "    <tr style=\"text-align: right;\">\n",
              "      <th></th>\n",
              "      <th>A</th>\n",
              "      <th>B</th>\n",
              "      <th>C</th>\n",
              "    </tr>\n",
              "  </thead>\n",
              "  <tbody>\n",
              "    <tr>\n",
              "      <th>0</th>\n",
              "      <td>1.386288</td>\n",
              "      <td>0.255980</td>\n",
              "      <td>-1.213172</td>\n",
              "    </tr>\n",
              "    <tr>\n",
              "      <th>1</th>\n",
              "      <td>2.706388</td>\n",
              "      <td>-1.424325</td>\n",
              "      <td>0.686690</td>\n",
              "    </tr>\n",
              "    <tr>\n",
              "      <th>2</th>\n",
              "      <td>0.021572</td>\n",
              "      <td>0.808615</td>\n",
              "      <td>0.267555</td>\n",
              "    </tr>\n",
              "    <tr>\n",
              "      <th>3</th>\n",
              "      <td>0.198408</td>\n",
              "      <td>0.379626</td>\n",
              "      <td>1.262623</td>\n",
              "    </tr>\n",
              "    <tr>\n",
              "      <th>4</th>\n",
              "      <td>-0.716454</td>\n",
              "      <td>-0.661946</td>\n",
              "      <td>0.200897</td>\n",
              "    </tr>\n",
              "  </tbody>\n",
              "</table>\n",
              "</div>"
            ],
            "text/plain": [
              "          A         B         C\n",
              "0  1.386288  0.255980 -1.213172\n",
              "1  2.706388 -1.424325  0.686690\n",
              "2  0.021572  0.808615  0.267555\n",
              "3  0.198408  0.379626  1.262623\n",
              "4 -0.716454 -0.661946  0.200897"
            ]
          },
          "metadata": {},
          "execution_count": 88
        }
      ]
    },
    {
      "cell_type": "code",
      "metadata": {
        "colab": {
          "base_uri": "https://localhost:8080/",
          "height": 202
        },
        "id": "dEAaa8_wdbzp",
        "outputId": "4f71d3d8-016a-48b8-8b93-5f7f76794c4b"
      },
      "source": [
        "# multiple matching values\n",
        "df = pd.DataFrame([2, 1, 1, 3, np.nan], columns=['A'], index=list('edcba'))\n",
        "df"
      ],
      "execution_count": null,
      "outputs": [
        {
          "output_type": "execute_result",
          "data": {
            "text/html": [
              "<div>\n",
              "<style scoped>\n",
              "    .dataframe tbody tr th:only-of-type {\n",
              "        vertical-align: middle;\n",
              "    }\n",
              "\n",
              "    .dataframe tbody tr th {\n",
              "        vertical-align: top;\n",
              "    }\n",
              "\n",
              "    .dataframe thead th {\n",
              "        text-align: right;\n",
              "    }\n",
              "</style>\n",
              "<table border=\"1\" class=\"dataframe\">\n",
              "  <thead>\n",
              "    <tr style=\"text-align: right;\">\n",
              "      <th></th>\n",
              "      <th>A</th>\n",
              "    </tr>\n",
              "  </thead>\n",
              "  <tbody>\n",
              "    <tr>\n",
              "      <th>e</th>\n",
              "      <td>2.0</td>\n",
              "    </tr>\n",
              "    <tr>\n",
              "      <th>d</th>\n",
              "      <td>1.0</td>\n",
              "    </tr>\n",
              "    <tr>\n",
              "      <th>c</th>\n",
              "      <td>1.0</td>\n",
              "    </tr>\n",
              "    <tr>\n",
              "      <th>b</th>\n",
              "      <td>3.0</td>\n",
              "    </tr>\n",
              "    <tr>\n",
              "      <th>a</th>\n",
              "      <td>NaN</td>\n",
              "    </tr>\n",
              "  </tbody>\n",
              "</table>\n",
              "</div>"
            ],
            "text/plain": [
              "     A\n",
              "e  2.0\n",
              "d  1.0\n",
              "c  1.0\n",
              "b  3.0\n",
              "a  NaN"
            ]
          },
          "metadata": {},
          "execution_count": 89
        }
      ]
    },
    {
      "cell_type": "code",
      "metadata": {
        "colab": {
          "base_uri": "https://localhost:8080/",
          "height": 35
        },
        "id": "yIc2YGRFdmTK",
        "outputId": "d2ba0082-b819-43dd-ef73-c94c24598f63"
      },
      "source": [
        "df['A'].idxmin() # equivalent in NumPy argmin and argmax"
      ],
      "execution_count": null,
      "outputs": [
        {
          "output_type": "execute_result",
          "data": {
            "application/vnd.google.colaboratory.intrinsic+json": {
              "type": "string"
            },
            "text/plain": [
              "'d'"
            ]
          },
          "metadata": {},
          "execution_count": 91
        }
      ]
    },
    {
      "cell_type": "markdown",
      "metadata": {
        "id": "CARd0h7VeO-V"
      },
      "source": [
        "### value counts"
      ]
    },
    {
      "cell_type": "code",
      "metadata": {
        "colab": {
          "base_uri": "https://localhost:8080/"
        },
        "id": "6YjI4tKXd04Z",
        "outputId": "d13fd212-0e79-4b83-a1f2-0187dcb9a01d"
      },
      "source": [
        "#data = np.random.randint(0, 7, size=50)\n",
        "#data\n",
        "data = np.array([6, 3, 2, 6, 5, 6, 3, 1, 5, 5, 5, 1, 2, 3, 4, 2, 6, 3, \n",
        "5, 2, 0, 4, 0, 6, 1, 2, 6, 1, 3, 2, 0, 6, 1, 3, 4, 4, 1, 0, \n",
        "0, 5, 3, 4, 6, 4, 6, 6, 2, 4, 3, 1])\n",
        "data"
      ],
      "execution_count": null,
      "outputs": [
        {
          "output_type": "execute_result",
          "data": {
            "text/plain": [
              "array([6, 3, 2, 6, 5, 6, 3, 1, 5, 5, 5, 1, 2, 3, 4, 2, 6, 3, 5, 2, 0, 4,\n",
              "       0, 6, 1, 2, 6, 1, 3, 2, 0, 6, 1, 3, 4, 4, 1, 0, 0, 5, 3, 4, 6, 4,\n",
              "       6, 6, 2, 4, 3, 1])"
            ]
          },
          "metadata": {},
          "execution_count": 92
        }
      ]
    },
    {
      "cell_type": "code",
      "metadata": {
        "id": "6QFMZ4sZeVTl"
      },
      "source": [
        "s = pd.Series(data)\n",
        "s"
      ],
      "execution_count": null,
      "outputs": []
    },
    {
      "cell_type": "code",
      "metadata": {
        "id": "HxvmQxKxekKq"
      },
      "source": [
        "s.value_counts()"
      ],
      "execution_count": null,
      "outputs": []
    },
    {
      "cell_type": "code",
      "metadata": {
        "id": "p12GRkdHenbq"
      },
      "source": [
        "df = pd.DataFrame({\"A\": np.random.randint(0, 7, size=50),\"B\": np.random.randint(-10, 15, size=50)})\n",
        "df"
      ],
      "execution_count": null,
      "outputs": []
    },
    {
      "cell_type": "code",
      "metadata": {
        "id": "bleSMywPfZ88"
      },
      "source": [
        "df.mode()"
      ],
      "execution_count": null,
      "outputs": []
    },
    {
      "cell_type": "code",
      "metadata": {
        "id": "jQJKO4tnfd8a"
      },
      "source": [
        "df.median()"
      ],
      "execution_count": null,
      "outputs": []
    },
    {
      "cell_type": "code",
      "metadata": {
        "id": "gUDkmzl1fgzq"
      },
      "source": [
        "df.corr()"
      ],
      "execution_count": null,
      "outputs": []
    },
    {
      "cell_type": "markdown",
      "metadata": {
        "id": "Ko7jKSySvPTy"
      },
      "source": [
        "# Session 2\n",
        "\n",
        "# (Handling) Missing Data"
      ]
    },
    {
      "cell_type": "code",
      "metadata": {
        "colab": {
          "base_uri": "https://localhost:8080/",
          "height": 448
        },
        "id": "BFqv3L9uvUIG",
        "outputId": "8bb349d5-7592-4faa-a381-901e483fac83"
      },
      "source": [
        "df = pd.DataFrame({\n",
        "        'employee_name': ['Sam', 'Max', 'Tony', 'Sarah', 'Tania', 'David', 'Mark','Alice', 'Charles', 'Bob', 'Anna', np.nan, 'Tania'],\n",
        "        'employee_dept': ['Research',np.nan,'Marketing','Sales', 'Finance', 'IT', 'HR', 'Marketing', 'IT', np.nan,'Sales', np.nan, 'Finance'],\n",
        "        'employee_id' : [10001, 10002, np.nan, 10004, 10005, 10006, np.nan, 10008, 10009, 10010, 10011, np.nan, 10005],\n",
        "        'salary'     : [np.nan, 65343.45, 53423.27, np.nan, 58753.00, 34323.44, 66544.60, np.nan, 55234.96, 39078.60, 44567.88, np.nan, 58753.0 ]\n",
        "    })\n",
        "df"
      ],
      "execution_count": null,
      "outputs": [
        {
          "output_type": "execute_result",
          "data": {
            "text/html": [
              "<div>\n",
              "<style scoped>\n",
              "    .dataframe tbody tr th:only-of-type {\n",
              "        vertical-align: middle;\n",
              "    }\n",
              "\n",
              "    .dataframe tbody tr th {\n",
              "        vertical-align: top;\n",
              "    }\n",
              "\n",
              "    .dataframe thead th {\n",
              "        text-align: right;\n",
              "    }\n",
              "</style>\n",
              "<table border=\"1\" class=\"dataframe\">\n",
              "  <thead>\n",
              "    <tr style=\"text-align: right;\">\n",
              "      <th></th>\n",
              "      <th>employee_name</th>\n",
              "      <th>employee_dept</th>\n",
              "      <th>employee_id</th>\n",
              "      <th>salary</th>\n",
              "    </tr>\n",
              "  </thead>\n",
              "  <tbody>\n",
              "    <tr>\n",
              "      <th>0</th>\n",
              "      <td>Sam</td>\n",
              "      <td>Research</td>\n",
              "      <td>10001.0</td>\n",
              "      <td>NaN</td>\n",
              "    </tr>\n",
              "    <tr>\n",
              "      <th>1</th>\n",
              "      <td>Max</td>\n",
              "      <td>NaN</td>\n",
              "      <td>10002.0</td>\n",
              "      <td>65343.45</td>\n",
              "    </tr>\n",
              "    <tr>\n",
              "      <th>2</th>\n",
              "      <td>Tony</td>\n",
              "      <td>Marketing</td>\n",
              "      <td>NaN</td>\n",
              "      <td>53423.27</td>\n",
              "    </tr>\n",
              "    <tr>\n",
              "      <th>3</th>\n",
              "      <td>Sarah</td>\n",
              "      <td>Sales</td>\n",
              "      <td>10004.0</td>\n",
              "      <td>NaN</td>\n",
              "    </tr>\n",
              "    <tr>\n",
              "      <th>4</th>\n",
              "      <td>Tania</td>\n",
              "      <td>Finance</td>\n",
              "      <td>10005.0</td>\n",
              "      <td>58753.00</td>\n",
              "    </tr>\n",
              "    <tr>\n",
              "      <th>5</th>\n",
              "      <td>David</td>\n",
              "      <td>IT</td>\n",
              "      <td>10006.0</td>\n",
              "      <td>34323.44</td>\n",
              "    </tr>\n",
              "    <tr>\n",
              "      <th>6</th>\n",
              "      <td>Mark</td>\n",
              "      <td>HR</td>\n",
              "      <td>NaN</td>\n",
              "      <td>66544.60</td>\n",
              "    </tr>\n",
              "    <tr>\n",
              "      <th>7</th>\n",
              "      <td>Alice</td>\n",
              "      <td>Marketing</td>\n",
              "      <td>10008.0</td>\n",
              "      <td>NaN</td>\n",
              "    </tr>\n",
              "    <tr>\n",
              "      <th>8</th>\n",
              "      <td>Charles</td>\n",
              "      <td>IT</td>\n",
              "      <td>10009.0</td>\n",
              "      <td>55234.96</td>\n",
              "    </tr>\n",
              "    <tr>\n",
              "      <th>9</th>\n",
              "      <td>Bob</td>\n",
              "      <td>NaN</td>\n",
              "      <td>10010.0</td>\n",
              "      <td>39078.60</td>\n",
              "    </tr>\n",
              "    <tr>\n",
              "      <th>10</th>\n",
              "      <td>Anna</td>\n",
              "      <td>Sales</td>\n",
              "      <td>10011.0</td>\n",
              "      <td>44567.88</td>\n",
              "    </tr>\n",
              "    <tr>\n",
              "      <th>11</th>\n",
              "      <td>NaN</td>\n",
              "      <td>NaN</td>\n",
              "      <td>NaN</td>\n",
              "      <td>NaN</td>\n",
              "    </tr>\n",
              "    <tr>\n",
              "      <th>12</th>\n",
              "      <td>Tania</td>\n",
              "      <td>Finance</td>\n",
              "      <td>10005.0</td>\n",
              "      <td>58753.00</td>\n",
              "    </tr>\n",
              "  </tbody>\n",
              "</table>\n",
              "</div>"
            ],
            "text/plain": [
              "   employee_name employee_dept  employee_id    salary\n",
              "0            Sam      Research      10001.0       NaN\n",
              "1            Max           NaN      10002.0  65343.45\n",
              "2           Tony     Marketing          NaN  53423.27\n",
              "3          Sarah         Sales      10004.0       NaN\n",
              "4          Tania       Finance      10005.0  58753.00\n",
              "5          David            IT      10006.0  34323.44\n",
              "6           Mark            HR          NaN  66544.60\n",
              "7          Alice     Marketing      10008.0       NaN\n",
              "8        Charles            IT      10009.0  55234.96\n",
              "9            Bob           NaN      10010.0  39078.60\n",
              "10          Anna         Sales      10011.0  44567.88\n",
              "11           NaN           NaN          NaN       NaN\n",
              "12         Tania       Finance      10005.0  58753.00"
            ]
          },
          "metadata": {},
          "execution_count": 3
        }
      ]
    },
    {
      "cell_type": "code",
      "metadata": {
        "colab": {
          "base_uri": "https://localhost:8080/",
          "height": 294
        },
        "id": "c597UWA3w9Sd",
        "outputId": "3f12d8e6-fe2e-4d4c-bee0-04ebbebc7621"
      },
      "source": [
        "# to find data with NaN values\n",
        "df[df.isna().any(axis=1)]"
      ],
      "execution_count": null,
      "outputs": [
        {
          "output_type": "execute_result",
          "data": {
            "text/html": [
              "<div>\n",
              "<style scoped>\n",
              "    .dataframe tbody tr th:only-of-type {\n",
              "        vertical-align: middle;\n",
              "    }\n",
              "\n",
              "    .dataframe tbody tr th {\n",
              "        vertical-align: top;\n",
              "    }\n",
              "\n",
              "    .dataframe thead th {\n",
              "        text-align: right;\n",
              "    }\n",
              "</style>\n",
              "<table border=\"1\" class=\"dataframe\">\n",
              "  <thead>\n",
              "    <tr style=\"text-align: right;\">\n",
              "      <th></th>\n",
              "      <th>employee_name</th>\n",
              "      <th>employee_dept</th>\n",
              "      <th>employee_id</th>\n",
              "      <th>salary</th>\n",
              "    </tr>\n",
              "  </thead>\n",
              "  <tbody>\n",
              "    <tr>\n",
              "      <th>0</th>\n",
              "      <td>Sam</td>\n",
              "      <td>Research</td>\n",
              "      <td>10001.0</td>\n",
              "      <td>NaN</td>\n",
              "    </tr>\n",
              "    <tr>\n",
              "      <th>1</th>\n",
              "      <td>Max</td>\n",
              "      <td>NaN</td>\n",
              "      <td>10002.0</td>\n",
              "      <td>65343.45</td>\n",
              "    </tr>\n",
              "    <tr>\n",
              "      <th>2</th>\n",
              "      <td>Tony</td>\n",
              "      <td>Marketing</td>\n",
              "      <td>NaN</td>\n",
              "      <td>53423.27</td>\n",
              "    </tr>\n",
              "    <tr>\n",
              "      <th>3</th>\n",
              "      <td>Sarah</td>\n",
              "      <td>Sales</td>\n",
              "      <td>10004.0</td>\n",
              "      <td>NaN</td>\n",
              "    </tr>\n",
              "    <tr>\n",
              "      <th>6</th>\n",
              "      <td>Mark</td>\n",
              "      <td>HR</td>\n",
              "      <td>NaN</td>\n",
              "      <td>66544.60</td>\n",
              "    </tr>\n",
              "    <tr>\n",
              "      <th>7</th>\n",
              "      <td>Alice</td>\n",
              "      <td>Marketing</td>\n",
              "      <td>10008.0</td>\n",
              "      <td>NaN</td>\n",
              "    </tr>\n",
              "    <tr>\n",
              "      <th>9</th>\n",
              "      <td>Bob</td>\n",
              "      <td>NaN</td>\n",
              "      <td>10010.0</td>\n",
              "      <td>39078.60</td>\n",
              "    </tr>\n",
              "    <tr>\n",
              "      <th>11</th>\n",
              "      <td>NaN</td>\n",
              "      <td>NaN</td>\n",
              "      <td>NaN</td>\n",
              "      <td>NaN</td>\n",
              "    </tr>\n",
              "  </tbody>\n",
              "</table>\n",
              "</div>"
            ],
            "text/plain": [
              "   employee_name employee_dept  employee_id    salary\n",
              "0            Sam      Research      10001.0       NaN\n",
              "1            Max           NaN      10002.0  65343.45\n",
              "2           Tony     Marketing          NaN  53423.27\n",
              "3          Sarah         Sales      10004.0       NaN\n",
              "6           Mark            HR          NaN  66544.60\n",
              "7          Alice     Marketing      10008.0       NaN\n",
              "9            Bob           NaN      10010.0  39078.60\n",
              "11           NaN           NaN          NaN       NaN"
            ]
          },
          "metadata": {},
          "execution_count": 4
        }
      ]
    },
    {
      "cell_type": "code",
      "metadata": {
        "colab": {
          "base_uri": "https://localhost:8080/",
          "height": 336
        },
        "id": "VKVswPUoyCUu",
        "outputId": "f58c9f0d-1614-402a-c246-41a28923fec2"
      },
      "source": [
        "df[df.isna().any(axis=0)]"
      ],
      "execution_count": null,
      "outputs": [
        {
          "output_type": "stream",
          "name": "stderr",
          "text": [
            "/usr/local/lib/python3.7/dist-packages/ipykernel_launcher.py:1: UserWarning: Boolean Series key will be reindexed to match DataFrame index.\n",
            "  \"\"\"Entry point for launching an IPython kernel.\n"
          ]
        },
        {
          "output_type": "error",
          "ename": "IndexingError",
          "evalue": "ignored",
          "traceback": [
            "\u001b[0;31m---------------------------------------------------------------------------\u001b[0m",
            "\u001b[0;31mIndexingError\u001b[0m                             Traceback (most recent call last)",
            "\u001b[0;32m<ipython-input-7-afbee2c0c5d8>\u001b[0m in \u001b[0;36m<module>\u001b[0;34m()\u001b[0m\n\u001b[0;32m----> 1\u001b[0;31m \u001b[0mdf\u001b[0m\u001b[0;34m[\u001b[0m\u001b[0mdf\u001b[0m\u001b[0;34m.\u001b[0m\u001b[0misna\u001b[0m\u001b[0;34m(\u001b[0m\u001b[0;34m)\u001b[0m\u001b[0;34m.\u001b[0m\u001b[0many\u001b[0m\u001b[0;34m(\u001b[0m\u001b[0maxis\u001b[0m\u001b[0;34m=\u001b[0m\u001b[0;36m0\u001b[0m\u001b[0;34m)\u001b[0m\u001b[0;34m]\u001b[0m\u001b[0;34m\u001b[0m\u001b[0;34m\u001b[0m\u001b[0m\n\u001b[0m",
            "\u001b[0;32m/usr/local/lib/python3.7/dist-packages/pandas/core/frame.py\u001b[0m in \u001b[0;36m__getitem__\u001b[0;34m(self, key)\u001b[0m\n\u001b[1;32m   2895\u001b[0m         \u001b[0;31m# Do we have a (boolean) 1d indexer?\u001b[0m\u001b[0;34m\u001b[0m\u001b[0;34m\u001b[0m\u001b[0;34m\u001b[0m\u001b[0m\n\u001b[1;32m   2896\u001b[0m         \u001b[0;32mif\u001b[0m \u001b[0mcom\u001b[0m\u001b[0;34m.\u001b[0m\u001b[0mis_bool_indexer\u001b[0m\u001b[0;34m(\u001b[0m\u001b[0mkey\u001b[0m\u001b[0;34m)\u001b[0m\u001b[0;34m:\u001b[0m\u001b[0;34m\u001b[0m\u001b[0;34m\u001b[0m\u001b[0m\n\u001b[0;32m-> 2897\u001b[0;31m             \u001b[0;32mreturn\u001b[0m \u001b[0mself\u001b[0m\u001b[0;34m.\u001b[0m\u001b[0m_getitem_bool_array\u001b[0m\u001b[0;34m(\u001b[0m\u001b[0mkey\u001b[0m\u001b[0;34m)\u001b[0m\u001b[0;34m\u001b[0m\u001b[0;34m\u001b[0m\u001b[0m\n\u001b[0m\u001b[1;32m   2898\u001b[0m \u001b[0;34m\u001b[0m\u001b[0m\n\u001b[1;32m   2899\u001b[0m         \u001b[0;31m# We are left with two options: a single key, and a collection of keys,\u001b[0m\u001b[0;34m\u001b[0m\u001b[0;34m\u001b[0m\u001b[0;34m\u001b[0m\u001b[0m\n",
            "\u001b[0;32m/usr/local/lib/python3.7/dist-packages/pandas/core/frame.py\u001b[0m in \u001b[0;36m_getitem_bool_array\u001b[0;34m(self, key)\u001b[0m\n\u001b[1;32m   2947\u001b[0m         \u001b[0;31m# check_bool_indexer will throw exception if Series key cannot\u001b[0m\u001b[0;34m\u001b[0m\u001b[0;34m\u001b[0m\u001b[0;34m\u001b[0m\u001b[0m\n\u001b[1;32m   2948\u001b[0m         \u001b[0;31m# be reindexed to match DataFrame rows\u001b[0m\u001b[0;34m\u001b[0m\u001b[0;34m\u001b[0m\u001b[0;34m\u001b[0m\u001b[0m\n\u001b[0;32m-> 2949\u001b[0;31m         \u001b[0mkey\u001b[0m \u001b[0;34m=\u001b[0m \u001b[0mcheck_bool_indexer\u001b[0m\u001b[0;34m(\u001b[0m\u001b[0mself\u001b[0m\u001b[0;34m.\u001b[0m\u001b[0mindex\u001b[0m\u001b[0;34m,\u001b[0m \u001b[0mkey\u001b[0m\u001b[0;34m)\u001b[0m\u001b[0;34m\u001b[0m\u001b[0;34m\u001b[0m\u001b[0m\n\u001b[0m\u001b[1;32m   2950\u001b[0m         \u001b[0mindexer\u001b[0m \u001b[0;34m=\u001b[0m \u001b[0mkey\u001b[0m\u001b[0;34m.\u001b[0m\u001b[0mnonzero\u001b[0m\u001b[0;34m(\u001b[0m\u001b[0;34m)\u001b[0m\u001b[0;34m[\u001b[0m\u001b[0;36m0\u001b[0m\u001b[0;34m]\u001b[0m\u001b[0;34m\u001b[0m\u001b[0;34m\u001b[0m\u001b[0m\n\u001b[1;32m   2951\u001b[0m         \u001b[0;32mreturn\u001b[0m \u001b[0mself\u001b[0m\u001b[0;34m.\u001b[0m\u001b[0m_take_with_is_copy\u001b[0m\u001b[0;34m(\u001b[0m\u001b[0mindexer\u001b[0m\u001b[0;34m,\u001b[0m \u001b[0maxis\u001b[0m\u001b[0;34m=\u001b[0m\u001b[0;36m0\u001b[0m\u001b[0;34m)\u001b[0m\u001b[0;34m\u001b[0m\u001b[0;34m\u001b[0m\u001b[0m\n",
            "\u001b[0;32m/usr/local/lib/python3.7/dist-packages/pandas/core/indexing.py\u001b[0m in \u001b[0;36mcheck_bool_indexer\u001b[0;34m(index, key)\u001b[0m\n\u001b[1;32m   2181\u001b[0m         \u001b[0;32mif\u001b[0m \u001b[0mmask\u001b[0m\u001b[0;34m.\u001b[0m\u001b[0many\u001b[0m\u001b[0;34m(\u001b[0m\u001b[0;34m)\u001b[0m\u001b[0;34m:\u001b[0m\u001b[0;34m\u001b[0m\u001b[0;34m\u001b[0m\u001b[0m\n\u001b[1;32m   2182\u001b[0m             raise IndexingError(\n\u001b[0;32m-> 2183\u001b[0;31m                 \u001b[0;34m\"Unalignable boolean Series provided as \"\u001b[0m\u001b[0;34m\u001b[0m\u001b[0;34m\u001b[0m\u001b[0m\n\u001b[0m\u001b[1;32m   2184\u001b[0m                 \u001b[0;34m\"indexer (index of the boolean Series and of \"\u001b[0m\u001b[0;34m\u001b[0m\u001b[0;34m\u001b[0m\u001b[0m\n\u001b[1;32m   2185\u001b[0m                 \u001b[0;34m\"the indexed object do not match).\"\u001b[0m\u001b[0;34m\u001b[0m\u001b[0;34m\u001b[0m\u001b[0m\n",
            "\u001b[0;31mIndexingError\u001b[0m: Unalignable boolean Series provided as indexer (index of the boolean Series and of the indexed object do not match)."
          ]
        }
      ]
    },
    {
      "cell_type": "code",
      "metadata": {
        "colab": {
          "base_uri": "https://localhost:8080/"
        },
        "id": "yz8YKh1JyiYs",
        "outputId": "89f71ebe-7e7c-458a-b96a-7ccf85d2945e"
      },
      "source": [
        "df.isna().any(axis=0)"
      ],
      "execution_count": null,
      "outputs": [
        {
          "output_type": "execute_result",
          "data": {
            "text/plain": [
              "employee_name    True\n",
              "employee_dept    True\n",
              "employee_id      True\n",
              "salary           True\n",
              "dtype: bool"
            ]
          },
          "metadata": {},
          "execution_count": 8
        }
      ]
    },
    {
      "cell_type": "code",
      "metadata": {
        "colab": {
          "base_uri": "https://localhost:8080/"
        },
        "id": "f0vAEecEywyc",
        "outputId": "5e6c92de-4ab0-4154-ca41-2f6525161356"
      },
      "source": [
        "df.columns[df.isna().any(axis=0)]"
      ],
      "execution_count": null,
      "outputs": [
        {
          "output_type": "execute_result",
          "data": {
            "text/plain": [
              "Index(['employee_name', 'employee_dept', 'employee_id', 'salary'], dtype='object')"
            ]
          },
          "metadata": {},
          "execution_count": 9
        }
      ]
    },
    {
      "cell_type": "code",
      "metadata": {
        "colab": {
          "base_uri": "https://localhost:8080/",
          "height": 448
        },
        "id": "4_s73lbMy1ys",
        "outputId": "f86545d0-3a3f-4706-f28b-8f54dab9ca62"
      },
      "source": [
        "df.isna()"
      ],
      "execution_count": null,
      "outputs": [
        {
          "output_type": "execute_result",
          "data": {
            "text/html": [
              "<div>\n",
              "<style scoped>\n",
              "    .dataframe tbody tr th:only-of-type {\n",
              "        vertical-align: middle;\n",
              "    }\n",
              "\n",
              "    .dataframe tbody tr th {\n",
              "        vertical-align: top;\n",
              "    }\n",
              "\n",
              "    .dataframe thead th {\n",
              "        text-align: right;\n",
              "    }\n",
              "</style>\n",
              "<table border=\"1\" class=\"dataframe\">\n",
              "  <thead>\n",
              "    <tr style=\"text-align: right;\">\n",
              "      <th></th>\n",
              "      <th>employee_name</th>\n",
              "      <th>employee_dept</th>\n",
              "      <th>employee_id</th>\n",
              "      <th>salary</th>\n",
              "    </tr>\n",
              "  </thead>\n",
              "  <tbody>\n",
              "    <tr>\n",
              "      <th>0</th>\n",
              "      <td>False</td>\n",
              "      <td>False</td>\n",
              "      <td>False</td>\n",
              "      <td>True</td>\n",
              "    </tr>\n",
              "    <tr>\n",
              "      <th>1</th>\n",
              "      <td>False</td>\n",
              "      <td>True</td>\n",
              "      <td>False</td>\n",
              "      <td>False</td>\n",
              "    </tr>\n",
              "    <tr>\n",
              "      <th>2</th>\n",
              "      <td>False</td>\n",
              "      <td>False</td>\n",
              "      <td>True</td>\n",
              "      <td>False</td>\n",
              "    </tr>\n",
              "    <tr>\n",
              "      <th>3</th>\n",
              "      <td>False</td>\n",
              "      <td>False</td>\n",
              "      <td>False</td>\n",
              "      <td>True</td>\n",
              "    </tr>\n",
              "    <tr>\n",
              "      <th>4</th>\n",
              "      <td>False</td>\n",
              "      <td>False</td>\n",
              "      <td>False</td>\n",
              "      <td>False</td>\n",
              "    </tr>\n",
              "    <tr>\n",
              "      <th>5</th>\n",
              "      <td>False</td>\n",
              "      <td>False</td>\n",
              "      <td>False</td>\n",
              "      <td>False</td>\n",
              "    </tr>\n",
              "    <tr>\n",
              "      <th>6</th>\n",
              "      <td>False</td>\n",
              "      <td>False</td>\n",
              "      <td>True</td>\n",
              "      <td>False</td>\n",
              "    </tr>\n",
              "    <tr>\n",
              "      <th>7</th>\n",
              "      <td>False</td>\n",
              "      <td>False</td>\n",
              "      <td>False</td>\n",
              "      <td>True</td>\n",
              "    </tr>\n",
              "    <tr>\n",
              "      <th>8</th>\n",
              "      <td>False</td>\n",
              "      <td>False</td>\n",
              "      <td>False</td>\n",
              "      <td>False</td>\n",
              "    </tr>\n",
              "    <tr>\n",
              "      <th>9</th>\n",
              "      <td>False</td>\n",
              "      <td>True</td>\n",
              "      <td>False</td>\n",
              "      <td>False</td>\n",
              "    </tr>\n",
              "    <tr>\n",
              "      <th>10</th>\n",
              "      <td>False</td>\n",
              "      <td>False</td>\n",
              "      <td>False</td>\n",
              "      <td>False</td>\n",
              "    </tr>\n",
              "    <tr>\n",
              "      <th>11</th>\n",
              "      <td>True</td>\n",
              "      <td>True</td>\n",
              "      <td>True</td>\n",
              "      <td>True</td>\n",
              "    </tr>\n",
              "    <tr>\n",
              "      <th>12</th>\n",
              "      <td>False</td>\n",
              "      <td>False</td>\n",
              "      <td>False</td>\n",
              "      <td>False</td>\n",
              "    </tr>\n",
              "  </tbody>\n",
              "</table>\n",
              "</div>"
            ],
            "text/plain": [
              "    employee_name  employee_dept  employee_id  salary\n",
              "0           False          False        False    True\n",
              "1           False           True        False   False\n",
              "2           False          False         True   False\n",
              "3           False          False        False    True\n",
              "4           False          False        False   False\n",
              "5           False          False        False   False\n",
              "6           False          False         True   False\n",
              "7           False          False        False    True\n",
              "8           False          False        False   False\n",
              "9           False           True        False   False\n",
              "10          False          False        False   False\n",
              "11           True           True         True    True\n",
              "12          False          False        False   False"
            ]
          },
          "metadata": {},
          "execution_count": 10
        }
      ]
    },
    {
      "cell_type": "code",
      "metadata": {
        "colab": {
          "base_uri": "https://localhost:8080/"
        },
        "id": "pzzofBdly6M8",
        "outputId": "e42c4689-1642-473f-c68c-1a5bd4477aab"
      },
      "source": [
        "df.isna().any(axis=1)"
      ],
      "execution_count": null,
      "outputs": [
        {
          "output_type": "execute_result",
          "data": {
            "text/plain": [
              "0      True\n",
              "1      True\n",
              "2      True\n",
              "3      True\n",
              "4     False\n",
              "5     False\n",
              "6      True\n",
              "7      True\n",
              "8     False\n",
              "9      True\n",
              "10    False\n",
              "11     True\n",
              "12    False\n",
              "dtype: bool"
            ]
          },
          "metadata": {},
          "execution_count": 12
        }
      ]
    },
    {
      "cell_type": "code",
      "metadata": {
        "colab": {
          "base_uri": "https://localhost:8080/",
          "height": 448
        },
        "id": "mTpi4byHzRZv",
        "outputId": "5d69e9df-939d-4b79-ccdb-383851492a28"
      },
      "source": [
        "#df[df.isna()]"
      ],
      "execution_count": null,
      "outputs": [
        {
          "output_type": "execute_result",
          "data": {
            "text/html": [
              "<div>\n",
              "<style scoped>\n",
              "    .dataframe tbody tr th:only-of-type {\n",
              "        vertical-align: middle;\n",
              "    }\n",
              "\n",
              "    .dataframe tbody tr th {\n",
              "        vertical-align: top;\n",
              "    }\n",
              "\n",
              "    .dataframe thead th {\n",
              "        text-align: right;\n",
              "    }\n",
              "</style>\n",
              "<table border=\"1\" class=\"dataframe\">\n",
              "  <thead>\n",
              "    <tr style=\"text-align: right;\">\n",
              "      <th></th>\n",
              "      <th>employee_name</th>\n",
              "      <th>employee_dept</th>\n",
              "      <th>employee_id</th>\n",
              "      <th>salary</th>\n",
              "    </tr>\n",
              "  </thead>\n",
              "  <tbody>\n",
              "    <tr>\n",
              "      <th>0</th>\n",
              "      <td>NaN</td>\n",
              "      <td>NaN</td>\n",
              "      <td>NaN</td>\n",
              "      <td>NaN</td>\n",
              "    </tr>\n",
              "    <tr>\n",
              "      <th>1</th>\n",
              "      <td>NaN</td>\n",
              "      <td>NaN</td>\n",
              "      <td>NaN</td>\n",
              "      <td>NaN</td>\n",
              "    </tr>\n",
              "    <tr>\n",
              "      <th>2</th>\n",
              "      <td>NaN</td>\n",
              "      <td>NaN</td>\n",
              "      <td>NaN</td>\n",
              "      <td>NaN</td>\n",
              "    </tr>\n",
              "    <tr>\n",
              "      <th>3</th>\n",
              "      <td>NaN</td>\n",
              "      <td>NaN</td>\n",
              "      <td>NaN</td>\n",
              "      <td>NaN</td>\n",
              "    </tr>\n",
              "    <tr>\n",
              "      <th>4</th>\n",
              "      <td>NaN</td>\n",
              "      <td>NaN</td>\n",
              "      <td>NaN</td>\n",
              "      <td>NaN</td>\n",
              "    </tr>\n",
              "    <tr>\n",
              "      <th>5</th>\n",
              "      <td>NaN</td>\n",
              "      <td>NaN</td>\n",
              "      <td>NaN</td>\n",
              "      <td>NaN</td>\n",
              "    </tr>\n",
              "    <tr>\n",
              "      <th>6</th>\n",
              "      <td>NaN</td>\n",
              "      <td>NaN</td>\n",
              "      <td>NaN</td>\n",
              "      <td>NaN</td>\n",
              "    </tr>\n",
              "    <tr>\n",
              "      <th>7</th>\n",
              "      <td>NaN</td>\n",
              "      <td>NaN</td>\n",
              "      <td>NaN</td>\n",
              "      <td>NaN</td>\n",
              "    </tr>\n",
              "    <tr>\n",
              "      <th>8</th>\n",
              "      <td>NaN</td>\n",
              "      <td>NaN</td>\n",
              "      <td>NaN</td>\n",
              "      <td>NaN</td>\n",
              "    </tr>\n",
              "    <tr>\n",
              "      <th>9</th>\n",
              "      <td>NaN</td>\n",
              "      <td>NaN</td>\n",
              "      <td>NaN</td>\n",
              "      <td>NaN</td>\n",
              "    </tr>\n",
              "    <tr>\n",
              "      <th>10</th>\n",
              "      <td>NaN</td>\n",
              "      <td>NaN</td>\n",
              "      <td>NaN</td>\n",
              "      <td>NaN</td>\n",
              "    </tr>\n",
              "    <tr>\n",
              "      <th>11</th>\n",
              "      <td>NaN</td>\n",
              "      <td>NaN</td>\n",
              "      <td>NaN</td>\n",
              "      <td>NaN</td>\n",
              "    </tr>\n",
              "    <tr>\n",
              "      <th>12</th>\n",
              "      <td>NaN</td>\n",
              "      <td>NaN</td>\n",
              "      <td>NaN</td>\n",
              "      <td>NaN</td>\n",
              "    </tr>\n",
              "  </tbody>\n",
              "</table>\n",
              "</div>"
            ],
            "text/plain": [
              "   employee_name employee_dept  employee_id  salary\n",
              "0            NaN           NaN          NaN     NaN\n",
              "1            NaN           NaN          NaN     NaN\n",
              "2            NaN           NaN          NaN     NaN\n",
              "3            NaN           NaN          NaN     NaN\n",
              "4            NaN           NaN          NaN     NaN\n",
              "5            NaN           NaN          NaN     NaN\n",
              "6            NaN           NaN          NaN     NaN\n",
              "7            NaN           NaN          NaN     NaN\n",
              "8            NaN           NaN          NaN     NaN\n",
              "9            NaN           NaN          NaN     NaN\n",
              "10           NaN           NaN          NaN     NaN\n",
              "11           NaN           NaN          NaN     NaN\n",
              "12           NaN           NaN          NaN     NaN"
            ]
          },
          "metadata": {},
          "execution_count": 13
        }
      ]
    },
    {
      "cell_type": "code",
      "metadata": {
        "colab": {
          "base_uri": "https://localhost:8080/",
          "height": 448
        },
        "id": "R3aDrtQ8zgis",
        "outputId": "5c0d5621-28f7-41b7-a474-e6e13cf28a64"
      },
      "source": [
        "df.isna()"
      ],
      "execution_count": null,
      "outputs": [
        {
          "output_type": "execute_result",
          "data": {
            "text/html": [
              "<div>\n",
              "<style scoped>\n",
              "    .dataframe tbody tr th:only-of-type {\n",
              "        vertical-align: middle;\n",
              "    }\n",
              "\n",
              "    .dataframe tbody tr th {\n",
              "        vertical-align: top;\n",
              "    }\n",
              "\n",
              "    .dataframe thead th {\n",
              "        text-align: right;\n",
              "    }\n",
              "</style>\n",
              "<table border=\"1\" class=\"dataframe\">\n",
              "  <thead>\n",
              "    <tr style=\"text-align: right;\">\n",
              "      <th></th>\n",
              "      <th>employee_name</th>\n",
              "      <th>employee_dept</th>\n",
              "      <th>employee_id</th>\n",
              "      <th>salary</th>\n",
              "    </tr>\n",
              "  </thead>\n",
              "  <tbody>\n",
              "    <tr>\n",
              "      <th>0</th>\n",
              "      <td>False</td>\n",
              "      <td>False</td>\n",
              "      <td>False</td>\n",
              "      <td>True</td>\n",
              "    </tr>\n",
              "    <tr>\n",
              "      <th>1</th>\n",
              "      <td>False</td>\n",
              "      <td>True</td>\n",
              "      <td>False</td>\n",
              "      <td>False</td>\n",
              "    </tr>\n",
              "    <tr>\n",
              "      <th>2</th>\n",
              "      <td>False</td>\n",
              "      <td>False</td>\n",
              "      <td>True</td>\n",
              "      <td>False</td>\n",
              "    </tr>\n",
              "    <tr>\n",
              "      <th>3</th>\n",
              "      <td>False</td>\n",
              "      <td>False</td>\n",
              "      <td>False</td>\n",
              "      <td>True</td>\n",
              "    </tr>\n",
              "    <tr>\n",
              "      <th>4</th>\n",
              "      <td>False</td>\n",
              "      <td>False</td>\n",
              "      <td>False</td>\n",
              "      <td>False</td>\n",
              "    </tr>\n",
              "    <tr>\n",
              "      <th>5</th>\n",
              "      <td>False</td>\n",
              "      <td>False</td>\n",
              "      <td>False</td>\n",
              "      <td>False</td>\n",
              "    </tr>\n",
              "    <tr>\n",
              "      <th>6</th>\n",
              "      <td>False</td>\n",
              "      <td>False</td>\n",
              "      <td>True</td>\n",
              "      <td>False</td>\n",
              "    </tr>\n",
              "    <tr>\n",
              "      <th>7</th>\n",
              "      <td>False</td>\n",
              "      <td>False</td>\n",
              "      <td>False</td>\n",
              "      <td>True</td>\n",
              "    </tr>\n",
              "    <tr>\n",
              "      <th>8</th>\n",
              "      <td>False</td>\n",
              "      <td>False</td>\n",
              "      <td>False</td>\n",
              "      <td>False</td>\n",
              "    </tr>\n",
              "    <tr>\n",
              "      <th>9</th>\n",
              "      <td>False</td>\n",
              "      <td>True</td>\n",
              "      <td>False</td>\n",
              "      <td>False</td>\n",
              "    </tr>\n",
              "    <tr>\n",
              "      <th>10</th>\n",
              "      <td>False</td>\n",
              "      <td>False</td>\n",
              "      <td>False</td>\n",
              "      <td>False</td>\n",
              "    </tr>\n",
              "    <tr>\n",
              "      <th>11</th>\n",
              "      <td>True</td>\n",
              "      <td>True</td>\n",
              "      <td>True</td>\n",
              "      <td>True</td>\n",
              "    </tr>\n",
              "    <tr>\n",
              "      <th>12</th>\n",
              "      <td>False</td>\n",
              "      <td>False</td>\n",
              "      <td>False</td>\n",
              "      <td>False</td>\n",
              "    </tr>\n",
              "  </tbody>\n",
              "</table>\n",
              "</div>"
            ],
            "text/plain": [
              "    employee_name  employee_dept  employee_id  salary\n",
              "0           False          False        False    True\n",
              "1           False           True        False   False\n",
              "2           False          False         True   False\n",
              "3           False          False        False    True\n",
              "4           False          False        False   False\n",
              "5           False          False        False   False\n",
              "6           False          False         True   False\n",
              "7           False          False        False    True\n",
              "8           False          False        False   False\n",
              "9           False           True        False   False\n",
              "10          False          False        False   False\n",
              "11           True           True         True    True\n",
              "12          False          False        False   False"
            ]
          },
          "metadata": {},
          "execution_count": 15
        }
      ]
    },
    {
      "cell_type": "code",
      "metadata": {
        "colab": {
          "base_uri": "https://localhost:8080/",
          "height": 448
        },
        "id": "V7TiIhnz0Aq9",
        "outputId": "081efdbf-46fd-42eb-82b1-851e8cf103f0"
      },
      "source": [
        "df.isnull()"
      ],
      "execution_count": null,
      "outputs": [
        {
          "output_type": "execute_result",
          "data": {
            "text/html": [
              "<div>\n",
              "<style scoped>\n",
              "    .dataframe tbody tr th:only-of-type {\n",
              "        vertical-align: middle;\n",
              "    }\n",
              "\n",
              "    .dataframe tbody tr th {\n",
              "        vertical-align: top;\n",
              "    }\n",
              "\n",
              "    .dataframe thead th {\n",
              "        text-align: right;\n",
              "    }\n",
              "</style>\n",
              "<table border=\"1\" class=\"dataframe\">\n",
              "  <thead>\n",
              "    <tr style=\"text-align: right;\">\n",
              "      <th></th>\n",
              "      <th>employee_name</th>\n",
              "      <th>employee_dept</th>\n",
              "      <th>employee_id</th>\n",
              "      <th>salary</th>\n",
              "    </tr>\n",
              "  </thead>\n",
              "  <tbody>\n",
              "    <tr>\n",
              "      <th>0</th>\n",
              "      <td>False</td>\n",
              "      <td>False</td>\n",
              "      <td>False</td>\n",
              "      <td>True</td>\n",
              "    </tr>\n",
              "    <tr>\n",
              "      <th>1</th>\n",
              "      <td>False</td>\n",
              "      <td>True</td>\n",
              "      <td>False</td>\n",
              "      <td>False</td>\n",
              "    </tr>\n",
              "    <tr>\n",
              "      <th>2</th>\n",
              "      <td>False</td>\n",
              "      <td>False</td>\n",
              "      <td>True</td>\n",
              "      <td>False</td>\n",
              "    </tr>\n",
              "    <tr>\n",
              "      <th>3</th>\n",
              "      <td>False</td>\n",
              "      <td>False</td>\n",
              "      <td>False</td>\n",
              "      <td>True</td>\n",
              "    </tr>\n",
              "    <tr>\n",
              "      <th>4</th>\n",
              "      <td>False</td>\n",
              "      <td>False</td>\n",
              "      <td>False</td>\n",
              "      <td>False</td>\n",
              "    </tr>\n",
              "    <tr>\n",
              "      <th>5</th>\n",
              "      <td>False</td>\n",
              "      <td>False</td>\n",
              "      <td>False</td>\n",
              "      <td>False</td>\n",
              "    </tr>\n",
              "    <tr>\n",
              "      <th>6</th>\n",
              "      <td>False</td>\n",
              "      <td>False</td>\n",
              "      <td>True</td>\n",
              "      <td>False</td>\n",
              "    </tr>\n",
              "    <tr>\n",
              "      <th>7</th>\n",
              "      <td>False</td>\n",
              "      <td>False</td>\n",
              "      <td>False</td>\n",
              "      <td>True</td>\n",
              "    </tr>\n",
              "    <tr>\n",
              "      <th>8</th>\n",
              "      <td>False</td>\n",
              "      <td>False</td>\n",
              "      <td>False</td>\n",
              "      <td>False</td>\n",
              "    </tr>\n",
              "    <tr>\n",
              "      <th>9</th>\n",
              "      <td>False</td>\n",
              "      <td>True</td>\n",
              "      <td>False</td>\n",
              "      <td>False</td>\n",
              "    </tr>\n",
              "    <tr>\n",
              "      <th>10</th>\n",
              "      <td>False</td>\n",
              "      <td>False</td>\n",
              "      <td>False</td>\n",
              "      <td>False</td>\n",
              "    </tr>\n",
              "    <tr>\n",
              "      <th>11</th>\n",
              "      <td>True</td>\n",
              "      <td>True</td>\n",
              "      <td>True</td>\n",
              "      <td>True</td>\n",
              "    </tr>\n",
              "    <tr>\n",
              "      <th>12</th>\n",
              "      <td>False</td>\n",
              "      <td>False</td>\n",
              "      <td>False</td>\n",
              "      <td>False</td>\n",
              "    </tr>\n",
              "  </tbody>\n",
              "</table>\n",
              "</div>"
            ],
            "text/plain": [
              "    employee_name  employee_dept  employee_id  salary\n",
              "0           False          False        False    True\n",
              "1           False           True        False   False\n",
              "2           False          False         True   False\n",
              "3           False          False        False    True\n",
              "4           False          False        False   False\n",
              "5           False          False        False   False\n",
              "6           False          False         True   False\n",
              "7           False          False        False    True\n",
              "8           False          False        False   False\n",
              "9           False           True        False   False\n",
              "10          False          False        False   False\n",
              "11           True           True         True    True\n",
              "12          False          False        False   False"
            ]
          },
          "metadata": {},
          "execution_count": 16
        }
      ]
    },
    {
      "cell_type": "markdown",
      "metadata": {
        "id": "FjhdppUL0j31"
      },
      "source": [
        "## Inseting missing data"
      ]
    },
    {
      "cell_type": "code",
      "metadata": {
        "colab": {
          "base_uri": "https://localhost:8080/",
          "height": 448
        },
        "id": "LhvQ-TCF0jsV",
        "outputId": "abca4e7f-48fb-4930-f82f-421e201e1d1d"
      },
      "source": [
        "df.loc[9,'salary'] = None\n",
        "df"
      ],
      "execution_count": null,
      "outputs": [
        {
          "output_type": "execute_result",
          "data": {
            "text/html": [
              "<div>\n",
              "<style scoped>\n",
              "    .dataframe tbody tr th:only-of-type {\n",
              "        vertical-align: middle;\n",
              "    }\n",
              "\n",
              "    .dataframe tbody tr th {\n",
              "        vertical-align: top;\n",
              "    }\n",
              "\n",
              "    .dataframe thead th {\n",
              "        text-align: right;\n",
              "    }\n",
              "</style>\n",
              "<table border=\"1\" class=\"dataframe\">\n",
              "  <thead>\n",
              "    <tr style=\"text-align: right;\">\n",
              "      <th></th>\n",
              "      <th>employee_name</th>\n",
              "      <th>employee_dept</th>\n",
              "      <th>employee_id</th>\n",
              "      <th>salary</th>\n",
              "    </tr>\n",
              "  </thead>\n",
              "  <tbody>\n",
              "    <tr>\n",
              "      <th>0</th>\n",
              "      <td>Sam</td>\n",
              "      <td>Research</td>\n",
              "      <td>10001.0</td>\n",
              "      <td>NaN</td>\n",
              "    </tr>\n",
              "    <tr>\n",
              "      <th>1</th>\n",
              "      <td>Max</td>\n",
              "      <td>NaN</td>\n",
              "      <td>10002.0</td>\n",
              "      <td>65343.45</td>\n",
              "    </tr>\n",
              "    <tr>\n",
              "      <th>2</th>\n",
              "      <td>Tony</td>\n",
              "      <td>Marketing</td>\n",
              "      <td>NaN</td>\n",
              "      <td>53423.27</td>\n",
              "    </tr>\n",
              "    <tr>\n",
              "      <th>3</th>\n",
              "      <td>Sarah</td>\n",
              "      <td>Sales</td>\n",
              "      <td>10004.0</td>\n",
              "      <td>NaN</td>\n",
              "    </tr>\n",
              "    <tr>\n",
              "      <th>4</th>\n",
              "      <td>Tania</td>\n",
              "      <td>Finance</td>\n",
              "      <td>10005.0</td>\n",
              "      <td>58753.00</td>\n",
              "    </tr>\n",
              "    <tr>\n",
              "      <th>5</th>\n",
              "      <td>David</td>\n",
              "      <td>IT</td>\n",
              "      <td>10006.0</td>\n",
              "      <td>34323.44</td>\n",
              "    </tr>\n",
              "    <tr>\n",
              "      <th>6</th>\n",
              "      <td>Mark</td>\n",
              "      <td>HR</td>\n",
              "      <td>NaN</td>\n",
              "      <td>66544.60</td>\n",
              "    </tr>\n",
              "    <tr>\n",
              "      <th>7</th>\n",
              "      <td>Alice</td>\n",
              "      <td>Marketing</td>\n",
              "      <td>10008.0</td>\n",
              "      <td>NaN</td>\n",
              "    </tr>\n",
              "    <tr>\n",
              "      <th>8</th>\n",
              "      <td>Charles</td>\n",
              "      <td>IT</td>\n",
              "      <td>10009.0</td>\n",
              "      <td>55234.96</td>\n",
              "    </tr>\n",
              "    <tr>\n",
              "      <th>9</th>\n",
              "      <td>Bob</td>\n",
              "      <td>NaN</td>\n",
              "      <td>10010.0</td>\n",
              "      <td>NaN</td>\n",
              "    </tr>\n",
              "    <tr>\n",
              "      <th>10</th>\n",
              "      <td>Anna</td>\n",
              "      <td>Sales</td>\n",
              "      <td>10011.0</td>\n",
              "      <td>44567.88</td>\n",
              "    </tr>\n",
              "    <tr>\n",
              "      <th>11</th>\n",
              "      <td>NaN</td>\n",
              "      <td>NaN</td>\n",
              "      <td>NaN</td>\n",
              "      <td>NaN</td>\n",
              "    </tr>\n",
              "    <tr>\n",
              "      <th>12</th>\n",
              "      <td>Tania</td>\n",
              "      <td>Finance</td>\n",
              "      <td>10005.0</td>\n",
              "      <td>58753.00</td>\n",
              "    </tr>\n",
              "  </tbody>\n",
              "</table>\n",
              "</div>"
            ],
            "text/plain": [
              "   employee_name employee_dept  employee_id    salary\n",
              "0            Sam      Research      10001.0       NaN\n",
              "1            Max           NaN      10002.0  65343.45\n",
              "2           Tony     Marketing          NaN  53423.27\n",
              "3          Sarah         Sales      10004.0       NaN\n",
              "4          Tania       Finance      10005.0  58753.00\n",
              "5          David            IT      10006.0  34323.44\n",
              "6           Mark            HR          NaN  66544.60\n",
              "7          Alice     Marketing      10008.0       NaN\n",
              "8        Charles            IT      10009.0  55234.96\n",
              "9            Bob           NaN      10010.0       NaN\n",
              "10          Anna         Sales      10011.0  44567.88\n",
              "11           NaN           NaN          NaN       NaN\n",
              "12         Tania       Finance      10005.0  58753.00"
            ]
          },
          "metadata": {},
          "execution_count": 18
        }
      ]
    },
    {
      "cell_type": "code",
      "metadata": {
        "colab": {
          "base_uri": "https://localhost:8080/",
          "height": 448
        },
        "id": "FWkG7N9v0EBs",
        "outputId": "6925d2fc-499a-4fad-ecef-545c8e56917c"
      },
      "source": [
        "df_copy = df.copy()\n",
        "df_copy.loc[10,'employee_name'] = None\n",
        "df_copy"
      ],
      "execution_count": null,
      "outputs": [
        {
          "output_type": "execute_result",
          "data": {
            "text/html": [
              "<div>\n",
              "<style scoped>\n",
              "    .dataframe tbody tr th:only-of-type {\n",
              "        vertical-align: middle;\n",
              "    }\n",
              "\n",
              "    .dataframe tbody tr th {\n",
              "        vertical-align: top;\n",
              "    }\n",
              "\n",
              "    .dataframe thead th {\n",
              "        text-align: right;\n",
              "    }\n",
              "</style>\n",
              "<table border=\"1\" class=\"dataframe\">\n",
              "  <thead>\n",
              "    <tr style=\"text-align: right;\">\n",
              "      <th></th>\n",
              "      <th>employee_name</th>\n",
              "      <th>employee_dept</th>\n",
              "      <th>employee_id</th>\n",
              "      <th>salary</th>\n",
              "    </tr>\n",
              "  </thead>\n",
              "  <tbody>\n",
              "    <tr>\n",
              "      <th>0</th>\n",
              "      <td>Sam</td>\n",
              "      <td>Research</td>\n",
              "      <td>10001.0</td>\n",
              "      <td>NaN</td>\n",
              "    </tr>\n",
              "    <tr>\n",
              "      <th>1</th>\n",
              "      <td>Max</td>\n",
              "      <td>NaN</td>\n",
              "      <td>10002.0</td>\n",
              "      <td>65343.45</td>\n",
              "    </tr>\n",
              "    <tr>\n",
              "      <th>2</th>\n",
              "      <td>Tony</td>\n",
              "      <td>Marketing</td>\n",
              "      <td>NaN</td>\n",
              "      <td>53423.27</td>\n",
              "    </tr>\n",
              "    <tr>\n",
              "      <th>3</th>\n",
              "      <td>Sarah</td>\n",
              "      <td>Sales</td>\n",
              "      <td>10004.0</td>\n",
              "      <td>NaN</td>\n",
              "    </tr>\n",
              "    <tr>\n",
              "      <th>4</th>\n",
              "      <td>Tania</td>\n",
              "      <td>Finance</td>\n",
              "      <td>10005.0</td>\n",
              "      <td>58753.00</td>\n",
              "    </tr>\n",
              "    <tr>\n",
              "      <th>5</th>\n",
              "      <td>David</td>\n",
              "      <td>IT</td>\n",
              "      <td>10006.0</td>\n",
              "      <td>34323.44</td>\n",
              "    </tr>\n",
              "    <tr>\n",
              "      <th>6</th>\n",
              "      <td>Mark</td>\n",
              "      <td>HR</td>\n",
              "      <td>NaN</td>\n",
              "      <td>66544.60</td>\n",
              "    </tr>\n",
              "    <tr>\n",
              "      <th>7</th>\n",
              "      <td>Alice</td>\n",
              "      <td>Marketing</td>\n",
              "      <td>10008.0</td>\n",
              "      <td>NaN</td>\n",
              "    </tr>\n",
              "    <tr>\n",
              "      <th>8</th>\n",
              "      <td>Charles</td>\n",
              "      <td>IT</td>\n",
              "      <td>10009.0</td>\n",
              "      <td>55234.96</td>\n",
              "    </tr>\n",
              "    <tr>\n",
              "      <th>9</th>\n",
              "      <td>Bob</td>\n",
              "      <td>NaN</td>\n",
              "      <td>10010.0</td>\n",
              "      <td>NaN</td>\n",
              "    </tr>\n",
              "    <tr>\n",
              "      <th>10</th>\n",
              "      <td>None</td>\n",
              "      <td>Sales</td>\n",
              "      <td>10011.0</td>\n",
              "      <td>44567.88</td>\n",
              "    </tr>\n",
              "    <tr>\n",
              "      <th>11</th>\n",
              "      <td>NaN</td>\n",
              "      <td>NaN</td>\n",
              "      <td>NaN</td>\n",
              "      <td>NaN</td>\n",
              "    </tr>\n",
              "    <tr>\n",
              "      <th>12</th>\n",
              "      <td>Tania</td>\n",
              "      <td>Finance</td>\n",
              "      <td>10005.0</td>\n",
              "      <td>58753.00</td>\n",
              "    </tr>\n",
              "  </tbody>\n",
              "</table>\n",
              "</div>"
            ],
            "text/plain": [
              "   employee_name employee_dept  employee_id    salary\n",
              "0            Sam      Research      10001.0       NaN\n",
              "1            Max           NaN      10002.0  65343.45\n",
              "2           Tony     Marketing          NaN  53423.27\n",
              "3          Sarah         Sales      10004.0       NaN\n",
              "4          Tania       Finance      10005.0  58753.00\n",
              "5          David            IT      10006.0  34323.44\n",
              "6           Mark            HR          NaN  66544.60\n",
              "7          Alice     Marketing      10008.0       NaN\n",
              "8        Charles            IT      10009.0  55234.96\n",
              "9            Bob           NaN      10010.0       NaN\n",
              "10          None         Sales      10011.0  44567.88\n",
              "11           NaN           NaN          NaN       NaN\n",
              "12         Tania       Finance      10005.0  58753.00"
            ]
          },
          "metadata": {},
          "execution_count": 19
        }
      ]
    },
    {
      "cell_type": "markdown",
      "metadata": {
        "id": "3ttSRL0c1aLW"
      },
      "source": [
        "## Handling missing data"
      ]
    },
    {
      "cell_type": "code",
      "metadata": {
        "colab": {
          "base_uri": "https://localhost:8080/",
          "height": 202
        },
        "id": "yeB6JiFp1KA8",
        "outputId": "9e3955b9-ab3a-414f-ec24-5c270ebfdedd"
      },
      "source": [
        "df.dropna()"
      ],
      "execution_count": null,
      "outputs": [
        {
          "output_type": "execute_result",
          "data": {
            "text/html": [
              "<div>\n",
              "<style scoped>\n",
              "    .dataframe tbody tr th:only-of-type {\n",
              "        vertical-align: middle;\n",
              "    }\n",
              "\n",
              "    .dataframe tbody tr th {\n",
              "        vertical-align: top;\n",
              "    }\n",
              "\n",
              "    .dataframe thead th {\n",
              "        text-align: right;\n",
              "    }\n",
              "</style>\n",
              "<table border=\"1\" class=\"dataframe\">\n",
              "  <thead>\n",
              "    <tr style=\"text-align: right;\">\n",
              "      <th></th>\n",
              "      <th>employee_name</th>\n",
              "      <th>employee_dept</th>\n",
              "      <th>employee_id</th>\n",
              "      <th>salary</th>\n",
              "    </tr>\n",
              "  </thead>\n",
              "  <tbody>\n",
              "    <tr>\n",
              "      <th>4</th>\n",
              "      <td>Tania</td>\n",
              "      <td>Finance</td>\n",
              "      <td>10005.0</td>\n",
              "      <td>58753.00</td>\n",
              "    </tr>\n",
              "    <tr>\n",
              "      <th>5</th>\n",
              "      <td>David</td>\n",
              "      <td>IT</td>\n",
              "      <td>10006.0</td>\n",
              "      <td>34323.44</td>\n",
              "    </tr>\n",
              "    <tr>\n",
              "      <th>8</th>\n",
              "      <td>Charles</td>\n",
              "      <td>IT</td>\n",
              "      <td>10009.0</td>\n",
              "      <td>55234.96</td>\n",
              "    </tr>\n",
              "    <tr>\n",
              "      <th>10</th>\n",
              "      <td>Anna</td>\n",
              "      <td>Sales</td>\n",
              "      <td>10011.0</td>\n",
              "      <td>44567.88</td>\n",
              "    </tr>\n",
              "    <tr>\n",
              "      <th>12</th>\n",
              "      <td>Tania</td>\n",
              "      <td>Finance</td>\n",
              "      <td>10005.0</td>\n",
              "      <td>58753.00</td>\n",
              "    </tr>\n",
              "  </tbody>\n",
              "</table>\n",
              "</div>"
            ],
            "text/plain": [
              "   employee_name employee_dept  employee_id    salary\n",
              "4          Tania       Finance      10005.0  58753.00\n",
              "5          David            IT      10006.0  34323.44\n",
              "8        Charles            IT      10009.0  55234.96\n",
              "10          Anna         Sales      10011.0  44567.88\n",
              "12         Tania       Finance      10005.0  58753.00"
            ]
          },
          "metadata": {},
          "execution_count": 20
        }
      ]
    },
    {
      "cell_type": "code",
      "metadata": {
        "colab": {
          "base_uri": "https://localhost:8080/",
          "height": 172
        },
        "id": "oyeCWhkp1iDb",
        "outputId": "703e63c3-ec23-4fd1-eccf-9b1cc799babb"
      },
      "source": [
        "df_copy.dropna()"
      ],
      "execution_count": null,
      "outputs": [
        {
          "output_type": "execute_result",
          "data": {
            "text/html": [
              "<div>\n",
              "<style scoped>\n",
              "    .dataframe tbody tr th:only-of-type {\n",
              "        vertical-align: middle;\n",
              "    }\n",
              "\n",
              "    .dataframe tbody tr th {\n",
              "        vertical-align: top;\n",
              "    }\n",
              "\n",
              "    .dataframe thead th {\n",
              "        text-align: right;\n",
              "    }\n",
              "</style>\n",
              "<table border=\"1\" class=\"dataframe\">\n",
              "  <thead>\n",
              "    <tr style=\"text-align: right;\">\n",
              "      <th></th>\n",
              "      <th>employee_name</th>\n",
              "      <th>employee_dept</th>\n",
              "      <th>employee_id</th>\n",
              "      <th>salary</th>\n",
              "    </tr>\n",
              "  </thead>\n",
              "  <tbody>\n",
              "    <tr>\n",
              "      <th>4</th>\n",
              "      <td>Tania</td>\n",
              "      <td>Finance</td>\n",
              "      <td>10005.0</td>\n",
              "      <td>58753.00</td>\n",
              "    </tr>\n",
              "    <tr>\n",
              "      <th>5</th>\n",
              "      <td>David</td>\n",
              "      <td>IT</td>\n",
              "      <td>10006.0</td>\n",
              "      <td>34323.44</td>\n",
              "    </tr>\n",
              "    <tr>\n",
              "      <th>8</th>\n",
              "      <td>Charles</td>\n",
              "      <td>IT</td>\n",
              "      <td>10009.0</td>\n",
              "      <td>55234.96</td>\n",
              "    </tr>\n",
              "    <tr>\n",
              "      <th>12</th>\n",
              "      <td>Tania</td>\n",
              "      <td>Finance</td>\n",
              "      <td>10005.0</td>\n",
              "      <td>58753.00</td>\n",
              "    </tr>\n",
              "  </tbody>\n",
              "</table>\n",
              "</div>"
            ],
            "text/plain": [
              "   employee_name employee_dept  employee_id    salary\n",
              "4          Tania       Finance      10005.0  58753.00\n",
              "5          David            IT      10006.0  34323.44\n",
              "8        Charles            IT      10009.0  55234.96\n",
              "12         Tania       Finance      10005.0  58753.00"
            ]
          },
          "metadata": {},
          "execution_count": 21
        }
      ]
    },
    {
      "cell_type": "code",
      "metadata": {
        "colab": {
          "base_uri": "https://localhost:8080/",
          "height": 417
        },
        "id": "ITXLzEqo16s8",
        "outputId": "3ffbe32a-4630-4689-d4bd-c58d4879006b"
      },
      "source": [
        "df.dropna(how='all')"
      ],
      "execution_count": null,
      "outputs": [
        {
          "output_type": "execute_result",
          "data": {
            "text/html": [
              "<div>\n",
              "<style scoped>\n",
              "    .dataframe tbody tr th:only-of-type {\n",
              "        vertical-align: middle;\n",
              "    }\n",
              "\n",
              "    .dataframe tbody tr th {\n",
              "        vertical-align: top;\n",
              "    }\n",
              "\n",
              "    .dataframe thead th {\n",
              "        text-align: right;\n",
              "    }\n",
              "</style>\n",
              "<table border=\"1\" class=\"dataframe\">\n",
              "  <thead>\n",
              "    <tr style=\"text-align: right;\">\n",
              "      <th></th>\n",
              "      <th>employee_name</th>\n",
              "      <th>employee_dept</th>\n",
              "      <th>employee_id</th>\n",
              "      <th>salary</th>\n",
              "    </tr>\n",
              "  </thead>\n",
              "  <tbody>\n",
              "    <tr>\n",
              "      <th>0</th>\n",
              "      <td>Sam</td>\n",
              "      <td>Research</td>\n",
              "      <td>10001.0</td>\n",
              "      <td>NaN</td>\n",
              "    </tr>\n",
              "    <tr>\n",
              "      <th>1</th>\n",
              "      <td>Max</td>\n",
              "      <td>NaN</td>\n",
              "      <td>10002.0</td>\n",
              "      <td>65343.45</td>\n",
              "    </tr>\n",
              "    <tr>\n",
              "      <th>2</th>\n",
              "      <td>Tony</td>\n",
              "      <td>Marketing</td>\n",
              "      <td>NaN</td>\n",
              "      <td>53423.27</td>\n",
              "    </tr>\n",
              "    <tr>\n",
              "      <th>3</th>\n",
              "      <td>Sarah</td>\n",
              "      <td>Sales</td>\n",
              "      <td>10004.0</td>\n",
              "      <td>NaN</td>\n",
              "    </tr>\n",
              "    <tr>\n",
              "      <th>4</th>\n",
              "      <td>Tania</td>\n",
              "      <td>Finance</td>\n",
              "      <td>10005.0</td>\n",
              "      <td>58753.00</td>\n",
              "    </tr>\n",
              "    <tr>\n",
              "      <th>5</th>\n",
              "      <td>David</td>\n",
              "      <td>IT</td>\n",
              "      <td>10006.0</td>\n",
              "      <td>34323.44</td>\n",
              "    </tr>\n",
              "    <tr>\n",
              "      <th>6</th>\n",
              "      <td>Mark</td>\n",
              "      <td>HR</td>\n",
              "      <td>NaN</td>\n",
              "      <td>66544.60</td>\n",
              "    </tr>\n",
              "    <tr>\n",
              "      <th>7</th>\n",
              "      <td>Alice</td>\n",
              "      <td>Marketing</td>\n",
              "      <td>10008.0</td>\n",
              "      <td>NaN</td>\n",
              "    </tr>\n",
              "    <tr>\n",
              "      <th>8</th>\n",
              "      <td>Charles</td>\n",
              "      <td>IT</td>\n",
              "      <td>10009.0</td>\n",
              "      <td>55234.96</td>\n",
              "    </tr>\n",
              "    <tr>\n",
              "      <th>9</th>\n",
              "      <td>Bob</td>\n",
              "      <td>NaN</td>\n",
              "      <td>10010.0</td>\n",
              "      <td>NaN</td>\n",
              "    </tr>\n",
              "    <tr>\n",
              "      <th>10</th>\n",
              "      <td>Anna</td>\n",
              "      <td>Sales</td>\n",
              "      <td>10011.0</td>\n",
              "      <td>44567.88</td>\n",
              "    </tr>\n",
              "    <tr>\n",
              "      <th>12</th>\n",
              "      <td>Tania</td>\n",
              "      <td>Finance</td>\n",
              "      <td>10005.0</td>\n",
              "      <td>58753.00</td>\n",
              "    </tr>\n",
              "  </tbody>\n",
              "</table>\n",
              "</div>"
            ],
            "text/plain": [
              "   employee_name employee_dept  employee_id    salary\n",
              "0            Sam      Research      10001.0       NaN\n",
              "1            Max           NaN      10002.0  65343.45\n",
              "2           Tony     Marketing          NaN  53423.27\n",
              "3          Sarah         Sales      10004.0       NaN\n",
              "4          Tania       Finance      10005.0  58753.00\n",
              "5          David            IT      10006.0  34323.44\n",
              "6           Mark            HR          NaN  66544.60\n",
              "7          Alice     Marketing      10008.0       NaN\n",
              "8        Charles            IT      10009.0  55234.96\n",
              "9            Bob           NaN      10010.0       NaN\n",
              "10          Anna         Sales      10011.0  44567.88\n",
              "12         Tania       Finance      10005.0  58753.00"
            ]
          },
          "metadata": {},
          "execution_count": 22
        }
      ]
    },
    {
      "cell_type": "code",
      "metadata": {
        "colab": {
          "base_uri": "https://localhost:8080/",
          "height": 417
        },
        "id": "LVrRBnlr2TuM",
        "outputId": "ec9b1600-48ed-43ae-cca1-3d81c4aeb958"
      },
      "source": [
        "df.dropna(thresh=2)"
      ],
      "execution_count": null,
      "outputs": [
        {
          "output_type": "execute_result",
          "data": {
            "text/html": [
              "<div>\n",
              "<style scoped>\n",
              "    .dataframe tbody tr th:only-of-type {\n",
              "        vertical-align: middle;\n",
              "    }\n",
              "\n",
              "    .dataframe tbody tr th {\n",
              "        vertical-align: top;\n",
              "    }\n",
              "\n",
              "    .dataframe thead th {\n",
              "        text-align: right;\n",
              "    }\n",
              "</style>\n",
              "<table border=\"1\" class=\"dataframe\">\n",
              "  <thead>\n",
              "    <tr style=\"text-align: right;\">\n",
              "      <th></th>\n",
              "      <th>employee_name</th>\n",
              "      <th>employee_dept</th>\n",
              "      <th>employee_id</th>\n",
              "      <th>salary</th>\n",
              "    </tr>\n",
              "  </thead>\n",
              "  <tbody>\n",
              "    <tr>\n",
              "      <th>0</th>\n",
              "      <td>Sam</td>\n",
              "      <td>Research</td>\n",
              "      <td>10001.0</td>\n",
              "      <td>NaN</td>\n",
              "    </tr>\n",
              "    <tr>\n",
              "      <th>1</th>\n",
              "      <td>Max</td>\n",
              "      <td>NaN</td>\n",
              "      <td>10002.0</td>\n",
              "      <td>65343.45</td>\n",
              "    </tr>\n",
              "    <tr>\n",
              "      <th>2</th>\n",
              "      <td>Tony</td>\n",
              "      <td>Marketing</td>\n",
              "      <td>NaN</td>\n",
              "      <td>53423.27</td>\n",
              "    </tr>\n",
              "    <tr>\n",
              "      <th>3</th>\n",
              "      <td>Sarah</td>\n",
              "      <td>Sales</td>\n",
              "      <td>10004.0</td>\n",
              "      <td>NaN</td>\n",
              "    </tr>\n",
              "    <tr>\n",
              "      <th>4</th>\n",
              "      <td>Tania</td>\n",
              "      <td>Finance</td>\n",
              "      <td>10005.0</td>\n",
              "      <td>58753.00</td>\n",
              "    </tr>\n",
              "    <tr>\n",
              "      <th>5</th>\n",
              "      <td>David</td>\n",
              "      <td>IT</td>\n",
              "      <td>10006.0</td>\n",
              "      <td>34323.44</td>\n",
              "    </tr>\n",
              "    <tr>\n",
              "      <th>6</th>\n",
              "      <td>Mark</td>\n",
              "      <td>HR</td>\n",
              "      <td>NaN</td>\n",
              "      <td>66544.60</td>\n",
              "    </tr>\n",
              "    <tr>\n",
              "      <th>7</th>\n",
              "      <td>Alice</td>\n",
              "      <td>Marketing</td>\n",
              "      <td>10008.0</td>\n",
              "      <td>NaN</td>\n",
              "    </tr>\n",
              "    <tr>\n",
              "      <th>8</th>\n",
              "      <td>Charles</td>\n",
              "      <td>IT</td>\n",
              "      <td>10009.0</td>\n",
              "      <td>55234.96</td>\n",
              "    </tr>\n",
              "    <tr>\n",
              "      <th>9</th>\n",
              "      <td>Bob</td>\n",
              "      <td>NaN</td>\n",
              "      <td>10010.0</td>\n",
              "      <td>NaN</td>\n",
              "    </tr>\n",
              "    <tr>\n",
              "      <th>10</th>\n",
              "      <td>Anna</td>\n",
              "      <td>Sales</td>\n",
              "      <td>10011.0</td>\n",
              "      <td>44567.88</td>\n",
              "    </tr>\n",
              "    <tr>\n",
              "      <th>12</th>\n",
              "      <td>Tania</td>\n",
              "      <td>Finance</td>\n",
              "      <td>10005.0</td>\n",
              "      <td>58753.00</td>\n",
              "    </tr>\n",
              "  </tbody>\n",
              "</table>\n",
              "</div>"
            ],
            "text/plain": [
              "   employee_name employee_dept  employee_id    salary\n",
              "0            Sam      Research      10001.0       NaN\n",
              "1            Max           NaN      10002.0  65343.45\n",
              "2           Tony     Marketing          NaN  53423.27\n",
              "3          Sarah         Sales      10004.0       NaN\n",
              "4          Tania       Finance      10005.0  58753.00\n",
              "5          David            IT      10006.0  34323.44\n",
              "6           Mark            HR          NaN  66544.60\n",
              "7          Alice     Marketing      10008.0       NaN\n",
              "8        Charles            IT      10009.0  55234.96\n",
              "9            Bob           NaN      10010.0       NaN\n",
              "10          Anna         Sales      10011.0  44567.88\n",
              "12         Tania       Finance      10005.0  58753.00"
            ]
          },
          "metadata": {},
          "execution_count": 26
        }
      ]
    },
    {
      "cell_type": "markdown",
      "metadata": {
        "id": "ROHW73_s3rTn"
      },
      "source": [
        "## Filling in missing data with a value"
      ]
    },
    {
      "cell_type": "code",
      "metadata": {
        "colab": {
          "base_uri": "https://localhost:8080/",
          "height": 448
        },
        "id": "Ie55t4p63SIo",
        "outputId": "aa9c45d8-94fd-46dd-d934-9f13ee37dacd"
      },
      "source": [
        "df.fillna(value=5)"
      ],
      "execution_count": null,
      "outputs": [
        {
          "output_type": "execute_result",
          "data": {
            "text/html": [
              "<div>\n",
              "<style scoped>\n",
              "    .dataframe tbody tr th:only-of-type {\n",
              "        vertical-align: middle;\n",
              "    }\n",
              "\n",
              "    .dataframe tbody tr th {\n",
              "        vertical-align: top;\n",
              "    }\n",
              "\n",
              "    .dataframe thead th {\n",
              "        text-align: right;\n",
              "    }\n",
              "</style>\n",
              "<table border=\"1\" class=\"dataframe\">\n",
              "  <thead>\n",
              "    <tr style=\"text-align: right;\">\n",
              "      <th></th>\n",
              "      <th>employee_name</th>\n",
              "      <th>employee_dept</th>\n",
              "      <th>employee_id</th>\n",
              "      <th>salary</th>\n",
              "    </tr>\n",
              "  </thead>\n",
              "  <tbody>\n",
              "    <tr>\n",
              "      <th>0</th>\n",
              "      <td>Sam</td>\n",
              "      <td>Research</td>\n",
              "      <td>10001.0</td>\n",
              "      <td>5.00</td>\n",
              "    </tr>\n",
              "    <tr>\n",
              "      <th>1</th>\n",
              "      <td>Max</td>\n",
              "      <td>5</td>\n",
              "      <td>10002.0</td>\n",
              "      <td>65343.45</td>\n",
              "    </tr>\n",
              "    <tr>\n",
              "      <th>2</th>\n",
              "      <td>Tony</td>\n",
              "      <td>Marketing</td>\n",
              "      <td>5.0</td>\n",
              "      <td>53423.27</td>\n",
              "    </tr>\n",
              "    <tr>\n",
              "      <th>3</th>\n",
              "      <td>Sarah</td>\n",
              "      <td>Sales</td>\n",
              "      <td>10004.0</td>\n",
              "      <td>5.00</td>\n",
              "    </tr>\n",
              "    <tr>\n",
              "      <th>4</th>\n",
              "      <td>Tania</td>\n",
              "      <td>Finance</td>\n",
              "      <td>10005.0</td>\n",
              "      <td>58753.00</td>\n",
              "    </tr>\n",
              "    <tr>\n",
              "      <th>5</th>\n",
              "      <td>David</td>\n",
              "      <td>IT</td>\n",
              "      <td>10006.0</td>\n",
              "      <td>34323.44</td>\n",
              "    </tr>\n",
              "    <tr>\n",
              "      <th>6</th>\n",
              "      <td>Mark</td>\n",
              "      <td>HR</td>\n",
              "      <td>5.0</td>\n",
              "      <td>66544.60</td>\n",
              "    </tr>\n",
              "    <tr>\n",
              "      <th>7</th>\n",
              "      <td>Alice</td>\n",
              "      <td>Marketing</td>\n",
              "      <td>10008.0</td>\n",
              "      <td>5.00</td>\n",
              "    </tr>\n",
              "    <tr>\n",
              "      <th>8</th>\n",
              "      <td>Charles</td>\n",
              "      <td>IT</td>\n",
              "      <td>10009.0</td>\n",
              "      <td>55234.96</td>\n",
              "    </tr>\n",
              "    <tr>\n",
              "      <th>9</th>\n",
              "      <td>Bob</td>\n",
              "      <td>5</td>\n",
              "      <td>10010.0</td>\n",
              "      <td>5.00</td>\n",
              "    </tr>\n",
              "    <tr>\n",
              "      <th>10</th>\n",
              "      <td>Anna</td>\n",
              "      <td>Sales</td>\n",
              "      <td>10011.0</td>\n",
              "      <td>44567.88</td>\n",
              "    </tr>\n",
              "    <tr>\n",
              "      <th>11</th>\n",
              "      <td>5</td>\n",
              "      <td>5</td>\n",
              "      <td>5.0</td>\n",
              "      <td>5.00</td>\n",
              "    </tr>\n",
              "    <tr>\n",
              "      <th>12</th>\n",
              "      <td>Tania</td>\n",
              "      <td>Finance</td>\n",
              "      <td>10005.0</td>\n",
              "      <td>58753.00</td>\n",
              "    </tr>\n",
              "  </tbody>\n",
              "</table>\n",
              "</div>"
            ],
            "text/plain": [
              "   employee_name employee_dept  employee_id    salary\n",
              "0            Sam      Research      10001.0      5.00\n",
              "1            Max             5      10002.0  65343.45\n",
              "2           Tony     Marketing          5.0  53423.27\n",
              "3          Sarah         Sales      10004.0      5.00\n",
              "4          Tania       Finance      10005.0  58753.00\n",
              "5          David            IT      10006.0  34323.44\n",
              "6           Mark            HR          5.0  66544.60\n",
              "7          Alice     Marketing      10008.0      5.00\n",
              "8        Charles            IT      10009.0  55234.96\n",
              "9            Bob             5      10010.0      5.00\n",
              "10          Anna         Sales      10011.0  44567.88\n",
              "11             5             5          5.0      5.00\n",
              "12         Tania       Finance      10005.0  58753.00"
            ]
          },
          "metadata": {},
          "execution_count": 28
        }
      ]
    },
    {
      "cell_type": "markdown",
      "metadata": {
        "id": "D7wWnyH24W8D"
      },
      "source": [
        "# checking for duplicates"
      ]
    },
    {
      "cell_type": "code",
      "metadata": {
        "colab": {
          "base_uri": "https://localhost:8080/"
        },
        "id": "kTD_3Id830U9",
        "outputId": "59710867-6940-4a92-9683-204b7413c7fc"
      },
      "source": [
        "df.duplicated()"
      ],
      "execution_count": null,
      "outputs": [
        {
          "output_type": "execute_result",
          "data": {
            "text/plain": [
              "0     False\n",
              "1     False\n",
              "2     False\n",
              "3     False\n",
              "4     False\n",
              "5     False\n",
              "6     False\n",
              "7     False\n",
              "8     False\n",
              "9     False\n",
              "10    False\n",
              "11    False\n",
              "12     True\n",
              "dtype: bool"
            ]
          },
          "metadata": {},
          "execution_count": 29
        }
      ]
    },
    {
      "cell_type": "code",
      "metadata": {
        "colab": {
          "base_uri": "https://localhost:8080/",
          "height": 79
        },
        "id": "-r9oEDqk4eXt",
        "outputId": "368717ad-3c39-42d3-8f69-632e828ac20f"
      },
      "source": [
        "df[df.duplicated()]"
      ],
      "execution_count": null,
      "outputs": [
        {
          "output_type": "execute_result",
          "data": {
            "text/html": [
              "<div>\n",
              "<style scoped>\n",
              "    .dataframe tbody tr th:only-of-type {\n",
              "        vertical-align: middle;\n",
              "    }\n",
              "\n",
              "    .dataframe tbody tr th {\n",
              "        vertical-align: top;\n",
              "    }\n",
              "\n",
              "    .dataframe thead th {\n",
              "        text-align: right;\n",
              "    }\n",
              "</style>\n",
              "<table border=\"1\" class=\"dataframe\">\n",
              "  <thead>\n",
              "    <tr style=\"text-align: right;\">\n",
              "      <th></th>\n",
              "      <th>employee_name</th>\n",
              "      <th>employee_dept</th>\n",
              "      <th>employee_id</th>\n",
              "      <th>salary</th>\n",
              "    </tr>\n",
              "  </thead>\n",
              "  <tbody>\n",
              "    <tr>\n",
              "      <th>12</th>\n",
              "      <td>Tania</td>\n",
              "      <td>Finance</td>\n",
              "      <td>10005.0</td>\n",
              "      <td>58753.0</td>\n",
              "    </tr>\n",
              "  </tbody>\n",
              "</table>\n",
              "</div>"
            ],
            "text/plain": [
              "   employee_name employee_dept  employee_id   salary\n",
              "12         Tania       Finance      10005.0  58753.0"
            ]
          },
          "metadata": {},
          "execution_count": 30
        }
      ]
    },
    {
      "cell_type": "code",
      "metadata": {
        "colab": {
          "base_uri": "https://localhost:8080/",
          "height": 417
        },
        "id": "DRTJS4i14o-8",
        "outputId": "36df0ad8-8077-457b-c67f-dcfee62f3517"
      },
      "source": [
        "df.drop_duplicates()"
      ],
      "execution_count": null,
      "outputs": [
        {
          "output_type": "execute_result",
          "data": {
            "text/html": [
              "<div>\n",
              "<style scoped>\n",
              "    .dataframe tbody tr th:only-of-type {\n",
              "        vertical-align: middle;\n",
              "    }\n",
              "\n",
              "    .dataframe tbody tr th {\n",
              "        vertical-align: top;\n",
              "    }\n",
              "\n",
              "    .dataframe thead th {\n",
              "        text-align: right;\n",
              "    }\n",
              "</style>\n",
              "<table border=\"1\" class=\"dataframe\">\n",
              "  <thead>\n",
              "    <tr style=\"text-align: right;\">\n",
              "      <th></th>\n",
              "      <th>employee_name</th>\n",
              "      <th>employee_dept</th>\n",
              "      <th>employee_id</th>\n",
              "      <th>salary</th>\n",
              "    </tr>\n",
              "  </thead>\n",
              "  <tbody>\n",
              "    <tr>\n",
              "      <th>0</th>\n",
              "      <td>Sam</td>\n",
              "      <td>Research</td>\n",
              "      <td>10001.0</td>\n",
              "      <td>NaN</td>\n",
              "    </tr>\n",
              "    <tr>\n",
              "      <th>1</th>\n",
              "      <td>Max</td>\n",
              "      <td>NaN</td>\n",
              "      <td>10002.0</td>\n",
              "      <td>65343.45</td>\n",
              "    </tr>\n",
              "    <tr>\n",
              "      <th>2</th>\n",
              "      <td>Tony</td>\n",
              "      <td>Marketing</td>\n",
              "      <td>NaN</td>\n",
              "      <td>53423.27</td>\n",
              "    </tr>\n",
              "    <tr>\n",
              "      <th>3</th>\n",
              "      <td>Sarah</td>\n",
              "      <td>Sales</td>\n",
              "      <td>10004.0</td>\n",
              "      <td>NaN</td>\n",
              "    </tr>\n",
              "    <tr>\n",
              "      <th>4</th>\n",
              "      <td>Tania</td>\n",
              "      <td>Finance</td>\n",
              "      <td>10005.0</td>\n",
              "      <td>58753.00</td>\n",
              "    </tr>\n",
              "    <tr>\n",
              "      <th>5</th>\n",
              "      <td>David</td>\n",
              "      <td>IT</td>\n",
              "      <td>10006.0</td>\n",
              "      <td>34323.44</td>\n",
              "    </tr>\n",
              "    <tr>\n",
              "      <th>6</th>\n",
              "      <td>Mark</td>\n",
              "      <td>HR</td>\n",
              "      <td>NaN</td>\n",
              "      <td>66544.60</td>\n",
              "    </tr>\n",
              "    <tr>\n",
              "      <th>7</th>\n",
              "      <td>Alice</td>\n",
              "      <td>Marketing</td>\n",
              "      <td>10008.0</td>\n",
              "      <td>NaN</td>\n",
              "    </tr>\n",
              "    <tr>\n",
              "      <th>8</th>\n",
              "      <td>Charles</td>\n",
              "      <td>IT</td>\n",
              "      <td>10009.0</td>\n",
              "      <td>55234.96</td>\n",
              "    </tr>\n",
              "    <tr>\n",
              "      <th>9</th>\n",
              "      <td>Bob</td>\n",
              "      <td>NaN</td>\n",
              "      <td>10010.0</td>\n",
              "      <td>NaN</td>\n",
              "    </tr>\n",
              "    <tr>\n",
              "      <th>10</th>\n",
              "      <td>Anna</td>\n",
              "      <td>Sales</td>\n",
              "      <td>10011.0</td>\n",
              "      <td>44567.88</td>\n",
              "    </tr>\n",
              "    <tr>\n",
              "      <th>11</th>\n",
              "      <td>NaN</td>\n",
              "      <td>NaN</td>\n",
              "      <td>NaN</td>\n",
              "      <td>NaN</td>\n",
              "    </tr>\n",
              "  </tbody>\n",
              "</table>\n",
              "</div>"
            ],
            "text/plain": [
              "   employee_name employee_dept  employee_id    salary\n",
              "0            Sam      Research      10001.0       NaN\n",
              "1            Max           NaN      10002.0  65343.45\n",
              "2           Tony     Marketing          NaN  53423.27\n",
              "3          Sarah         Sales      10004.0       NaN\n",
              "4          Tania       Finance      10005.0  58753.00\n",
              "5          David            IT      10006.0  34323.44\n",
              "6           Mark            HR          NaN  66544.60\n",
              "7          Alice     Marketing      10008.0       NaN\n",
              "8        Charles            IT      10009.0  55234.96\n",
              "9            Bob           NaN      10010.0       NaN\n",
              "10          Anna         Sales      10011.0  44567.88\n",
              "11           NaN           NaN          NaN       NaN"
            ]
          },
          "metadata": {},
          "execution_count": 31
        }
      ]
    },
    {
      "cell_type": "code",
      "metadata": {
        "colab": {
          "base_uri": "https://localhost:8080/",
          "height": 448
        },
        "id": "XdBHFr7y496d",
        "outputId": "bf0af927-499a-41d1-be6c-bc92f8b9227b"
      },
      "source": [
        "df"
      ],
      "execution_count": null,
      "outputs": [
        {
          "output_type": "execute_result",
          "data": {
            "text/html": [
              "<div>\n",
              "<style scoped>\n",
              "    .dataframe tbody tr th:only-of-type {\n",
              "        vertical-align: middle;\n",
              "    }\n",
              "\n",
              "    .dataframe tbody tr th {\n",
              "        vertical-align: top;\n",
              "    }\n",
              "\n",
              "    .dataframe thead th {\n",
              "        text-align: right;\n",
              "    }\n",
              "</style>\n",
              "<table border=\"1\" class=\"dataframe\">\n",
              "  <thead>\n",
              "    <tr style=\"text-align: right;\">\n",
              "      <th></th>\n",
              "      <th>employee_name</th>\n",
              "      <th>employee_dept</th>\n",
              "      <th>employee_id</th>\n",
              "      <th>salary</th>\n",
              "    </tr>\n",
              "  </thead>\n",
              "  <tbody>\n",
              "    <tr>\n",
              "      <th>0</th>\n",
              "      <td>Sam</td>\n",
              "      <td>Research</td>\n",
              "      <td>10001.0</td>\n",
              "      <td>NaN</td>\n",
              "    </tr>\n",
              "    <tr>\n",
              "      <th>1</th>\n",
              "      <td>Max</td>\n",
              "      <td>NaN</td>\n",
              "      <td>10002.0</td>\n",
              "      <td>65343.45</td>\n",
              "    </tr>\n",
              "    <tr>\n",
              "      <th>2</th>\n",
              "      <td>Tony</td>\n",
              "      <td>Marketing</td>\n",
              "      <td>NaN</td>\n",
              "      <td>53423.27</td>\n",
              "    </tr>\n",
              "    <tr>\n",
              "      <th>3</th>\n",
              "      <td>Sarah</td>\n",
              "      <td>Sales</td>\n",
              "      <td>10004.0</td>\n",
              "      <td>NaN</td>\n",
              "    </tr>\n",
              "    <tr>\n",
              "      <th>4</th>\n",
              "      <td>Tania</td>\n",
              "      <td>Finance</td>\n",
              "      <td>10005.0</td>\n",
              "      <td>58753.00</td>\n",
              "    </tr>\n",
              "    <tr>\n",
              "      <th>5</th>\n",
              "      <td>David</td>\n",
              "      <td>IT</td>\n",
              "      <td>10006.0</td>\n",
              "      <td>34323.44</td>\n",
              "    </tr>\n",
              "    <tr>\n",
              "      <th>6</th>\n",
              "      <td>Mark</td>\n",
              "      <td>HR</td>\n",
              "      <td>NaN</td>\n",
              "      <td>66544.60</td>\n",
              "    </tr>\n",
              "    <tr>\n",
              "      <th>7</th>\n",
              "      <td>Alice</td>\n",
              "      <td>Marketing</td>\n",
              "      <td>10008.0</td>\n",
              "      <td>NaN</td>\n",
              "    </tr>\n",
              "    <tr>\n",
              "      <th>8</th>\n",
              "      <td>Charles</td>\n",
              "      <td>IT</td>\n",
              "      <td>10009.0</td>\n",
              "      <td>55234.96</td>\n",
              "    </tr>\n",
              "    <tr>\n",
              "      <th>9</th>\n",
              "      <td>Bob</td>\n",
              "      <td>NaN</td>\n",
              "      <td>10010.0</td>\n",
              "      <td>NaN</td>\n",
              "    </tr>\n",
              "    <tr>\n",
              "      <th>10</th>\n",
              "      <td>Anna</td>\n",
              "      <td>Sales</td>\n",
              "      <td>10011.0</td>\n",
              "      <td>44567.88</td>\n",
              "    </tr>\n",
              "    <tr>\n",
              "      <th>11</th>\n",
              "      <td>NaN</td>\n",
              "      <td>NaN</td>\n",
              "      <td>NaN</td>\n",
              "      <td>NaN</td>\n",
              "    </tr>\n",
              "    <tr>\n",
              "      <th>12</th>\n",
              "      <td>Tania</td>\n",
              "      <td>Finance</td>\n",
              "      <td>10005.0</td>\n",
              "      <td>58753.00</td>\n",
              "    </tr>\n",
              "  </tbody>\n",
              "</table>\n",
              "</div>"
            ],
            "text/plain": [
              "   employee_name employee_dept  employee_id    salary\n",
              "0            Sam      Research      10001.0       NaN\n",
              "1            Max           NaN      10002.0  65343.45\n",
              "2           Tony     Marketing          NaN  53423.27\n",
              "3          Sarah         Sales      10004.0       NaN\n",
              "4          Tania       Finance      10005.0  58753.00\n",
              "5          David            IT      10006.0  34323.44\n",
              "6           Mark            HR          NaN  66544.60\n",
              "7          Alice     Marketing      10008.0       NaN\n",
              "8        Charles            IT      10009.0  55234.96\n",
              "9            Bob           NaN      10010.0       NaN\n",
              "10          Anna         Sales      10011.0  44567.88\n",
              "11           NaN           NaN          NaN       NaN\n",
              "12         Tania       Finance      10005.0  58753.00"
            ]
          },
          "metadata": {},
          "execution_count": 33
        }
      ]
    },
    {
      "cell_type": "code",
      "metadata": {
        "id": "SlJAgm1X5av8"
      },
      "source": [
        ""
      ],
      "execution_count": null,
      "outputs": []
    }
  ]
}