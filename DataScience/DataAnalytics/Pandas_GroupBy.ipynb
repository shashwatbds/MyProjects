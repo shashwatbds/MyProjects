{
  "nbformat": 4,
  "nbformat_minor": 0,
  "metadata": {
    "colab": {
      "name": "Pandas - GroupBy.ipynb",
      "provenance": [],
      "collapsed_sections": []
    },
    "kernelspec": {
      "name": "python3",
      "display_name": "Python 3"
    },
    "language_info": {
      "name": "python"
    }
  },
  "cells": [
    {
      "cell_type": "code",
      "metadata": {
        "id": "_UMDiQF8J1k2"
      },
      "source": [
        "import numpy as np\n",
        "import pandas as pd"
      ],
      "execution_count": 1,
      "outputs": []
    },
    {
      "cell_type": "markdown",
      "metadata": {
        "id": "s-Xy_03r6iZz"
      },
      "source": [
        "# GroupBy\n",
        "\n",
        "By “group by” we are referring to a process involving one or more of the following steps:\n",
        "\n",
        ">* **Splitting** the data into groups based on some criteria.\n",
        ">* **Applying** a function to each group independently.\n",
        ">* **Combining** the results into a data structure.\n",
        "\n",
        "Out of these, the split step is the most straightforward. In fact, in many situations we may wish to split the data set into groups and do something with those groups. In the apply step, we might wish to do one of the following:\n",
        "\n",
        ">* **Aggregation**: compute a summary statistic (or statistics) for each group. Some examples:\n",
        ">>* Compute group sums or means.\n",
        ">>* Compute group sizes / counts.\n",
        "\n",
        ">* **Transformation**: perform some group-specific computations and return a like-indexed object. Some examples:\n",
        "\n",
        ">>* Standardize data (zscore) within a group.\n",
        ">>* Filling NAs within groups with a value derived from each group.\n",
        "\n",
        ">* **Filtration**: discard some groups, according to a group-wise computation that evaluates True or False. Some examples:\n",
        "\n",
        ">>* Discard data that belongs to groups with only a few members.\n",
        ">>* Filter out data based on the group sum or mean.\n",
        "\n",
        "Some combination of the above: GroupBy will examine the results of the apply step and try to return a sensibly combined result if it doesn’t fit into either of the above two categories.\n",
        "\n",
        "https://pandas.pydata.org/docs/user_guide/groupby.html\n",
        "\n"
      ]
    },
    {
      "cell_type": "code",
      "metadata": {
        "colab": {
          "base_uri": "https://localhost:8080/",
          "height": 390
        },
        "id": "cCy0xcsOKHZA",
        "outputId": "33798eb6-e9e1-4f89-ba4b-d245a28b9b13"
      },
      "source": [
        "# declare the employee_records dataframe\n",
        "df = pd.DataFrame({\n",
        "        'employee_name': ['Sam', 'Max', 'Tony', 'Sarah', 'Tania', 'David', 'Mark','Alice', 'Charles', 'Bob', 'Anna'],\n",
        "        'employee_dept': ['Research','HR','Marketing','Sales', 'Finance', 'IT', 'HR', 'Marketing', 'IT', 'Finance','Sales'],\n",
        "        'employee_id' : [10001, 10002, 10003, 10004, 10005, 10006, 10007, 10008, 10009, 10010, 10011],\n",
        "        'employee_salary' : [45034.88, 65343.45, 53423.27, 76422.34, 58753.00, 34323.44, 66544.60, 34354.66, 55234.96, 39078.60, 44567.88],\n",
        "        'employee_hobby' : ['Traveling','Reading','Sports','Reading', 'Traveling', 'Sports', 'Sports', 'Gardening', 'Sports', 'Traveling','Reading']\n",
        "    })\n",
        "df"
      ],
      "execution_count": 2,
      "outputs": [
        {
          "output_type": "execute_result",
          "data": {
            "text/html": [
              "<div>\n",
              "<style scoped>\n",
              "    .dataframe tbody tr th:only-of-type {\n",
              "        vertical-align: middle;\n",
              "    }\n",
              "\n",
              "    .dataframe tbody tr th {\n",
              "        vertical-align: top;\n",
              "    }\n",
              "\n",
              "    .dataframe thead th {\n",
              "        text-align: right;\n",
              "    }\n",
              "</style>\n",
              "<table border=\"1\" class=\"dataframe\">\n",
              "  <thead>\n",
              "    <tr style=\"text-align: right;\">\n",
              "      <th></th>\n",
              "      <th>employee_name</th>\n",
              "      <th>employee_dept</th>\n",
              "      <th>employee_id</th>\n",
              "      <th>employee_salary</th>\n",
              "      <th>employee_hobby</th>\n",
              "    </tr>\n",
              "  </thead>\n",
              "  <tbody>\n",
              "    <tr>\n",
              "      <th>0</th>\n",
              "      <td>Sam</td>\n",
              "      <td>Research</td>\n",
              "      <td>10001</td>\n",
              "      <td>45034.88</td>\n",
              "      <td>Traveling</td>\n",
              "    </tr>\n",
              "    <tr>\n",
              "      <th>1</th>\n",
              "      <td>Max</td>\n",
              "      <td>HR</td>\n",
              "      <td>10002</td>\n",
              "      <td>65343.45</td>\n",
              "      <td>Reading</td>\n",
              "    </tr>\n",
              "    <tr>\n",
              "      <th>2</th>\n",
              "      <td>Tony</td>\n",
              "      <td>Marketing</td>\n",
              "      <td>10003</td>\n",
              "      <td>53423.27</td>\n",
              "      <td>Sports</td>\n",
              "    </tr>\n",
              "    <tr>\n",
              "      <th>3</th>\n",
              "      <td>Sarah</td>\n",
              "      <td>Sales</td>\n",
              "      <td>10004</td>\n",
              "      <td>76422.34</td>\n",
              "      <td>Reading</td>\n",
              "    </tr>\n",
              "    <tr>\n",
              "      <th>4</th>\n",
              "      <td>Tania</td>\n",
              "      <td>Finance</td>\n",
              "      <td>10005</td>\n",
              "      <td>58753.00</td>\n",
              "      <td>Traveling</td>\n",
              "    </tr>\n",
              "    <tr>\n",
              "      <th>5</th>\n",
              "      <td>David</td>\n",
              "      <td>IT</td>\n",
              "      <td>10006</td>\n",
              "      <td>34323.44</td>\n",
              "      <td>Sports</td>\n",
              "    </tr>\n",
              "    <tr>\n",
              "      <th>6</th>\n",
              "      <td>Mark</td>\n",
              "      <td>HR</td>\n",
              "      <td>10007</td>\n",
              "      <td>66544.60</td>\n",
              "      <td>Sports</td>\n",
              "    </tr>\n",
              "    <tr>\n",
              "      <th>7</th>\n",
              "      <td>Alice</td>\n",
              "      <td>Marketing</td>\n",
              "      <td>10008</td>\n",
              "      <td>34354.66</td>\n",
              "      <td>Gardening</td>\n",
              "    </tr>\n",
              "    <tr>\n",
              "      <th>8</th>\n",
              "      <td>Charles</td>\n",
              "      <td>IT</td>\n",
              "      <td>10009</td>\n",
              "      <td>55234.96</td>\n",
              "      <td>Sports</td>\n",
              "    </tr>\n",
              "    <tr>\n",
              "      <th>9</th>\n",
              "      <td>Bob</td>\n",
              "      <td>Finance</td>\n",
              "      <td>10010</td>\n",
              "      <td>39078.60</td>\n",
              "      <td>Traveling</td>\n",
              "    </tr>\n",
              "    <tr>\n",
              "      <th>10</th>\n",
              "      <td>Anna</td>\n",
              "      <td>Sales</td>\n",
              "      <td>10011</td>\n",
              "      <td>44567.88</td>\n",
              "      <td>Reading</td>\n",
              "    </tr>\n",
              "  </tbody>\n",
              "</table>\n",
              "</div>"
            ],
            "text/plain": [
              "   employee_name employee_dept  employee_id  employee_salary employee_hobby\n",
              "0            Sam      Research        10001         45034.88      Traveling\n",
              "1            Max            HR        10002         65343.45        Reading\n",
              "2           Tony     Marketing        10003         53423.27         Sports\n",
              "3          Sarah         Sales        10004         76422.34        Reading\n",
              "4          Tania       Finance        10005         58753.00      Traveling\n",
              "5          David            IT        10006         34323.44         Sports\n",
              "6           Mark            HR        10007         66544.60         Sports\n",
              "7          Alice     Marketing        10008         34354.66      Gardening\n",
              "8        Charles            IT        10009         55234.96         Sports\n",
              "9            Bob       Finance        10010         39078.60      Traveling\n",
              "10          Anna         Sales        10011         44567.88        Reading"
            ]
          },
          "metadata": {},
          "execution_count": 2
        }
      ]
    },
    {
      "cell_type": "code",
      "metadata": {
        "colab": {
          "base_uri": "https://localhost:8080/"
        },
        "id": "jAui1xFDMrdQ",
        "outputId": "3b126eb4-0396-449f-cfa5-4a578952f697"
      },
      "source": [
        "# groupby a single column\n",
        "df.groupby('employee_dept').groups"
      ],
      "execution_count": 3,
      "outputs": [
        {
          "output_type": "execute_result",
          "data": {
            "text/plain": [
              "{'Finance': [4, 9], 'HR': [1, 6], 'IT': [5, 8], 'Marketing': [2, 7], 'Research': [0], 'Sales': [3, 10]}"
            ]
          },
          "metadata": {},
          "execution_count": 3
        }
      ]
    },
    {
      "cell_type": "code",
      "metadata": {
        "colab": {
          "base_uri": "https://localhost:8080/"
        },
        "id": "2vgKd6asNXfQ",
        "outputId": "980ebbda-e16e-4e61-cdf7-195cb9dc0099"
      },
      "source": [
        "# groupby using multiple columns\n",
        "df_gb = df.groupby(['employee_dept','employee_hobby']).groups\n",
        "df_gb"
      ],
      "execution_count": 4,
      "outputs": [
        {
          "output_type": "execute_result",
          "data": {
            "text/plain": [
              "{('Finance', 'Traveling'): [4, 9], ('HR', 'Reading'): [1], ('HR', 'Sports'): [6], ('IT', 'Sports'): [5, 8], ('Marketing', 'Gardening'): [7], ('Marketing', 'Sports'): [2], ('Research', 'Traveling'): [0], ('Sales', 'Reading'): [3, 10]}"
            ]
          },
          "metadata": {},
          "execution_count": 4
        }
      ]
    },
    {
      "cell_type": "code",
      "metadata": {
        "colab": {
          "base_uri": "https://localhost:8080/"
        },
        "id": "bZd4rOrmN7ig",
        "outputId": "0b0e8045-00e8-4aad-a37b-70add386b1af"
      },
      "source": [
        "#print(df_gb)\n",
        "from pprint import pprint\n",
        "pprint(df_gb)"
      ],
      "execution_count": 5,
      "outputs": [
        {
          "output_type": "stream",
          "name": "stdout",
          "text": [
            "{('Finance', 'Traveling'): Int64Index([4, 9], dtype='int64'),\n",
            " ('HR', 'Reading'): Int64Index([1], dtype='int64'),\n",
            " ('HR', 'Sports'): Int64Index([6], dtype='int64'),\n",
            " ('IT', 'Sports'): Int64Index([5, 8], dtype='int64'),\n",
            " ('Marketing', 'Gardening'): Int64Index([7], dtype='int64'),\n",
            " ('Marketing', 'Sports'): Int64Index([2], dtype='int64'),\n",
            " ('Research', 'Traveling'): Int64Index([0], dtype='int64'),\n",
            " ('Sales', 'Reading'): Int64Index([3, 10], dtype='int64')}\n"
          ]
        }
      ]
    },
    {
      "cell_type": "code",
      "metadata": {
        "colab": {
          "base_uri": "https://localhost:8080/"
        },
        "id": "9_uCd48pObwe",
        "outputId": "f5c066fd-9559-4d16-e511-87ff5c44fea8"
      },
      "source": [
        "df_gb[('Finance', 'Traveling')]"
      ],
      "execution_count": 6,
      "outputs": [
        {
          "output_type": "execute_result",
          "data": {
            "text/plain": [
              "Int64Index([4, 9], dtype='int64')"
            ]
          },
          "metadata": {},
          "execution_count": 6
        }
      ]
    },
    {
      "cell_type": "code",
      "metadata": {
        "id": "aE1h0E3sOukv"
      },
      "source": [
        "df_gb = df.groupby('employee_dept')"
      ],
      "execution_count": 7,
      "outputs": []
    },
    {
      "cell_type": "code",
      "metadata": {
        "colab": {
          "base_uri": "https://localhost:8080/",
          "height": 111
        },
        "id": "--1n5HjtPbNx",
        "outputId": "0cb993fe-c235-45e2-97eb-1df5e69fb703"
      },
      "source": [
        "df_gb.get_group('IT')"
      ],
      "execution_count": 8,
      "outputs": [
        {
          "output_type": "execute_result",
          "data": {
            "text/html": [
              "<div>\n",
              "<style scoped>\n",
              "    .dataframe tbody tr th:only-of-type {\n",
              "        vertical-align: middle;\n",
              "    }\n",
              "\n",
              "    .dataframe tbody tr th {\n",
              "        vertical-align: top;\n",
              "    }\n",
              "\n",
              "    .dataframe thead th {\n",
              "        text-align: right;\n",
              "    }\n",
              "</style>\n",
              "<table border=\"1\" class=\"dataframe\">\n",
              "  <thead>\n",
              "    <tr style=\"text-align: right;\">\n",
              "      <th></th>\n",
              "      <th>employee_name</th>\n",
              "      <th>employee_dept</th>\n",
              "      <th>employee_id</th>\n",
              "      <th>employee_salary</th>\n",
              "      <th>employee_hobby</th>\n",
              "    </tr>\n",
              "  </thead>\n",
              "  <tbody>\n",
              "    <tr>\n",
              "      <th>5</th>\n",
              "      <td>David</td>\n",
              "      <td>IT</td>\n",
              "      <td>10006</td>\n",
              "      <td>34323.44</td>\n",
              "      <td>Sports</td>\n",
              "    </tr>\n",
              "    <tr>\n",
              "      <th>8</th>\n",
              "      <td>Charles</td>\n",
              "      <td>IT</td>\n",
              "      <td>10009</td>\n",
              "      <td>55234.96</td>\n",
              "      <td>Sports</td>\n",
              "    </tr>\n",
              "  </tbody>\n",
              "</table>\n",
              "</div>"
            ],
            "text/plain": [
              "  employee_name employee_dept  employee_id  employee_salary employee_hobby\n",
              "5         David            IT        10006         34323.44         Sports\n",
              "8       Charles            IT        10009         55234.96         Sports"
            ]
          },
          "metadata": {},
          "execution_count": 8
        }
      ]
    },
    {
      "cell_type": "code",
      "metadata": {
        "colab": {
          "base_uri": "https://localhost:8080/",
          "height": 111
        },
        "id": "GjeA-HYoPd2e",
        "outputId": "2ac48636-f085-4b82-bf4f-cabe8e954083"
      },
      "source": [
        "df_gb = df.groupby(['employee_dept','employee_hobby'])\n",
        "df_gb.get_group(('Finance', 'Traveling'))"
      ],
      "execution_count": 9,
      "outputs": [
        {
          "output_type": "execute_result",
          "data": {
            "text/html": [
              "<div>\n",
              "<style scoped>\n",
              "    .dataframe tbody tr th:only-of-type {\n",
              "        vertical-align: middle;\n",
              "    }\n",
              "\n",
              "    .dataframe tbody tr th {\n",
              "        vertical-align: top;\n",
              "    }\n",
              "\n",
              "    .dataframe thead th {\n",
              "        text-align: right;\n",
              "    }\n",
              "</style>\n",
              "<table border=\"1\" class=\"dataframe\">\n",
              "  <thead>\n",
              "    <tr style=\"text-align: right;\">\n",
              "      <th></th>\n",
              "      <th>employee_name</th>\n",
              "      <th>employee_dept</th>\n",
              "      <th>employee_id</th>\n",
              "      <th>employee_salary</th>\n",
              "      <th>employee_hobby</th>\n",
              "    </tr>\n",
              "  </thead>\n",
              "  <tbody>\n",
              "    <tr>\n",
              "      <th>4</th>\n",
              "      <td>Tania</td>\n",
              "      <td>Finance</td>\n",
              "      <td>10005</td>\n",
              "      <td>58753.0</td>\n",
              "      <td>Traveling</td>\n",
              "    </tr>\n",
              "    <tr>\n",
              "      <th>9</th>\n",
              "      <td>Bob</td>\n",
              "      <td>Finance</td>\n",
              "      <td>10010</td>\n",
              "      <td>39078.6</td>\n",
              "      <td>Traveling</td>\n",
              "    </tr>\n",
              "  </tbody>\n",
              "</table>\n",
              "</div>"
            ],
            "text/plain": [
              "  employee_name employee_dept  employee_id  employee_salary employee_hobby\n",
              "4         Tania       Finance        10005          58753.0      Traveling\n",
              "9           Bob       Finance        10010          39078.6      Traveling"
            ]
          },
          "metadata": {},
          "execution_count": 9
        }
      ]
    },
    {
      "cell_type": "code",
      "metadata": {
        "colab": {
          "base_uri": "https://localhost:8080/",
          "height": 390
        },
        "id": "NcJjbj4MRBtr",
        "outputId": "85c10888-f5e1-4a6a-baf9-b487bca8dec6"
      },
      "source": [
        "df"
      ],
      "execution_count": 10,
      "outputs": [
        {
          "output_type": "execute_result",
          "data": {
            "text/html": [
              "<div>\n",
              "<style scoped>\n",
              "    .dataframe tbody tr th:only-of-type {\n",
              "        vertical-align: middle;\n",
              "    }\n",
              "\n",
              "    .dataframe tbody tr th {\n",
              "        vertical-align: top;\n",
              "    }\n",
              "\n",
              "    .dataframe thead th {\n",
              "        text-align: right;\n",
              "    }\n",
              "</style>\n",
              "<table border=\"1\" class=\"dataframe\">\n",
              "  <thead>\n",
              "    <tr style=\"text-align: right;\">\n",
              "      <th></th>\n",
              "      <th>employee_name</th>\n",
              "      <th>employee_dept</th>\n",
              "      <th>employee_id</th>\n",
              "      <th>employee_salary</th>\n",
              "      <th>employee_hobby</th>\n",
              "    </tr>\n",
              "  </thead>\n",
              "  <tbody>\n",
              "    <tr>\n",
              "      <th>0</th>\n",
              "      <td>Sam</td>\n",
              "      <td>Research</td>\n",
              "      <td>10001</td>\n",
              "      <td>45034.88</td>\n",
              "      <td>Traveling</td>\n",
              "    </tr>\n",
              "    <tr>\n",
              "      <th>1</th>\n",
              "      <td>Max</td>\n",
              "      <td>HR</td>\n",
              "      <td>10002</td>\n",
              "      <td>65343.45</td>\n",
              "      <td>Reading</td>\n",
              "    </tr>\n",
              "    <tr>\n",
              "      <th>2</th>\n",
              "      <td>Tony</td>\n",
              "      <td>Marketing</td>\n",
              "      <td>10003</td>\n",
              "      <td>53423.27</td>\n",
              "      <td>Sports</td>\n",
              "    </tr>\n",
              "    <tr>\n",
              "      <th>3</th>\n",
              "      <td>Sarah</td>\n",
              "      <td>Sales</td>\n",
              "      <td>10004</td>\n",
              "      <td>76422.34</td>\n",
              "      <td>Reading</td>\n",
              "    </tr>\n",
              "    <tr>\n",
              "      <th>4</th>\n",
              "      <td>Tania</td>\n",
              "      <td>Finance</td>\n",
              "      <td>10005</td>\n",
              "      <td>58753.00</td>\n",
              "      <td>Traveling</td>\n",
              "    </tr>\n",
              "    <tr>\n",
              "      <th>5</th>\n",
              "      <td>David</td>\n",
              "      <td>IT</td>\n",
              "      <td>10006</td>\n",
              "      <td>34323.44</td>\n",
              "      <td>Sports</td>\n",
              "    </tr>\n",
              "    <tr>\n",
              "      <th>6</th>\n",
              "      <td>Mark</td>\n",
              "      <td>HR</td>\n",
              "      <td>10007</td>\n",
              "      <td>66544.60</td>\n",
              "      <td>Sports</td>\n",
              "    </tr>\n",
              "    <tr>\n",
              "      <th>7</th>\n",
              "      <td>Alice</td>\n",
              "      <td>Marketing</td>\n",
              "      <td>10008</td>\n",
              "      <td>34354.66</td>\n",
              "      <td>Gardening</td>\n",
              "    </tr>\n",
              "    <tr>\n",
              "      <th>8</th>\n",
              "      <td>Charles</td>\n",
              "      <td>IT</td>\n",
              "      <td>10009</td>\n",
              "      <td>55234.96</td>\n",
              "      <td>Sports</td>\n",
              "    </tr>\n",
              "    <tr>\n",
              "      <th>9</th>\n",
              "      <td>Bob</td>\n",
              "      <td>Finance</td>\n",
              "      <td>10010</td>\n",
              "      <td>39078.60</td>\n",
              "      <td>Traveling</td>\n",
              "    </tr>\n",
              "    <tr>\n",
              "      <th>10</th>\n",
              "      <td>Anna</td>\n",
              "      <td>Sales</td>\n",
              "      <td>10011</td>\n",
              "      <td>44567.88</td>\n",
              "      <td>Reading</td>\n",
              "    </tr>\n",
              "  </tbody>\n",
              "</table>\n",
              "</div>"
            ],
            "text/plain": [
              "   employee_name employee_dept  employee_id  employee_salary employee_hobby\n",
              "0            Sam      Research        10001         45034.88      Traveling\n",
              "1            Max            HR        10002         65343.45        Reading\n",
              "2           Tony     Marketing        10003         53423.27         Sports\n",
              "3          Sarah         Sales        10004         76422.34        Reading\n",
              "4          Tania       Finance        10005         58753.00      Traveling\n",
              "5          David            IT        10006         34323.44         Sports\n",
              "6           Mark            HR        10007         66544.60         Sports\n",
              "7          Alice     Marketing        10008         34354.66      Gardening\n",
              "8        Charles            IT        10009         55234.96         Sports\n",
              "9            Bob       Finance        10010         39078.60      Traveling\n",
              "10          Anna         Sales        10011         44567.88        Reading"
            ]
          },
          "metadata": {},
          "execution_count": 10
        }
      ]
    },
    {
      "cell_type": "code",
      "metadata": {
        "colab": {
          "base_uri": "https://localhost:8080/"
        },
        "id": "BZHWxeVkP0NA",
        "outputId": "62d962f0-2c97-49d4-b36f-3bbbfa23f35b"
      },
      "source": [
        "df_gb = df.groupby('employee_dept')\n",
        "df_gb"
      ],
      "execution_count": 11,
      "outputs": [
        {
          "output_type": "execute_result",
          "data": {
            "text/plain": [
              "<pandas.core.groupby.generic.DataFrameGroupBy object at 0x7fbd362bf390>"
            ]
          },
          "metadata": {},
          "execution_count": 11
        }
      ]
    },
    {
      "cell_type": "markdown",
      "metadata": {
        "id": "hA2xs13yQSyo"
      },
      "source": [
        "### Aggretations"
      ]
    },
    {
      "cell_type": "code",
      "metadata": {
        "colab": {
          "base_uri": "https://localhost:8080/"
        },
        "id": "1yFkUiUuQBze",
        "outputId": "02e39bf7-c31f-451b-bb6d-92b726972906"
      },
      "source": [
        "# average salary per department\n",
        "# using the groups created above \n",
        "df_gb['employee_salary'].agg(np.mean)"
      ],
      "execution_count": 12,
      "outputs": [
        {
          "output_type": "execute_result",
          "data": {
            "text/plain": [
              "employee_dept\n",
              "Finance      48915.800\n",
              "HR           65944.025\n",
              "IT           44779.200\n",
              "Marketing    43888.965\n",
              "Research     45034.880\n",
              "Sales        60495.110\n",
              "Name: employee_salary, dtype: float64"
            ]
          },
          "metadata": {},
          "execution_count": 12
        }
      ]
    },
    {
      "cell_type": "code",
      "metadata": {
        "colab": {
          "base_uri": "https://localhost:8080/",
          "height": 266
        },
        "id": "coaVYStVQdCg",
        "outputId": "e869558e-4554-4a40-d66f-f11685f4a23a"
      },
      "source": [
        "df_gb['employee_salary'].agg([np.mean, np.sum, np.std])"
      ],
      "execution_count": 13,
      "outputs": [
        {
          "output_type": "execute_result",
          "data": {
            "text/html": [
              "<div>\n",
              "<style scoped>\n",
              "    .dataframe tbody tr th:only-of-type {\n",
              "        vertical-align: middle;\n",
              "    }\n",
              "\n",
              "    .dataframe tbody tr th {\n",
              "        vertical-align: top;\n",
              "    }\n",
              "\n",
              "    .dataframe thead th {\n",
              "        text-align: right;\n",
              "    }\n",
              "</style>\n",
              "<table border=\"1\" class=\"dataframe\">\n",
              "  <thead>\n",
              "    <tr style=\"text-align: right;\">\n",
              "      <th></th>\n",
              "      <th>mean</th>\n",
              "      <th>sum</th>\n",
              "      <th>std</th>\n",
              "    </tr>\n",
              "    <tr>\n",
              "      <th>employee_dept</th>\n",
              "      <th></th>\n",
              "      <th></th>\n",
              "      <th></th>\n",
              "    </tr>\n",
              "  </thead>\n",
              "  <tbody>\n",
              "    <tr>\n",
              "      <th>Finance</th>\n",
              "      <td>48915.800</td>\n",
              "      <td>97831.60</td>\n",
              "      <td>13911.901656</td>\n",
              "    </tr>\n",
              "    <tr>\n",
              "      <th>HR</th>\n",
              "      <td>65944.025</td>\n",
              "      <td>131888.05</td>\n",
              "      <td>849.341310</td>\n",
              "    </tr>\n",
              "    <tr>\n",
              "      <th>IT</th>\n",
              "      <td>44779.200</td>\n",
              "      <td>89558.40</td>\n",
              "      <td>14786.677597</td>\n",
              "    </tr>\n",
              "    <tr>\n",
              "      <th>Marketing</th>\n",
              "      <td>43888.965</td>\n",
              "      <td>87777.93</td>\n",
              "      <td>13483.543439</td>\n",
              "    </tr>\n",
              "    <tr>\n",
              "      <th>Research</th>\n",
              "      <td>45034.880</td>\n",
              "      <td>45034.88</td>\n",
              "      <td>NaN</td>\n",
              "    </tr>\n",
              "    <tr>\n",
              "      <th>Sales</th>\n",
              "      <td>60495.110</td>\n",
              "      <td>120990.22</td>\n",
              "      <td>22524.504677</td>\n",
              "    </tr>\n",
              "  </tbody>\n",
              "</table>\n",
              "</div>"
            ],
            "text/plain": [
              "                    mean        sum           std\n",
              "employee_dept                                    \n",
              "Finance        48915.800   97831.60  13911.901656\n",
              "HR             65944.025  131888.05    849.341310\n",
              "IT             44779.200   89558.40  14786.677597\n",
              "Marketing      43888.965   87777.93  13483.543439\n",
              "Research       45034.880   45034.88           NaN\n",
              "Sales          60495.110  120990.22  22524.504677"
            ]
          },
          "metadata": {},
          "execution_count": 13
        }
      ]
    },
    {
      "cell_type": "code",
      "metadata": {
        "colab": {
          "base_uri": "https://localhost:8080/"
        },
        "id": "IsWHhUeFRqdi",
        "outputId": "00ea01e2-e0ca-4132-d57d-b558ac3fb13c"
      },
      "source": [
        "# iterate through the values\n",
        "name_vals = []\n",
        "for name,group in df_gb:\n",
        "  print(name)\n",
        "  name_vals.append(name)\n",
        "  # name_vals = [name_vals name] # MATLAB code\n",
        "  print(group,'\\n')\n",
        "print(name_vals)"
      ],
      "execution_count": 14,
      "outputs": [
        {
          "output_type": "stream",
          "name": "stdout",
          "text": [
            "Finance\n",
            "  employee_name employee_dept  employee_id  employee_salary employee_hobby\n",
            "4         Tania       Finance        10005          58753.0      Traveling\n",
            "9           Bob       Finance        10010          39078.6      Traveling \n",
            "\n",
            "HR\n",
            "  employee_name employee_dept  employee_id  employee_salary employee_hobby\n",
            "1           Max            HR        10002         65343.45        Reading\n",
            "6          Mark            HR        10007         66544.60         Sports \n",
            "\n",
            "IT\n",
            "  employee_name employee_dept  employee_id  employee_salary employee_hobby\n",
            "5         David            IT        10006         34323.44         Sports\n",
            "8       Charles            IT        10009         55234.96         Sports \n",
            "\n",
            "Marketing\n",
            "  employee_name employee_dept  employee_id  employee_salary employee_hobby\n",
            "2          Tony     Marketing        10003         53423.27         Sports\n",
            "7         Alice     Marketing        10008         34354.66      Gardening \n",
            "\n",
            "Research\n",
            "  employee_name employee_dept  employee_id  employee_salary employee_hobby\n",
            "0           Sam      Research        10001         45034.88      Traveling \n",
            "\n",
            "Sales\n",
            "   employee_name employee_dept  employee_id  employee_salary employee_hobby\n",
            "3          Sarah         Sales        10004         76422.34        Reading\n",
            "10          Anna         Sales        10011         44567.88        Reading \n",
            "\n",
            "['Finance', 'HR', 'IT', 'Marketing', 'Research', 'Sales']\n"
          ]
        }
      ]
    },
    {
      "cell_type": "code",
      "metadata": {
        "id": "hcwc-CMmSHaP"
      },
      "source": [
        ""
      ],
      "execution_count": 14,
      "outputs": []
    }
  ]
}