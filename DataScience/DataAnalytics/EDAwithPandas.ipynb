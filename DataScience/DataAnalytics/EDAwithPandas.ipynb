{
  "nbformat": 4,
  "nbformat_minor": 0,
  "metadata": {
    "colab": {
      "name": "EDAwithPandas.ipynb",
      "provenance": [],
      "collapsed_sections": []
    },
    "kernelspec": {
      "name": "python3",
      "display_name": "Python 3"
    },
    "language_info": {
      "name": "python"
    }
  },
  "cells": [
    {
      "cell_type": "markdown",
      "metadata": {
        "id": "lsvDltaUUuv1"
      },
      "source": [
        "# Exploratory Data Analysis with Pandas\n",
        "#####################################################################################\n",
        "\n",
        "This Jupyter Notebook is designed for the CI7340 Applied Data Programming\n",
        " Module for the MSc. Data Science degree programm at Kingston University.\n",
        "\n",
        "Parts of this module is borrowed from the official [Pandas](https://pandas.pydata.org/) website.\n",
        "\n",
        "Copyright@ *Nabajeet Barman*, Kingston University, London, UK\n",
        "\n",
        "#####################################################################################"
      ]
    },
    {
      "cell_type": "markdown",
      "metadata": {
        "id": "iczlox9ZaUbI"
      },
      "source": [
        "\n",
        "## Topics Covered:\n",
        "\n",
        "> * Introduction to Pandas\n",
        "> * Key Features of Pandas\n",
        "> * Series and Dataframes\n",
        "> * Viewing Data\n",
        "> * Calculating Summary Statistics\n",
        "> * Selection\n",
        "\n",
        "A cheatsheet summarizing the important aspects can be found [here](https://pandas.pydata.org/Pandas_Cheat_Sheet.pdf)"
      ]
    },
    {
      "cell_type": "markdown",
      "metadata": {
        "id": "S_6yrViGhw8T"
      },
      "source": [
        "## Introduction to Pandas\n",
        "\n",
        "The name Pandas is derived from the word Panel Data – an Econometrics from Multidimensional data.\n",
        "\n",
        "pandas is a fast, powerful, flexible and easy to use open source data analysis and manipulation tool,\n",
        "built on top of the Python programming language [[1]](https://pandas.pydata.org/).\n",
        "\n",
        "* Built on top of NumPy and is a part of the SciPy ecosystem (Scientific Computing Tools for Python)\n",
        "\n",
        "* Used in StatsModel, sklearn-pandas, Plotly, IPython, Jupyter, Spyder\n",
        "\n",
        "\n"
      ]
    },
    {
      "cell_type": "markdown",
      "metadata": {
        "id": "QIom2G9fhgqz"
      },
      "source": [
        "## Key Features of Pandas\n",
        "> * Fast and efficient DataFrame object with default and customized indexing.\n",
        "> * Tools for loading data into in-memory data objects from different file formats.\n",
        "> * Data alignment and integrated handling of missing data.\n",
        "> * Reshaping and pivoting of date sets.\n",
        "> * Label-based slicing, indexing and subsetting of large data sets.\n",
        "> * Columns from a data structure can be deleted or inserted.\n",
        "> * Group by data for aggregation and transformations.\n",
        "> * High performance merging and joining of data.\n",
        "> * Time Series functionality."
      ]
    },
    {
      "cell_type": "markdown",
      "metadata": {
        "id": "1cWx7c07bGNJ"
      },
      "source": [
        "### Import the required libraries\n",
        "\n",
        "If not installed previously, use either of the following commands: \n",
        "> `pip install pandas` or alternatively, `conda install pandas`"
      ]
    },
    {
      "cell_type": "code",
      "metadata": {
        "id": "JAybf_C5T76n",
        "colab": {
          "base_uri": "https://localhost:8080/",
          "height": 37
        },
        "outputId": "5894ba91-6ba1-4e72-9dab-ab5e07a4185d"
      },
      "source": [
        "import numpy as np\n",
        "import pandas as pd\n",
        "# if you want to check the version!!!\n",
        "pd.__version__"
      ],
      "execution_count": 1,
      "outputs": [
        {
          "output_type": "execute_result",
          "data": {
            "application/vnd.google.colaboratory.intrinsic+json": {
              "type": "string"
            },
            "text/plain": [
              "'1.1.5'"
            ]
          },
          "metadata": {},
          "execution_count": 1
        }
      ]
    },
    {
      "cell_type": "markdown",
      "metadata": {
        "id": "ebaudwJBbLb5"
      },
      "source": [
        "# Core components of pandas: Series and DataFrames\n",
        "\n",
        "A **DataFrame** is a 2D data structure that can store data of different types (including characters, integers, floating point values, categorical data and more) in columns. It is similar to a spreadsheet, a SQL table or the data.frame in R.\n",
        "\n",
        "Each column in a DataFrame is a **Series** (a one-dimensional array of values with an index) as shown in below example.\n",
        "\n",
        "![Series vs. Dataframe ](https://drive.google.com/uc?export=view&id=1Gf-cC8JxRAV8NpVbWioNDp7I4liw2YJ5)\n",
        "\n"
      ]
    },
    {
      "cell_type": "markdown",
      "metadata": {
        "id": "o9gTCDK0_2LA"
      },
      "source": [
        "# Creating DataFrame using python dictionary"
      ]
    },
    {
      "cell_type": "code",
      "metadata": {
        "colab": {
          "base_uri": "https://localhost:8080/",
          "height": 142
        },
        "id": "QuHC6Ix9_8UV",
        "outputId": "09d4cb1a-53c8-4ddc-d9e9-634515033505"
      },
      "source": [
        "data = {\"Name\":[\"Shashwat\",\"Ajit\",\"Ranjit\"], \"Age\":[32,40,33]}\n",
        "df=pd.DataFrame(data)\n",
        "df"
      ],
      "execution_count": 2,
      "outputs": [
        {
          "output_type": "execute_result",
          "data": {
            "text/html": [
              "<div>\n",
              "<style scoped>\n",
              "    .dataframe tbody tr th:only-of-type {\n",
              "        vertical-align: middle;\n",
              "    }\n",
              "\n",
              "    .dataframe tbody tr th {\n",
              "        vertical-align: top;\n",
              "    }\n",
              "\n",
              "    .dataframe thead th {\n",
              "        text-align: right;\n",
              "    }\n",
              "</style>\n",
              "<table border=\"1\" class=\"dataframe\">\n",
              "  <thead>\n",
              "    <tr style=\"text-align: right;\">\n",
              "      <th></th>\n",
              "      <th>Name</th>\n",
              "      <th>Age</th>\n",
              "    </tr>\n",
              "  </thead>\n",
              "  <tbody>\n",
              "    <tr>\n",
              "      <th>0</th>\n",
              "      <td>Shashwat</td>\n",
              "      <td>32</td>\n",
              "    </tr>\n",
              "    <tr>\n",
              "      <th>1</th>\n",
              "      <td>Ajit</td>\n",
              "      <td>40</td>\n",
              "    </tr>\n",
              "    <tr>\n",
              "      <th>2</th>\n",
              "      <td>Ranjit</td>\n",
              "      <td>33</td>\n",
              "    </tr>\n",
              "  </tbody>\n",
              "</table>\n",
              "</div>"
            ],
            "text/plain": [
              "       Name  Age\n",
              "0  Shashwat   32\n",
              "1      Ajit   40\n",
              "2    Ranjit   33"
            ]
          },
          "metadata": {},
          "execution_count": 2
        }
      ]
    },
    {
      "cell_type": "code",
      "metadata": {
        "colab": {
          "base_uri": "https://localhost:8080/",
          "height": 142
        },
        "id": "FGRqtj45A4NE",
        "outputId": "1a5b9759-06bf-488b-f8c2-35065a214bfa"
      },
      "source": [
        "df.add({\"Name\":\"NewName\", \"Age\":22}) # Did not overwrite data"
      ],
      "execution_count": 3,
      "outputs": [
        {
          "output_type": "execute_result",
          "data": {
            "text/html": [
              "<div>\n",
              "<style scoped>\n",
              "    .dataframe tbody tr th:only-of-type {\n",
              "        vertical-align: middle;\n",
              "    }\n",
              "\n",
              "    .dataframe tbody tr th {\n",
              "        vertical-align: top;\n",
              "    }\n",
              "\n",
              "    .dataframe thead th {\n",
              "        text-align: right;\n",
              "    }\n",
              "</style>\n",
              "<table border=\"1\" class=\"dataframe\">\n",
              "  <thead>\n",
              "    <tr style=\"text-align: right;\">\n",
              "      <th></th>\n",
              "      <th>Name</th>\n",
              "      <th>Age</th>\n",
              "    </tr>\n",
              "  </thead>\n",
              "  <tbody>\n",
              "    <tr>\n",
              "      <th>0</th>\n",
              "      <td>ShashwatNewName</td>\n",
              "      <td>54</td>\n",
              "    </tr>\n",
              "    <tr>\n",
              "      <th>1</th>\n",
              "      <td>AjitNewName</td>\n",
              "      <td>62</td>\n",
              "    </tr>\n",
              "    <tr>\n",
              "      <th>2</th>\n",
              "      <td>RanjitNewName</td>\n",
              "      <td>55</td>\n",
              "    </tr>\n",
              "  </tbody>\n",
              "</table>\n",
              "</div>"
            ],
            "text/plain": [
              "              Name Age\n",
              "0  ShashwatNewName  54\n",
              "1      AjitNewName  62\n",
              "2    RanjitNewName  55"
            ]
          },
          "metadata": {},
          "execution_count": 3
        }
      ]
    },
    {
      "cell_type": "code",
      "metadata": {
        "colab": {
          "base_uri": "https://localhost:8080/",
          "height": 80
        },
        "id": "EUfuVL9FBI_z",
        "outputId": "95ab7fdd-e347-475f-e708-dc935e57f288"
      },
      "source": [
        "df[df['Age']>35]"
      ],
      "execution_count": 4,
      "outputs": [
        {
          "output_type": "execute_result",
          "data": {
            "text/html": [
              "<div>\n",
              "<style scoped>\n",
              "    .dataframe tbody tr th:only-of-type {\n",
              "        vertical-align: middle;\n",
              "    }\n",
              "\n",
              "    .dataframe tbody tr th {\n",
              "        vertical-align: top;\n",
              "    }\n",
              "\n",
              "    .dataframe thead th {\n",
              "        text-align: right;\n",
              "    }\n",
              "</style>\n",
              "<table border=\"1\" class=\"dataframe\">\n",
              "  <thead>\n",
              "    <tr style=\"text-align: right;\">\n",
              "      <th></th>\n",
              "      <th>Name</th>\n",
              "      <th>Age</th>\n",
              "    </tr>\n",
              "  </thead>\n",
              "  <tbody>\n",
              "    <tr>\n",
              "      <th>1</th>\n",
              "      <td>Ajit</td>\n",
              "      <td>40</td>\n",
              "    </tr>\n",
              "  </tbody>\n",
              "</table>\n",
              "</div>"
            ],
            "text/plain": [
              "   Name  Age\n",
              "1  Ajit   40"
            ]
          },
          "metadata": {},
          "execution_count": 4
        }
      ]
    },
    {
      "cell_type": "code",
      "metadata": {
        "colab": {
          "base_uri": "https://localhost:8080/",
          "height": 142
        },
        "id": "N8q3unaVCT2m",
        "outputId": "2767220c-b177-45a9-808b-3781031d9e19"
      },
      "source": [
        "df = pd.DataFrame(df,index=[44,55,66])\n",
        "df"
      ],
      "execution_count": 5,
      "outputs": [
        {
          "output_type": "execute_result",
          "data": {
            "text/html": [
              "<div>\n",
              "<style scoped>\n",
              "    .dataframe tbody tr th:only-of-type {\n",
              "        vertical-align: middle;\n",
              "    }\n",
              "\n",
              "    .dataframe tbody tr th {\n",
              "        vertical-align: top;\n",
              "    }\n",
              "\n",
              "    .dataframe thead th {\n",
              "        text-align: right;\n",
              "    }\n",
              "</style>\n",
              "<table border=\"1\" class=\"dataframe\">\n",
              "  <thead>\n",
              "    <tr style=\"text-align: right;\">\n",
              "      <th></th>\n",
              "      <th>Name</th>\n",
              "      <th>Age</th>\n",
              "    </tr>\n",
              "  </thead>\n",
              "  <tbody>\n",
              "    <tr>\n",
              "      <th>44</th>\n",
              "      <td>NaN</td>\n",
              "      <td>NaN</td>\n",
              "    </tr>\n",
              "    <tr>\n",
              "      <th>55</th>\n",
              "      <td>NaN</td>\n",
              "      <td>NaN</td>\n",
              "    </tr>\n",
              "    <tr>\n",
              "      <th>66</th>\n",
              "      <td>NaN</td>\n",
              "      <td>NaN</td>\n",
              "    </tr>\n",
              "  </tbody>\n",
              "</table>\n",
              "</div>"
            ],
            "text/plain": [
              "   Name  Age\n",
              "44  NaN  NaN\n",
              "55  NaN  NaN\n",
              "66  NaN  NaN"
            ]
          },
          "metadata": {},
          "execution_count": 5
        }
      ]
    },
    {
      "cell_type": "code",
      "metadata": {
        "id": "-xCG9XiuC0kG"
      },
      "source": [
        "data = {\n",
        "'employee_name' : ['Sam', 'Max', 'Tony', 'Sarah', 'Tania'],\n",
        "'employee_dept' : ['Research', 'HR', 'Marketing', 'Sales', 'Finance']\n",
        "}"
      ],
      "execution_count": 6,
      "outputs": []
    },
    {
      "cell_type": "code",
      "metadata": {
        "colab": {
          "base_uri": "https://localhost:8080/",
          "height": 204
        },
        "id": "0eCzmdPiC9W6",
        "outputId": "925d6f59-a7ad-4df3-d927-ee778a5081a3"
      },
      "source": [
        "employee_records = pd.DataFrame(data)\n",
        "employee_records\n"
      ],
      "execution_count": 7,
      "outputs": [
        {
          "output_type": "execute_result",
          "data": {
            "text/html": [
              "<div>\n",
              "<style scoped>\n",
              "    .dataframe tbody tr th:only-of-type {\n",
              "        vertical-align: middle;\n",
              "    }\n",
              "\n",
              "    .dataframe tbody tr th {\n",
              "        vertical-align: top;\n",
              "    }\n",
              "\n",
              "    .dataframe thead th {\n",
              "        text-align: right;\n",
              "    }\n",
              "</style>\n",
              "<table border=\"1\" class=\"dataframe\">\n",
              "  <thead>\n",
              "    <tr style=\"text-align: right;\">\n",
              "      <th></th>\n",
              "      <th>employee_name</th>\n",
              "      <th>employee_dept</th>\n",
              "    </tr>\n",
              "  </thead>\n",
              "  <tbody>\n",
              "    <tr>\n",
              "      <th>0</th>\n",
              "      <td>Sam</td>\n",
              "      <td>Research</td>\n",
              "    </tr>\n",
              "    <tr>\n",
              "      <th>1</th>\n",
              "      <td>Max</td>\n",
              "      <td>HR</td>\n",
              "    </tr>\n",
              "    <tr>\n",
              "      <th>2</th>\n",
              "      <td>Tony</td>\n",
              "      <td>Marketing</td>\n",
              "    </tr>\n",
              "    <tr>\n",
              "      <th>3</th>\n",
              "      <td>Sarah</td>\n",
              "      <td>Sales</td>\n",
              "    </tr>\n",
              "    <tr>\n",
              "      <th>4</th>\n",
              "      <td>Tania</td>\n",
              "      <td>Finance</td>\n",
              "    </tr>\n",
              "  </tbody>\n",
              "</table>\n",
              "</div>"
            ],
            "text/plain": [
              "  employee_name employee_dept\n",
              "0           Sam      Research\n",
              "1           Max            HR\n",
              "2          Tony     Marketing\n",
              "3         Sarah         Sales\n",
              "4         Tania       Finance"
            ]
          },
          "metadata": {},
          "execution_count": 7
        }
      ]
    },
    {
      "cell_type": "code",
      "metadata": {
        "colab": {
          "base_uri": "https://localhost:8080/",
          "height": 204
        },
        "id": "sn5Q6KhdC_8q",
        "outputId": "0501d3d5-7f3a-444c-e39e-acd899febb29"
      },
      "source": [
        "#Assigning Index in the dataframe\n",
        "employee_records = pd.DataFrame(data, index = [1110,1111,1112,1113,1114])\n",
        "employee_records\n"
      ],
      "execution_count": 8,
      "outputs": [
        {
          "output_type": "execute_result",
          "data": {
            "text/html": [
              "<div>\n",
              "<style scoped>\n",
              "    .dataframe tbody tr th:only-of-type {\n",
              "        vertical-align: middle;\n",
              "    }\n",
              "\n",
              "    .dataframe tbody tr th {\n",
              "        vertical-align: top;\n",
              "    }\n",
              "\n",
              "    .dataframe thead th {\n",
              "        text-align: right;\n",
              "    }\n",
              "</style>\n",
              "<table border=\"1\" class=\"dataframe\">\n",
              "  <thead>\n",
              "    <tr style=\"text-align: right;\">\n",
              "      <th></th>\n",
              "      <th>employee_name</th>\n",
              "      <th>employee_dept</th>\n",
              "    </tr>\n",
              "  </thead>\n",
              "  <tbody>\n",
              "    <tr>\n",
              "      <th>1110</th>\n",
              "      <td>Sam</td>\n",
              "      <td>Research</td>\n",
              "    </tr>\n",
              "    <tr>\n",
              "      <th>1111</th>\n",
              "      <td>Max</td>\n",
              "      <td>HR</td>\n",
              "    </tr>\n",
              "    <tr>\n",
              "      <th>1112</th>\n",
              "      <td>Tony</td>\n",
              "      <td>Marketing</td>\n",
              "    </tr>\n",
              "    <tr>\n",
              "      <th>1113</th>\n",
              "      <td>Sarah</td>\n",
              "      <td>Sales</td>\n",
              "    </tr>\n",
              "    <tr>\n",
              "      <th>1114</th>\n",
              "      <td>Tania</td>\n",
              "      <td>Finance</td>\n",
              "    </tr>\n",
              "  </tbody>\n",
              "</table>\n",
              "</div>"
            ],
            "text/plain": [
              "     employee_name employee_dept\n",
              "1110           Sam      Research\n",
              "1111           Max            HR\n",
              "1112          Tony     Marketing\n",
              "1113         Sarah         Sales\n",
              "1114         Tania       Finance"
            ]
          },
          "metadata": {},
          "execution_count": 8
        }
      ]
    },
    {
      "cell_type": "code",
      "metadata": {
        "colab": {
          "base_uri": "https://localhost:8080/",
          "height": 235
        },
        "id": "fsNq8piFDF3C",
        "outputId": "316ca80a-d759-47cd-c0b9-164e983a9bdc"
      },
      "source": [
        "employee_records.index.name='employee_id'\n",
        "employee_records"
      ],
      "execution_count": 9,
      "outputs": [
        {
          "output_type": "execute_result",
          "data": {
            "text/html": [
              "<div>\n",
              "<style scoped>\n",
              "    .dataframe tbody tr th:only-of-type {\n",
              "        vertical-align: middle;\n",
              "    }\n",
              "\n",
              "    .dataframe tbody tr th {\n",
              "        vertical-align: top;\n",
              "    }\n",
              "\n",
              "    .dataframe thead th {\n",
              "        text-align: right;\n",
              "    }\n",
              "</style>\n",
              "<table border=\"1\" class=\"dataframe\">\n",
              "  <thead>\n",
              "    <tr style=\"text-align: right;\">\n",
              "      <th></th>\n",
              "      <th>employee_name</th>\n",
              "      <th>employee_dept</th>\n",
              "    </tr>\n",
              "    <tr>\n",
              "      <th>employee_id</th>\n",
              "      <th></th>\n",
              "      <th></th>\n",
              "    </tr>\n",
              "  </thead>\n",
              "  <tbody>\n",
              "    <tr>\n",
              "      <th>1110</th>\n",
              "      <td>Sam</td>\n",
              "      <td>Research</td>\n",
              "    </tr>\n",
              "    <tr>\n",
              "      <th>1111</th>\n",
              "      <td>Max</td>\n",
              "      <td>HR</td>\n",
              "    </tr>\n",
              "    <tr>\n",
              "      <th>1112</th>\n",
              "      <td>Tony</td>\n",
              "      <td>Marketing</td>\n",
              "    </tr>\n",
              "    <tr>\n",
              "      <th>1113</th>\n",
              "      <td>Sarah</td>\n",
              "      <td>Sales</td>\n",
              "    </tr>\n",
              "    <tr>\n",
              "      <th>1114</th>\n",
              "      <td>Tania</td>\n",
              "      <td>Finance</td>\n",
              "    </tr>\n",
              "  </tbody>\n",
              "</table>\n",
              "</div>"
            ],
            "text/plain": [
              "            employee_name employee_dept\n",
              "employee_id                            \n",
              "1110                  Sam      Research\n",
              "1111                  Max            HR\n",
              "1112                 Tony     Marketing\n",
              "1113                Sarah         Sales\n",
              "1114                Tania       Finance"
            ]
          },
          "metadata": {},
          "execution_count": 9
        }
      ]
    },
    {
      "cell_type": "code",
      "metadata": {
        "colab": {
          "base_uri": "https://localhost:8080/"
        },
        "id": "VOoGZ9YaDpMF",
        "outputId": "c355a6af-9cd5-4107-f8fa-d254786cb878"
      },
      "source": [
        "# Accesing records by Row Index\n",
        "employee_records.loc[1110]"
      ],
      "execution_count": 10,
      "outputs": [
        {
          "output_type": "execute_result",
          "data": {
            "text/plain": [
              "employee_name         Sam\n",
              "employee_dept    Research\n",
              "Name: 1110, dtype: object"
            ]
          },
          "metadata": {},
          "execution_count": 10
        }
      ]
    },
    {
      "cell_type": "code",
      "metadata": {
        "colab": {
          "base_uri": "https://localhost:8080/"
        },
        "id": "BcJmZLjsFDsr",
        "outputId": "a0f6a769-be59-445a-f5f1-939d9c0fa810"
      },
      "source": [
        "series = pd.Series([4234,3243,34,34,4563,4489], name='employee_id', index=[1,2,3,4,5,6])\n",
        "series"
      ],
      "execution_count": 11,
      "outputs": [
        {
          "output_type": "execute_result",
          "data": {
            "text/plain": [
              "1    4234\n",
              "2    3243\n",
              "3      34\n",
              "4      34\n",
              "5    4563\n",
              "6    4489\n",
              "Name: employee_id, dtype: int64"
            ]
          },
          "metadata": {},
          "execution_count": 11
        }
      ]
    },
    {
      "cell_type": "code",
      "metadata": {
        "colab": {
          "base_uri": "https://localhost:8080/",
          "height": 142
        },
        "id": "yL9kdNuTETpx",
        "outputId": "a07a469d-b455-40c6-b165-584fcc6327ad"
      },
      "source": [
        "# Accessing records by Column name\n",
        "employee_records.iloc[0:4:2,0:2]"
      ],
      "execution_count": 12,
      "outputs": [
        {
          "output_type": "execute_result",
          "data": {
            "text/html": [
              "<div>\n",
              "<style scoped>\n",
              "    .dataframe tbody tr th:only-of-type {\n",
              "        vertical-align: middle;\n",
              "    }\n",
              "\n",
              "    .dataframe tbody tr th {\n",
              "        vertical-align: top;\n",
              "    }\n",
              "\n",
              "    .dataframe thead th {\n",
              "        text-align: right;\n",
              "    }\n",
              "</style>\n",
              "<table border=\"1\" class=\"dataframe\">\n",
              "  <thead>\n",
              "    <tr style=\"text-align: right;\">\n",
              "      <th></th>\n",
              "      <th>employee_name</th>\n",
              "      <th>employee_dept</th>\n",
              "    </tr>\n",
              "    <tr>\n",
              "      <th>employee_id</th>\n",
              "      <th></th>\n",
              "      <th></th>\n",
              "    </tr>\n",
              "  </thead>\n",
              "  <tbody>\n",
              "    <tr>\n",
              "      <th>1110</th>\n",
              "      <td>Sam</td>\n",
              "      <td>Research</td>\n",
              "    </tr>\n",
              "    <tr>\n",
              "      <th>1112</th>\n",
              "      <td>Tony</td>\n",
              "      <td>Marketing</td>\n",
              "    </tr>\n",
              "  </tbody>\n",
              "</table>\n",
              "</div>"
            ],
            "text/plain": [
              "            employee_name employee_dept\n",
              "employee_id                            \n",
              "1110                  Sam      Research\n",
              "1112                 Tony     Marketing"
            ]
          },
          "metadata": {},
          "execution_count": 12
        }
      ]
    },
    {
      "cell_type": "markdown",
      "metadata": {
        "id": "k0foqQIzGLPq"
      },
      "source": [
        ""
      ]
    },
    {
      "cell_type": "markdown",
      "metadata": {
        "id": "EVUmobl_GLT7"
      },
      "source": [
        "# Creating a DF by passing a NumPy array"
      ]
    },
    {
      "cell_type": "code",
      "metadata": {
        "colab": {
          "base_uri": "https://localhost:8080/",
          "height": 142
        },
        "id": "9kRV4fr1GKiL",
        "outputId": "c050125e-a5f0-4ad7-c886-f45bb431d489"
      },
      "source": [
        "# define three column names \n",
        "columns = ['col_1','col_2','col_3']\n",
        "# Define index\n",
        "indexs = ['a','b','c']\n",
        "\n",
        "#define a NumPy array of size 3*3\n",
        "data = np.array([[1,2,3],[3,4,5],[6,7,8]])\n",
        "# creating pandas data frame\n",
        "sample_df = pd.DataFrame(data, index=indexs, columns=columns)\n",
        "sample_df"
      ],
      "execution_count": 13,
      "outputs": [
        {
          "output_type": "execute_result",
          "data": {
            "text/html": [
              "<div>\n",
              "<style scoped>\n",
              "    .dataframe tbody tr th:only-of-type {\n",
              "        vertical-align: middle;\n",
              "    }\n",
              "\n",
              "    .dataframe tbody tr th {\n",
              "        vertical-align: top;\n",
              "    }\n",
              "\n",
              "    .dataframe thead th {\n",
              "        text-align: right;\n",
              "    }\n",
              "</style>\n",
              "<table border=\"1\" class=\"dataframe\">\n",
              "  <thead>\n",
              "    <tr style=\"text-align: right;\">\n",
              "      <th></th>\n",
              "      <th>col_1</th>\n",
              "      <th>col_2</th>\n",
              "      <th>col_3</th>\n",
              "    </tr>\n",
              "  </thead>\n",
              "  <tbody>\n",
              "    <tr>\n",
              "      <th>a</th>\n",
              "      <td>1</td>\n",
              "      <td>2</td>\n",
              "      <td>3</td>\n",
              "    </tr>\n",
              "    <tr>\n",
              "      <th>b</th>\n",
              "      <td>3</td>\n",
              "      <td>4</td>\n",
              "      <td>5</td>\n",
              "    </tr>\n",
              "    <tr>\n",
              "      <th>c</th>\n",
              "      <td>6</td>\n",
              "      <td>7</td>\n",
              "      <td>8</td>\n",
              "    </tr>\n",
              "  </tbody>\n",
              "</table>\n",
              "</div>"
            ],
            "text/plain": [
              "   col_1  col_2  col_3\n",
              "a      1      2      3\n",
              "b      3      4      5\n",
              "c      6      7      8"
            ]
          },
          "metadata": {},
          "execution_count": 13
        }
      ]
    },
    {
      "cell_type": "markdown",
      "metadata": {
        "id": "sBKat_ToD9bx"
      },
      "source": [
        "# Create a series from scratch"
      ]
    },
    {
      "cell_type": "code",
      "metadata": {
        "colab": {
          "base_uri": "https://localhost:8080/"
        },
        "id": "W8JckdOAD6LC",
        "outputId": "b4eb519f-5850-4adc-bd3a-34f1c1785b71"
      },
      "source": [
        "emp_id = pd.Series([4434,3345,4432,1123,5678,7766], name='employee_id')\n",
        "emp_id"
      ],
      "execution_count": 14,
      "outputs": [
        {
          "output_type": "execute_result",
          "data": {
            "text/plain": [
              "0    4434\n",
              "1    3345\n",
              "2    4432\n",
              "3    1123\n",
              "4    5678\n",
              "5    7766\n",
              "Name: employee_id, dtype: int64"
            ]
          },
          "metadata": {},
          "execution_count": 14
        }
      ]
    },
    {
      "cell_type": "markdown",
      "metadata": {
        "id": "VUIdQPovHwnh"
      },
      "source": [
        "# Creating a df using multple Series with same index"
      ]
    },
    {
      "cell_type": "code",
      "metadata": {
        "colab": {
          "base_uri": "https://localhost:8080/",
          "height": 204
        },
        "id": "cG_IXk-1H0vj",
        "outputId": "7e7ec962-6605-4999-fb93-cb88029698d3"
      },
      "source": [
        "s1=pd.Series([10,20,30,40,50],index=[1,2,3,4,5])\n",
        "s2=pd.Series([21,34,43,55,73],index=[1,2,3,4,5])\n",
        "sample_df = pd.DataFrame({'col_1':s1,'col_2':s2})\n",
        "sample_df"
      ],
      "execution_count": 15,
      "outputs": [
        {
          "output_type": "execute_result",
          "data": {
            "text/html": [
              "<div>\n",
              "<style scoped>\n",
              "    .dataframe tbody tr th:only-of-type {\n",
              "        vertical-align: middle;\n",
              "    }\n",
              "\n",
              "    .dataframe tbody tr th {\n",
              "        vertical-align: top;\n",
              "    }\n",
              "\n",
              "    .dataframe thead th {\n",
              "        text-align: right;\n",
              "    }\n",
              "</style>\n",
              "<table border=\"1\" class=\"dataframe\">\n",
              "  <thead>\n",
              "    <tr style=\"text-align: right;\">\n",
              "      <th></th>\n",
              "      <th>col_1</th>\n",
              "      <th>col_2</th>\n",
              "    </tr>\n",
              "  </thead>\n",
              "  <tbody>\n",
              "    <tr>\n",
              "      <th>1</th>\n",
              "      <td>10</td>\n",
              "      <td>21</td>\n",
              "    </tr>\n",
              "    <tr>\n",
              "      <th>2</th>\n",
              "      <td>20</td>\n",
              "      <td>34</td>\n",
              "    </tr>\n",
              "    <tr>\n",
              "      <th>3</th>\n",
              "      <td>30</td>\n",
              "      <td>43</td>\n",
              "    </tr>\n",
              "    <tr>\n",
              "      <th>4</th>\n",
              "      <td>40</td>\n",
              "      <td>55</td>\n",
              "    </tr>\n",
              "    <tr>\n",
              "      <th>5</th>\n",
              "      <td>50</td>\n",
              "      <td>73</td>\n",
              "    </tr>\n",
              "  </tbody>\n",
              "</table>\n",
              "</div>"
            ],
            "text/plain": [
              "   col_1  col_2\n",
              "1     10     21\n",
              "2     20     34\n",
              "3     30     43\n",
              "4     40     55\n",
              "5     50     73"
            ]
          },
          "metadata": {},
          "execution_count": 15
        }
      ]
    },
    {
      "cell_type": "code",
      "metadata": {
        "colab": {
          "base_uri": "https://localhost:8080/",
          "height": 235
        },
        "id": "nj9LWRDXI-Ba",
        "outputId": "d4611c95-1a4f-4c77-b116-4b86bb41837c"
      },
      "source": [
        "# Index order changed and few index missing, this caused Nan inserts but column ordering was resolved correctly\n",
        "s1=pd.Series([10,20,30,40,50],index=[1,2,3,4,5])\n",
        "s2=pd.Series([21,34,43,55,73],index=[2,1,6,4,3])\n",
        "sample_df = pd.DataFrame({'col_1':s1,'col_2':s2})\n",
        "sample_df"
      ],
      "execution_count": 16,
      "outputs": [
        {
          "output_type": "execute_result",
          "data": {
            "text/html": [
              "<div>\n",
              "<style scoped>\n",
              "    .dataframe tbody tr th:only-of-type {\n",
              "        vertical-align: middle;\n",
              "    }\n",
              "\n",
              "    .dataframe tbody tr th {\n",
              "        vertical-align: top;\n",
              "    }\n",
              "\n",
              "    .dataframe thead th {\n",
              "        text-align: right;\n",
              "    }\n",
              "</style>\n",
              "<table border=\"1\" class=\"dataframe\">\n",
              "  <thead>\n",
              "    <tr style=\"text-align: right;\">\n",
              "      <th></th>\n",
              "      <th>col_1</th>\n",
              "      <th>col_2</th>\n",
              "    </tr>\n",
              "  </thead>\n",
              "  <tbody>\n",
              "    <tr>\n",
              "      <th>1</th>\n",
              "      <td>10.0</td>\n",
              "      <td>34.0</td>\n",
              "    </tr>\n",
              "    <tr>\n",
              "      <th>2</th>\n",
              "      <td>20.0</td>\n",
              "      <td>21.0</td>\n",
              "    </tr>\n",
              "    <tr>\n",
              "      <th>3</th>\n",
              "      <td>30.0</td>\n",
              "      <td>73.0</td>\n",
              "    </tr>\n",
              "    <tr>\n",
              "      <th>4</th>\n",
              "      <td>40.0</td>\n",
              "      <td>55.0</td>\n",
              "    </tr>\n",
              "    <tr>\n",
              "      <th>5</th>\n",
              "      <td>50.0</td>\n",
              "      <td>NaN</td>\n",
              "    </tr>\n",
              "    <tr>\n",
              "      <th>6</th>\n",
              "      <td>NaN</td>\n",
              "      <td>43.0</td>\n",
              "    </tr>\n",
              "  </tbody>\n",
              "</table>\n",
              "</div>"
            ],
            "text/plain": [
              "   col_1  col_2\n",
              "1   10.0   34.0\n",
              "2   20.0   21.0\n",
              "3   30.0   73.0\n",
              "4   40.0   55.0\n",
              "5   50.0    NaN\n",
              "6    NaN   43.0"
            ]
          },
          "metadata": {},
          "execution_count": 16
        }
      ]
    },
    {
      "cell_type": "code",
      "metadata": {
        "colab": {
          "base_uri": "https://localhost:8080/"
        },
        "id": "7H7NaSprKRL2",
        "outputId": "4421ee53-a141-4a10-8562-822a140396ce"
      },
      "source": [
        "sample_df.dtypes"
      ],
      "execution_count": 17,
      "outputs": [
        {
          "output_type": "execute_result",
          "data": {
            "text/plain": [
              "col_1    float64\n",
              "col_2    float64\n",
              "dtype: object"
            ]
          },
          "metadata": {},
          "execution_count": 17
        }
      ]
    },
    {
      "cell_type": "code",
      "metadata": {
        "colab": {
          "base_uri": "https://localhost:8080/"
        },
        "id": "vlfr1lmzLk1T",
        "outputId": "022a2e05-74a0-4ffb-c4b0-8677b975e994"
      },
      "source": [
        "df1 = pd.DataFrame({\n",
        "    \"A\": np.random.rand(3),\n",
        "    \"B\": 1,\n",
        "    \"C\":\"foo\",\n",
        "    \"D\": pd.Timestamp(\"20010102\"),\n",
        "    \"E\": pd.Series([1.0] * 3).astype(\"float32\"),\n",
        "    \"F\": False,\n",
        "    \"G\": pd.Series([1] * 3, dtype=\"int8\"),\n",
        "})\n",
        "df1.dtypes"
      ],
      "execution_count": 18,
      "outputs": [
        {
          "output_type": "execute_result",
          "data": {
            "text/plain": [
              "A           float64\n",
              "B             int64\n",
              "C            object\n",
              "D    datetime64[ns]\n",
              "E           float32\n",
              "F              bool\n",
              "G              int8\n",
              "dtype: object"
            ]
          },
          "metadata": {},
          "execution_count": 18
        }
      ]
    },
    {
      "cell_type": "code",
      "metadata": {
        "colab": {
          "base_uri": "https://localhost:8080/",
          "height": 173
        },
        "id": "wgmClz2FQ02u",
        "outputId": "95ff4a02-10d1-4c75-840d-5b411ab69e77"
      },
      "source": [
        "# Try to change 4 in above code for value of G or D, expectation was that it will create NaN value but it did not happen.\n",
        "df1 = pd.DataFrame({\n",
        "    \"A\": np.random.rand(4), #this fixes the length of columns\n",
        "    \"B\": 1,\n",
        "    \"C\":\"foo\",\n",
        "    \"D\": pd.Timestamp(\"20010102\"),\n",
        "    \"E\": pd.Series([1.0] * 3).astype(\"float32\"),\n",
        "    \"F\": False,\n",
        "    \"G\": pd.Series([1] * 4, dtype=\"int8\"),\n",
        "})\n",
        "df1"
      ],
      "execution_count": 19,
      "outputs": [
        {
          "output_type": "execute_result",
          "data": {
            "text/html": [
              "<div>\n",
              "<style scoped>\n",
              "    .dataframe tbody tr th:only-of-type {\n",
              "        vertical-align: middle;\n",
              "    }\n",
              "\n",
              "    .dataframe tbody tr th {\n",
              "        vertical-align: top;\n",
              "    }\n",
              "\n",
              "    .dataframe thead th {\n",
              "        text-align: right;\n",
              "    }\n",
              "</style>\n",
              "<table border=\"1\" class=\"dataframe\">\n",
              "  <thead>\n",
              "    <tr style=\"text-align: right;\">\n",
              "      <th></th>\n",
              "      <th>A</th>\n",
              "      <th>B</th>\n",
              "      <th>C</th>\n",
              "      <th>D</th>\n",
              "      <th>E</th>\n",
              "      <th>F</th>\n",
              "      <th>G</th>\n",
              "    </tr>\n",
              "  </thead>\n",
              "  <tbody>\n",
              "    <tr>\n",
              "      <th>0</th>\n",
              "      <td>0.720653</td>\n",
              "      <td>1</td>\n",
              "      <td>foo</td>\n",
              "      <td>2001-01-02</td>\n",
              "      <td>1.0</td>\n",
              "      <td>False</td>\n",
              "      <td>1</td>\n",
              "    </tr>\n",
              "    <tr>\n",
              "      <th>1</th>\n",
              "      <td>0.839359</td>\n",
              "      <td>1</td>\n",
              "      <td>foo</td>\n",
              "      <td>2001-01-02</td>\n",
              "      <td>1.0</td>\n",
              "      <td>False</td>\n",
              "      <td>1</td>\n",
              "    </tr>\n",
              "    <tr>\n",
              "      <th>2</th>\n",
              "      <td>0.270158</td>\n",
              "      <td>1</td>\n",
              "      <td>foo</td>\n",
              "      <td>2001-01-02</td>\n",
              "      <td>1.0</td>\n",
              "      <td>False</td>\n",
              "      <td>1</td>\n",
              "    </tr>\n",
              "    <tr>\n",
              "      <th>3</th>\n",
              "      <td>0.267513</td>\n",
              "      <td>1</td>\n",
              "      <td>foo</td>\n",
              "      <td>2001-01-02</td>\n",
              "      <td>NaN</td>\n",
              "      <td>False</td>\n",
              "      <td>1</td>\n",
              "    </tr>\n",
              "  </tbody>\n",
              "</table>\n",
              "</div>"
            ],
            "text/plain": [
              "          A  B    C          D    E      F  G\n",
              "0  0.720653  1  foo 2001-01-02  1.0  False  1\n",
              "1  0.839359  1  foo 2001-01-02  1.0  False  1\n",
              "2  0.270158  1  foo 2001-01-02  1.0  False  1\n",
              "3  0.267513  1  foo 2001-01-02  NaN  False  1"
            ]
          },
          "metadata": {},
          "execution_count": 19
        }
      ]
    },
    {
      "cell_type": "code",
      "metadata": {
        "colab": {
          "base_uri": "https://localhost:8080/"
        },
        "id": "FDP542o8PDTa",
        "outputId": "462e809b-7b18-4443-b1ba-e4aa948f551e"
      },
      "source": [
        "# Why C column is showing as object and not String\n",
        "df1.dtypes"
      ],
      "execution_count": 20,
      "outputs": [
        {
          "output_type": "execute_result",
          "data": {
            "text/plain": [
              "A           float64\n",
              "B             int64\n",
              "C            object\n",
              "D    datetime64[ns]\n",
              "E           float32\n",
              "F              bool\n",
              "G              int8\n",
              "dtype: object"
            ]
          },
          "metadata": {},
          "execution_count": 20
        }
      ]
    },
    {
      "cell_type": "markdown",
      "metadata": {
        "id": "ASQUim6SPYx_"
      },
      "source": [
        "# Creating the Employee DataFrame"
      ]
    },
    {
      "cell_type": "code",
      "metadata": {
        "colab": {
          "base_uri": "https://localhost:8080/",
          "height": 390
        },
        "id": "Kxd7HJW1PUsS",
        "outputId": "62591dc6-e685-44a8-d521-c05e4ef3dd19"
      },
      "source": [
        "employee_records = pd.DataFrame({\n",
        "        'employee_name': ['Sam', 'Max', 'Tony', 'Sarah', 'Tania', 'David', \n",
        "                         'Mark','Alice', 'Charles', 'Bob', 'Anna'],\n",
        "        'employee_dept': ['Research','HR','Marketing','Sales', 'Finance', 'IT', 'HR', 'Marketing', 'IT', 'Finance','Sales'],\n",
        "        'employee_id' : [10001, 10002, 10003, 10004, 10005, 10006, 10007, 10008, 10009, 10010, 10011],\n",
        "        'salary'     : [45034.88, 65343.45, 53423.27, 76422.34, 58753.00, 34323.44, 66544.60, 34354.66, 55234.96, 39078.60, 44567.88]\n",
        "    })\n",
        "employee_records\n",
        "\n"
      ],
      "execution_count": 21,
      "outputs": [
        {
          "output_type": "execute_result",
          "data": {
            "text/html": [
              "<div>\n",
              "<style scoped>\n",
              "    .dataframe tbody tr th:only-of-type {\n",
              "        vertical-align: middle;\n",
              "    }\n",
              "\n",
              "    .dataframe tbody tr th {\n",
              "        vertical-align: top;\n",
              "    }\n",
              "\n",
              "    .dataframe thead th {\n",
              "        text-align: right;\n",
              "    }\n",
              "</style>\n",
              "<table border=\"1\" class=\"dataframe\">\n",
              "  <thead>\n",
              "    <tr style=\"text-align: right;\">\n",
              "      <th></th>\n",
              "      <th>employee_name</th>\n",
              "      <th>employee_dept</th>\n",
              "      <th>employee_id</th>\n",
              "      <th>salary</th>\n",
              "    </tr>\n",
              "  </thead>\n",
              "  <tbody>\n",
              "    <tr>\n",
              "      <th>0</th>\n",
              "      <td>Sam</td>\n",
              "      <td>Research</td>\n",
              "      <td>10001</td>\n",
              "      <td>45034.88</td>\n",
              "    </tr>\n",
              "    <tr>\n",
              "      <th>1</th>\n",
              "      <td>Max</td>\n",
              "      <td>HR</td>\n",
              "      <td>10002</td>\n",
              "      <td>65343.45</td>\n",
              "    </tr>\n",
              "    <tr>\n",
              "      <th>2</th>\n",
              "      <td>Tony</td>\n",
              "      <td>Marketing</td>\n",
              "      <td>10003</td>\n",
              "      <td>53423.27</td>\n",
              "    </tr>\n",
              "    <tr>\n",
              "      <th>3</th>\n",
              "      <td>Sarah</td>\n",
              "      <td>Sales</td>\n",
              "      <td>10004</td>\n",
              "      <td>76422.34</td>\n",
              "    </tr>\n",
              "    <tr>\n",
              "      <th>4</th>\n",
              "      <td>Tania</td>\n",
              "      <td>Finance</td>\n",
              "      <td>10005</td>\n",
              "      <td>58753.00</td>\n",
              "    </tr>\n",
              "    <tr>\n",
              "      <th>5</th>\n",
              "      <td>David</td>\n",
              "      <td>IT</td>\n",
              "      <td>10006</td>\n",
              "      <td>34323.44</td>\n",
              "    </tr>\n",
              "    <tr>\n",
              "      <th>6</th>\n",
              "      <td>Mark</td>\n",
              "      <td>HR</td>\n",
              "      <td>10007</td>\n",
              "      <td>66544.60</td>\n",
              "    </tr>\n",
              "    <tr>\n",
              "      <th>7</th>\n",
              "      <td>Alice</td>\n",
              "      <td>Marketing</td>\n",
              "      <td>10008</td>\n",
              "      <td>34354.66</td>\n",
              "    </tr>\n",
              "    <tr>\n",
              "      <th>8</th>\n",
              "      <td>Charles</td>\n",
              "      <td>IT</td>\n",
              "      <td>10009</td>\n",
              "      <td>55234.96</td>\n",
              "    </tr>\n",
              "    <tr>\n",
              "      <th>9</th>\n",
              "      <td>Bob</td>\n",
              "      <td>Finance</td>\n",
              "      <td>10010</td>\n",
              "      <td>39078.60</td>\n",
              "    </tr>\n",
              "    <tr>\n",
              "      <th>10</th>\n",
              "      <td>Anna</td>\n",
              "      <td>Sales</td>\n",
              "      <td>10011</td>\n",
              "      <td>44567.88</td>\n",
              "    </tr>\n",
              "  </tbody>\n",
              "</table>\n",
              "</div>"
            ],
            "text/plain": [
              "   employee_name employee_dept  employee_id    salary\n",
              "0            Sam      Research        10001  45034.88\n",
              "1            Max            HR        10002  65343.45\n",
              "2           Tony     Marketing        10003  53423.27\n",
              "3          Sarah         Sales        10004  76422.34\n",
              "4          Tania       Finance        10005  58753.00\n",
              "5          David            IT        10006  34323.44\n",
              "6           Mark            HR        10007  66544.60\n",
              "7          Alice     Marketing        10008  34354.66\n",
              "8        Charles            IT        10009  55234.96\n",
              "9            Bob       Finance        10010  39078.60\n",
              "10          Anna         Sales        10011  44567.88"
            ]
          },
          "metadata": {},
          "execution_count": 21
        }
      ]
    },
    {
      "cell_type": "code",
      "metadata": {
        "colab": {
          "base_uri": "https://localhost:8080/",
          "height": 204
        },
        "id": "tPdUGBZ2ReSu",
        "outputId": "e9a17e5f-76e2-496b-f39c-6886b32021a1"
      },
      "source": [
        "# print top 5 rows\n",
        "employee_records.head()"
      ],
      "execution_count": 22,
      "outputs": [
        {
          "output_type": "execute_result",
          "data": {
            "text/html": [
              "<div>\n",
              "<style scoped>\n",
              "    .dataframe tbody tr th:only-of-type {\n",
              "        vertical-align: middle;\n",
              "    }\n",
              "\n",
              "    .dataframe tbody tr th {\n",
              "        vertical-align: top;\n",
              "    }\n",
              "\n",
              "    .dataframe thead th {\n",
              "        text-align: right;\n",
              "    }\n",
              "</style>\n",
              "<table border=\"1\" class=\"dataframe\">\n",
              "  <thead>\n",
              "    <tr style=\"text-align: right;\">\n",
              "      <th></th>\n",
              "      <th>employee_name</th>\n",
              "      <th>employee_dept</th>\n",
              "      <th>employee_id</th>\n",
              "      <th>salary</th>\n",
              "    </tr>\n",
              "  </thead>\n",
              "  <tbody>\n",
              "    <tr>\n",
              "      <th>0</th>\n",
              "      <td>Sam</td>\n",
              "      <td>Research</td>\n",
              "      <td>10001</td>\n",
              "      <td>45034.88</td>\n",
              "    </tr>\n",
              "    <tr>\n",
              "      <th>1</th>\n",
              "      <td>Max</td>\n",
              "      <td>HR</td>\n",
              "      <td>10002</td>\n",
              "      <td>65343.45</td>\n",
              "    </tr>\n",
              "    <tr>\n",
              "      <th>2</th>\n",
              "      <td>Tony</td>\n",
              "      <td>Marketing</td>\n",
              "      <td>10003</td>\n",
              "      <td>53423.27</td>\n",
              "    </tr>\n",
              "    <tr>\n",
              "      <th>3</th>\n",
              "      <td>Sarah</td>\n",
              "      <td>Sales</td>\n",
              "      <td>10004</td>\n",
              "      <td>76422.34</td>\n",
              "    </tr>\n",
              "    <tr>\n",
              "      <th>4</th>\n",
              "      <td>Tania</td>\n",
              "      <td>Finance</td>\n",
              "      <td>10005</td>\n",
              "      <td>58753.00</td>\n",
              "    </tr>\n",
              "  </tbody>\n",
              "</table>\n",
              "</div>"
            ],
            "text/plain": [
              "  employee_name employee_dept  employee_id    salary\n",
              "0           Sam      Research        10001  45034.88\n",
              "1           Max            HR        10002  65343.45\n",
              "2          Tony     Marketing        10003  53423.27\n",
              "3         Sarah         Sales        10004  76422.34\n",
              "4         Tania       Finance        10005  58753.00"
            ]
          },
          "metadata": {},
          "execution_count": 22
        }
      ]
    },
    {
      "cell_type": "code",
      "metadata": {
        "colab": {
          "base_uri": "https://localhost:8080/",
          "height": 235
        },
        "id": "aEtLepE5Riyb",
        "outputId": "694bc3cc-9a12-4132-9a83-f6bc47ec23d2"
      },
      "source": [
        "# print bottom 6 rows\n",
        "employee_records.tail(6)"
      ],
      "execution_count": 23,
      "outputs": [
        {
          "output_type": "execute_result",
          "data": {
            "text/html": [
              "<div>\n",
              "<style scoped>\n",
              "    .dataframe tbody tr th:only-of-type {\n",
              "        vertical-align: middle;\n",
              "    }\n",
              "\n",
              "    .dataframe tbody tr th {\n",
              "        vertical-align: top;\n",
              "    }\n",
              "\n",
              "    .dataframe thead th {\n",
              "        text-align: right;\n",
              "    }\n",
              "</style>\n",
              "<table border=\"1\" class=\"dataframe\">\n",
              "  <thead>\n",
              "    <tr style=\"text-align: right;\">\n",
              "      <th></th>\n",
              "      <th>employee_name</th>\n",
              "      <th>employee_dept</th>\n",
              "      <th>employee_id</th>\n",
              "      <th>salary</th>\n",
              "    </tr>\n",
              "  </thead>\n",
              "  <tbody>\n",
              "    <tr>\n",
              "      <th>5</th>\n",
              "      <td>David</td>\n",
              "      <td>IT</td>\n",
              "      <td>10006</td>\n",
              "      <td>34323.44</td>\n",
              "    </tr>\n",
              "    <tr>\n",
              "      <th>6</th>\n",
              "      <td>Mark</td>\n",
              "      <td>HR</td>\n",
              "      <td>10007</td>\n",
              "      <td>66544.60</td>\n",
              "    </tr>\n",
              "    <tr>\n",
              "      <th>7</th>\n",
              "      <td>Alice</td>\n",
              "      <td>Marketing</td>\n",
              "      <td>10008</td>\n",
              "      <td>34354.66</td>\n",
              "    </tr>\n",
              "    <tr>\n",
              "      <th>8</th>\n",
              "      <td>Charles</td>\n",
              "      <td>IT</td>\n",
              "      <td>10009</td>\n",
              "      <td>55234.96</td>\n",
              "    </tr>\n",
              "    <tr>\n",
              "      <th>9</th>\n",
              "      <td>Bob</td>\n",
              "      <td>Finance</td>\n",
              "      <td>10010</td>\n",
              "      <td>39078.60</td>\n",
              "    </tr>\n",
              "    <tr>\n",
              "      <th>10</th>\n",
              "      <td>Anna</td>\n",
              "      <td>Sales</td>\n",
              "      <td>10011</td>\n",
              "      <td>44567.88</td>\n",
              "    </tr>\n",
              "  </tbody>\n",
              "</table>\n",
              "</div>"
            ],
            "text/plain": [
              "   employee_name employee_dept  employee_id    salary\n",
              "5          David            IT        10006  34323.44\n",
              "6           Mark            HR        10007  66544.60\n",
              "7          Alice     Marketing        10008  34354.66\n",
              "8        Charles            IT        10009  55234.96\n",
              "9            Bob       Finance        10010  39078.60\n",
              "10          Anna         Sales        10011  44567.88"
            ]
          },
          "metadata": {},
          "execution_count": 23
        }
      ]
    },
    {
      "cell_type": "code",
      "metadata": {
        "colab": {
          "base_uri": "https://localhost:8080/",
          "height": 390
        },
        "id": "fQmvdmeHR-is",
        "outputId": "a20230ea-aa17-4ba4-9ae7-efae21068530"
      },
      "source": [
        "# print bottom 6 rows\n",
        "employee_records.tail(10000000)"
      ],
      "execution_count": 24,
      "outputs": [
        {
          "output_type": "execute_result",
          "data": {
            "text/html": [
              "<div>\n",
              "<style scoped>\n",
              "    .dataframe tbody tr th:only-of-type {\n",
              "        vertical-align: middle;\n",
              "    }\n",
              "\n",
              "    .dataframe tbody tr th {\n",
              "        vertical-align: top;\n",
              "    }\n",
              "\n",
              "    .dataframe thead th {\n",
              "        text-align: right;\n",
              "    }\n",
              "</style>\n",
              "<table border=\"1\" class=\"dataframe\">\n",
              "  <thead>\n",
              "    <tr style=\"text-align: right;\">\n",
              "      <th></th>\n",
              "      <th>employee_name</th>\n",
              "      <th>employee_dept</th>\n",
              "      <th>employee_id</th>\n",
              "      <th>salary</th>\n",
              "    </tr>\n",
              "  </thead>\n",
              "  <tbody>\n",
              "    <tr>\n",
              "      <th>0</th>\n",
              "      <td>Sam</td>\n",
              "      <td>Research</td>\n",
              "      <td>10001</td>\n",
              "      <td>45034.88</td>\n",
              "    </tr>\n",
              "    <tr>\n",
              "      <th>1</th>\n",
              "      <td>Max</td>\n",
              "      <td>HR</td>\n",
              "      <td>10002</td>\n",
              "      <td>65343.45</td>\n",
              "    </tr>\n",
              "    <tr>\n",
              "      <th>2</th>\n",
              "      <td>Tony</td>\n",
              "      <td>Marketing</td>\n",
              "      <td>10003</td>\n",
              "      <td>53423.27</td>\n",
              "    </tr>\n",
              "    <tr>\n",
              "      <th>3</th>\n",
              "      <td>Sarah</td>\n",
              "      <td>Sales</td>\n",
              "      <td>10004</td>\n",
              "      <td>76422.34</td>\n",
              "    </tr>\n",
              "    <tr>\n",
              "      <th>4</th>\n",
              "      <td>Tania</td>\n",
              "      <td>Finance</td>\n",
              "      <td>10005</td>\n",
              "      <td>58753.00</td>\n",
              "    </tr>\n",
              "    <tr>\n",
              "      <th>5</th>\n",
              "      <td>David</td>\n",
              "      <td>IT</td>\n",
              "      <td>10006</td>\n",
              "      <td>34323.44</td>\n",
              "    </tr>\n",
              "    <tr>\n",
              "      <th>6</th>\n",
              "      <td>Mark</td>\n",
              "      <td>HR</td>\n",
              "      <td>10007</td>\n",
              "      <td>66544.60</td>\n",
              "    </tr>\n",
              "    <tr>\n",
              "      <th>7</th>\n",
              "      <td>Alice</td>\n",
              "      <td>Marketing</td>\n",
              "      <td>10008</td>\n",
              "      <td>34354.66</td>\n",
              "    </tr>\n",
              "    <tr>\n",
              "      <th>8</th>\n",
              "      <td>Charles</td>\n",
              "      <td>IT</td>\n",
              "      <td>10009</td>\n",
              "      <td>55234.96</td>\n",
              "    </tr>\n",
              "    <tr>\n",
              "      <th>9</th>\n",
              "      <td>Bob</td>\n",
              "      <td>Finance</td>\n",
              "      <td>10010</td>\n",
              "      <td>39078.60</td>\n",
              "    </tr>\n",
              "    <tr>\n",
              "      <th>10</th>\n",
              "      <td>Anna</td>\n",
              "      <td>Sales</td>\n",
              "      <td>10011</td>\n",
              "      <td>44567.88</td>\n",
              "    </tr>\n",
              "  </tbody>\n",
              "</table>\n",
              "</div>"
            ],
            "text/plain": [
              "   employee_name employee_dept  employee_id    salary\n",
              "0            Sam      Research        10001  45034.88\n",
              "1            Max            HR        10002  65343.45\n",
              "2           Tony     Marketing        10003  53423.27\n",
              "3          Sarah         Sales        10004  76422.34\n",
              "4          Tania       Finance        10005  58753.00\n",
              "5          David            IT        10006  34323.44\n",
              "6           Mark            HR        10007  66544.60\n",
              "7          Alice     Marketing        10008  34354.66\n",
              "8        Charles            IT        10009  55234.96\n",
              "9            Bob       Finance        10010  39078.60\n",
              "10          Anna         Sales        10011  44567.88"
            ]
          },
          "metadata": {},
          "execution_count": 24
        }
      ]
    },
    {
      "cell_type": "code",
      "metadata": {
        "colab": {
          "base_uri": "https://localhost:8080/"
        },
        "id": "mGzL6l9-Seyp",
        "outputId": "df83c7ad-20a6-4ae9-f43b-e72dace70612"
      },
      "source": [
        "#To do how pandas dataframe stores index?\n",
        "employee_records.index # It is not showing the correct index but the range. Pandas is ssaving our index as a range\n",
        "employee_records.index.values # It will show the Index values.\n",
        "\n",
        "#Displaying Column Names\n",
        "employee_records.keys()\n",
        "employee_records.columns"
      ],
      "execution_count": 25,
      "outputs": [
        {
          "output_type": "execute_result",
          "data": {
            "text/plain": [
              "Index(['employee_name', 'employee_dept', 'employee_id', 'salary'], dtype='object')"
            ]
          },
          "metadata": {},
          "execution_count": 25
        }
      ]
    },
    {
      "cell_type": "code",
      "metadata": {
        "colab": {
          "base_uri": "https://localhost:8080/"
        },
        "id": "Z7lo_yeKURfq",
        "outputId": "81ea1e1e-3339-4892-9ac5-6b19340d596d"
      },
      "source": [
        "#Convert Dataframe to NumPy, What would be use case for these?\n",
        "employee_records.to_numpy()"
      ],
      "execution_count": 26,
      "outputs": [
        {
          "output_type": "execute_result",
          "data": {
            "text/plain": [
              "array([['Sam', 'Research', 10001, 45034.88],\n",
              "       ['Max', 'HR', 10002, 65343.45],\n",
              "       ['Tony', 'Marketing', 10003, 53423.27],\n",
              "       ['Sarah', 'Sales', 10004, 76422.34],\n",
              "       ['Tania', 'Finance', 10005, 58753.0],\n",
              "       ['David', 'IT', 10006, 34323.44],\n",
              "       ['Mark', 'HR', 10007, 66544.6],\n",
              "       ['Alice', 'Marketing', 10008, 34354.66],\n",
              "       ['Charles', 'IT', 10009, 55234.96],\n",
              "       ['Bob', 'Finance', 10010, 39078.6],\n",
              "       ['Anna', 'Sales', 10011, 44567.88]], dtype=object)"
            ]
          },
          "metadata": {},
          "execution_count": 26
        }
      ]
    },
    {
      "cell_type": "code",
      "metadata": {
        "colab": {
          "base_uri": "https://localhost:8080/",
          "height": 390
        },
        "id": "O7X76inqUaLA",
        "outputId": "31cc82cf-7027-4c30-f9d9-f6ecb5f2485b"
      },
      "source": [
        "employee_records"
      ],
      "execution_count": 27,
      "outputs": [
        {
          "output_type": "execute_result",
          "data": {
            "text/html": [
              "<div>\n",
              "<style scoped>\n",
              "    .dataframe tbody tr th:only-of-type {\n",
              "        vertical-align: middle;\n",
              "    }\n",
              "\n",
              "    .dataframe tbody tr th {\n",
              "        vertical-align: top;\n",
              "    }\n",
              "\n",
              "    .dataframe thead th {\n",
              "        text-align: right;\n",
              "    }\n",
              "</style>\n",
              "<table border=\"1\" class=\"dataframe\">\n",
              "  <thead>\n",
              "    <tr style=\"text-align: right;\">\n",
              "      <th></th>\n",
              "      <th>employee_name</th>\n",
              "      <th>employee_dept</th>\n",
              "      <th>employee_id</th>\n",
              "      <th>salary</th>\n",
              "    </tr>\n",
              "  </thead>\n",
              "  <tbody>\n",
              "    <tr>\n",
              "      <th>0</th>\n",
              "      <td>Sam</td>\n",
              "      <td>Research</td>\n",
              "      <td>10001</td>\n",
              "      <td>45034.88</td>\n",
              "    </tr>\n",
              "    <tr>\n",
              "      <th>1</th>\n",
              "      <td>Max</td>\n",
              "      <td>HR</td>\n",
              "      <td>10002</td>\n",
              "      <td>65343.45</td>\n",
              "    </tr>\n",
              "    <tr>\n",
              "      <th>2</th>\n",
              "      <td>Tony</td>\n",
              "      <td>Marketing</td>\n",
              "      <td>10003</td>\n",
              "      <td>53423.27</td>\n",
              "    </tr>\n",
              "    <tr>\n",
              "      <th>3</th>\n",
              "      <td>Sarah</td>\n",
              "      <td>Sales</td>\n",
              "      <td>10004</td>\n",
              "      <td>76422.34</td>\n",
              "    </tr>\n",
              "    <tr>\n",
              "      <th>4</th>\n",
              "      <td>Tania</td>\n",
              "      <td>Finance</td>\n",
              "      <td>10005</td>\n",
              "      <td>58753.00</td>\n",
              "    </tr>\n",
              "    <tr>\n",
              "      <th>5</th>\n",
              "      <td>David</td>\n",
              "      <td>IT</td>\n",
              "      <td>10006</td>\n",
              "      <td>34323.44</td>\n",
              "    </tr>\n",
              "    <tr>\n",
              "      <th>6</th>\n",
              "      <td>Mark</td>\n",
              "      <td>HR</td>\n",
              "      <td>10007</td>\n",
              "      <td>66544.60</td>\n",
              "    </tr>\n",
              "    <tr>\n",
              "      <th>7</th>\n",
              "      <td>Alice</td>\n",
              "      <td>Marketing</td>\n",
              "      <td>10008</td>\n",
              "      <td>34354.66</td>\n",
              "    </tr>\n",
              "    <tr>\n",
              "      <th>8</th>\n",
              "      <td>Charles</td>\n",
              "      <td>IT</td>\n",
              "      <td>10009</td>\n",
              "      <td>55234.96</td>\n",
              "    </tr>\n",
              "    <tr>\n",
              "      <th>9</th>\n",
              "      <td>Bob</td>\n",
              "      <td>Finance</td>\n",
              "      <td>10010</td>\n",
              "      <td>39078.60</td>\n",
              "    </tr>\n",
              "    <tr>\n",
              "      <th>10</th>\n",
              "      <td>Anna</td>\n",
              "      <td>Sales</td>\n",
              "      <td>10011</td>\n",
              "      <td>44567.88</td>\n",
              "    </tr>\n",
              "  </tbody>\n",
              "</table>\n",
              "</div>"
            ],
            "text/plain": [
              "   employee_name employee_dept  employee_id    salary\n",
              "0            Sam      Research        10001  45034.88\n",
              "1            Max            HR        10002  65343.45\n",
              "2           Tony     Marketing        10003  53423.27\n",
              "3          Sarah         Sales        10004  76422.34\n",
              "4          Tania       Finance        10005  58753.00\n",
              "5          David            IT        10006  34323.44\n",
              "6           Mark            HR        10007  66544.60\n",
              "7          Alice     Marketing        10008  34354.66\n",
              "8        Charles            IT        10009  55234.96\n",
              "9            Bob       Finance        10010  39078.60\n",
              "10          Anna         Sales        10011  44567.88"
            ]
          },
          "metadata": {},
          "execution_count": 27
        }
      ]
    },
    {
      "cell_type": "code",
      "metadata": {
        "colab": {
          "base_uri": "https://localhost:8080/",
          "height": 142
        },
        "id": "OmgPYJsUers6",
        "outputId": "c29d6d5c-3694-40d5-f55d-7097648277b9"
      },
      "source": [
        "df = pd.DataFrame({'A': {0: 'a', 1: 'b', 2: 'c'},\n",
        "                   'B': {0: 1, 1: 3, 2: 5},\n",
        "                   'C': {0: 2, 1: 4, 2: 6}})\n",
        "df"
      ],
      "execution_count": 28,
      "outputs": [
        {
          "output_type": "execute_result",
          "data": {
            "text/html": [
              "<div>\n",
              "<style scoped>\n",
              "    .dataframe tbody tr th:only-of-type {\n",
              "        vertical-align: middle;\n",
              "    }\n",
              "\n",
              "    .dataframe tbody tr th {\n",
              "        vertical-align: top;\n",
              "    }\n",
              "\n",
              "    .dataframe thead th {\n",
              "        text-align: right;\n",
              "    }\n",
              "</style>\n",
              "<table border=\"1\" class=\"dataframe\">\n",
              "  <thead>\n",
              "    <tr style=\"text-align: right;\">\n",
              "      <th></th>\n",
              "      <th>A</th>\n",
              "      <th>B</th>\n",
              "      <th>C</th>\n",
              "    </tr>\n",
              "  </thead>\n",
              "  <tbody>\n",
              "    <tr>\n",
              "      <th>0</th>\n",
              "      <td>a</td>\n",
              "      <td>1</td>\n",
              "      <td>2</td>\n",
              "    </tr>\n",
              "    <tr>\n",
              "      <th>1</th>\n",
              "      <td>b</td>\n",
              "      <td>3</td>\n",
              "      <td>4</td>\n",
              "    </tr>\n",
              "    <tr>\n",
              "      <th>2</th>\n",
              "      <td>c</td>\n",
              "      <td>5</td>\n",
              "      <td>6</td>\n",
              "    </tr>\n",
              "  </tbody>\n",
              "</table>\n",
              "</div>"
            ],
            "text/plain": [
              "   A  B  C\n",
              "0  a  1  2\n",
              "1  b  3  4\n",
              "2  c  5  6"
            ]
          },
          "metadata": {},
          "execution_count": 28
        }
      ]
    },
    {
      "cell_type": "code",
      "metadata": {
        "colab": {
          "base_uri": "https://localhost:8080/",
          "height": 142
        },
        "id": "g0INQKu8fWML",
        "outputId": "1a2c30b4-1254-46bc-de9d-5c79dee08030"
      },
      "source": [
        "df.melt(id_vars=['A'], value_vars=['B'])"
      ],
      "execution_count": 29,
      "outputs": [
        {
          "output_type": "execute_result",
          "data": {
            "text/html": [
              "<div>\n",
              "<style scoped>\n",
              "    .dataframe tbody tr th:only-of-type {\n",
              "        vertical-align: middle;\n",
              "    }\n",
              "\n",
              "    .dataframe tbody tr th {\n",
              "        vertical-align: top;\n",
              "    }\n",
              "\n",
              "    .dataframe thead th {\n",
              "        text-align: right;\n",
              "    }\n",
              "</style>\n",
              "<table border=\"1\" class=\"dataframe\">\n",
              "  <thead>\n",
              "    <tr style=\"text-align: right;\">\n",
              "      <th></th>\n",
              "      <th>A</th>\n",
              "      <th>variable</th>\n",
              "      <th>value</th>\n",
              "    </tr>\n",
              "  </thead>\n",
              "  <tbody>\n",
              "    <tr>\n",
              "      <th>0</th>\n",
              "      <td>a</td>\n",
              "      <td>B</td>\n",
              "      <td>1</td>\n",
              "    </tr>\n",
              "    <tr>\n",
              "      <th>1</th>\n",
              "      <td>b</td>\n",
              "      <td>B</td>\n",
              "      <td>3</td>\n",
              "    </tr>\n",
              "    <tr>\n",
              "      <th>2</th>\n",
              "      <td>c</td>\n",
              "      <td>B</td>\n",
              "      <td>5</td>\n",
              "    </tr>\n",
              "  </tbody>\n",
              "</table>\n",
              "</div>"
            ],
            "text/plain": [
              "   A variable  value\n",
              "0  a        B      1\n",
              "1  b        B      3\n",
              "2  c        B      5"
            ]
          },
          "metadata": {},
          "execution_count": 29
        }
      ]
    },
    {
      "cell_type": "code",
      "metadata": {
        "colab": {
          "base_uri": "https://localhost:8080/",
          "height": 235
        },
        "id": "5QDLIB1pfucd",
        "outputId": "01144377-dca7-4184-8b17-5d82c9b22858"
      },
      "source": [
        "df.melt(id_vars=['A'], value_vars=['B', 'C'])\n"
      ],
      "execution_count": 30,
      "outputs": [
        {
          "output_type": "execute_result",
          "data": {
            "text/html": [
              "<div>\n",
              "<style scoped>\n",
              "    .dataframe tbody tr th:only-of-type {\n",
              "        vertical-align: middle;\n",
              "    }\n",
              "\n",
              "    .dataframe tbody tr th {\n",
              "        vertical-align: top;\n",
              "    }\n",
              "\n",
              "    .dataframe thead th {\n",
              "        text-align: right;\n",
              "    }\n",
              "</style>\n",
              "<table border=\"1\" class=\"dataframe\">\n",
              "  <thead>\n",
              "    <tr style=\"text-align: right;\">\n",
              "      <th></th>\n",
              "      <th>A</th>\n",
              "      <th>variable</th>\n",
              "      <th>value</th>\n",
              "    </tr>\n",
              "  </thead>\n",
              "  <tbody>\n",
              "    <tr>\n",
              "      <th>0</th>\n",
              "      <td>a</td>\n",
              "      <td>B</td>\n",
              "      <td>1</td>\n",
              "    </tr>\n",
              "    <tr>\n",
              "      <th>1</th>\n",
              "      <td>b</td>\n",
              "      <td>B</td>\n",
              "      <td>3</td>\n",
              "    </tr>\n",
              "    <tr>\n",
              "      <th>2</th>\n",
              "      <td>c</td>\n",
              "      <td>B</td>\n",
              "      <td>5</td>\n",
              "    </tr>\n",
              "    <tr>\n",
              "      <th>3</th>\n",
              "      <td>a</td>\n",
              "      <td>C</td>\n",
              "      <td>2</td>\n",
              "    </tr>\n",
              "    <tr>\n",
              "      <th>4</th>\n",
              "      <td>b</td>\n",
              "      <td>C</td>\n",
              "      <td>4</td>\n",
              "    </tr>\n",
              "    <tr>\n",
              "      <th>5</th>\n",
              "      <td>c</td>\n",
              "      <td>C</td>\n",
              "      <td>6</td>\n",
              "    </tr>\n",
              "  </tbody>\n",
              "</table>\n",
              "</div>"
            ],
            "text/plain": [
              "   A variable  value\n",
              "0  a        B      1\n",
              "1  b        B      3\n",
              "2  c        B      5\n",
              "3  a        C      2\n",
              "4  b        C      4\n",
              "5  c        C      6"
            ]
          },
          "metadata": {},
          "execution_count": 30
        }
      ]
    },
    {
      "cell_type": "code",
      "metadata": {
        "id": "U1ZJVaAHhSTK",
        "colab": {
          "base_uri": "https://localhost:8080/",
          "height": 198
        },
        "outputId": "ff837f6e-4c01-4129-e603-5d588168b0f5"
      },
      "source": [
        "df = pd.DataFrame(np.random.randn(8, 3), index=index, columns=[\"A\", \"B\", \"C\"])\n",
        "s = pd.Series(np.random.randn(5), index=[\"a\", \"b\", \"c\", \"d\", \"e\"])\n",
        "index = pd.date_range(\"1/1/2000\", periods=8)"
      ],
      "execution_count": 31,
      "outputs": [
        {
          "output_type": "error",
          "ename": "NameError",
          "evalue": "ignored",
          "traceback": [
            "\u001b[0;31m---------------------------------------------------------------------------\u001b[0m",
            "\u001b[0;31mNameError\u001b[0m                                 Traceback (most recent call last)",
            "\u001b[0;32m<ipython-input-31-cc118b4dd4a3>\u001b[0m in \u001b[0;36m<module>\u001b[0;34m()\u001b[0m\n\u001b[0;32m----> 1\u001b[0;31m \u001b[0mdf\u001b[0m \u001b[0;34m=\u001b[0m \u001b[0mpd\u001b[0m\u001b[0;34m.\u001b[0m\u001b[0mDataFrame\u001b[0m\u001b[0;34m(\u001b[0m\u001b[0mnp\u001b[0m\u001b[0;34m.\u001b[0m\u001b[0mrandom\u001b[0m\u001b[0;34m.\u001b[0m\u001b[0mrandn\u001b[0m\u001b[0;34m(\u001b[0m\u001b[0;36m8\u001b[0m\u001b[0;34m,\u001b[0m \u001b[0;36m3\u001b[0m\u001b[0;34m)\u001b[0m\u001b[0;34m,\u001b[0m \u001b[0mindex\u001b[0m\u001b[0;34m=\u001b[0m\u001b[0mindex\u001b[0m\u001b[0;34m,\u001b[0m \u001b[0mcolumns\u001b[0m\u001b[0;34m=\u001b[0m\u001b[0;34m[\u001b[0m\u001b[0;34m\"A\"\u001b[0m\u001b[0;34m,\u001b[0m \u001b[0;34m\"B\"\u001b[0m\u001b[0;34m,\u001b[0m \u001b[0;34m\"C\"\u001b[0m\u001b[0;34m]\u001b[0m\u001b[0;34m)\u001b[0m\u001b[0;34m\u001b[0m\u001b[0;34m\u001b[0m\u001b[0m\n\u001b[0m\u001b[1;32m      2\u001b[0m \u001b[0ms\u001b[0m \u001b[0;34m=\u001b[0m \u001b[0mpd\u001b[0m\u001b[0;34m.\u001b[0m\u001b[0mSeries\u001b[0m\u001b[0;34m(\u001b[0m\u001b[0mnp\u001b[0m\u001b[0;34m.\u001b[0m\u001b[0mrandom\u001b[0m\u001b[0;34m.\u001b[0m\u001b[0mrandn\u001b[0m\u001b[0;34m(\u001b[0m\u001b[0;36m5\u001b[0m\u001b[0;34m)\u001b[0m\u001b[0;34m,\u001b[0m \u001b[0mindex\u001b[0m\u001b[0;34m=\u001b[0m\u001b[0;34m[\u001b[0m\u001b[0;34m\"a\"\u001b[0m\u001b[0;34m,\u001b[0m \u001b[0;34m\"b\"\u001b[0m\u001b[0;34m,\u001b[0m \u001b[0;34m\"c\"\u001b[0m\u001b[0;34m,\u001b[0m \u001b[0;34m\"d\"\u001b[0m\u001b[0;34m,\u001b[0m \u001b[0;34m\"e\"\u001b[0m\u001b[0;34m]\u001b[0m\u001b[0;34m)\u001b[0m\u001b[0;34m\u001b[0m\u001b[0;34m\u001b[0m\u001b[0m\n\u001b[1;32m      3\u001b[0m \u001b[0mindex\u001b[0m \u001b[0;34m=\u001b[0m \u001b[0mpd\u001b[0m\u001b[0;34m.\u001b[0m\u001b[0mdate_range\u001b[0m\u001b[0;34m(\u001b[0m\u001b[0;34m\"1/1/2000\"\u001b[0m\u001b[0;34m,\u001b[0m \u001b[0mperiods\u001b[0m\u001b[0;34m=\u001b[0m\u001b[0;36m8\u001b[0m\u001b[0;34m)\u001b[0m\u001b[0;34m\u001b[0m\u001b[0;34m\u001b[0m\u001b[0m\n",
            "\u001b[0;31mNameError\u001b[0m: name 'index' is not defined"
          ]
        }
      ]
    },
    {
      "cell_type": "code",
      "metadata": {
        "colab": {
          "base_uri": "https://localhost:8080/"
        },
        "id": "_GT-b4UkgWXX",
        "outputId": "c56e3b0a-e32a-407a-bbc6-4bcce252a883"
      },
      "source": [
        "index1 = pd.date_range('1/1/2021', periods=8, freq='D')\n",
        "index2 = pd.date_range('1/1/2021', periods=8, freq='M')\n",
        "index3 = pd.date_range('1/1/2021', periods=8, freq='Y')\n",
        "\n",
        "index3"
      ],
      "execution_count": 32,
      "outputs": [
        {
          "output_type": "execute_result",
          "data": {
            "text/plain": [
              "DatetimeIndex(['2021-12-31', '2022-12-31', '2023-12-31', '2024-12-31',\n",
              "               '2025-12-31', '2026-12-31', '2027-12-31', '2028-12-31'],\n",
              "              dtype='datetime64[ns]', freq='A-DEC')"
            ]
          },
          "metadata": {},
          "execution_count": 32
        }
      ]
    },
    {
      "cell_type": "code",
      "metadata": {
        "colab": {
          "base_uri": "https://localhost:8080/"
        },
        "id": "GTG5MfzHhG9x",
        "outputId": "c74df74a-0b7b-4414-a864-5c9e394dfb5e"
      },
      "source": [
        "long_series = pd.Series(np.random.randn(1000))\n",
        "long_series"
      ],
      "execution_count": 33,
      "outputs": [
        {
          "output_type": "execute_result",
          "data": {
            "text/plain": [
              "0      1.694720\n",
              "1      0.517790\n",
              "2      0.223495\n",
              "3      0.329717\n",
              "4     -0.049942\n",
              "         ...   \n",
              "995   -0.200354\n",
              "996   -2.391184\n",
              "997    0.254286\n",
              "998    0.870401\n",
              "999    0.090848\n",
              "Length: 1000, dtype: float64"
            ]
          },
          "metadata": {},
          "execution_count": 33
        }
      ]
    },
    {
      "cell_type": "code",
      "metadata": {
        "colab": {
          "base_uri": "https://localhost:8080/"
        },
        "id": "kn-t2RKaghqg",
        "outputId": "398c8725-fafb-4db9-8602-8c6cec1d8ab4"
      },
      "source": [
        "type(index3)"
      ],
      "execution_count": 34,
      "outputs": [
        {
          "output_type": "execute_result",
          "data": {
            "text/plain": [
              "pandas.core.indexes.datetimes.DatetimeIndex"
            ]
          },
          "metadata": {},
          "execution_count": 34
        }
      ]
    },
    {
      "cell_type": "code",
      "metadata": {
        "colab": {
          "base_uri": "https://localhost:8080/",
          "height": 142
        },
        "id": "aJcrAUlshW-B",
        "outputId": "a51c7b29-b659-45bf-e11e-3347bdb80206"
      },
      "source": [
        "df"
      ],
      "execution_count": 35,
      "outputs": [
        {
          "output_type": "execute_result",
          "data": {
            "text/html": [
              "<div>\n",
              "<style scoped>\n",
              "    .dataframe tbody tr th:only-of-type {\n",
              "        vertical-align: middle;\n",
              "    }\n",
              "\n",
              "    .dataframe tbody tr th {\n",
              "        vertical-align: top;\n",
              "    }\n",
              "\n",
              "    .dataframe thead th {\n",
              "        text-align: right;\n",
              "    }\n",
              "</style>\n",
              "<table border=\"1\" class=\"dataframe\">\n",
              "  <thead>\n",
              "    <tr style=\"text-align: right;\">\n",
              "      <th></th>\n",
              "      <th>A</th>\n",
              "      <th>B</th>\n",
              "      <th>C</th>\n",
              "    </tr>\n",
              "  </thead>\n",
              "  <tbody>\n",
              "    <tr>\n",
              "      <th>0</th>\n",
              "      <td>a</td>\n",
              "      <td>1</td>\n",
              "      <td>2</td>\n",
              "    </tr>\n",
              "    <tr>\n",
              "      <th>1</th>\n",
              "      <td>b</td>\n",
              "      <td>3</td>\n",
              "      <td>4</td>\n",
              "    </tr>\n",
              "    <tr>\n",
              "      <th>2</th>\n",
              "      <td>c</td>\n",
              "      <td>5</td>\n",
              "      <td>6</td>\n",
              "    </tr>\n",
              "  </tbody>\n",
              "</table>\n",
              "</div>"
            ],
            "text/plain": [
              "   A  B  C\n",
              "0  a  1  2\n",
              "1  b  3  4\n",
              "2  c  5  6"
            ]
          },
          "metadata": {},
          "execution_count": 35
        }
      ]
    },
    {
      "cell_type": "code",
      "metadata": {
        "id": "PMMWDIgvhdQC"
      },
      "source": [
        ""
      ],
      "execution_count": null,
      "outputs": []
    },
    {
      "cell_type": "markdown",
      "metadata": {
        "id": "ydQfvDQci3eX"
      },
      "source": [
        "# Accessing Items of DF\n",
        "\n",
        "shape: gives the axis dimensions of the object, consistent with ndarray\n",
        "\n",
        "Axis labels\n",
        "Series: index (only axis)\n",
        "\n",
        "DataFrame: index (rows) and columns"
      ]
    },
    {
      "cell_type": "code",
      "metadata": {
        "colab": {
          "base_uri": "https://localhost:8080/"
        },
        "id": "lJ51SJZUiCt1",
        "outputId": "6fbb5247-ec65-4d7b-945b-1c9385a74e1e"
      },
      "source": [
        "# Accessing dataframe [row][column]\n",
        "print(df[:2][:2])\n"
      ],
      "execution_count": 50,
      "outputs": [
        {
          "output_type": "stream",
          "name": "stdout",
          "text": [
            "   a  b  c\n",
            "0  a  1  2\n",
            "1  b  3  4\n"
          ]
        }
      ]
    },
    {
      "cell_type": "code",
      "metadata": {
        "colab": {
          "base_uri": "https://localhost:8080/"
        },
        "id": "NrK1CJS6i_JH",
        "outputId": "fd92395e-25ac-48c7-c792-bc61c80bcd8b"
      },
      "source": [
        "\n",
        "#Accessing column\n",
        "print(df['a'])\n"
      ],
      "execution_count": 52,
      "outputs": [
        {
          "output_type": "stream",
          "name": "stdout",
          "text": [
            "0    a\n",
            "1    b\n",
            "2    c\n",
            "Name: a, dtype: object\n"
          ]
        }
      ]
    },
    {
      "cell_type": "code",
      "metadata": {
        "colab": {
          "base_uri": "https://localhost:8080/"
        },
        "id": "r-zQfp0WjBe_",
        "outputId": "ca21bc5c-d3ab-4726-e25d-a8d32514ae9c"
      },
      "source": [
        "#Accessing particular value\n",
        "print(df['a'][1])\n",
        "print(df[:2][:2])"
      ],
      "execution_count": 53,
      "outputs": [
        {
          "output_type": "stream",
          "name": "stdout",
          "text": [
            "b\n",
            "   a  b  c\n",
            "0  a  1  2\n",
            "1  b  3  4\n"
          ]
        }
      ]
    },
    {
      "cell_type": "code",
      "metadata": {
        "colab": {
          "base_uri": "https://localhost:8080/",
          "height": 142
        },
        "id": "Dnx6mdmIjc64",
        "outputId": "664738a5-13f7-4460-910a-ce39a3af2a94"
      },
      "source": [
        "df.columns = [x.lower() for x in df.columns]\n",
        "df"
      ],
      "execution_count": 45,
      "outputs": [
        {
          "output_type": "execute_result",
          "data": {
            "text/html": [
              "<div>\n",
              "<style scoped>\n",
              "    .dataframe tbody tr th:only-of-type {\n",
              "        vertical-align: middle;\n",
              "    }\n",
              "\n",
              "    .dataframe tbody tr th {\n",
              "        vertical-align: top;\n",
              "    }\n",
              "\n",
              "    .dataframe thead th {\n",
              "        text-align: right;\n",
              "    }\n",
              "</style>\n",
              "<table border=\"1\" class=\"dataframe\">\n",
              "  <thead>\n",
              "    <tr style=\"text-align: right;\">\n",
              "      <th></th>\n",
              "      <th>a</th>\n",
              "      <th>b</th>\n",
              "      <th>c</th>\n",
              "    </tr>\n",
              "  </thead>\n",
              "  <tbody>\n",
              "    <tr>\n",
              "      <th>0</th>\n",
              "      <td>a</td>\n",
              "      <td>1</td>\n",
              "      <td>2</td>\n",
              "    </tr>\n",
              "    <tr>\n",
              "      <th>1</th>\n",
              "      <td>b</td>\n",
              "      <td>3</td>\n",
              "      <td>4</td>\n",
              "    </tr>\n",
              "    <tr>\n",
              "      <th>2</th>\n",
              "      <td>c</td>\n",
              "      <td>5</td>\n",
              "      <td>6</td>\n",
              "    </tr>\n",
              "  </tbody>\n",
              "</table>\n",
              "</div>"
            ],
            "text/plain": [
              "   a  b  c\n",
              "0  a  1  2\n",
              "1  b  3  4\n",
              "2  c  5  6"
            ]
          },
          "metadata": {},
          "execution_count": 45
        }
      ]
    },
    {
      "cell_type": "code",
      "metadata": {
        "colab": {
          "base_uri": "https://localhost:8080/",
          "height": 164
        },
        "id": "U1goNPsBjt5w",
        "outputId": "908f5f93-4438-4d77-da5b-070b227be706"
      },
      "source": [
        "s.array"
      ],
      "execution_count": 54,
      "outputs": [
        {
          "output_type": "error",
          "ename": "NameError",
          "evalue": "ignored",
          "traceback": [
            "\u001b[0;31m---------------------------------------------------------------------------\u001b[0m",
            "\u001b[0;31mNameError\u001b[0m                                 Traceback (most recent call last)",
            "\u001b[0;32m<ipython-input-54-1d7e2c322dbe>\u001b[0m in \u001b[0;36m<module>\u001b[0;34m()\u001b[0m\n\u001b[0;32m----> 1\u001b[0;31m \u001b[0ms\u001b[0m\u001b[0;34m.\u001b[0m\u001b[0marray\u001b[0m\u001b[0;34m\u001b[0m\u001b[0;34m\u001b[0m\u001b[0m\n\u001b[0m",
            "\u001b[0;31mNameError\u001b[0m: name 's' is not defined"
          ]
        }
      ]
    },
    {
      "cell_type": "code",
      "metadata": {
        "colab": {
          "base_uri": "https://localhost:8080/",
          "height": 164
        },
        "id": "vWPWMGBukNCs",
        "outputId": "f8ee1dcd-bef9-4565-9344-b910a4b54a5b"
      },
      "source": [
        "s.index.array"
      ],
      "execution_count": 55,
      "outputs": [
        {
          "output_type": "error",
          "ename": "NameError",
          "evalue": "ignored",
          "traceback": [
            "\u001b[0;31m---------------------------------------------------------------------------\u001b[0m",
            "\u001b[0;31mNameError\u001b[0m                                 Traceback (most recent call last)",
            "\u001b[0;32m<ipython-input-55-b0768ed2b451>\u001b[0m in \u001b[0;36m<module>\u001b[0;34m()\u001b[0m\n\u001b[0;32m----> 1\u001b[0;31m \u001b[0ms\u001b[0m\u001b[0;34m.\u001b[0m\u001b[0mindex\u001b[0m\u001b[0;34m.\u001b[0m\u001b[0marray\u001b[0m\u001b[0;34m\u001b[0m\u001b[0;34m\u001b[0m\u001b[0m\n\u001b[0m",
            "\u001b[0;31mNameError\u001b[0m: name 's' is not defined"
          ]
        }
      ]
    },
    {
      "cell_type": "code",
      "metadata": {
        "colab": {
          "base_uri": "https://localhost:8080/",
          "height": 164
        },
        "id": "kom-ukP4kQGT",
        "outputId": "b0e4c472-b59d-4e36-b971-938c4887cefe"
      },
      "source": [
        "s.to_numpy()"
      ],
      "execution_count": 56,
      "outputs": [
        {
          "output_type": "error",
          "ename": "NameError",
          "evalue": "ignored",
          "traceback": [
            "\u001b[0;31m---------------------------------------------------------------------------\u001b[0m",
            "\u001b[0;31mNameError\u001b[0m                                 Traceback (most recent call last)",
            "\u001b[0;32m<ipython-input-56-a18b0f3c6f4a>\u001b[0m in \u001b[0;36m<module>\u001b[0;34m()\u001b[0m\n\u001b[0;32m----> 1\u001b[0;31m \u001b[0ms\u001b[0m\u001b[0;34m.\u001b[0m\u001b[0mto_numpy\u001b[0m\u001b[0;34m(\u001b[0m\u001b[0;34m)\u001b[0m\u001b[0;34m\u001b[0m\u001b[0;34m\u001b[0m\u001b[0m\n\u001b[0m",
            "\u001b[0;31mNameError\u001b[0m: name 's' is not defined"
          ]
        }
      ]
    },
    {
      "cell_type": "code",
      "metadata": {
        "colab": {
          "base_uri": "https://localhost:8080/",
          "height": 390
        },
        "id": "w34pEDzHmWkw",
        "outputId": "1a873fc7-72b1-405d-dc73-4fb499dd49f1"
      },
      "source": [
        "employee_records"
      ],
      "execution_count": 57,
      "outputs": [
        {
          "output_type": "execute_result",
          "data": {
            "text/html": [
              "<div>\n",
              "<style scoped>\n",
              "    .dataframe tbody tr th:only-of-type {\n",
              "        vertical-align: middle;\n",
              "    }\n",
              "\n",
              "    .dataframe tbody tr th {\n",
              "        vertical-align: top;\n",
              "    }\n",
              "\n",
              "    .dataframe thead th {\n",
              "        text-align: right;\n",
              "    }\n",
              "</style>\n",
              "<table border=\"1\" class=\"dataframe\">\n",
              "  <thead>\n",
              "    <tr style=\"text-align: right;\">\n",
              "      <th></th>\n",
              "      <th>employee_name</th>\n",
              "      <th>employee_dept</th>\n",
              "      <th>employee_id</th>\n",
              "      <th>salary</th>\n",
              "    </tr>\n",
              "  </thead>\n",
              "  <tbody>\n",
              "    <tr>\n",
              "      <th>0</th>\n",
              "      <td>Sam</td>\n",
              "      <td>Research</td>\n",
              "      <td>10001</td>\n",
              "      <td>45034.88</td>\n",
              "    </tr>\n",
              "    <tr>\n",
              "      <th>1</th>\n",
              "      <td>Max</td>\n",
              "      <td>HR</td>\n",
              "      <td>10002</td>\n",
              "      <td>65343.45</td>\n",
              "    </tr>\n",
              "    <tr>\n",
              "      <th>2</th>\n",
              "      <td>Tony</td>\n",
              "      <td>Marketing</td>\n",
              "      <td>10003</td>\n",
              "      <td>53423.27</td>\n",
              "    </tr>\n",
              "    <tr>\n",
              "      <th>3</th>\n",
              "      <td>Sarah</td>\n",
              "      <td>Sales</td>\n",
              "      <td>10004</td>\n",
              "      <td>76422.34</td>\n",
              "    </tr>\n",
              "    <tr>\n",
              "      <th>4</th>\n",
              "      <td>Tania</td>\n",
              "      <td>Finance</td>\n",
              "      <td>10005</td>\n",
              "      <td>58753.00</td>\n",
              "    </tr>\n",
              "    <tr>\n",
              "      <th>5</th>\n",
              "      <td>David</td>\n",
              "      <td>IT</td>\n",
              "      <td>10006</td>\n",
              "      <td>34323.44</td>\n",
              "    </tr>\n",
              "    <tr>\n",
              "      <th>6</th>\n",
              "      <td>Mark</td>\n",
              "      <td>HR</td>\n",
              "      <td>10007</td>\n",
              "      <td>66544.60</td>\n",
              "    </tr>\n",
              "    <tr>\n",
              "      <th>7</th>\n",
              "      <td>Alice</td>\n",
              "      <td>Marketing</td>\n",
              "      <td>10008</td>\n",
              "      <td>34354.66</td>\n",
              "    </tr>\n",
              "    <tr>\n",
              "      <th>8</th>\n",
              "      <td>Charles</td>\n",
              "      <td>IT</td>\n",
              "      <td>10009</td>\n",
              "      <td>55234.96</td>\n",
              "    </tr>\n",
              "    <tr>\n",
              "      <th>9</th>\n",
              "      <td>Bob</td>\n",
              "      <td>Finance</td>\n",
              "      <td>10010</td>\n",
              "      <td>39078.60</td>\n",
              "    </tr>\n",
              "    <tr>\n",
              "      <th>10</th>\n",
              "      <td>Anna</td>\n",
              "      <td>Sales</td>\n",
              "      <td>10011</td>\n",
              "      <td>44567.88</td>\n",
              "    </tr>\n",
              "  </tbody>\n",
              "</table>\n",
              "</div>"
            ],
            "text/plain": [
              "   employee_name employee_dept  employee_id    salary\n",
              "0            Sam      Research        10001  45034.88\n",
              "1            Max            HR        10002  65343.45\n",
              "2           Tony     Marketing        10003  53423.27\n",
              "3          Sarah         Sales        10004  76422.34\n",
              "4          Tania       Finance        10005  58753.00\n",
              "5          David            IT        10006  34323.44\n",
              "6           Mark            HR        10007  66544.60\n",
              "7          Alice     Marketing        10008  34354.66\n",
              "8        Charles            IT        10009  55234.96\n",
              "9            Bob       Finance        10010  39078.60\n",
              "10          Anna         Sales        10011  44567.88"
            ]
          },
          "metadata": {},
          "execution_count": 57
        }
      ]
    },
    {
      "cell_type": "code",
      "metadata": {
        "colab": {
          "base_uri": "https://localhost:8080/",
          "height": 297
        },
        "id": "nkqlPAxImgfK",
        "outputId": "cb30e05a-c428-4754-bf9a-9ee6457e910a"
      },
      "source": [
        "employee_records.describe()"
      ],
      "execution_count": 40,
      "outputs": [
        {
          "output_type": "execute_result",
          "data": {
            "text/html": [
              "<div>\n",
              "<style scoped>\n",
              "    .dataframe tbody tr th:only-of-type {\n",
              "        vertical-align: middle;\n",
              "    }\n",
              "\n",
              "    .dataframe tbody tr th {\n",
              "        vertical-align: top;\n",
              "    }\n",
              "\n",
              "    .dataframe thead th {\n",
              "        text-align: right;\n",
              "    }\n",
              "</style>\n",
              "<table border=\"1\" class=\"dataframe\">\n",
              "  <thead>\n",
              "    <tr style=\"text-align: right;\">\n",
              "      <th></th>\n",
              "      <th>employee_id</th>\n",
              "      <th>salary</th>\n",
              "    </tr>\n",
              "  </thead>\n",
              "  <tbody>\n",
              "    <tr>\n",
              "      <th>count</th>\n",
              "      <td>11.000000</td>\n",
              "      <td>11.000000</td>\n",
              "    </tr>\n",
              "    <tr>\n",
              "      <th>mean</th>\n",
              "      <td>10006.000000</td>\n",
              "      <td>52098.280000</td>\n",
              "    </tr>\n",
              "    <tr>\n",
              "      <th>std</th>\n",
              "      <td>3.316625</td>\n",
              "      <td>13923.224633</td>\n",
              "    </tr>\n",
              "    <tr>\n",
              "      <th>min</th>\n",
              "      <td>10001.000000</td>\n",
              "      <td>34323.440000</td>\n",
              "    </tr>\n",
              "    <tr>\n",
              "      <th>25%</th>\n",
              "      <td>10003.500000</td>\n",
              "      <td>41823.240000</td>\n",
              "    </tr>\n",
              "    <tr>\n",
              "      <th>50%</th>\n",
              "      <td>10006.000000</td>\n",
              "      <td>53423.270000</td>\n",
              "    </tr>\n",
              "    <tr>\n",
              "      <th>75%</th>\n",
              "      <td>10008.500000</td>\n",
              "      <td>62048.225000</td>\n",
              "    </tr>\n",
              "    <tr>\n",
              "      <th>max</th>\n",
              "      <td>10011.000000</td>\n",
              "      <td>76422.340000</td>\n",
              "    </tr>\n",
              "  </tbody>\n",
              "</table>\n",
              "</div>"
            ],
            "text/plain": [
              "        employee_id        salary\n",
              "count     11.000000     11.000000\n",
              "mean   10006.000000  52098.280000\n",
              "std        3.316625  13923.224633\n",
              "min    10001.000000  34323.440000\n",
              "25%    10003.500000  41823.240000\n",
              "50%    10006.000000  53423.270000\n",
              "75%    10008.500000  62048.225000\n",
              "max    10011.000000  76422.340000"
            ]
          },
          "metadata": {},
          "execution_count": 40
        }
      ]
    },
    {
      "cell_type": "code",
      "metadata": {
        "colab": {
          "base_uri": "https://localhost:8080/",
          "height": 390
        },
        "id": "ccgsuUP4nMrG",
        "outputId": "526f9c4f-d6b5-41ca-e59c-43d84a359e3b"
      },
      "source": [
        "employee_records.describe(include='all')"
      ],
      "execution_count": 39,
      "outputs": [
        {
          "output_type": "execute_result",
          "data": {
            "text/html": [
              "<div>\n",
              "<style scoped>\n",
              "    .dataframe tbody tr th:only-of-type {\n",
              "        vertical-align: middle;\n",
              "    }\n",
              "\n",
              "    .dataframe tbody tr th {\n",
              "        vertical-align: top;\n",
              "    }\n",
              "\n",
              "    .dataframe thead th {\n",
              "        text-align: right;\n",
              "    }\n",
              "</style>\n",
              "<table border=\"1\" class=\"dataframe\">\n",
              "  <thead>\n",
              "    <tr style=\"text-align: right;\">\n",
              "      <th></th>\n",
              "      <th>employee_name</th>\n",
              "      <th>employee_dept</th>\n",
              "      <th>employee_id</th>\n",
              "      <th>salary</th>\n",
              "    </tr>\n",
              "  </thead>\n",
              "  <tbody>\n",
              "    <tr>\n",
              "      <th>count</th>\n",
              "      <td>11</td>\n",
              "      <td>11</td>\n",
              "      <td>11.000000</td>\n",
              "      <td>11.000000</td>\n",
              "    </tr>\n",
              "    <tr>\n",
              "      <th>unique</th>\n",
              "      <td>11</td>\n",
              "      <td>6</td>\n",
              "      <td>NaN</td>\n",
              "      <td>NaN</td>\n",
              "    </tr>\n",
              "    <tr>\n",
              "      <th>top</th>\n",
              "      <td>Charles</td>\n",
              "      <td>Marketing</td>\n",
              "      <td>NaN</td>\n",
              "      <td>NaN</td>\n",
              "    </tr>\n",
              "    <tr>\n",
              "      <th>freq</th>\n",
              "      <td>1</td>\n",
              "      <td>2</td>\n",
              "      <td>NaN</td>\n",
              "      <td>NaN</td>\n",
              "    </tr>\n",
              "    <tr>\n",
              "      <th>mean</th>\n",
              "      <td>NaN</td>\n",
              "      <td>NaN</td>\n",
              "      <td>10006.000000</td>\n",
              "      <td>52098.280000</td>\n",
              "    </tr>\n",
              "    <tr>\n",
              "      <th>std</th>\n",
              "      <td>NaN</td>\n",
              "      <td>NaN</td>\n",
              "      <td>3.316625</td>\n",
              "      <td>13923.224633</td>\n",
              "    </tr>\n",
              "    <tr>\n",
              "      <th>min</th>\n",
              "      <td>NaN</td>\n",
              "      <td>NaN</td>\n",
              "      <td>10001.000000</td>\n",
              "      <td>34323.440000</td>\n",
              "    </tr>\n",
              "    <tr>\n",
              "      <th>25%</th>\n",
              "      <td>NaN</td>\n",
              "      <td>NaN</td>\n",
              "      <td>10003.500000</td>\n",
              "      <td>41823.240000</td>\n",
              "    </tr>\n",
              "    <tr>\n",
              "      <th>50%</th>\n",
              "      <td>NaN</td>\n",
              "      <td>NaN</td>\n",
              "      <td>10006.000000</td>\n",
              "      <td>53423.270000</td>\n",
              "    </tr>\n",
              "    <tr>\n",
              "      <th>75%</th>\n",
              "      <td>NaN</td>\n",
              "      <td>NaN</td>\n",
              "      <td>10008.500000</td>\n",
              "      <td>62048.225000</td>\n",
              "    </tr>\n",
              "    <tr>\n",
              "      <th>max</th>\n",
              "      <td>NaN</td>\n",
              "      <td>NaN</td>\n",
              "      <td>10011.000000</td>\n",
              "      <td>76422.340000</td>\n",
              "    </tr>\n",
              "  </tbody>\n",
              "</table>\n",
              "</div>"
            ],
            "text/plain": [
              "       employee_name employee_dept   employee_id        salary\n",
              "count             11            11     11.000000     11.000000\n",
              "unique            11             6           NaN           NaN\n",
              "top          Charles     Marketing           NaN           NaN\n",
              "freq               1             2           NaN           NaN\n",
              "mean             NaN           NaN  10006.000000  52098.280000\n",
              "std              NaN           NaN      3.316625  13923.224633\n",
              "min              NaN           NaN  10001.000000  34323.440000\n",
              "25%              NaN           NaN  10003.500000  41823.240000\n",
              "50%              NaN           NaN  10006.000000  53423.270000\n",
              "75%              NaN           NaN  10008.500000  62048.225000\n",
              "max              NaN           NaN  10011.000000  76422.340000"
            ]
          },
          "metadata": {},
          "execution_count": 39
        }
      ]
    },
    {
      "cell_type": "code",
      "metadata": {
        "colab": {
          "base_uri": "https://localhost:8080/",
          "height": 173
        },
        "id": "clms3EhnnnaC",
        "outputId": "71aed958-5709-45ff-daef-a7ecd80ca6be"
      },
      "source": [
        "# Transpose\n",
        "employee_records.T"
      ],
      "execution_count": 38,
      "outputs": [
        {
          "output_type": "execute_result",
          "data": {
            "text/html": [
              "<div>\n",
              "<style scoped>\n",
              "    .dataframe tbody tr th:only-of-type {\n",
              "        vertical-align: middle;\n",
              "    }\n",
              "\n",
              "    .dataframe tbody tr th {\n",
              "        vertical-align: top;\n",
              "    }\n",
              "\n",
              "    .dataframe thead th {\n",
              "        text-align: right;\n",
              "    }\n",
              "</style>\n",
              "<table border=\"1\" class=\"dataframe\">\n",
              "  <thead>\n",
              "    <tr style=\"text-align: right;\">\n",
              "      <th></th>\n",
              "      <th>0</th>\n",
              "      <th>1</th>\n",
              "      <th>2</th>\n",
              "      <th>3</th>\n",
              "      <th>4</th>\n",
              "      <th>5</th>\n",
              "      <th>6</th>\n",
              "      <th>7</th>\n",
              "      <th>8</th>\n",
              "      <th>9</th>\n",
              "      <th>10</th>\n",
              "    </tr>\n",
              "  </thead>\n",
              "  <tbody>\n",
              "    <tr>\n",
              "      <th>employee_name</th>\n",
              "      <td>Sam</td>\n",
              "      <td>Max</td>\n",
              "      <td>Tony</td>\n",
              "      <td>Sarah</td>\n",
              "      <td>Tania</td>\n",
              "      <td>David</td>\n",
              "      <td>Mark</td>\n",
              "      <td>Alice</td>\n",
              "      <td>Charles</td>\n",
              "      <td>Bob</td>\n",
              "      <td>Anna</td>\n",
              "    </tr>\n",
              "    <tr>\n",
              "      <th>employee_dept</th>\n",
              "      <td>Research</td>\n",
              "      <td>HR</td>\n",
              "      <td>Marketing</td>\n",
              "      <td>Sales</td>\n",
              "      <td>Finance</td>\n",
              "      <td>IT</td>\n",
              "      <td>HR</td>\n",
              "      <td>Marketing</td>\n",
              "      <td>IT</td>\n",
              "      <td>Finance</td>\n",
              "      <td>Sales</td>\n",
              "    </tr>\n",
              "    <tr>\n",
              "      <th>employee_id</th>\n",
              "      <td>10001</td>\n",
              "      <td>10002</td>\n",
              "      <td>10003</td>\n",
              "      <td>10004</td>\n",
              "      <td>10005</td>\n",
              "      <td>10006</td>\n",
              "      <td>10007</td>\n",
              "      <td>10008</td>\n",
              "      <td>10009</td>\n",
              "      <td>10010</td>\n",
              "      <td>10011</td>\n",
              "    </tr>\n",
              "    <tr>\n",
              "      <th>salary</th>\n",
              "      <td>45034.9</td>\n",
              "      <td>65343.4</td>\n",
              "      <td>53423.3</td>\n",
              "      <td>76422.3</td>\n",
              "      <td>58753</td>\n",
              "      <td>34323.4</td>\n",
              "      <td>66544.6</td>\n",
              "      <td>34354.7</td>\n",
              "      <td>55235</td>\n",
              "      <td>39078.6</td>\n",
              "      <td>44567.9</td>\n",
              "    </tr>\n",
              "  </tbody>\n",
              "</table>\n",
              "</div>"
            ],
            "text/plain": [
              "                     0        1          2   ...       8        9        10\n",
              "employee_name       Sam      Max       Tony  ...  Charles      Bob     Anna\n",
              "employee_dept  Research       HR  Marketing  ...       IT  Finance    Sales\n",
              "employee_id       10001    10002      10003  ...    10009    10010    10011\n",
              "salary          45034.9  65343.4    53423.3  ...    55235  39078.6  44567.9\n",
              "\n",
              "[4 rows x 11 columns]"
            ]
          },
          "metadata": {},
          "execution_count": 38
        }
      ]
    },
    {
      "cell_type": "markdown",
      "metadata": {
        "id": "aGWLs16dozPn"
      },
      "source": [
        "#Accesing DataFrame"
      ]
    },
    {
      "cell_type": "code",
      "metadata": {
        "colab": {
          "base_uri": "https://localhost:8080/"
        },
        "id": "ylRFL4xrow6j",
        "outputId": "0e0404b0-5a9d-41b4-c3e1-129736ce9ae2"
      },
      "source": [
        "#By Coluimn Name\n",
        "employee_records['salary']"
      ],
      "execution_count": 37,
      "outputs": [
        {
          "output_type": "execute_result",
          "data": {
            "text/plain": [
              "0     45034.88\n",
              "1     65343.45\n",
              "2     53423.27\n",
              "3     76422.34\n",
              "4     58753.00\n",
              "5     34323.44\n",
              "6     66544.60\n",
              "7     34354.66\n",
              "8     55234.96\n",
              "9     39078.60\n",
              "10    44567.88\n",
              "Name: salary, dtype: float64"
            ]
          },
          "metadata": {},
          "execution_count": 37
        }
      ]
    },
    {
      "cell_type": "code",
      "metadata": {
        "colab": {
          "base_uri": "https://localhost:8080/",
          "height": 266
        },
        "id": "6hQx6gg_pC3p",
        "outputId": "7371b3b3-e60a-459f-bb19-91fbdde4467c"
      },
      "source": [
        "# By Index\n",
        "employee_records[0:7]"
      ],
      "execution_count": 58,
      "outputs": [
        {
          "output_type": "execute_result",
          "data": {
            "text/html": [
              "<div>\n",
              "<style scoped>\n",
              "    .dataframe tbody tr th:only-of-type {\n",
              "        vertical-align: middle;\n",
              "    }\n",
              "\n",
              "    .dataframe tbody tr th {\n",
              "        vertical-align: top;\n",
              "    }\n",
              "\n",
              "    .dataframe thead th {\n",
              "        text-align: right;\n",
              "    }\n",
              "</style>\n",
              "<table border=\"1\" class=\"dataframe\">\n",
              "  <thead>\n",
              "    <tr style=\"text-align: right;\">\n",
              "      <th></th>\n",
              "      <th>employee_name</th>\n",
              "      <th>employee_dept</th>\n",
              "      <th>employee_id</th>\n",
              "      <th>salary</th>\n",
              "    </tr>\n",
              "  </thead>\n",
              "  <tbody>\n",
              "    <tr>\n",
              "      <th>0</th>\n",
              "      <td>Sam</td>\n",
              "      <td>Research</td>\n",
              "      <td>10001</td>\n",
              "      <td>45034.88</td>\n",
              "    </tr>\n",
              "    <tr>\n",
              "      <th>1</th>\n",
              "      <td>Max</td>\n",
              "      <td>HR</td>\n",
              "      <td>10002</td>\n",
              "      <td>65343.45</td>\n",
              "    </tr>\n",
              "    <tr>\n",
              "      <th>2</th>\n",
              "      <td>Tony</td>\n",
              "      <td>Marketing</td>\n",
              "      <td>10003</td>\n",
              "      <td>53423.27</td>\n",
              "    </tr>\n",
              "    <tr>\n",
              "      <th>3</th>\n",
              "      <td>Sarah</td>\n",
              "      <td>Sales</td>\n",
              "      <td>10004</td>\n",
              "      <td>76422.34</td>\n",
              "    </tr>\n",
              "    <tr>\n",
              "      <th>4</th>\n",
              "      <td>Tania</td>\n",
              "      <td>Finance</td>\n",
              "      <td>10005</td>\n",
              "      <td>58753.00</td>\n",
              "    </tr>\n",
              "    <tr>\n",
              "      <th>5</th>\n",
              "      <td>David</td>\n",
              "      <td>IT</td>\n",
              "      <td>10006</td>\n",
              "      <td>34323.44</td>\n",
              "    </tr>\n",
              "    <tr>\n",
              "      <th>6</th>\n",
              "      <td>Mark</td>\n",
              "      <td>HR</td>\n",
              "      <td>10007</td>\n",
              "      <td>66544.60</td>\n",
              "    </tr>\n",
              "  </tbody>\n",
              "</table>\n",
              "</div>"
            ],
            "text/plain": [
              "  employee_name employee_dept  employee_id    salary\n",
              "0           Sam      Research        10001  45034.88\n",
              "1           Max            HR        10002  65343.45\n",
              "2          Tony     Marketing        10003  53423.27\n",
              "3         Sarah         Sales        10004  76422.34\n",
              "4         Tania       Finance        10005  58753.00\n",
              "5         David            IT        10006  34323.44\n",
              "6          Mark            HR        10007  66544.60"
            ]
          },
          "metadata": {},
          "execution_count": 58
        }
      ]
    },
    {
      "cell_type": "code",
      "metadata": {
        "colab": {
          "base_uri": "https://localhost:8080/",
          "height": 37
        },
        "id": "fTZ4RE99p574",
        "outputId": "be39c317-cee9-42b8-9ddc-b67a00ec9933"
      },
      "source": [
        "# Getting a particular element\n",
        "employee_records['employee_name'][0]"
      ],
      "execution_count": 59,
      "outputs": [
        {
          "output_type": "execute_result",
          "data": {
            "application/vnd.google.colaboratory.intrinsic+json": {
              "type": "string"
            },
            "text/plain": [
              "'Sam'"
            ]
          },
          "metadata": {},
          "execution_count": 59
        }
      ]
    },
    {
      "cell_type": "code",
      "metadata": {
        "colab": {
          "base_uri": "https://localhost:8080/"
        },
        "id": "dkXEmIYBqE8E",
        "outputId": "c1c1e76c-9ae2-42d0-e10a-978a20404127"
      },
      "source": [
        "isinstance(employee_records,pd.DataFrame)"
      ],
      "execution_count": 60,
      "outputs": [
        {
          "output_type": "execute_result",
          "data": {
            "text/plain": [
              "True"
            ]
          },
          "metadata": {},
          "execution_count": 60
        }
      ]
    },
    {
      "cell_type": "code",
      "metadata": {
        "colab": {
          "base_uri": "https://localhost:8080/"
        },
        "id": "CF_jN42-qL2A",
        "outputId": "ada24224-1b82-4e24-bc93-181cd742285a"
      },
      "source": [
        "# Check if element is of a particular type\n",
        "print(isinstance(employee_records['employee_name'][1], str))\n",
        "print(type(employee_records['employee_name'][1]))"
      ],
      "execution_count": 61,
      "outputs": [
        {
          "output_type": "stream",
          "name": "stdout",
          "text": [
            "True\n",
            "<class 'str'>\n"
          ]
        }
      ]
    },
    {
      "cell_type": "markdown",
      "metadata": {
        "id": "atin2QwTrOdS"
      },
      "source": [
        "# Slicing in pandas\n"
      ]
    },
    {
      "cell_type": "code",
      "metadata": {
        "colab": {
          "base_uri": "https://localhost:8080/",
          "height": 204
        },
        "id": "cR-s-LtnrXDw",
        "outputId": "938bce0a-83b9-4d65-ad8d-5d77e93c727b"
      },
      "source": [
        "# Slicing rows, column based slicing not allowed\n",
        "employee_records[0:5]"
      ],
      "execution_count": 62,
      "outputs": [
        {
          "output_type": "execute_result",
          "data": {
            "text/html": [
              "<div>\n",
              "<style scoped>\n",
              "    .dataframe tbody tr th:only-of-type {\n",
              "        vertical-align: middle;\n",
              "    }\n",
              "\n",
              "    .dataframe tbody tr th {\n",
              "        vertical-align: top;\n",
              "    }\n",
              "\n",
              "    .dataframe thead th {\n",
              "        text-align: right;\n",
              "    }\n",
              "</style>\n",
              "<table border=\"1\" class=\"dataframe\">\n",
              "  <thead>\n",
              "    <tr style=\"text-align: right;\">\n",
              "      <th></th>\n",
              "      <th>employee_name</th>\n",
              "      <th>employee_dept</th>\n",
              "      <th>employee_id</th>\n",
              "      <th>salary</th>\n",
              "    </tr>\n",
              "  </thead>\n",
              "  <tbody>\n",
              "    <tr>\n",
              "      <th>0</th>\n",
              "      <td>Sam</td>\n",
              "      <td>Research</td>\n",
              "      <td>10001</td>\n",
              "      <td>45034.88</td>\n",
              "    </tr>\n",
              "    <tr>\n",
              "      <th>1</th>\n",
              "      <td>Max</td>\n",
              "      <td>HR</td>\n",
              "      <td>10002</td>\n",
              "      <td>65343.45</td>\n",
              "    </tr>\n",
              "    <tr>\n",
              "      <th>2</th>\n",
              "      <td>Tony</td>\n",
              "      <td>Marketing</td>\n",
              "      <td>10003</td>\n",
              "      <td>53423.27</td>\n",
              "    </tr>\n",
              "    <tr>\n",
              "      <th>3</th>\n",
              "      <td>Sarah</td>\n",
              "      <td>Sales</td>\n",
              "      <td>10004</td>\n",
              "      <td>76422.34</td>\n",
              "    </tr>\n",
              "    <tr>\n",
              "      <th>4</th>\n",
              "      <td>Tania</td>\n",
              "      <td>Finance</td>\n",
              "      <td>10005</td>\n",
              "      <td>58753.00</td>\n",
              "    </tr>\n",
              "  </tbody>\n",
              "</table>\n",
              "</div>"
            ],
            "text/plain": [
              "  employee_name employee_dept  employee_id    salary\n",
              "0           Sam      Research        10001  45034.88\n",
              "1           Max            HR        10002  65343.45\n",
              "2          Tony     Marketing        10003  53423.27\n",
              "3         Sarah         Sales        10004  76422.34\n",
              "4         Tania       Finance        10005  58753.00"
            ]
          },
          "metadata": {},
          "execution_count": 62
        }
      ]
    },
    {
      "cell_type": "code",
      "metadata": {
        "colab": {
          "base_uri": "https://localhost:8080/",
          "height": 235
        },
        "id": "P4Hl3OiQr3e3",
        "outputId": "5a674029-c3c5-4584-c47e-d44b4fc01cc2"
      },
      "source": [
        "employee_records[0::2] # Adding skip"
      ],
      "execution_count": 63,
      "outputs": [
        {
          "output_type": "execute_result",
          "data": {
            "text/html": [
              "<div>\n",
              "<style scoped>\n",
              "    .dataframe tbody tr th:only-of-type {\n",
              "        vertical-align: middle;\n",
              "    }\n",
              "\n",
              "    .dataframe tbody tr th {\n",
              "        vertical-align: top;\n",
              "    }\n",
              "\n",
              "    .dataframe thead th {\n",
              "        text-align: right;\n",
              "    }\n",
              "</style>\n",
              "<table border=\"1\" class=\"dataframe\">\n",
              "  <thead>\n",
              "    <tr style=\"text-align: right;\">\n",
              "      <th></th>\n",
              "      <th>employee_name</th>\n",
              "      <th>employee_dept</th>\n",
              "      <th>employee_id</th>\n",
              "      <th>salary</th>\n",
              "    </tr>\n",
              "  </thead>\n",
              "  <tbody>\n",
              "    <tr>\n",
              "      <th>0</th>\n",
              "      <td>Sam</td>\n",
              "      <td>Research</td>\n",
              "      <td>10001</td>\n",
              "      <td>45034.88</td>\n",
              "    </tr>\n",
              "    <tr>\n",
              "      <th>2</th>\n",
              "      <td>Tony</td>\n",
              "      <td>Marketing</td>\n",
              "      <td>10003</td>\n",
              "      <td>53423.27</td>\n",
              "    </tr>\n",
              "    <tr>\n",
              "      <th>4</th>\n",
              "      <td>Tania</td>\n",
              "      <td>Finance</td>\n",
              "      <td>10005</td>\n",
              "      <td>58753.00</td>\n",
              "    </tr>\n",
              "    <tr>\n",
              "      <th>6</th>\n",
              "      <td>Mark</td>\n",
              "      <td>HR</td>\n",
              "      <td>10007</td>\n",
              "      <td>66544.60</td>\n",
              "    </tr>\n",
              "    <tr>\n",
              "      <th>8</th>\n",
              "      <td>Charles</td>\n",
              "      <td>IT</td>\n",
              "      <td>10009</td>\n",
              "      <td>55234.96</td>\n",
              "    </tr>\n",
              "    <tr>\n",
              "      <th>10</th>\n",
              "      <td>Anna</td>\n",
              "      <td>Sales</td>\n",
              "      <td>10011</td>\n",
              "      <td>44567.88</td>\n",
              "    </tr>\n",
              "  </tbody>\n",
              "</table>\n",
              "</div>"
            ],
            "text/plain": [
              "   employee_name employee_dept  employee_id    salary\n",
              "0            Sam      Research        10001  45034.88\n",
              "2           Tony     Marketing        10003  53423.27\n",
              "4          Tania       Finance        10005  58753.00\n",
              "6           Mark            HR        10007  66544.60\n",
              "8        Charles            IT        10009  55234.96\n",
              "10          Anna         Sales        10011  44567.88"
            ]
          },
          "metadata": {},
          "execution_count": 63
        }
      ]
    },
    {
      "cell_type": "code",
      "metadata": {
        "id": "_ws-rqqOsJG1"
      },
      "source": [
        ""
      ],
      "execution_count": 63,
      "outputs": []
    },
    {
      "cell_type": "markdown",
      "metadata": {
        "id": "8T4uOOYVsK5V"
      },
      "source": [
        "#Accessing using\n",
        "\n",
        "1) iloc -->  Uses default Indexing, assigned by python\n",
        "\n",
        "2) loc --> Uses Index Labels"
      ]
    },
    {
      "cell_type": "code",
      "metadata": {
        "colab": {
          "base_uri": "https://localhost:8080/"
        },
        "id": "S-2q89bSsayw",
        "outputId": "37efcbbc-f351-4dd5-e58f-fbadf5ed5169"
      },
      "source": [
        "employee_records.loc[2]"
      ],
      "execution_count": 64,
      "outputs": [
        {
          "output_type": "execute_result",
          "data": {
            "text/plain": [
              "employee_name         Tony\n",
              "employee_dept    Marketing\n",
              "employee_id          10003\n",
              "salary             53423.3\n",
              "Name: 2, dtype: object"
            ]
          },
          "metadata": {},
          "execution_count": 64
        }
      ]
    },
    {
      "cell_type": "code",
      "metadata": {
        "colab": {
          "base_uri": "https://localhost:8080/"
        },
        "id": "yif9NVHlwAfu",
        "outputId": "8277c282-ca83-4a77-c85a-fd1e8e8fdef1"
      },
      "source": [
        "employee_records.loc[3,'salary']"
      ],
      "execution_count": 65,
      "outputs": [
        {
          "output_type": "execute_result",
          "data": {
            "text/plain": [
              "76422.34"
            ]
          },
          "metadata": {},
          "execution_count": 65
        }
      ]
    },
    {
      "cell_type": "code",
      "metadata": {
        "colab": {
          "base_uri": "https://localhost:8080/"
        },
        "id": "Ufoti0GxsgyH",
        "outputId": "724a62f2-18e4-4854-d4cb-733c64239361"
      },
      "source": [
        "employee_records.iloc[2]"
      ],
      "execution_count": 66,
      "outputs": [
        {
          "output_type": "execute_result",
          "data": {
            "text/plain": [
              "employee_name         Tony\n",
              "employee_dept    Marketing\n",
              "employee_id          10003\n",
              "salary             53423.3\n",
              "Name: 2, dtype: object"
            ]
          },
          "metadata": {},
          "execution_count": 66
        }
      ]
    },
    {
      "cell_type": "code",
      "metadata": {
        "colab": {
          "base_uri": "https://localhost:8080/",
          "height": 142
        },
        "id": "SCcsPKtDtsW4",
        "outputId": "b1e0f6a4-e420-42fe-a9e3-3a42124c93a0"
      },
      "source": [
        "# Row based access, non-inclusive end index \n",
        "employee_records[3:6]"
      ],
      "execution_count": 67,
      "outputs": [
        {
          "output_type": "execute_result",
          "data": {
            "text/html": [
              "<div>\n",
              "<style scoped>\n",
              "    .dataframe tbody tr th:only-of-type {\n",
              "        vertical-align: middle;\n",
              "    }\n",
              "\n",
              "    .dataframe tbody tr th {\n",
              "        vertical-align: top;\n",
              "    }\n",
              "\n",
              "    .dataframe thead th {\n",
              "        text-align: right;\n",
              "    }\n",
              "</style>\n",
              "<table border=\"1\" class=\"dataframe\">\n",
              "  <thead>\n",
              "    <tr style=\"text-align: right;\">\n",
              "      <th></th>\n",
              "      <th>employee_name</th>\n",
              "      <th>employee_dept</th>\n",
              "      <th>employee_id</th>\n",
              "      <th>salary</th>\n",
              "    </tr>\n",
              "  </thead>\n",
              "  <tbody>\n",
              "    <tr>\n",
              "      <th>3</th>\n",
              "      <td>Sarah</td>\n",
              "      <td>Sales</td>\n",
              "      <td>10004</td>\n",
              "      <td>76422.34</td>\n",
              "    </tr>\n",
              "    <tr>\n",
              "      <th>4</th>\n",
              "      <td>Tania</td>\n",
              "      <td>Finance</td>\n",
              "      <td>10005</td>\n",
              "      <td>58753.00</td>\n",
              "    </tr>\n",
              "    <tr>\n",
              "      <th>5</th>\n",
              "      <td>David</td>\n",
              "      <td>IT</td>\n",
              "      <td>10006</td>\n",
              "      <td>34323.44</td>\n",
              "    </tr>\n",
              "  </tbody>\n",
              "</table>\n",
              "</div>"
            ],
            "text/plain": [
              "  employee_name employee_dept  employee_id    salary\n",
              "3         Sarah         Sales        10004  76422.34\n",
              "4         Tania       Finance        10005  58753.00\n",
              "5         David            IT        10006  34323.44"
            ]
          },
          "metadata": {},
          "execution_count": 67
        }
      ]
    },
    {
      "cell_type": "code",
      "metadata": {
        "colab": {
          "base_uri": "https://localhost:8080/",
          "height": 173
        },
        "id": "H5ijMHdot2zJ",
        "outputId": "458225f4-c42e-4add-e39b-90fb747a9278"
      },
      "source": [
        "# Row based access, inclusive end index, more efficient compare to employee_records[3:6]\n",
        "employee_records.loc[3:6]"
      ],
      "execution_count": 68,
      "outputs": [
        {
          "output_type": "execute_result",
          "data": {
            "text/html": [
              "<div>\n",
              "<style scoped>\n",
              "    .dataframe tbody tr th:only-of-type {\n",
              "        vertical-align: middle;\n",
              "    }\n",
              "\n",
              "    .dataframe tbody tr th {\n",
              "        vertical-align: top;\n",
              "    }\n",
              "\n",
              "    .dataframe thead th {\n",
              "        text-align: right;\n",
              "    }\n",
              "</style>\n",
              "<table border=\"1\" class=\"dataframe\">\n",
              "  <thead>\n",
              "    <tr style=\"text-align: right;\">\n",
              "      <th></th>\n",
              "      <th>employee_name</th>\n",
              "      <th>employee_dept</th>\n",
              "      <th>employee_id</th>\n",
              "      <th>salary</th>\n",
              "    </tr>\n",
              "  </thead>\n",
              "  <tbody>\n",
              "    <tr>\n",
              "      <th>3</th>\n",
              "      <td>Sarah</td>\n",
              "      <td>Sales</td>\n",
              "      <td>10004</td>\n",
              "      <td>76422.34</td>\n",
              "    </tr>\n",
              "    <tr>\n",
              "      <th>4</th>\n",
              "      <td>Tania</td>\n",
              "      <td>Finance</td>\n",
              "      <td>10005</td>\n",
              "      <td>58753.00</td>\n",
              "    </tr>\n",
              "    <tr>\n",
              "      <th>5</th>\n",
              "      <td>David</td>\n",
              "      <td>IT</td>\n",
              "      <td>10006</td>\n",
              "      <td>34323.44</td>\n",
              "    </tr>\n",
              "    <tr>\n",
              "      <th>6</th>\n",
              "      <td>Mark</td>\n",
              "      <td>HR</td>\n",
              "      <td>10007</td>\n",
              "      <td>66544.60</td>\n",
              "    </tr>\n",
              "  </tbody>\n",
              "</table>\n",
              "</div>"
            ],
            "text/plain": [
              "  employee_name employee_dept  employee_id    salary\n",
              "3         Sarah         Sales        10004  76422.34\n",
              "4         Tania       Finance        10005  58753.00\n",
              "5         David            IT        10006  34323.44\n",
              "6          Mark            HR        10007  66544.60"
            ]
          },
          "metadata": {},
          "execution_count": 68
        }
      ]
    },
    {
      "cell_type": "code",
      "metadata": {
        "colab": {
          "base_uri": "https://localhost:8080/",
          "height": 142
        },
        "id": "r5tr2-yKt_Oj",
        "outputId": "abf84f7d-5b53-4c6c-a17b-bbb9a6976b85"
      },
      "source": [
        "# Row based access, non-inclusive end index, more efficient compare to employee_records[3:6]\n",
        "employee_records.iloc[3:6]"
      ],
      "execution_count": 69,
      "outputs": [
        {
          "output_type": "execute_result",
          "data": {
            "text/html": [
              "<div>\n",
              "<style scoped>\n",
              "    .dataframe tbody tr th:only-of-type {\n",
              "        vertical-align: middle;\n",
              "    }\n",
              "\n",
              "    .dataframe tbody tr th {\n",
              "        vertical-align: top;\n",
              "    }\n",
              "\n",
              "    .dataframe thead th {\n",
              "        text-align: right;\n",
              "    }\n",
              "</style>\n",
              "<table border=\"1\" class=\"dataframe\">\n",
              "  <thead>\n",
              "    <tr style=\"text-align: right;\">\n",
              "      <th></th>\n",
              "      <th>employee_name</th>\n",
              "      <th>employee_dept</th>\n",
              "      <th>employee_id</th>\n",
              "      <th>salary</th>\n",
              "    </tr>\n",
              "  </thead>\n",
              "  <tbody>\n",
              "    <tr>\n",
              "      <th>3</th>\n",
              "      <td>Sarah</td>\n",
              "      <td>Sales</td>\n",
              "      <td>10004</td>\n",
              "      <td>76422.34</td>\n",
              "    </tr>\n",
              "    <tr>\n",
              "      <th>4</th>\n",
              "      <td>Tania</td>\n",
              "      <td>Finance</td>\n",
              "      <td>10005</td>\n",
              "      <td>58753.00</td>\n",
              "    </tr>\n",
              "    <tr>\n",
              "      <th>5</th>\n",
              "      <td>David</td>\n",
              "      <td>IT</td>\n",
              "      <td>10006</td>\n",
              "      <td>34323.44</td>\n",
              "    </tr>\n",
              "  </tbody>\n",
              "</table>\n",
              "</div>"
            ],
            "text/plain": [
              "  employee_name employee_dept  employee_id    salary\n",
              "3         Sarah         Sales        10004  76422.34\n",
              "4         Tania       Finance        10005  58753.00\n",
              "5         David            IT        10006  34323.44"
            ]
          },
          "metadata": {},
          "execution_count": 69
        }
      ]
    },
    {
      "cell_type": "code",
      "metadata": {
        "colab": {
          "base_uri": "https://localhost:8080/",
          "height": 390
        },
        "id": "UhXsTC7QvZQr",
        "outputId": "45e481fd-4024-4ed7-accb-7ca798dc1023"
      },
      "source": [
        "#Slicing columns names\n",
        "employee_records.iloc[:,1:3]"
      ],
      "execution_count": 70,
      "outputs": [
        {
          "output_type": "execute_result",
          "data": {
            "text/html": [
              "<div>\n",
              "<style scoped>\n",
              "    .dataframe tbody tr th:only-of-type {\n",
              "        vertical-align: middle;\n",
              "    }\n",
              "\n",
              "    .dataframe tbody tr th {\n",
              "        vertical-align: top;\n",
              "    }\n",
              "\n",
              "    .dataframe thead th {\n",
              "        text-align: right;\n",
              "    }\n",
              "</style>\n",
              "<table border=\"1\" class=\"dataframe\">\n",
              "  <thead>\n",
              "    <tr style=\"text-align: right;\">\n",
              "      <th></th>\n",
              "      <th>employee_dept</th>\n",
              "      <th>employee_id</th>\n",
              "    </tr>\n",
              "  </thead>\n",
              "  <tbody>\n",
              "    <tr>\n",
              "      <th>0</th>\n",
              "      <td>Research</td>\n",
              "      <td>10001</td>\n",
              "    </tr>\n",
              "    <tr>\n",
              "      <th>1</th>\n",
              "      <td>HR</td>\n",
              "      <td>10002</td>\n",
              "    </tr>\n",
              "    <tr>\n",
              "      <th>2</th>\n",
              "      <td>Marketing</td>\n",
              "      <td>10003</td>\n",
              "    </tr>\n",
              "    <tr>\n",
              "      <th>3</th>\n",
              "      <td>Sales</td>\n",
              "      <td>10004</td>\n",
              "    </tr>\n",
              "    <tr>\n",
              "      <th>4</th>\n",
              "      <td>Finance</td>\n",
              "      <td>10005</td>\n",
              "    </tr>\n",
              "    <tr>\n",
              "      <th>5</th>\n",
              "      <td>IT</td>\n",
              "      <td>10006</td>\n",
              "    </tr>\n",
              "    <tr>\n",
              "      <th>6</th>\n",
              "      <td>HR</td>\n",
              "      <td>10007</td>\n",
              "    </tr>\n",
              "    <tr>\n",
              "      <th>7</th>\n",
              "      <td>Marketing</td>\n",
              "      <td>10008</td>\n",
              "    </tr>\n",
              "    <tr>\n",
              "      <th>8</th>\n",
              "      <td>IT</td>\n",
              "      <td>10009</td>\n",
              "    </tr>\n",
              "    <tr>\n",
              "      <th>9</th>\n",
              "      <td>Finance</td>\n",
              "      <td>10010</td>\n",
              "    </tr>\n",
              "    <tr>\n",
              "      <th>10</th>\n",
              "      <td>Sales</td>\n",
              "      <td>10011</td>\n",
              "    </tr>\n",
              "  </tbody>\n",
              "</table>\n",
              "</div>"
            ],
            "text/plain": [
              "   employee_dept  employee_id\n",
              "0       Research        10001\n",
              "1             HR        10002\n",
              "2      Marketing        10003\n",
              "3          Sales        10004\n",
              "4        Finance        10005\n",
              "5             IT        10006\n",
              "6             HR        10007\n",
              "7      Marketing        10008\n",
              "8             IT        10009\n",
              "9        Finance        10010\n",
              "10         Sales        10011"
            ]
          },
          "metadata": {},
          "execution_count": 70
        }
      ]
    },
    {
      "cell_type": "code",
      "metadata": {
        "colab": {
          "base_uri": "https://localhost:8080/",
          "height": 111
        },
        "id": "Z-XD5GtavDNU",
        "outputId": "fc73acfb-c0f9-4dff-8851-885063bd3168"
      },
      "source": [
        "# Accessing particular index list of ID's (not a range)\n",
        "employee_records.loc[[3,7]] # Returns row 3 and 7, returns a data frame"
      ],
      "execution_count": 71,
      "outputs": [
        {
          "output_type": "execute_result",
          "data": {
            "text/html": [
              "<div>\n",
              "<style scoped>\n",
              "    .dataframe tbody tr th:only-of-type {\n",
              "        vertical-align: middle;\n",
              "    }\n",
              "\n",
              "    .dataframe tbody tr th {\n",
              "        vertical-align: top;\n",
              "    }\n",
              "\n",
              "    .dataframe thead th {\n",
              "        text-align: right;\n",
              "    }\n",
              "</style>\n",
              "<table border=\"1\" class=\"dataframe\">\n",
              "  <thead>\n",
              "    <tr style=\"text-align: right;\">\n",
              "      <th></th>\n",
              "      <th>employee_name</th>\n",
              "      <th>employee_dept</th>\n",
              "      <th>employee_id</th>\n",
              "      <th>salary</th>\n",
              "    </tr>\n",
              "  </thead>\n",
              "  <tbody>\n",
              "    <tr>\n",
              "      <th>3</th>\n",
              "      <td>Sarah</td>\n",
              "      <td>Sales</td>\n",
              "      <td>10004</td>\n",
              "      <td>76422.34</td>\n",
              "    </tr>\n",
              "    <tr>\n",
              "      <th>7</th>\n",
              "      <td>Alice</td>\n",
              "      <td>Marketing</td>\n",
              "      <td>10008</td>\n",
              "      <td>34354.66</td>\n",
              "    </tr>\n",
              "  </tbody>\n",
              "</table>\n",
              "</div>"
            ],
            "text/plain": [
              "  employee_name employee_dept  employee_id    salary\n",
              "3         Sarah         Sales        10004  76422.34\n",
              "7         Alice     Marketing        10008  34354.66"
            ]
          },
          "metadata": {},
          "execution_count": 71
        }
      ]
    },
    {
      "cell_type": "code",
      "metadata": {
        "colab": {
          "base_uri": "https://localhost:8080/",
          "height": 111
        },
        "id": "OgZ7AsvZwG15",
        "outputId": "ffa76d74-f8b9-4a02-bff4-664418d9cdcb"
      },
      "source": [
        "# Accessing particular index list of ID's (not a range)\n",
        "employee_records.iloc[[3,7]] # Returns row 3 and 7, returns a data frame"
      ],
      "execution_count": 72,
      "outputs": [
        {
          "output_type": "execute_result",
          "data": {
            "text/html": [
              "<div>\n",
              "<style scoped>\n",
              "    .dataframe tbody tr th:only-of-type {\n",
              "        vertical-align: middle;\n",
              "    }\n",
              "\n",
              "    .dataframe tbody tr th {\n",
              "        vertical-align: top;\n",
              "    }\n",
              "\n",
              "    .dataframe thead th {\n",
              "        text-align: right;\n",
              "    }\n",
              "</style>\n",
              "<table border=\"1\" class=\"dataframe\">\n",
              "  <thead>\n",
              "    <tr style=\"text-align: right;\">\n",
              "      <th></th>\n",
              "      <th>employee_name</th>\n",
              "      <th>employee_dept</th>\n",
              "      <th>employee_id</th>\n",
              "      <th>salary</th>\n",
              "    </tr>\n",
              "  </thead>\n",
              "  <tbody>\n",
              "    <tr>\n",
              "      <th>3</th>\n",
              "      <td>Sarah</td>\n",
              "      <td>Sales</td>\n",
              "      <td>10004</td>\n",
              "      <td>76422.34</td>\n",
              "    </tr>\n",
              "    <tr>\n",
              "      <th>7</th>\n",
              "      <td>Alice</td>\n",
              "      <td>Marketing</td>\n",
              "      <td>10008</td>\n",
              "      <td>34354.66</td>\n",
              "    </tr>\n",
              "  </tbody>\n",
              "</table>\n",
              "</div>"
            ],
            "text/plain": [
              "  employee_name employee_dept  employee_id    salary\n",
              "3         Sarah         Sales        10004  76422.34\n",
              "7         Alice     Marketing        10008  34354.66"
            ]
          },
          "metadata": {},
          "execution_count": 72
        }
      ]
    },
    {
      "cell_type": "code",
      "metadata": {
        "colab": {
          "base_uri": "https://localhost:8080/",
          "height": 142
        },
        "id": "K4OGc-izwU1L",
        "outputId": "c641c273-900e-40e2-a31c-66de701120c6"
      },
      "source": [
        "# Returns rows which have value as true\n",
        "employee_records.loc[[False,False,False,True,False,True,False,False,True,False,False]]"
      ],
      "execution_count": 73,
      "outputs": [
        {
          "output_type": "execute_result",
          "data": {
            "text/html": [
              "<div>\n",
              "<style scoped>\n",
              "    .dataframe tbody tr th:only-of-type {\n",
              "        vertical-align: middle;\n",
              "    }\n",
              "\n",
              "    .dataframe tbody tr th {\n",
              "        vertical-align: top;\n",
              "    }\n",
              "\n",
              "    .dataframe thead th {\n",
              "        text-align: right;\n",
              "    }\n",
              "</style>\n",
              "<table border=\"1\" class=\"dataframe\">\n",
              "  <thead>\n",
              "    <tr style=\"text-align: right;\">\n",
              "      <th></th>\n",
              "      <th>employee_name</th>\n",
              "      <th>employee_dept</th>\n",
              "      <th>employee_id</th>\n",
              "      <th>salary</th>\n",
              "    </tr>\n",
              "  </thead>\n",
              "  <tbody>\n",
              "    <tr>\n",
              "      <th>3</th>\n",
              "      <td>Sarah</td>\n",
              "      <td>Sales</td>\n",
              "      <td>10004</td>\n",
              "      <td>76422.34</td>\n",
              "    </tr>\n",
              "    <tr>\n",
              "      <th>5</th>\n",
              "      <td>David</td>\n",
              "      <td>IT</td>\n",
              "      <td>10006</td>\n",
              "      <td>34323.44</td>\n",
              "    </tr>\n",
              "    <tr>\n",
              "      <th>8</th>\n",
              "      <td>Charles</td>\n",
              "      <td>IT</td>\n",
              "      <td>10009</td>\n",
              "      <td>55234.96</td>\n",
              "    </tr>\n",
              "  </tbody>\n",
              "</table>\n",
              "</div>"
            ],
            "text/plain": [
              "  employee_name employee_dept  employee_id    salary\n",
              "3         Sarah         Sales        10004  76422.34\n",
              "5         David            IT        10006  34323.44\n",
              "8       Charles            IT        10009  55234.96"
            ]
          },
          "metadata": {},
          "execution_count": 73
        }
      ]
    },
    {
      "cell_type": "code",
      "metadata": {
        "colab": {
          "base_uri": "https://localhost:8080/",
          "height": 142
        },
        "id": "54HAS1iAwmJx",
        "outputId": "e185901c-fb01-410e-bfb4-b24a17903d7e"
      },
      "source": [
        "# Returns rows which have value as true\n",
        "employee_records.iloc[[False,False,False,True,False,True,False,False,True,False,False]]"
      ],
      "execution_count": 74,
      "outputs": [
        {
          "output_type": "execute_result",
          "data": {
            "text/html": [
              "<div>\n",
              "<style scoped>\n",
              "    .dataframe tbody tr th:only-of-type {\n",
              "        vertical-align: middle;\n",
              "    }\n",
              "\n",
              "    .dataframe tbody tr th {\n",
              "        vertical-align: top;\n",
              "    }\n",
              "\n",
              "    .dataframe thead th {\n",
              "        text-align: right;\n",
              "    }\n",
              "</style>\n",
              "<table border=\"1\" class=\"dataframe\">\n",
              "  <thead>\n",
              "    <tr style=\"text-align: right;\">\n",
              "      <th></th>\n",
              "      <th>employee_name</th>\n",
              "      <th>employee_dept</th>\n",
              "      <th>employee_id</th>\n",
              "      <th>salary</th>\n",
              "    </tr>\n",
              "  </thead>\n",
              "  <tbody>\n",
              "    <tr>\n",
              "      <th>3</th>\n",
              "      <td>Sarah</td>\n",
              "      <td>Sales</td>\n",
              "      <td>10004</td>\n",
              "      <td>76422.34</td>\n",
              "    </tr>\n",
              "    <tr>\n",
              "      <th>5</th>\n",
              "      <td>David</td>\n",
              "      <td>IT</td>\n",
              "      <td>10006</td>\n",
              "      <td>34323.44</td>\n",
              "    </tr>\n",
              "    <tr>\n",
              "      <th>8</th>\n",
              "      <td>Charles</td>\n",
              "      <td>IT</td>\n",
              "      <td>10009</td>\n",
              "      <td>55234.96</td>\n",
              "    </tr>\n",
              "  </tbody>\n",
              "</table>\n",
              "</div>"
            ],
            "text/plain": [
              "  employee_name employee_dept  employee_id    salary\n",
              "3         Sarah         Sales        10004  76422.34\n",
              "5         David            IT        10006  34323.44\n",
              "8       Charles            IT        10009  55234.96"
            ]
          },
          "metadata": {},
          "execution_count": 74
        }
      ]
    },
    {
      "cell_type": "markdown",
      "metadata": {
        "id": "HZ94fkr6w7UZ"
      },
      "source": [
        "# Conditional Selection"
      ]
    },
    {
      "cell_type": "code",
      "metadata": {
        "colab": {
          "base_uri": "https://localhost:8080/",
          "height": 297
        },
        "id": "B2hh6xzxw-0F",
        "outputId": "29bfee9c-bfac-491c-9ee1-6ca5db080cd2"
      },
      "source": [
        "employee_records.loc[employee_records['salary']>40000]"
      ],
      "execution_count": 75,
      "outputs": [
        {
          "output_type": "execute_result",
          "data": {
            "text/html": [
              "<div>\n",
              "<style scoped>\n",
              "    .dataframe tbody tr th:only-of-type {\n",
              "        vertical-align: middle;\n",
              "    }\n",
              "\n",
              "    .dataframe tbody tr th {\n",
              "        vertical-align: top;\n",
              "    }\n",
              "\n",
              "    .dataframe thead th {\n",
              "        text-align: right;\n",
              "    }\n",
              "</style>\n",
              "<table border=\"1\" class=\"dataframe\">\n",
              "  <thead>\n",
              "    <tr style=\"text-align: right;\">\n",
              "      <th></th>\n",
              "      <th>employee_name</th>\n",
              "      <th>employee_dept</th>\n",
              "      <th>employee_id</th>\n",
              "      <th>salary</th>\n",
              "    </tr>\n",
              "  </thead>\n",
              "  <tbody>\n",
              "    <tr>\n",
              "      <th>0</th>\n",
              "      <td>Sam</td>\n",
              "      <td>Research</td>\n",
              "      <td>10001</td>\n",
              "      <td>45034.88</td>\n",
              "    </tr>\n",
              "    <tr>\n",
              "      <th>1</th>\n",
              "      <td>Max</td>\n",
              "      <td>HR</td>\n",
              "      <td>10002</td>\n",
              "      <td>65343.45</td>\n",
              "    </tr>\n",
              "    <tr>\n",
              "      <th>2</th>\n",
              "      <td>Tony</td>\n",
              "      <td>Marketing</td>\n",
              "      <td>10003</td>\n",
              "      <td>53423.27</td>\n",
              "    </tr>\n",
              "    <tr>\n",
              "      <th>3</th>\n",
              "      <td>Sarah</td>\n",
              "      <td>Sales</td>\n",
              "      <td>10004</td>\n",
              "      <td>76422.34</td>\n",
              "    </tr>\n",
              "    <tr>\n",
              "      <th>4</th>\n",
              "      <td>Tania</td>\n",
              "      <td>Finance</td>\n",
              "      <td>10005</td>\n",
              "      <td>58753.00</td>\n",
              "    </tr>\n",
              "    <tr>\n",
              "      <th>6</th>\n",
              "      <td>Mark</td>\n",
              "      <td>HR</td>\n",
              "      <td>10007</td>\n",
              "      <td>66544.60</td>\n",
              "    </tr>\n",
              "    <tr>\n",
              "      <th>8</th>\n",
              "      <td>Charles</td>\n",
              "      <td>IT</td>\n",
              "      <td>10009</td>\n",
              "      <td>55234.96</td>\n",
              "    </tr>\n",
              "    <tr>\n",
              "      <th>10</th>\n",
              "      <td>Anna</td>\n",
              "      <td>Sales</td>\n",
              "      <td>10011</td>\n",
              "      <td>44567.88</td>\n",
              "    </tr>\n",
              "  </tbody>\n",
              "</table>\n",
              "</div>"
            ],
            "text/plain": [
              "   employee_name employee_dept  employee_id    salary\n",
              "0            Sam      Research        10001  45034.88\n",
              "1            Max            HR        10002  65343.45\n",
              "2           Tony     Marketing        10003  53423.27\n",
              "3          Sarah         Sales        10004  76422.34\n",
              "4          Tania       Finance        10005  58753.00\n",
              "6           Mark            HR        10007  66544.60\n",
              "8        Charles            IT        10009  55234.96\n",
              "10          Anna         Sales        10011  44567.88"
            ]
          },
          "metadata": {},
          "execution_count": 75
        }
      ]
    },
    {
      "cell_type": "code",
      "metadata": {
        "colab": {
          "base_uri": "https://localhost:8080/"
        },
        "id": "Qz0YePZAm29X",
        "outputId": "7688e1c2-eee7-4d27-806d-afbbefa9417d"
      },
      "source": [
        "# Check column info, can be used to analyse data initially\n",
        "employee_records.info()"
      ],
      "execution_count": 76,
      "outputs": [
        {
          "output_type": "stream",
          "name": "stdout",
          "text": [
            "<class 'pandas.core.frame.DataFrame'>\n",
            "RangeIndex: 11 entries, 0 to 10\n",
            "Data columns (total 4 columns):\n",
            " #   Column         Non-Null Count  Dtype  \n",
            "---  ------         --------------  -----  \n",
            " 0   employee_name  11 non-null     object \n",
            " 1   employee_dept  11 non-null     object \n",
            " 2   employee_id    11 non-null     int64  \n",
            " 3   salary         11 non-null     float64\n",
            "dtypes: float64(1), int64(1), object(2)\n",
            "memory usage: 480.0+ bytes\n"
          ]
        }
      ]
    },
    {
      "cell_type": "code",
      "metadata": {
        "id": "UgKhePa3n1qM"
      },
      "source": [
        "#Sorting by a particular column\n",
        "#Default is ascending=True\n",
        "employee_records1 = employee_records.sort_values(by='salary', ascending=False)"
      ],
      "execution_count": 77,
      "outputs": []
    },
    {
      "cell_type": "code",
      "metadata": {
        "colab": {
          "base_uri": "https://localhost:8080/",
          "height": 111
        },
        "id": "1qZLJU5sxTkl",
        "outputId": "903d5e3f-f2a9-408b-b74d-a319c6dcd432"
      },
      "source": [
        "employee_records1.iloc[[3,7]]"
      ],
      "execution_count": 78,
      "outputs": [
        {
          "output_type": "execute_result",
          "data": {
            "text/html": [
              "<div>\n",
              "<style scoped>\n",
              "    .dataframe tbody tr th:only-of-type {\n",
              "        vertical-align: middle;\n",
              "    }\n",
              "\n",
              "    .dataframe tbody tr th {\n",
              "        vertical-align: top;\n",
              "    }\n",
              "\n",
              "    .dataframe thead th {\n",
              "        text-align: right;\n",
              "    }\n",
              "</style>\n",
              "<table border=\"1\" class=\"dataframe\">\n",
              "  <thead>\n",
              "    <tr style=\"text-align: right;\">\n",
              "      <th></th>\n",
              "      <th>employee_name</th>\n",
              "      <th>employee_dept</th>\n",
              "      <th>employee_id</th>\n",
              "      <th>salary</th>\n",
              "    </tr>\n",
              "  </thead>\n",
              "  <tbody>\n",
              "    <tr>\n",
              "      <th>4</th>\n",
              "      <td>Tania</td>\n",
              "      <td>Finance</td>\n",
              "      <td>10005</td>\n",
              "      <td>58753.00</td>\n",
              "    </tr>\n",
              "    <tr>\n",
              "      <th>10</th>\n",
              "      <td>Anna</td>\n",
              "      <td>Sales</td>\n",
              "      <td>10011</td>\n",
              "      <td>44567.88</td>\n",
              "    </tr>\n",
              "  </tbody>\n",
              "</table>\n",
              "</div>"
            ],
            "text/plain": [
              "   employee_name employee_dept  employee_id    salary\n",
              "4          Tania       Finance        10005  58753.00\n",
              "10          Anna         Sales        10011  44567.88"
            ]
          },
          "metadata": {},
          "execution_count": 78
        }
      ]
    },
    {
      "cell_type": "code",
      "metadata": {
        "colab": {
          "base_uri": "https://localhost:8080/",
          "height": 111
        },
        "id": "qQN8kN00xZPl",
        "outputId": "f585e0ef-b385-42e4-aaa0-3edeac2269b4"
      },
      "source": [
        "employee_records1.loc[[3,7]]"
      ],
      "execution_count": 79,
      "outputs": [
        {
          "output_type": "execute_result",
          "data": {
            "text/html": [
              "<div>\n",
              "<style scoped>\n",
              "    .dataframe tbody tr th:only-of-type {\n",
              "        vertical-align: middle;\n",
              "    }\n",
              "\n",
              "    .dataframe tbody tr th {\n",
              "        vertical-align: top;\n",
              "    }\n",
              "\n",
              "    .dataframe thead th {\n",
              "        text-align: right;\n",
              "    }\n",
              "</style>\n",
              "<table border=\"1\" class=\"dataframe\">\n",
              "  <thead>\n",
              "    <tr style=\"text-align: right;\">\n",
              "      <th></th>\n",
              "      <th>employee_name</th>\n",
              "      <th>employee_dept</th>\n",
              "      <th>employee_id</th>\n",
              "      <th>salary</th>\n",
              "    </tr>\n",
              "  </thead>\n",
              "  <tbody>\n",
              "    <tr>\n",
              "      <th>3</th>\n",
              "      <td>Sarah</td>\n",
              "      <td>Sales</td>\n",
              "      <td>10004</td>\n",
              "      <td>76422.34</td>\n",
              "    </tr>\n",
              "    <tr>\n",
              "      <th>7</th>\n",
              "      <td>Alice</td>\n",
              "      <td>Marketing</td>\n",
              "      <td>10008</td>\n",
              "      <td>34354.66</td>\n",
              "    </tr>\n",
              "  </tbody>\n",
              "</table>\n",
              "</div>"
            ],
            "text/plain": [
              "  employee_name employee_dept  employee_id    salary\n",
              "3         Sarah         Sales        10004  76422.34\n",
              "7         Alice     Marketing        10008  34354.66"
            ]
          },
          "metadata": {},
          "execution_count": 79
        }
      ]
    },
    {
      "cell_type": "code",
      "metadata": {
        "colab": {
          "base_uri": "https://localhost:8080/"
        },
        "id": "nUuGpQsoyEbR",
        "outputId": "88419536-6be0-49ff-e1f0-71fb529fe7bb"
      },
      "source": [
        "employee_records['salary'] > 60000"
      ],
      "execution_count": 80,
      "outputs": [
        {
          "output_type": "execute_result",
          "data": {
            "text/plain": [
              "0     False\n",
              "1      True\n",
              "2     False\n",
              "3      True\n",
              "4     False\n",
              "5     False\n",
              "6      True\n",
              "7     False\n",
              "8     False\n",
              "9     False\n",
              "10    False\n",
              "Name: salary, dtype: bool"
            ]
          },
          "metadata": {},
          "execution_count": 80
        }
      ]
    },
    {
      "cell_type": "code",
      "metadata": {
        "colab": {
          "base_uri": "https://localhost:8080/",
          "height": 142
        },
        "id": "-AaNyPx2yLOl",
        "outputId": "9a6aa202-ec38-45c5-a316-be88300b0d35"
      },
      "source": [
        "# Fetch particular columns from rows satisfying a particular condition\n",
        "employee_records.loc[employee_records['salary'] > 60000, ['employee_id']]"
      ],
      "execution_count": 81,
      "outputs": [
        {
          "output_type": "execute_result",
          "data": {
            "text/html": [
              "<div>\n",
              "<style scoped>\n",
              "    .dataframe tbody tr th:only-of-type {\n",
              "        vertical-align: middle;\n",
              "    }\n",
              "\n",
              "    .dataframe tbody tr th {\n",
              "        vertical-align: top;\n",
              "    }\n",
              "\n",
              "    .dataframe thead th {\n",
              "        text-align: right;\n",
              "    }\n",
              "</style>\n",
              "<table border=\"1\" class=\"dataframe\">\n",
              "  <thead>\n",
              "    <tr style=\"text-align: right;\">\n",
              "      <th></th>\n",
              "      <th>employee_id</th>\n",
              "    </tr>\n",
              "  </thead>\n",
              "  <tbody>\n",
              "    <tr>\n",
              "      <th>1</th>\n",
              "      <td>10002</td>\n",
              "    </tr>\n",
              "    <tr>\n",
              "      <th>3</th>\n",
              "      <td>10004</td>\n",
              "    </tr>\n",
              "    <tr>\n",
              "      <th>6</th>\n",
              "      <td>10007</td>\n",
              "    </tr>\n",
              "  </tbody>\n",
              "</table>\n",
              "</div>"
            ],
            "text/plain": [
              "   employee_id\n",
              "1        10002\n",
              "3        10004\n",
              "6        10007"
            ]
          },
          "metadata": {},
          "execution_count": 81
        }
      ]
    },
    {
      "cell_type": "code",
      "metadata": {
        "colab": {
          "base_uri": "https://localhost:8080/",
          "height": 142
        },
        "id": "WOCWtZLLy-G5",
        "outputId": "c70bfb8b-7a5f-4b23-ebf1-e09b9c6107ce"
      },
      "source": [
        "# Fetch particular columns from rows satisfying a particular condition\n",
        "employee_records.loc[employee_records['salary'] > 60000, ['employee_id','employee_dept']]"
      ],
      "execution_count": 82,
      "outputs": [
        {
          "output_type": "execute_result",
          "data": {
            "text/html": [
              "<div>\n",
              "<style scoped>\n",
              "    .dataframe tbody tr th:only-of-type {\n",
              "        vertical-align: middle;\n",
              "    }\n",
              "\n",
              "    .dataframe tbody tr th {\n",
              "        vertical-align: top;\n",
              "    }\n",
              "\n",
              "    .dataframe thead th {\n",
              "        text-align: right;\n",
              "    }\n",
              "</style>\n",
              "<table border=\"1\" class=\"dataframe\">\n",
              "  <thead>\n",
              "    <tr style=\"text-align: right;\">\n",
              "      <th></th>\n",
              "      <th>employee_id</th>\n",
              "      <th>employee_dept</th>\n",
              "    </tr>\n",
              "  </thead>\n",
              "  <tbody>\n",
              "    <tr>\n",
              "      <th>1</th>\n",
              "      <td>10002</td>\n",
              "      <td>HR</td>\n",
              "    </tr>\n",
              "    <tr>\n",
              "      <th>3</th>\n",
              "      <td>10004</td>\n",
              "      <td>Sales</td>\n",
              "    </tr>\n",
              "    <tr>\n",
              "      <th>6</th>\n",
              "      <td>10007</td>\n",
              "      <td>HR</td>\n",
              "    </tr>\n",
              "  </tbody>\n",
              "</table>\n",
              "</div>"
            ],
            "text/plain": [
              "   employee_id employee_dept\n",
              "1        10002            HR\n",
              "3        10004         Sales\n",
              "6        10007            HR"
            ]
          },
          "metadata": {},
          "execution_count": 82
        }
      ]
    },
    {
      "cell_type": "code",
      "metadata": {
        "colab": {
          "base_uri": "https://localhost:8080/"
        },
        "id": "T9vlg-BkzM2m",
        "outputId": "b2da2c66-7589-4ca6-f4b4-57f8e3992689"
      },
      "source": [
        "#Access using cloumn name directly (as a attribute) --> similar to employee_records.columns\n",
        "employee_records.employee_dept\n"
      ],
      "execution_count": 83,
      "outputs": [
        {
          "output_type": "execute_result",
          "data": {
            "text/plain": [
              "0      Research\n",
              "1            HR\n",
              "2     Marketing\n",
              "3         Sales\n",
              "4       Finance\n",
              "5            IT\n",
              "6            HR\n",
              "7     Marketing\n",
              "8            IT\n",
              "9       Finance\n",
              "10        Sales\n",
              "Name: employee_dept, dtype: object"
            ]
          },
          "metadata": {},
          "execution_count": 83
        }
      ]
    },
    {
      "cell_type": "code",
      "metadata": {
        "colab": {
          "base_uri": "https://localhost:8080/",
          "height": 111
        },
        "id": "VGPehOaZzUGG",
        "outputId": "8c33f076-4483-4f2b-f79e-798efc473427"
      },
      "source": [
        "employee_records.loc[employee_records['employee_dept']=='HR']"
      ],
      "execution_count": 84,
      "outputs": [
        {
          "output_type": "execute_result",
          "data": {
            "text/html": [
              "<div>\n",
              "<style scoped>\n",
              "    .dataframe tbody tr th:only-of-type {\n",
              "        vertical-align: middle;\n",
              "    }\n",
              "\n",
              "    .dataframe tbody tr th {\n",
              "        vertical-align: top;\n",
              "    }\n",
              "\n",
              "    .dataframe thead th {\n",
              "        text-align: right;\n",
              "    }\n",
              "</style>\n",
              "<table border=\"1\" class=\"dataframe\">\n",
              "  <thead>\n",
              "    <tr style=\"text-align: right;\">\n",
              "      <th></th>\n",
              "      <th>employee_name</th>\n",
              "      <th>employee_dept</th>\n",
              "      <th>employee_id</th>\n",
              "      <th>salary</th>\n",
              "    </tr>\n",
              "  </thead>\n",
              "  <tbody>\n",
              "    <tr>\n",
              "      <th>1</th>\n",
              "      <td>Max</td>\n",
              "      <td>HR</td>\n",
              "      <td>10002</td>\n",
              "      <td>65343.45</td>\n",
              "    </tr>\n",
              "    <tr>\n",
              "      <th>6</th>\n",
              "      <td>Mark</td>\n",
              "      <td>HR</td>\n",
              "      <td>10007</td>\n",
              "      <td>66544.60</td>\n",
              "    </tr>\n",
              "  </tbody>\n",
              "</table>\n",
              "</div>"
            ],
            "text/plain": [
              "  employee_name employee_dept  employee_id    salary\n",
              "1           Max            HR        10002  65343.45\n",
              "6          Mark            HR        10007  66544.60"
            ]
          },
          "metadata": {},
          "execution_count": 84
        }
      ]
    },
    {
      "cell_type": "markdown",
      "metadata": {
        "id": "ObwMGe3PztYL"
      },
      "source": [
        "# Selection with multiple conditions"
      ]
    },
    {
      "cell_type": "code",
      "metadata": {
        "colab": {
          "base_uri": "https://localhost:8080/",
          "height": 204
        },
        "id": "DtT5jrYozxFW",
        "outputId": "d9cb4ab9-599f-4b1c-a2a6-19c97e5e0365"
      },
      "source": [
        "employee_records.loc[(employee_records.salary > 40000) & (employee_records.salary < 60000)]"
      ],
      "execution_count": 85,
      "outputs": [
        {
          "output_type": "execute_result",
          "data": {
            "text/html": [
              "<div>\n",
              "<style scoped>\n",
              "    .dataframe tbody tr th:only-of-type {\n",
              "        vertical-align: middle;\n",
              "    }\n",
              "\n",
              "    .dataframe tbody tr th {\n",
              "        vertical-align: top;\n",
              "    }\n",
              "\n",
              "    .dataframe thead th {\n",
              "        text-align: right;\n",
              "    }\n",
              "</style>\n",
              "<table border=\"1\" class=\"dataframe\">\n",
              "  <thead>\n",
              "    <tr style=\"text-align: right;\">\n",
              "      <th></th>\n",
              "      <th>employee_name</th>\n",
              "      <th>employee_dept</th>\n",
              "      <th>employee_id</th>\n",
              "      <th>salary</th>\n",
              "    </tr>\n",
              "  </thead>\n",
              "  <tbody>\n",
              "    <tr>\n",
              "      <th>0</th>\n",
              "      <td>Sam</td>\n",
              "      <td>Research</td>\n",
              "      <td>10001</td>\n",
              "      <td>45034.88</td>\n",
              "    </tr>\n",
              "    <tr>\n",
              "      <th>2</th>\n",
              "      <td>Tony</td>\n",
              "      <td>Marketing</td>\n",
              "      <td>10003</td>\n",
              "      <td>53423.27</td>\n",
              "    </tr>\n",
              "    <tr>\n",
              "      <th>4</th>\n",
              "      <td>Tania</td>\n",
              "      <td>Finance</td>\n",
              "      <td>10005</td>\n",
              "      <td>58753.00</td>\n",
              "    </tr>\n",
              "    <tr>\n",
              "      <th>8</th>\n",
              "      <td>Charles</td>\n",
              "      <td>IT</td>\n",
              "      <td>10009</td>\n",
              "      <td>55234.96</td>\n",
              "    </tr>\n",
              "    <tr>\n",
              "      <th>10</th>\n",
              "      <td>Anna</td>\n",
              "      <td>Sales</td>\n",
              "      <td>10011</td>\n",
              "      <td>44567.88</td>\n",
              "    </tr>\n",
              "  </tbody>\n",
              "</table>\n",
              "</div>"
            ],
            "text/plain": [
              "   employee_name employee_dept  employee_id    salary\n",
              "0            Sam      Research        10001  45034.88\n",
              "2           Tony     Marketing        10003  53423.27\n",
              "4          Tania       Finance        10005  58753.00\n",
              "8        Charles            IT        10009  55234.96\n",
              "10          Anna         Sales        10011  44567.88"
            ]
          },
          "metadata": {},
          "execution_count": 85
        }
      ]
    },
    {
      "cell_type": "code",
      "metadata": {
        "colab": {
          "base_uri": "https://localhost:8080/",
          "height": 111
        },
        "id": "35ZGwuHR0QzJ",
        "outputId": "9c2458b7-7919-47ba-ffc3-e91577eea53c"
      },
      "source": [
        "employee_records.loc[(employee_records.employee_dept == 'IT') & (employee_records.salary < 60000)]"
      ],
      "execution_count": 86,
      "outputs": [
        {
          "output_type": "execute_result",
          "data": {
            "text/html": [
              "<div>\n",
              "<style scoped>\n",
              "    .dataframe tbody tr th:only-of-type {\n",
              "        vertical-align: middle;\n",
              "    }\n",
              "\n",
              "    .dataframe tbody tr th {\n",
              "        vertical-align: top;\n",
              "    }\n",
              "\n",
              "    .dataframe thead th {\n",
              "        text-align: right;\n",
              "    }\n",
              "</style>\n",
              "<table border=\"1\" class=\"dataframe\">\n",
              "  <thead>\n",
              "    <tr style=\"text-align: right;\">\n",
              "      <th></th>\n",
              "      <th>employee_name</th>\n",
              "      <th>employee_dept</th>\n",
              "      <th>employee_id</th>\n",
              "      <th>salary</th>\n",
              "    </tr>\n",
              "  </thead>\n",
              "  <tbody>\n",
              "    <tr>\n",
              "      <th>5</th>\n",
              "      <td>David</td>\n",
              "      <td>IT</td>\n",
              "      <td>10006</td>\n",
              "      <td>34323.44</td>\n",
              "    </tr>\n",
              "    <tr>\n",
              "      <th>8</th>\n",
              "      <td>Charles</td>\n",
              "      <td>IT</td>\n",
              "      <td>10009</td>\n",
              "      <td>55234.96</td>\n",
              "    </tr>\n",
              "  </tbody>\n",
              "</table>\n",
              "</div>"
            ],
            "text/plain": [
              "  employee_name employee_dept  employee_id    salary\n",
              "5         David            IT        10006  34323.44\n",
              "8       Charles            IT        10009  55234.96"
            ]
          },
          "metadata": {},
          "execution_count": 86
        }
      ]
    },
    {
      "cell_type": "markdown",
      "metadata": {
        "id": "arpoe-8y2oIv"
      },
      "source": [
        "# Copying a DataFrame"
      ]
    },
    {
      "cell_type": "code",
      "metadata": {
        "id": "eVM1f1AL16Ch"
      },
      "source": [
        "# Not pass by reference copy, change in temp_df wont impact employee_records\n",
        "temp_df = employee_records.copy()\n",
        "#Set a value\n",
        "temp_df.loc[2] = 5000 # set value for each column in that row"
      ],
      "execution_count": 87,
      "outputs": []
    },
    {
      "cell_type": "code",
      "metadata": {
        "colab": {
          "base_uri": "https://localhost:8080/",
          "height": 390
        },
        "id": "zPZsdNmF2Zqz",
        "outputId": "3b37513e-69fc-4f08-a036-cd265f3ea259"
      },
      "source": [
        "temp_df"
      ],
      "execution_count": 88,
      "outputs": [
        {
          "output_type": "execute_result",
          "data": {
            "text/html": [
              "<div>\n",
              "<style scoped>\n",
              "    .dataframe tbody tr th:only-of-type {\n",
              "        vertical-align: middle;\n",
              "    }\n",
              "\n",
              "    .dataframe tbody tr th {\n",
              "        vertical-align: top;\n",
              "    }\n",
              "\n",
              "    .dataframe thead th {\n",
              "        text-align: right;\n",
              "    }\n",
              "</style>\n",
              "<table border=\"1\" class=\"dataframe\">\n",
              "  <thead>\n",
              "    <tr style=\"text-align: right;\">\n",
              "      <th></th>\n",
              "      <th>employee_name</th>\n",
              "      <th>employee_dept</th>\n",
              "      <th>employee_id</th>\n",
              "      <th>salary</th>\n",
              "    </tr>\n",
              "  </thead>\n",
              "  <tbody>\n",
              "    <tr>\n",
              "      <th>0</th>\n",
              "      <td>Sam</td>\n",
              "      <td>Research</td>\n",
              "      <td>10001</td>\n",
              "      <td>45034.88</td>\n",
              "    </tr>\n",
              "    <tr>\n",
              "      <th>1</th>\n",
              "      <td>Max</td>\n",
              "      <td>HR</td>\n",
              "      <td>10002</td>\n",
              "      <td>65343.45</td>\n",
              "    </tr>\n",
              "    <tr>\n",
              "      <th>2</th>\n",
              "      <td>5000</td>\n",
              "      <td>5000</td>\n",
              "      <td>5000</td>\n",
              "      <td>5000.00</td>\n",
              "    </tr>\n",
              "    <tr>\n",
              "      <th>3</th>\n",
              "      <td>Sarah</td>\n",
              "      <td>Sales</td>\n",
              "      <td>10004</td>\n",
              "      <td>76422.34</td>\n",
              "    </tr>\n",
              "    <tr>\n",
              "      <th>4</th>\n",
              "      <td>Tania</td>\n",
              "      <td>Finance</td>\n",
              "      <td>10005</td>\n",
              "      <td>58753.00</td>\n",
              "    </tr>\n",
              "    <tr>\n",
              "      <th>5</th>\n",
              "      <td>David</td>\n",
              "      <td>IT</td>\n",
              "      <td>10006</td>\n",
              "      <td>34323.44</td>\n",
              "    </tr>\n",
              "    <tr>\n",
              "      <th>6</th>\n",
              "      <td>Mark</td>\n",
              "      <td>HR</td>\n",
              "      <td>10007</td>\n",
              "      <td>66544.60</td>\n",
              "    </tr>\n",
              "    <tr>\n",
              "      <th>7</th>\n",
              "      <td>Alice</td>\n",
              "      <td>Marketing</td>\n",
              "      <td>10008</td>\n",
              "      <td>34354.66</td>\n",
              "    </tr>\n",
              "    <tr>\n",
              "      <th>8</th>\n",
              "      <td>Charles</td>\n",
              "      <td>IT</td>\n",
              "      <td>10009</td>\n",
              "      <td>55234.96</td>\n",
              "    </tr>\n",
              "    <tr>\n",
              "      <th>9</th>\n",
              "      <td>Bob</td>\n",
              "      <td>Finance</td>\n",
              "      <td>10010</td>\n",
              "      <td>39078.60</td>\n",
              "    </tr>\n",
              "    <tr>\n",
              "      <th>10</th>\n",
              "      <td>Anna</td>\n",
              "      <td>Sales</td>\n",
              "      <td>10011</td>\n",
              "      <td>44567.88</td>\n",
              "    </tr>\n",
              "  </tbody>\n",
              "</table>\n",
              "</div>"
            ],
            "text/plain": [
              "   employee_name employee_dept  employee_id    salary\n",
              "0            Sam      Research        10001  45034.88\n",
              "1            Max            HR        10002  65343.45\n",
              "2           5000          5000         5000   5000.00\n",
              "3          Sarah         Sales        10004  76422.34\n",
              "4          Tania       Finance        10005  58753.00\n",
              "5          David            IT        10006  34323.44\n",
              "6           Mark            HR        10007  66544.60\n",
              "7          Alice     Marketing        10008  34354.66\n",
              "8        Charles            IT        10009  55234.96\n",
              "9            Bob       Finance        10010  39078.60\n",
              "10          Anna         Sales        10011  44567.88"
            ]
          },
          "metadata": {},
          "execution_count": 88
        }
      ]
    },
    {
      "cell_type": "code",
      "metadata": {
        "colab": {
          "base_uri": "https://localhost:8080/",
          "height": 390
        },
        "id": "4aWwAp3s2k0R",
        "outputId": "817203ae-5550-40b2-fd20-ca604ef24350"
      },
      "source": [
        "employee_records"
      ],
      "execution_count": 90,
      "outputs": [
        {
          "output_type": "execute_result",
          "data": {
            "text/html": [
              "<div>\n",
              "<style scoped>\n",
              "    .dataframe tbody tr th:only-of-type {\n",
              "        vertical-align: middle;\n",
              "    }\n",
              "\n",
              "    .dataframe tbody tr th {\n",
              "        vertical-align: top;\n",
              "    }\n",
              "\n",
              "    .dataframe thead th {\n",
              "        text-align: right;\n",
              "    }\n",
              "</style>\n",
              "<table border=\"1\" class=\"dataframe\">\n",
              "  <thead>\n",
              "    <tr style=\"text-align: right;\">\n",
              "      <th></th>\n",
              "      <th>employee_name</th>\n",
              "      <th>employee_dept</th>\n",
              "      <th>employee_id</th>\n",
              "      <th>salary</th>\n",
              "    </tr>\n",
              "  </thead>\n",
              "  <tbody>\n",
              "    <tr>\n",
              "      <th>0</th>\n",
              "      <td>Sam</td>\n",
              "      <td>Research</td>\n",
              "      <td>10001</td>\n",
              "      <td>45034.88</td>\n",
              "    </tr>\n",
              "    <tr>\n",
              "      <th>1</th>\n",
              "      <td>Max</td>\n",
              "      <td>HR</td>\n",
              "      <td>10002</td>\n",
              "      <td>65343.45</td>\n",
              "    </tr>\n",
              "    <tr>\n",
              "      <th>2</th>\n",
              "      <td>Tony</td>\n",
              "      <td>Marketing</td>\n",
              "      <td>10003</td>\n",
              "      <td>53423.27</td>\n",
              "    </tr>\n",
              "    <tr>\n",
              "      <th>3</th>\n",
              "      <td>Sarah</td>\n",
              "      <td>Sales</td>\n",
              "      <td>10004</td>\n",
              "      <td>76422.34</td>\n",
              "    </tr>\n",
              "    <tr>\n",
              "      <th>4</th>\n",
              "      <td>Tania</td>\n",
              "      <td>Finance</td>\n",
              "      <td>10005</td>\n",
              "      <td>58753.00</td>\n",
              "    </tr>\n",
              "    <tr>\n",
              "      <th>5</th>\n",
              "      <td>David</td>\n",
              "      <td>IT</td>\n",
              "      <td>10006</td>\n",
              "      <td>34323.44</td>\n",
              "    </tr>\n",
              "    <tr>\n",
              "      <th>6</th>\n",
              "      <td>Mark</td>\n",
              "      <td>HR</td>\n",
              "      <td>10007</td>\n",
              "      <td>66544.60</td>\n",
              "    </tr>\n",
              "    <tr>\n",
              "      <th>7</th>\n",
              "      <td>Alice</td>\n",
              "      <td>Marketing</td>\n",
              "      <td>10008</td>\n",
              "      <td>34354.66</td>\n",
              "    </tr>\n",
              "    <tr>\n",
              "      <th>8</th>\n",
              "      <td>Charles</td>\n",
              "      <td>IT</td>\n",
              "      <td>10009</td>\n",
              "      <td>55234.96</td>\n",
              "    </tr>\n",
              "    <tr>\n",
              "      <th>9</th>\n",
              "      <td>Bob</td>\n",
              "      <td>Finance</td>\n",
              "      <td>10010</td>\n",
              "      <td>39078.60</td>\n",
              "    </tr>\n",
              "    <tr>\n",
              "      <th>10</th>\n",
              "      <td>Anna</td>\n",
              "      <td>Sales</td>\n",
              "      <td>10011</td>\n",
              "      <td>44567.88</td>\n",
              "    </tr>\n",
              "  </tbody>\n",
              "</table>\n",
              "</div>"
            ],
            "text/plain": [
              "   employee_name employee_dept  employee_id    salary\n",
              "0            Sam      Research        10001  45034.88\n",
              "1            Max            HR        10002  65343.45\n",
              "2           Tony     Marketing        10003  53423.27\n",
              "3          Sarah         Sales        10004  76422.34\n",
              "4          Tania       Finance        10005  58753.00\n",
              "5          David            IT        10006  34323.44\n",
              "6           Mark            HR        10007  66544.60\n",
              "7          Alice     Marketing        10008  34354.66\n",
              "8        Charles            IT        10009  55234.96\n",
              "9            Bob       Finance        10010  39078.60\n",
              "10          Anna         Sales        10011  44567.88"
            ]
          },
          "metadata": {},
          "execution_count": 90
        }
      ]
    },
    {
      "cell_type": "code",
      "metadata": {
        "colab": {
          "base_uri": "https://localhost:8080/",
          "height": 452
        },
        "id": "2gu8aGIz26GF",
        "outputId": "47035875-cca8-4171-eda7-d8e042870248"
      },
      "source": [
        "temp_df2 = employee_records.copy()\n",
        "temp_df2.loc[13] = ['Shashwat', 'IT', 10012, 50000]\n",
        "temp_df2.loc[12] = 50000\n",
        "# temp_df2.loc[14:15] = [['Padmesh', 'IT', 10013, 500000],['Padmesh1', 'IT', 10014, 500000]]\n",
        "# TODO: Find how to add multiple entries to DF using loc or iloc.\n",
        "temp_df2"
      ],
      "execution_count": 89,
      "outputs": [
        {
          "output_type": "execute_result",
          "data": {
            "text/html": [
              "<div>\n",
              "<style scoped>\n",
              "    .dataframe tbody tr th:only-of-type {\n",
              "        vertical-align: middle;\n",
              "    }\n",
              "\n",
              "    .dataframe tbody tr th {\n",
              "        vertical-align: top;\n",
              "    }\n",
              "\n",
              "    .dataframe thead th {\n",
              "        text-align: right;\n",
              "    }\n",
              "</style>\n",
              "<table border=\"1\" class=\"dataframe\">\n",
              "  <thead>\n",
              "    <tr style=\"text-align: right;\">\n",
              "      <th></th>\n",
              "      <th>employee_name</th>\n",
              "      <th>employee_dept</th>\n",
              "      <th>employee_id</th>\n",
              "      <th>salary</th>\n",
              "    </tr>\n",
              "  </thead>\n",
              "  <tbody>\n",
              "    <tr>\n",
              "      <th>0</th>\n",
              "      <td>Sam</td>\n",
              "      <td>Research</td>\n",
              "      <td>10001</td>\n",
              "      <td>45034.88</td>\n",
              "    </tr>\n",
              "    <tr>\n",
              "      <th>1</th>\n",
              "      <td>Max</td>\n",
              "      <td>HR</td>\n",
              "      <td>10002</td>\n",
              "      <td>65343.45</td>\n",
              "    </tr>\n",
              "    <tr>\n",
              "      <th>2</th>\n",
              "      <td>Tony</td>\n",
              "      <td>Marketing</td>\n",
              "      <td>10003</td>\n",
              "      <td>53423.27</td>\n",
              "    </tr>\n",
              "    <tr>\n",
              "      <th>3</th>\n",
              "      <td>Sarah</td>\n",
              "      <td>Sales</td>\n",
              "      <td>10004</td>\n",
              "      <td>76422.34</td>\n",
              "    </tr>\n",
              "    <tr>\n",
              "      <th>4</th>\n",
              "      <td>Tania</td>\n",
              "      <td>Finance</td>\n",
              "      <td>10005</td>\n",
              "      <td>58753.00</td>\n",
              "    </tr>\n",
              "    <tr>\n",
              "      <th>5</th>\n",
              "      <td>David</td>\n",
              "      <td>IT</td>\n",
              "      <td>10006</td>\n",
              "      <td>34323.44</td>\n",
              "    </tr>\n",
              "    <tr>\n",
              "      <th>6</th>\n",
              "      <td>Mark</td>\n",
              "      <td>HR</td>\n",
              "      <td>10007</td>\n",
              "      <td>66544.60</td>\n",
              "    </tr>\n",
              "    <tr>\n",
              "      <th>7</th>\n",
              "      <td>Alice</td>\n",
              "      <td>Marketing</td>\n",
              "      <td>10008</td>\n",
              "      <td>34354.66</td>\n",
              "    </tr>\n",
              "    <tr>\n",
              "      <th>8</th>\n",
              "      <td>Charles</td>\n",
              "      <td>IT</td>\n",
              "      <td>10009</td>\n",
              "      <td>55234.96</td>\n",
              "    </tr>\n",
              "    <tr>\n",
              "      <th>9</th>\n",
              "      <td>Bob</td>\n",
              "      <td>Finance</td>\n",
              "      <td>10010</td>\n",
              "      <td>39078.60</td>\n",
              "    </tr>\n",
              "    <tr>\n",
              "      <th>10</th>\n",
              "      <td>Anna</td>\n",
              "      <td>Sales</td>\n",
              "      <td>10011</td>\n",
              "      <td>44567.88</td>\n",
              "    </tr>\n",
              "    <tr>\n",
              "      <th>13</th>\n",
              "      <td>Shashwat</td>\n",
              "      <td>IT</td>\n",
              "      <td>10012</td>\n",
              "      <td>50000.00</td>\n",
              "    </tr>\n",
              "    <tr>\n",
              "      <th>12</th>\n",
              "      <td>50000</td>\n",
              "      <td>50000</td>\n",
              "      <td>50000</td>\n",
              "      <td>50000.00</td>\n",
              "    </tr>\n",
              "  </tbody>\n",
              "</table>\n",
              "</div>"
            ],
            "text/plain": [
              "   employee_name employee_dept  employee_id    salary\n",
              "0            Sam      Research        10001  45034.88\n",
              "1            Max            HR        10002  65343.45\n",
              "2           Tony     Marketing        10003  53423.27\n",
              "3          Sarah         Sales        10004  76422.34\n",
              "4          Tania       Finance        10005  58753.00\n",
              "5          David            IT        10006  34323.44\n",
              "6           Mark            HR        10007  66544.60\n",
              "7          Alice     Marketing        10008  34354.66\n",
              "8        Charles            IT        10009  55234.96\n",
              "9            Bob       Finance        10010  39078.60\n",
              "10          Anna         Sales        10011  44567.88\n",
              "13      Shashwat            IT        10012  50000.00\n",
              "12         50000         50000        50000  50000.00"
            ]
          },
          "metadata": {},
          "execution_count": 89
        }
      ]
    },
    {
      "cell_type": "code",
      "metadata": {
        "colab": {
          "base_uri": "https://localhost:8080/"
        },
        "id": "m8pSrmmD6HMK",
        "outputId": "d87145b9-6568-455b-dadd-33cb4a8f3327"
      },
      "source": [
        "# TODO: convert all values for all rows to one value\n",
        "temp_df.loc[:,'employee_id'] == 1000"
      ],
      "execution_count": 91,
      "outputs": [
        {
          "output_type": "execute_result",
          "data": {
            "text/plain": [
              "0     False\n",
              "1     False\n",
              "2     False\n",
              "3     False\n",
              "4     False\n",
              "5     False\n",
              "6     False\n",
              "7     False\n",
              "8     False\n",
              "9     False\n",
              "10    False\n",
              "Name: employee_id, dtype: bool"
            ]
          },
          "metadata": {},
          "execution_count": 91
        }
      ]
    },
    {
      "cell_type": "code",
      "metadata": {
        "id": "YfGvu8uT6dEG"
      },
      "source": [
        ""
      ],
      "execution_count": null,
      "outputs": []
    },
    {
      "cell_type": "code",
      "metadata": {
        "colab": {
          "base_uri": "https://localhost:8080/",
          "height": 111
        },
        "id": "tg6tECb76fFG",
        "outputId": "3834958c-e559-4db9-9721-3ddc8f39be6c"
      },
      "source": [
        "# Selecting rannge of rows and columns using iloc\n",
        "employee_records.iloc[[4,2],[1,3]]"
      ],
      "execution_count": 92,
      "outputs": [
        {
          "output_type": "execute_result",
          "data": {
            "text/html": [
              "<div>\n",
              "<style scoped>\n",
              "    .dataframe tbody tr th:only-of-type {\n",
              "        vertical-align: middle;\n",
              "    }\n",
              "\n",
              "    .dataframe tbody tr th {\n",
              "        vertical-align: top;\n",
              "    }\n",
              "\n",
              "    .dataframe thead th {\n",
              "        text-align: right;\n",
              "    }\n",
              "</style>\n",
              "<table border=\"1\" class=\"dataframe\">\n",
              "  <thead>\n",
              "    <tr style=\"text-align: right;\">\n",
              "      <th></th>\n",
              "      <th>employee_dept</th>\n",
              "      <th>salary</th>\n",
              "    </tr>\n",
              "  </thead>\n",
              "  <tbody>\n",
              "    <tr>\n",
              "      <th>4</th>\n",
              "      <td>Finance</td>\n",
              "      <td>58753.00</td>\n",
              "    </tr>\n",
              "    <tr>\n",
              "      <th>2</th>\n",
              "      <td>Marketing</td>\n",
              "      <td>53423.27</td>\n",
              "    </tr>\n",
              "  </tbody>\n",
              "</table>\n",
              "</div>"
            ],
            "text/plain": [
              "  employee_dept    salary\n",
              "4       Finance  58753.00\n",
              "2     Marketing  53423.27"
            ]
          },
          "metadata": {},
          "execution_count": 92
        }
      ]
    },
    {
      "cell_type": "code",
      "metadata": {
        "id": "sP8iCkYs6qsm"
      },
      "source": [
        "# TODO: Selecting rannge of rows and columns using loc\n",
        "#employee_records.loc[[4,2],[1,3]]"
      ],
      "execution_count": 93,
      "outputs": []
    },
    {
      "cell_type": "code",
      "metadata": {
        "colab": {
          "base_uri": "https://localhost:8080/",
          "height": 173
        },
        "id": "4ZDqzdXf7Mf4",
        "outputId": "9e1477f1-4f15-494e-c491-585300511daf"
      },
      "source": [
        "employee_records.iloc[0:4,:]"
      ],
      "execution_count": 94,
      "outputs": [
        {
          "output_type": "execute_result",
          "data": {
            "text/html": [
              "<div>\n",
              "<style scoped>\n",
              "    .dataframe tbody tr th:only-of-type {\n",
              "        vertical-align: middle;\n",
              "    }\n",
              "\n",
              "    .dataframe tbody tr th {\n",
              "        vertical-align: top;\n",
              "    }\n",
              "\n",
              "    .dataframe thead th {\n",
              "        text-align: right;\n",
              "    }\n",
              "</style>\n",
              "<table border=\"1\" class=\"dataframe\">\n",
              "  <thead>\n",
              "    <tr style=\"text-align: right;\">\n",
              "      <th></th>\n",
              "      <th>employee_name</th>\n",
              "      <th>employee_dept</th>\n",
              "      <th>employee_id</th>\n",
              "      <th>salary</th>\n",
              "    </tr>\n",
              "  </thead>\n",
              "  <tbody>\n",
              "    <tr>\n",
              "      <th>0</th>\n",
              "      <td>Sam</td>\n",
              "      <td>Research</td>\n",
              "      <td>10001</td>\n",
              "      <td>45034.88</td>\n",
              "    </tr>\n",
              "    <tr>\n",
              "      <th>1</th>\n",
              "      <td>Max</td>\n",
              "      <td>HR</td>\n",
              "      <td>10002</td>\n",
              "      <td>65343.45</td>\n",
              "    </tr>\n",
              "    <tr>\n",
              "      <th>2</th>\n",
              "      <td>Tony</td>\n",
              "      <td>Marketing</td>\n",
              "      <td>10003</td>\n",
              "      <td>53423.27</td>\n",
              "    </tr>\n",
              "    <tr>\n",
              "      <th>3</th>\n",
              "      <td>Sarah</td>\n",
              "      <td>Sales</td>\n",
              "      <td>10004</td>\n",
              "      <td>76422.34</td>\n",
              "    </tr>\n",
              "  </tbody>\n",
              "</table>\n",
              "</div>"
            ],
            "text/plain": [
              "  employee_name employee_dept  employee_id    salary\n",
              "0           Sam      Research        10001  45034.88\n",
              "1           Max            HR        10002  65343.45\n",
              "2          Tony     Marketing        10003  53423.27\n",
              "3         Sarah         Sales        10004  76422.34"
            ]
          },
          "metadata": {},
          "execution_count": 94
        }
      ]
    },
    {
      "cell_type": "markdown",
      "metadata": {
        "id": "uF4G-sap8QFS"
      },
      "source": [
        "# Iterating though a DataFrame"
      ]
    },
    {
      "cell_type": "code",
      "metadata": {
        "colab": {
          "base_uri": "https://localhost:8080/"
        },
        "id": "Z9YvgHKz72RP",
        "outputId": "6ebdd418-6356-42bb-fd57-ffd40ed0627f"
      },
      "source": [
        "for indexx,row in employee_records.iterrows():\n",
        "  print(indexx, row,'\\n')"
      ],
      "execution_count": 95,
      "outputs": [
        {
          "output_type": "stream",
          "name": "stdout",
          "text": [
            "0 employee_name         Sam\n",
            "employee_dept    Research\n",
            "employee_id         10001\n",
            "salary            45034.9\n",
            "Name: 0, dtype: object \n",
            "\n",
            "1 employee_name        Max\n",
            "employee_dept         HR\n",
            "employee_id        10002\n",
            "salary           65343.4\n",
            "Name: 1, dtype: object \n",
            "\n",
            "2 employee_name         Tony\n",
            "employee_dept    Marketing\n",
            "employee_id          10003\n",
            "salary             53423.3\n",
            "Name: 2, dtype: object \n",
            "\n",
            "3 employee_name      Sarah\n",
            "employee_dept      Sales\n",
            "employee_id        10004\n",
            "salary           76422.3\n",
            "Name: 3, dtype: object \n",
            "\n",
            "4 employee_name      Tania\n",
            "employee_dept    Finance\n",
            "employee_id        10005\n",
            "salary             58753\n",
            "Name: 4, dtype: object \n",
            "\n",
            "5 employee_name      David\n",
            "employee_dept         IT\n",
            "employee_id        10006\n",
            "salary           34323.4\n",
            "Name: 5, dtype: object \n",
            "\n",
            "6 employee_name       Mark\n",
            "employee_dept         HR\n",
            "employee_id        10007\n",
            "salary           66544.6\n",
            "Name: 6, dtype: object \n",
            "\n",
            "7 employee_name        Alice\n",
            "employee_dept    Marketing\n",
            "employee_id          10008\n",
            "salary             34354.7\n",
            "Name: 7, dtype: object \n",
            "\n",
            "8 employee_name    Charles\n",
            "employee_dept         IT\n",
            "employee_id        10009\n",
            "salary             55235\n",
            "Name: 8, dtype: object \n",
            "\n",
            "9 employee_name        Bob\n",
            "employee_dept    Finance\n",
            "employee_id        10010\n",
            "salary           39078.6\n",
            "Name: 9, dtype: object \n",
            "\n",
            "10 employee_name       Anna\n",
            "employee_dept      Sales\n",
            "employee_id        10011\n",
            "salary           44567.9\n",
            "Name: 10, dtype: object \n",
            "\n"
          ]
        }
      ]
    },
    {
      "cell_type": "markdown",
      "metadata": {
        "id": "SC_zjTYa9enE"
      },
      "source": [
        "# Selecting data containing specific string"
      ]
    },
    {
      "cell_type": "code",
      "metadata": {
        "colab": {
          "base_uri": "https://localhost:8080/",
          "height": 142
        },
        "id": "Wc4xyk7l9dxe",
        "outputId": "d8bd0d70-2af5-4920-9821-6b37ea6c335f"
      },
      "source": [
        "#Select employees whose name contains 'ar' --> Case sensitive\n",
        "employee_records.loc[employee_records.employee_name.str.contains('ar')]\n",
        "# employee_records.loc[employee_records['employee_name'].str.contains('ar')]"
      ],
      "execution_count": 96,
      "outputs": [
        {
          "output_type": "execute_result",
          "data": {
            "text/html": [
              "<div>\n",
              "<style scoped>\n",
              "    .dataframe tbody tr th:only-of-type {\n",
              "        vertical-align: middle;\n",
              "    }\n",
              "\n",
              "    .dataframe tbody tr th {\n",
              "        vertical-align: top;\n",
              "    }\n",
              "\n",
              "    .dataframe thead th {\n",
              "        text-align: right;\n",
              "    }\n",
              "</style>\n",
              "<table border=\"1\" class=\"dataframe\">\n",
              "  <thead>\n",
              "    <tr style=\"text-align: right;\">\n",
              "      <th></th>\n",
              "      <th>employee_name</th>\n",
              "      <th>employee_dept</th>\n",
              "      <th>employee_id</th>\n",
              "      <th>salary</th>\n",
              "    </tr>\n",
              "  </thead>\n",
              "  <tbody>\n",
              "    <tr>\n",
              "      <th>3</th>\n",
              "      <td>Sarah</td>\n",
              "      <td>Sales</td>\n",
              "      <td>10004</td>\n",
              "      <td>76422.34</td>\n",
              "    </tr>\n",
              "    <tr>\n",
              "      <th>6</th>\n",
              "      <td>Mark</td>\n",
              "      <td>HR</td>\n",
              "      <td>10007</td>\n",
              "      <td>66544.60</td>\n",
              "    </tr>\n",
              "    <tr>\n",
              "      <th>8</th>\n",
              "      <td>Charles</td>\n",
              "      <td>IT</td>\n",
              "      <td>10009</td>\n",
              "      <td>55234.96</td>\n",
              "    </tr>\n",
              "  </tbody>\n",
              "</table>\n",
              "</div>"
            ],
            "text/plain": [
              "  employee_name employee_dept  employee_id    salary\n",
              "3         Sarah         Sales        10004  76422.34\n",
              "6          Mark            HR        10007  66544.60\n",
              "8       Charles            IT        10009  55234.96"
            ]
          },
          "metadata": {},
          "execution_count": 96
        }
      ]
    },
    {
      "cell_type": "code",
      "metadata": {
        "colab": {
          "base_uri": "https://localhost:8080/",
          "height": 49
        },
        "id": "CT3bYI2k-Gmy",
        "outputId": "0f739779-0487-4e0b-ba12-8880c47cf75b"
      },
      "source": [
        "#Select employees whose name contains 'ar' --> Case sensitive\n",
        "employee_records.loc[employee_records.employee_name.str.contains('Ar')]\n",
        "# employee_records.loc[employee_records['employee_name'].str.contains('ar')]"
      ],
      "execution_count": 97,
      "outputs": [
        {
          "output_type": "execute_result",
          "data": {
            "text/html": [
              "<div>\n",
              "<style scoped>\n",
              "    .dataframe tbody tr th:only-of-type {\n",
              "        vertical-align: middle;\n",
              "    }\n",
              "\n",
              "    .dataframe tbody tr th {\n",
              "        vertical-align: top;\n",
              "    }\n",
              "\n",
              "    .dataframe thead th {\n",
              "        text-align: right;\n",
              "    }\n",
              "</style>\n",
              "<table border=\"1\" class=\"dataframe\">\n",
              "  <thead>\n",
              "    <tr style=\"text-align: right;\">\n",
              "      <th></th>\n",
              "      <th>employee_name</th>\n",
              "      <th>employee_dept</th>\n",
              "      <th>employee_id</th>\n",
              "      <th>salary</th>\n",
              "    </tr>\n",
              "  </thead>\n",
              "  <tbody>\n",
              "  </tbody>\n",
              "</table>\n",
              "</div>"
            ],
            "text/plain": [
              "Empty DataFrame\n",
              "Columns: [employee_name, employee_dept, employee_id, salary]\n",
              "Index: []"
            ]
          },
          "metadata": {},
          "execution_count": 97
        }
      ]
    },
    {
      "cell_type": "markdown",
      "metadata": {
        "id": "LHoj21Ep_ZxB"
      },
      "source": [
        "# Regular Expression"
      ]
    },
    {
      "cell_type": "code",
      "metadata": {
        "colab": {
          "base_uri": "https://localhost:8080/",
          "height": 204
        },
        "id": "ExW-e4oUAr4O",
        "outputId": "de62bfb5-9af1-488f-e02a-d6415f413c80"
      },
      "source": [
        "employee_records.loc[employee_records.employee_dept.str.contains('ar|i')]"
      ],
      "execution_count": 98,
      "outputs": [
        {
          "output_type": "execute_result",
          "data": {
            "text/html": [
              "<div>\n",
              "<style scoped>\n",
              "    .dataframe tbody tr th:only-of-type {\n",
              "        vertical-align: middle;\n",
              "    }\n",
              "\n",
              "    .dataframe tbody tr th {\n",
              "        vertical-align: top;\n",
              "    }\n",
              "\n",
              "    .dataframe thead th {\n",
              "        text-align: right;\n",
              "    }\n",
              "</style>\n",
              "<table border=\"1\" class=\"dataframe\">\n",
              "  <thead>\n",
              "    <tr style=\"text-align: right;\">\n",
              "      <th></th>\n",
              "      <th>employee_name</th>\n",
              "      <th>employee_dept</th>\n",
              "      <th>employee_id</th>\n",
              "      <th>salary</th>\n",
              "    </tr>\n",
              "  </thead>\n",
              "  <tbody>\n",
              "    <tr>\n",
              "      <th>0</th>\n",
              "      <td>Sam</td>\n",
              "      <td>Research</td>\n",
              "      <td>10001</td>\n",
              "      <td>45034.88</td>\n",
              "    </tr>\n",
              "    <tr>\n",
              "      <th>2</th>\n",
              "      <td>Tony</td>\n",
              "      <td>Marketing</td>\n",
              "      <td>10003</td>\n",
              "      <td>53423.27</td>\n",
              "    </tr>\n",
              "    <tr>\n",
              "      <th>4</th>\n",
              "      <td>Tania</td>\n",
              "      <td>Finance</td>\n",
              "      <td>10005</td>\n",
              "      <td>58753.00</td>\n",
              "    </tr>\n",
              "    <tr>\n",
              "      <th>7</th>\n",
              "      <td>Alice</td>\n",
              "      <td>Marketing</td>\n",
              "      <td>10008</td>\n",
              "      <td>34354.66</td>\n",
              "    </tr>\n",
              "    <tr>\n",
              "      <th>9</th>\n",
              "      <td>Bob</td>\n",
              "      <td>Finance</td>\n",
              "      <td>10010</td>\n",
              "      <td>39078.60</td>\n",
              "    </tr>\n",
              "  </tbody>\n",
              "</table>\n",
              "</div>"
            ],
            "text/plain": [
              "  employee_name employee_dept  employee_id    salary\n",
              "0           Sam      Research        10001  45034.88\n",
              "2          Tony     Marketing        10003  53423.27\n",
              "4         Tania       Finance        10005  58753.00\n",
              "7         Alice     Marketing        10008  34354.66\n",
              "9           Bob       Finance        10010  39078.60"
            ]
          },
          "metadata": {},
          "execution_count": 98
        }
      ]
    }
  ]
}