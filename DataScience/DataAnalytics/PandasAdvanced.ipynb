{
  "nbformat": 4,
  "nbformat_minor": 0,
  "metadata": {
    "colab": {
      "name": "PandasAdvanced-DIY-SV.ipynb",
      "provenance": [],
      "toc_visible": true
    },
    "kernelspec": {
      "name": "python3",
      "display_name": "Python 3"
    }
  },
  "cells": [
    {
      "cell_type": "markdown",
      "metadata": {
        "id": "5TICyPHKEOGg"
      },
      "source": [
        "# Pandas Advanced DIY Assignment"
      ]
    },
    {
      "cell_type": "code",
      "metadata": {
        "id": "Be8o2xmLEbiK"
      },
      "source": [
        "# import required libraries here\n",
        "import numpy as np\n",
        "import pandas as pd"
      ],
      "execution_count": null,
      "outputs": []
    },
    {
      "cell_type": "code",
      "metadata": {
        "id": "xWdPYQAzEHot"
      },
      "source": [
        "# Q1: Define the student record Dataframe used in the Pandas DIY assignment\n",
        "# make sure your column name follows the following convention:\n",
        "# ['student_id', 'student_name', 'student_age', 'student_gender', 'student_course']\n"
      ],
      "execution_count": null,
      "outputs": []
    },
    {
      "cell_type": "code",
      "metadata": {
        "id": "DJMivUWkEzV1"
      },
      "source": [
        "# Q2: print information, shape and rank\n"
      ],
      "execution_count": null,
      "outputs": []
    },
    {
      "cell_type": "code",
      "metadata": {
        "id": "2OVC6qlzKM0w"
      },
      "source": [
        "# Q3: add NaN for Diann and Erich's age \n",
        "# and Martin and Linda's student course\n"
      ],
      "execution_count": null,
      "outputs": []
    },
    {
      "cell_type": "code",
      "metadata": {
        "id": "V6iBniJpRD_z"
      },
      "source": [
        "# Q4: Count the number of non-NA observations for each column\n"
      ],
      "execution_count": null,
      "outputs": []
    },
    {
      "cell_type": "code",
      "metadata": {
        "id": "q3UJ0i_LKpYd"
      },
      "source": [
        "# Q5: Drop all rows with missing values (make sure its not inplace)\n"
      ],
      "execution_count": null,
      "outputs": []
    },
    {
      "cell_type": "code",
      "metadata": {
        "id": "gobQdJ3wLMST"
      },
      "source": [
        "# Q6: Drop only rows with missing values for student course (make sure its not inplace)\n"
      ],
      "execution_count": null,
      "outputs": []
    },
    {
      "cell_type": "code",
      "metadata": {
        "id": "XAAHqVELLS3f"
      },
      "source": [
        "# Q7: fill missing student ages with suitable value\n",
        "# justify choice of your replacement value\n",
        "# this can be inplace\n"
      ],
      "execution_count": null,
      "outputs": []
    },
    {
      "cell_type": "code",
      "metadata": {
        "id": "3dPcUPDqMyxg"
      },
      "source": [
        "# Q8: Deal with the missing values in student_course\n",
        "# justify the reason behind your choice\n"
      ],
      "execution_count": null,
      "outputs": []
    },
    {
      "cell_type": "code",
      "metadata": {
        "id": "LoLLbpkPULvg"
      },
      "source": [
        "# Q9: Add a new column \"student_marks\" with the following values\n",
        "77,57,74,64,59,63,67,91,79,83\n"
      ],
      "execution_count": null,
      "outputs": []
    },
    {
      "cell_type": "code",
      "metadata": {
        "id": "Qe320azdNrjq"
      },
      "source": [
        "# Q10: print the average age and marks of all students\n"
      ],
      "execution_count": null,
      "outputs": []
    },
    {
      "cell_type": "code",
      "metadata": {
        "id": "d7Hbj3x5UdWp"
      },
      "source": [
        "# Q11: find the maximum marks and student's name\n"
      ],
      "execution_count": null,
      "outputs": []
    },
    {
      "cell_type": "code",
      "metadata": {
        "id": "PdYS4ZLhVTms"
      },
      "source": [
        "# Q12: find the range of student's age\n"
      ],
      "execution_count": null,
      "outputs": []
    },
    {
      "cell_type": "code",
      "metadata": {
        "id": "or9ciddbOQR9"
      },
      "source": [
        "# Q13: write your current data frame to a csv file \n"
      ],
      "execution_count": null,
      "outputs": []
    },
    {
      "cell_type": "code",
      "metadata": {
        "id": "J2h6w-SgPtm7"
      },
      "source": [
        "# Q14: read from the csv file saved in previous step and make sure you have exactly\n",
        "# the same dataframe as previously\n"
      ],
      "execution_count": null,
      "outputs": []
    },
    {
      "cell_type": "code",
      "metadata": {
        "id": "jY6JbQh-S9ww"
      },
      "source": [
        "# Q15: Add a new column \"student_hobbies\" with the following values\n",
        "'Gaming','Dancing','Sports','Dancing', 'Traveling', 'Gaming', 'Sports', 'Sports', 'Traveling','Dancing'\n"
      ],
      "execution_count": null,
      "outputs": []
    },
    {
      "cell_type": "code",
      "metadata": {
        "id": "Lukl614zQtjF"
      },
      "source": [
        "# Q16: group based on student's course\n"
      ],
      "execution_count": null,
      "outputs": []
    },
    {
      "cell_type": "code",
      "metadata": {
        "id": "z4M9tJJtVWVE"
      },
      "source": [
        "# Q17: group student by their hobby and their course type\n"
      ],
      "execution_count": null,
      "outputs": []
    },
    {
      "cell_type": "code",
      "metadata": {
        "id": "3AHCkPqIVjBK"
      },
      "source": [
        "# Q18: find the standard deviation of the marks for students whose hobby is Sports\n"
      ],
      "execution_count": null,
      "outputs": []
    },
    {
      "cell_type": "markdown",
      "metadata": {
        "id": "dO3aLB6DKSlw"
      },
      "source": [
        "#########################################"
      ]
    },
    {
      "cell_type": "markdown",
      "metadata": {
        "id": "IKEZOG_MX8IU"
      },
      "source": [
        "# Pivot, Concat and Stack etc."
      ]
    },
    {
      "cell_type": "markdown",
      "metadata": {
        "id": "gJGdBFbZYD6D"
      },
      "source": [
        "Download the two excel files from here"
      ]
    },
    {
      "cell_type": "code",
      "metadata": {
        "id": "uXMA_4nrV2U_"
      },
      "source": [
        "# Q19: read the two csv files\n"
      ],
      "execution_count": null,
      "outputs": []
    },
    {
      "cell_type": "code",
      "metadata": {
        "id": "1z3u0S66Y_JX"
      },
      "source": [
        "# Q20: read the two csv files\n"
      ],
      "execution_count": null,
      "outputs": []
    },
    {
      "cell_type": "code",
      "metadata": {
        "id": "DkNaTPnmYJKw"
      },
      "source": [
        "# Q21: concat them into a single dataframe (outer join)\n"
      ],
      "execution_count": null,
      "outputs": []
    },
    {
      "cell_type": "code",
      "metadata": {
        "id": "TTR-ZFoiYaIm"
      },
      "source": [
        "# Q22: concat them into a single dataframe (inner join)"
      ],
      "execution_count": null,
      "outputs": []
    },
    {
      "cell_type": "markdown",
      "metadata": {
        "id": "RZXWV2UCZwQP"
      },
      "source": [
        "## Pivoting"
      ]
    },
    {
      "cell_type": "code",
      "metadata": {
        "id": "5BMx7ZARZwWc"
      },
      "source": [
        "# Q23: pivot using city column as index and column set to date\n"
      ],
      "execution_count": null,
      "outputs": []
    },
    {
      "cell_type": "code",
      "metadata": {
        "id": "ZMf3kpGgZ7AP"
      },
      "source": [
        "# Q24: add a column with the mean temperature for each city over the 5 days\n"
      ],
      "execution_count": null,
      "outputs": []
    },
    {
      "cell_type": "code",
      "metadata": {
        "id": "g7p6sLDYb1e0"
      },
      "source": [
        "# Q25: Use melt to get back the original dataframe structure from the pivoted one\n",
        "# City, date and temperature\n",
        "# you can sort the city values in ascending form"
      ],
      "execution_count": null,
      "outputs": []
    }
  ]
}